{
 "cells": [
  {
   "cell_type": "markdown",
   "metadata": {},
   "source": [
    "# Notes on linux in the year of 2018\n",
    "\n",
    "\n",
    "** Author: Yue-Wen FANG ** \n",
    "\n",
    "** Contact: fyuewen@gmail.com  ** \n",
    "\n",
    "** Revision history: created in 11th, January, at Kyoto ** "
   ]
  },
  {
   "cell_type": "markdown",
   "metadata": {
    "collapsed": true
   },
   "source": [
    "## 1. About texlive in linux\n",
    "\n",
    "After installing texlive into your linux system, you may still have problem when compling tex files (for example, when compling the manuscript for American Physica Society, I got this error: `revtex4-1.cls' not found. In avoid of this error, just install the texlive-publishers. Although it's a little bit large, but it's quite useful.\n",
    "\n",
    "In Ubuntu, jsut type:\n",
    "\n",
    "sudo apt-get install texlive-publishers\n",
    "\n"
   ]
  },
  {
   "cell_type": "markdown",
   "metadata": {},
   "source": [
    "## 2. the solution of 'cannot change locale (UTF-8): No such file or directory'\n",
    "\n",
    "Linux (what I mean here is Ubuntu) warning: setlocale: LC_CTYPE: cannot change locale (UTF-8): No such file or directory\n",
    "\n",
    "\n",
    "sudo vi /etc/environment\n",
    "\n",
    "add these lines...\n",
    "\n",
    "LANG=en_US.utf-8\n",
    "LC_ALL=en_US.utf-8"
   ]
  },
  {
   "cell_type": "code",
   "execution_count": null,
   "metadata": {},
   "outputs": [],
   "source": []
  }
 ],
 "metadata": {
  "kernelspec": {
   "display_name": "Python 3",
   "language": "python",
   "name": "python3"
  },
  "language_info": {
   "codemirror_mode": {
    "name": "ipython",
    "version": 3
   },
   "file_extension": ".py",
   "mimetype": "text/x-python",
   "name": "python",
   "nbconvert_exporter": "python",
   "pygments_lexer": "ipython3",
   "version": "3.6.3"
  }
 },
 "nbformat": 4,
 "nbformat_minor": 1
}
