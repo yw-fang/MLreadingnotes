{
 "cells": [
  {
   "cell_type": "markdown",
   "metadata": {},
   "source": [
    "# Notes on linux in the year of 2018\n",
    "\n",
    "\n",
    "** Author: Yue-Wen FANG ** \n",
    "\n",
    "** Contact: fyuewen@gmail.com  ** \n",
    "\n",
    "** Revision history: created in 11th, January, at Kyoto ** "
   ]
  },
  {
   "cell_type": "markdown",
   "metadata": {
    "collapsed": true
   },
   "source": [
    "## 1. About texlive in linux\n",
    "\n",
    "After installing texlive into your linux system, you may still have problem when compling tex files (for example, when compling the manuscript for American Physica Society, I got this error: `revtex4-1.cls' not found. In avoid of this error, just install the texlive-publishers. Although it's a little bit large, but it's quite useful.\n",
    "\n",
    "In Ubuntu, jsut type:\n",
    "\n",
    "sudo apt-get install texlive-publishers\n",
    "\n"
   ]
  },
  {
   "cell_type": "code",
   "execution_count": null,
   "metadata": {},
   "outputs": [],
   "source": []
  }
 ],
 "metadata": {
  "kernelspec": {
   "display_name": "Python 2",
   "language": "python",
   "name": "python2"
  },
  "language_info": {
   "codemirror_mode": {
    "name": "ipython",
    "version": 2
   },
   "file_extension": ".py",
   "mimetype": "text/x-python",
   "name": "python",
   "nbconvert_exporter": "python",
   "pygments_lexer": "ipython2",
   "version": "2.7.6"
  }
 },
 "nbformat": 4,
 "nbformat_minor": 0
}
