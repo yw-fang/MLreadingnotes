{
 "cells": [
  {
   "cell_type": "markdown",
   "metadata": {},
   "source": [
    "# Notes on linux\n",
    "\n",
    "This is a simple note, I don't have clear index to arrage the content in this note. I just take the notes which I may be easy forget."
   ]
  },
  {
   "cell_type": "markdown",
   "metadata": {},
   "source": [
    "** Author: Yue-Wen FANG ** \n",
    "\n",
    "** Contact: fyuewen@gmail.com  ** \n",
    "\n",
    "** Revision history: created in 16th, December 2017, at Kyoto ** \n"
   ]
  },
  {
   "cell_type": "markdown",
   "metadata": {},
   "source": [
    "## 1. 配置ssh连接\n",
    "\n",
    "Professionally speaking, it's better to use a English title: Configure Custom Connection Options for your SSH Client\n",
    "\n"
   ]
  },
  {
   "cell_type": "markdown",
   "metadata": {},
   "source": [
    "### Generating a new SSH key\n",
    "\n",
    "\n",
    "On github help webpage (see [Ref1](https://help.github.com/articles/generating-a-new-ssh-key-and-adding-it-to-the-ssh-agent/)), there is a simple introduction on generating the ssh key pairs."
   ]
  },
  {
   "cell_type": "markdown",
   "metadata": {},
   "source": [
    "Open your terminal (no matter it is on Cygwin or Linux or Wingw or any other virtual linux systems):"
   ]
  },
  {
   "cell_type": "markdown",
   "metadata": {},
   "source": [
    "> ssh-keygen -t rsa -b 4096 -C \"your_email@example.com\"\n",
    "> #This creates a new ssh key, using the provided email as a label."
   ]
  },
  {
   "cell_type": "markdown",
   "metadata": {},
   "source": [
    "Beforing reading my note, I think you could have see kygen command like"
   ]
  },
  {
   "cell_type": "markdown",
   "metadata": {},
   "source": [
    "> ssh-keygen -t rsa -b 2048 -C \"your_email@example.com\""
   ]
  },
  {
   "cell_type": "markdown",
   "metadata": {},
   "source": [
    "The only difference is the bit we use. It determines the length of the generated kyes. You can use either on your favor.\n"
   ]
  },
  {
   "cell_type": "markdown",
   "metadata": {},
   "source": [
    "When you're prompted to \"Enter a file in which to save the key,\" press Enter. This accepts the default file location."
   ]
  },
  {
   "cell_type": "markdown",
   "metadata": {},
   "source": [
    "> Enter a file in which to save the key (/Users/you/.ssh/id_rsa): [Press enter]\n",
    "\n",
    "> #you can also use a new address, like /Users/you/.ssh/id_rsa.cluster"
   ]
  },
  {
   "cell_type": "markdown",
   "metadata": {},
   "source": [
    "At the prompt, type a secure passphrase. (usually I just Press enter)"
   ]
  },
  {
   "cell_type": "markdown",
   "metadata": {},
   "source": [
    "### Adding your SSH key to the ssh-agent"
   ]
  },
  {
   "cell_type": "markdown",
   "metadata": {},
   "source": [
    "Start the ssh-agent in the background."
   ]
  },
  {
   "cell_type": "markdown",
   "metadata": {},
   "source": [
    "> eval \"$(ssh-agent -s)\"\n",
    "> #THIS COMMAND WILL SHOW YOU AS \"Agent pid 59566\"\n"
   ]
  },
  {
   "cell_type": "markdown",
   "metadata": {},
   "source": [
    "Add your SSH private key to the ssh-agent. If you created your key with a different name, or if you are adding an existing key that has a different name, replace id_rsa in the command with the name of your private key file."
   ]
  },
  {
   "cell_type": "markdown",
   "metadata": {},
   "source": [
    ">ssh-add ~/.ssh/id_rsa"
   ]
  },
  {
   "cell_type": "markdown",
   "metadata": {},
   "source": [
    "## 2. Add your public key to github\n",
    "\n",
    "You can copy the content in ~/.ssh/id_rsa to your github (setting-> SSH and GPG keys->New SSH key or Add SSH key). Then you can use git push without inputing the password.\n"
   ]
  },
  {
   "cell_type": "markdown",
   "metadata": {},
   "source": [
    "## 3. Specify a key pair?\n",
    "\n",
    "Sometimes you may have several different key pairs (that means you have several id_rsa files like id_rsa.home id_rsa.work), and you want to use them in some specific conditions, what should we do?\n",
    "\n",
    "We can use the config file in ~/.ssh, if you don't find it, just create this config file.\n",
    "\n",
    "You can folow this guide to set up your config file (see [Ref2](https://superuser.com/questions/232373/how-to-tell-git-which-private-key-to-use) or [Ref3](https://www.keybits.net/post/automatically-use-correct-ssh-key-for-remote-git-repo/))\n",
    "\n",
    "If you know Chinese, you can also read there blogs in which the authors showed their thoughts on config file:\n",
    "\n",
    "http://blog.csdn.net/u013647382/article/details/47832559\n",
    "\n",
    "http://dhq.me/use-ssh-config-manage-ssh-session\n",
    "\n",
    "https://www.hi-linux.com/posts/14346.html"
   ]
  },
  {
   "cell_type": "code",
   "execution_count": null,
   "metadata": {},
   "outputs": [],
   "source": []
  }
 ],
 "metadata": {
  "kernelspec": {
   "display_name": "Python 3",
   "language": "python",
   "name": "python3"
  },
  "language_info": {
   "codemirror_mode": {
    "name": "ipython",
    "version": 3
   },
   "file_extension": ".py",
   "mimetype": "text/x-python",
   "name": "python",
   "nbconvert_exporter": "python",
   "pygments_lexer": "ipython3",
   "version": "3.6.3"
  }
 },
 "nbformat": 4,
 "nbformat_minor": 2
}
