{
 "cells": [
  {
   "cell_type": "markdown",
   "metadata": {},
   "source": [
    "# A guide to Feynman diagrams in the many-body problem\n",
    "\n",
    "# Chapter 0  The many-body problem for everybody\n",
    "\n",
    "In order to help myself remember these notes easily, I gave up writing in English, and choose to use my mother language-Chinese. \n",
    "\n",
    "为了帮助我自己记忆，我放弃了使用英文，而换之以母语中文。然而，为了使得他人阅读我笔记的方便，人名和专有名词，我尽量都只会以英文的方式给出。\n",
    "\n",
    "多体问题的重要性是不言而喻的，因为在真实的物理系统中，几乎所有系统都由各种相互作用的粒子所构成。\n",
    "\n",
    "多提问题的求解是极其困难的，因为在相互作用系统中，粒子间的相互作用是惊人地错综复杂。由于多体系统的复杂性，在过去很长时间内，都没有非常巨大的进展。实际上，为了解决多提问题，实际上常用的方法就是‘忽略它’，对，就是如此简单粗暴，但是it works well for many problems.\n",
    "\n",
    "另外一种在多体问题研究早期就出现，并且时至今日仍然在使用的方法是规范变换’canonical transformation‘技术。在补充材料 Appedix 中，讨论了这种方法。"
   ]
  },
  {
   "cell_type": "markdown",
   "metadata": {},
   "source": []
  },
  {
   "cell_type": "code",
   "execution_count": null,
   "metadata": {},
   "outputs": [],
   "source": []
  }
 ],
 "metadata": {
  "kernelspec": {
   "display_name": "Python 3",
   "language": "python",
   "name": "python3"
  },
  "language_info": {
   "codemirror_mode": {
    "name": "ipython",
    "version": 3
   },
   "file_extension": ".py",
   "mimetype": "text/x-python",
   "name": "python",
   "nbconvert_exporter": "python",
   "pygments_lexer": "ipython3",
   "version": "3.6.3"
  }
 },
 "nbformat": 4,
 "nbformat_minor": 2
}
