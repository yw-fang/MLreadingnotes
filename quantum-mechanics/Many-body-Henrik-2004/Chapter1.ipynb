{
 "cells": [
  {
   "cell_type": "markdown",
   "metadata": {},
   "source": [
    "# Many-body quantum theory in condensed matter physics\n",
    "\n",
    "# Chapter 1 First and second quantization\n",
    "\n",
    "In order to help myself remember these notes easily, I gave up writing in English, and choose to use my mother language-Chinese. \n",
    "\n",
    "为了帮助我自己记忆，我放弃了使用英文，而换之以母语中文。然而，为了使得他人阅读我笔记的方便，人名和专有名词，我尽量都只会以英文的方式给出。\n",
    "\n",
    "量子物理最初只处理在经典电磁场中粒子的运动的量子化问题, 即量子力学 (Heisenberg，Schr$\\ddot{ \\mathrm o}$dinger, Drac, 1925-26). 之后, 电磁场本身也引入了量子化概念 (Dirac, 1927). Jordan 和 Wignar 于1928年进一步提出粒子本身也可以被量子化的场所表示，从而促进了量子电动力学（Quantum electrodynamics, QED）和量子场论（Quantum field theory, QFT）的发展。按照惯例，量子力学的最初形式（即 Schr$\\ddot{ \\mathrm o}$dinger 方程）被定义为一次量子化, 而量子场论则被定义为二次量子化.\n",
    "\n",
    "量子理论中假定所有的量子态都可以表示为希尔伯特空间(Hilbert space) 中的态矢 (sate vector), 并且所有的可观测量都可以表示为作用在该空间上的厄米算符 (Hermitian operator). 平行的态矢代表相同的物理性质，并且我们通常处理的是归一化的态矢. 对于给定的任意 Hermitian operation $A$, 它都有许多个本征值 |${\\varphi_\\alpha}$>，并且做用于这些本征值上的 scale factor $\\alpha$ 是不变的，即 $A$|${\\varphi_\\alpha}$> = $\\alpha$ |${\\varphi_\\alpha}$>. 这些 scale factor 本称作本征值的算符. 这其实是 Hilbert space theory中的一个基本原理 (theorem), 即任意给定的 Hermitian 算符的一整套本征矢 (eiganvectors) 组成了该 Hilber space 中的完备基矢 (a\n",
    "complete basis set). 一般而言，两个不同算符 $A$ 和 $B$, 其对应的本征态 (eiganstates) |${\\varphi_\\alpha}$> 和 |${\\varphi_\\beta}$> 是不同的. 对类型 $B$ 的测量所得到的量子态肯定是算符 $B$ 的一个本征态 |${\\varphi_\\beta}$>. 这个态也可以表示为算符 $A$ 的本征态 |${\\varphi_\\alpha}$> 的叠加 （superposition): |${\\varphi_\\beta}$> = ${\\sum_\\alpha}$ |${\\varphi_\\alpha}$> ${C_{\\alpha\\beta}}$. 在这个状态时，当我们去实际测量算符 $A$ 涉及到的动力学变量时 (dynamical variables), 我们（一般）不能确定地预测出所得到的结果一定是某个本征值，而只能用一定的概率来描述得到这些本征值的可能性。对于任意的本征态 |${\\varphi_\\alpha}$>，它可能作为测量结果的概率是 |${C_{\\alpha\\beta}}$|$^2$. 量子理论中的这种非因果性因此也被称作波函数的坍缩 (wave function collapse). \n",
    "\n",
    "有意思的是，在坍缩事件之间，量子态的时间演变 (time evolution) 是可以被完美确定的。一个本征矢 |${\\varphi(t)}$> 的时间演化是被量子力学的中心算符, 即哈密顿量算符 Hamiltonian $H$， 通过 Schr${\\ddot{\\mathrm o}}$dinger equation 所掌控的：\n",
    "\n",
    "\\begin{equation} i\\hslash \\partial_t|\\varphi(t) = H|\\varphi(t)> \\end{equation}"
   ]
  },
  {
   "cell_type": "markdown",
   "metadata": {},
   "source": []
  },
  {
   "cell_type": "code",
   "execution_count": null,
   "metadata": {},
   "outputs": [],
   "source": []
  }
 ],
 "metadata": {
  "kernelspec": {
   "display_name": "Python 3",
   "language": "python",
   "name": "python3"
  },
  "language_info": {
   "codemirror_mode": {
    "name": "ipython",
    "version": 3
   },
   "file_extension": ".py",
   "mimetype": "text/x-python",
   "name": "python",
   "nbconvert_exporter": "python",
   "pygments_lexer": "ipython3",
   "version": "3.6.3"
  }
 },
 "nbformat": 4,
 "nbformat_minor": 2
}
