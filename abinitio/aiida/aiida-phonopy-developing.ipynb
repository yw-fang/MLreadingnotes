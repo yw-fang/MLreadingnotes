{
 "cells": [
  {
   "cell_type": "markdown",
   "metadata": {},
   "source": [
    "# Aiida-phonopy developing notes"
   ]
  },
  {
   "cell_type": "markdown",
   "metadata": {},
   "source": [
    "## merge remote branch to the local branch"
   ]
  },
  {
   "cell_type": "code",
   "execution_count": null,
   "metadata": {},
   "outputs": [],
   "source": [
    "cd aiida-phonopy-fyw\n",
    "\n",
    "git checkout -b development  #switch to the development\n",
    "\n",
    "git remote add upstream https://github.com/abelcarreras/aiida-phonopy.git  # add Abel's repo as upstream\n",
    "\n",
    "git fetch upstream  # fetch the upstream, pull in the latest changes from upstream\n",
    "\n",
    "git push origin upstream/development:development  # push tracking branch upsteram/development to origin/development\n",
    "    \n",
    "    #ref: Git merge upstream branch, stackoverflow 38583600"
   ]
  },
  {
   "cell_type": "markdown",
   "metadata": {},
   "source": [
    "## "
   ]
  }
 ],
 "metadata": {
  "kernelspec": {
   "display_name": "Python 3",
   "language": "python",
   "name": "python3"
  },
  "language_info": {
   "codemirror_mode": {
    "name": "ipython",
    "version": 3
   },
   "file_extension": ".py",
   "mimetype": "text/x-python",
   "name": "python",
   "nbconvert_exporter": "python",
   "pygments_lexer": "ipython3",
   "version": "3.6.3"
  }
 },
 "nbformat": 4,
 "nbformat_minor": 2
}
