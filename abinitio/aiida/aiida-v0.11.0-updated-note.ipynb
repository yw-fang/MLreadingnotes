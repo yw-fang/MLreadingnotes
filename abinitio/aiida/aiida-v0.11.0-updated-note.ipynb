{
 "cells": [
  {
   "cell_type": "markdown",
   "metadata": {},
   "source": [
    "# Aiida and the aiida-plugins\n",
    "\n",
    "## 1. aiida-v0.11.0 installation (released in Jan 2018)\n",
    "\n",
    "aiida-v0.11.0 was released in Jan, 2018, hence I removed the previous v0.10.0 in my mac, and installed v0.11.0.\n",
    "\n",
    "In the following, I'll show how to install it and other aiida-plugins in a mac os."
   ]
  },
  {
   "cell_type": "markdown",
   "metadata": {},
   "source": [
    "### 1.1 set up a virtual environment for aiida running"
   ]
  },
  {
   "cell_type": "code",
   "execution_count": null,
   "metadata": {
    "collapsed": true
   },
   "outputs": [],
   "source": [
    "conda create -n aiida python=2.7 #set a veritual environment"
   ]
  },
  {
   "cell_type": "code",
   "execution_count": null,
   "metadata": {
    "collapsed": true
   },
   "outputs": [],
   "source": [
    "conda activate aiida\n",
    "#sometimes in mac, such a command might be requested\n",
    "sudo ln -s /Users/ywfang/miniconda3/etc/profile.d/conda.sh /etc/profile.d/conda.sh"
   ]
  },
  {
   "cell_type": "code",
   "execution_count": null,
   "metadata": {
    "collapsed": true
   },
   "outputs": [],
   "source": [
    "conda install postgresql"
   ]
  },
  {
   "cell_type": "markdown",
   "metadata": {},
   "source": [
    "### 1.2 install aiida_core of epfl version"
   ]
  },
  {
   "cell_type": "markdown",
   "metadata": {},
   "source": [
    "Now, we need download the aiida_core v0.11.0 and put it in the folder you like. For me, the directory of the aiida_core is '/Users/ywfang/FANG/study/software/all-aiida'"
   ]
  },
  {
   "cell_type": "code",
   "execution_count": null,
   "metadata": {
    "collapsed": true
   },
   "outputs": [],
   "source": [
    "git clone git@github.com:aiidateam/aiida_core.git"
   ]
  },
  {
   "cell_type": "code",
   "execution_count": null,
   "metadata": {
    "collapsed": true
   },
   "outputs": [],
   "source": [
    "cd aiida_core"
   ]
  },
  {
   "cell_type": "code",
   "execution_count": null,
   "metadata": {
    "collapsed": true
   },
   "outputs": [],
   "source": [
    "git checkout -b v0.11.0"
   ]
  },
  {
   "cell_type": "code",
   "execution_count": null,
   "metadata": {
    "collapsed": true
   },
   "outputs": [],
   "source": [
    "pip install . \n",
    "#make sure that you have pip, if it is not available,\n",
    "#use 'conda install pip'"
   ]
  },
  {
   "cell_type": "code",
   "execution_count": null,
   "metadata": {
    "collapsed": true
   },
   "outputs": [],
   "source": [
    "#then have a try to see whether it works\n",
    "veri quicksetup"
   ]
  },
  {
   "cell_type": "markdown",
   "metadata": {},
   "source": [
    "You can use ctrl-C to stop this \"verdi quicksetup\" process if you don't want to continue. For me, I was trapped into a cycled program like"
   ]
  },
  {
   "cell_type": "raw",
   "metadata": {},
   "source": [
    "(aiida) h44:all-aiida ywfang$ verdi quicksetup\n",
    "Profile name [quicksetup]: aiida1\n",
    "Email Address (identifies your data when sharing): fyuewen@gmail.com\n",
    "First Name: Yuewen\n",
    "Last Name: FANG\n",
    "Institution: KyotoUniv\n",
    "Password:\n",
    "Detected no known postgres setup, some information is needed to create the aiida database and grant aiida access to it.\n",
    "If you feel unsure about the following parameters, first check if postgresql is installed.\n",
    "If postgresql is not installed please exit and install it, then run verdi quicksetup again.\n",
    "If postgresql is installed, please ask your system manager to provide you with the following parameters:\n",
    "postgres host [localhost]:  \n",
    "postgres port [5432]: \n",
    "template [template1]: \n",
    "postgres super user [postgres]: \n",
    "\n",
    "trying to access postgres..\n",
    "postgres password of postgres []: \n",
    "postgres host [localhost]: \n",
    "postgres port [5432]: \n",
    "template [template1]: \n",
    "postgres super user [postgres]: \n",
    "\n",
    "trying to access postgres..\n",
    "postgres password of postgres []: \n",
    "postgres host [localhost]: \n",
    "postgres port [5432]: \n",
    "template [template1]: \n",
    "postgres super user [postgres]: \n",
    "\n",
    "trying to access postgres..\n",
    "postgres password of postgres []: \n",
    "postgres host [localhost]: \n",
    "postgres port [5432]: \n",
    "template [template1]: \n",
    "postgres super user [postgres]: \n",
    "\n",
    "trying to access postgres..\n",
    "postgres password of postgres []: \n",
    "postgres host [localhost]: \n",
    "postgres port [5432]: \n",
    "template [template1]: \n",
    "postgres super user [postgres]: \n",
    "\n",
    "trying to access postgres..\n",
    "postgres password of postgres []: \n",
    "postgres host [localhost]: \n",
    "postgres port [5432]: \n",
    "template [template1]: \n",
    "postgres super user [postgres]: \n",
    "....\n",
    "....\n",
    "...."
   ]
  },
  {
   "cell_type": "markdown",
   "metadata": {},
   "source": [
    "### 1.3 postgresql settings"
   ]
  },
  {
   "cell_type": "markdown",
   "metadata": {},
   "source": [
    "As you can see in the last section, obvisouly it had a problem related to the postgres, hence in this morning, I talked to Abel, and finally solved this problem. This problem might come from that we didn't set anything for the postgres. (For the aiida version 0.10.0, I didn't have this problem. We can configure the database after 'verdi quciksetup'. However, if you are using the v0.11.0, just follow my subsequent operations)\n",
    "\n",
    "Actually, aiida website has already displayed some content on the database: https://aiida-core.readthedocs.io/en/latest/installation/database.html"
   ]
  },
  {
   "cell_type": "raw",
   "metadata": {},
   "source": [
    "h44:all-aiida ywfang$ brew services restart postgresql\n",
    "==> Tapping homebrew/services\n",
    "Cloning into '/usr/local/Homebrew/Library/Taps/homebrew/homebrew-services'...\n",
    "remote: Counting objects: 14, done.\n",
    "remote: Compressing objects: 100% (10/10), done.\n",
    "remote: Total 14 (delta 0), reused 9 (delta 0), pack-reused 0\n",
    "Unpacking objects: 100% (14/14), done.\n",
    "Tapped 0 formulae (43 files, 55.4KB)\n",
    "==> Successfully started `postgresql` (label: homebrew.mxcl.postgresql)\n",
    "\n",
    "h44:all-aiida ywfang$ psql postgres\n",
    "psql (10.1)\n",
    "Type \"help\" for help.\n",
    "\n",
    "postgres=# ALTER USER postgres PASSWORD '123456';\n",
    "ERROR:  role \"postgres\" does not exist\n",
    "postgres=# ALTER USER postgres PASSWORD '123456' template1\n",
    "postgres-# ;\n",
    "ERROR:  unrecognized role option \"template1\"\n",
    "LINE 1: ALTER USER postgres PASSWORD '123456' template1\n",
    "                                              ^\n",
    "postgres=# CREATE ROLE postgres;\n",
    "CREATE ROLE\n",
    "postgres=# ALTER USER postgres PASSWORD '123456';\n",
    "ALTER ROLE\n",
    "postgres=# ALTER USER postgres with superuser;\n",
    "ALTER ROLE\n",
    "postgres=# \\q\n",
    "\n",
    "h44:all-aiida ywfang$ psql \n",
    "psql: FATAL:  database \"ywfang\" does not exist\n",
    "h44:all-aiida ywfang$ psql postgres\n",
    "psql (10.1)\n",
    "Type \"help\" for help.\n",
    "\n",
    "postgres-# \\q\n",
    "h44:all-aiida ywfang$ \n"
   ]
  },
  {
   "cell_type": "markdown",
   "metadata": {},
   "source": [
    "Now, let's go back to 'verdi quciksetup'"
   ]
  },
  {
   "cell_type": "raw",
   "metadata": {},
   "source": [
    "(aiida) h44:all-aiida ywfang$ verdi quicksetup\n",
    "Profile name [quicksetup]: aiida1\n",
    "Email Address (identifies your data when sharing): fyuewen@gmail.com\n",
    "First Name: YW\n",
    "Last Name: FANG\n",
    "Institution: KU\n",
    "Executing now a migrate command...\n",
    "...for Django backend\n",
    "Operations to perform:\n",
    "  Apply all migrations: contenttypes, db, sites, auth, sessions\n",
    "Running migrations:\n",
    "  Applying contenttypes.0001_initial... OK\n",
    "  Applying auth.0001_initial... OK\n",
    "  Applying db.0001_initial... OK\n",
    "  Applying db.0002_db_state_change... OK\n",
    "  Applying db.0003_add_link_type... OK\n",
    "  Applying db.0004_add_daemon_and_uuid_indices... OK\n",
    "  Applying db.0005_add_cmtime_indices... OK\n",
    "  Applying db.0006_delete_dbpath... OK\n",
    "  Applying db.0007_update_linktypes... OK\n",
    "  Applying sessions.0001_initial... OK\n",
    "  Applying sites.0001_initial... OK\n",
    "Database was created successfully\n",
    "Loading new environment...\n",
    "Installing default AiiDA user...\n",
    "Starting user configuration for fyuewen@gmail.com...\n",
    "Configuring a new user with email 'fyuewen@gmail.com'\n",
    ">> User YW FANG saved. <<\n",
    "** NOTE: no password set for this user, \n",
    "         so he/she will not be able to login\n",
    "         via the REST API and the Web Interface.\n",
    "Setup finished.\n"
   ]
  },
  {
   "cell_type": "markdown",
   "metadata": {},
   "source": [
    "Run 'verdi daemon start', the computer will remind you that you haven't set up the daemon user, then just follow it (As you will see below, I use my email address as the default user)."
   ]
  },
  {
   "cell_type": "raw",
   "metadata": {},
   "source": [
    "\n",
    "(aiida) h44:all-aiida ywfang$ verdi daemon start\n",
    "You are not the daemon user! I will not start the daemon.\n",
    "(The daemon user is 'aiida@localhost', you are 'fyuewen@gmail.com')\n",
    "\n",
    "** FOR ADVANCED USERS ONLY: **\n",
    "To change the current default user, use 'verdi install --only-config'\n",
    "To change the daemon user, use 'verdi daemon configureuser'\n",
    "(aiida) h44:all-aiida ywfang$ verdi daemon configureuser\n",
    "> Current default user: fyuewen@gmail.com\n",
    "> Currently configured user who can run the daemon: aiida@localhost\n",
    "  (therefore, you cannot run the daemon, at the moment)\n",
    "****************************************************************************\n",
    "* WARNING! Change this setting only if you are sure of what you are doing. *\n",
    "* Moreover, make sure that the daemon is stopped.                          *\n",
    "****************************************************************************\n",
    "Are you really sure that you want to change the daemon user? [y/N] y\n",
    "\n",
    "Enter below the email of the new user who can run the daemon.\n",
    "New daemon user: fyuewen@gmail.com\n",
    "The new user that can run the daemon is now YW FANG.\n",
    "(aiida) h44:all-aiida ywfang$ verdi daemon start\n",
    "Clearing all locks ...\n",
    "Starting AiiDA Daemon (log file: /Users/ywfang/.aiida/daemon/log/celery.log)...\n",
    "Re-initializing workflow stepper stop timestamp\n",
    "Daemon started"
   ]
  },
  {
   "cell_type": "markdown",
   "metadata": {},
   "source": [
    "Please check the status of daemon:"
   ]
  },
  {
   "cell_type": "code",
   "execution_count": null,
   "metadata": {
    "collapsed": true
   },
   "outputs": [],
   "source": [
    "(aiida) h44:all-aiida ywfang$ verdi daemon status\n",
    "# Most recent daemon timestamp:0h:00m:06s ago\n",
    "Daemon is running as pid 15885 since 2018-01-19 11:38:47.813955, child processes:\n",
    "   * python2.7[15892]    running, started at 2018-01-19 11:38:48\n",
    "   * python2.7[15893]    running, started at 2018-01-19 11:38:48\n",
    "   * python2.7[15894]    running, started at 2018-01-19 11:38:48\n",
    "   * python2.7[15895]    running, started at 2018-01-19 11:38:48\n",
    "   * python2.7[15896]    running, started at 2018-01-19 11:38:48\n",
    "(aiida) h44:all-aiida ywfang$ verdi daemon status\n",
    "# Most recent daemon timestamp:0h:00m:08s ago\n",
    "Daemon is running as pid 15885 since 2018-01-19 11:38:47.813955, child processes:\n",
    "   * python2.7[15892]    running, started at 2018-01-19 11:38:48\n",
    "   * python2.7[15893]    running, started at 2018-01-19 11:38:48\n",
    "   * python2.7[15894]    running, started at 2018-01-19 11:38:48\n",
    "   * python2.7[15895]    running, started at 2018-01-19 11:38:48\n",
    "   * python2.7[15896]    running, started at 2018-01-19 11:38:48"
   ]
  },
  {
   "cell_type": "markdown",
   "metadata": {},
   "source": [
    "From the output on the screen, it's quite different from that of aiida-v0.10.1. As a comparion, I presented the output of aiida-v0.10.1:"
   ]
  },
  {
   "cell_type": "code",
   "execution_count": null,
   "metadata": {
    "collapsed": true
   },
   "outputs": [],
   "source": [
    "(aiida) ywfang@ywfang:~$ verdi daemon status\n",
    "# Most recent daemon timestamp:0h:00m:09s ago\n",
    "## Found 1 process running:\n",
    "   * aiida-daemon[aiida-daemon] RUNNING    pid 12373, uptime 2 days, 22:04:52"
   ]
  },
  {
   "cell_type": "markdown",
   "metadata": {},
   "source": [
    "Obvisouly, the latest versin 0.11.0 provides us more information about the processes."
   ]
  },
  {
   "cell_type": "markdown",
   "metadata": {},
   "source": [
    "## 2. Installing plugins"
   ]
  },
  {
   "cell_type": "markdown",
   "metadata": {},
   "source": [
    "### 2.1 Installing aiida-vasp plugin"
   ]
  },
  {
   "cell_type": "markdown",
   "metadata": {},
   "source": [
    "I creted a plugin folder: /Users/ywfang/FANG/study/software/all-aiida/aiida_plugins\n",
    "    "
   ]
  },
  {
   "cell_type": "code",
   "execution_count": null,
   "metadata": {
    "collapsed": true
   },
   "outputs": [],
   "source": [
    "git clone git@github.com:DropD/aiida-vasp.git"
   ]
  },
  {
   "cell_type": "markdown",
   "metadata": {},
   "source": [
    "After git, you'll see a new folder named **aiida-vasp**"
   ]
  },
  {
   "cell_type": "code",
   "execution_count": null,
   "metadata": {
    "collapsed": true
   },
   "outputs": [],
   "source": [
    "cd aiida-vasp/"
   ]
  },
  {
   "cell_type": "code",
   "execution_count": null,
   "metadata": {
    "collapsed": true
   },
   "outputs": [],
   "source": [
    "git checkout develop #switch to develop version"
   ]
  },
  {
   "cell_type": "markdown",
   "metadata": {},
   "source": [
    "**pymatgen parser setting**: this step is quite important for aiida-vasp plugin. Although I don't like this feature very much because I usually forgot this step. Luckily, Abel have reminded me for many times ( at least 5, -_- ) in the latest month. Great thanks to him.\n"
   ]
  },
  {
   "cell_type": "markdown",
   "metadata": {},
   "source": [
    "vi aiida_vasp/calcs/vasp.py, change the line\n",
    "\n",
    "***\n",
    "   default_parser = 'vasp.vasp'\n",
    "***\n",
    "\n",
    "into\n",
    "\n",
    "***\n",
    "   default_parser = 'vasp.pymatgen'\n",
    "***"
   ]
  },
  {
   "cell_type": "code",
   "execution_count": null,
   "metadata": {
    "collapsed": true
   },
   "outputs": [],
   "source": [
    "pip install . # installed successfully"
   ]
  },
  {
   "cell_type": "code",
   "execution_count": null,
   "metadata": {
    "collapsed": true
   },
   "outputs": [],
   "source": []
  },
  {
   "cell_type": "markdown",
   "metadata": {},
   "source": [
    "### 2.2 Installing aiida-phonopy plugin"
   ]
  },
  {
   "cell_type": "code",
   "execution_count": null,
   "metadata": {
    "collapsed": true
   },
   "outputs": [],
   "source": [
    "git clone git@github.com:abelcarreras/aiida-phonopy.git #this code was developped by Abel"
   ]
  },
  {
   "cell_type": "markdown",
   "metadata": {},
   "source": [
    "You then see a folder \"aiida-phonopy\""
   ]
  },
  {
   "cell_type": "code",
   "execution_count": null,
   "metadata": {
    "collapsed": true
   },
   "outputs": [],
   "source": [
    "cd aiida-phonopy\n",
    "\n",
    "git checkout development #switch to develop version"
   ]
  },
  {
   "cell_type": "code",
   "execution_count": null,
   "metadata": {
    "collapsed": true
   },
   "outputs": [],
   "source": [
    "pip install . # installed successfully"
   ]
  },
  {
   "cell_type": "markdown",
   "metadata": {},
   "source": [
    "## 2.3 Verdi command completion configuration\n",
    "\n",
    "\n",
    "The verdi command line tool has many commands and options. To simplify its usage, simply run the following command:\n",
    "\n",
    "$ verdi completioncommand\n",
    "\n",
    "Please append the output to the activation script of your virtual environment (or e.g. .bashrc). Alternatively, you can accomplish the same by simply adding the following line to the activation script:\n",
    "\n",
    "eval \"$(verdi completioncommand)\"\n",
    "\n",
    "For myself, in my ubuntu, I just added \n",
    "\n",
    "eval \"$(verdi completioncommand)\"\n",
    "\n",
    "to \n",
    "\n",
    "/home/ywfang/miniconda3/envs/aiida/bin/activate;\n",
    "\n",
    "in my mac, I jsut add a line to my .bashrc\n",
    "\n",
    "alias aiida=\"conda activate aiida; sleep 1s; eval '$(verdi completioncommand)'\" (It seems that it doesn't always work well in my mac. Updated in Jan 31 2018)\n",
    "\n",
    "\n",
    "In addition, we can also customize the configuration directory location of aiida. This will allow us to use several different versions of aiida-core. Here, I only installed one version, hence will attach more words to this configurations. For you information, please visit the website of (aiida)[https://aiida-core.readthedocs.io/en/latest/installation/optional_configuration.html]."
   ]
  },
  {
   "cell_type": "markdown",
   "metadata": {},
   "source": [
    "Since in 'verdi quicksetup', I didn't use the passward, hence I run 'verdi setup aiida1', and reset my profile. The profile information is stored in a file like:\n",
    "\n",
    "~/.aiida/config.json"
   ]
  },
  {
   "cell_type": "markdown",
   "metadata": {},
   "source": [
    "## 2.4 Setup of computers\n",
    "\n",
    "### 2.4.1 Setup the computer\n",
    "\n",
    "For the supercomputer you want to perform calculations, before settupng up the computer, you have to prepar a  password-less connection to the computer. (use ssh-keygen, there are many blogs on this topic.) Here, I skip this step, and go to the 'verdi comptuer setup' directly."
   ]
  },
  {
   "cell_type": "code",
   "execution_count": null,
   "metadata": {
    "collapsed": true
   },
   "outputs": [],
   "source": [
    "(aiida) h44:aiida_plugins ywfang$ verdi computer setup\n",
    "At any prompt, type ? to get some help.\n",
    "---------------------------------------\n",
    "=> Computer name: stern-lab\n",
    "Creating new computer with name 'stern-lab'\n",
    "=> Fully-qualified hostname:  88.88.88.88  #here is the IP address of your computer\n",
    "=> Description: go to stern-lab from mac\n",
    "=> Enabled: True\n",
    "=> Transport type: ssh\n",
    "=> Scheduler type: sge\n",
    "=> shebang line at the beginning of the submission script: #!/bin/bash\n",
    "=> AiiDA work directory: /home/ywfang/aiida_run_mac\n",
    "=> mpirun command: mpirun -np {tot_num_mpiprocs}\n",
    "=> Text to prepend to each command execution: \n",
    "   # This is a multiline input, press CTRL+D on a\n",
    "   # empty line when you finish\n",
    "   # ------------------------------------------\n",
    "   # End of old input. You can keep adding     \n",
    "   # lines, or press CTRL+D to store this value\n",
    "   # ------------------------------------------\n",
    "export PATH=/usr/local/calc/openmpi-1.10.2-ifort-togo/bin/:$PATH  #change these two lines according to your system\n",
    "export LD_LIBRARY_PATH=/opt/intel/Compiler/11.1/069/lib/intel64/:$LD_LIBRARY_PATH\n",
    "=> Text to append to each command execution: \n",
    "   # This is a multiline input, press CTRL+D on a\n",
    "   # empty line when you finish\n",
    "   # ------------------------------------------\n",
    "   # End of old input. You can keep adding     \n",
    "   # lines, or press CTRL+D to store this value\n",
    "   # ------------------------------------------\n",
    "Computer 'stern-lab' successfully stored in DB.\n",
    "pk: 1, uuid: f54386aa-0b7f-4576-8faa-666d9429980c\n",
    "Note: before using it with AiiDA, configure it using the command\n",
    "  verdi computer configure stern-lab\n",
    "(Note: machine_dependent transport parameters cannot be set via \n",
    "the command-line interface at the moment)"
   ]
  },
  {
   "cell_type": "markdown",
   "metadata": {},
   "source": [
    "### 2.4.1 Configure the computer"
   ]
  },
  {
   "cell_type": "code",
   "execution_count": null,
   "metadata": {
    "collapsed": true
   },
   "outputs": [],
   "source": [
    "(aiida) h44:aiida_plugins ywfang$ verdi computer configure stern-lab\n",
    "Configuring computer 'stern-lab' for the AiiDA user 'fyuewen@gmail.com'\n",
    "Computer stern-lab has transport of type ssh\n",
    "\n",
    "Note: to leave a field unconfigured, leave it empty and press [Enter]\n",
    "=> username = ywfang\n",
    "=> port = 22\n",
    "=> look_for_keys = ~/.ssh/id_rsa\n",
    "Error in the inserted value: look_for_keys must be an boolean\n",
    "=> look_for_keys = \n",
    "=> key_filename = ~/.ssh/id_rsa\n",
    "=> timeout = 60\n",
    "=> allow_agent = \n",
    "=> proxy_command = \n",
    "=> compress = False\n",
    "=> gss_auth = no\n",
    "=> gss_kex = no\n",
    "=> gss_deleg_creds = no\n",
    "=> gss_host = 88.88.88.88\n",
    "=> load_system_host_keys = True\n",
    "=> key_policy = WarningPolicy\n",
    "Configuration stored for your user on computer 'stern-lab'."
   ]
  },
  {
   "cell_type": "markdown",
   "metadata": {},
   "source": [
    "### 2.4.2 Test the computer"
   ]
  },
  {
   "cell_type": "code",
   "execution_count": null,
   "metadata": {
    "collapsed": true
   },
   "outputs": [],
   "source": [
    "(aiida) h44:aiida_plugins ywfang$ verdi computer test stern-lab\n",
    "Testing computer 'stern-lab' for user fyuewen@gmail.com...\n",
    "> Testing connection...\n",
    "> Getting job list...\n",
    "  `-> OK, 30 jobs found in the queue.\n",
    "> Creating a temporary file in the work directory...\n",
    ">>>>>\n",
    ">>>>>>.....\n",
    "..........\n",
    ".........\n",
    "  [Deleted successfully]\n",
    "Test completed (all 3 tests succeeded)"
   ]
  },
  {
   "cell_type": "markdown",
   "metadata": {},
   "source": [
    "### 2.4.3 Some useful commands\n",
    "\n",
    "verdi computer list\n",
    "\n",
    "to get a list of existing computers, and:\n",
    "\n",
    "verdi computer show COMPUTERNAME\n",
    "\n",
    "to get detailed information on the specific computer named COMPUTERNAME. You have also the:\n",
    "\n",
    "verdi computer rename OLDCOMPUTERNAME NEWCOMPUTERNAME\n",
    "\n",
    "and:\n",
    "\n",
    "verdi computer delete COMPUTERNAME"
   ]
  },
  {
   "cell_type": "code",
   "execution_count": null,
   "metadata": {
    "collapsed": true
   },
   "outputs": [],
   "source": []
  },
  {
   "cell_type": "markdown",
   "metadata": {},
   "source": [
    "## 2.5 Setup the code\n",
    "\n",
    "Basically there are two kinds of code for aiida. One is local code, the other one is the socalled remote code that is in a supercomputer or cluster. Please ref to (aiida)[http://aiida-core.readthedocs.io/en/release_v0.11.0/get_started/index.html] about their differences.\n",
    "\n",
    "Here I show a example to setup a remote code (vasp):"
   ]
  },
  {
   "cell_type": "code",
   "execution_count": null,
   "metadata": {
    "collapsed": true
   },
   "outputs": [],
   "source": [
    "(aiida) h44:aiida_plugins ywfang$ verdi code setup\n",
    "At any prompt, type ? to get some help.\n",
    "---------------------------------------\n",
    "=> Label: vasp\n",
    "=> Description: vasp541 at stern-lab\n",
    "=> Local: False\n",
    "=> Default input plugin: vasp.vasp # you can use verdi calculation plugins to check what plugins you have\n",
    "=> Remote computer name: stern-lab\n",
    "=> Remote absolute path: /usr/local/vasp/vasp541\n",
    "=> Text to prepend to each command execution\n",
    "FOR INSTANCE, MODULES TO BE LOADED FOR THIS CODE: \n",
    "   # This is a multiline input, press CTRL+D on a\n",
    "   # empty line when you finish\n",
    "   # ------------------------------------------\n",
    "   # End of old input. You can keep adding     \n",
    "   # lines, or press CTRL+D to store this value\n",
    "   # ------------------------------------------\n",
    "=> Text to append to each command execution: \n",
    "   # This is a multiline input, press CTRL+D on a\n",
    "   # empty line when you finish\n",
    "   # ------------------------------------------\n",
    "   # End of old input. You can keep adding     \n",
    "   # lines, or press CTRL+D to store this value\n",
    "   # ------------------------------------------\n",
    "Code 'vasp' successfully stored in DB.\n",
    "pk: 1, uuid: 03875075-0cc1-4938-8943-c46d3ee2aecd"
   ]
  },
  {
   "cell_type": "markdown",
   "metadata": {},
   "source": [
    "**Attention** For setting up code for phonopy and phono3py, the \"Defult input plugins\" are phonopy.phonopy and phonopy.phono3py respectively."
   ]
  },
  {
   "cell_type": "markdown",
   "metadata": {},
   "source": [
    "**Some useful commands**:\n",
    "\n",
    "verdi code rename \"ID\" (for example, vasp@stern-lab is an ID)\n",
    "\n",
    "verdi code list\n",
    "\n",
    "verdi code show \"ID\"\n",
    "\n",
    "verdi code delete \"ID\""
   ]
  },
  {
   "cell_type": "markdown",
   "metadata": {},
   "source": [
    "## 2.6 Run example\n",
    "\n",
    "Now, you can now test some examples. Please always remeber to restart your daemon if you make some midifications on the environment or something related to the computer or code: verdi daemon restart"
   ]
  },
  {
   "cell_type": "markdown",
   "metadata": {},
   "source": [
    "The example I tested comes from the aiida-vasp plugin (prabably I made some small modifications):"
   ]
  },
  {
   "cell_type": "code",
   "execution_count": null,
   "metadata": {
    "collapsed": true
   },
   "outputs": [],
   "source": [
    "import click\n",
    "import numpy\n",
    "\n",
    "\n",
    "@click.command()\n",
    "@click.option('--paw-family', type=str, default='vasp-test')\n",
    "@click.option('--import-from', type=click.Path(), default='.')\n",
    "@click.option('--queue', type=str, default='')\n",
    "@click.argument('code', type=str)\n",
    "@click.argument('computer', type=str)\n",
    "def test_vasp(paw_family, import_from, queue, code, computer):\n",
    "    load_dbenv_if_not_loaded()\n",
    "    from aiida.orm import CalculationFactory, Code\n",
    "    if import_from:\n",
    "        import_paws(import_from, paw_family)\n",
    "  #  try:\n",
    "    paw_si = get_paws(paw_family)\n",
    "   # except ValueError as err:\n",
    "   #     click.echo(err.msg, err=True)\n",
    "   #     raise ValueError(\n",
    "   #         'give a valid family or import a new one (run with --help)')\n",
    "\n",
    "    vasp_calc = CalculationFactory('vasp.vasp')()\n",
    "    vasp_calc.use_structure(create_structure2())\n",
    "    vasp_calc.use_kpoints(create_kpoints())\n",
    "    vasp_calc.use_parameters(create_params())\n",
    "    code = Code.get_from_string('{}@{}'.format(code, computer))\n",
    "    vasp_calc.use_code(code)\n",
    "    # vasp_calc.use_paw(paw_in, 'In')\n",
    "    # vasp_calc.use_paw(paw_as, 'As')\n",
    "    vasp_calc.use_paw(paw_si, 'Si')\n",
    "    vasp_calc.set_computer(code.get_computer())\n",
    "    vasp_calc.set_queue_name(queue)\n",
    "    vasp_calc.set_resources({\n",
    "        'num_machines': 1,\n",
    "        'parallel_env': 'mpi*',\n",
    "        'tot_num_mpiprocs': 16\n",
    "    })\n",
    "    vasp_calc.label = 'Test VASP run'\n",
    "    vasp_calc.store_all()\n",
    "    vasp_calc.submit()\n",
    "    vasp_calc = CalculationFactory('vasp.vasp')\n",
    "\n",
    "    #from aiida_vasp.parsers.pymatgen_vasp import PymatgenParser\n",
    "    #vasp_calc.set_parser_cls(PymatgenParser)\n",
    "    #vasp_calc.use_settings(DataFactory('parameter')(dict={\n",
    "    #        'pymatgen_parser': {\n",
    "    #            'exception_on_bad_xml': False,\n",
    "    #            'parse_dos': False\n",
    "    #        }\n",
    "    #    }\n",
    "    #))\n",
    "\n",
    "\n",
    "\n",
    "\n",
    "def load_dbenv_if_not_loaded():\n",
    "    from aiida import load_dbenv, is_dbenv_loaded\n",
    "    if not is_dbenv_loaded():\n",
    "        load_dbenv()\n",
    "\n",
    "\n",
    "def get_data_cls(descriptor):\n",
    "    load_dbenv_if_not_loaded()\n",
    "    from aiida.orm import DataFactory\n",
    "    return DataFactory(descriptor)\n",
    "\n",
    "\n",
    "def create_structure():\n",
    "    structure_cls = get_data_cls('structure')\n",
    "    structure = structure_cls(\n",
    "        cell=numpy.array([[0, .5, .5], [.5, 0, .5], [.5, .5, 0]]) * 6.058, )\n",
    "    structure.append_atom(position=(0, 0, 0), symbols='In')\n",
    "    structure.append_atom(position=(0.25, 0.25, 0.25), symbols='As')\n",
    "    return structure\n",
    "\n",
    "def create_structure2():\n",
    "\timport numpy as np\n",
    "\tfrom aiida.orm import DataFactory\n",
    "\tStructureData = DataFactory('structure')\n",
    "\n",
    "\ta = 5.404\n",
    "\tcell = [[a, 0, 0],\n",
    "\t        [0, a, 0],\n",
    "\t        [0, 0, a]]\n",
    "\t\n",
    "\tsymbols=['Si'] * 8\n",
    "\tscaled_positions = [(0.875,  0.875,  0.875),\n",
    "\t                    (0.875,  0.375,  0.375),\n",
    "\t                    (0.375,  0.875,  0.375),\n",
    "\t                    (0.375,  0.375,  0.875),\n",
    "\t                    (0.125,  0.125,  0.125),\n",
    "\t                    (0.125,  0.625,  0.625),\n",
    "\t                    (0.625,  0.125,  0.625),\n",
    "\t                    (0.625,  0.625,  0.125)]\n",
    "\t\n",
    "\tstructure = StructureData(cell=cell)\n",
    "\tpositions = np.dot(scaled_positions, cell)\n",
    "\n",
    "\tfor i, scaled_position in enumerate(scaled_positions):\n",
    "\t    structure.append_atom(position=np.dot(scaled_position, cell).tolist(),\n",
    "\t                          symbols=symbols[i])\n",
    "\treturn structure\n",
    "\t\n",
    "\n",
    "def create_kpoints():\n",
    "    kpoints_cls = get_data_cls('array.kpoints')\n",
    "    return kpoints_cls(kpoints_mesh=[8, 8, 8])\n",
    "\n",
    "\n",
    "def create_params():\n",
    "    param_cls = get_data_cls('parameter')\n",
    "    return param_cls(dict={\n",
    "        'SYSTEM': 'InAs',\n",
    "        'EDIFF': 1e-5,\n",
    "        'ISMEAR': 0,\n",
    "        'SIGMA': 0.05,\n",
    "        'ENCUT': '280.00 eV',\n",
    "        'LEPSILON': '.TRUE.'\n",
    "    })\n",
    "\n",
    "\n",
    "def import_paws(folder_path, family_name):\n",
    "    load_dbenv_if_not_loaded()\n",
    "    from aiida.orm import DataFactory\n",
    "    paw_cls = DataFactory('vasp.paw')\n",
    "    paw_cls.import_family(\n",
    "        folder_path, familyname=family_name, family_desc='Test family')\n",
    "\n",
    "\n",
    "def get_paws(family_name):\n",
    "    load_dbenv_if_not_loaded()\n",
    "    from aiida.orm import DataFactory\n",
    "    paw_cls = DataFactory('vasp.paw')\n",
    "    #paw_in = paw_cls.load_paw(family=family_name, symbol='In')[0]\n",
    "    #paw_as = paw_cls.load_paw(family=family_name, symbol='As')[0]\n",
    "    paw_si = paw_cls.load_paw(family=family_name, symbol='Si')[0]\n",
    "\n",
    "    return paw_si\n",
    "\n",
    "\n",
    "if __name__ == '__main__':\n",
    "    test_vasp()"
   ]
  },
  {
   "cell_type": "markdown",
   "metadata": {},
   "source": []
  },
  {
   "cell_type": "markdown",
   "metadata": {},
   "source": [
    "**The command to run this job**:\n",
    "\n",
    "\"python run_vasp_old-boston.py --import-from /Users/ywfang/FANG/study/software/all-aiida/aiida_plugins/test-example-for-mac/VASP_TEST/Si vasp boston-lab\""
   ]
  },
  {
   "cell_type": "markdown",
   "metadata": {},
   "source": [
    "**Check the status of the calculations**"
   ]
  },
  {
   "cell_type": "code",
   "execution_count": null,
   "metadata": {
    "collapsed": true
   },
   "outputs": [],
   "source": [
    "(aiida) h44:test-example-for-mac ywfang$ verdi calculation list -a\n",
    "# Last daemon state_updater check: 0h:00m:07s ago (at 18:02:35 on 2018-01-19)\n",
    "  PK  Creation    State     Sched. state    Computer    Type\n",
    "----  ----------  --------  --------------  ----------  ---------\n",
    "  18  4m ago      FINISHED  DONE            boston-lab  vasp.vasp\n",
    "\n",
    "Total results: 1"
   ]
  },
  {
   "cell_type": "code",
   "execution_count": null,
   "metadata": {
    "collapsed": true
   },
   "outputs": [],
   "source": []
  },
  {
   "cell_type": "code",
   "execution_count": null,
   "metadata": {
    "collapsed": true
   },
   "outputs": [],
   "source": []
  },
  {
   "cell_type": "code",
   "execution_count": null,
   "metadata": {
    "collapsed": true
   },
   "outputs": [],
   "source": []
  },
  {
   "cell_type": "code",
   "execution_count": null,
   "metadata": {
    "collapsed": true
   },
   "outputs": [],
   "source": []
  },
  {
   "cell_type": "code",
   "execution_count": null,
   "metadata": {},
   "outputs": [],
   "source": []
  },
  {
   "cell_type": "code",
   "execution_count": null,
   "metadata": {},
   "outputs": [],
   "source": []
  },
  {
   "cell_type": "code",
   "execution_count": null,
   "metadata": {},
   "outputs": [],
   "source": []
  },
  {
   "cell_type": "markdown",
   "metadata": {},
   "source": [
    "## The calculation of primitive_axis in phonopy"
   ]
  },
  {
   "cell_type": "code",
   "execution_count": null,
   "metadata": {},
   "outputs": [],
   "source": [
    "\"\"\"\n",
    "(*Take KF compound as an example*)\n",
    "(*In the unit cell of cubic KF,\n",
    "there are 8 atoms, half of them are K, and the other half are F*)\n",
    "\n",
    "This is the unit cell structure:\n",
    "F K\n",
    " 1.0\n",
    " 5.3683051700000002 0.0000000000000000 0.0000000000000000\n",
    " 0.0000000000000000 5.3683051700000002 0.0000000000000000\n",
    " 0.0000000000000000 0.0000000000000000 5.3683051700000002\n",
    " F K\n",
    " 4 4\n",
    " Direct\n",
    " 0.0000000000000000 0.0000000000000000 0.0000000000000000\n",
    " 0.0000000000000000 0.5000000000000000 0.5000000000000000\n",
    " 0.5000000000000000 0.0000000000000000 0.5000000000000000\n",
    " 0.5000000000000000 0.5000000000000000 0.0000000000000000\n",
    " 0.5000000000000000 0.0000000000000000 0.0000000000000000\n",
    " 0.5000000000000000 0.5000000000000000 0.5000000000000000\n",
    " 0.0000000000000000 0.0000000000000000 0.5000000000000000\n",
    " 0.0000000000000000 0.5000000000000000 0.0000000000000000\n",
    "\"\"\"\n",
    "\n",
    "#(*using \"phonopy --symmetry --tol=0.01\" to get the primitive psocar*)\n",
    "\"\"\"\n",
    " The primitive poscar is \n",
    " \n",
    " F K\n",
    "    1.0\n",
    "      0.0000000000000000    2.6841525850000001    2.6841525850000001\n",
    "      2.6841525850000001    0.0000000000000000    2.6841525850000001\n",
    "      2.6841525850000001    2.6841525850000001    0.0000000000000000\n",
    "    1    1\n",
    " Direct\n",
    "   0.0000000000000000  0.0000000000000000  0.0000000000000000\n",
    "   0.5000000000000000  0.5000000000000000  0.5000000000000000\n",
    "\"\"\" "
   ]
  },
  {
   "cell_type": "code",
   "execution_count": 14,
   "metadata": {},
   "outputs": [
    {
     "data": {
      "text/plain": [
       "matrix([[ 5.36830517,  0.        ,  0.        ],\n        [ 0.        ,  5.36830517,  0.        ],\n        [ 0.        ,  0.        ,  5.36830517]])"
      ]
     },
     "execution_count": 14,
     "metadata": {},
     "output_type": "execute_result"
    }
   ],
   "source": [
    "import numpy as np\n",
    "\n",
    "uc_vector = np.matrix([\n",
    "    [5.3683051700000002, 0, 0],\n",
    "    [0, 5.3683051700000002, 0],\n",
    "    [0, 0, 5.3683051700000002]\n",
    "])\n",
    "uc_vector"
   ]
  },
  {
   "cell_type": "code",
   "execution_count": 15,
   "metadata": {},
   "outputs": [
    {
     "data": {
      "text/plain": [
       "matrix([[ 0.        ,  2.68415259,  2.68415259],\n        [ 2.68415259,  0.        ,  2.68415259],\n        [ 2.68415259,  2.68415259,  0.        ]])"
      ]
     },
     "execution_count": 15,
     "metadata": {},
     "output_type": "execute_result"
    }
   ],
   "source": [
    "primitive_vector = np.matrix([\n",
    "    [0, 2.6841525850000001, 2.6841525850000001],\n",
    "    [2.6841525850000001, 0, 2.6841525850000001],\n",
    "    [2.6841525850000001, 2.6841525850000001, 0]\n",
    "])\n",
    "primitive_vector"
   ]
  },
  {
   "cell_type": "code",
   "execution_count": 16,
   "metadata": {},
   "outputs": [
    {
     "data": {
      "text/plain": [
       "matrix([[ 0. ,  0.5,  0.5],\n        [ 0.5,  0. ,  0.5],\n        [ 0.5,  0.5,  0. ]])"
      ]
     },
     "execution_count": 16,
     "metadata": {},
     "output_type": "execute_result"
    }
   ],
   "source": [
    "x = np.linalg.solve(uc_vector.T, primitive_vector.T)\n",
    "x"
   ]
  },
  {
   "cell_type": "markdown",
   "metadata": {},
   "source": [
    "The solved x is the primitive_aixs that can be used in the phononpy calculations"
   ]
  },
  {
   "cell_type": "markdown",
   "metadata": {},
   "source": [
    "### now, let's add another example of Boron crystal "
   ]
  },
  {
   "cell_type": "code",
   "execution_count": null,
   "metadata": {},
   "outputs": [],
   "source": [
    " #the conventional cell of B contains 36 atoms\n",
    " \n",
    " B\n",
    "   1.0\n",
    "     4.8786175399999996    0.0000000000000000    0.0000000000000000\n",
    "    -2.4393087699999998    4.2250067299999996    0.0000000000000000\n",
    "     0.0000000000000000    0.0000000000000000   12.5104310900000009\n",
    " B\n",
    "  36\n",
    "Direct\n",
    "   0.8810421900000001  0.1189578100000000  0.1082863700000000\n",
    "   0.2379156300000000  0.1189578100000000  0.1082863700000000\n",
    "   0.8810421900000001  0.7620843700000000  0.1082863700000000\n",
    "   0.7856244800000000  0.5712489599999999  0.2250469600000000\n",
    "   0.7856244800000000  0.2143755200000000  0.2250469600000000\n",
    "   0.4287510400000000  0.2143755200000000  0.2250469600000000\n",
    "   0.4692953000000000  0.5307047000000000  0.3089958100000000\n",
    "   0.0614094100000000  0.5307047000000000  0.3089958100000000\n",
    "   0.4692953000000000  0.9385905900000000  0.3089958100000000\n",
    "   0.1973713700000000  0.3947427400000000  0.0243375300000000\n",
    "   0.1973713700000000  0.8026286300000001  0.0243375300000000\n",
    "   0.6052572600000000  0.8026286300000001  0.0243375300000000\n",
    "   0.5477088500000000  0.4522911500000000  0.4416197100000000\n",
    "   0.9045823000000000  0.4522911500000000  0.4416197100000000\n",
    "   0.5477088500000000  0.0954177000000000  0.4416197100000000\n",
    "   0.4522911500000000  0.9045823000000000  0.5583802900000000\n",
    "   0.4522911500000000  0.5477088500000000  0.5583802900000000\n",
    "   0.0954177000000000  0.5477088500000000  0.5583802900000000\n",
    "   0.1359619600000000  0.8640380400000001  0.6423291400000000\n",
    "   0.7280760700000000  0.8640380400000001  0.6423291400000000\n",
    "   0.1359619600000000  0.2719239300000000  0.6423291400000000\n",
    "   0.8640380400000001  0.7280760700000000  0.3576708600000000\n",
    "   0.8640380400000001  0.1359619600000000  0.3576708600000000\n",
    "   0.2719239300000000  0.1359619600000000  0.3576708600000000\n",
    "   0.2143755200000000  0.7856244800000000  0.7749530400000000\n",
    "   0.5712489599999999  0.7856244800000000  0.7749530400000000\n",
    "   0.2143755200000000  0.4287510400000000  0.7749530400000000\n",
    "   0.1189578100000000  0.2379156300000000  0.8917136300000000\n",
    "   0.1189578100000000  0.8810421900000001  0.8917136300000000\n",
    "   0.7620843700000000  0.8810421900000001  0.8917136300000000\n",
    "   0.8026286300000001  0.1973713700000000  0.9756624699999999\n",
    "   0.3947427400000000  0.1973713700000000  0.9756624699999999\n",
    "   0.8026286300000001  0.6052572600000000  0.9756624699999999\n",
    "   0.5307047000000000  0.0614094100000000  0.6910041900000000\n",
    "   0.5307047000000000  0.4692953000000000  0.6910041900000000\n",
    "   0.9385905900000000  0.4692953000000000  0.6910041900000000\n",
    " \n",
    " \n",
    " \n",
    "  #the primitive cell of B can be written as (use phonopy command to get this primitive cell)\n",
    "  B\n",
    "   1.0\n",
    "     2.4393087710850549    1.4083355756225715    4.1701436966666670\n",
    "    -2.4393087710850549    1.4083355756225715    4.1701436966666670\n",
    "     0.0000000000000000   -2.8166711512451430    4.1701436966666670\n",
    "  12\n",
    "Direct\n",
    "  0.9893285600000000  0.3462020033333332  0.9893285600000000\n",
    "  0.3462020033333332  0.9893285600000000  0.9893285600000000\n",
    "  0.9893285600000000  0.9893285600000000  0.3462020033333332\n",
    "  0.0106714399999999  0.0106714399999998  0.6537979966666668\n",
    "  0.0106714399999999  0.6537979966666666  0.0106714400000000\n",
    "  0.6537979966666667  0.0106714400000000  0.0106714400000000\n",
    "  0.7782911033333333  0.3704052166666665  0.7782911033333333\n",
    "  0.3704052166666665  0.7782911033333333  0.7782911033333333\n",
    "  0.7782911033333333  0.7782911033333333  0.3704052166666666\n",
    "  0.2217088966666666  0.2217088966666666  0.6295947833333334\n",
    "  0.2217088966666666  0.6295947833333333  0.2217088966666668\n",
    "  0.6295947833333333  0.2217088966666665  0.2217088966666668\n"
   ]
  },
  {
   "cell_type": "code",
   "execution_count": 13,
   "metadata": {},
   "outputs": [
    {
     "data": {
      "text/plain": [
       "matrix([[ 0.66666667, -0.33333333, -0.33333333],\n        [ 0.33333333,  0.33333333, -0.66666667],\n        [ 0.33333333,  0.33333333,  0.33333333]])"
      ]
     },
     "execution_count": 13,
     "metadata": {},
     "output_type": "execute_result"
    }
   ],
   "source": [
    "import numpy as np\n",
    "\n",
    "uc_vector_B = np.matrix([\n",
    "    [4.8786175399999996,    0.0000000000000000,    0.0000000000000000],\n",
    "    [-2.4393087699999998,    4.2250067299999996,    0.0000000000000000],\n",
    "    [0.0000000000000000,    0.0000000000000000,   12.5104310900000009]\n",
    "])\n",
    "\n",
    "primitive_vector_B = np.matrix([\n",
    "    [2.4393087710850549,    1.4083355756225715,   4.1701436966666670],\n",
    "    [-2.4393087710850549,    1.4083355756225715,    4.1701436966666670],\n",
    "    [0.0000000000000000,   -2.8166711512451430,    4.1701436966666670]\n",
    "\n",
    "])\n",
    "x_B  = np.linalg.solve(uc_vector_B.T, primitive_vector_B.T)\n",
    "x_B\n",
    "\n",
    "#The structures of the two above examples are taken from Togo-sensei's phonon databse (I could have relaxed them with higher accuracy)\n",
    "#the phonopy.conf in the database includes the information of primitive_aixs that can be referenced here as a comprision with my\n",
    "#calculations here.\n",
    "#for the definition of primitive_axis in phonopy, please see the manual or visit \n",
    "#https://atztogo.github.io/phonopy/setting-tags.html#primitive-axis-or-primitive-axes"
   ]
  },
  {
   "cell_type": "code",
   "execution_count": null,
   "metadata": {},
   "outputs": [],
   "source": []
  },
  {
   "cell_type": "code",
   "execution_count": null,
   "metadata": {},
   "outputs": [],
   "source": []
  },
  {
   "cell_type": "markdown",
   "metadata": {},
   "source": [
    "## an example of spider"
   ]
  },
  {
   "cell_type": "code",
   "execution_count": null,
   "metadata": {},
   "outputs": [],
   "source": [
    "import urllib2                                                # needed for functions,classed for opening urls.\n",
    "url = raw_input( \"enter the url needed for downloading file(pdf,mp3,zip...etc)\\n\");\n",
    " \n",
    "usock = urllib2.urlopen(url)                                  #function for opening desired url\n",
    "file_name = url.split('/')[-1]                                #Example : for given url \"www.cs.berkeley.edu/~vazirani/algorithms/chap6.pdf\" file_name will store \"chap6.pdf\"\n",
    "f = open(file_name, 'wb')                                     #opening file for write and that too in binary mode.\n",
    "file_size = int(usock.info().getheaders(\"Content-Length\")[0]) #getting size in bytes of file(pdf,mp3...)\n",
    "print \"Downloading: %s Bytes: %s\" % (file_name, file_size)\n",
    " \n",
    "downloaded = 0\n",
    "block_size = 8192                                            #bytes to be downloaded in each loop till file pointer does not return eof\n",
    "while True:\n",
    "   buff = usock.read(block_size)\n",
    "     if not buff:                                             #file pointer reached the eof\n",
    "       break\n",
    " \n",
    "   downloaded = downloaded + len(buff)\n",
    "   f.write(buff)\n",
    "   download_status = r\"%3.2f%%\" % (downloaded * 100.00 / file_size) #Simple mathematics\n",
    "   download_status = download_status + (len(download_status)+1) * chr(8)\n",
    "   print download_status,\"done\"\n",
    " \n",
    "f.close()"
   ]
  },
  {
   "cell_type": "markdown",
   "metadata": {},
   "source": [
    "## aiida phono3py data analysis"
   ]
  },
  {
   "cell_type": "markdown",
   "metadata": {},
   "source": [
    "1. verdi calculation list to get the pk number corresponding to the raw data.\n",
    "\n",
    "2. Run verdi shell"
   ]
  },
  {
   "cell_type": "code",
   "execution_count": null,
   "metadata": {
    "collapsed": true
   },
   "outputs": [],
   "source": [
    "#we can run do some interactive programming in the verdi shell\n",
    "# verdi shell is a ipython based api of aiida\n",
    "#Abel taught me about this analysis in Jan 19 2018\n",
    "\n",
    "n = load_node(50442)  \n",
    "\n",
    "n.get_outputs_dict()   \n",
    "\n",
    "n.out.kappa\n",
    "\n",
    "n.out.kappa.get_arraynames()\n",
    "\n",
    "n.out.kappa.get_array('kappa')\n",
    "\n",
    "array = n.out.kappa.get_array('kappa')\n",
    "\n",
    "n.out.kappa.get_arraynames() \n"
   ]
  },
  {
   "cell_type": "raw",
   "metadata": {},
   "source": [
    "For example:\n",
    "    \n",
    "In [9]: n.out.kappa.get_arraynames()\n",
    "\n",
    "Out[9]: \n",
    "[u'group_velocity',\n",
    " u'temperature',\n",
    " u'mesh',\n",
    " u'heat_capacity',\n",
    " u'frequency',\n",
    " u'gv_by_gv',\n",
    " u'gamma',\n",
    " u'weight',\n",
    " u'kappa',\n",
    " u'kappa_unit_conversion',\n",
    " u'qpoint',\n",
    " u'mode_kappa']"
   ]
  },
  {
   "cell_type": "code",
   "execution_count": null,
   "metadata": {
    "collapsed": true
   },
   "outputs": [],
   "source": []
  }
 ],
 "metadata": {
  "kernelspec": {
   "display_name": "Python 3",
   "language": "python",
   "name": "python3"
  },
  "language_info": {
   "codemirror_mode": {
    "name": "ipython",
    "version": 3
   },
   "file_extension": ".py",
   "mimetype": "text/x-python",
   "name": "python",
   "nbconvert_exporter": "python",
   "pygments_lexer": "ipython3",
   "version": "3.6.3"
  }
 },
 "nbformat": 4,
 "nbformat_minor": 2
}
