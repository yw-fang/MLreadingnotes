{
 "cells": [
  {
   "cell_type": "markdown",
   "metadata": {},
   "source": [
    "# Aiida and the aiida-plugins\n",
    "\n",
    "## aiida-v0.11.0 installation (released in Jan 2018)\n",
    "\n",
    "aiida-v0.11.0 was released in Jan, 2018, hence I removed the previous v0.10.0 in my mac, and installed v0.11.0.\n",
    "\n",
    "In the following, I'll show how to install it and other aiida-plugins in a mac os."
   ]
  },
  {
   "cell_type": "markdown",
   "metadata": {},
   "source": [
    "### set up a virtual environment for aiida running"
   ]
  },
  {
   "cell_type": "code",
   "execution_count": null,
   "metadata": {
    "collapsed": true
   },
   "outputs": [],
   "source": [
    "conda create -n aiida python=2.7 #set a veritual environment"
   ]
  },
  {
   "cell_type": "code",
   "execution_count": null,
   "metadata": {
    "collapsed": true
   },
   "outputs": [],
   "source": [
    "conda activate aiida\n",
    "#sometimes in mac, such a command might be requested\n",
    "sudo ln -s /Users/ywfang/miniconda3/etc/profile.d/conda.sh /etc/profile.d/conda.sh"
   ]
  },
  {
   "cell_type": "code",
   "execution_count": null,
   "metadata": {
    "collapsed": true
   },
   "outputs": [],
   "source": [
    "conda install postgresql"
   ]
  },
  {
   "cell_type": "markdown",
   "metadata": {},
   "source": [
    "### install aiida_core of epfl version"
   ]
  },
  {
   "cell_type": "markdown",
   "metadata": {},
   "source": [
    "Now, we need download the aiida_core v0.11.0 and put it in the folder you like. For me, the directory of the aiida_core is '/Users/ywfang/FANG/study/software/all-aiida'"
   ]
  },
  {
   "cell_type": "code",
   "execution_count": null,
   "metadata": {
    "collapsed": true
   },
   "outputs": [],
   "source": [
    "git clone git@github.com:aiidateam/aiida_core.git"
   ]
  },
  {
   "cell_type": "code",
   "execution_count": null,
   "metadata": {
    "collapsed": true
   },
   "outputs": [],
   "source": [
    "cd aiida_core"
   ]
  },
  {
   "cell_type": "code",
   "execution_count": null,
   "metadata": {
    "collapsed": true
   },
   "outputs": [],
   "source": [
    "pip install . \n",
    "#make sure that you have pip, if it is not available,\n",
    "#use 'conda install pip'"
   ]
  },
  {
   "cell_type": "code",
   "execution_count": null,
   "metadata": {
    "collapsed": true
   },
   "outputs": [],
   "source": [
    "#then have a try to see whether it works\n",
    "veri quicksetup"
   ]
  },
  {
   "cell_type": "markdown",
   "metadata": {},
   "source": [
    "You can use ctrl-C to stop this \"verdi quicksetup\" process if you don't want to continue. For me, I was trapped into a cycled program like"
   ]
  },
  {
   "cell_type": "raw",
   "metadata": {},
   "source": [
    "(aiida) h44:all-aiida ywfang$ verdi quicksetup\n",
    "Profile name [quicksetup]: aiida1\n",
    "Email Address (identifies your data when sharing): fyuewen@gmail.com\n",
    "First Name: Yuewen\n",
    "Last Name: FANG\n",
    "Institution: KyotoUniv\n",
    "Password:\n",
    "Detected no known postgres setup, some information is needed to create the aiida database and grant aiida access to it.\n",
    "If you feel unsure about the following parameters, first check if postgresql is installed.\n",
    "If postgresql is not installed please exit and install it, then run verdi quicksetup again.\n",
    "If postgresql is installed, please ask your system manager to provide you with the following parameters:\n",
    "postgres host [localhost]:  \n",
    "postgres port [5432]: \n",
    "template [template1]: \n",
    "postgres super user [postgres]: \n",
    "\n",
    "trying to access postgres..\n",
    "postgres password of postgres []: \n",
    "postgres host [localhost]: \n",
    "postgres port [5432]: \n",
    "template [template1]: \n",
    "postgres super user [postgres]: \n",
    "\n",
    "trying to access postgres..\n",
    "postgres password of postgres []: \n",
    "postgres host [localhost]: \n",
    "postgres port [5432]: \n",
    "template [template1]: \n",
    "postgres super user [postgres]: \n",
    "\n",
    "trying to access postgres..\n",
    "postgres password of postgres []: \n",
    "postgres host [localhost]: \n",
    "postgres port [5432]: \n",
    "template [template1]: \n",
    "postgres super user [postgres]: \n",
    "\n",
    "trying to access postgres..\n",
    "postgres password of postgres []: \n",
    "postgres host [localhost]: \n",
    "postgres port [5432]: \n",
    "template [template1]: \n",
    "postgres super user [postgres]: \n",
    "\n",
    "trying to access postgres..\n",
    "postgres password of postgres []: \n",
    "postgres host [localhost]: \n",
    "postgres port [5432]: \n",
    "template [template1]: \n",
    "postgres super user [postgres]: \n",
    "....\n",
    "....\n",
    "...."
   ]
  },
  {
   "cell_type": "markdown",
   "metadata": {},
   "source": [
    "### postgresql settings"
   ]
  },
  {
   "cell_type": "markdown",
   "metadata": {},
   "source": [
    "As you can see in the last section, obvisouly it had a problem related to the postgres, hence in this morning, I talked to Abel, and finally solved this problem. This problem might come from that we didn't set anything for the postgres."
   ]
  },
  {
   "cell_type": "raw",
   "metadata": {},
   "source": [
    "h44:all-aiida ywfang$ brew services restart postgresql\n",
    "==> Tapping homebrew/services\n",
    "Cloning into '/usr/local/Homebrew/Library/Taps/homebrew/homebrew-services'...\n",
    "remote: Counting objects: 14, done.\n",
    "remote: Compressing objects: 100% (10/10), done.\n",
    "remote: Total 14 (delta 0), reused 9 (delta 0), pack-reused 0\n",
    "Unpacking objects: 100% (14/14), done.\n",
    "Tapped 0 formulae (43 files, 55.4KB)\n",
    "==> Successfully started `postgresql` (label: homebrew.mxcl.postgresql)\n",
    "\n",
    "h44:all-aiida ywfang$ psql postgres\n",
    "psql (10.1)\n",
    "Type \"help\" for help.\n",
    "\n",
    "postgres=# ALTER USER postgres PASSWORD '123456';\n",
    "ERROR:  role \"postgres\" does not exist\n",
    "postgres=# ALTER USER postgres PASSWORD '123456' template1\n",
    "postgres-# ;\n",
    "ERROR:  unrecognized role option \"template1\"\n",
    "LINE 1: ALTER USER postgres PASSWORD '123456' template1\n",
    "                                              ^\n",
    "postgres=# CREATE ROLE postgres;\n",
    "CREATE ROLE\n",
    "postgres=# ALTER USER postgres PASSWORD '123456';\n",
    "ALTER ROLE\n",
    "postgres=# ALTER USER postgres with superuser;\n",
    "ALTER ROLE\n",
    "postgres=# \\q\n",
    "\n",
    "h44:all-aiida ywfang$ psql \n",
    "psql: FATAL:  database \"ywfang\" does not exist\n",
    "h44:all-aiida ywfang$ psql postgres\n",
    "psql (10.1)\n",
    "Type \"help\" for help.\n",
    "\n",
    "postgres-# \\q\n",
    "h44:all-aiida ywfang$ \n"
   ]
  },
  {
   "cell_type": "markdown",
   "metadata": {},
   "source": [
    "Now, let's go back to 'verdi quciksetup'"
   ]
  },
  {
   "cell_type": "raw",
   "metadata": {},
   "source": [
    "(aiida) h44:all-aiida ywfang$ verdi quicksetup\n",
    "Profile name [quicksetup]: aiida1\n",
    "Email Address (identifies your data when sharing): fyuewen@gmail.com\n",
    "First Name: YW\n",
    "Last Name: FANG\n",
    "Institution: KU\n",
    "Executing now a migrate command...\n",
    "...for Django backend\n",
    "Operations to perform:\n",
    "  Apply all migrations: contenttypes, db, sites, auth, sessions\n",
    "Running migrations:\n",
    "  Applying contenttypes.0001_initial... OK\n",
    "  Applying auth.0001_initial... OK\n",
    "  Applying db.0001_initial... OK\n",
    "  Applying db.0002_db_state_change... OK\n",
    "  Applying db.0003_add_link_type... OK\n",
    "  Applying db.0004_add_daemon_and_uuid_indices... OK\n",
    "  Applying db.0005_add_cmtime_indices... OK\n",
    "  Applying db.0006_delete_dbpath... OK\n",
    "  Applying db.0007_update_linktypes... OK\n",
    "  Applying sessions.0001_initial... OK\n",
    "  Applying sites.0001_initial... OK\n",
    "Database was created successfully\n",
    "Loading new environment...\n",
    "Installing default AiiDA user...\n",
    "Starting user configuration for fyuewen@gmail.com...\n",
    "Configuring a new user with email 'fyuewen@gmail.com'\n",
    ">> User YW FANG saved. <<\n",
    "** NOTE: no password set for this user, \n",
    "         so he/she will not be able to login\n",
    "         via the REST API and the Web Interface.\n",
    "Setup finished.\n"
   ]
  },
  {
   "cell_type": "markdown",
   "metadata": {},
   "source": [
    "Run 'verdi daemon start', the computer will remind you that you haven't set up the daemon user, then just follow it."
   ]
  },
  {
   "cell_type": "raw",
   "metadata": {},
   "source": [
    "\n",
    "(aiida) h44:all-aiida ywfang$ verdi daemon start\n",
    "You are not the daemon user! I will not start the daemon.\n",
    "(The daemon user is 'aiida@localhost', you are 'fyuewen@gmail.com')\n",
    "\n",
    "** FOR ADVANCED USERS ONLY: **\n",
    "To change the current default user, use 'verdi install --only-config'\n",
    "To change the daemon user, use 'verdi daemon configureuser'\n",
    "(aiida) h44:all-aiida ywfang$ verdi daemon configureuser\n",
    "> Current default user: fyuewen@gmail.com\n",
    "> Currently configured user who can run the daemon: aiida@localhost\n",
    "  (therefore, you cannot run the daemon, at the moment)\n",
    "****************************************************************************\n",
    "* WARNING! Change this setting only if you are sure of what you are doing. *\n",
    "* Moreover, make sure that the daemon is stopped.                          *\n",
    "****************************************************************************\n",
    "Are you really sure that you want to change the daemon user? [y/N] y\n",
    "\n",
    "Enter below the email of the new user who can run the daemon.\n",
    "New daemon user: fyuewen@gmail.com\n",
    "The new user that can run the daemon is now YW FANG.\n",
    "(aiida) h44:all-aiida ywfang$ verdi daemon start\n",
    "Clearing all locks ...\n",
    "Starting AiiDA Daemon (log file: /Users/ywfang/.aiida/daemon/log/celery.log)...\n",
    "Re-initializing workflow stepper stop timestamp\n",
    "Daemon started"
   ]
  },
  {
   "cell_type": "markdown",
   "metadata": {},
   "source": [
    "Please check the status of daemon:"
   ]
  },
  {
   "cell_type": "code",
   "execution_count": null,
   "metadata": {
    "collapsed": true
   },
   "outputs": [],
   "source": [
    "(aiida) h44:all-aiida ywfang$ verdi daemon status\n",
    "# Most recent daemon timestamp:0h:00m:06s ago\n",
    "Daemon is running as pid 15885 since 2018-01-19 11:38:47.813955, child processes:\n",
    "   * python2.7[15892]    running, started at 2018-01-19 11:38:48\n",
    "   * python2.7[15893]    running, started at 2018-01-19 11:38:48\n",
    "   * python2.7[15894]    running, started at 2018-01-19 11:38:48\n",
    "   * python2.7[15895]    running, started at 2018-01-19 11:38:48\n",
    "   * python2.7[15896]    running, started at 2018-01-19 11:38:48\n",
    "(aiida) h44:all-aiida ywfang$ verdi daemon status\n",
    "# Most recent daemon timestamp:0h:00m:08s ago\n",
    "Daemon is running as pid 15885 since 2018-01-19 11:38:47.813955, child processes:\n",
    "   * python2.7[15892]    running, started at 2018-01-19 11:38:48\n",
    "   * python2.7[15893]    running, started at 2018-01-19 11:38:48\n",
    "   * python2.7[15894]    running, started at 2018-01-19 11:38:48\n",
    "   * python2.7[15895]    running, started at 2018-01-19 11:38:48\n",
    "   * python2.7[15896]    running, started at 2018-01-19 11:38:48"
   ]
  },
  {
   "cell_type": "markdown",
   "metadata": {},
   "source": [
    "From the output on the screen, it's quite different from that of aiida-v0.10.1. As a comparion, I presented the output of aiida-v0.10.1:"
   ]
  },
  {
   "cell_type": "code",
   "execution_count": null,
   "metadata": {
    "collapsed": true
   },
   "outputs": [],
   "source": [
    "(aiida) ywfang@ywfang:~$ verdi daemon status\n",
    "# Most recent daemon timestamp:0h:00m:09s ago\n",
    "## Found 1 process running:\n",
    "   * aiida-daemon[aiida-daemon] RUNNING    pid 12373, uptime 2 days, 22:04:52"
   ]
  },
  {
   "cell_type": "markdown",
   "metadata": {},
   "source": [
    "Obvisouly, the latest versin 0.11.0 provides us more information about the processes."
   ]
  },
  {
   "cell_type": "markdown",
   "metadata": {},
   "source": [
    "## aiida phono3py data analysis"
   ]
  },
  {
   "cell_type": "markdown",
   "metadata": {},
   "source": [
    "1. verdi calculation list to get the pk number corresponding to the raw data.\n",
    "\n",
    "2. Run verdi shell"
   ]
  },
  {
   "cell_type": "code",
   "execution_count": null,
   "metadata": {
    "collapsed": true
   },
   "outputs": [],
   "source": [
    "#we can run do some interactive programming in the verdi shell\n",
    "# verdi shell is a ipython based api of aiida\n",
    "#Abel taught me about this analysis in Jan 19 2018\n",
    "\n",
    "n = load_node(50442)  \n",
    "\n",
    "n.get_outputs_dict()   \n",
    "\n",
    "n.out.kappa\n",
    "\n",
    "n.out.kappa.get_arraynames()\n",
    "\n",
    "n.out.kappa.get_array('kappa')\n",
    "\n",
    "array = n.out.kappa.get_array('kappa')\n",
    "\n",
    "n.out.kappa.get_arraynames() \n"
   ]
  },
  {
   "cell_type": "raw",
   "metadata": {},
   "source": [
    "For example:\n",
    "    \n",
    "In [9]: n.out.kappa.get_arraynames()\n",
    "\n",
    "Out[9]: \n",
    "[u'group_velocity',\n",
    " u'temperature',\n",
    " u'mesh',\n",
    " u'heat_capacity',\n",
    " u'frequency',\n",
    " u'gv_by_gv',\n",
    " u'gamma',\n",
    " u'weight',\n",
    " u'kappa',\n",
    " u'kappa_unit_conversion',\n",
    " u'qpoint',\n",
    " u'mode_kappa']"
   ]
  },
  {
   "cell_type": "code",
   "execution_count": null,
   "metadata": {
    "collapsed": true
   },
   "outputs": [],
   "source": []
  }
 ],
 "metadata": {
  "kernelspec": {
   "display_name": "Python 2",
   "language": "python",
   "name": "python2"
  },
  "language_info": {
   "codemirror_mode": {
    "name": "ipython",
    "version": 2
   },
   "file_extension": ".py",
   "mimetype": "text/x-python",
   "name": "python",
   "nbconvert_exporter": "python",
   "pygments_lexer": "ipython2",
   "version": "2.7.13"
  }
 },
 "nbformat": 4,
 "nbformat_minor": 2
}
