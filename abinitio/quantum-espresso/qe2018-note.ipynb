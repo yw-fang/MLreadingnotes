{
 "cells": [
  {
   "cell_type": "markdown",
   "metadata": {},
   "source": [
    "# Head First Quantum Espresso\n",
    "\n"
   ]
  },
  {
   "cell_type": "markdown",
   "metadata": {},
   "source": [
    "** Author: Yue-Wen FANG ** \n",
    "\n",
    "** Contact: fyuewen@gmail.com  ** \n",
    "\n",
    "** Revision history: created in 27th, Jan. 2018, in Kyoto  ** \n",
    "\n",
    "** The simple tutorial is actually my research notes of using Quantum Espresso.  ** "
   ]
  },
  {
   "cell_type": "markdown",
   "metadata": {},
   "source": [
    "## 1. Electron coupling calculations"
   ]
  },
  {
   "cell_type": "markdown",
   "metadata": {
    "collapsed": true
   },
   "source": [
    "### 1.1 Some forum discussions on epc\n",
    "\n",
    " [[Pw_forum] Electron-phonon coupling](http://qe-forge.org/pipermail/pw_forum/2003-April/074759.html)\n",
    " \n",
    " [negative values in the electron-phonon calculation.](http://qe-forge.org/pipermail/pw_forum/2004-September/075903.html)\n"
   ]
  },
  {
   "cell_type": "code",
   "execution_count": null,
   "metadata": {},
   "outputs": [],
   "source": []
  }
 ],
 "metadata": {
  "kernelspec": {
   "display_name": "Python 3",
   "language": "python",
   "name": "python3"
  },
  "language_info": {
   "codemirror_mode": {
    "name": "ipython",
    "version": 3
   },
   "file_extension": ".py",
   "mimetype": "text/x-python",
   "name": "python",
   "nbconvert_exporter": "python",
   "pygments_lexer": "ipython3",
   "version": "3.6.3"
  }
 },
 "nbformat": 4,
 "nbformat_minor": 2
}
