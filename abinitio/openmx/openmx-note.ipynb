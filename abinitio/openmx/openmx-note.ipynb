{
 "cells": [
  {
   "cell_type": "markdown",
   "metadata": {},
   "source": [
    "# Head First OpenMX\n"
   ]
  },
  {
   "cell_type": "markdown",
   "metadata": {},
   "source": [
    "** Author: Yue-Wen FANG ** \n",
    "\n",
    "** Contact: fyuewen@gmail.com  ** \n",
    "\n",
    "** Revision history: created in 6th, September 2017, at New York Uniersity, Shanghai  ** \n",
    "\n",
    "** New York University, Shanghai  ** \n",
    "\n",
    "** Kyto University  ** \n",
    "\n",
    "** The simple tutorial is actually my learning notes of OpenMX.  ** "
   ]
  },
  {
   "cell_type": "markdown",
   "metadata": {},
   "source": [
    "## 1. An introduction to openMX"
   ]
  },
  {
   "cell_type": "markdown",
   "metadata": {
    "collapsed": true
   },
   "source": [
    "OpenMX (Open source package for Material eXplorer) <http://www.openmx-square.org/> is a software package for nano-scale material simulations based on density functional theories (DFT), it was initially developped by Prof. T. Ozaki at University of Tokyo, and has been contributed by many other contributors."
   ]
  },
  {
   "cell_type": "markdown",
   "metadata": {},
   "source": [
    "## 2. Running environment"
   ]
  },
  {
   "cell_type": "markdown",
   "metadata": {
    "collapsed": true
   },
   "source": [
    "As far as I have known, OpenMX can only work in the LINUX/UNIX systems."
   ]
  },
  {
   "cell_type": "markdown",
   "metadata": {},
   "source": [
    "### 2.1. Installation"
   ]
  },
  {
   "cell_type": "markdown",
   "metadata": {},
   "source": [
    "The installation is very simple, more details can be found from its official [webpage]<http://www.openmx-square.org>. Note that some versions may need patches. In avoid of unexpected running erros, just use the latest version. Currently the latest one is OpenMX 3.8."
   ]
  },
  {
   "cell_type": "markdown",
   "metadata": {},
   "source": [
    "## 3. How to use OpenMX"
   ]
  },
  {
   "cell_type": "markdown",
   "metadata": {},
   "source": [
    "Although we can find a very well-written and complete manual from the official page. Here, I will only show the important featurs and usages."
   ]
  },
  {
   "cell_type": "markdown",
   "metadata": {},
   "source": [
    "### 3.1 input file and its format"
   ]
  },
  {
   "cell_type": "markdown",
   "metadata": {},
   "source": [
    "Here, let me show you an example of non-collinear calculations for SrMnO3. The good implement of non-collinear calculations with spin-orbital coupling in OpenMX is the main reason why I learn using it.\n",
    "\n",
    "Here is my input (BMO.dat):\n",
    "\n",
    "```\n",
    "#\n",
    "#      File Name\n",
    "#\n",
    "\n",
    "System.CurrrentDirectory         ./    # default=./\n",
    "System.Name                      bmo\n",
    "level.of.stdout                   1    # default=1 (1-3)\n",
    "level.of.fileout                  1    # default=1 (0-2)\n",
    "DATA.PATH                        /home/cgduan/software/openmx3.8/DFT_DATA13\n",
    "\n",
    "#\n",
    "# Definition of Atomic Species\n",
    "#\n",
    "\n",
    "# The empirical orbital basis (i.e. s3p3d3f2) can be found from the http://www.jaist.ac.jp/~t-ozaki/vps_pao2013/Ba/\n",
    "Species.Number       3\n",
    "<Definition.of.Atomic.Species\n",
    " Ba  Ba10.0-s3p3d3f2  Ba_PBE13 \n",
    " Mn  Mn6.0-s3p2d2f1   Mn_PBE13\n",
    " O   O5.0-s2p2d1      O_PBE13\n",
    "Definition.of.Atomic.Species>\n",
    "\n",
    "\n",
    "#<Hubbard.U.values                 #  eV\n",
    "# Mn  1s 0.0 2s 0.0 3s 0.0 1p 0.0 2p 0.0 1d 3.0 2d 0.0 1f 0.0\n",
    "# O   1s 0.0 2s 0.0 1p 0.0 2p 0.0 1d 0.0\n",
    "#Hubbard.U.values>\n",
    "\n",
    "\n",
    "#\n",
    "# Atoms\n",
    "#\n",
    "\n",
    "Atoms.Number        5\n",
    "Atoms.SpeciesAndCoordinates.Unit   FRAC  # Ang|AU\n",
    "<Atoms.SpeciesAndCoordinates           # Unit=AU\n",
    "1  Ba   0.5       0.5       0.5        5.0  5.0   0.0  0.0   0.00  0.0  0 off\n",
    "2  Mn   0.000     0.000     0.000     10.0  5.0   0.00 0.0   0.00  0.0  0 off\n",
    "3   O   0.5000    0.000     0.000      3.0  3.0   0.00  0.0   0.00  0.0  0 off\n",
    "4   O   0.0000    0.5000    0.0000     3.0  3.0   0.00  0.0   0.00  0.0  0 off\n",
    "5   O   0.0000    0.0000    0.5000     3.0  3.0   0.00  0.0   0.00  0.0  0 off\n",
    "Atoms.SpeciesAndCoordinates>\n",
    "Atoms.UnitVectors.Unit             Ang  #  Ang|AU\n",
    "<Atoms.UnitVectors                     # unit=AU\n",
    "  3.9361000061         0.0000000000         0.0000000000\n",
    "  0.0000000000         3.9361000061         0.0000000000\n",
    "  0.0000000000         0.0000000000         4.3\n",
    "Atoms.UnitVectors>\n",
    "\n",
    "#\n",
    "# SCF or Electronic System\n",
    "#\n",
    "\n",
    "scf.XcType                 GGA-PBE     # LDA|LSDA-CA|LSDA-PW|GGA-PBE\n",
    "scf.Hubbard.U              off          # On|Off , default=off\n",
    "scf.Hubbard.Occupation     dual        # onsite|full|dual, default=dual\n",
    "scf.SpinPolarization       NC          # On|Off|NC\n",
    "scf.SpinOrbit.Coupling     on          # On|Off, default=off\n",
    "scf.ElectronicTemperature  300.0       # default=300 (K)\n",
    "scf.energycutoff           150.0       # default=150 (Ry)\n",
    "scf.maxIter                1000         # default=40\n",
    "scf.EigenvalueSolver       band        # Recursion|Cluster|Band\n",
    "scf.Kgrid                  5 5 5       # means 4x4x4\n",
    "scf.Mixing.Type           rmm-diis     # Simple|Rmm-Diis|Gr-Pulay|Kerker|Rmm-Diisk\n",
    "scf.Init.Mixing.Weight     0.010       # default=0.30\n",
    "scf.Min.Mixing.Weight      0.010       # default=0.001\n",
    "scf.Max.Mixing.Weight      0.250       # default=0.40\n",
    "scf.Mixing.History          20         # default=5\n",
    "scf.Mixing.StartPulay       14         # default=6\n",
    "scf.Mixing.EveryPulay       10         # default=6\n",
    "scf.criterion             1.0e-6       # default=1.0e-6 (Hartree)\n",
    "scf.lapack.dste            dstevx      # dstegr|dstedc|dstevx, default=dstevx\n",
    "\n",
    "scf.NC.Zeeman.Spin          off        # on|off, default=off\n",
    "scf.NC.Mag.Field.Spin      1.0e+2      # default=0.0(Tesla)\n",
    "scf.NC.Zeeman.Orbital       off        # on|off, default=off\n",
    "scf.NC.Mag.Field.Orbital   1.0e+3      # default=0.0(Tesla)\n",
    "\n",
    "#\n",
    "# Voronoi Charge\n",
    "#\n",
    "\n",
    "Voronoi.Charge              on         # default = Off\n",
    "\n",
    "\n",
    "\n",
    "#\n",
    "# MD or Geometry Optimization\n",
    "#\n",
    "\n",
    "MD.Type                     Nomd       # Nomd|Constant_Energy_MD|Opt\n",
    "MD.maxIter                   1         # default=1\n",
    "MD.TimeStep                 0.01       # default=0.5 (fs)\n",
    "MD.Opt.criterion          1.0e-4       # default=1.0e-4 (Hartree/bohr)\n",
    "\n",
    "\n",
    "\n",
    "#\n",
    "# restarting using a restart file, *.rst\n",
    "#\n",
    "\n",
    "scf.restart                 off        # on|off , default=off\n",
    "\n",
    "#\n",
    "# MO output\n",
    "#\n",
    "\n",
    "MO.fileout                  off        # on|off\n",
    "num.HOMOs                    3         # default=1\n",
    "num.LUMOs                    3         # default=1\n",
    "MO.Nkpoint                   1         # default=1\n",
    "<MO.kpoint\n",
    " 0.0  0.0  0.0\n",
    "MO.kpoint>\n",
    "\n",
    "```\n",
    "\n",
    "In calculations, please carefully examine the convergence of the cutoff energy and **k**-grid. Readers can refer to <http://www.openmx-square.org/openmx_man3.7/node33.html> for more details."
   ]
  },
  {
   "cell_type": "markdown",
   "metadata": {},
   "source": [
    "** Important references:**\n",
    "\n",
    " 1. T. Ozaki and H. Kino, [Numerical atomic basis orbitals from H to Kr](https://journals.aps.org/prb/abstract/10.1103/PhysRevB.69.195113)\n",
    " \n",
    " 2. A presentation by Javier Junquera, [Exercises on basis set generation Full control on the definition of the basis set functions:  the PAO.Basis block](http://personales.unican.es/junqueraj/JavierJunquera_files/Metodos/Basis/PAO.Basis/PAO.Basis.pdf)\n",
    " \n",
    " 3. "
   ]
  }
 ],
 "metadata": {
  "kernelspec": {
   "display_name": "Python 3",
   "language": "python",
   "name": "python3"
  },
  "language_info": {
   "codemirror_mode": {
    "name": "ipython",
    "version": 3
   },
   "file_extension": ".py",
   "mimetype": "text/x-python",
   "name": "python",
   "nbconvert_exporter": "python",
   "pygments_lexer": "ipython3",
   "version": "3.6.1"
  }
 },
 "nbformat": 4,
 "nbformat_minor": 2
}
