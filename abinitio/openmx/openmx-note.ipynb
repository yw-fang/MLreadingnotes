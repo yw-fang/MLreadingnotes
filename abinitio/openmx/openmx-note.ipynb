{
 "cells": [
  {
   "cell_type": "markdown",
   "metadata": {},
   "source": [
    "# Head First OpenMX\n"
   ]
  },
  {
   "cell_type": "markdown",
   "metadata": {},
   "source": [
    "** Author: Yue-Wen FANG,\n",
    "\n",
    "** Contact: fyuewen@gmail.com\n",
    "\n",
    "** Revision history: created in 6th, September 2017, at New York Uniersity, Shanghai\n",
    "\n",
    "** New York University, Shanghai\n",
    "\n",
    "** Kyto University\n",
    "\n",
    "** The simple tutorial is actually my learning notes of OpenMX."
   ]
  },
  {
   "cell_type": "markdown",
   "metadata": {},
   "source": [
    "## 1. An introduction to openMX"
   ]
  },
  {
   "cell_type": "markdown",
   "metadata": {
    "collapsed": true
   },
   "source": [
    "OpenMX (Open source package for Material eXplorer) <http://www.openmx-square.org/> is a software package for nano-scale material simulations based on density functional theories (DFT), it was initially developped by Prof. T. Ozaki at University of Tokyo, and has been contributed by many other contributors."
   ]
  },
  {
   "cell_type": "markdown",
   "metadata": {},
   "source": [
    "## 2. Running environment"
   ]
  },
  {
   "cell_type": "markdown",
   "metadata": {
    "collapsed": true
   },
   "source": [
    "As far as I have known, OpenMX can only work in the LINUX/UNIX systems."
   ]
  },
  {
   "cell_type": "markdown",
   "metadata": {},
   "source": [
    "### 2.1. Installation"
   ]
  },
  {
   "cell_type": "markdown",
   "metadata": {},
   "source": [
    "The installation is very simple, more details can be found from its official [webpage]<http://www.openmx-square.org>. Note that some versions may need patches. In avoid of unexpected running erros, just use the latest version. Currently the latest one is OpenMX 3.8."
   ]
  },
  {
   "cell_type": "markdown",
   "metadata": {},
   "source": [
    "## 3. How to use OpenMX"
   ]
  },
  {
   "cell_type": "markdown",
   "metadata": {},
   "source": [
    "Although we can find a very well-written and complete manual from the official page. Here, I will only show the important featurs and usages."
   ]
  },
  {
   "cell_type": "markdown",
   "metadata": {},
   "source": [
    "### 3.1 input file and its format"
   ]
  },
  {
   "cell_type": "raw",
   "metadata": {},
   "source": []
  }
 ],
 "metadata": {
  "kernelspec": {
   "display_name": "Python 3",
   "language": "python",
   "name": "python3"
  },
  "language_info": {
   "codemirror_mode": {
    "name": "ipython",
    "version": 3
   },
   "file_extension": ".py",
   "mimetype": "text/x-python",
   "name": "python",
   "nbconvert_exporter": "python",
   "pygments_lexer": "ipython3",
   "version": "3.6.1"
  }
 },
 "nbformat": 4,
 "nbformat_minor": 2
}
