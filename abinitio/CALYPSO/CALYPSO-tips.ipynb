{
 "cells": [
  {
   "cell_type": "markdown",
   "metadata": {},
   "source": [
    "# Tips on CALYPSO\n",
    "\n",
    "Yue-Wen FANG at Kyoto University, 2018 July\n",
    "\n",
    "The opinions expressed here are my own, if you find something wrong or something conflicting with your experience on CALYPSO, please contact me to fix my tips.\n"
   ]
  },
  {
   "cell_type": "markdown",
   "metadata": {},
   "source": [
    "## About CALYPSO"
   ]
  },
  {
   "cell_type": "markdown",
   "metadata": {},
   "source": [
    "In the filed of crystal structure prediction, CALYPSO has been well known owning to its implement of some efficient algorithms (e.g. partical swarm optimization, PSO) in searching for crystal structures.\n",
    "\n",
    "Although it's an free software (register and sign an agreement with the developer Prof. Yanming Ma at Jilin University, China), it's not a open soruce code.\n",
    "\n",
    "I have used this software in my research in the latest year. In particular, during my stay at NYU Shanghai, I searched the ground state structure of LiOsO$_3$, the results can be found in the supplementary materials of this paper ([Pressure-induced enhancement of non-polar to polar transition temperature in metallic LiOsO3](https://doi.org/10.1063/1.5035133)) on Applied Physics Letter."
   ]
  },
  {
   "cell_type": "markdown",
   "metadata": {},
   "source": [
    "## Multiple INCAR optimization strategy "
   ]
  },
  {
   "cell_type": "code",
   "execution_count": null,
   "metadata": {},
   "outputs": [],
   "source": [
    "Use several INCAR from low accuracy to high accuracy so that the structures are systematically optimized.\n",
    "ISIF is also important in INCAR files."
   ]
  },
  {
   "cell_type": "markdown",
   "metadata": {},
   "source": [
    "## KPOINTS generation strategy"
   ]
  },
  {
   "cell_type": "markdown",
   "metadata": {},
   "source": [
    "CALYPSO itself is not so smart to generate a suitable for different structures. Without external toosl, we have to provide a KPOINTS file by hand, or set the KSPACING in the INCAR files. However, the former method is too low, while in the latter method, sometiems there are too many $K$-points are generated even using KSPACING=0.6 if the structure has very large lattice constant.\n",
    "\n",
    "Tonight (July 5, 2018) I found Dr. Yamashita implemented an very great method with the help of pymatgen. He included the script kpt_check.py in CrySPY/utility/genk.\n",
    "\n",
    "Use command 'python kpt_check.py -w POSCAR 100' can help generate the kpoints automatically."
   ]
  }
 ],
 "metadata": {
  "kernelspec": {
   "display_name": "Python 3",
   "language": "python",
   "name": "python3"
  },
  "language_info": {
   "codemirror_mode": {
    "name": "ipython",
    "version": 3
   },
   "file_extension": ".py",
   "mimetype": "text/x-python",
   "name": "python",
   "nbconvert_exporter": "python",
   "pygments_lexer": "ipython3",
   "version": "3.6.3"
  }
 },
 "nbformat": 4,
 "nbformat_minor": 2
}
