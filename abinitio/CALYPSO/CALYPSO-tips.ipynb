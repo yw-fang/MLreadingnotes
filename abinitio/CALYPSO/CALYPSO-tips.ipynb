{
 "cells": [
  {
   "cell_type": "markdown",
   "metadata": {},
   "source": [
    "# Tips on CALYPSO\n",
    "\n",
    "Yue-Wen FANG at Kyoto University, 2018 July\n",
    "\n",
    "The opinions expressed here are my own, if you find something wrong or something conflicting with your experience on CALYPSO, please contact me to fix my tips.\n"
   ]
  },
  {
   "cell_type": "markdown",
   "metadata": {},
   "source": [
    "## About CALYPSO"
   ]
  },
  {
   "cell_type": "markdown",
   "metadata": {},
   "source": [
    "In the filed of crystal structure prediction, CALYPSO has been well known owning to its implement of some efficient algorithms (e.g. partical swarm optimization, PSO) in searching for crystal structures.\n",
    "\n",
    "Although it's an free software (register and sign an agreement with the developer Prof. Yanming Ma at Jilin University, China), it's not a open soruce code.\n",
    "\n",
    "I have used this software in my research in the latest year. In particular, during my stay at NYU Shanghai, I searched the ground state structure of LiOsO$_3$, the results can be found in the supplementary materials of this paper ([Pressure-induced enhancement of non-polar to polar transition temperature in metallic LiOsO3](https://doi.org/10.1063/1.5035133)) on Applied Physics Letter."
   ]
  },
  {
   "cell_type": "markdown",
   "metadata": {},
   "source": [
    "## Multiple INCAR optimization strategy "
   ]
  },
  {
   "cell_type": "code",
   "execution_count": null,
   "metadata": {},
   "outputs": [],
   "source": [
    "Use several INCAR from low accuracy to high accuracy so that the structures are systematically optimized.\n",
    "ISIF is also important in INCAR files."
   ]
  },
  {
   "cell_type": "markdown",
   "metadata": {},
   "source": [
    "## KPOINTS generation strategy"
   ]
  },
  {
   "cell_type": "markdown",
   "metadata": {},
   "source": [
    "CALYPSO itself is not so smart to generate a suitable for different structures. Without external toosl, we have to provide a KPOINTS file by hand, or set the KSPACING in the INCAR files. However, the former method is too low, while in the latter method, sometiems there are too many $K$-points are generated even using KSPACING=0.6 if the structure has very large lattice constant.\n",
    "\n",
    "Tonight (July 5, 2018) I found Dr. Yamashita implemented an very great method with the help of pymatgen. He included the script kpt_check.py in CrySPY/utility/genk.\n",
    "\n",
    "Use command 'python kpt_check.py -w POSCAR 100' can help generate the kpoints automatically."
   ]
  },
  {
   "cell_type": "markdown",
   "metadata": {},
   "source": [
    "##  CALYPSO results analysis using cak.py\n",
    "\n",
    "Dependencies: python2.7, numpy\n",
    "\n",
    "Install: \n",
    "\n",
    "1. cd calypso/Tools/CALYPSO_ANALYSIS; \n",
    "\n",
    "2. vim Makefile\n",
    "\n",
    "3. make\n",
    "\n",
    "cak.py 参数详解：\n",
    "\n",
    "-a 输出所有结构\n",
    "\n",
    "-n i 输出能量最低的 i 个结果\n",
    "\n",
    "-t f 使用精度 f 寻找晶体对称性，默认是0.1\n",
    "\n",
    "-m ’f1,f2,..fn' 使用多个精度寻找对称性\n",
    "\n",
    "--cif 输出cif结构\n",
    "\n",
    "--pos 输出poscar\n",
    "\n",
    "--pri 输出primitive cell\n",
    "\n",
    "--ori 输出未导入对称性信息的结构文件\n",
    "\n",
    "--hard 按照硬度排序结构文件\n",
    "\n",
    "--pch 画出 Convex Hull （变组分搜索时候可以使用）\n",
    "\n",
    "-p 画出能量演化情况\n",
    "\n",
    "-v 打印版本号\n",
    "\n",
    "**Example**\n",
    "\n",
    "cak.py -m ‘0.01 0.1 0.5’ --cif --pos --prim"
   ]
  },
  {
   "cell_type": "code",
   "execution_count": null,
   "metadata": {},
   "outputs": [],
   "source": []
  }
 ],
 "metadata": {
  "kernelspec": {
   "display_name": "Python 3",
   "language": "python",
   "name": "python3"
  },
  "language_info": {
   "codemirror_mode": {
    "name": "ipython",
    "version": 3
   },
   "file_extension": ".py",
   "mimetype": "text/x-python",
   "name": "python",
   "nbconvert_exporter": "python",
   "pygments_lexer": "ipython3",
   "version": "3.6.3"
  }
 },
 "nbformat": 4,
 "nbformat_minor": 2
}
