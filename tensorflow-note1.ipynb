{
 "cells": [
  {
   "cell_type": "markdown",
   "metadata": {},
   "source": [
    "# Head First Tensorflow\n"
   ]
  },
  {
   "cell_type": "markdown",
   "metadata": {},
   "source": [
    "####  Author: Yue-Wen FANG,\n",
    "#### Contact: fyuewen@gmail.com\n",
    "####  Revision history: created in 23th, August 2017, at New York Uniersity, Shanghai\n",
    "#### New York University, Shanghai\n",
    "#### Kyto University\n",
    "#### The purpose of this simple tutorial is to pave a simple way to mchine learning and the application of tensorflow."
   ]
  },
  {
   "cell_type": "markdown",
   "metadata": {},
   "source": [
    "## 1. An introduction to machine learning and deep learning"
   ]
  },
  {
   "cell_type": "code",
   "execution_count": null,
   "metadata": {
    "collapsed": true
   },
   "outputs": [],
   "source": []
  },
  {
   "cell_type": "markdown",
   "metadata": {},
   "source": [
    "## 2. Tensorflow environment"
   ]
  },
  {
   "cell_type": "code",
   "execution_count": null,
   "metadata": {
    "collapsed": true
   },
   "outputs": [],
   "source": []
  },
  {
   "cell_type": "markdown",
   "metadata": {},
   "source": [
    "### 2.1. Installation"
   ]
  },
  {
   "cell_type": "raw",
   "metadata": {},
   "source": [
    "At the moment, I will show you the way to installing tensorflow in WINDOWS 10 through anaconda.\n",
    "\n",
    "Firslty, open anaconda terminal, and set a virtual environment (so called \"sand box\") for tensorflow. This requires a package named \"virtualenv\". Here, I set python to 3.5 and tensorflow to 1.1. Hence, the command to set the sand box is:\n",
    "conda create -n tensorflow35-1.1 python=3.5\n",
    "\n",
    "Secondly, activate this sandbox through:\n",
    "activate tensorflow35-1.1\n",
    "\n",
    "Thirdly, install tensorflow by:\n",
    "pip install tensorflow==1.1.0\n",
    "\n",
    "Lastly, make a test running.\n",
    "\n",
    "Alernatively, if you do not wnat to set up a virtual environment, you can just open the anaconda terminal, and install tensorflow directly by:\n",
    "pip install tensorflow==1.2.0\n",
    "\n",
    "For me, I prefer using Linux. My platform is COMET supercomputer. Miniconda3 was installed. Similar to the way in windows 10,the commands are listed below:\n",
    "conda install virtualenv\n",
    "conda create -n tensorflow36-1.2 python=3.6\n",
    "source activate tensorflow36-1.2 (# Here, activate must be sourced)\n",
    "pip install tensorflow==1.2.0 (#This command will install tensorflow-1.2.0 and other dependencies such as numpy and markdown)\n",
    "pip install matplotlib --upgrade\n",
    "pip install jupyter --upgrade \n",
    "(#Note that most people like to display jupyter notebook in a broswer, however, I cannot install any browser in my supercomputer, hence, I have to use hydrogen based on atom, which can use the kernel of jupyter. Ref: https://www.digitalocean.com/community/tutorials/how-to-set-up-a-jupyter-notebook-to-run-ipython-on-ubuntu-16-04\n",
    "https://atom.io/packages/hydrogen\n",
    "https://github.com/atom/atom/blob/master/docs/build-instructions/linux.md)\n",
    "pip install scikit-image --upgrade  (#This is used for processing figures)\n",
    "pip install librosa --upgrade (#for audio)\n",
    "pip install nltk --upgrade (#natural language, NER)\n",
    "pip install keras --upgrade\n",
    "pip install git+https://github.com/tflearn/tflearn.git"
   ]
  },
  {
   "cell_type": "markdown",
   "metadata": {},
   "source": [
    "## 3. The visualization in Tensorflow"
   ]
  },
  {
   "cell_type": "markdown",
   "metadata": {},
   "source": [
    "### 3.1 PlayGround"
   ]
  },
  {
   "cell_type": "raw",
   "metadata": {},
   "source": []
  }
 ],
 "metadata": {
  "kernelspec": {
   "display_name": "Python 3",
   "language": "python",
   "name": "python3"
  },
  "language_info": {
   "codemirror_mode": {
    "name": "ipython",
    "version": 3
   },
   "file_extension": ".py",
   "mimetype": "text/x-python",
   "name": "python",
   "nbconvert_exporter": "python",
   "pygments_lexer": "ipython3",
   "version": "3.6.1"
  }
 },
 "nbformat": 4,
 "nbformat_minor": 2
}
