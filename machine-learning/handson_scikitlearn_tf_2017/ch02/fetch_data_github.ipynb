{
 "cells": [
  {
   "cell_type": "code",
   "execution_count": 17,
   "metadata": {},
   "outputs": [
    {
     "name": "stdout",
     "output_type": "stream",
     "text": [
      "datasets/housing/housing.tgz\n"
     ]
    }
   ],
   "source": [
    "# -*- coding=utf-8 -*-                                                          \n",
    "import os                                                                       \n",
    "import tarfile                                                                  \n",
    "from six.moves import urllib                                                    \n",
    "                                                                                \n",
    "\"\"\"                                                                             \n",
    "Purpose:                                                                        \n",
    "    Fetch data from GitHub                                                      \n",
    "\"\"\"                                                                             \n",
    "                                                                                \n",
    "__author__ = \"Yue-Wen FANG\"                                                     \n",
    "__copyright__ = \"Copyright 2018\"                                                \n",
    "__version__ = \"0.0.1\"                                                           \n",
    "__maintainer__ = \"Yue-Wen FANG\"                                                 \n",
    "__email__ = \"fyuewen@gmail.com\"                                                 \n",
    "__status__ = \"development\"                                                      \n",
    "__date__ = \"June 1, 2018\"                                                       \n",
    "                                                                                \n",
    "# DOWNLOAD_ROOT = \"https://github.com/ageron/handson-ml/tree/master/\"             \n",
    "# HOUSING_PATH = os.path.join(\"datasets\", \"housing\")\n",
    "# HOUSING_URL = DOWNLOAD_ROOT + \"datasets/housing/housing.tgz\"\n",
    "\n",
    "DOWNLOAD_ROOT = \"https://raw.githubusercontent.com/ageron/handson-ml/master/\"\n",
    "HOUSING_PATH = os.path.join(\"datasets\", \"housing\")\n",
    "HOUSING_URL = DOWNLOAD_ROOT + \"datasets/housing/housing.tgz\"\n",
    "                                                                                \n",
    "                                                                                \n",
    "def fetch_housing_data(housing_url=HOUSING_URL, housing_path=HOUSING_PATH):\n",
    "    if not os.path.isdir(housing_path):                                         \n",
    "        os.makedirs(housing_path)                                               \n",
    "    tgz_path = os.path.join(housing_path, \"housing.tgz\")\n",
    "    print(tgz_path)\n",
    "    urllib.request.urlretrieve(housing_url, tgz_path)                           \n",
    "    housing_tgz = tarfile.open(tgz_path)                                        \n",
    "    housing_tgz.extractall(path=housing_path)                                   \n",
    "    housing_tgz.close()  \n",
    "\n",
    "                                                                                \n",
    "                                                                                \n",
    "fetch_housing_data()"
   ]
  },
  {
   "cell_type": "code",
   "execution_count": null,
   "metadata": {},
   "outputs": [],
   "source": []
  }
 ],
 "metadata": {
  "kernelspec": {
   "display_name": "Python 3",
   "language": "python",
   "name": "python3"
  },
  "language_info": {
   "codemirror_mode": {
    "name": "ipython",
    "version": 3
   },
   "file_extension": ".py",
   "mimetype": "text/x-python",
   "name": "python",
   "nbconvert_exporter": "python",
   "pygments_lexer": "ipython3",
   "version": "3.6.4"
  }
 },
 "nbformat": 4,
 "nbformat_minor": 2
}
