{
 "cells": [
  {
   "cell_type": "markdown",
   "metadata": {},
   "source": [
    "# Ch02 End-to-end ML project\n",
    "\n",
    "If you are a data scientist and get a new ML project, what will you do?\n",
    "\n",
    "- look at the big picture\n",
    "\n",
    "- get the data\n",
    "\n",
    "- discover and visualize the data to gain insights\n",
    "\n",
    "- prepare the data for ML\n",
    "\n",
    "- select a model and train\n",
    "\n",
    "- present your solution\n",
    "\n",
    "- launch, monitor, and maintain the system\n",
    "\n",
    "## Working with Real data\n",
    "\n",
    "Experimenting with the real-world data is the best way to learn ML. There are some places we can get data:\n",
    "\n",
    "- Popular open data repo.\n",
    "\n",
    "  - UC Iriving ML  repo.\n",
    "  \n",
    "  - Kaggle\n",
    "  \n",
    "  - Amazon's AWS datasets\n",
    "  \n",
    "  \n",
    "- Meta portas (they usually list the data repo. that are available)\n",
    "\n",
    "  - http://dataportals.org/\n",
    "  \n",
    "  - https://opendatamonitor.eu/  mainly about the data in Eurapa\n",
    "  \n",
    "  - https://www.quandl.com/  Financial data\n",
    "  \n",
    "- Other pages listing many popular open data repo.\n",
    "\n",
    "  - Wikipedia's list of ML datasets\n",
    "  \n",
    "  - Quora questions\n",
    "  \n",
    "  - Datasets subreddit"
   ]
  },
  {
   "cell_type": "markdown",
   "metadata": {},
   "source": [
    "### Look at the big picture\n",
    "\n",
    "In this notebook, we use the California Housing Prices in 1990.\n",
    "\n",
    "**Tips**\n",
    "As a well-organized data scientist, the first thing you do is to pull out your ML project checklist. \n",
    "We can check  Appedix-B for reference."
   ]
  },
  {
   "cell_type": "markdown",
   "metadata": {},
   "source": [
    "### Frame the problem\n",
    "\n",
    "### Select a Performance Measure\n",
    "\n",
    "- Root mean square error\n",
    "\n",
    "- Mean absolute error\n",
    "\n",
    "#### Check the assumptions\n",
    "\n",
    "### Get the data\n",
    "\n",
    "In the first example of chapter 02,we use this [dataset](./datasets/housing/housing.tgz) (Note that it's a compressed file with extension of tgz)\n",
    "\n",
    "Cerntaily, we can decompress this file into csv file, but it's preferable to create a small function to do that. It is useful in particular if data changes regularly, as it can allow us to write a small sciprt that can run whenever we need it. We can even set up a scheduled job to do that automaticaly at regular intervals.\n",
    "\n",
    "\n",
    "Now, let's start to prepare the function to fetch the data:"
   ]
  },
  {
   "cell_type": "code",
   "execution_count": 2,
   "metadata": {},
   "outputs": [],
   "source": [
    "\n"
   ]
  },
  {
   "cell_type": "code",
   "execution_count": null,
   "metadata": {},
   "outputs": [],
   "source": []
  }
 ],
 "metadata": {
  "kernelspec": {
   "display_name": "Python 3",
   "language": "python",
   "name": "python3"
  },
  "language_info": {
   "codemirror_mode": {
    "name": "ipython",
    "version": 3
   },
   "file_extension": ".py",
   "mimetype": "text/x-python",
   "name": "python",
   "nbconvert_exporter": "python",
   "pygments_lexer": "ipython3",
   "version": "3.6.4"
  }
 },
 "nbformat": 4,
 "nbformat_minor": 2
}
