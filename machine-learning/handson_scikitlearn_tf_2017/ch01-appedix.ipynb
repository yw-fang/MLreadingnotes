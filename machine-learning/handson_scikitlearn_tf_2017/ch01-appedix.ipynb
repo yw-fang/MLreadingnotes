{
 "cells": [
  {
   "cell_type": "markdown",
   "metadata": {},
   "source": [
    "# The usage of random.seed()\n",
    "\n",
    "如果使用了 random.seed()，那么每次所产生的随机数将与前面一次的相同。"
   ]
  },
  {
   "cell_type": "code",
   "execution_count": 13,
   "metadata": {},
   "outputs": [
    {
     "name": "stdout",
     "output_type": "stream",
     "text": [
      "[ 0.88389311  0.19586502  0.35753652 -2.34326191 -1.08483259]\n",
      "**\n",
      "[ 0.55969629  0.93946935 -0.97848104  0.50309684  0.40641447]\n",
      "**\n",
      "[ 0.32346101 -0.49341088 -0.79201679 -0.84236793 -1.27950266]\n",
      "**\n",
      "[ 0.24571517 -0.0441948   1.56763255  1.05110868  0.40636843]\n",
      "**\n",
      "[-0.1686461  -3.18970279  1.12013226  1.33277821 -0.24333877]\n",
      "**\n",
      "[-0.13003071 -0.10901737  1.55618644  0.12877835 -2.06694872]\n",
      "**\n",
      "[-0.88549315 -1.10457948  0.93286635  2.059838   -0.93493796]\n",
      "**\n",
      "[-1.61299022  0.52706972 -1.55110074  0.32961334 -1.13652654]\n",
      "**\n",
      "[-0.3384906   0.32097078 -0.60230802  1.54472836  0.64703408]\n",
      "**\n",
      "[0.59321721 0.4380245  1.35778902 1.20451128 1.35179619]\n",
      "**\n",
      "[ 4.93437236e-01 -2.70436525e+00 -5.55185797e-01  1.50856026e-03\n",
      "  8.57093817e-01]\n",
      "**\n"
     ]
    }
   ],
   "source": [
    "import numpy as np\n",
    "\n",
    "np.random.seed(20)\n",
    "\n",
    "runningtimes=0\n",
    "while (runningtimes <=10):\n",
    "    x = np.random.randn(5)\n",
    "    print(x)\n",
    "    print('**')\n",
    "    runningtimes=runningtimes+1"
   ]
  },
  {
   "cell_type": "code",
   "execution_count": 11,
   "metadata": {},
   "outputs": [
    {
     "name": "stdout",
     "output_type": "stream",
     "text": [
      "[ 0.44122749 -0.33087015  2.43077119 -0.25209213  0.10960984]\n",
      "**\n",
      "[ 0.44122749 -0.33087015  2.43077119 -0.25209213  0.10960984]\n",
      "**\n",
      "[ 0.44122749 -0.33087015  2.43077119 -0.25209213  0.10960984]\n",
      "**\n",
      "[ 0.44122749 -0.33087015  2.43077119 -0.25209213  0.10960984]\n",
      "**\n",
      "[ 0.44122749 -0.33087015  2.43077119 -0.25209213  0.10960984]\n",
      "**\n",
      "[ 0.44122749 -0.33087015  2.43077119 -0.25209213  0.10960984]\n",
      "**\n",
      "[ 0.44122749 -0.33087015  2.43077119 -0.25209213  0.10960984]\n",
      "**\n",
      "[ 0.44122749 -0.33087015  2.43077119 -0.25209213  0.10960984]\n",
      "**\n",
      "[ 0.44122749 -0.33087015  2.43077119 -0.25209213  0.10960984]\n",
      "**\n",
      "[ 0.44122749 -0.33087015  2.43077119 -0.25209213  0.10960984]\n",
      "**\n",
      "[ 0.44122749 -0.33087015  2.43077119 -0.25209213  0.10960984]\n",
      "**\n"
     ]
    }
   ],
   "source": [
    "import numpy as np\n",
    "\n",
    "\n",
    "runningtimes=0\n",
    "while (runningtimes <=10):\n",
    "    np.random.seed(5)\n",
    "    x = np.random.randn(5)\n",
    "    print(x)\n",
    "    print('**')\n",
    "    runningtimes=runningtimes+1"
   ]
  },
  {
   "cell_type": "markdown",
   "metadata": {},
   "source": [
    "# Under stand how path is joined\n",
    "\n",
    "Here, I use a simple example to show how we generate a path in python."
   ]
  },
  {
   "cell_type": "code",
   "execution_count": 15,
   "metadata": {},
   "outputs": [
    {
     "name": "stdout",
     "output_type": "stream",
     "text": [
      "./images/001/300.png\n"
     ]
    }
   ],
   "source": [
    "import os\n",
    "PROJECT_ROOT_DIR = '.'\n",
    "CHAPTER_ID = '001'\n",
    "fig_id = '300'\n",
    "path = os.path.join(PROJECT_ROOT_DIR, \"images\", CHAPTER_ID, fig_id + \".png\")\n",
    "print(path)"
   ]
  },
  {
   "cell_type": "code",
   "execution_count": null,
   "metadata": {},
   "outputs": [],
   "source": []
  }
 ],
 "metadata": {
  "kernelspec": {
   "display_name": "Python 3",
   "language": "python",
   "name": "python3"
  },
  "language_info": {
   "codemirror_mode": {
    "name": "ipython",
    "version": 3
   },
   "file_extension": ".py",
   "mimetype": "text/x-python",
   "name": "python",
   "nbconvert_exporter": "python",
   "pygments_lexer": "ipython3",
   "version": "3.7.1"
  }
 },
 "nbformat": 4,
 "nbformat_minor": 2
}
