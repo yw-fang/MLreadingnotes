{
 "cells": [
  {
   "cell_type": "markdown",
   "metadata": {},
   "source": [
    "# Ch01\n",
    "\n",
    "## What is machine learning\n",
    "There are seveal different definitions of ML.\n",
    "For me, my favouriate definition comes from Tom Mitchell, 1997 in a engineering-oriented way:\n",
    "A computer program is said to learn from experience E with respect to some task T and some performance \n",
    "measure P, if its performance on T, as measured by P, improves with experice E.\n",
    "\n",
    "## Why use machine learning\n",
    "\n",
    "Machine learning is great for:\n",
    "\n",
    "comlex problem/fluctuating environments/large data/no good solution using traditionl method\n",
    "\n",
    "\n",
    "## Types of Machine Learning Systems\n",
    "\n",
    "We can classify them in borad categories based on:\n",
    "\n",
    "- whether or not they are trained with human supervison (supervise, unsupervised, semisupervised, reinforcement)\n",
    "\n",
    "  - **Supervised learning**: traning data includins the desired solutions, called labels. 邮件的垃圾邮件分类是一个非常好的supervised learning的例子。在训练集中，每一个sample（邮件）都被标记为spam或者ham，这就是labels，而这个过程的最终结果就是让邮箱系统能够自己将邮件进行分类。\n",
    "另一个典型的任务是去预测一个目标数值，即regression问题。例如预测一辆车的价格：给定一些列的汽车features（mileage，age，brand等等），这些特征被称作 predictors。为了实现训练目标，我们需要一个包含许多案例的数据集，其中不仅包含了这些predictors，还有相对应的labels（这里，就是价格）。\n",
    "\n",
    "  注意 attribute 和 feature 的区别：尽管很多人经常相互替换地使用这两个词。但是严格地说，在机器学习中，attribute 是一种data type，例如   Mileage。然而 feature 则可以根据不同上下文关系有不同的含义，但通常意义上来说，feature 是 attribute 加上它的 value，例如 Mileage = 15000.\n",
    "\n",
    "  注意 feature 和 preditors 的区别：在我看来，predictors 一定属于feature，但是feature不一定就是predictor。只有当你把这个feature用来作为训练时，这个feature才叫做predictor\n",
    "\n",
    "  - **Unsupervised learning**: 没有labels的机器学习。\n",
    "\n",
    "  - **Semisupervised learning**： partially labeled traning data\n",
    "\n",
    "  - **Reinforcement learning**： it is a very different beast (野兽）. The learning system, called an *agent* in this  context,\n",
    "  can observe the environment, slect, and perform actions, and get *rewards* (or the nagative rewards, *penalties*). It   must then learn by itself what is the best strategy, called a *policy*, to get the most reward over time. A policy defines what action the agent should choose when it is in a given situation.\n",
    "\n",
    "\n",
    "- whether or not they can incrementally on the fly (online versus batch learning)\n",
    "  \n",
    "  - batch learning: **incapable of** learning incrementally; *offline learning*\n",
    "  \n",
    "  - online learning: learning incarementally; Note tahat the who process is usually done offline (i.e., not on the live system), so online learning can be a confusing name. Think of it as *incremental learning*.\n",
    "\n",
    "- whether they work by simply comparing new data points to known data points, or instead detect patterns in the traning data and build a predictive model, much like scientists do (instance-based versus model-based learning)."
   ]
  },
  {
   "cell_type": "markdown",
   "metadata": {},
   "source": [
    "## Example 1-1"
   ]
  },
  {
   "cell_type": "markdown",
   "metadata": {},
   "source": [
    "### Model-based learning"
   ]
  },
  {
   "cell_type": "markdown",
   "metadata": {},
   "source": [
    "**Make some preparations for the environment**"
   ]
  },
  {
   "cell_type": "code",
   "execution_count": 42,
   "metadata": {},
   "outputs": [],
   "source": [
    "# To support both python 2 and python 3\n",
    "from __future__ import division, print_function, unicode_literals\n",
    "\n",
    "# Common imports\n",
    "import numpy as np\n",
    "import os\n",
    "\n",
    "# to make this notebook's output stable across runs\n",
    "np.random.seed(42)  # I don't understand this line very much!\n",
    "\n",
    "# To plot pretty figures\n",
    "%matplotlib inline\n",
    "import matplotlib\n",
    "import matplotlib.pyplot as plt\n",
    "plt.rcParams['axes.labelsize'] = 14\n",
    "plt.rcParams['xtick.labelsize'] = 12\n",
    "plt.rcParams['ytick.labelsize'] = 12\n",
    "\n",
    "# Where to save the figures\n",
    "PROJECT_ROOT_DIR = \".\"\n",
    "CHAPTER_ID = \"fundamentals\"\n",
    "\n",
    "# prepare a function to save figures\n",
    "def save_fig(fig_id, tight_layout=True, dpi=300):\n",
    "    path = os.path.join(PROJECT_ROOT_DIR, \"images\", CHAPTER_ID, fig_id + \".png\")\n",
    "    print(\"Saving figure\", fig_id)\n",
    "    if tight_layout:\n",
    "        plt.tight_layout()\n",
    "    plt.savefig(path, format='png', dpi=dpi)\n",
    "\n",
    "# Ignore useless warnings (see SciPy issue #5998)\n",
    "import warnings\n",
    "warnings.filterwarnings(action=\"ignore\", module=\"scipy\", message=\"^internal gelsd\")"
   ]
  },
  {
   "cell_type": "markdown",
   "metadata": {},
   "source": [
    "**Author's Note**\n",
    "\n",
    "Author's note: This function just merges the OECD's life satisfaction data and the IMF's GDP per capita data. It's a bit too long and boring and it's not specific to Machine Learning, which is why I left it out of the book."
   ]
  },
  {
   "cell_type": "markdown",
   "metadata": {},
   "source": [
    "**Prepare a function which merges the data into DataFrame**"
   ]
  },
  {
   "cell_type": "code",
   "execution_count": 46,
   "metadata": {},
   "outputs": [],
   "source": [
    "\n",
    "# Define a function\n",
    "def prepare_country_stats(oecd_bli, gdp_per_capita):\n",
    "    oecd_bli = oecd_bli[oecd_bli[\"INEQUALITY\"]==\"TOT\"]\n",
    "    oecd_bli = oecd_bli.pivot(index=\"Country\", columns=\"Indicator\", values=\"Value\")\n",
    "    gdp_per_capita.rename(columns={\"2015\": \"GDP per capita\"}, inplace=True)\n",
    "    gdp_per_capita.set_index(\"Country\", inplace=True)\n",
    "    full_country_stats = pd.merge(left=oecd_bli, right=gdp_per_capita,\n",
    "                                  left_index=True, right_index=True)\n",
    "    full_country_stats.sort_values(by=\"GDP per capita\", inplace=True)\n",
    "    remove_indices = [0, 1, 6, 8, 33, 34, 35]\n",
    "    keep_indices = list(set(range(36)) - set(remove_indices))\n",
    "    return full_country_stats[[\"GDP per capita\", 'Life satisfaction']].iloc[keep_indices]"
   ]
  },
  {
   "cell_type": "markdown",
   "metadata": {},
   "source": [
    "I just tweaked the data files here to fetch the files in datasets/lifesat."
   ]
  },
  {
   "cell_type": "markdown",
   "metadata": {},
   "source": [
    "**Plot the data pints with scatters**"
   ]
  },
  {
   "cell_type": "code",
   "execution_count": 72,
   "metadata": {},
   "outputs": [
    {
     "name": "stdout",
     "output_type": "stream",
     "text": [
      "4.853052800266436 4.911544589158484e-05\n"
     ]
    },
    {
     "data": {
      "image/png": "[encoded data removed]",
      "text/plain": [
       "<Figure size 432x288 with 1 Axes>"
      ]
     },
     "metadata": {
      "needs_background": "light"
     },
     "output_type": "display_data"
    }
   ],
   "source": [
    "# Code example\n",
    "import matplotlib\n",
    "import matplotlib.pyplot as plt\n",
    "import numpy as np\n",
    "import pandas as pd\n",
    "import sklearn.linear_model\n",
    "import os\n",
    "\n",
    "# Load the data   thousands : str, default None, 千分位分割符，如“，”或者“.\"\n",
    "\n",
    "datapath = os.path.join(\"datasets\", \"lifesat\", \"\")\n",
    "oecd_bli = pd.read_csv(datapath + \"oecd_bli_2015.csv\", thousands=',')\n",
    "gdp_per_capita = pd.read_csv(datapath + \"gdp_per_capita.csv\",thousands=',',\n",
    "                             delimiter='\\t',\n",
    "                             encoding='latin1', na_values=\"n/a\")\n",
    "\n",
    "# Prepare the data\n",
    "country_stats = prepare_country_stats(oecd_bli, gdp_per_capita)\n",
    "# print(type(country_stats))  # country_stats is a DataFrame.\n",
    "# print(country_stats.head(10))\n",
    "xdata = np.c_[country_stats[\"GDP per capita\"]]\n",
    "# print(xdata[:10])  # xdata and ydata are python lists.\n",
    "ydata = np.c_[country_stats[\"Life satisfaction\"]]\n",
    "# print(ydata[:10])\n",
    "\n",
    "# Visualize the data by scatter\n",
    "country_stats.plot(kind='scatter', s=80, color='red',\n",
    "                   x=\"GDP per capita\", y = \"Life satisfaction\")\n",
    "\n",
    "# Select a linear model\n",
    "model = sklearn.linear_model.LinearRegression()\n",
    "\n",
    "# Train the model\n",
    "model.fit(xdata, ydata)\n",
    "# Get the optimized paraters for the model\n",
    "k, b = model.intercept_[0], model.coef_[0][0]\n",
    "print(k, b)"
   ]
  },
  {
   "cell_type": "markdown",
   "metadata": {},
   "source": [
    "**Plot the best fit**"
   ]
  },
  {
   "cell_type": "code",
   "execution_count": 74,
   "metadata": {},
   "outputs": [
    {
     "data": {
      "text/plain": [
       "[<matplotlib.lines.Line2D at 0x122a0a470>]"
      ]
     },
     "execution_count": 74,
     "metadata": {},
     "output_type": "execute_result"
    },
    {
     "data": {
      "image/png": "[encoded data removed]",
      "text/plain": [
       "<Figure size 432x288 with 1 Axes>"
      ]
     },
     "metadata": {
      "needs_background": "light"
     },
     "output_type": "display_data"
    }
   ],
   "source": [
    "country_stats.plot(kind='scatter', s=80, color='red',\n",
    "                   x=\"GDP per capita\", y = \"Life satisfaction\")\n",
    "\n",
    "# plot the best fit, k, b can be found in the output of previous cell\n",
    "k = 4.853052800266436\n",
    "b = 4.911544589158484E-5\n",
    "x_tmp = np.linspace(0, 60000, 1000)\n",
    "plt.plot(x_tmp, k + b*x_tmp, \"blue\")\n",
    "# print(x_tmp)"
   ]
  },
  {
   "cell_type": "code",
   "execution_count": null,
   "metadata": {},
   "outputs": [],
   "source": []
  },
  {
   "cell_type": "code",
   "execution_count": null,
   "metadata": {},
   "outputs": [],
   "source": []
  },
  {
   "cell_type": "markdown",
   "metadata": {},
   "source": [
    "**Predict Life satisfaction for a new instance**"
   ]
  },
  {
   "cell_type": "code",
   "execution_count": 66,
   "metadata": {},
   "outputs": [
    {
     "name": "stdout",
     "output_type": "stream",
     "text": [
      "Life satisfaction of Cyprus is [[5.96242338]]\n"
     ]
    }
   ],
   "source": [
    "# Make a prediction for Cyprus\n",
    "x_new = [[22587]]  # Cyprus's GDP per capita\n",
    "print(\"Life satisfaction of Cyprus is\", model.predict(x_new))"
   ]
  },
  {
   "cell_type": "code",
   "execution_count": null,
   "metadata": {},
   "outputs": [],
   "source": [
    "Life satisfaction"
   ]
  },
  {
   "cell_type": "code",
   "execution_count": null,
   "metadata": {},
   "outputs": [],
   "source": []
  },
  {
   "cell_type": "markdown",
   "metadata": {},
   "source": [
    "### Apply instance-based learning into the Example1-1"
   ]
  },
  {
   "cell_type": "markdown",
   "metadata": {},
   "source": [
    "In the following cell, I use $K$-Nearest Neighbours regression model to train the data. It's a widely used instance-based learning algorithm.\n",
    "In this example, I will use $K$ = 3."
   ]
  },
  {
   "cell_type": "code",
   "execution_count": 88,
   "metadata": {},
   "outputs": [
    {
     "name": "stdout",
     "output_type": "stream",
     "text": [
      "[[5.76666667]]\n"
     ]
    }
   ],
   "source": [
    "# Select a linear model\n",
    "# from sklearn.neighbors import NearestNeighbors\n",
    "from sklearn.neighbors import KNeighborsRegressor\n",
    "clf = KNeighborsRegressor(n_neighbors=3)\n",
    "\n",
    "# Train the model\n",
    "clf.fit(xdata, ydata)\n",
    "\n",
    "# Make a prediction for Cyprus\n",
    "x_new = [[22587]]  # Cyprus's GDP per capita\n",
    "print(clf.predict(x_new))\n"
   ]
  },
  {
   "cell_type": "markdown",
   "metadata": {},
   "source": [
    "If it (instance-based learning) goes well, our model will make good predictions, however, if it doesn't work well, we need to use more attributes like employment rate, healty, air poluttion, etc, in other words, we need get more data in good quality, or perhaps select a more powerful model like Polynominal Regression model.\n",
    "\n",
    "**In Summary, a machine learning project usually look like**\n",
    "\n",
    "1. We stuided the data\n",
    "\n",
    "2. We slected a model\n",
    "\n",
    "3. We trained it on the training data (i.e. the learning algorithm searched for the model parameter values that minimize a cost function).\n",
    "\n",
    "4. Finnaly, we applied the model to make predictions on new cases (this is called $inference$), hoping that this model will generalize well.\n",
    "\n",
    "\n"
   ]
  },
  {
   "cell_type": "markdown",
   "metadata": {},
   "source": []
  },
  {
   "cell_type": "markdown",
   "metadata": {},
   "source": [
    "## The challenges of Machine Learning\n",
    "\n",
    "The things may make your machine learning project into a mess is 'bad algorithm' and 'bad data'.\n",
    "\n",
    "We usually need achive a tradeoff between the data development and spending money and time on algorithm development.\n",
    "\n",
    "## Data part\n",
    "\n",
    "#### Insufficient quality of training data\n",
    "\n",
    "#### Nonrepresentative training data\n",
    "\n",
    "Check whether your dataset has sampling bias/sampling noise or not. \n",
    "\n",
    "#### Poor-quality data\n",
    "\n",
    "It's often well worth the effort to spend time cleaning up the training data. The truth is most data scientists spend a significant part of their time doing just that. For example:\n",
    "\n",
    "- If some instances are clearly outliers, it may help to simply discard them or try to fix the errors manually\n",
    "\n",
    "- If some instances are missing a few features (e.g., 50% of the customers did not specify their age), you msut decide whether you want to ignore this attibute altogether, ignore these instanxes, fill in the missing values (e.g., wthe the median age), or train one model with the feature and one model without it, and so on)\n",
    "\n",
    "#### Irrelevant Features\n",
    "\n",
    "including too many irrelevant features will influce machine learning results. Hence, **feature engineering** is quite important, and it usually involves\n",
    "\n",
    "- Feature selection: choose the most useful features to train on aming existing features\n",
    "\n",
    "- Feature extraction: combining exsisting featuers to produce a more useful one (dimensionality reduction algorithms can help)\n",
    "\n",
    "- Creating new features by gathering new data\n",
    "\n",
    "\n",
    "### Algorithm part\n",
    "\n",
    "#### Overfitting the traning data\n",
    "\n",
    "Overfitting: model performs well on the training data, but does not generalize well. This usually happens when the model is highly complex with respect to the amount and noisiness of the training data.\n",
    "\n",
    "To solve this problem, we have some solutions that we can try:\n",
    "\n",
    "- To simplify the model \n",
    "\n",
    "- To get more good data\n",
    "\n",
    "- To reduce the noise in the exsiting training data (fix or remove some bad data)\n",
    "\n",
    "Constraining a model to make it simpler and reduce the risk of overfitting: *regularization*.\n",
    "\n",
    "\n",
    "**To simplify a model**, we can use other models instead of it, or we can simplify it by constraining it. The latter (constraining model) is called **regularization**\n",
    "\n",
    "The amount of regularization to apply during learning can be controlled by a **hyperparameter** which is set before training and will not be influed by the learning algorithm.\n",
    "\n",
    "#### Underfitting the traning data\n",
    "\n",
    "Underfitting is the opposite of overfitting: it occurs when your model is too simple to learn the underlying structure of the data.\n",
    "\n",
    "The iptions to fix underfitting:\n",
    "\n",
    "- select a more powerful model\n",
    "\n",
    "- feeding beter features\n",
    "\n",
    "- reducing the constraints on the model (e.g. reducng the regularization hyperparameter)\n",
    "\n",
    "#### Stepping back\n",
    "\n",
    "Let us step back and look at the big picture:\n",
    "\n",
    "In a ML project, we feed the training set to a learning algorithm. If the algorithm is **model-based** it tunes some parameters to fit the model to the training set, and we will hope it be able to make good predictions on new cases as well. If the algorithm is **instance-based**, it just learns the examples by heart and uses **a similarity measure** to generalize to new instances.\n",
    "\n",
    "#### Testing and validating\n",
    "\n",
    "We train the model using the training set and test the model using test set. The error rate on new cases is called the 'generalization error' or 'out-of-sample error', and by evaluating our model on the test set, we can estimate the error. This value indicate how well our model will perform on new instances.\n",
    "\n",
    "In general, 80% of the data for training, and hold out 20% for testing.\n",
    "\n",
    "However, sometimes we may find that even the generalization error in the test set is quite low, it still performs bad in the new instances out of the dataset, the solution is to have a second holdout set called the **'validation set'**. \n",
    "\n",
    "To avoid 'wasting' too much training data in validation sets, a common technique is to use **cross-validation**: the training set is split into complementary subsets, and each model is trained against a different combination of these subsets and validated against the ramaining parts. Once the model type and hyperparameters have been selected, a final model is trained using these hyperparameters on the full training set, and the generalized error is measured on the test set.\n",
    "\n",
    "-------------**No Free Lunch Theorem**-------------------\n",
    "\n",
    "A model is a simplied version of the observations. In the famous paper 'The lack of a priori distinctions between learning algorithms' by **D. Wolperts** in 1996, it demonsted that if you make absolutedly no assumption about the data, then there is no reason to prefer one model over any other. This is called the 'No Free Lunch Theorem'."
   ]
  },
  {
   "cell_type": "code",
   "execution_count": 89,
   "metadata": {},
   "outputs": [
    {
     "data": {
      "text/plain": [
       "3162277660.1683793"
      ]
     },
     "execution_count": 89,
     "metadata": {},
     "output_type": "execute_result"
    }
   ],
   "source": [
    "10**9.5"
   ]
  },
  {
   "cell_type": "markdown",
   "metadata": {},
   "source": [
    "## Example code of using Regularization to reduce the risk of overfitting"
   ]
  },
  {
   "cell_type": "code",
   "execution_count": 141,
   "metadata": {},
   "outputs": [
    {
     "name": "stdout",
     "output_type": "stream",
     "text": [
      "[2, 3, 4, 5, 7, 9, 10, 11, 12, 13, 14, 15, 16, 17, 18, 19, 20, 21, 22, 23, 24, 25, 26, 27, 28, 29, 30, 31, 32]\n",
      "<class 'pandas.core.frame.DataFrame'>\n"
     ]
    },
    {
     "data": {
      "text/plain": [
       "<matplotlib.legend.Legend at 0x129e13390>"
      ]
     },
     "execution_count": 141,
     "metadata": {},
     "output_type": "execute_result"
    },
    {
     "data": {
      "image/png": "[encoded data removed]",
      "text/plain": [
       "<Figure size 640x395.55 with 1 Axes>"
      ]
     },
     "metadata": {},
     "output_type": "display_data"
    }
   ],
   "source": [
    "%matplotlib inline\n",
    "import matplotlib.style\n",
    "import matplotlib as mpl\n",
    "mpl.style.use('classic')\n",
    "mpl.rcParams['figure.facecolor'] = '1'\n",
    "#if choose the grey backgroud, use 0.75\n",
    "mpl.rcParams['figure.figsize'] = [8,8/1.618]\n",
    "mpl.rcParams['lines.linewidth'] = 2.2\n",
    "mpl.rcParams['legend.fancybox'] = True\n",
    "mpl.rcParams['legend.fontsize'] = 19\n",
    "mpl.rcParams['legend.scatterpoints'] = 1 #scatterpoints,\n",
    "mpl.rcParams[\"axes.formatter.useoffset\"]=False #turn off the axis offset-values. \n",
    "# If on. the axis label will use a offset value by the side of axis\n",
    "mpl.rcParams[\"axes.linewidth\"]  = 2.5 #change the boarder width\n",
    "#plt.rcParams[\"axes.edgecolor\"] = \"0.15\" #change the boarder color\n",
    "ticklabel_size = 22\n",
    "mpl.rcParams['xtick.labelsize'] = ticklabel_size\n",
    "mpl.rcParams['ytick.labelsize'] = ticklabel_size\n",
    "\n",
    "import matplotlib.pyplot as plt\n",
    "import numpy as np\n",
    "import pandas as pd\n",
    "from pandas import DataFrame\n",
    "\n",
    "\n",
    "\n",
    "########################Load data########################\n",
    "# Define a function used for merging data\n",
    "def prepare_country_stats(oecd_bli, gdp_per_capita):\n",
    "    oecd_bli = oecd_bli[oecd_bli[\"INEQUALITY\"]==\"TOT\"]\n",
    "    oecd_bli = oecd_bli.pivot(index=\"Country\", columns=\"Indicator\", values=\"Value\")\n",
    "    gdp_per_capita.rename(columns={\"2015\": \"GDP per capita\"}, inplace=True)\n",
    "    gdp_per_capita.set_index(\"Country\", inplace=True)\n",
    "    full_country_stats = pd.merge(left=oecd_bli, right=gdp_per_capita,\n",
    "                                  left_index=True, right_index=True)\n",
    "    full_country_stats.sort_values(by=\"GDP per capita\", inplace=True)\n",
    "    return full_country_stats[[\"GDP per capita\", 'Life satisfaction']]\n",
    "#     remove_indices = [0, 1, 6, 8, 33, 34, 35]\n",
    "#     keep_indices = list(set(range(36)) - set(remove_indices))\n",
    "# return full_country_stats[[\"GDP per capita\", 'Life satisfaction']].iloc[keep_indices]\n",
    "\n",
    "remove_indices = [0, 1, 6, 8, 33, 34, 35]\n",
    "keep_indices = list(set(range(36)) - set(remove_indices))\n",
    "\n",
    "datapath = os.path.join(\"datasets\", \"lifesat\", \"\")\n",
    "oecd_bli = pd.read_csv(datapath + \"oecd_bli_2015.csv\", thousands=',')\n",
    "gdp_per_capita = pd.read_csv(datapath + \"gdp_per_capita.csv\",thousands=',',\n",
    "                             delimiter='\\t',\n",
    "                             encoding='latin1', na_values=\"n/a\")\n",
    "\n",
    "# Prepare the data\n",
    "print(keep_indices)\n",
    "full_data = prepare_country_stats(oecd_bli, gdp_per_capita)\n",
    "\n",
    "# devide the data into two part. I will compare the different learning by using partial data and all data\n",
    "sample_data = full_data.iloc[keep_indices]\n",
    "supplementary_data = full_data.iloc[remove_indices]\n",
    "print(type(sample_data))\n",
    "\n",
    "\n",
    "#################training#########################\n",
    "## use sample_data for training, use LinearRegression algorithm\n",
    "\n",
    "## use full_data for training, use LinearRegression algorithm\n",
    "\n",
    "## use sample_data for training, use Regularization to reduce the overfitting\n",
    "\n",
    "#################Ploting part#####################\n",
    "fig1 = plt.figure()\n",
    "ax1=fig1.add_subplot(1,1,1)\n",
    "\n",
    "# plot all the data using scatters\n",
    "ax1.plot(sample_data['GDP per capita'], sample_data['Life satisfaction'], 'o',color='red',markersize=15, label='sample')\n",
    "ax1.plot(supplementary_data['GDP per capita'], supplementary_data['Life satisfaction'], '<', color='blue',\n",
    "        markersize=15, label='supplementary')\n",
    "ax1.legend(loc='best')\n"
   ]
  },
  {
   "cell_type": "code",
   "execution_count": 130,
   "metadata": {},
   "outputs": [
    {
     "data": {
      "text/plain": [
       "9437.372"
      ]
     },
     "execution_count": 130,
     "metadata": {},
     "output_type": "execute_result"
    }
   ],
   "source": []
  },
  {
   "cell_type": "code",
   "execution_count": 106,
   "metadata": {},
   "outputs": [
    {
     "data": {
      "text/html": [
       "<div>\n",
       "<style scoped>\n",
       "    .dataframe tbody tr th:only-of-type {\n",
       "        vertical-align: middle;\n",
       "    }\n",
       "\n",
       "    .dataframe tbody tr th {\n",
       "        vertical-align: top;\n",
       "    }\n",
       "\n",
       "    .dataframe thead th {\n",
       "        text-align: right;\n",
       "    }\n",
       "</style>\n",
       "<table border=\"1\" class=\"dataframe\">\n",
       "  <thead>\n",
       "    <tr style=\"text-align: right;\">\n",
       "      <th></th>\n",
       "      <th>GDP per capita</th>\n",
       "      <th>Life satisfaction</th>\n",
       "    </tr>\n",
       "    <tr>\n",
       "      <th>Country</th>\n",
       "      <th></th>\n",
       "      <th></th>\n",
       "    </tr>\n",
       "  </thead>\n",
       "  <tbody>\n",
       "    <tr>\n",
       "      <th>Brazil</th>\n",
       "      <td>8669.998</td>\n",
       "      <td>7.0</td>\n",
       "    </tr>\n",
       "    <tr>\n",
       "      <th>Mexico</th>\n",
       "      <td>9009.280</td>\n",
       "      <td>6.7</td>\n",
       "    </tr>\n",
       "    <tr>\n",
       "      <th>Chile</th>\n",
       "      <td>13340.905</td>\n",
       "      <td>6.7</td>\n",
       "    </tr>\n",
       "    <tr>\n",
       "      <th>Czech Republic</th>\n",
       "      <td>17256.918</td>\n",
       "      <td>6.5</td>\n",
       "    </tr>\n",
       "    <tr>\n",
       "      <th>Norway</th>\n",
       "      <td>74822.106</td>\n",
       "      <td>7.4</td>\n",
       "    </tr>\n",
       "    <tr>\n",
       "      <th>Switzerland</th>\n",
       "      <td>80675.308</td>\n",
       "      <td>7.5</td>\n",
       "    </tr>\n",
       "    <tr>\n",
       "      <th>Luxembourg</th>\n",
       "      <td>101994.093</td>\n",
       "      <td>6.9</td>\n",
       "    </tr>\n",
       "  </tbody>\n",
       "</table>\n",
       "</div>"
      ],
      "text/plain": [
       "                GDP per capita  Life satisfaction\n",
       "Country                                          \n",
       "Brazil                8669.998                7.0\n",
       "Mexico                9009.280                6.7\n",
       "Chile                13340.905                6.7\n",
       "Czech Republic       17256.918                6.5\n",
       "Norway               74822.106                7.4\n",
       "Switzerland          80675.308                7.5\n",
       "Luxembourg          101994.093                6.9"
      ]
     },
     "execution_count": 106,
     "metadata": {},
     "output_type": "execute_result"
    }
   ],
   "source": [
    "sample_data.head(10)"
   ]
  },
  {
   "cell_type": "code",
   "execution_count": 108,
   "metadata": {},
   "outputs": [
    {
     "data": {
      "text/html": [
       "<div>\n",
       "<style scoped>\n",
       "    .dataframe tbody tr th:only-of-type {\n",
       "        vertical-align: middle;\n",
       "    }\n",
       "\n",
       "    .dataframe tbody tr th {\n",
       "        vertical-align: top;\n",
       "    }\n",
       "\n",
       "    .dataframe thead th {\n",
       "        text-align: right;\n",
       "    }\n",
       "</style>\n",
       "<table border=\"1\" class=\"dataframe\">\n",
       "  <thead>\n",
       "    <tr style=\"text-align: right;\">\n",
       "      <th></th>\n",
       "      <th>GDP per capita</th>\n",
       "      <th>Life satisfaction</th>\n",
       "    </tr>\n",
       "    <tr>\n",
       "      <th>Country</th>\n",
       "      <th></th>\n",
       "      <th></th>\n",
       "    </tr>\n",
       "  </thead>\n",
       "  <tbody>\n",
       "    <tr>\n",
       "      <th>Brazil</th>\n",
       "      <td>8669.998</td>\n",
       "      <td>7.0</td>\n",
       "    </tr>\n",
       "    <tr>\n",
       "      <th>Mexico</th>\n",
       "      <td>9009.280</td>\n",
       "      <td>6.7</td>\n",
       "    </tr>\n",
       "    <tr>\n",
       "      <th>Chile</th>\n",
       "      <td>13340.905</td>\n",
       "      <td>6.7</td>\n",
       "    </tr>\n",
       "    <tr>\n",
       "      <th>Czech Republic</th>\n",
       "      <td>17256.918</td>\n",
       "      <td>6.5</td>\n",
       "    </tr>\n",
       "    <tr>\n",
       "      <th>Norway</th>\n",
       "      <td>74822.106</td>\n",
       "      <td>7.4</td>\n",
       "    </tr>\n",
       "    <tr>\n",
       "      <th>Switzerland</th>\n",
       "      <td>80675.308</td>\n",
       "      <td>7.5</td>\n",
       "    </tr>\n",
       "    <tr>\n",
       "      <th>Luxembourg</th>\n",
       "      <td>101994.093</td>\n",
       "      <td>6.9</td>\n",
       "    </tr>\n",
       "  </tbody>\n",
       "</table>\n",
       "</div>"
      ],
      "text/plain": [
       "                GDP per capita  Life satisfaction\n",
       "Country                                          \n",
       "Brazil                8669.998                7.0\n",
       "Mexico                9009.280                6.7\n",
       "Chile                13340.905                6.7\n",
       "Czech Republic       17256.918                6.5\n",
       "Norway               74822.106                7.4\n",
       "Switzerland          80675.308                7.5\n",
       "Luxembourg          101994.093                6.9"
      ]
     },
     "execution_count": 108,
     "metadata": {},
     "output_type": "execute_result"
    }
   ],
   "source": [
    "supplementary_data"
   ]
  },
  {
   "cell_type": "code",
   "execution_count": null,
   "metadata": {},
   "outputs": [],
   "source": []
  }
 ],
 "metadata": {
  "kernelspec": {
   "display_name": "Python 3",
   "language": "python",
   "name": "python3"
  },
  "language_info": {
   "codemirror_mode": {
    "name": "ipython",
    "version": 3
   },
   "file_extension": ".py",
   "mimetype": "text/x-python",
   "name": "python",
   "nbconvert_exporter": "python",
   "pygments_lexer": "ipython3",
   "version": "3.7.1"
  }
 },
 "nbformat": 4,
 "nbformat_minor": 2
}
