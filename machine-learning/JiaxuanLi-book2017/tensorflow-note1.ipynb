{
 "cells": [
  {
   "cell_type": "markdown",
   "metadata": {},
   "source": [
    "# Head First Tensorflow\n"
   ]
  },
  {
   "cell_type": "markdown",
   "metadata": {},
   "source": [
    "####  Author: Yue-Wen FANG,\n",
    "#### Contact: fyuewen@gmail.com\n",
    "####  Revision history: created in 23th, August 2017, at New York Uniersity, Shanghai\n",
    "#### New York University, Shanghai\n",
    "#### Kyto University\n",
    "#### The purpose of this simple tutorial is to pave a simple way to mchine learning and the application of tensorflow."
   ]
  },
  {
   "cell_type": "markdown",
   "metadata": {},
   "source": [
    "## 1. An introduction to machine learning and deep learning"
   ]
  },
  {
   "cell_type": "code",
   "execution_count": null,
   "metadata": {
    "collapsed": true
   },
   "outputs": [],
   "source": []
  },
  {
   "cell_type": "markdown",
   "metadata": {},
   "source": [
    "## 2. Tensorflow environment"
   ]
  },
  {
   "cell_type": "markdown",
   "metadata": {
    "collapsed": true
   },
   "source": [
    "Tensorflow is a multiple terminals, and Jiaxuan Li's book maily introduceds the version on Mac. For more details, we can refer to the official webpage of tersorflow."
   ]
  },
  {
   "cell_type": "markdown",
   "metadata": {},
   "source": [
    "### 2.1. Installation"
   ]
  },
  {
   "cell_type": "markdown",
   "metadata": {},
   "source": [
    "Li's book recommends to instaill \"virtualenv\". This is a sand box.\n",
    "\n",
    "As for myself, conda is my favoriate environment. Hence, I prefer installing tensorflow by the commands of conda. The details can be found [here](https://www.tensorflow.org/install/install_linux#installing_with_anaconda)."
   ]
  },
  {
   "cell_type": "code",
   "execution_count": null,
   "metadata": {
    "collapsed": true
   },
   "outputs": [],
   "source": [
    "conda create -n tensorflow1.3\n",
    "source activate tensorflow1.3\n",
    "pip install --ignore-installed --upgrade \\\n",
    "https://storage.googleapis.com/tensorflow/linux/cpu/tensorflow-1.3.0-cp34-cp34m-linux_x86_64.whl\n",
    "#more details can be found https://www.tensorflow.org/install/install_linux#installing_with_anaconda"
   ]
  },
  {
   "cell_type": "raw",
   "metadata": {},
   "source": [
    "\n",
    "pip install matplotlib --upgrade\n",
    "pip install jupyter --upgrade \n",
    "(#Note that most people like to display jupyter notebook in a broswer, however, I cannot install any browser in my supercomputer, hence, I have to use hydrogen based on atom, which can use the kernel of jupyter. Ref: https://www.digitalocean.com/community/tutorials/how-to-set-up-a-jupyter-notebook-to-run-ipython-on-ubuntu-16-04\n",
    "https://atom.io/packages/hydrogen\n",
    "https://github.com/atom/atom/blob/master/docs/build-instructions/linux.md)\n",
    "pip install scikit-image --upgrade  (#This is used for processing figures)\n",
    "pip install librosa --upgrade (#for audio)\n",
    "pip install nltk --upgrade (#natural language, NER)\n",
    "pip install keras --upgrade\n",
    "pip install git+https://github.com/tflearn/tflearn.git"
   ]
  },
  {
   "cell_type": "markdown",
   "metadata": {},
   "source": [
    "## 3. The visualization in Tensorflow"
   ]
  },
  {
   "cell_type": "markdown",
   "metadata": {},
   "source": [
    "### 3.1 PlayGround"
   ]
  },
  {
   "cell_type": "raw",
   "metadata": {},
   "source": []
  }
 ],
 "metadata": {
  "kernelspec": {
   "display_name": "Python 3",
   "language": "python",
   "name": "python3"
  },
  "language_info": {
   "codemirror_mode": {
    "name": "ipython",
    "version": 3
   },
   "file_extension": ".py",
   "mimetype": "text/x-python",
   "name": "python",
   "nbconvert_exporter": "python",
   "pygments_lexer": "ipython3",
   "version": "3.6.1"
  }
 },
 "nbformat": 4,
 "nbformat_minor": 2
}
