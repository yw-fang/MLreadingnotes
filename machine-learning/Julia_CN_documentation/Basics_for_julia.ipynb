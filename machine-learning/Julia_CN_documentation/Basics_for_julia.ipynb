{
 "cells": [
  {
   "cell_type": "markdown",
   "metadata": {},
   "source": [
    "Author: Yue-Wen FANG\n",
    "Address: Kyoto University\n",
    "\n",
    "# Introduction\n",
    "\n",
    "This is a very simple tutorial of installing and using julia.\n",
    "The version of julia and the operation system I am using are julia 1.0 and mac os, respectively.\n",
    "\n",
    "# Installation\n",
    "\n",
    "Download it from https://julialang.org/downloads/ and install it to Applications in mac os.\n",
    "\n",
    "# "
   ]
  }
 ],
 "metadata": {
  "kernelspec": {
   "display_name": "Python 3",
   "language": "python",
   "name": "python3"
  },
  "language_info": {
   "codemirror_mode": {
    "name": "ipython",
    "version": 3
   },
   "file_extension": ".py",
   "mimetype": "text/x-python",
   "name": "python",
   "nbconvert_exporter": "python",
   "pygments_lexer": "ipython3",
   "version": "3.6.3"
  }
 },
 "nbformat": 4,
 "nbformat_minor": 2
}
