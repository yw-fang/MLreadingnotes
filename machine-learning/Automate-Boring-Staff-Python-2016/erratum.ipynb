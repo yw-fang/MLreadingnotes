{
 "cells": [
  {
   "cell_type": "markdown",
   "metadata": {},
   "source": [
    "# Erratum\n",
    "\n",
    "I only report the erratum I have found as a general reader. I noted in the Chineve version, many Chinese readers saied there were many errors in this book. So, if you find you cannot run the code as used in the book, please review the code carefully by your self. I will be also glad to discuss with you for Python issues.\n",
    "\n",
    "## 13.1.7 \n",
    "\n",
    "第1步:找到所有PDF文件，代码中标记为（3）的地方，存在错误，应该写作"
   ]
  },
  {
   "cell_type": "code",
   "execution_count": null,
   "metadata": {},
   "outputs": [],
   "source": [
    "pdfFiles.sort(key=str.lower)"
   ]
  }
 ],
 "metadata": {
  "kernelspec": {
   "display_name": "Python 3",
   "language": "python",
   "name": "python3"
  },
  "language_info": {
   "codemirror_mode": {
    "name": "ipython",
    "version": 3
   },
   "file_extension": ".py",
   "mimetype": "text/x-python",
   "name": "python",
   "nbconvert_exporter": "python",
   "pygments_lexer": "ipython3",
   "version": "3.7.1"
  }
 },
 "nbformat": 4,
 "nbformat_minor": 2
}
