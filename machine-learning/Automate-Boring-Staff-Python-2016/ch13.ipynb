{
 "cells": [
  {
   "cell_type": "markdown",
   "metadata": {},
   "source": [
    "# Ch13 处理pdf和wrod文档\n",
    "\n",
    "2019 July 24 at Kyoto Univ."
   ]
  },
  {
   "cell_type": "markdown",
   "metadata": {},
   "source": [
    "pdf 和 word 文档都是二进制文件，由于包含多媒体信息（图标甚至视频），处理起来比普通文本复杂许多。好在一些先驱者已经写好了一些模块可以让我们来使用，致敬这帮人！哈哈。这章节我们主要专注从pdf中解析文本，或者从已有文档生成新的pdf。"
   ]
  },
  {
   "cell_type": "markdown",
   "metadata": {},
   "source": [
    "13.1.1 从 pdf 提取文本\n",
    "\n",
    "此处我们使用PyPDF2模块，注意它并不能帮助我们提取图像等多媒体信息，不过可以提取文本，并将文本返回为strs。\n",
    "本书提供了一些文件可以供我们下载。\n",
    "方便点的话，我们直接在terminal上用"
   ]
  },
  {
   "cell_type": "code",
   "execution_count": null,
   "metadata": {},
   "outputs": [],
   "source": [
    "wget https://nostarch.com/download/Automate_the_Boring_Stuff_onlinematerials_v.2.zip"
   ]
  },
  {
   "cell_type": "markdown",
   "metadata": {},
   "source": [
    "就可以下载到，然后可以找到一个叫做meetingminitus.pdf的文件。这个就是我们接下来要用的"
   ]
  },
  {
   "cell_type": "code",
   "execution_count": 6,
   "metadata": {},
   "outputs": [
    {
     "name": "stdout",
     "output_type": "stream",
     "text": [
      "19\n",
      "OOFFFFIICCIIAALL  BBOOAARRDD  MMIINNUUTTEESS   Meeting of \n",
      "March 7\n",
      ", 2014\n",
      "        \n",
      "     The Board of Elementary and Secondary Education shall provide leadership and \n",
      "create policies for education that expand opportunities for children, empower \n",
      "families and communities, and advance Louisiana in an increasingly \n",
      "competitive glob\n",
      "al market.\n",
      " BOARD \n",
      " of ELEMENTARY\n",
      " and \n",
      " SECONDARY\n",
      " EDUCATION\n",
      "  \n"
     ]
    }
   ],
   "source": [
    "import PyPDF2\n",
    "\n",
    "with open('./automate_online-materials/meetingminutes.pdf', 'rb') as f:\n",
    "    pdfreader = PyPDF2.PdfFileReader(f)\n",
    "    print(pdfreader.numPages)\n",
    "    \n",
    "    page0 = pdfreader.getPage(0)\n",
    "    page0text = page0.extractText()\n",
    "    print(page0text)"
   ]
  },
  {
   "cell_type": "code",
   "execution_count": null,
   "metadata": {},
   "outputs": [],
   "source": []
  }
 ],
 "metadata": {
  "kernelspec": {
   "display_name": "Python 3",
   "language": "python",
   "name": "python3"
  },
  "language_info": {
   "codemirror_mode": {
    "name": "ipython",
    "version": 3
   },
   "file_extension": ".py",
   "mimetype": "text/x-python",
   "name": "python",
   "nbconvert_exporter": "python",
   "pygments_lexer": "ipython3",
   "version": "3.7.1"
  }
 },
 "nbformat": 4,
 "nbformat_minor": 2
}
