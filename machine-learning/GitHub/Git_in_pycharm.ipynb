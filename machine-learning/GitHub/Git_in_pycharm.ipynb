{
 "cells": [
  {
   "cell_type": "markdown",
   "metadata": {},
   "source": [
    "## 1. version control using git built in pycharm"
   ]
  },
  {
   "cell_type": "markdown",
   "metadata": {
    "collapsed": true
   },
   "source": [
    "When using pycharm in Ubuntu, I got an error associated id_rsa. I was clear that this error must be caused by my settings on the shsh keys. In this ubuntu, I have generated muliple ssh private/public key paris before, this makes the pycharm version control frustrated.\n",
    "\n",
    "Up till now, pycharm itself does not support several keys. However, a plugin called [intellij-plugins](https://github.com/JetBrains/intellij-plugins) can help save the key and passphrase information. For you information, you can see the stackoverflow discussion [here](https://stackoverflow.com/questions/20632511/how-do-i-connect-intellij-to-github-using-ssh/)\n",
    "\n",
    "Here, I will show you how to solve this problem using the .ssh/config file.\n",
    "\n",
    "To make it clear, I genereate a new ssh key pair:\n"
   ]
  },
  {
   "cell_type": "code",
   "execution_count": null,
   "metadata": {},
   "outputs": [],
   "source": [
    "ssh-keygen -t rsa -b 4096 -C \"fyuewen@hotmail.com\""
   ]
  },
  {
   "cell_type": "markdown",
   "metadata": {},
   "source": [
    "I named the private key file to be 'id_rsa_pycharm-git', corerspondingly it's public key would be 'id_rsa_pycharm-git.pub'."
   ]
  },
  {
   "cell_type": "code",
   "execution_count": null,
   "metadata": {},
   "outputs": [],
   "source": [
    "ssh-add ~/.ssh/id_rsa_pycharm-git"
   ]
  },
  {
   "cell_type": "code",
   "execution_count": null,
   "metadata": {},
   "outputs": [],
   "source": [
    "ssh-add -l # to ensure the key is added"
   ]
  },
  {
   "cell_type": "markdown",
   "metadata": {},
   "source": [
    "open ~/.ssh/config and revise it:\n",
    "\n",
    "Host github-fyuewen\n",
    "    HostName github.com\n",
    "    User git\n",
    "    IdentityFile ~/.ssh/id_rsa_pycharm-git.pub"
   ]
  },
  {
   "cell_type": "markdown",
   "metadata": {},
   "source": [
    "Got to you github, and add the public key in the settings."
   ]
  },
  {
   "cell_type": "markdown",
   "metadata": {},
   "source": [
    "start a new terminal, lauch your pycharm in the terminal. Go the settings->version contrl-> git, set the git excutable to 'native'. This step is very import. \n",
    "\n",
    "Now you can have a try with 'git push'."
   ]
  },
  {
   "cell_type": "markdown",
   "metadata": {},
   "source": []
  },
  {
   "cell_type": "markdown",
   "metadata": {},
   "source": []
  },
  {
   "cell_type": "code",
   "execution_count": null,
   "metadata": {},
   "outputs": [],
   "source": []
  }
 ],
 "metadata": {
  "kernelspec": {
   "display_name": "Python 2",
   "language": "python",
   "name": "python2"
  },
  "language_info": {
   "codemirror_mode": {
    "name": "ipython",
    "version": 2
   },
   "file_extension": ".py",
   "mimetype": "text/x-python",
   "name": "python",
   "nbconvert_exporter": "python",
   "pygments_lexer": "ipython2",
   "version": "2.7.6"
  }
 },
 "nbformat": 4,
 "nbformat_minor": 0
}
