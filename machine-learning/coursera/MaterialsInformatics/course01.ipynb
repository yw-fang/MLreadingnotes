{
 "cells": [
  {
   "cell_type": "markdown",
   "metadata": {},
   "source": [
    "大纲：\n",
    "\n",
    "Module 1: Accelerating Materials Development and Deployment\n",
    "\n",
    "Module 2: Materials Knowledge and Materials Data Science\n",
    "\n",
    "Module 3: Materials Innovation Cyberinfrastructure and Integrated Workflows\n",
    "\n",
    "Module 4: Materials Knowledge Improvement Cycles\n",
    "\n",
    "Module 5: Case Study in Homogenization:\n",
    "\n",
    "Plastic Properties of Two-Phase Composites\n",
    "\n",
    "Module 6: Process-Structure Evolution Linkages\n"
   ]
  },
  {
   "cell_type": "markdown",
   "metadata": {},
   "source": [
    "# Module 1. Module 1: Accelerating Materials Development and Deployment"
   ]
  },
  {
   "cell_type": "markdown",
   "metadata": {},
   "source": [
    "## 1.1 importance-of-accelerated-and-integrated-materials-and-product-design"
   ]
  },
  {
   "cell_type": "markdown",
   "metadata": {},
   "source": [
    "To summarize what we've\n",
    "learned in this first lecture. First, the 20th century grand\n",
    "challenges and advancement have involve materials in the 21st century\n",
    "grand challenges will involve materials. This is a very safe bet. Modeling and simulation in computations\n",
    "exploded over the last 15 to 20 years, and it leads us to the idea that we can reduce\n",
    "the time from discovery of materials to deployment of products by taking\n",
    "advantage of, exploiting. Data sciences and informatics to couple\n",
    "with modeling and simulation and experiments to be able to accelerate that. In revolutions in modeling and\n",
    "in big data, computational methods, Internet,\n",
    "Internet of things, these usher in this new era of possibility to accelerate\n",
    "materials discovery of development."
   ]
  },
  {
   "cell_type": "markdown",
   "metadata": {},
   "source": [
    "## 1.2 historical-materials-development-and-deployment-cycles"
   ]
  },
  {
   "cell_type": "markdown",
   "metadata": {},
   "source": [
    "Typically it cost 20 years for materials discovered in universitise or industry research laboratores to find their way into products.\n",
    "\n",
    "Why does it cost so long? Well, after discovering\n",
    "the material one has to optimized properties, but it can't\n",
    "find its way in their product yet. It has to undergo a rigorous,\n",
    "stringent certification process. It has to meet the many requirements. It has to be cost effective and so forth. So, largely we've relied\n",
    "on empirical routes. \n",
    "\n",
    "**It's interesting that this\n",
    "cycle time from the discovery of a material to its deployment hasn't\n",
    "changed much over this period of time.** For example, if we consider Charles Goodyear's work\n",
    "on vulcanized rubber in the mid 1800s. It was an important discovery that's\n",
    "enabled modern automotive tires. So, crosslinking, the crosslinking of molecules has allowed\n",
    "rubber to withstand heat and cold. And it's given us huge consumer benefits\n",
    "in a wide range of applications. This was discovered serendipitously\n",
    "in other words empirically. **The question is can we use modelling\n",
    "and simulation, data sciences, data mining, machine learning, the elements of data sciences\n",
    "to advance this rate.**\n",
    "\n",
    "In summary, we can say that\n",
    "the historical trend of about 20-25 years to translate a materials\n",
    "discovery in the laboratory to a product. It's been something that's\n",
    "been hard to break out of. And materials discovery by chance for empiricism has been this traditional\n",
    "route, but we are breaking out of it. We are promised to do so, with the\n",
    "intersection of modeling and simulation, advanced experimental techniques and\n",
    "the coupling with data sciences and informatics. This represents an important shift\n",
    "towards the integration of materials and product design. To be able to match more\n",
    "rapidly in a customized way translate our needs into products."
   ]
  },
  {
   "cell_type": "markdown",
   "metadata": {},
   "source": [
    "## 1.3 how-do-we-accelerate-materials-development-and-deployment"
   ]
  },
  {
   "cell_type": "markdown",
   "metadata": {},
   "source": [
    "We've talked about top down design\n",
    "having significant challenges and a dose of reality is essential\n",
    "to understanding how we can move forward in advancing methods\n",
    "for materials design and development. And most importantly,\n",
    "for our purposes here, the data sciences can play a key role\n",
    "in reducing the number of experiments, the degree of impericism that exists\n",
    "historically in this process. And to provide a better support for\n",
    "decision making in the process of design and development of new and\n",
    "improved materials"
   ]
  },
  {
   "cell_type": "markdown",
   "metadata": {},
   "source": [
    "## 1.4 emergence-of-multi-stakeholder-initiatives"
   ]
  },
  {
   "cell_type": "markdown",
   "metadata": {},
   "source": [
    "One could accelerate the design and\n",
    "development of materials that previously taken 20 to 30 years down to a time frame\n",
    "in the order of three to five years. This important demonstration\n",
    "then served as a basis for industry to support the Integrated\n",
    "Computational Materials Engineering initiative, or ICME initiative. In which engineering and modeling a simulation via materials\n",
    "engineering are brought together by integrating these computational\n",
    "tools with decision processes in materials development,\n",
    "using various kinds of methodologies.\n",
    "\n",
    "This entire method or\n",
    "philosophy of accelerating the insertion of materials really\n",
    "relies on two driving forces. One is the consumer demand for improved\n",
    "materials with an enhanced functionality, lighter weight,\n",
    "lower cost is ever increasing. And secondly, that the time to introduce\n",
    "new materials into the market place has traditionally been on the order of 15\n",
    "to 20 years when now the time frame for design and prototyping is down to\n",
    "something in the order of 18 to 36 months for most consumer products. So that kind of disconnect between the\n",
    "time scales of developing materials and designing new products is part of\n",
    "what we're trying to get rid of or eliminate with\n",
    "the Materials Genome Initiative.\n",
    "\n",
    "**In summary, we've discussed how\n",
    "the accelerated materials discovery and development enterprise\n",
    "has developed rapidly in the last 15 years in particular. Including major initiatives\n",
    "in the US such as Integrated Computational\n",
    "Materials Engineering and the Materials Genome Initiative. And more broadly, these initiatives\n",
    "have been adopted abroad, in Asia and in Europe, so\n",
    "it's an international enterprise. Materials Genome Initiative has\n",
    "articulated a need to link experiments, computational modeling, simulation, and data sciences together as\n",
    "a major 21st century initiative. To accelerate the development and\n",
    "insertion of materials. And stakeholders of accelerated materials,\n",
    "discovery development, span the entire economy, ranging from academia,\n",
    "government industry and consumers.**"
   ]
  },
  {
   "cell_type": "markdown",
   "metadata": {},
   "source": [
    "## 1.5 the-materials-innovation-ecosystem"
   ]
  },
  {
   "cell_type": "markdown",
   "metadata": {},
   "source": [
    "The Materials Innovation Ecosystem\n",
    "is characterized by at the center a focus on the integration of computation,\n",
    "experiment, and data sciences. All wrapped together, synchronized\n",
    "via High Throughput Methodologies.\n",
    "\n",
    "e-collaboration\n",
    "is more than just email messaging but involves enhancement of information in\n",
    "data content is a very important one, with regard to the future of\n",
    "materials design and development. \n",
    "\n",
    "There are some important **caveats** about\n",
    "this materials innovation ecosystem. And distinctions of by what we mean\n",
    "by it compared to previous and fairly recent initiatives. One is to recognize that yes\n",
    "this is a big data problem. But **it's not just high\n",
    "performance computing**. It's not just problems operating on the\n",
    "large number of processors in parallel. **It's not about just boutique materials,\n",
    "you know, designer materials. This is about also improving materials that are standard materials\n",
    "that are used extensively in products. For example, concrete and steel that can be improved with\n",
    "these kinds of approaches**. It's **not just about high fidelity\n",
    "predictive modeling and simulation**.  It's also about how we make\n",
    "optimal use of even meta-models or reduced order models to provide decision\n",
    "support in the development process. **And it's not just nanotechnology**,\n",
    "to be certain, it has nanotechnology elements\n",
    "associated with the primal atomic level predictive simulation of material\n",
    "structure and properties. But that's just a part\n",
    "of the entire puzzle, since the real materials that\n",
    "are used in products upscale has many other elements associated with\n",
    "meta stability non equilibrium and processing, not necessarily subject\n",
    "to the nanotechnology realm. **It's also not just an implication for large scale national user facilities for\n",
    "materials research and development**. But rather ways in which\n",
    "we can achieve distributed mass usage of already existing facilities. Networked and linked in a more\n",
    "efficient and productive manner. And it's not just materials information\n",
    "infrastructure or cyberinfrastructure. It's the intelligent deployment and\n",
    "development of new and improved methods by which people\n",
    "can collaborate to produce gains towards enhanced decision\n",
    "support and materials development. "
   ]
  },
  {
   "cell_type": "markdown",
   "metadata": {},
   "source": [
    "## 1.6 part1: multiscale-modeling-and-multilevel-design-of-materials-with-structure-hierarchy\n",
    "\n",
    "Learning outcomes:\n",
    "\n",
    "- Materials structure hierarchy\n",
    "- Mesoscale gaps in multiscale modeling (mesoscale gap is one in which we don't have good models, highly\n",
    "reliable, low uncertainty types of models. So oftentimes, because this domain\n",
    "is quite metastable in nature, meaning it can be strongly affected\n",
    "by temperature, environment, we have to rely on some experimental\n",
    "protocols to understand the phenomena and to build simple reduced order\n",
    "models to represent this)\n",
    "- Hierarchical vs concurrent multiscale modeling (层次型和并发型多尺度模拟,这两种都可以帮助人们了解材料性质在尺度之间的变化，然而后者的模型应用还是比较少的，因为这需要多种尺度之间的模拟信息需要相互交互。因此目前广泛被使用的还是HIerarchical multiscale modeling)\n",
    "- Distinction between multiscale and multilvel design\n",
    "- The role of uncertainty\n",
    "- Key enabling elements in multilevel degign of materials\n",
    "\n",
    "\n",
    "[//]: # (This is a comment, it will not be included)\n",
    "[comment]: <> (![Materials tructure hierarchy](./course01/Materials-structure-hierarchy.png))\n",
    "\n",
    "\n",
    "<img src=\"./course01/Materials-structure-hierarchy.png\" alt=\"Materials tructure hierarchy\" style=\"width: 300px;\"/>\n",
    "\n",
    "** Why multiscale modelling? **\n",
    "\n",
    "- Properties are scale specific. Modeling at selective scales of hierarchy *provides decision support* for materials develoment\n",
    "- Uncertainties of models at vairous scales and multiscale transitions are prevalent.\n",
    "- Sensitivity of responses to microstructure must be understood in order to tailor materials to ahieve requied performance\n",
    "\n"
   ]
  },
  {
   "cell_type": "markdown",
   "metadata": {},
   "source": [
    "## 1.6 part2: multiscale-modeling-and-multilevel-design-of-materials"
   ]
  },
  {
   "cell_type": "markdown",
   "metadata": {},
   "source": [
    "Multiscale modeling is distinct from multilevel design and serves the purpose of multilevel design. The importance of uncertainty,\n",
    "quantification and management in providing decision support.\n",
    "\n",
    "<img src=\"./course01/hierarchical-nature-of-materials-desgin.png\" alt=\"Hierarchical nature of materials design: the difference between multiscale modeling and modellevel desgin\" style=\"width: 200px;\"/>"
   ]
  },
  {
   "cell_type": "markdown",
   "metadata": {},
   "source": [
    "## 1.7 decision-making-in-systems-based-robust-materials-design"
   ]
  },
  {
   "cell_type": "markdown",
   "metadata": {},
   "source": [
    "Decision making under uncertainty\n"
   ]
  },
  {
   "cell_type": "markdown",
   "metadata": {},
   "source": [
    "## 1.8 multilevel-decision-based-design"
   ]
  },
  {
   "cell_type": "markdown",
   "metadata": {},
   "source": [
    "# Module 2: Materials Knowledge and Materials Data Science"
   ]
  },
  {
   "cell_type": "markdown",
   "metadata": {},
   "source": [
    "## Keys for accelerated materials innovation: \n",
    "    \n",
    "- standardrized representation of materials internal structure: objective, braodaly applicalble, and low-dimensional\n",
    "\n",
    "- High througput protocols for rapid exploration of vast spaces for materials design\n",
    "\n",
    "- Uncertainty quantification in all datasets (experimental and modelling)\n",
    "\n",
    "- Data-driven protocols leading to objective decision making in materials development efforts\n",
    "\n",
    "- e-collaboration platform (we need a lot of different expertise from different stakeholders)\n",
    "\n",
    "-Digital recording of workflows to document successes and filures to establish best practices\n",
    "\n",
    "\n",
    "\n",
    "## terminology in materials informatics\n",
    "\n",
    "Data: quantitative/qualitative, 2D or 3D ... hence data is broadly defined.\n",
    "\n",
    "Data collection: experiments, models, simulations.\n",
    "\n",
    "Data integerity: a measure of trust in the data (accuracy, completeness etc)\n",
    "\n",
    "Data quality: a meansure how worthy or useful the data is for decision making\n",
    "\n",
    "Data mining: a process of exploring large datasets and identifying patterns that can be used to predict outcomes on new data.\n",
    "\n",
    "Metadata: loosely definded as data about data - the data that describes the actual content of a dataset.\n",
    "\n",
    "Structured and unstructured data: their difference is the level of organization of data\n",
    "\n",
    "Database: an organized collection of data\n",
    "\n",
    "\n"
   ]
  },
  {
   "cell_type": "code",
   "execution_count": null,
   "metadata": {},
   "outputs": [],
   "source": []
  }
 ],
 "metadata": {
  "kernelspec": {
   "display_name": "Python 3",
   "language": "python",
   "name": "python3"
  },
  "language_info": {
   "codemirror_mode": {
    "name": "ipython",
    "version": 3
   },
   "file_extension": ".py",
   "mimetype": "text/x-python",
   "name": "python",
   "nbconvert_exporter": "python",
   "pygments_lexer": "ipython3",
   "version": "3.6.3"
  }
 },
 "nbformat": 4,
 "nbformat_minor": 2
}
