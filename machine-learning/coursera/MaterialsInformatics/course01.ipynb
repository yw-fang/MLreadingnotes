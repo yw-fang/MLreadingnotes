{
 "cells": [
  {
   "cell_type": "markdown",
   "metadata": {
    "collapsed": true
   },
   "source": [
    "大纲：\n",
    "\n",
    "Module 1: Accelerating Materials Development and Deployment\n",
    "\n",
    "Module 2: Materials Knowledge and Materials Data Science\n",
    "\n",
    "Module 3: Materials Innovation Cyberinfrastructure and Integrated Workflows\n",
    "\n",
    "Module 4: Materials Knowledge Improvement Cycles\n",
    "\n",
    "Module 5: Case Study in Homogenization:\n",
    "\n",
    "Plastic Properties of Two-Phase Composites\n",
    "\n",
    "Module 6: Process-Structure Evolution Linkages"
   ]
  },
  {
   "cell_type": "markdown",
   "metadata": {},
   "source": [
    "## 1.1 why-accelerate-material-discovery-and-development"
   ]
  },
  {
   "cell_type": "markdown",
   "metadata": {},
   "source": [
    "To summarize what we've\n",
    "learned in this first lecture. First, the 20th century grand\n",
    "challenges and advancement have involve materials in the 21st century\n",
    "grand challenges will involve materials. This is a very safe bet. Modeling and simulation in computations\n",
    "exploded over the last 15 to 20 years, and it leads us to the idea that we can reduce\n",
    "the time from discovery of materials to deployment of products by taking\n",
    "advantage of, exploiting. Data sciences and informatics to couple\n",
    "with modeling and simulation and experiments to be able to accelerate that. In revolutions in modeling and\n",
    "in big data, computational methods, Internet,\n",
    "Internet of things, these usher in this new era of possibility to accelerate\n",
    "materials discovery of development."
   ]
  },
  {
   "cell_type": "markdown",
   "metadata": {},
   "source": [
    "## 1.2 historical-materials-development-and-deployment-cycles"
   ]
  },
  {
   "cell_type": "markdown",
   "metadata": {},
   "source": [
    "Typically it cost 20 years for materials discovered in universitise or industry research laboratores to find their way into products.\n",
    "\n",
    "Why does it cost so long? Well, after discovering\n",
    "the material one has to optimized properties, but it can't\n",
    "find its way in their product yet. It has to undergo a rigorous,\n",
    "stringent certification process. It has to meet the many requirements. It has to be cost effective and so forth. So, largely we've relied\n",
    "on empirical routes. \n",
    "\n",
    "**It's interesting that this\n",
    "cycle time from the discovery of a material to its deployment hasn't\n",
    "changed much over this period of time.** For example, if we consider Charles Goodyear's work\n",
    "on vulcanized rubber in the mid 1800s. It was an important discovery that's\n",
    "enabled modern automotive tires. So, crosslinking, the crosslinking of molecules has allowed\n",
    "rubber to withstand heat and cold. And it's given us huge consumer benefits\n",
    "in a wide range of applications. This was discovered serendipitously\n",
    "in other words empirically. **The question is can we use modelling\n",
    "and simulation, data sciences, data mining, machine learning, the elements of data sciences\n",
    "to advance this rate.**\n",
    "\n",
    "In summary, we can say that\n",
    "the historical trend of about 20-25 years to translate a materials\n",
    "discovery in the laboratory to a product. It's been something that's\n",
    "been hard to break out of. And materials discovery by chance for empiricism has been this traditional\n",
    "route, but we are breaking out of it. We are promised to do so, with the\n",
    "intersection of modeling and simulation, advanced experimental techniques and\n",
    "the coupling with data sciences and informatics. This represents an important shift\n",
    "towards the integration of materials and product design. To be able to match more\n",
    "rapidly in a customized way translate our needs into products."
   ]
  },
  {
   "cell_type": "markdown",
   "metadata": {},
   "source": [
    "## 1.3 how-do-we-accelerate-materials-development-and-deployment"
   ]
  },
  {
   "cell_type": "markdown",
   "metadata": {},
   "source": [
    "We've talked about top down design\n",
    "having significant challenges and a dose of reality is essential\n",
    "to understanding how we can move forward in advancing methods\n",
    "for materials design and development. And most importantly,\n",
    "for our purposes here, the data sciences can play a key role\n",
    "in reducing the number of experiments, the degree of impericism that exists\n",
    "historically in this process. And to provide a better support for\n",
    "decision making in the process of design and development of new and\n",
    "improved materials"
   ]
  },
  {
   "cell_type": "markdown",
   "metadata": {},
   "source": [
    "## 1.4 emergence-of-multi-stakeholder-initiatives.en"
   ]
  },
  {
   "cell_type": "code",
   "execution_count": null,
   "metadata": {},
   "outputs": [],
   "source": []
  }
 ],
 "metadata": {
  "kernelspec": {
   "display_name": "Python 3",
   "language": "python",
   "name": "python3"
  },
  "language_info": {
   "codemirror_mode": {
    "name": "ipython",
    "version": 3
   },
   "file_extension": ".py",
   "mimetype": "text/x-python",
   "name": "python",
   "nbconvert_exporter": "python",
   "pygments_lexer": "ipython3",
   "version": "3.6.3"
  }
 },
 "nbformat": 4,
 "nbformat_minor": 1
}
