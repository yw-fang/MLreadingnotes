{
 "cells": [
  {
   "cell_type": "markdown",
   "metadata": {
    "collapsed": true
   },
   "source": [
    "机器学习，无论单纯从理论，或者应用的角度来看，都可能会只看到冰山一角。因此林老师在他的课程上，特别强调，我们是从基础开始的，即fundation Oriented Machine Learning. 在学习的过程中，穿插基础在理论和实践中的实际应用，讨论各种应用场景背后的基础。\n",
    "\n",
    "The goal of this course is make students learn 'future/untaught' techniques or study depper theory easily.\n",
    "\n",
    "**课程设置**\n",
    "\n",
    "15-17 weeks （2+ hours / week）\n",
    "\n"
   ]
  },
  {
   "cell_type": "markdown",
   "metadata": {},
   "source": [
    "## 1. What is Machine Learning"
   ]
  },
  {
   "cell_type": "markdown",
   "metadata": {},
   "source": [
    "Machine learning: improving some performance measure iwth experience comptued from data\n",
    "\n",
    "data -> ML -> improved performance measure\n",
    "\n",
    "for example:\n",
    "\n",
    "stock data -> ML -> more investment again\n",
    "\n",
    "为什么我们需要机器学习？举一个很常见的例子。假设你面前有一幅画，画着树木和天空。那么如何让程序分辨出树是树，天空是天空呢？传统的硬编程方式是很困难的，这有赖于我们需要数学化地定义树，从而程序才能判断。机器学习，这时候就可以发挥作用，它可以像孩子（尽管目前为止，在某些情况下还远远不如孩子聪明）一样，学习样子的是树。\n",
    "\n",
    "机器学习的常见应用场景：\n",
    "\n",
    "- 人类无法方便的编程来解决某个问题\n",
    "- 人类无法明确地定义问题的“解”。\n",
    "- 快速决策 rapid decision making，例如high-frequency trading\n",
    "- 用户为导向的需求问题。例如cosumer-targed marketing\n",
    "\n",
    "林老师给出了一个很有意思的比喻：\n",
    "Give a computer a fish, you feed it for a day; teach it how to fish, you feed it for a lifetime.\n",
    "\n",
    "\n",
    "机器学习需要具备一些要素才能进行（具备这些关键，我们往往才可以使用机器学习来解决真实的问题）：\n",
    "\n",
    "- exsits ‘underlying parttern’ that can be learned--so 'performance measure' can be improved\n",
    "- but no programmable (easy) definition--so 'ML' is needed\n",
    "- somehow there is *data* about the pattern--so ML has some 'inputs' to lear from\n"
   ]
  },
  {
   "cell_type": "markdown",
   "metadata": {},
   "source": [
    "## Applications of Machine Learning\n",
    "\n",
    "Deaily needs： Food, clothing, housing, transportation\n",
    "\n",
    "1) Food (Ref: Sadiek et al. 2013)\n",
    "- data: Twitter data\n",
    "- skill: tell food poisoning likeliness of restaurant properly\n",
    "\n",
    "2) Clothing (Abu-Mostafa, 2012)"
   ]
  },
  {
   "cell_type": "code",
   "execution_count": null,
   "metadata": {},
   "outputs": [],
   "source": []
  }
 ],
 "metadata": {
  "kernelspec": {
   "display_name": "Python 3",
   "language": "python",
   "name": "python3"
  },
  "language_info": {
   "codemirror_mode": {
    "name": "ipython",
    "version": 3
   },
   "file_extension": ".py",
   "mimetype": "text/x-python",
   "name": "python",
   "nbconvert_exporter": "python",
   "pygments_lexer": "ipython3",
   "version": "3.6.3"
  }
 },
 "nbformat": 4,
 "nbformat_minor": 1
}
