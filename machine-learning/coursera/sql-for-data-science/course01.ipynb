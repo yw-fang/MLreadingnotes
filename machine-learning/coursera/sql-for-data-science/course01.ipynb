{
 "cells": [
  {
   "cell_type": "markdown",
   "metadata": {},
   "source": [
    "## What's SQL?\n",
    "\n",
    "SQL (Structured query language): a language used for relational database management and data manipulation.\n",
    "\n",
    "SQL can be read as 'S-Q-L', or 'sequel'.\n",
    "\n",
    "SQL is a non-procedural language. The reasons can be found from [Quora discussions](https://www.quora.com/Why-is-SQL-called-a-structured-and-a-non-procedural-language). It's simple, and cannot be used to develop applications, but it's very powerful.\n",
    "\n",
    "SQL is all about data. It can 1) read/retreive data, 2) write data-add data to a table, and 3) updat data-insert new data.\n",
    "\n",
    "## Popular relational database management systems\n",
    "\n",
    "Microsfot SQL server; MySQL; IBM DB2 Oracle; Sybace ASE; PostgreSQL; SQLite\n",
    "\n",
    "In the following sections and notebooks, I will use SQLite."
   ]
  },
  {
   "cell_type": "markdown",
   "metadata": {},
   "source": [
    "# 03_data-models-part-1-thinking-about-your-data"
   ]
  },
  {
   "cell_type": "markdown",
   "metadata": {},
   "source": [
    "Think before you code, that is important. "
   ]
  }
 ],
 "metadata": {
  "kernelspec": {
   "display_name": "Python 3",
   "language": "python",
   "name": "python3"
  },
  "language_info": {
   "codemirror_mode": {
    "name": "ipython",
    "version": 3
   },
   "file_extension": ".py",
   "mimetype": "text/x-python",
   "name": "python",
   "nbconvert_exporter": "python",
   "pygments_lexer": "ipython3",
   "version": "3.6.3"
  }
 },
 "nbformat": 4,
 "nbformat_minor": 2
}
