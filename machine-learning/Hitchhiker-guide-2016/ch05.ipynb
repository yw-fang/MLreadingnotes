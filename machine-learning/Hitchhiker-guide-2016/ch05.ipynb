{
 "cells": [
  {
   "cell_type": "markdown",
   "metadata": {},
   "source": [
    "# Reading Great Code\n",
    "\n",
    "## Commom Features of great code\n",
    "\n",
    "每个定义的函数包含的代码大多不超过20行；含有很多空行；对于交互型代码（例如Requests和Flask等），都有大量的doctoring或者comment，综合下来五分之一的代码内容是可以作为文档使用的。不过像HowDoI这种直接的不是用语交互的代码，并没有必要去包含大量的comment。\n",
    "\n",
    "下面，我们就跟着学习下如何读不同风格的代码。\n",
    "\n",
    "## HowDoI\n",
    "\n",
    "HowDoI，code代码总数只有300行左右，可以作为阅读代码的首选。\n",
    "\n",
    "### Reading a single-file script\n",
    "\n",
    "scirpt通常有一个清晰的starting point和一个清晰的ending point，以及其他定义清晰的操作。这使得sciprt会比一般的提供API的库\n",
    "更容易follow。\n",
    "关于howdoi，可以Google下，然后从github下载到。\n",
    "\n",
    "安装： pip install --editable .　\n",
    "\n",
    "unit test： python test_howdoi.py\n",
    "\n",
    "#### Read howdoi's documentation\n",
    "\n",
    "HowDoI的文档是README.rst文件，从中可以看出 HowDoI是一个很小的命令行应用，它可以允许使用者从互联网上获取关于编程问题的答案。\n"
   ]
  },
  {
   "cell_type": "code",
   "execution_count": 2,
   "metadata": {},
   "outputs": [
    {
     "name": "stdout",
     "output_type": "stream",
     "text": [
      "/Users/ywfang/miniconda3/envs/plotenv/bin/howdoi\n"
     ]
    }
   ],
   "source": [
    "!which howdoi"
   ]
  },
  {
   "cell_type": "code",
   "execution_count": 3,
   "metadata": {},
   "outputs": [
    {
     "name": "stdout",
     "output_type": "stream",
     "text": [
      "usage: howdoi [-h] [-p POS] [-a] [-l] [-c] [-n NUM_ANSWERS] [-C] [-v]\n",
      "              [QUERY [QUERY ...]]\n",
      "\n",
      "instant coding answers via the command line\n",
      "\n",
      "positional arguments:\n",
      "  QUERY                 the question to answer\n",
      "\n",
      "optional arguments:\n",
      "  -h, --help            show this help message and exit\n",
      "  -p POS, --pos POS     select answer in specified position (default: 1)\n",
      "  -a, --all             display the full text of the answer\n",
      "  -l, --link            display only the answer link\n",
      "  -c, --color           enable colorized output\n",
      "  -n NUM_ANSWERS, --num-answers NUM_ANSWERS\n",
      "                        number of answers to return\n",
      "  -C, --clear-cache     clear the cache\n",
      "  -v, --version         displays the current version of howdoi\n"
     ]
    }
   ],
   "source": [
    "!howdoi --help   #注意我这里是在jupyter notebook里面直接使用的，所以需要加感叹号。如果是在terminal上，不需要加叹号。"
   ]
  },
  {
   "cell_type": "markdown",
   "metadata": {},
   "source": [
    "通过帮助文档，我们可以了解到HowDoI大概的工作模式以及它的一些功能，例如可以colorize the output，get multiple answers，\n",
    "keep answers in a cache that can be clared等。"
   ]
  },
  {
   "cell_type": "markdown",
   "metadata": {},
   "source": [
    "### Use HowDoI\n"
   ]
  },
  {
   "cell_type": "code",
   "execution_count": 5,
   "metadata": {},
   "outputs": [
    {
     "name": "stdout",
     "output_type": "stream",
     "text": [
      "★  Answer from https://stackoverflow.com/questions/6076270/python-lambda-function-in-list-comprehensions ★\n",
      "[(lambda x: x*x)(x) for x in range(10)]\n",
      "\n",
      "================================================================================\n",
      "\n",
      "★  Answer from https://stackoverflow.com/questions/28268439/python-list-comprehension-with-lambdas ★\n",
      "In [177]: bases = [lambda x, i=i: x**i for i in range(3)]\n",
      "\n",
      "In [178]: print([b(5) for b in bases])\n",
      "[1, 5, 25]\n",
      "\n",
      "================================================================================\n",
      "\n",
      "★  Answer from https://stackoverflow.com/questions/452610/how-do-i-create-a-list-of-python-lambdas-in-a-list-comprehension-for-loop ★\n",
      "def square(x): return lambda : x*x\n",
      "listOfLambdas = [square(i) for i in [1,2,3,4,5]]\n",
      "for f in listOfLambdas: print f()\n"
     ]
    }
   ],
   "source": [
    "!howdoi --num-answers 3 python lambda function list comprehension"
   ]
  },
  {
   "cell_type": "code",
   "execution_count": null,
   "metadata": {},
   "outputs": [],
   "source": []
  },
  {
   "cell_type": "code",
   "execution_count": 7,
   "metadata": {},
   "outputs": [
    {
     "name": "stdout",
     "output_type": "stream",
     "text": [
      "★  Answer from https://stackoverflow.com/questions/568962/how-do-i-create-an-empty-array-matrix-in-numpy ★\n",
      ">>> import numpy\n",
      ">>> a = numpy.zeros(shape=(5,2))\n",
      ">>> a\n",
      "array([[ 0.,  0.],\n",
      "   [ 0.,  0.],\n",
      "   [ 0.,  0.],\n",
      "   [ 0.,  0.],\n",
      "   [ 0.,  0.]])\n",
      ">>> a[0] = [1,2]\n",
      ">>> a[1] = [2,3]\n",
      ">>> a\n",
      "array([[ 1.,  2.],\n",
      "   [ 2.,  3.],\n",
      "   [ 0.,  0.],\n",
      "   [ 0.,  0.],\n",
      "   [ 0.,  0.]])\n",
      "\n",
      "================================================================================\n",
      "\n",
      "★  Answer from https://stackoverflow.com/questions/4535374/initialize-a-numpy-array ★\n",
      "numpy.zeros\n",
      "\n",
      "================================================================================\n",
      "\n",
      "★  Answer from https://stackoverflow.com/questions/21088133/how-to-construct-a-ndarray-from-a-numpy-array-python ★\n",
      ">>> x = np.array([1, 2, 3])\n",
      ">>> type(x)\n",
      "<type 'numpy.ndarray'>\n"
     ]
    }
   ],
   "source": [
    "!howdoi --num-answer 3 python numpy array create"
   ]
  },
  {
   "cell_type": "markdown",
   "metadata": {},
   "source": [
    "### Read HowDoI's code\n"
   ]
  },
  {
   "cell_type": "markdown",
   "metadata": {},
   "source": [
    "在howdoi的目录中，除了__pycache__之外其实只有两个文件，即__init__.py 和 howdoi.py。\n",
    "前者只有一行，包含了版本信息；而后者则是我们即将精读的代码。"
   ]
  },
  {
   "cell_type": "code",
   "execution_count": 3,
   "metadata": {},
   "outputs": [
    {
     "name": "stdout",
     "output_type": "stream",
     "text": [
      "__init__.py \u001b[34m__pycache__\u001b[m\u001b[m \u001b[31mhowdoi.py\u001b[m\u001b[m\n"
     ]
    }
   ],
   "source": [
    "!ls /Users/ywfang/FANG/git/howdoi_ywfang/howdoi"
   ]
  },
  {
   "cell_type": "markdown",
   "metadata": {},
   "source": [
    "通过浏览howdoi.py，我们发现这里面定义了很多新的函数，而且每个函数都会在之后的函数中被引用，这是的我们可以方便follow。\n",
    "其中的main function，即 command_line_runner()接近于 howdoi.py的底部"
   ]
  },
  {
   "cell_type": "code",
   "execution_count": 8,
   "metadata": {},
   "outputs": [
    {
     "name": "stdout",
     "output_type": "stream",
     "text": [
      "XDG_CACHE_DIR = os.environ.get('XDG_CACHE_HOME',\n",
      "                               os.path.join(os.path.expanduser('~'), '.cache'))\n",
      "CACHE_DIR = os.path.join(XDG_CACHE_DIR, 'howdoi')\n",
      "CACHE_FILE = os.path.join(CACHE_DIR, 'cache{0}'.format(\n",
      "    sys.version_info[0] if sys.version_info[0] == 3 else ''))\n",
      "howdoi_session = requests.session()\n",
      "\n",
      "\n",
      "def get_proxies():\n",
      "    proxies = getproxies()\n",
      "    filtered_proxies = {}\n",
      "    for key, value in proxies.items():\n",
      "        if key.startswith('http'):\n",
      "            if not value.startswith('http'):\n",
      "                filtered_proxies[key] = 'http://%s' % value\n",
      "            else:\n",
      "                filtered_proxies[key] = value\n",
      "    return filtered_proxies\n",
      "\n",
      "\n",
      "def _get_result(url):\n",
      "    try:\n",
      "        return howdoi_session.get(url, headers={'User-Agent': random.choice(USER_AGENTS)}, proxies=get_proxies(),\n",
      "                                  verify=VERIFY_SSL_CERTIFICATE).text\n",
      "    except requests.exceptions.SSLError as e:\n",
      "        print('[ERROR] Encountered an SSL Error. Try using HTTP instead of '\n",
      "              'HTTPS by setting the environment variable \"HOWDOI_DISABLE_SSL\".\\n')\n",
      "        raise e\n",
      "\n",
      "\n",
      "def _add_links_to_text(element):\n",
      "    hyperlinks = element.find('a')\n",
      "\n",
      "    for hyperlink in hyperlinks:\n",
      "        pquery_object = pq(hyperlink)\n",
      "        href = hyperlink.attrib['href']\n",
      "        copy = pquery_object.text()\n",
      "        if (copy == href):\n",
      "            replacement = copy\n",
      "        else:\n",
      "            replacement = \"[{0}]({1})\".format(copy, href)\n",
      "        pquery_object.replace_with(replacement)\n",
      "\n",
      "def get_text(element):\n",
      "    ''' return inner text in pyquery element '''\n",
      "    _add_links_to_text(element)\n",
      "    return element.text(squash_space=False)\n",
      "\n",
      "\n",
      "def _extract_links_from_bing(html):\n",
      "    html.remove_namespaces()\n"
     ]
    }
   ],
   "source": [
    "!sed -n '70,120p' /Users/ywfang/FANG/git/howdoi_ywfang/howdoi/howdoi.py"
   ]
  },
  {
   "cell_type": "code",
   "execution_count": null,
   "metadata": {},
   "outputs": [],
   "source": []
  }
 ],
 "metadata": {
  "kernelspec": {
   "display_name": "Python 3",
   "language": "python",
   "name": "python3"
  },
  "language_info": {
   "codemirror_mode": {
    "name": "ipython",
    "version": 3
   },
   "file_extension": ".py",
   "mimetype": "text/x-python",
   "name": "python",
   "nbconvert_exporter": "python",
   "pygments_lexer": "ipython3",
   "version": "3.6.5"
  }
 },
 "nbformat": 4,
 "nbformat_minor": 2
}
