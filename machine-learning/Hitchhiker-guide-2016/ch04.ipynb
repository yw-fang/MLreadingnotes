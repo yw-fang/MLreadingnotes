{
 "cells": [
  {
   "cell_type": "markdown",
   "metadata": {},
   "source": [
    "# Writing Great Code\n",
    "\n",
    "Y.-W. FANG at Kyoto University\n",
    "\n",
    "这个章节对于 python 初学者真的是极其重要的。\n",
    "\n",
    "This chapter focuses on writing the great code. You will see it is very useful to help you develop some good manners.\n",
    "\n",
    "## Code style\n",
    "\n",
    "Pythonistas (vesteran Python developers)总是对 python 这一预言引以为豪的，因为即使不懂 python 的人，阅读一些简单源代码后也可以懂得这个 python 程序的功能。Readability is at the heart of Python‘s design。Python 之所以具有较好的可读性，其关键点在于完备的代码书写准则（Python enhancement proposals PEP 20 and PEP8）和 “Pythonic” idioms。\n",
    "\n",
    "### PEP8\n",
    "\n",
    "PEP8 is the de facto code style guide for Python. It covers naming conventions, code layout, whitespace (tabs versus spaces), and other similar style topics. 在写 Python 代码时，遵从 PEP8 是非常有必要的，这有利于在代码开发过程中与其他开发者交流合作，也有利于代码的阅读。\n",
    "\n",
    "pycodestyle 是个可以帮助指出 python 代码中不符合 ‘PEP8’ 标准之处的工具（原名叫做 pep8），安装很简单，就是 pip install pycodestyle. 使用方法为 \n",
    "\n",
    "> pycodestyle python.py\n",
    "\n",
    "还有一个工具是 autopep8，它可以直接format一个python代码，命令为\n",
    "\n",
    "> autopep8 --in-place python.py\n",
    "\n",
    "但是如果你并不想 in-plance 方式重新标准化这个代码，可以移除 --in-place，即使用\n",
    "\n",
    "> autopepe8 python.py\n",
    "\n",
    "这一命令会将标准格式化的代码打印在屏幕上. 此外，--aggresive 这个 flag 可以帮助做一些更加彻底的标准格式化，并且可以使用多次使得代码更加符合标准。\n",
    "\n",
    "### PEP20 (a.k.a The Zen of Python) \n",
    "\n",
    "PEP 20 is the set of guiding principles for decision making in Python. 它的全文为"
   ]
  },
  {
   "cell_type": "code",
   "execution_count": 7,
   "metadata": {},
   "outputs": [
    {
     "name": "stdout",
     "output_type": "stream",
     "text": [
      "The Zen of Python, by Tim Peters\n",
      "\n",
      "Beautiful is better than ugly.\n",
      "Explicit is better than implicit.\n",
      "Simple is better than complex.\n",
      "Complex is better than complicated.\n",
      "Flat is better than nested.\n",
      "Sparse is better than dense.\n",
      "Readability counts.\n",
      "Special cases aren't special enough to break the rules.\n",
      "Although practicality beats purity.\n",
      "Errors should never pass silently.\n",
      "Unless explicitly silenced.\n",
      "In the face of ambiguity, refuse the temptation to guess.\n",
      "There should be one-- and preferably only one --obvious way to do it.\n",
      "Although that way may not be obvious at first unless you're Dutch.\n",
      "Now is better than never.\n",
      "Although never is often better than *right* now.\n",
      "If the implementation is hard to explain, it's a bad idea.\n",
      "If the implementation is easy to explain, it may be a good idea.\n",
      "Namespaces are one honking great idea -- let's do more of those!\n"
     ]
    }
   ],
   "source": [
    "import this"
   ]
  },
  {
   "cell_type": "markdown",
   "metadata": {},
   "source": [
    "实际上 PEP20 只包含了 19 条格言，并不是 20 条，据说第二十条还没被写出来，哈哈。"
   ]
  },
  {
   "cell_type": "markdown",
   "metadata": {},
   "source": [
    "### General Advice\n",
    "\n",
    "This sections contains style concepts that are hopefully easy to accept without debte. They can be applicable to lanuages other than Python\n",
    "\n",
    "#### Errors should never pass silently/Unless explicitly silenced\n",
    "\n",
    "Error handling in Python is done using the 'try' statement.  Don't let errors pass silently: always explicitly indentify by name the exceptions you will catch, and handle only those exceptions.\n",
    "\n",
    "#### Function arguments should be intuitive to use\n",
    "\n",
    "尽管在 Python 中定义函数时，如何选择 positional arguments 和 optional arguments在于写程序的人。不过，最好只使用一种非常显性的方式来定义函数：\n",
    "\n",
    "- easy to read (meaning the name and arguments need no explanation)\n",
    "- easy to change (meaning adding a new keyword argument won't break other parts of the code)\n",
    "\n",
    "#### We are responsible users\n",
    "\n",
    "Although many tricks are allowed in Python, some of them are potentionally dangerous. **A good example is that any client code can override an object's properties and methods: there is no 'private' keyword in Python.**\n",
    "\n",
    "**The main convention for private properties and implementation details is to prefix all \"internals\" with an underscore, e.g., sys._getframe.**\n",
    "\n",
    "#### Return values from one place\n",
    "\n",
    "When possible, keep a single exit point--it's difficult to debug functions when you first have to indentify which return statement is responsible for your result.\n"
   ]
  },
  {
   "cell_type": "markdown",
   "metadata": {},
   "source": [
    "### Conventions\n",
    "\n",
    "书中给出了多个 convetions 的案例，值得赞誉的是，书中把xi'g涉及到list的操作，‘逻辑相等’的检查等，请查看原书。"
   ]
  },
  {
   "cell_type": "code",
   "execution_count": null,
   "metadata": {},
   "outputs": [],
   "source": []
  },
  {
   "cell_type": "code",
   "execution_count": null,
   "metadata": {},
   "outputs": [],
   "source": []
  },
  {
   "cell_type": "code",
   "execution_count": null,
   "metadata": {},
   "outputs": [],
   "source": []
  },
  {
   "cell_type": "code",
   "execution_count": null,
   "metadata": {},
   "outputs": [],
   "source": []
  },
  {
   "cell_type": "code",
   "execution_count": 2,
   "metadata": {},
   "outputs": [],
   "source": [
    "import unittest\n",
    "def fun(x):\n",
    "    return x+1\n",
    "\n",
    "class MyTest(unittest.TestCase):\n",
    "    def test_that_fun_adds_one(self):\n",
    "        self.assertEqual(fun(3),4)\n",
    "        \n",
    "class MySecondTest(unittest.TestCase):\n",
    "    def test_that_fun_fails_when_not_adding_number(self):\n",
    "        self.assertRaises(TypeError, fun, 'multiply six by nine')"
   ]
  },
  {
   "cell_type": "code",
   "execution_count": null,
   "metadata": {},
   "outputs": [],
   "source": []
  }
 ],
 "metadata": {
  "kernelspec": {
   "display_name": "Python 3",
   "language": "python",
   "name": "python3"
  },
  "language_info": {
   "codemirror_mode": {
    "name": "ipython",
    "version": 3
   },
   "file_extension": ".py",
   "mimetype": "text/x-python",
   "name": "python",
   "nbconvert_exporter": "python",
   "pygments_lexer": "ipython3",
   "version": "3.6.5"
  }
 },
 "nbformat": 4,
 "nbformat_minor": 2
}
