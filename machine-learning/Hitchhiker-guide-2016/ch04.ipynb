{
 "cells": [
  {
   "cell_type": "markdown",
   "metadata": {},
   "source": [
    "# Writing Great Code\n",
    "\n",
    "Y.-W. FANG at Kyoto University\n",
    "\n",
    "这个章节对于 python 初学者真的是极其重要的。\n",
    "\n",
    "This chapter focuses on writing the great code. You will see it is very useful to help you develop some good manners.\n",
    "\n",
    "## Code style\n",
    "\n",
    "Pythonistas (vesteran Python developers)总是对 python 这一预言引以为豪的，因为即使不懂 python 的人，阅读一些简单源代码后也可以懂得这个 python 程序的功能。Readability is at the heart of Python‘s design。Python 之所以具有较好的可读性，其关键点在于完备的代码书写准则（Python enhancement proposals PEP 20 and PEP8）和 “Pythonic” idioms。\n",
    "\n",
    "### PEP8\n",
    "\n",
    "PEP8 is the de facto code style guide for Python. It covers naming conventions, code layout, whitespace (tabs versus spaces), and other similar style topics. 在写 Python 代码时，遵从 PEP8 是非常有必要的，这有利于在代码开发过程中与其他开发者交流合作，也有利于代码的阅读。\n",
    "\n",
    "pycodestyle 是个可以帮助指出 python 代码中不符合 ‘PEP8’ 标准之处的工具（原名叫做 pep8），安装很简单，就是 pip install pycodestyle. 使用方法为 \n",
    "\n",
    "> pycodestyle python.py\n",
    "\n",
    "还有一个工具是 autopep8，它可以直接format一个python代码，命令为\n",
    "\n",
    "> autopep8 --in-place python.py\n",
    "\n",
    "但是如果你并不想 in-plance 方式重新标准化这个代码，可以移除 --in-place，即使用\n",
    "\n",
    "> autopepe8 python.py\n",
    "\n",
    "这一命令会将标准格式化的代码打印在屏幕上. 此外，--aggresive 这个 flag 可以帮助做一些更加彻底的标准格式化，并且可以使用多次使得代码更加符合标准。\n",
    "\n",
    "### PEP20 (a.k.a The Zen of Python) \n",
    "\n",
    "PEP 20 is the set of guiding principles for decision making in Python. 它的全文为"
   ]
  },
  {
   "cell_type": "code",
   "execution_count": 7,
   "metadata": {},
   "outputs": [
    {
     "name": "stdout",
     "output_type": "stream",
     "text": [
      "The Zen of Python, by Tim Peters\n",
      "\n",
      "Beautiful is better than ugly.\n",
      "Explicit is better than implicit.\n",
      "Simple is better than complex.\n",
      "Complex is better than complicated.\n",
      "Flat is better than nested.\n",
      "Sparse is better than dense.\n",
      "Readability counts.\n",
      "Special cases aren't special enough to break the rules.\n",
      "Although practicality beats purity.\n",
      "Errors should never pass silently.\n",
      "Unless explicitly silenced.\n",
      "In the face of ambiguity, refuse the temptation to guess.\n",
      "There should be one-- and preferably only one --obvious way to do it.\n",
      "Although that way may not be obvious at first unless you're Dutch.\n",
      "Now is better than never.\n",
      "Although never is often better than *right* now.\n",
      "If the implementation is hard to explain, it's a bad idea.\n",
      "If the implementation is easy to explain, it may be a good idea.\n",
      "Namespaces are one honking great idea -- let's do more of those!\n"
     ]
    }
   ],
   "source": [
    "import this"
   ]
  },
  {
   "cell_type": "markdown",
   "metadata": {},
   "source": [
    "实际上 PEP20 只包含了 19 条格言，并不是 20 条，据说第二十条还没被写出来，哈哈。"
   ]
  },
  {
   "cell_type": "markdown",
   "metadata": {},
   "source": [
    "### General Advice\n",
    "\n",
    "This sections contains style concepts that are hopefully easy to accept without debte. They can be applicable to lanuages other than Python\n",
    "\n",
    "#### Errors should never pass silently/Unless explicitly silenced\n",
    "\n",
    "Error handling in Python is done using the 'try' statement.  Don't let errors pass silently: always explicitly indentify by name the exceptions you will catch, and handle only those exceptions.\n",
    "\n",
    "#### Function arguments should be intuitive to use\n",
    "\n",
    "尽管在 Python 中定义函数时，如何选择 positional arguments 和 optional arguments在于写程序的人。不过，最好只使用一种非常显性的方式来定义函数：\n",
    "\n",
    "- easy to read (meaning the name and arguments need no explanation)\n",
    "- easy to change (meaning adding a new keyword argument won't break other parts of the code)\n",
    "\n",
    "#### We are responsible users\n",
    "\n",
    "Although many tricks are allowed in Python, some of them are potentionally dangerous. **A good example is that any client code can override an object's properties and methods: there is no 'private' keyword in Python.**\n",
    "\n",
    "**The main convention for private properties and implementation details is to prefix all \"internals\" with an underscore, e.g., sys._getframe.**\n",
    "\n",
    "#### Return values from one place\n",
    "\n",
    "When possible, keep a single exit point--it's difficult to debug functions when you first have to indentify which return statement is responsible for your result.\n"
   ]
  },
  {
   "cell_type": "markdown",
   "metadata": {},
   "source": [
    "### Conventions\n",
    "\n",
    "书中给出了多个 convetions 的案例，值得赞誉的是，书中把xi'g涉及到list的操作，‘逻辑相等’的检查等，请查看原书。"
   ]
  },
  {
   "cell_type": "code",
   "execution_count": 37,
   "metadata": {},
   "outputs": [
    {
     "name": "stdout",
     "output_type": "stream",
     "text": [
      "[1, 2, 3, 4, 5]\n",
      "[2, 4, 6, 8, 10]\n",
      "[3, 4, 5, 6, 7]\n"
     ]
    }
   ],
   "source": [
    "a = [1, 2, 3, 4, 5]\n",
    "b = [x*2 for x in a]\n",
    "c = list(map(lambda i: i+2, a))\n",
    "print(a)\n",
    "print(b)\n",
    "print(c)"
   ]
  },
  {
   "cell_type": "markdown",
   "metadata": {},
   "source": [
    "### Idioms\n",
    "\n",
    "Good idioms must be consciously acquired. \n",
    "\n",
    "#### Unpacking\n",
    "\n",
    "If we know the length of a list or tuple, you can assign names to its elements with unpacking."
   ]
  },
  {
   "cell_type": "code",
   "execution_count": 31,
   "metadata": {},
   "outputs": [
    {
     "name": "stdout",
     "output_type": "stream",
     "text": [
      "my_photo.orig is a png file.\n"
     ]
    }
   ],
   "source": [
    "filename, ext = \"my_photo.orig.png\".rsplit(\".\", 1)\n",
    "print(filename, 'is a', ext, 'file.')"
   ]
  },
  {
   "cell_type": "markdown",
   "metadata": {},
   "source": [
    "We can use unpacking to swap variables as well:"
   ]
  },
  {
   "cell_type": "code",
   "execution_count": 32,
   "metadata": {},
   "outputs": [
    {
     "name": "stdout",
     "output_type": "stream",
     "text": [
      "a is 2\n",
      "b is 1\n"
     ]
    }
   ],
   "source": [
    "a = 1\n",
    "b = 2\n",
    "a, b = b, a\n",
    "print('a is', a)\n",
    "print('b is', b)"
   ]
  },
  {
   "cell_type": "markdown",
   "metadata": {},
   "source": [
    "Nested unpacking can also work,"
   ]
  },
  {
   "cell_type": "code",
   "execution_count": 33,
   "metadata": {},
   "outputs": [
    {
     "name": "stdout",
     "output_type": "stream",
     "text": [
      "1\n",
      "2\n",
      "3\n"
     ]
    }
   ],
   "source": [
    "a, (b, c) = 1, (2, 3)\n",
    "print(a)\n",
    "print(b)\n",
    "print(c)"
   ]
  },
  {
   "cell_type": "markdown",
   "metadata": {},
   "source": [
    "In Python 3, a new method of extended unpacking was introduced by PEP 3132:"
   ]
  },
  {
   "cell_type": "code",
   "execution_count": 36,
   "metadata": {},
   "outputs": [
    {
     "name": "stdout",
     "output_type": "stream",
     "text": [
      "1\n",
      "[2, 3]\n",
      "5\n",
      "[28, 33]\n",
      "4\n"
     ]
    }
   ],
   "source": [
    "a, *rest = [1, 2, 3]\n",
    "x, *y, z = [5, 28, 33, 4]\n",
    "print(a)\n",
    "print(rest)\n",
    "print(x)\n",
    "print(y)\n",
    "print(z)"
   ]
  },
  {
   "cell_type": "markdown",
   "metadata": {},
   "source": [
    "#### Ignoring a value\n",
    "\n",
    "当我们使用unpacking时候，有些变量可能我们在程序中根本用不到，这个时候可以使用double underscore (__)"
   ]
  },
  {
   "cell_type": "code",
   "execution_count": 42,
   "metadata": {},
   "outputs": [
    {
     "name": "stdout",
     "output_type": "stream",
     "text": [
      "foobar\n",
      ".\n",
      "txt\n"
     ]
    }
   ],
   "source": [
    "filename = 'foobar.txt'\n",
    "basename, __, ext = filename.rpartition('.')\n",
    "print(basename)\n",
    "print(__)\n",
    "print(ext)"
   ]
  },
  {
   "cell_type": "markdown",
   "metadata": {},
   "source": [
    "#### Creating a length-$N$ list of the same thing\n",
    "\n",
    "Use the Python list * operator to make a list of the same immutable iterm:"
   ]
  },
  {
   "cell_type": "code",
   "execution_count": 43,
   "metadata": {},
   "outputs": [
    {
     "name": "stdout",
     "output_type": "stream",
     "text": [
      "[None, None, None, None]\n"
     ]
    }
   ],
   "source": [
    "four_nones = [None] * 4\n",
    "print(four_nones)"
   ]
  },
  {
   "cell_type": "markdown",
   "metadata": {},
   "source": [
    "由于list是可变对象，'\\*' 所完成的操作就是创建出具有N个相同元素的list. \n",
    "But be careful with mutable objects: because lists are mutable, the * operator will create a list of $N$ references to the ${same}$ list, which is not likely what you want. Instead, use a list comprehensions."
   ]
  },
  {
   "cell_type": "code",
   "execution_count": 67,
   "metadata": {},
   "outputs": [
    {
     "name": "stdout",
     "output_type": "stream",
     "text": [
      "[[1], [1], [1], [1]]\n",
      "[[1, 'Ni'], [1, 'Ni'], [1, 'Ni'], [1, 'Ni']]\n"
     ]
    }
   ],
   "source": [
    "four_lists = [[1]] * 4\n",
    "print(four_lists)\n",
    "four_lists[0].append('Ni')\n",
    "print(four_lists)"
   ]
  },
  {
   "cell_type": "markdown",
   "metadata": {},
   "source": [
    "正如上面的代码所示，虽然我们本意只是想让第1个元素发生变化，但是所有四个元素都增加了字符'Ni'. 上面的结果并不是我们想要的，如过只想改第一个元素，则应该采用如下代码"
   ]
  },
  {
   "cell_type": "code",
   "execution_count": 73,
   "metadata": {},
   "outputs": [
    {
     "name": "stdout",
     "output_type": "stream",
     "text": [
      "[[1], [1], [1], [1]]\n",
      "[[1, 'Ni'], [1], [1], [1]]\n"
     ]
    }
   ],
   "source": [
    "four_lists = [[1] for __ in range(4)]\n",
    "print(four_lists)\n",
    "four_lists[0].append('Ni')\n",
    "print(four_lists)"
   ]
  },
  {
   "cell_type": "markdown",
   "metadata": {},
   "source": [
    "A common idion for creating strings is to use str.join() on an empty string. This idion can be applied to lists and tuples:"
   ]
  },
  {
   "cell_type": "code",
   "execution_count": 75,
   "metadata": {},
   "outputs": [
    {
     "name": "stdout",
     "output_type": "stream",
     "text": [
      "letter\n"
     ]
    }
   ],
   "source": [
    "letters = ['l', 'e', 't', 't', 'e', 'r']\n",
    "word = ''.join(letters)\n",
    "print(word)"
   ]
  },
  {
   "cell_type": "code",
   "execution_count": 76,
   "metadata": {},
   "outputs": [
    {
     "name": "stdout",
     "output_type": "stream",
     "text": [
      "let\n"
     ]
    }
   ],
   "source": [
    "letters = ('l', 'e', 't')\n",
    "word = ''.join(letters)\n",
    "print(word)"
   ]
  },
  {
   "cell_type": "markdown",
   "metadata": {},
   "source": [
    "有时候我们需要在一个集合里面搜索一些东西。让我们来看两个操作，分别是lists和sets"
   ]
  },
  {
   "cell_type": "code",
   "execution_count": 77,
   "metadata": {},
   "outputs": [
    {
     "name": "stdout",
     "output_type": "stream",
     "text": [
      "['foo', 'foo', 'bar', 'baz']\n",
      "{'foo', 'baz', 'bar'}\n"
     ]
    }
   ],
   "source": [
    "x = list(('foo', 'foo', 'bar', 'baz'))\n",
    "y = set(('foo', 'foo', 'bar', 'baz'))\n",
    "\n",
    "print(x)\n",
    "print(y)"
   ]
  },
  {
   "cell_type": "code",
   "execution_count": 78,
   "metadata": {},
   "outputs": [
    {
     "data": {
      "text/plain": [
       "True"
      ]
     },
     "execution_count": 78,
     "metadata": {},
     "output_type": "execute_result"
    }
   ],
   "source": [
    "'foo' in x"
   ]
  },
  {
   "cell_type": "code",
   "execution_count": 80,
   "metadata": {},
   "outputs": [
    {
     "data": {
      "text/plain": [
       "True"
      ]
     },
     "execution_count": 80,
     "metadata": {},
     "output_type": "execute_result"
    }
   ],
   "source": [
    "'foo' in y"
   ]
  },
  {
   "cell_type": "markdown",
   "metadata": {},
   "source": [
    "尽管最后的两个boolean测试看起来结果是一样的，但是 ${foo}$ in $y$ is utilizing the fact that sets (and dictrionaries) in Python are hash tables, the lookup performace between the two examples is different. Python will have to step through each item in the list to find a matching case, which is time-consuming (for large collections). But finding keys in the set can be done quickly using the hash lookup. Also, sets and dictrionaries drop duplicate eentries, which is why dictrionaries cannot have two identical keys.\n",
    "\n",
    "\n",
    "#### Exceptrion-sefe contexts\n",
    "\n",
    "这部分不太懂，所以我不再笔记。以后重新阅读时补全---2018 May 7th\n",
    "\n"
   ]
  },
  {
   "cell_type": "code",
   "execution_count": null,
   "metadata": {},
   "outputs": [],
   "source": []
  },
  {
   "cell_type": "code",
   "execution_count": null,
   "metadata": {},
   "outputs": [],
   "source": []
  },
  {
   "cell_type": "markdown",
   "metadata": {},
   "source": [
    "### Commom Gotchas\n",
    "\n",
    "尽管Python试图让与演变的连贯、简单，并且避免令人惊讶的地方，但是实际上对于一些初学者而言，有些东西看起来是很‘出人意料的’.\n",
    "\n",
    "#### Mutable default arguments\n",
    "\n",
    "最让初学者感到意外的是，在函数定义中，Python 对待可变默认参数的方式。\n",
    "\n",
    "例如下面这个例子"
   ]
  },
  {
   "cell_type": "code",
   "execution_count": 7,
   "metadata": {},
   "outputs": [
    {
     "name": "stdout",
     "output_type": "stream",
     "text": [
      "[10]\n",
      "[10, 12]\n",
      "[10, 12]\n"
     ]
    }
   ],
   "source": [
    "\n",
    "def append_to(element, to=[]):\n",
    "    to.append(element)\n",
    "    return to\n",
    "    \n",
    "my_list = append_to(10)\n",
    "print(my_list)\n",
    "your_list = append_to(12)\n",
    "\n",
    "print(my_list)\n",
    "print(your_list)"
   ]
  },
  {
   "cell_type": "markdown",
   "metadata": {},
   "source": [
    "这个结果对于熟悉C和Fortran语言的人或者初学者都是很意外的，因为初学者可能期望的结果是这样的\n",
    "\n",
    "[10]\n",
    "\n",
    "[10]\n",
    "\n",
    "[12]\n",
    "\n",
    "他们(当然也包括以前的我）往往会认为，每次call这个function的时候，就有新的list被创建，除非我们给出了第二个关于to的参数。然而，事实上在python中，一旦这个函数被调用后创建了这个list后，这个list会在之后的函数调用中连贯得使用下去。\n",
    "上面的代码中，第一次调用后，返回的to这个list中只包含了10，但是第二次调用的时候，它继续被使用，并且增加了一个元素12，指向to这个list的列表有两个，分波是my_list和your_list,因此最后输出的时候它们都是[10,12]\n",
    "\n",
    "在 python 中，假设我们已经改变了某个可变的变量，那么这个可变量就会在之后的程序中继续被用到。\n",
    "\n",
    "为了避免上述出现的情况，我们可以这样做：\n",
    "\n",
    "Create a new object each time the function is called, by using a default arg to signal that no argument was provided (None is often a good choice):"
   ]
  },
  {
   "cell_type": "code",
   "execution_count": 15,
   "metadata": {},
   "outputs": [
    {
     "name": "stdout",
     "output_type": "stream",
     "text": [
      "True\n",
      "[10]\n",
      "False\n",
      "[10]\n",
      "[2, 12]\n"
     ]
    }
   ],
   "source": [
    "def append_to(element, to=None):\n",
    "    b = to is None\n",
    "    print(b)\n",
    "    if to is None:\n",
    "        to = []\n",
    "    to.append(element)\n",
    "    return to\n",
    "\n",
    "mylist = append_to(10)\n",
    "print(mylist)\n",
    "yourlist = append_to(12,[2])\n",
    "print(mylist)\n",
    "print(yourlist)"
   ]
  },
  {
   "cell_type": "markdown",
   "metadata": {},
   "source": [
    "上述代码中，第一次调用函数时，因我没有给出第二个参数，所以 to 这个list默认就是空的，即None，所以第一次调用后 my_list 是 [10]. 第二次调用时，因为我给出了第二个参数是[2], 因此第二次调用时的 yourlist 是在 [2] 这个list中增加了一个元素12，因此得到的 yourlist 是 [2, 12]. "
   ]
  },
  {
   "cell_type": "markdown",
   "metadata": {},
   "source": [
    "${When this gotcha isn't a gothca:}$\n",
    "\n",
    "Sometimes we can specifically 'exploit' this behavior to maintain the state between calls of a function. This is ofter done when writing a caching function (which stores results in-momery), for example: (这段话我不是太理解，不过暂时先写下来？？？？？)"
   ]
  },
  {
   "cell_type": "code",
   "execution_count": null,
   "metadata": {},
   "outputs": [],
   "source": [
    "def time_consuming_function(x, y, cache={}):\n",
    "    args = (x, y)\n",
    "    if args in cache:\n",
    "        return cache[args]\n",
    "    #Otherwise this is the first time with these arguments\n",
    "    #Do the time-consuming operation\n",
    "    cache[args] = result\n",
    "    return result"
   ]
  },
  {
   "cell_type": "markdown",
   "metadata": {},
   "source": [
    "#### Late binding closures\n",
    "\n",
    "Another common source of confiusion is the way Python binds its variables in closures (or in the surronding global scope).\n",
    "\n",
    "先看个例子："
   ]
  },
  {
   "cell_type": "code",
   "execution_count": 81,
   "metadata": {},
   "outputs": [
    {
     "name": "stdout",
     "output_type": "stream",
     "text": [
      "8...8...8...8...8...\n"
     ]
    }
   ],
   "source": [
    "def creat_multipliers():\n",
    "    return [lambda x: i*x for i in range(5)]\n",
    "\n",
    "for multiplier in creat_multipliers():\n",
    "    print(multiplier(2), end=\"...\")\n",
    "print()\n",
    "# you wuold think the result is 0...2...4...6...8...\n",
    "#but actually waht you get is 8...8...8...8...\n",
    "#about the late binding closure, you can also find the discussion on stackflow\n",
    "# https://stackoverflow.com/questions/36463498/late-binding-python-closures"
   ]
  },
  {
   "cell_type": "markdown",
   "metadata": {},
   "source": [
    "Such a result would be superising for Python beginers. Why do we get this result? Python's closures are ${late binding}$. This means that the values of variables used in closures are looked up at the time the inner function is called."
   ]
  },
  {
   "cell_type": "code",
   "execution_count": null,
   "metadata": {},
   "outputs": [],
   "source": [
    "def create_multipliers():\n",
    "    multipliers = []\n",
    "    \n",
    "    for i in range(5):\n",
    "        def multiplier(x):\n",
    "            return i * x\n",
    "        multipliers.append(multiplier)\n",
    "    return multipliers\n",
    "\n",
    "\n",
    "creat_multipliers"
   ]
  },
  {
   "cell_type": "markdown",
   "metadata": {},
   "source": [
    "What we should do instead:"
   ]
  },
  {
   "cell_type": "code",
   "execution_count": 94,
   "metadata": {},
   "outputs": [],
   "source": [
    "def create_multipliers():\n",
    "    return [lambda x, i=i: i*x for x in range(5)]"
   ]
  },
  {
   "cell_type": "markdown",
   "metadata": {},
   "source": [
    "alternatively, we can use the functools.partial() function:"
   ]
  },
  {
   "cell_type": "code",
   "execution_count": 96,
   "metadata": {},
   "outputs": [],
   "source": [
    "from functools import partial\n",
    "from operator import mul\n",
    "\n",
    "\n",
    "def create_multipliers():\n",
    "    return [partial(mul, i) for i in range(5)]\n",
    "\n"
   ]
  },
  {
   "cell_type": "code",
   "execution_count": null,
   "metadata": {},
   "outputs": [],
   "source": []
  },
  {
   "cell_type": "markdown",
   "metadata": {},
   "source": [
    "### Structuring Your Project"
   ]
  },
  {
   "cell_type": "code",
   "execution_count": null,
   "metadata": {},
   "outputs": [],
   "source": []
  },
  {
   "cell_type": "code",
   "execution_count": null,
   "metadata": {},
   "outputs": [],
   "source": []
  },
  {
   "cell_type": "code",
   "execution_count": null,
   "metadata": {},
   "outputs": [],
   "source": []
  },
  {
   "cell_type": "code",
   "execution_count": null,
   "metadata": {},
   "outputs": [],
   "source": []
  },
  {
   "cell_type": "code",
   "execution_count": 2,
   "metadata": {},
   "outputs": [],
   "source": [
    "import unittest\n",
    "def fun(x):\n",
    "    return x+1\n",
    "\n",
    "class MyTest(unittest.TestCase):\n",
    "    def test_that_fun_adds_one(self):\n",
    "        self.assertEqual(fun(3),4)\n",
    "        \n",
    "class MySecondTest(unittest.TestCase):\n",
    "    def test_that_fun_fails_when_not_adding_number(self):\n",
    "        self.assertRaises(TypeError, fun, 'multiply six by nine')"
   ]
  },
  {
   "cell_type": "code",
   "execution_count": null,
   "metadata": {},
   "outputs": [],
   "source": []
  },
  {
   "cell_type": "code",
   "execution_count": null,
   "metadata": {},
   "outputs": [],
   "source": []
  },
  {
   "cell_type": "code",
   "execution_count": null,
   "metadata": {},
   "outputs": [],
   "source": []
  },
  {
   "cell_type": "code",
   "execution_count": null,
   "metadata": {},
   "outputs": [],
   "source": []
  },
  {
   "cell_type": "code",
   "execution_count": null,
   "metadata": {},
   "outputs": [],
   "source": []
  },
  {
   "cell_type": "code",
   "execution_count": null,
   "metadata": {},
   "outputs": [],
   "source": []
  }
 ],
 "metadata": {
  "kernelspec": {
   "display_name": "Python 3",
   "language": "python",
   "name": "python3"
  },
  "language_info": {
   "codemirror_mode": {
    "name": "ipython",
    "version": 3
   },
   "file_extension": ".py",
   "mimetype": "text/x-python",
   "name": "python",
   "nbconvert_exporter": "python",
   "pygments_lexer": "ipython3",
   "version": "3.6.5"
  }
 },
 "nbformat": 4,
 "nbformat_minor": 2
}
