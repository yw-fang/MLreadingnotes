{
 "cells": [
  {
   "cell_type": "code",
   "execution_count": 1,
   "metadata": {},
   "outputs": [],
   "source": []
  },
  {
   "cell_type": "code",
   "execution_count": 2,
   "metadata": {},
   "outputs": [],
   "source": [
    "import unittest\n",
    "def fun(x):\n",
    "    return x+1\n",
    "\n",
    "class MyTest(unittest.TestCase):\n",
    "    def test_that_fun_adds_one(self):\n",
    "        self.assertEqual(fun(3),4)\n",
    "        \n",
    "class MySecondTest(unittest.TestCase):\n",
    "    def test_that_fun_fails_when_not_adding_number(self):\n",
    "        self.assertRaises(TypeError, fun, 'multiply six by nine')"
   ]
  },
  {
   "cell_type": "code",
   "execution_count": null,
   "metadata": {},
   "outputs": [],
   "source": []
  }
 ],
 "metadata": {
  "kernelspec": {
   "display_name": "Python 3",
   "language": "python",
   "name": "python3"
  },
  "language_info": {
   "codemirror_mode": {
    "name": "ipython",
    "version": 3
   },
   "file_extension": ".py",
   "mimetype": "text/x-python",
   "name": "python",
   "nbconvert_exporter": "python",
   "pygments_lexer": "ipython3",
   "version": "3.6.3"
  }
 },
 "nbformat": 4,
 "nbformat_minor": 2
}
