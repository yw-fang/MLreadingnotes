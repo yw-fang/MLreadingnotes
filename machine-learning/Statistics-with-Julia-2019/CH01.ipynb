{
 "cells": [
  {
   "cell_type": "markdown",
   "metadata": {},
   "source": [
    "# Introduction Julia"
   ]
  },
  {
   "cell_type": "markdown",
   "metadata": {},
   "source": [
    "## Install Julia\n",
    "\n",
    "Installation of Julia in Mac and Windows is very simple.\n",
    "\n",
    "For linux, if we have a Ubuntu, we can go to https://julialang.org/downloads/ and download a version of \"Generic Linux Binaries for x86\". Then decompress it, you will see julia has been there (bin directory).\n",
    "\n",
    "## The usage of jupyter lab for Julia:\n",
    "启动julia，然后在julia terminal中输入   \n",
    "\n",
    "using Pkg\n",
    "\n",
    "Pkg.add(\"IJulia\")\n",
    "\n",
    "装完后退出，然后启动jupyter lab即可。"
   ]
  },
  {
   "cell_type": "markdown",
   "metadata": {},
   "source": [
    "# Basics of Julia\n",
    "\n",
    "Note that the bacics of Julia was studied by following the chapter by Jesús Fernández-Villaverde (see Chapter_HPC_8_Julia.pdf)\n",
    "\n",
    "For the sections begin with JFV (the first letters of the name of Jesús Fernández-Villaverde), that means those are from his chapter."
   ]
  },
  {
   "cell_type": "markdown",
   "metadata": {},
   "source": [
    "## JFV-1.1 $\\sim$ 1.2"
   ]
  },
  {
   "cell_type": "markdown",
   "metadata": {},
   "source": [
    "The result from the last computation performed by Julia will always be stored in ans, see the example below"
   ]
  },
  {
   "cell_type": "code",
   "execution_count": 22,
   "metadata": {},
   "outputs": [
    {
     "data": {
      "text/plain": [
       "1"
      ]
     },
     "execution_count": 22,
     "metadata": {},
     "output_type": "execute_result"
    }
   ],
   "source": [
    "a = 1"
   ]
  },
  {
   "cell_type": "code",
   "execution_count": 23,
   "metadata": {},
   "outputs": [
    {
     "name": "stdout",
     "output_type": "stream",
     "text": [
      "3.0\n",
      "1"
     ]
    }
   ],
   "source": [
    "b = ans+2.\n",
    "println(b)\n",
    "print(ans)"
   ]
  },
  {
   "cell_type": "markdown",
   "metadata": {},
   "source": [
    "When using new package in Julia, just use"
   ]
  },
  {
   "cell_type": "code",
   "execution_count": 25,
   "metadata": {},
   "outputs": [
    {
     "name": "stderr",
     "output_type": "stream",
     "text": [
      "┌ Info: Precompiling PyPlot [d330b81b-6aea-500a-939a-2ce795aea3ee]\n",
      "└ @ Base loading.jl:1260\n",
      "┌ Info: Installing matplotlib via the Conda matplotlib package...\n",
      "└ @ PyCall /Users/ywfang/.julia/packages/PyCall/zqDXB/src/PyCall.jl:697\n",
      "┌ Info: Running `conda install -y matplotlib` in root environment\n",
      "└ @ Conda /Users/ywfang/.julia/packages/Conda/3rPhK/src/Conda.jl:113\n"
     ]
    },
    {
     "name": "stdout",
     "output_type": "stream",
     "text": [
      "Collecting package metadata (current_repodata.json): ...working... done\n",
      "Solving environment: ...working... done\n",
      "\n",
      "## Package Plan ##\n",
      "\n",
      "  environment location: /Users/ywfang/.julia/conda/3\n",
      "\n",
      "  added / updated specs:\n",
      "    - matplotlib\n",
      "\n",
      "\n",
      "The following packages will be downloaded:\n",
      "\n",
      "    package                    |            build\n",
      "    ---------------------------|-----------------\n",
      "    cycler-0.10.0              |           py37_0          14 KB  defaults\n",
      "    freetype-2.10.2            |       ha233b18_0         570 KB  defaults\n",
      "    kiwisolver-1.2.0           |   py37h04f5b5a_0          55 KB  defaults\n",
      "    libpng-1.6.37              |       ha441bb4_0         262 KB  defaults\n",
      "    matplotlib-3.2.1           |                0          21 KB  defaults\n",
      "    matplotlib-base-3.2.1      |   py37h5670ca0_0         5.3 MB  defaults\n",
      "    pyparsing-2.4.7            |             py_0          65 KB  defaults\n",
      "    python-dateutil-2.8.1      |             py_0         215 KB  defaults\n",
      "    tornado-6.0.4              |   py37h1de35cc_1         597 KB  defaults\n",
      "    ------------------------------------------------------------\n",
      "                                           Total:         7.1 MB\n",
      "\n",
      "The following NEW packages will be INSTALLED:\n",
      "\n",
      "  cycler             pkgs/main/osx-64::cycler-0.10.0-py37_0\n",
      "  freetype           pkgs/main/osx-64::freetype-2.10.2-ha233b18_0\n",
      "  kiwisolver         pkgs/main/osx-64::kiwisolver-1.2.0-py37h04f5b5a_0\n",
      "  libpng             pkgs/main/osx-64::libpng-1.6.37-ha441bb4_0\n",
      "  matplotlib         pkgs/main/osx-64::matplotlib-3.2.1-0\n",
      "  matplotlib-base    pkgs/main/osx-64::matplotlib-base-3.2.1-py37h5670ca0_0\n",
      "  pyparsing          pkgs/main/noarch::pyparsing-2.4.7-py_0\n",
      "  python-dateutil    pkgs/main/noarch::python-dateutil-2.8.1-py_0\n",
      "  tornado            pkgs/main/osx-64::tornado-6.0.4-py37h1de35cc_1\n",
      "\n",
      "\n",
      "\n",
      "Downloading and Extracting Packages\n",
      "tornado-6.0.4        | 597 KB    | ########## | 100% \n",
      "matplotlib-3.2.1     | 21 KB     | ########## | 100% \n",
      "pyparsing-2.4.7      | 65 KB     | ########## | 100% \n",
      "matplotlib-base-3.2. | 5.3 MB    | ########## | 100% \n",
      "cycler-0.10.0        | 14 KB     | ########## | 100% \n",
      "freetype-2.10.2      | 570 KB    | ########## | 100% \n",
      "kiwisolver-1.2.0     | 55 KB     | ########## | 100% \n",
      "python-dateutil-2.8. | 215 KB    | ########## | 100% \n",
      "libpng-1.6.37        | 262 KB    | ########## | 100% \n",
      "Preparing transaction: ...working... done\n",
      "Verifying transaction: ...working... done\n",
      "Executing transaction: ...working... done\n"
     ]
    },
    {
     "name": "stderr",
     "output_type": "stream",
     "text": [
      "┌ Warning: PyPlot is using tkagg backend, which is known to cause crashes on MacOS (#410); use the MPLBACKEND environment variable to request a different backend.\n",
      "└ @ PyPlot /Users/ywfang/.julia/packages/PyPlot/XHEG0/src/init.jl:192\n"
     ]
    }
   ],
   "source": [
    "using PyPlot\n"
   ]
  },
  {
   "cell_type": "markdown",
   "metadata": {},
   "source": [
    "## JFV-1.3 Packages"
   ]
  },
  {
   "cell_type": "markdown",
   "metadata": {},
   "source": [
    "Recall that the first thing you need is to switch to the package manager mode with ]. After doing so, and to check the status of your packages, and to add, update, and remove additional packages, you can use:"
   ]
  },
  {
   "cell_type": "code",
   "execution_count": null,
   "metadata": {},
   "outputs": [],
   "source": [
    "st # checks status\n",
    "add IJulia # add package IJulia\n",
    "up IJulia # update IJulia rm IJulia # remove package"
   ]
  },
  {
   "cell_type": "markdown",
   "metadata": {},
   "source": [
    "Genrally we can use a package in the julia shell mode by typing:"
   ]
  },
  {
   "cell_type": "code",
   "execution_count": 31,
   "metadata": {},
   "outputs": [],
   "source": [
    "using PyPlot"
   ]
  },
  {
   "cell_type": "markdown",
   "metadata": {},
   "source": [
    "or we can use a specified function of a package, say\n"
   ]
  },
  {
   "cell_type": "code",
   "execution_count": 32,
   "metadata": {},
   "outputs": [],
   "source": [
    "import PyPlot: plot"
   ]
  },
  {
   "cell_type": "markdown",
   "metadata": {},
   "source": [
    "In most occasions, however, importing the whole package will be the simplest approach and the recommended default.\n",
    "Some other useful packages:"
   ]
  },
  {
   "cell_type": "markdown",
   "metadata": {},
   "source": [
    "1. Plots : easy plots.\n",
    "2. Gadfly : another plotting package; it follows Hadley Wickhams’s ggplot2 for R and the ideas of Wilkinson (2005).\n",
    "3. Distributions : probability distributions and associated functions.\n",
    "4. DataFrames : to work with tabular data.\n",
    "5. Pandas : a front-end to work with Python’s Pandas.\n",
    "6. TensorFlow : a Julia wrapper for TensorFlow.\n",
    "\n",
    "We can also install some other packages that can faciliate the interaction of Julia and other languages like python\n",
    "\n",
    "\n",
    "1. Pycall : call Python functions.\n",
    "2. JavaCall : call Java from Julia.\n",
    "3. RCall : embedded R within Julia."
   ]
  },
  {
   "cell_type": "markdown",
   "metadata": {},
   "source": [
    "## JFV-1.4 Types\n",
    "\n",
    "Julia has variables, values, and types. \n",
    "A variable is a name bound to a value. Julia is case sensitive, so \"a\" is a different variable than \"A\".\n",
    "A variable doesn't hve a type, but its value has the type which attributes the content. All the values in Julia are thus $objects$.\n",
    "\n",
    "In the base implementation of Julia, there are 230 different methods for the function sum! You can list them with the command   as in:"
   ]
  },
  {
   "cell_type": "code",
   "execution_count": null,
   "metadata": {},
   "outputs": [],
   "source": [
    "method_list = methods(+) # list all the methods for sum"
   ]
  },
  {
   "cell_type": "code",
   "execution_count": null,
   "metadata": {},
   "outputs": [],
   "source": []
  },
  {
   "cell_type": "markdown",
   "metadata": {},
   "source": [
    "There is a types tree, but we don't need keep it in mind because we can use the built-in funciton to check its spertype and subtypes"
   ]
  },
  {
   "cell_type": "code",
   "execution_count": 39,
   "metadata": {},
   "outputs": [
    {
     "data": {
      "text/plain": [
       "AbstractFloat"
      ]
     },
     "execution_count": 39,
     "metadata": {},
     "output_type": "execute_result"
    }
   ],
   "source": [
    "supertype(Float64)"
   ]
  },
  {
   "cell_type": "code",
   "execution_count": 40,
   "metadata": {},
   "outputs": [
    {
     "data": {
      "text/plain": [
       "3-element Array{Any,1}:\n",
       " Bool\n",
       " Signed\n",
       " Unsigned"
      ]
     },
     "execution_count": 40,
     "metadata": {},
     "output_type": "execute_result"
    }
   ],
   "source": [
    "subtypes(Integer)"
   ]
  },
  {
   "cell_type": "code",
   "execution_count": 41,
   "metadata": {},
   "outputs": [
    {
     "data": {
      "text/plain": [
       "Real"
      ]
     },
     "execution_count": 41,
     "metadata": {},
     "output_type": "execute_result"
    }
   ],
   "source": [
    "supertype(Integer)"
   ]
  },
  {
   "cell_type": "code",
   "execution_count": 42,
   "metadata": {},
   "outputs": [
    {
     "data": {
      "text/plain": [
       "Number"
      ]
     },
     "execution_count": 42,
     "metadata": {},
     "output_type": "execute_result"
    }
   ],
   "source": [
    "supertype(Real)"
   ]
  },
  {
   "cell_type": "markdown",
   "metadata": {},
   "source": [
    "We can always check the type of a variable with"
   ]
  },
  {
   "cell_type": "code",
   "execution_count": 45,
   "metadata": {},
   "outputs": [
    {
     "data": {
      "text/plain": [
       "Int64"
      ]
     },
     "execution_count": 45,
     "metadata": {},
     "output_type": "execute_result"
    }
   ],
   "source": [
    "a=1\n",
    "typeof(a)"
   ]
  },
  {
   "cell_type": "code",
   "execution_count": 46,
   "metadata": {},
   "outputs": [
    {
     "data": {
      "text/plain": [
       "Int64"
      ]
     },
     "execution_count": 46,
     "metadata": {},
     "output_type": "execute_result"
    }
   ],
   "source": [
    "# determine type of elements in collection a\n",
    "eltype(a)"
   ]
  },
  {
   "cell_type": "markdown",
   "metadata": {},
   "source": [
    "You can fix the type a variable with the operator :: (read as “is an instance of”):"
   ]
  },
  {
   "cell_type": "code",
   "execution_count": 58,
   "metadata": {},
   "outputs": [
    {
     "data": {
      "text/plain": [
       "1.0"
      ]
     },
     "execution_count": 58,
     "metadata": {},
     "output_type": "execute_result"
    }
   ],
   "source": [
    "a::Float64"
   ]
  },
  {
   "cell_type": "code",
   "execution_count": 65,
   "metadata": {},
   "outputs": [
    {
     "ename": "ErrorException",
     "evalue": "syntax: type declarations on global variables are not yet supported",
     "output_type": "error",
     "traceback": [
      "syntax: type declarations on global variables are not yet supported",
      "",
      "Stacktrace:",
      " [1] top-level scope at /Users/ywfang/.julia/packages/IJulia/DrVMH/src/kernel.jl:52"
     ]
    }
   ],
   "source": [
    "b::Int = 10"
   ]
  },
  {
   "cell_type": "code",
   "execution_count": 66,
   "metadata": {},
   "outputs": [
    {
     "data": {
      "text/plain": [
       "8"
      ]
     },
     "execution_count": 66,
     "metadata": {},
     "output_type": "execute_result"
    }
   ],
   "source": [
    "sizeof(a) # check the memory size of the variable"
   ]
  },
  {
   "cell_type": "code",
   "execution_count": 73,
   "metadata": {},
   "outputs": [
    {
     "data": {
      "text/latex": [
       "\\begin{tabular}\n",
       "{l | r | l}\n",
       "name & size & summary \\\\\n",
       "\\hline\n",
       "Base &  & Module \\\\\n",
       "Core &  & Module \\\\\n",
       "Main &  & Module \\\\\n",
       "a & 8 bytes & Float64 \\\\\n",
       "b & 8 bytes & Int64 \\\\\n",
       "data & 7.629 MiB & 1000000-element Array\\{Float64,1\\} \\\\\n",
       "method\\_list & 296.392 KiB & Base.MethodList \\\\\n",
       "\\end{tabular}\n"
      ],
      "text/markdown": [
       "| name        |        size | summary                          |\n",
       "|:----------- | -----------:|:-------------------------------- |\n",
       "| Base        |             | Module                           |\n",
       "| Core        |             | Module                           |\n",
       "| Main        |             | Module                           |\n",
       "| a           |     8 bytes | Float64                          |\n",
       "| b           |     8 bytes | Int64                            |\n",
       "| data        |   7.629 MiB | 1000000-element Array{Float64,1} |\n",
       "| method_list | 296.392 KiB | Base.MethodList                  |\n"
      ],
      "text/plain": [
       "  name               size summary                         \n",
       "  ––––––––––– ––––––––––– ––––––––––––––––––––––––––––––––\n",
       "  Base                    Module                          \n",
       "  Core                    Module                          \n",
       "  Main                    Module                          \n",
       "  a               8 bytes Float64                         \n",
       "  b               8 bytes Int64                           \n",
       "  data          7.629 MiB 1000000-element Array{Float64,1}\n",
       "  method_list 296.392 KiB Base.MethodList                 "
      ]
     },
     "execution_count": 73,
     "metadata": {},
     "output_type": "execute_result"
    }
   ],
   "source": [
    "# If you want to know more about the state of your memory at any given time, you can\n",
    "# check the workspace\n",
    "\n",
    "varinfo()"
   ]
  },
  {
   "cell_type": "code",
   "execution_count": 89,
   "metadata": {},
   "outputs": [
    {
     "data": {
      "text/plain": [
       "0"
      ]
     },
     "execution_count": 89,
     "metadata": {},
     "output_type": "execute_result"
    }
   ],
   "source": [
    "a=0\n"
   ]
  },
  {
   "cell_type": "code",
   "execution_count": 90,
   "metadata": {},
   "outputs": [
    {
     "data": {
      "text/latex": [
       "\\begin{tabular}\n",
       "{l | r | l}\n",
       "name & size & summary \\\\\n",
       "\\hline\n",
       "Base &  & Module \\\\\n",
       "Core &  & Module \\\\\n",
       "Main &  & Module \\\\\n",
       "a & 8 bytes & Int64 \\\\\n",
       "b & 8 bytes & Int64 \\\\\n",
       "data & 7.629 MiB & 1000000-element Array\\{Float64,1\\} \\\\\n",
       "method\\_list & 296.556 KiB & Base.MethodList \\\\\n",
       "\\end{tabular}\n"
      ],
      "text/markdown": [
       "| name        |        size | summary                          |\n",
       "|:----------- | -----------:|:-------------------------------- |\n",
       "| Base        |             | Module                           |\n",
       "| Core        |             | Module                           |\n",
       "| Main        |             | Module                           |\n",
       "| a           |     8 bytes | Int64                            |\n",
       "| b           |     8 bytes | Int64                            |\n",
       "| data        |   7.629 MiB | 1000000-element Array{Float64,1} |\n",
       "| method_list | 296.556 KiB | Base.MethodList                  |\n"
      ],
      "text/plain": [
       "  name               size summary                         \n",
       "  ––––––––––– ––––––––––– ––––––––––––––––––––––––––––––––\n",
       "  Base                    Module                          \n",
       "  Core                    Module                          \n",
       "  Main                    Module                          \n",
       "  a               8 bytes Int64                           \n",
       "  b               8 bytes Int64                           \n",
       "  data          7.629 MiB 1000000-element Array{Float64,1}\n",
       "  method_list 296.556 KiB Base.MethodList                 "
      ]
     },
     "execution_count": 90,
     "metadata": {},
     "output_type": "execute_result"
    }
   ],
   "source": [
    "varinfo()\n"
   ]
  },
  {
   "cell_type": "code",
   "execution_count": null,
   "metadata": {},
   "outputs": [],
   "source": []
  },
  {
   "cell_type": "markdown",
   "metadata": {},
   "source": [
    "Julia’s sophisticated type structure provides you with extraordinary capabilities. For instance, you can use a greek letter as a variable by typing its LATEX’s name plus pressing tab: \\alpha (+ press Tab)\n",
    "You will get"
   ]
  },
  {
   "cell_type": "code",
   "execution_count": 91,
   "metadata": {},
   "outputs": [
    {
     "data": {
      "text/plain": [
       "1"
      ]
     },
     "execution_count": 91,
     "metadata": {},
     "output_type": "execute_result"
    }
   ],
   "source": [
    "α # The code will be much easier to read and maintain."
   ]
  },
  {
   "cell_type": "markdown",
   "metadata": {},
   "source": [
    "You can extend this capability of to all Unicode characters and operate on exotic variables"
   ]
  },
  {
   "cell_type": "code",
   "execution_count": 93,
   "metadata": {},
   "outputs": [
    {
     "name": "stdout",
     "output_type": "stream",
     "text": [
      "3\n"
     ]
    }
   ],
   "source": [
    "α = 1\n",
    "β = 2\n",
    "sum = α + β\n",
    "println(sum)"
   ]
  },
  {
   "cell_type": "code",
   "execution_count": null,
   "metadata": {},
   "outputs": [],
   "source": []
  },
  {
   "cell_type": "code",
   "execution_count": null,
   "metadata": {},
   "outputs": [],
   "source": []
  },
  {
   "cell_type": "code",
   "execution_count": 5,
   "metadata": {},
   "outputs": [
    {
     "name": "stdout",
     "output_type": "stream",
     "text": [
      "98% of the means lie in the estimated range:(0.4699297053832717, 0.5301852200037569)\n",
      "  7.718874 seconds (10.00 M allocations: 7.974 GiB, 15.64% gc time)\n"
     ]
    }
   ],
   "source": [
    "# Listing1.3\n",
    "\n",
    "using Statistics\n",
    "\n",
    "@time begin\n",
    "    data = Float64[]\n",
    "    for i in 1:10^6\n",
    "        group = Float64[]\n",
    "        for j in 1:5*10^2\n",
    "            push!(group, rand())\n",
    "        end\n",
    "        push!(data, mean(group))\n",
    "    end\n",
    "    println(\"98% of the means lie in the estimated range:\",\n",
    "    (quantile(data, 0.01), quantile(data,0.99)))\n",
    "    \n",
    "    end;"
   ]
  },
  {
   "cell_type": "code",
   "execution_count": null,
   "metadata": {},
   "outputs": [],
   "source": []
  },
  {
   "cell_type": "code",
   "execution_count": null,
   "metadata": {},
   "outputs": [],
   "source": []
  },
  {
   "cell_type": "code",
   "execution_count": 2,
   "metadata": {},
   "outputs": [
    {
     "name": "stdout",
     "output_type": "stream",
     "text": [
      "98% of the means lie in the estimated range: (0.46999055943827006, 0.5299175853053604)\n",
      "  1.727430 seconds (1.14 M allocations: 3.904 GiB, 43.43% gc time)\n"
     ]
    }
   ],
   "source": [
    "# Listing 1.4 Fast code example compared to Listing 1.3\n",
    "\n",
    "using Statistics\n",
    "\n",
    "@time begin\n",
    "    data = [mean(rand(5*10^2)) for _ in 1:10^6]\n",
    "    println(\"98% of the means lie in the estimated range: \", (\n",
    "            quantile(data, 0.01), quantile(data,0.99)))\n",
    "end"
   ]
  },
  {
   "cell_type": "markdown",
   "metadata": {},
   "source": []
  },
  {
   "cell_type": "code",
   "execution_count": 6,
   "metadata": {},
   "outputs": [
    {
     "name": "stdout",
     "output_type": "stream",
     "text": [
      "1\n"
     ]
    }
   ],
   "source": [
    ";echo '1' # \";\" can be used to activate the shell mode"
   ]
  },
  {
   "cell_type": "code",
   "execution_count": 8,
   "metadata": {},
   "outputs": [
    {
     "ename": "UndefVarError",
     "evalue": "UndefVarError: clearconsole not defined",
     "output_type": "error",
     "traceback": [
      "UndefVarError: clearconsole not defined",
      "",
      "Stacktrace:",
      " [1] top-level scope at In[8]:1"
     ]
    }
   ],
   "source": []
  },
  {
   "cell_type": "code",
   "execution_count": null,
   "metadata": {},
   "outputs": [],
   "source": []
  }
 ],
 "metadata": {
  "kernelspec": {
   "display_name": "Julia 1.4.2",
   "language": "julia",
   "name": "julia-1.4"
  },
  "language_info": {
   "file_extension": ".jl",
   "mimetype": "application/julia",
   "name": "julia",
   "version": "1.4.2"
  }
 },
 "nbformat": 4,
 "nbformat_minor": 2
}
