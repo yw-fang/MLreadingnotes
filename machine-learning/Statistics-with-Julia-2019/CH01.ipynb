{
 "cells": [
  {
   "cell_type": "markdown",
   "metadata": {},
   "source": [
    "# Introduction Julia"
   ]
  },
  {
   "cell_type": "markdown",
   "metadata": {},
   "source": [
    "## Install Julia\n",
    "\n",
    "Installation of Julia in Mac and Windows is very simple.\n",
    "\n",
    "For linux, if we have a Ubuntu, we can go to https://julialang.org/downloads/ and download a version of \"Generic Linux Binaries for x86\". Then decompress it, you will see julia has been there (bin directory).\n",
    "\n",
    "## The usage of jupyter lab for Julia:\n",
    "启动julia，然后在julia terminal中输入   \n",
    "\n",
    "using Pkg\n",
    "\n",
    "Pkg.add(\"IJulia\")\n",
    "\n",
    "装完后退出，然后启动jupyter lab即可。"
   ]
  },
  {
   "cell_type": "code",
   "execution_count": 6,
   "metadata": {},
   "outputs": [
    {
     "name": "stdout",
     "output_type": "stream",
     "text": [
      "98% of the means lie in the estimated range:(0.4700770160950024, 0.5299488426402873)\n",
      "  5.447580 seconds (10.00 M allocations: 8.034 GiB, 9.45% gc time)\n"
     ]
    }
   ],
   "source": [
    "# Listing1.3\n",
    "\n",
    "using Statistics\n",
    "\n",
    "@time begin\n",
    "    data = Float64[]\n",
    "    for i in 1:10^6\n",
    "        group = Float64[]\n",
    "        for j in 1:5*10^2\n",
    "            push!(group, rand())\n",
    "        end\n",
    "        push!(data, mean(group))\n",
    "    end\n",
    "    println(\"98% of the means lie in the estimated range:\",\n",
    "    (quantile(data, 0.01), quantile(data,0.99)))\n",
    "    \n",
    "    end;"
   ]
  },
  {
   "cell_type": "code",
   "execution_count": 5,
   "metadata": {},
   "outputs": [
    {
     "name": "stdout",
     "output_type": "stream",
     "text": [
      "98% of the means lie in the estimated range: (0.46992861464237345, 0.5300805120473766)\n",
      "  1.157168 seconds (1.07 M allocations: 3.900 GiB, 25.70% gc time)\n"
     ]
    }
   ],
   "source": [
    "# Listing 1.4 Fast code example compared to Listing 1.3\n",
    "\n",
    "using Statistics\n",
    "\n",
    "@time begin\n",
    "    data = [mean(rand(5*10^2)) for _ in 1:10^6]\n",
    "    println(\"98% of the means lie in the estimated range: \", (\n",
    "            quantile(data, 0.01), quantile(data,0.99)))\n",
    "end"
   ]
  },
  {
   "cell_type": "code",
   "execution_count": null,
   "metadata": {},
   "outputs": [],
   "source": []
  }
 ],
 "metadata": {
  "kernelspec": {
   "display_name": "Julia 1.3.0-rc4",
   "language": "julia",
   "name": "julia-1.3"
  },
  "language_info": {
   "file_extension": ".jl",
   "mimetype": "application/julia",
   "name": "julia",
   "version": "1.3.0"
  }
 },
 "nbformat": 4,
 "nbformat_minor": 2
}
