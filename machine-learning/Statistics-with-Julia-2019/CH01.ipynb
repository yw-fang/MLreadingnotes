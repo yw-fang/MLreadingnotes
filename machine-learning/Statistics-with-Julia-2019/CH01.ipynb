{
 "cells": [
  {
   "cell_type": "markdown",
   "metadata": {},
   "source": [
    "# Introduction Julia"
   ]
  },
  {
   "cell_type": "markdown",
   "metadata": {},
   "source": [
    "## Install Julia\n",
    "\n",
    "Installation of Julia in Mac and Windows is very simple.\n",
    "\n",
    "For linux, if we have a Ubuntu, we can go to https://julialang.org/downloads/ and download a version of \"Generic Linux Binaries for x86\". Then decompress it, you will see julia has been there (bin directory).\n",
    "\n",
    "## The usage of jupyter lab for Julia:\n",
    "启动julia，然后在julia terminal中输入   \n",
    "\n",
    "using Pkg\n",
    "\n",
    "Pkg.add(\"IJulia\")\n",
    "\n",
    "装完后退出，然后启动jupyter lab即可。"
   ]
  },
  {
   "cell_type": "markdown",
   "metadata": {},
   "source": [
    "# Basics of Julia\n",
    "\n",
    "Note that the bacics of Julia was studied by following the chapter by Jesús Fernández-Villaverde (see Chapter_HPC_8_Julia.pdf)\n",
    "\n",
    "For"
   ]
  },
  {
   "cell_type": "markdown",
   "metadata": {},
   "source": [
    "The result from the last computation performed by Julia will always be stored in ans, see the example below"
   ]
  },
  {
   "cell_type": "code",
   "execution_count": 22,
   "metadata": {},
   "outputs": [
    {
     "data": {
      "text/plain": [
       "1"
      ]
     },
     "execution_count": 22,
     "metadata": {},
     "output_type": "execute_result"
    }
   ],
   "source": [
    "a = 1"
   ]
  },
  {
   "cell_type": "code",
   "execution_count": 23,
   "metadata": {},
   "outputs": [
    {
     "name": "stdout",
     "output_type": "stream",
     "text": [
      "3.0\n",
      "1"
     ]
    }
   ],
   "source": [
    "b = ans+2.\n",
    "println(b)\n",
    "print(ans)"
   ]
  },
  {
   "cell_type": "markdown",
   "metadata": {},
   "source": [
    "When using new package in Julia, just use"
   ]
  },
  {
   "cell_type": "code",
   "execution_count": null,
   "metadata": {},
   "outputs": [
    {
     "name": "stderr",
     "output_type": "stream",
     "text": [
      "┌ Info: Precompiling PyPlot [d330b81b-6aea-500a-939a-2ce795aea3ee]\n",
      "└ @ Base loading.jl:1260\n",
      "┌ Info: Installing matplotlib via the Conda matplotlib package...\n",
      "└ @ PyCall /Users/ywfang/.julia/packages/PyCall/zqDXB/src/PyCall.jl:697\n",
      "┌ Info: Running `conda install -y matplotlib` in root environment\n",
      "└ @ Conda /Users/ywfang/.julia/packages/Conda/3rPhK/src/Conda.jl:113\n"
     ]
    },
    {
     "name": "stdout",
     "output_type": "stream",
     "text": [
      "Collecting package metadata (current_repodata.json): ...working... "
     ]
    }
   ],
   "source": [
    "using PyPlot\n"
   ]
  },
  {
   "cell_type": "code",
   "execution_count": null,
   "metadata": {},
   "outputs": [],
   "source": []
  },
  {
   "cell_type": "code",
   "execution_count": 5,
   "metadata": {},
   "outputs": [
    {
     "name": "stdout",
     "output_type": "stream",
     "text": [
      "98% of the means lie in the estimated range:(0.4699297053832717, 0.5301852200037569)\n",
      "  7.718874 seconds (10.00 M allocations: 7.974 GiB, 15.64% gc time)\n"
     ]
    }
   ],
   "source": [
    "# Listing1.3\n",
    "\n",
    "using Statistics\n",
    "\n",
    "@time begin\n",
    "    data = Float64[]\n",
    "    for i in 1:10^6\n",
    "        group = Float64[]\n",
    "        for j in 1:5*10^2\n",
    "            push!(group, rand())\n",
    "        end\n",
    "        push!(data, mean(group))\n",
    "    end\n",
    "    println(\"98% of the means lie in the estimated range:\",\n",
    "    (quantile(data, 0.01), quantile(data,0.99)))\n",
    "    \n",
    "    end;"
   ]
  },
  {
   "cell_type": "code",
   "execution_count": 2,
   "metadata": {},
   "outputs": [
    {
     "name": "stdout",
     "output_type": "stream",
     "text": [
      "98% of the means lie in the estimated range: (0.46999055943827006, 0.5299175853053604)\n",
      "  1.727430 seconds (1.14 M allocations: 3.904 GiB, 43.43% gc time)\n"
     ]
    }
   ],
   "source": [
    "# Listing 1.4 Fast code example compared to Listing 1.3\n",
    "\n",
    "using Statistics\n",
    "\n",
    "@time begin\n",
    "    data = [mean(rand(5*10^2)) for _ in 1:10^6]\n",
    "    println(\"98% of the means lie in the estimated range: \", (\n",
    "            quantile(data, 0.01), quantile(data,0.99)))\n",
    "end"
   ]
  },
  {
   "cell_type": "markdown",
   "metadata": {},
   "source": []
  },
  {
   "cell_type": "code",
   "execution_count": 6,
   "metadata": {},
   "outputs": [
    {
     "name": "stdout",
     "output_type": "stream",
     "text": [
      "1\n"
     ]
    }
   ],
   "source": [
    ";echo '1' # \";\" can be used to activate the shell mode"
   ]
  },
  {
   "cell_type": "code",
   "execution_count": 8,
   "metadata": {},
   "outputs": [
    {
     "ename": "UndefVarError",
     "evalue": "UndefVarError: clearconsole not defined",
     "output_type": "error",
     "traceback": [
      "UndefVarError: clearconsole not defined",
      "",
      "Stacktrace:",
      " [1] top-level scope at In[8]:1"
     ]
    }
   ],
   "source": []
  },
  {
   "cell_type": "code",
   "execution_count": null,
   "metadata": {},
   "outputs": [],
   "source": []
  }
 ],
 "metadata": {
  "kernelspec": {
   "display_name": "Julia 1.4.2",
   "language": "julia",
   "name": "julia-1.4"
  },
  "language_info": {
   "file_extension": ".jl",
   "mimetype": "application/julia",
   "name": "julia",
   "version": "1.4.2"
  }
 },
 "nbformat": 4,
 "nbformat_minor": 2
}
