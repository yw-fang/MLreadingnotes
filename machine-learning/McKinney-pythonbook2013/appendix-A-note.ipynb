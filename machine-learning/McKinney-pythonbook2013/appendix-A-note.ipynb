{
 "cells": [
  {
   "cell_type": "markdown",
   "metadata": {},
   "source": [
    "# 阅读笔记\n",
    "\n",
    "** 作者：方跃文 **\n",
    "\n",
    "** Email: fyuewen@gmail.com **\n",
    "\n",
    "** 时间：始于2017年9月12日， 结束写作于 **\n",
    "\n",
    "** 上海纽约大学 **\n",
    "\n",
    "** 京都大学**\n",
    "\n"
   ]
  },
  {
   "cell_type": "markdown",
   "metadata": {},
   "source": [
    "\n",
    "# 附录 A\n",
    "\n",
    "附录A在原书最后，不过我自己为了复习python的一些命令，所以特意将这一部分提前到此处。\n",
    "\n",
    "## python 解释器\n",
    "\n",
    "python解释器通过“一次执行一条语句”的方式运行程序。多加利用Ipython。\n",
    "\n",
    "通过使用 %run 命令，IPython 会在同个进程中执行指定文件中的代码。例如我在当年目录的下级目录appendix-A中创建了一个simple01.py的程序，它的内容是\n",
    "```\n",
    "a = 1\n",
    "print(a)\n",
    "\n",
    "```\n",
    "下面我在jupyter notebook中执行"
   ]
  },
  {
   "cell_type": "code",
   "execution_count": null,
   "metadata": {},
   "outputs": [
    {
     "name": "stdout",
     "output_type": "stream",
     "text": [
      "1\n"
     ]
    }
   ],
   "source": [
    "%run appendix-A/simple01.py"
   ]
  },
  {
   "cell_type": "markdown",
   "metadata": {},
   "source": [
    "## 基础知识\n",
    "\n",
    "### 语言语义\n",
    "\n",
    "python语言的设计特点是重视**可读性、简洁性和明确性**。\n",
    "\n",
    "#### 缩进，而不是大括号\n",
    "\n",
    "python是通过空白符（制表符或者空格）来阻止代码的，不像R、C++等用的是大括号。该书原作者建议使用4空格作为缩进量。\n",
    "\n",
    "#### 万物皆对象\n",
    "\n",
    "python语言的一个重要特点就是其对象模型的一致性。任何数值、字符串等都待在自己的“盒子”里，而这些“盒子”就是python的对象。\n",
    "\n",
    "#### 注释\n",
    "\n",
    "注释符使用#\n",
    "\n",
    "#### 函数调用和对象方法的调用\n",
    "\n",
    "几乎所有的python对象都有一些附属函数（也就是方法)，它们可以访问该对象的内部数据。方法的调用时这样写的：\n",
    "\n",
    "```\n",
    "obj.some_method(x, y, z)\n",
    "\n",
    "```\n",
    "\n",
    "#### 变量和按引用传递\n",
    "\n",
    "在python中对变量赋值时，你其实是在**创建等号右侧对象的一个引用**。用实际的例子来说，看看下面这个整数列表：\n"
   ]
  },
  {
   "cell_type": "code",
   "execution_count": 14,
   "metadata": {},
   "outputs": [
    {
     "name": "stdout",
     "output_type": "stream",
     "text": [
      "[1, 2, 3, 4]\n",
      "[1, 2, 3, 4]\n"
     ]
    }
   ],
   "source": [
    "a = [1, 2, 3]\n",
    "b = a\n",
    "a.append(4)\n",
    "print(a)\n",
    "print(b)"
   ]
  },
  {
   "cell_type": "markdown",
   "metadata": {
    "collapsed": true
   },
   "source": [
    "用小卡特的爹（好吧，这其实是某本python书的作者，但是我实在想不起来名字了）的话就是：相当于把a和b都贴在了[1,2,3]这个上面，上面a.append[4]之后，相当于把又贴在了[1,2,3,4]上面，因为b是贴在a上的，所以b的值也被改变，成为了[1,2,3,4]。\n",
    "\n",
    "赋值操作assignment也可以被叫做binding绑定，因为这其实是将一个名称和对象进行了捆绑。因此被赋值了得变量名有时也被称作binding variables。\n",
    "\n",
    "当我们把对象以参数的形式传入函数时候，我们其实传入的只是引用而已，不会发生任何复制。这是python区别于一些其他语言的重要特征之一。\n",
    "\n",
    "例如下面这个例子"
   ]
  },
  {
   "cell_type": "code",
   "execution_count": 15,
   "metadata": {},
   "outputs": [
    {
     "name": "stdout",
     "output_type": "stream",
     "text": [
      "[1, 2, 3, 5]\n"
     ]
    }
   ],
   "source": [
    "def append_element(fanglist, element):\n",
    "    fanglist.append(element)\n",
    "\n",
    "data = [1,2,3]\n",
    "append_element(data, 5)\n",
    "print(data)"
   ]
  },
  {
   "cell_type": "markdown",
   "metadata": {},
   "source": [
    "#### 动态引用，强类型\n",
    "\n",
    "跟Java和C++**相反**， python中的对象引用没有与之关联的类型信息。从下面的例子可以看出："
   ]
  },
  {
   "cell_type": "code",
   "execution_count": 23,
   "metadata": {},
   "outputs": [
    {
     "data": {
      "text/plain": [
       "int"
      ]
     },
     "execution_count": 23,
     "metadata": {},
     "output_type": "execute_result"
    }
   ],
   "source": [
    "a = 5\n",
    "type(a)"
   ]
  },
  {
   "cell_type": "code",
   "execution_count": 24,
   "metadata": {},
   "outputs": [
    {
     "data": {
      "text/plain": [
       "float"
      ]
     },
     "execution_count": 24,
     "metadata": {},
     "output_type": "execute_result"
    }
   ],
   "source": [
    "a = 2.5\n",
    "type(a)"
   ]
  },
  {
   "cell_type": "markdown",
   "metadata": {},
   "source": [
    "变量其实是对象在特定命名空间中的名称而已。对象的类型信息是保存在它自己内部的。如果你因为这样就认为python不是类型语言，那就是错了。\n",
    "例如我们发现把字符串和整型数据直接相加在python中是不能进行的："
   ]
  },
  {
   "cell_type": "code",
   "execution_count": 26,
   "metadata": {},
   "outputs": [
    {
     "name": "stdout",
     "output_type": "stream",
     "text": [
      "a is <class 'str'>, and b is <class 'int'>\n"
     ]
    },
    {
     "ename": "TypeError",
     "evalue": "must be str, not int",
     "output_type": "error",
     "traceback": [
      "\u001b[1;31m---------------------------------------------------------------------------\u001b[0m",
      "\u001b[1;31mTypeError\u001b[0m                                 Traceback (most recent call last)",
      "\u001b[1;32m<ipython-input-26-baac8ff1b682>\u001b[0m in \u001b[0;36m<module>\u001b[1;34m()\u001b[0m\n\u001b[0;32m      2\u001b[0m \u001b[0mb\u001b[0m \u001b[1;33m=\u001b[0m \u001b[1;36m5\u001b[0m\u001b[1;33m\u001b[0m\u001b[0m\n\u001b[0;32m      3\u001b[0m \u001b[0mprint\u001b[0m\u001b[1;33m(\u001b[0m\u001b[1;34m'a is %s, and b is %s'\u001b[0m \u001b[1;33m%\u001b[0m \u001b[1;33m(\u001b[0m\u001b[0mtype\u001b[0m\u001b[1;33m(\u001b[0m\u001b[0ma\u001b[0m\u001b[1;33m)\u001b[0m\u001b[1;33m,\u001b[0m \u001b[0mtype\u001b[0m\u001b[1;33m(\u001b[0m\u001b[0mb\u001b[0m\u001b[1;33m)\u001b[0m\u001b[1;33m)\u001b[0m\u001b[1;33m)\u001b[0m\u001b[1;33m\u001b[0m\u001b[0m\n\u001b[1;32m----> 4\u001b[1;33m \u001b[0mc\u001b[0m \u001b[1;33m=\u001b[0m \u001b[0ma\u001b[0m \u001b[1;33m+\u001b[0m \u001b[0mb\u001b[0m\u001b[1;33m\u001b[0m\u001b[0m\n\u001b[0m",
      "\u001b[1;31mTypeError\u001b[0m: must be str, not int"
     ]
    }
   ],
   "source": [
    "a = 'hello'\n",
    "b = 5\n",
    "print('a is %s, and b is %s' % (type(a), type(b)))\n",
    "c = a + b"
   ]
  },
  {
   "cell_type": "markdown",
   "metadata": {},
   "source": [
    "从上面可以看出类型必须一致才能进行四则运算。从上面我们可以看出type可以用来查看一个对象的类型；反过来，python中，可以通过isinstance函数来检查一个对象是否是某个数据类型的实例。"
   ]
  },
  {
   "cell_type": "code",
   "execution_count": 29,
   "metadata": {},
   "outputs": [
    {
     "data": {
      "text/plain": [
       "False"
      ]
     },
     "execution_count": 29,
     "metadata": {},
     "output_type": "execute_result"
    }
   ],
   "source": [
    "a = 5\n",
    "isinstance(a, int)"
   ]
  },
  {
   "cell_type": "code",
   "execution_count": 30,
   "metadata": {},
   "outputs": [
    {
     "data": {
      "text/plain": [
       "False"
      ]
     },
     "execution_count": 30,
     "metadata": {},
     "output_type": "execute_result"
    }
   ],
   "source": [
    "a = 2.2\n",
    "isinstance(a, int)"
   ]
  },
  {
   "cell_type": "markdown",
   "metadata": {},
   "source": [
    "instance 可以接受由类型组成的元祖。如果想检查某个对象的类型是否属于元祖中所制定的类型，可以用如下例子中的方法："
   ]
  },
  {
   "cell_type": "code",
   "execution_count": 8,
   "metadata": {},
   "outputs": [
    {
     "data": {
      "text/plain": [
       "True"
      ]
     },
     "execution_count": 8,
     "metadata": {},
     "output_type": "execute_result"
    }
   ],
   "source": [
    "a = 5\n",
    "b = 2.2\n",
    "isinstance(a,(int,float))"
   ]
  },
  {
   "cell_type": "code",
   "execution_count": 10,
   "metadata": {},
   "outputs": [
    {
     "data": {
      "text/plain": [
       "True"
      ]
     },
     "execution_count": 10,
     "metadata": {},
     "output_type": "execute_result"
    }
   ],
   "source": [
    "a = 5\n",
    "b = 2.2\n",
    "isinstance(b,(int,float))"
   ]
  },
  {
   "cell_type": "markdown",
   "metadata": {},
   "source": [
    "#### 属性和方法\n",
    "\n",
    "** 时间： 2017年9月20日 **\n",
    "\n",
    "Python中的对象通常具有属性 attribute，也具有方法。所谓方法，则是与对象有关并且能够访问对象内部数据的函数。它们通过形如 obj.attribute_name 这样的语法进行访问"
   ]
  },
  {
   "cell_type": "code",
   "execution_count": 11,
   "metadata": {
    "collapsed": true
   },
   "outputs": [],
   "source": [
    "a = 'foo' #定义了对象"
   ]
  },
  {
   "cell_type": "code",
   "execution_count": 18,
   "metadata": {},
   "outputs": [
    {
     "data": {
      "text/plain": [
       "<function str.count>"
      ]
     },
     "execution_count": 18,
     "metadata": {},
     "output_type": "execute_result"
    }
   ],
   "source": [
    "a.count #访问对象的方法"
   ]
  },
  {
   "cell_type": "code",
   "execution_count": 19,
   "metadata": {},
   "outputs": [
    {
     "data": {
      "text/plain": [
       "<function str.center>"
      ]
     },
     "execution_count": 19,
     "metadata": {},
     "output_type": "execute_result"
    }
   ],
   "source": [
    "#访问对象的方法还可以使用 getattr 函数 （getattr 是 getattribute 的缩写）\n",
    "getattr(a, 'center')"
   ]
  },
  {
   "cell_type": "markdown",
   "metadata": {},
   "source": [
    "#### \"鸭子\"类型\n",
    "\n",
    "(鸭子在这里是哲学隐喻。意思是说：对于一只鸟类动物，不用管它是不是鸭子，只要看它像不像鸭子就可以了。)\n",
    "\n",
    "一般上，我们并不总是关心对象属于什么类型，但是很多时候我们想知道的是它到底有没有某些方法。比如，只要一个对象实现额迭代器协议（iterator protocol），就可以确认它是可迭代的。对于大部分对象而言，这就意味着它拥有一个"
   ]
  },
  {
   "cell_type": "code",
   "execution_count": null,
   "metadata": {
    "collapsed": true
   },
   "outputs": [],
   "source": [
    "__inter__"
   ]
  },
  {
   "cell_type": "markdown",
   "metadata": {
    "collapsed": true
   },
   "source": [
    "魔术方法。当然，还有一个更好一些的验证办法，即利用 iter 函数："
   ]
  },
  {
   "cell_type": "code",
   "execution_count": 24,
   "metadata": {},
   "outputs": [
    {
     "name": "stdout",
     "output_type": "stream",
     "text": [
      "True\n",
      "True\n",
      "True\n",
      "False\n"
     ]
    }
   ],
   "source": [
    "def isiterable(obj):\n",
    "    try:\n",
    "        iter(obj)\n",
    "        return True\n",
    "    except TypeError: #不可迭代\n",
    "        return False\n",
    "#对于字符串以及大部分Python集合类型，该函数返回True:\n",
    "print(isiterable([1,2]))\n",
    "print(isiterable((1,2)))\n",
    "print(isiterable('1'))\n",
    "print(isiterable(1))"
   ]
  },
  {
   "cell_type": "markdown",
   "metadata": {},
   "source": [
    "常常在编写需要处理多类型输入的函数时使用这个功能，此外还有一个常见的应用场景是：编写可以接受任何序列（列表、元祖、ndarry）或迭代器的函数。例如我们可以先检查对象是不是列表（或NumPy数组），如果不是，就将其转换成是："
   ]
  },
  {
   "cell_type": "code",
   "execution_count": 38,
   "metadata": {},
   "outputs": [
    {
     "name": "stdout",
     "output_type": "stream",
     "text": [
      "<class 'tuple'>\n",
      "False\n",
      "True\n",
      "[1, 2]\n"
     ]
    }
   ],
   "source": [
    "x = (1,2) #定义了一个tuple\n",
    "print(type(x))\n",
    "print(isinstance(x,list) )#因为x是tuple，不是list，所以返回 False\n",
    "print(isiterable(x))\n",
    "if not isinstance(x,list) and isiterable(x):\n",
    "#if not isiterable(x):\n",
    "    x = list(x)\n",
    "    print(x)"
   ]
  },
  {
   "cell_type": "markdown",
   "metadata": {},
   "source": [
    "#### 引入 import\n",
    "\n",
    "**2017年9月21日**\n",
    "\n",
    "在python中，module模块就是一个含有函数和变量定义及从其他.py文件引入的此类东西的.py文件。也许这句话很拗口，所以还是让我用例子说话：\n",
    "\n",
    "我在appedix-A文件夹中创建了一个新python脚本，取名为simple02.py，它的内容是(注意原书使用的是Python 2.7, 我使用的是python 3.6所以代码细节上有微小的差别)"
   ]
  },
  {
   "cell_type": "code",
   "execution_count": null,
   "metadata": {
    "collapsed": true
   },
   "outputs": [],
   "source": [
    "#set up a module\n",
    "\n",
    "PI = 3.14159\n",
    "def f(x):\n",
    "    return (x + 2 )\n",
    "\n",
    "def g(a, b):\n",
    "    return (a + b)\n"
   ]
  },
  {
   "cell_type": "markdown",
   "metadata": {},
   "source": [
    "如果我们想要引入 simple02.py 中定义的变量和函数，我们可以在**同目录下**创建另一个文件，取名为 simple03.py"
   ]
  },
  {
   "cell_type": "code",
   "execution_count": 1,
   "metadata": {},
   "outputs": [
    {
     "ename": "SyntaxError",
     "evalue": "EOL while scanning string literal (<ipython-input-1-292b4b5c581e>, line 1)",
     "output_type": "error",
     "traceback": [
      "\u001b[1;36m  File \u001b[1;32m\"<ipython-input-1-292b4b5c581e>\"\u001b[1;36m, line \u001b[1;32m1\u001b[0m\n\u001b[1;33m    import '../appendix-A/simple02’ as s2\u001b[0m\n\u001b[1;37m                                         ^\u001b[0m\n\u001b[1;31mSyntaxError\u001b[0m\u001b[1;31m:\u001b[0m EOL while scanning string literal\n"
     ]
    }
   ],
   "source": [
    "import simple02 as s2\n",
    "result = s2.f(5)\n",
    "print(result)\n",
    "pi = s2.PI\n",
    "print(pi)\n",
    "sumvalue = s2.g(2,2)\n",
    "print(sumvalue)\n"
   ]
  },
  {
   "cell_type": "markdown",
   "metadata": {
    "collapsed": true
   },
   "source": [
    "运行它：python simple03.py\n",
    "\n",
    "(如果是在windows系统的git bash中运行python，需要先设置一下python的路径，方法是在git bash terminal中运行PATH=$PATH:/c/ProgramData/Anaconda3/，然后就可以使用python了, see [referene](https://stackoverflow.com/questions/22869192/git-bash-wont-run-my-python-files))\n",
    "\n",
    "或者我们也可以直接在jupyter notebook中运行，但是需要增加一些代码让系统知道module在什么位置。此处我使用了import sys的方法，这种方法参考自名为shuang的github用户：[链接](https://github.com/Shuang0420/Shuang0420.github.io/wiki/python----%E5%B0%86%E8%87%AA%E5%B7%B1%E5%86%99%E7%9A%84py%E6%96%87%E4%BB%B6%E4%BD%9C%E4%B8%BA%E6%A8%A1%E5%9D%97%E5%AF%BC%E5%85%A5)\n",
    "\n",
    "以下是我摘自这位用户的wiki:\n",
    "\n",
    ">>> 为了让我们自己写的模块能够被 Python 解释器知道，需要用sys.path.append(\"~/sample.py\")。其实，在 Python 中，所有模块都被加入到了 sys.path 里面了。用下面的方法可以看到模块所在位置：\n",
    "\n",
    ">>> import sys\n",
    "\n",
    ">>> import pprint\n",
    "\n",
    ">>> pprint.pprint(sys.path)"
   ]
  },
  {
   "cell_type": "code",
   "execution_count": 20,
   "metadata": {},
   "outputs": [
    {
     "name": "stdout",
     "output_type": "stream",
     "text": [
      "7\n"
     ]
    }
   ],
   "source": [
    "#Fang code\n",
    "import sys\n",
    "sys.path.append(\"./appendix-A/simple02.py\")\n",
    "import simple02\n",
    "\n",
    "result=simple02.f(5)\n",
    "print(result)"
   ]
  },
  {
   "cell_type": "markdown",
   "metadata": {},
   "source": [
    "#### 二元运算符和比较运算符\n",
    "\n",
    "一些常用的运算符如下："
   ]
  },
  {
   "cell_type": "code",
   "execution_count": null,
   "metadata": {
    "collapsed": true
   },
   "outputs": [],
   "source": [
    "a + b # 求和\n",
    "a - b\n",
    "a*b\n",
    "a/b\n",
    "a//b # a 除以 b后向下圆整，丢弃小数部分\n",
    "a**b  # a 的 b次方\n",
    "a & b # 如果a和b均为True，则结果为True. 对于整数，执行按位与操作 https://zh.wikipedia.org/wiki/%E4%BD%8D%E6%93%8D%E4%BD%9C\n",
    "a|b #如果a或者b为True, 则结果为True. 对于整数，执行按位与操作\n",
    "a^b #对于布尔值，如果a或者b为True(但不都为True),则结果为True. 对于整数，执行按位异或操作\n",
    "a==b #如果a等于b，则结果为True\n",
    "a !=b #不等，则True\n",
    "a <= b、a<b # 如果a小于等于（或小于）b,则结果为True\n",
    "a > b、a >= b # 如果a大于（或大于等于）b，则结果为True\n",
    "a is b #如果引用a和引用b都指向同一个python对象，则结果为True\n",
    "a is not b #如果引用a和引用不指向同一个python对象，则结果为True"
   ]
  },
  {
   "cell_type": "code",
   "execution_count": 37,
   "metadata": {},
   "outputs": [
    {
     "name": "stdout",
     "output_type": "stream",
     "text": [
      "(1, 2, 3, 1, 2, 3)\n",
      "5\n",
      "0.6\n",
      "0.0\n",
      "0.6666666666666666\n",
      "0\n",
      "2\n",
      "True\n",
      "False\n",
      "True\n",
      "False\n",
      "True\n",
      "a=b\n"
     ]
    }
   ],
   "source": [
    "#举例子来运用这些算符\n",
    "a = (1,2,3)\n",
    "b = a\n",
    "c = 1.2\n",
    "d = 2.0\n",
    "e = 2\n",
    "f = 3\n",
    "\n",
    "sumtuple = a + b\n",
    "print (sumtuple)\n",
    "suminteger = e + f\n",
    "print(suminteger)\n",
    "print(c/d)\n",
    "print(c//d)\n",
    "print(e/f)\n",
    "print(e//f)\n",
    "print(e & f)\n",
    "print (True & True)\n",
    "print(e is f)\n",
    "print (e is not f)\n",
    "print (True^True)\n",
    "print (True^False)\n",
    "\n",
    "if a == b:\n",
    "    print('a=b')"
   ]
  },
  {
   "cell_type": "markdown",
   "metadata": {},
   "source": [
    "#### 严格与懒惰\n",
    "\n",
    "无论使用什么变成语言，都需要了解一下表达式是何时被求值的。\n",
    "\n",
    "在python中，例如这样一个例子："
   ]
  },
  {
   "cell_type": "code",
   "execution_count": null,
   "metadata": {
    "collapsed": true
   },
   "outputs": [],
   "source": [
    "a=b=c=5\n",
    "d=a+b*c"
   ]
  },
  {
   "cell_type": "markdown",
   "metadata": {},
   "source": [
    "在python中，只要这些句子被求值，相关计算就会立即发生。上述的例子中，d的值会被立即设定为30。而在其他一些语言（eg. Haskell), d的值在被使用之前是不会被计算出来的。\n",
    "\n",
    "在一些特定环境下，我们希望求值计算并不是立即进行的。特别是在密集型计算中，计算负荷重，延迟计算就可以发挥作用。Python 提供了一些技术来实现这样的计算，但是在本书中并没有做介绍。"
   ]
  },
  {
   "cell_type": "markdown",
   "metadata": {},
   "source": [
    "#### 可变和不可变对象\n",
    "\n",
    "大部分python对象是可变的（mutable),比如列表、字典、NumPy数组以及大部分用户自定义类型（类）。也就是说，它们所包含的对象或者值是可被修改的。"
   ]
  },
  {
   "cell_type": "code",
   "execution_count": 39,
   "metadata": {},
   "outputs": [
    {
     "name": "stdout",
     "output_type": "stream",
     "text": [
      "[2, 2, 3, 4]\n"
     ]
    }
   ],
   "source": [
    "a = [1,2,3,4]\n",
    "a[0]=2\n",
    "print(a)"
   ]
  },
  {
   "cell_type": "markdown",
   "metadata": {},
   "source": [
    "另外一些对象，诸如tuple元组和字符串是不可变的immutable。\n",
    "下面这个例子中，我们试图去改变tuple，但是python告诉我们这样的操作是不被支持的。"
   ]
  },
  {
   "cell_type": "code",
   "execution_count": 43,
   "metadata": {},
   "outputs": [
    {
     "ename": "TypeError",
     "evalue": "'tuple' object does not support item assignment",
     "output_type": "error",
     "traceback": [
      "\u001b[1;31m---------------------------------------------------------------------------\u001b[0m",
      "\u001b[1;31mTypeError\u001b[0m                                 Traceback (most recent call last)",
      "\u001b[1;32m<ipython-input-43-3c89a108ffa5>\u001b[0m in \u001b[0;36m<module>\u001b[1;34m()\u001b[0m\n\u001b[0;32m      1\u001b[0m \u001b[1;31m#另外一些对象，诸如tuple元组和字符串是不可变的。\u001b[0m\u001b[1;33m\u001b[0m\u001b[1;33m\u001b[0m\u001b[0m\n\u001b[0;32m      2\u001b[0m \u001b[0ma_tuple\u001b[0m \u001b[1;33m=\u001b[0m \u001b[1;33m(\u001b[0m\u001b[1;36m2\u001b[0m\u001b[1;33m,\u001b[0m\u001b[1;36m3\u001b[0m\u001b[1;33m,\u001b[0m\u001b[1;36m4\u001b[0m\u001b[1;33m)\u001b[0m\u001b[1;33m\u001b[0m\u001b[0m\n\u001b[1;32m----> 3\u001b[1;33m \u001b[0ma_tuple\u001b[0m\u001b[1;33m[\u001b[0m\u001b[1;36m1\u001b[0m\u001b[1;33m]\u001b[0m\u001b[1;33m=\u001b[0m\u001b[1;36m2\u001b[0m\u001b[1;33m\u001b[0m\u001b[0m\n\u001b[0m",
      "\u001b[1;31mTypeError\u001b[0m: 'tuple' object does not support item assignment"
     ]
    }
   ],
   "source": [
    "\n",
    "a_tuple = (2,3,4)\n",
    "a_tuple[1]=2"
   ]
  },
  {
   "cell_type": "markdown",
   "metadata": {},
   "source": [
    "### 标准类型\n",
    "\n",
    "Python 有一些用于处理数值数据、字符串、布尔值（True or False)以及日期/时间的内置类型。\n",
    "\n",
    "这里我们列出主要的标量类型。后面我们将单独讨论日期/时间的处理，因为它们是由标准库中的datetime模块提供的。\n",
    "\n",
    "** 标准的Python标量类型 **        \n",
    "\n",
    "| 类型 | 说明| \n",
    "| ------| ------ | \n",
    "| None | Python的'null'值（None只存在一个实例对象） |\n",
    "| str | 字符串类型。Python 2.x 中只有 ASCII 值，而Python 3中则是Unicode|\n",
    "| unicode | Unicode 字符串类型 |\n",
    "| float | 双精度（64）浮点数。注意这里没有专门的doubl类型|\n",
    "|bool| True或者False|\n",
    "|int|有符号整数，其最大值由平台系统决定|\n",
    "|long|任意精度的有符号整数。大的itn值会被自动转换为long|"
   ]
  },
  {
   "cell_type": "markdown",
   "metadata": {},
   "source": [
    "#### 数值类型\n",
    "\n",
    "在 Python 中，用书表示数据的类型主要是 int 和 float. 正如上表中所述的，能被保存为int的整数的大小由平台决定，但是Python会把非常大的证书转换为long，它可以存储任意大小的整数。"
   ]
  },
  {
   "cell_type": "code",
   "execution_count": null,
   "metadata": {
    "collapsed": true
   },
   "outputs": [],
   "source": [
    "in"
   ]
  }
 ],
 "metadata": {
  "kernelspec": {
   "display_name": "Python 3",
   "language": "python",
   "name": "python3"
  },
  "language_info": {
   "codemirror_mode": {
    "name": "ipython",
    "version": 3
   },
   "file_extension": ".py",
   "mimetype": "text/x-python",
   "name": "python",
   "nbconvert_exporter": "python",
   "pygments_lexer": "ipython3",
   "version": "3.6.1"
  }
 },
 "nbformat": 4,
 "nbformat_minor": 1
}
