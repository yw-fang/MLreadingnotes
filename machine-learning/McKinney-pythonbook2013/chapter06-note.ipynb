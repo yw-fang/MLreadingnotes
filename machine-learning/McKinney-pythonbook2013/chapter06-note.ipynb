{
 "cells": [
  {
   "cell_type": "markdown",
   "metadata": {},
   "source": [
    "# 阅读笔记\n",
    "\n",
    "** 作者：方跃文 **\n",
    "\n",
    "** Email: fyuewen@gmail.com **\n",
    "\n",
    "** 时间：始于2018年3月6日， 结束写作于 2018年7月**\n",
    "\n",
    "\n",
    "\n",
    "\n",
    "\n",
    "\n",
    "# 第六章 数据加载、存储和文件格式\n",
    "\n",
    "数据如果不能导入和导出，那么本书中介绍的工具自然也就没有用武之地了。在我们的日常生活和研究中，有许多文件输入和输出的应用场景。\n",
    "\n",
    "输入和输出通常划分为几个大类：读取文本文件和其他更高效的磁盘存储格式，加载数据库中的数据，利用web api操作网络资源。\n",
    "\n",
    "## 读写文本格式的数据\n",
    "\n",
    "pandas 提供了一些用于将表格型数据读取为 DataFrame 对象的函数。表6-1对此进行了总结，其中 read_csv and read_table 将会是我们经常用到的。\n",
    "\n",
    "Table 6-1. Parsing functions in pandas\n",
    "\n",
    "| Functions       | Description|\n",
    "| ------------- |:-------------:|\n",
    "| read_csv      | load delimited data from a file, URL, or file-like object; use comma as defult delimiter | \n",
    "| read_table | load delimited data from a file, URL, or file-like object; use tab ('\\t') as defult delimiter |\n",
    "| read_fwf | read data in fixed-width column format, i.e. no delimiters|\n",
    "|read_clipboard| Version of read_table that reads data from the clipboard; useful for converting tables from web pages|\n",
    "|read_excel | read tabular data from an Excel XLS or XLSX file |\n",
    "| read_hdf | read **HDF5** files **written by pandas** |\n",
    "| read_html | read all tables found in a given HTML document|\n",
    "| read_json | read data from a JSON |\n",
    "| **read_msgpack** | read pandas data encoded using the MessagePack binary format|\n",
    "| **read_pickle** | read an arbitrary object in Python pickle format|  pickle竟然是咸菜的意思哦～\n",
    "|read_sas| read a SASdataset stored in one of the SAS system's custom strorage format|\n",
    "| **read_sql** | read the results of a SQL query (using SQLAlchemy) asa pandas DataFrame|\n",
    "| read_stata | read a dataset from Stata file format |\n",
    "| read_feather | read the Feather binary file format |\n",
    "\n",
    "上述函数的重要功能之一就是type inferende，也就是类型推断。我们不需要为所读入的数据指定是什么类型。不过日期和其他自定义类型数据的处理\n",
    "需要小心一些，因为自定义数据可能并不那么容易被推断出来属于何种数据类型\n"
   ]
  },
  {
   "cell_type": "code",
   "execution_count": null,
   "metadata": {
    "collapsed": true
   },
   "outputs": [],
   "source": []
  },
  {
   "cell_type": "code",
   "execution_count": null,
   "metadata": {},
   "outputs": [],
   "source": []
  },
  {
   "cell_type": "code",
   "execution_count": null,
   "metadata": {},
   "outputs": [],
   "source": []
  }
 ],
 "metadata": {
  "kernelspec": {
   "display_name": "Python 3",
   "language": "python",
   "name": "python3"
  },
  "language_info": {
   "codemirror_mode": {
    "name": "ipython",
    "version": 3
   },
   "file_extension": ".py",
   "mimetype": "text/x-python",
   "name": "python",
   "nbconvert_exporter": "python",
   "pygments_lexer": "ipython3",
   "version": "3.6.5"
  }
 },
 "nbformat": 4,
 "nbformat_minor": 2
}
