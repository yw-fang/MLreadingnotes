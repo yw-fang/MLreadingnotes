{
 "cells": [
  {
   "cell_type": "markdown",
   "metadata": {},
   "source": [
    "# ![Four spin FCC lattice. In each pari, the two spins are anti-parallel.](./Config_fcc.PNG)\n"
   ]
  },
  {
   "cell_type": "markdown",
   "metadata": {},
   "source": [
    "# General theory\n",
    "\n",
    "** author: Y. -W. FANG **\n",
    "\n",
    "The starting Hamiltonian:"
   ]
  },
  {
   "cell_type": "markdown",
   "metadata": {},
   "source": [
    "H = H$_J$+ H$_\\alpha$ + H$_D$ + H$_{J'}$   ............(1)\n",
    "\n",
    "where  \n",
    "\n",
    "H$_J$ = $\\frac{1}{2}$$\\sum_{<ij>}^{}S_i S_j$  (here, $\\alpha$ > 0) ............(2)\n",
    "\n",
    "and\n",
    "\n",
    "H$_\\alpha$ = $\\frac{1}{2}$$\\sum_{<ij>}^{} (S_i S_j)^2$ ............(3)\n"
   ]
  },
  {
   "cell_type": "markdown",
   "metadata": {},
   "source": [
    "The D and J' terms arise from spin-orbital interactions:\n",
    "\n",
    "D term is the single-site anisotropy energy, specifically\n",
    "\n",
    "H$_D$ = D$\\sum_{<i>}^{}(S_i^z)^2$ ............(4)\n",
    "\n",
    "J' term is\n",
    "\n",
    "H$_{J'}$ = $\\frac{1}{2}$$\\sum_{<ij>}^{} J_{ij}^{uv} S_i^{u} S_j^{v}$ ............(5)\n",
    "\n",
    "where J$_{ij}^{uv}$ are bond-dependent exchange. $<ij>$ runs over the nearest-neighbour bonds of the FCC lattice. For FCC lattice, the last term can be recast as:"
   ]
  },
  {
   "cell_type": "markdown",
   "metadata": {},
   "source": [
    "H$_{J'}$ = $\\sum_{unit}{}$ $ {H} $"
   ]
  },
  {
   "cell_type": "markdown",
   "metadata": {},
   "source": [
    "In each unit cell (four spin sites), we have:\n",
    "\n",
    "H = $\\sum_{t}^{}\\sum_{ij \\in t}^{}S_i  J^t   S_j $\n",
    "\n",
    "where t referes to a tetrahedron and $J^t$ is a set of six 3 $\\times$ 3 matrices. In a FCC lattice, each unit cell has eight tetrahedra. They are called as 0, X, Y, Z, XY, YZ, XY, and XYZ.\n",
    "\n",
    "For tetrahedron 0, the six 3 $\\times$ 3 $J^0$ matrices are:"
   ]
  },
  {
   "cell_type": "code",
   "execution_count": null,
   "metadata": {},
   "outputs": [],
   "source": []
  }
 ],
 "metadata": {
  "kernelspec": {
   "display_name": "Python 3",
   "language": "python",
   "name": "python3"
  },
  "language_info": {
   "codemirror_mode": {
    "name": "ipython",
    "version": 3
   },
   "file_extension": ".py",
   "mimetype": "text/x-python",
   "name": "python",
   "nbconvert_exporter": "python",
   "pygments_lexer": "ipython3",
   "version": "3.6.3"
  }
 },
 "nbformat": 4,
 "nbformat_minor": 2
}
