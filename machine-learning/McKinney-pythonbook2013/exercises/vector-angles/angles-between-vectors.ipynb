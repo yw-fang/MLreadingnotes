{
 "cells": [
  {
   "cell_type": "code",
   "execution_count": 18,
   "metadata": {},
   "outputs": [
    {
     "name": "stdout",
     "output_type": "stream",
     "text": [
      "[[0 0 1]]\n",
      "[[1 0 0]]\n",
      "[[0]]\n"
     ]
    },
    {
     "data": {
      "text/plain": [
       "1.0"
      ]
     },
     "execution_count": 18,
     "metadata": {},
     "output_type": "execute_result"
    }
   ],
   "source": [
    "import numpy as np\n",
    "from numpy import matrix\n",
    "\n",
    "a=matrix([0,0,1]);\n",
    "print(a)\n",
    "b=matrix([1,0,0]);\n",
    "print(b)\n",
    "print(a*b.T)\n",
    "\n",
    "a_copy = np.array([0,0,1])\n",
    "np.linalg.norm(a_copy)"
   ]
  },
  {
   "cell_type": "code",
   "execution_count": 13,
   "metadata": {},
   "outputs": [
    {
     "data": {
      "text/plain": [
       "matrix([[1, 0, 0]])"
      ]
     },
     "execution_count": 13,
     "metadata": {},
     "output_type": "execute_result"
    }
   ],
   "source": []
  },
  {
   "cell_type": "code",
   "execution_count": 15,
   "metadata": {},
   "outputs": [
    {
     "data": {
      "text/plain": [
       "matrix([[0]])"
      ]
     },
     "execution_count": 15,
     "metadata": {},
     "output_type": "execute_result"
    }
   ],
   "source": []
  },
  {
   "cell_type": "code",
   "execution_count": 2,
   "metadata": {},
   "outputs": [
    {
     "name": "stdout",
     "output_type": "stream",
     "text": [
      "15.928203343001407\n"
     ]
    }
   ],
   "source": [
    "import math\n",
    "\n",
    "def dotproduct(a,b):\n",
    "\treturn sum([a[i]*b[i] for i in range(len(a))])\n",
    " \n",
    "from math import acos\n",
    " \n",
    "#Calculates the size of a vector\n",
    "def veclength(a):\n",
    "\treturn sum([a[i]**2 for i in range(len(a))])**.5\n",
    " \n",
    "#Calculates the angle between two vector\n",
    "def ange(a,b):\n",
    "\tdp=dotproduct(a,b)\n",
    "\tla=veclength(a)\n",
    "\tlb=veclength(b)\n",
    "\tcostheta=dp/(la*lb)\n",
    "\treturn acos(costheta)\n",
    "\n",
    "#vector1 = [-8.31409,    3.56542,    8.87916]\n",
    "#vector4 = [-7.27189,    5.01510,   -8.99671]\n",
    "vector1_pro =  [ -0.980,   0.533 ,    0]\n",
    "vector4_pro =  [-1.086 ,  0.243,   0]\n",
    "\n",
    "#a_angle = ange(vector1,vector4)\n",
    "#print(math.degrees(a_angle))\n",
    "a_angle_pro=ange(vector1_pro, vector4_pro)\n",
    "print(math.degrees(a_angle_pro))\n"
   ]
  },
  {
   "cell_type": "code",
   "execution_count": 46,
   "metadata": {},
   "outputs": [
    {
     "name": "stdout",
     "output_type": "stream",
     "text": [
      "0.5773502691896257\n"
     ]
    },
    {
     "data": {
      "text/plain": [
       "0.5897435897435898"
      ]
     },
     "execution_count": 46,
     "metadata": {},
     "output_type": "execute_result"
    }
   ],
   "source": [
    "import math\n",
    "a=math.tan(math.pi/6)\n",
    "print(a)\n",
    "b=0.805/1.365\n",
    "b"
   ]
  },
  {
   "cell_type": "code",
   "execution_count": null,
   "metadata": {
    "collapsed": true
   },
   "outputs": [],
   "source": []
  }
 ],
 "metadata": {
  "kernelspec": {
   "display_name": "Python 3",
   "language": "python",
   "name": "python3"
  },
  "language_info": {
   "codemirror_mode": {
    "name": "ipython",
    "version": 3
   },
   "file_extension": ".py",
   "mimetype": "text/x-python",
   "name": "python",
   "nbconvert_exporter": "python",
   "pygments_lexer": "ipython3",
   "version": "3.6.1"
  }
 },
 "nbformat": 4,
 "nbformat_minor": 2
}
