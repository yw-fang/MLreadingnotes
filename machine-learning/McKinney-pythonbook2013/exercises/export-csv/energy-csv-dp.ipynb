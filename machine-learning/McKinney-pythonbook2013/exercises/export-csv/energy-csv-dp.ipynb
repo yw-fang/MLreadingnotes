{
 "cells": [
  {
   "cell_type": "code",
   "execution_count": 15,
   "metadata": {},
   "outputs": [
    {
     "name": "stdout",
     "output_type": "stream",
     "text": [
      "#energy for 40atoms\n",
      "allin    \t-235.48996621\t\t\n",
      "I-x\t\t-235.43594726\t\n",
      "I-z\t\t-235.43770211\n",
      "co-two-in\t-235.48731293\t\n",
      "co-all-in\t-235.48409892\t\n",
      "2inplane-2outofplane\t-235.48576564 \n",
      "pc-1\t\t -235.48409690 \n",
      "pc-2\t\t -235.48731507\t\t\n",
      "\n",
      "\n",
      "['#energy', 'for', '40atoms\\nallin', '', '', '', '\\t-235.48996621\\t\\t\\nI-x\\t\\t-235.43594726\\t\\nI-z\\t\\t-235.43770211\\nco-two-in\\t-235.48731293\\t\\nco-all-in\\t-235.48409892\\t\\n2inplane-2outofplane\\t-235.48576564', '\\npc-1\\t\\t', '-235.48409690', '\\npc-2\\t\\t', '-235.48731507\\t\\t\\n\\n']\n"
     ]
    }
   ],
   "source": [
    "import csv\n",
    "\n",
    "\n",
    "with open('energy-comparison.dat', 'rt') as f:\n",
    "\n",
    "    line = f.read()\n",
    "print(line)\n",
    "\n",
    "listed = []\n",
    "for u in line.split(' '):\n",
    "    listed.append(u)\n",
    "print(listed)\n",
    "#     for e in listed:\n",
    "#     print(e)"
   ]
  },
  {
   "cell_type": "code",
   "execution_count": null,
   "metadata": {},
   "outputs": [],
   "source": [
    "import csv\n",
    "\n",
    "headers = ['Symbol','Price','Date','Time','Change','Volume']\n",
    "rows = [('AA', 39.48, '6/11/2007', '9:36am', -0.18, 181800),\n",
    "        ('AIG', 71.38, '6/11/2007', '9:36am', -0.15, 195500),\n",
    "        ('AXP', 62.58, '6/11/2007', '9:36am', -0.46, 935000),\n",
    "       ]\n",
    "with open('stocks.csv','w') as f:\n",
    "    f_csv = csv.writer(f)\n",
    "    f_csv.writerow(headers)\n",
    "    f_csv.writerows(rows)"
   ]
  }
 ],
 "metadata": {
  "kernelspec": {
   "display_name": "Python 3",
   "language": "python",
   "name": "python3"
  },
  "language_info": {
   "codemirror_mode": {
    "name": "ipython",
    "version": 3
   },
   "file_extension": ".py",
   "mimetype": "text/x-python",
   "name": "python",
   "nbconvert_exporter": "python",
   "pygments_lexer": "ipython3",
   "version": "3.6.3"
  }
 },
 "nbformat": 4,
 "nbformat_minor": 2
}
