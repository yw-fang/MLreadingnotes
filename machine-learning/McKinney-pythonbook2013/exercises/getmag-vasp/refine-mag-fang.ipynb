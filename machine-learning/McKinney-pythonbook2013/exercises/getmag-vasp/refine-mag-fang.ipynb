{
 "cells": [
  {
   "cell_type": "markdown",
   "metadata": {},
   "source": [
    "# refine mag from mag-fang.out"
   ]
  },
  {
   "cell_type": "code",
   "execution_count": 2,
   "metadata": {},
   "outputs": [
    {
     "name": "stdout",
     "output_type": "stream",
     "text": [
      " -0.374   1.542  -0.000 \n",
      "\n",
      "  0.375  -1.542  -0.000 \n",
      "\n",
      "  1.543   0.372   0.000 \n",
      "\n",
      " -1.543  -0.372   0.000 \n",
      "\n"
     ]
    }
   ],
   "source": [
    "#Purpose: export the moments of selected atoms\n",
    "#Author: Yue-Wen Fang\n",
    "#Date: 27th September, 2017\n",
    "#pyinstaller -F *.py to generate the excutable binary file.\n",
    "path = 'mag-fang.out'\n",
    "\n",
    "f = open(path)\n",
    "for line in f:\n",
    "        if '13       ' in line:\n",
    "            a = str(line)\n",
    "            print(a[33:40], sep=' ', end=' ')\n",
    "f.close()\n",
    "\n",
    "print('\\n')\n",
    "\n",
    "f = open(path)\n",
    "for line in f:\n",
    "        if '14       ' in line:\n",
    "            a = str(line)\n",
    "            print(a[33:40], sep=' ', end=' ')\n",
    "f.close()\n",
    "\n",
    "print('\\n')\n",
    "\n",
    "f = open(path)\n",
    "for line in f:\n",
    "        if '15       ' in line:\n",
    "            a = str(line)\n",
    "            print(a[33:40], sep=' ', end=' ')\n",
    "f.close()\n",
    "        \n",
    "    \n",
    "print('\\n')\n",
    "\n",
    "f = open(path)\n",
    "for line in f:\n",
    "        if '16       ' in line:\n",
    "            a = str(line)\n",
    "            print(a[33:40], sep=' ', end=' ')\n",
    "f.close()\n",
    "print('\\n')"
   ]
  },
  {
   "cell_type": "code",
   "execution_count": 21,
   "metadata": {},
   "outputs": [
    {
     "name": "stdout",
     "output_type": "stream",
     "text": [
      "15\n",
      "16\n",
      "17\n",
      "18\n"
     ]
    }
   ],
   "source": [
    "for x in [15,16,17,18]:\n",
    "    print(x)"
   ]
  },
  {
   "cell_type": "code",
   "execution_count": null,
   "metadata": {
    "collapsed": true
   },
   "outputs": [],
   "source": []
  }
 ],
 "metadata": {
  "kernelspec": {
   "display_name": "Python 3",
   "language": "python",
   "name": "python3"
  },
  "language_info": {
   "codemirror_mode": {
    "name": "ipython",
    "version": 3
   },
   "file_extension": ".py",
   "mimetype": "text/x-python",
   "name": "python",
   "nbconvert_exporter": "python",
   "pygments_lexer": "ipython3",
   "version": "3.6.3"
  }
 },
 "nbformat": 4,
 "nbformat_minor": 2
}
