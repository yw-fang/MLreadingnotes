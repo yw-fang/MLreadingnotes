{
 "cells": [
  {
   "cell_type": "code",
   "execution_count": 49,
   "metadata": {},
   "outputs": [
    {
     "name": "stdout",
     "output_type": "stream",
     "text": [
      "Congratuations, mag-fang.out exists.\n",
      "\n",
      "...x.........y.......z.....\n",
      " -1.287   1.243  -0.000 ASP on  "
     ]
    },
    {
     "ename": "ValueError",
     "evalue": "too many values to unpack (expected 3)",
     "output_type": "error",
     "traceback": [
      "\u001b[0;31m---------------------------------------------------------------------------\u001b[0m",
      "\u001b[0;31mValueError\u001b[0m                                Traceback (most recent call last)",
      "\u001b[0;32m<ipython-input-49-ac3fef5f4997>\u001b[0m in \u001b[0;36m<module>\u001b[0;34m()\u001b[0m\n\u001b[1;32m     32\u001b[0m             \u001b[0mprint\u001b[0m\u001b[0;34m(\u001b[0m\u001b[0ma\u001b[0m\u001b[0;34m[\u001b[0m\u001b[0;36m33\u001b[0m\u001b[0;34m:\u001b[0m\u001b[0;36m40\u001b[0m\u001b[0;34m]\u001b[0m\u001b[0;34m,\u001b[0m \u001b[0msep\u001b[0m\u001b[0;34m=\u001b[0m\u001b[0;34m' '\u001b[0m\u001b[0;34m,\u001b[0m \u001b[0mend\u001b[0m\u001b[0;34m=\u001b[0m\u001b[0;34m' '\u001b[0m\u001b[0;34m)\u001b[0m\u001b[0;34m\u001b[0m\u001b[0m\n\u001b[1;32m     33\u001b[0m             \u001b[0mb\u001b[0m\u001b[0;34m.\u001b[0m\u001b[0mappend\u001b[0m\u001b[0;34m(\u001b[0m\u001b[0ma\u001b[0m\u001b[0;34m[\u001b[0m\u001b[0;36m33\u001b[0m\u001b[0;34m:\u001b[0m\u001b[0;36m40\u001b[0m\u001b[0;34m]\u001b[0m\u001b[0;34m)\u001b[0m\u001b[0;34m\u001b[0m\u001b[0m\n\u001b[0;32m---> 34\u001b[0;31m \u001b[0mx\u001b[0m\u001b[0;34m,\u001b[0m\u001b[0my\u001b[0m\u001b[0;34m,\u001b[0m\u001b[0mz\u001b[0m\u001b[0;34m=\u001b[0m\u001b[0mb\u001b[0m\u001b[0;34m\u001b[0m\u001b[0m\n\u001b[0m\u001b[1;32m     35\u001b[0m \u001b[0mf\u001b[0m\u001b[0;34m.\u001b[0m\u001b[0mclose\u001b[0m\u001b[0;34m(\u001b[0m\u001b[0;34m)\u001b[0m\u001b[0;34m\u001b[0m\u001b[0m\n\u001b[1;32m     36\u001b[0m \u001b[0;34m\u001b[0m\u001b[0m\n",
      "\u001b[0;31mValueError\u001b[0m: too many values to unpack (expected 3)"
     ]
    }
   ],
   "source": [
    "#Purpose: export the moments of selected atoms\n",
    "#Author: Yue-Wen Fang\n",
    "#Date: 27th September, 2017, NYU SHANGHAI\n",
    "#pyinstaller -F *.py to generate the excutable binary file.\n",
    "#Revision history:\n",
    "#Date: 23th November, 2017, Kyoto University; output total magnetic moment of the selected ion\n",
    "#Date: 2th Decemeber, 2017, Kyoto University; check if a file exsits\n",
    "import math\n",
    "import os\n",
    "from tempfile import TemporaryFile\n",
    "\n",
    "path = 'mag-fang.out'\n",
    "\n",
    "###################################################\n",
    "# Check if a file exsits\n",
    "if os.path.exists(path):\n",
    "    print('Congratuations, mag-fang.out exists.\\n')\n",
    "else:\n",
    "    print('No mag-fang.out, please use getmag-fang to generate it.\\n')\n",
    "###################################################\n",
    "print('...x.........y.......z.....')\n",
    "######*****for the first ion (number 13)\n",
    "f = open(path, 'rt')\n",
    "b = []\n",
    "\n",
    "c=str('13       ')\n",
    "\n",
    "for line in f:\n",
    "#        if '13       ' in line:\n",
    "        if c in line:\n",
    "            a = str(line)\n",
    "            print(a[33:40], sep=' ', end=' ')\n",
    "            b.append(a[33:40])\n",
    "x,y,z=b\n",
    "f.close()\n",
    "\n",
    "print('\\n')\n",
    "print(b)\n",
    "print('\\n')\n",
    "print(type(x))\n",
    "x=float(x)\n",
    "y=float(y)\n",
    "z=float(z)\n",
    "total_mag_1=math.sqrt(abs(x)**2+abs(y)**2+abs(z)**2)\n",
    "print('\\n')\n",
    "# print('the total magnetic moment is')\n",
    "print(total_mag_1)\n",
    "\n",
    "#with open(path1) as f1:\n",
    "#    lis=[list(map(float,x.split()))  for x in f1 if x.strip()]\n",
    "#print(lis)\n",
    "##############################\n",
    "#ref: https://stackoverflow.com/questions/12271503/python-read-numbers-from-text-file-and-put-into-list\n",
    "# if x.strip() to skip blank lines\n",
    "#use list(map(int,x.split()))  in case of python 3.x\n",
    "#use map(int,x.split())  in case of python 2.x\n",
    "##############################\n",
    "#the usage of map\n",
    "#map(int,'1 2 3 4'.split())\n",
    "############################\n",
    "\n",
    "\n",
    "print('\\n')\n",
    "\n",
    "\n"
   ]
  },
  {
   "cell_type": "code",
   "execution_count": 17,
   "metadata": {},
   "outputs": [],
   "source": [
    "from tempfile import TemporaryFile\n",
    "\n",
    "with TemporaryFile('w+t') as f:\n",
    "    #READ/WRITE to the file\n",
    "    f.write('Hello World\\n')\n",
    "    f.write('Testing\\n')\n",
    "    \n",
    "    #Seek back to begining and read the data\n",
    "    f.seek(0)\n",
    "    data = f.read()\n",
    "\n",
    "#Temporary file is removed"
   ]
  },
  {
   "cell_type": "code",
   "execution_count": null,
   "metadata": {},
   "outputs": [],
   "source": []
  }
 ],
 "metadata": {
  "kernelspec": {
   "display_name": "Python 3",
   "language": "python",
   "name": "python3"
  },
  "language_info": {
   "codemirror_mode": {
    "name": "ipython",
    "version": 3
   },
   "file_extension": ".py",
   "mimetype": "text/x-python",
   "name": "python",
   "nbconvert_exporter": "python",
   "pygments_lexer": "ipython3",
   "version": "3.6.3"
  }
 },
 "nbformat": 4,
 "nbformat_minor": 2
}
