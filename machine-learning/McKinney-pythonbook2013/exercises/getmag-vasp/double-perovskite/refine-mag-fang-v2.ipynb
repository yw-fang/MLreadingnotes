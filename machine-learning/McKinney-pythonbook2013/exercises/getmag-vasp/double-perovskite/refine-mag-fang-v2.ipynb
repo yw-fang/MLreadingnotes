{
 "cells": [
  {
   "cell_type": "code",
   "execution_count": 27,
   "metadata": {},
   "outputs": [
    {
     "name": "stdout",
     "output_type": "stream",
     "text": [
      " -0.374   1.542  -0.000 \n",
      "\n",
      "[' -0.374', '  1.542', ' -0.000']\n",
      "\n",
      "\n",
      "<class 'str'>\n",
      "\n",
      "\n",
      "1.5867072823933217\n",
      "\n",
      "\n"
     ]
    }
   ],
   "source": [
    "#Purpose: export the moments of selected atoms\n",
    "#Author: Yue-Wen Fang\n",
    "#Date: 27th September, 2017, NYU SHANGHAI\n",
    "#pyinstaller -F *.py to generate the excutable binary file.\n",
    "#Revision history:\n",
    "#Date: 23th November, 2017, Kyoto University; output total magnetic moment of the selected ion\n",
    "import math\n",
    "path = '../mag-fang.out'\n",
    "path1 = 'temp.dat'\n",
    "\n",
    "\n",
    "######*****for the first ion (number 13)\n",
    "f = open(path)\n",
    "f1 = open(path1,'w')\n",
    "b = []\n",
    "for line in f:\n",
    "        if '13       ' in line:\n",
    "            a = str(line)\n",
    "            print(a[33:40], sep=' ', end=' ')\n",
    "            f1.write(a[33:40])\n",
    "            b.append(a[33:40])\n",
    "x,y,z=b\n",
    "f.close()\n",
    "f1.close()\n",
    "print('\\n')\n",
    "print(b)\n",
    "print('\\n')\n",
    "print(type(x))\n",
    "x=float(x)\n",
    "y=float(y)\n",
    "z=float(z)\n",
    "total_mag_1=math.sqrt(abs(x)**2+abs(y)**2+abs(z)**2)\n",
    "print('\\n')\n",
    "print(total_mag_1)\n",
    "\n",
    "#with open(path1) as f1:\n",
    "#    lis=[list(map(float,x.split()))  for x in f1 if x.strip()]\n",
    "#print(lis)\n",
    "##############################\n",
    "#ref: https://stackoverflow.com/questions/12271503/python-read-numbers-from-text-file-and-put-into-list\n",
    "# if x.strip() to skip blank lines\n",
    "#use list(map(int,x.split()))  in case of python 3.x\n",
    "#use map(int,x.split())  in case of python 2.x\n",
    "##############################\n",
    "#the usage of map\n",
    "#map(int,'1 2 3 4'.split())\n",
    "############################\n",
    "\n",
    "\n",
    "\n",
    "# lis1=[]\n",
    "# if len(lis1)==0:\n",
    "#     print('I created an empty list called lis1 ')\n",
    "# for i in [0,1,2]:\n",
    "#     lis1.append(abs(lis[0][i]))\n",
    "#     #([lis[0][i]])\n",
    "# print('lis1 prsents the absolute values of x_mag y_mag z_mag')\n",
    "# print(lis1[:])\n",
    "# total_mag_1=math.sqrt(lis1[0]**2+lis1[1]**2+lis1[2]**2)\n",
    "# print('the total magnetic moment is')\n",
    "# print(total_mag_1)\n",
    "\n",
    "print('\\n')\n",
    "\n",
    "\n"
   ]
  },
  {
   "cell_type": "code",
   "execution_count": null,
   "metadata": {},
   "outputs": [],
   "source": []
  }
 ],
 "metadata": {
  "kernelspec": {
   "display_name": "Python 3",
   "language": "python",
   "name": "python3"
  },
  "language_info": {
   "codemirror_mode": {
    "name": "ipython",
    "version": 3
   },
   "file_extension": ".py",
   "mimetype": "text/x-python",
   "name": "python",
   "nbconvert_exporter": "python",
   "pygments_lexer": "ipython3",
   "version": "3.6.3"
  }
 },
 "nbformat": 4,
 "nbformat_minor": 2
}
