{
 "cells": [
  {
   "cell_type": "code",
   "execution_count": 61,
   "metadata": {},
   "outputs": [
    {
     "name": "stdout",
     "output_type": "stream",
     "text": [
      "Congratuations, mag-fang.out exists.\n",
      "\n",
      "Input the number of the atom you want to analyze: 12\n",
      " -0.004   0.003   0.000 \n",
      "\n",
      "[' -0.004', '  0.003', '  0.000']\n",
      "\n",
      "\n",
      "<class 'str'>\n",
      "\n",
      "\n",
      "0.005\n",
      "\n",
      "\n"
     ]
    }
   ],
   "source": [
    "#Purpose: export the moments of selected atoms\n",
    "#Author: Yue-Wen Fang\n",
    "#Date: 27th September, 2017, NYU SHANGHAI\n",
    "#pyinstaller -F *.py to generate the excutable binary file.\n",
    "#Revision history:\n",
    "#Date: 23th November, 2017, Kyoto University; output total magnetic moment of the selected ion\n",
    "#Date: 2th Decemeber, 2017, Kyoto University; check if a file exsits\n",
    "import math\n",
    "import os\n",
    "from tempfile import TemporaryFile\n",
    "\n",
    "path = 'mag-fang.out'\n",
    "\n",
    "###################################################\n",
    "# Check if a file exsits\n",
    "if os.path.exists(path):\n",
    "    print('Congratuations, mag-fang.out exists.\\n')\n",
    "else:\n",
    "    print('No mag-fang.out, please use getmag-fang to generate it.\\n')\n",
    "###################################################\n",
    "\n",
    "\n",
    "#print('...x.........y.......z.....')\n",
    "######*****for the first ion (number 13)\n",
    "f = open(path, 'rt')\n",
    "b = []\n",
    "\n",
    "#c=str('13       ')\n",
    "c=input('Input the number of the atom you want to analyze: ') #only an ion can be analyzed\n",
    "#print(type(c))  c is a string\n",
    "spaces='       '\n",
    "c=c+spaces # c is a string with some spaces\n",
    "\n",
    "\n",
    "for line in f:\n",
    "#        if '13       ' in line:\n",
    "        if c in line:\n",
    "            a = str(line)\n",
    "            print(a[33:40], sep=' ', end=' ')\n",
    "            b.append(a[33:40])\n",
    "x,y,z=b\n",
    "f.close()\n",
    "\n",
    "print('\\n')\n",
    "print(b)\n",
    "print('\\n')\n",
    "print(type(x))\n",
    "x=float(x)\n",
    "y=float(y)\n",
    "z=float(z)\n",
    "total_mag_1=math.sqrt(abs(x)**2+abs(y)**2+abs(z)**2)\n",
    "print('\\n')\n",
    "# print('the total magnetic moment is')\n",
    "print(total_mag_1)\n",
    "\n",
    "#with open(path1) as f1:\n",
    "#    lis=[list(map(float,x.split()))  for x in f1 if x.strip()]\n",
    "#print(lis)\n",
    "##############################\n",
    "#ref: https://stackoverflow.com/questions/12271503/python-read-numbers-from-text-file-and-put-into-list\n",
    "# if x.strip() to skip blank lines\n",
    "#use list(map(int,x.split()))  in case of python 3.x\n",
    "#use map(int,x.split())  in case of python 2.x\n",
    "##############################\n",
    "#the usage of map\n",
    "#map(int,'1 2 3 4'.split())\n",
    "############################\n",
    "\n",
    "\n",
    "print('\\n')\n",
    "\n",
    "\n"
   ]
  },
  {
   "cell_type": "code",
   "execution_count": 17,
   "metadata": {},
   "outputs": [],
   "source": [
    "from tempfile import TemporaryFile\n",
    "\n",
    "with TemporaryFile('w+t') as f:\n",
    "    #READ/WRITE to the file\n",
    "    f.write('Hello World\\n')\n",
    "    f.write('Testing\\n')\n",
    "    \n",
    "    #Seek back to begining and read the data\n",
    "    f.seek(0)\n",
    "    data = f.read()\n",
    "\n",
    "#Temporary file is removed"
   ]
  },
  {
   "cell_type": "code",
   "execution_count": 51,
   "metadata": {},
   "outputs": [
    {
     "name": "stdout",
     "output_type": "stream",
     "text": [
      "xxxyyy\n"
     ]
    }
   ],
   "source": [
    "x='xxx'\n",
    "y='yyy'\n",
    "z=x+y\n",
    "print(z)"
   ]
  },
  {
   "cell_type": "code",
   "execution_count": 94,
   "metadata": {},
   "outputs": [
    {
     "name": "stdout",
     "output_type": "stream",
     "text": [
      "Input the numbers of atoms in POSCAR, if there are several ions, please use comma.\n",
      "13,14\n",
      "13,14\n",
      "<class 'str'>\n",
      "<class 'list'>\n",
      "['13', '14']\n",
      "13       \n",
      "14       \n"
     ]
    }
   ],
   "source": [
    "NumberOfAtoms=input('Input the numbers of atoms in POSCAR, if there are several ions, please use comma.\\n')\n",
    "print(NumberOfAtoms)\n",
    "print(type(NumberOfAtoms))\n",
    "\n",
    "\n",
    "NumberOfAtoms=NumberOfAtoms.split(\",\")\n",
    "\n",
    "print(type(NumberOfAtoms))\n",
    "print(NumberOfAtoms)\n",
    "\n",
    "space='       '\n",
    "\n",
    "for ion in NumberOfAtoms:\n",
    "    ion_with_space = ion + space\n",
    "    print(ion_with_space)\n",
    "    \n",
    "# print(NumberOfAtoms[0])\n",
    "# print(NumberOfAtoms[1])\n",
    "\n",
    "# for i in NumberOfAtoms:\n",
    "#     print(NumberOfAtoms[i])\n",
    "    \n",
    "#     ion_string=str(NumberOfAtoms[i])+space\n",
    "#     print(ion_string)\n",
    "\n",
    "# list=[int(y) for y in x]\n",
    "# print(list)\n",
    "# print(type(list))\n",
    "\n",
    "\n",
    "# print(type(x))\n",
    "# print(x)\n",
    "# for i in x:\n",
    "#     print(i)\n"
   ]
  },
  {
   "cell_type": "code",
   "execution_count": 28,
   "metadata": {},
   "outputs": [
    {
     "name": "stdout",
     "output_type": "stream",
     "text": [
      "<class 'list'>\n",
      "['x', 'y', 'z']\n"
     ]
    }
   ],
   "source": [
    "a='xyz'\n",
    "a=list(a)\n",
    "type(a)\n",
    "print(type(a))\n",
    "print(a)"
   ]
  },
  {
   "cell_type": "code",
   "execution_count": 44,
   "metadata": {},
   "outputs": [
    {
     "name": "stdout",
     "output_type": "stream",
     "text": [
      "1\n",
      "<class 'str'>\n",
      "2\n",
      "<class 'str'>\n"
     ]
    }
   ],
   "source": [
    "for i in ['1','2']:\n",
    "    print(i)\n",
    "    print(type(i))"
   ]
  },
  {
   "cell_type": "code",
   "execution_count": 47,
   "metadata": {},
   "outputs": [
    {
     "name": "stdout",
     "output_type": "stream",
     "text": [
      "xxxzzzz\n"
     ]
    }
   ],
   "source": [
    "a='xxx'\n",
    "b='zzzz'\n",
    "c=a+b\n",
    "print(c)"
   ]
  },
  {
   "cell_type": "code",
   "execution_count": 57,
   "metadata": {},
   "outputs": [
    {
     "name": "stdout",
     "output_type": "stream",
     "text": [
      "1\n",
      "2\n",
      "3\n",
      "4\n"
     ]
    }
   ],
   "source": [
    "x=[1,2,3,4]\n",
    "for z in x:\n",
    "    print(z)"
   ]
  },
  {
   "cell_type": "code",
   "execution_count": 97,
   "metadata": {},
   "outputs": [
    {
     "name": "stdout",
     "output_type": "stream",
     "text": [
      "Congratuations, mag-fang.out exists.\n",
      "\n",
      "Input the numbers of atoms in POSCAR, if there are several ions, please use comma.13,14,15,16\n",
      "\n",
      "\n",
      "13\n",
      "...x....y....z....total\n",
      "-1.287 1.243 -0.0 1.7892506811511908\n",
      "\n",
      "\n",
      "14\n",
      "...x....y....z....total\n",
      "1.287 -1.243 -0.0 1.7892506811511908\n",
      "\n",
      "\n",
      "15\n",
      "...x....y....z....total\n",
      "-1.287 -1.243 -0.0 1.7892506811511908\n",
      "\n",
      "\n",
      "16\n",
      "...x....y....z....total\n",
      "1.287 1.243 0.0 1.7892506811511908\n",
      "\n",
      "\n"
     ]
    }
   ],
   "source": [
    "#Purpose: export the moments of selected atoms\n",
    "#Author: Yue-Wen Fang\n",
    "#Date: 27th September, 2017, NYU SHANGHAI\n",
    "#pyinstaller -F *.py to generate the excutable binary file.\n",
    "#Revision history:\n",
    "#Date: 23th November, 2017, Kyoto University; output total magnetic moment of the selected ion\n",
    "#Date: 2th December, 2017, Kyoto University; check if a file exsits\n",
    "#Date: 3th December, 2017, Kyoto University; interactive with keyboard input, now we can select atoms through keyboard\n",
    "import math\n",
    "import os\n",
    "from tempfile import TemporaryFile\n",
    "\n",
    "path = 'mag-fang.out'\n",
    "\n",
    "###################################################\n",
    "# Check if a file exsits\n",
    "if os.path.exists(path):\n",
    "    print('Congratuations, mag-fang.out exists.\\n')\n",
    "else:\n",
    "    print('No mag-fang.out, please use getmag-fang to generate it.\\n')\n",
    "###################################################\n",
    "\n",
    "\n",
    "###################################################\n",
    "# Input the atoms you are intested in, the number must be consistent to the POSCAR\n",
    "NumberOfAtoms=input('Input the numbers of atoms in POSCAR, if there are several ions, please use comma.')\n",
    "print('\\n')\n",
    "#print(NumberOfAtoms)\n",
    "#print(type(NumberOfAtoms))\n",
    "\n",
    "\n",
    "NumberOfAtoms=NumberOfAtoms.split(\",\")\n",
    "\n",
    "#print(type(NumberOfAtoms))\n",
    "#print(NumberOfAtoms)\n",
    "\n",
    "space='       ' \n",
    "# I add space here so that I can locate the number in the mag-fang.out file\n",
    "###################################################\n",
    "\n",
    "\n",
    "###################################################\n",
    "\n",
    "\n",
    "# this is a temp variable for stroing the magnetic information\n",
    "\n",
    "for ion in NumberOfAtoms:\n",
    "    f = open(path, 'rt')\n",
    "    print(ion)\n",
    "    Store_Mag = [] \n",
    "    ion_with_space = ion + space\n",
    "#    print(ion_with_space)\n",
    "    for line in f:\n",
    "        if ion_with_space in line:\n",
    "            Line_String = str(line)\n",
    "#            print(Line_String[33:40], sep=' ', end=' ')\n",
    "            Store_Mag.append(Line_String[33:40])\n",
    "#            print(Store_Mag)\n",
    "\n",
    "    mag_x, mag_y, mag_z = Store_Mag[:]\n",
    "    mag_x=float(mag_x)\n",
    "    mag_y=float(mag_y)\n",
    "    mag_z=float(mag_z)\n",
    "    total_mag=math.sqrt(abs(mag_x)**2+abs(mag_y)**2+abs(mag_z)**2)\n",
    "    print('...x....y....z....total')\n",
    "    print(mag_x, mag_y, mag_z, total_mag)\n",
    "    \n",
    "    f.close\n",
    "    print('\\n')"
   ]
  },
  {
   "cell_type": "code",
   "execution_count": null,
   "metadata": {},
   "outputs": [],
   "source": []
  }
 ],
 "metadata": {
  "kernelspec": {
   "display_name": "Python 3",
   "language": "python",
   "name": "python3"
  },
  "language_info": {
   "codemirror_mode": {
    "name": "ipython",
    "version": 3
   },
   "file_extension": ".py",
   "mimetype": "text/x-python",
   "name": "python",
   "nbconvert_exporter": "python",
   "pygments_lexer": "ipython3",
   "version": "3.6.3"
  }
 },
 "nbformat": 4,
 "nbformat_minor": 2
}
