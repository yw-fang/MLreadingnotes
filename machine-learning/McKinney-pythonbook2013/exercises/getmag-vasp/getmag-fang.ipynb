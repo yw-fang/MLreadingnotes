{
 "cells": [
  {
   "cell_type": "code",
   "execution_count": 21,
   "metadata": {},
   "outputs": [],
   "source": [
    "import numpy as np\n",
    "\n",
    "path = './OUTCAR'\n",
    "\n",
    "f = open(path)\n",
    "\n",
    "linenumber = 0\n",
    "for line in  f:\n",
    "    linenumber = linenumber + 1\n",
    "    if 'magnetization (x)' in line:\n",
    "        #print(line)\n",
    "        linenumber_mag = linenumber\n",
    "f.close()\n",
    "\n",
    "#print(linenumber_mag)\n",
    "\n",
    "f = open(path)\n",
    "\n",
    "linenumber = 0\n",
    "\n",
    "for line in f:\n",
    "    linenumber = linenumber + 1\n",
    "    if linenumber >= linenumber_mag:\n",
    "        with open('mag-fang.out', 'w') as handle:\n",
    "            handle.writelines(line)\n",
    "        #print(line)\n",
    "        if 'BZINTS' in line:\n",
    "            break\n",
    "    else:\n",
    "        continue\n",
    "    \n",
    "f.close()"
   ]
  },
  {
   "cell_type": "code",
   "execution_count": 25,
   "metadata": {},
   "outputs": [
    {
     "data": {
      "text/plain": [
       "False"
      ]
     },
     "execution_count": 25,
     "metadata": {},
     "output_type": "execute_result"
    }
   ],
   "source": [
    "1==2"
   ]
  },
  {
   "cell_type": "code",
   "execution_count": null,
   "metadata": {
    "collapsed": true
   },
   "outputs": [],
   "source": []
  }
 ],
 "metadata": {
  "kernelspec": {
   "display_name": "Python 3",
   "language": "python",
   "name": "python3"
  },
  "language_info": {
   "codemirror_mode": {
    "name": "ipython",
    "version": 3
   },
   "file_extension": ".py",
   "mimetype": "text/x-python",
   "name": "python",
   "nbconvert_exporter": "python",
   "pygments_lexer": "ipython3",
   "version": "3.6.1"
  }
 },
 "nbformat": 4,
 "nbformat_minor": 2
}
