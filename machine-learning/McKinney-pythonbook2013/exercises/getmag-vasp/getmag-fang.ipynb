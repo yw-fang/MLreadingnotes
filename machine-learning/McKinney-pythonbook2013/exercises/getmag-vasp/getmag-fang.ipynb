{
 "cells": [
  {
   "cell_type": "code",
   "execution_count": 24,
   "metadata": {},
   "outputs": [
    {
     "name": "stdout",
     "output_type": "stream",
     "text": [
      " magnetization (x)\n",
      "\n",
      "1577\n",
      " magnetization (x)\n",
      "\n",
      "2020\n",
      " magnetization (x)\n",
      "\n",
      "2467\n",
      " magnetization (x)\n",
      "\n",
      "2918\n",
      " magnetization (x)\n",
      "\n",
      "3370\n",
      " magnetization (x)\n",
      "\n",
      "52873\n",
      " magnetization (x)\n",
      "\n",
      "54030\n"
     ]
    }
   ],
   "source": [
    "import numpy as np\n",
    "\n",
    "path = './OUTCAR'\n",
    "\n",
    "f = open(path)\n",
    "\n",
    "linenumber_mag = 0\n",
    "for line in  f:\n",
    "    linenumber_mag = linenumber_mag + 1\n",
    "    if 'magnetization (x)' in line:\n",
    "        print(line)\n",
    "        print(linenumber_mag)\n",
    "\n",
    "linenumber = 0\n",
    "for line in f:\n",
    "    linenumber = linenumber + 1\n",
    "    if linenumber < linenumber_mag:\n",
    "        pass\n",
    "    elif linenumber == linenumber_mag:\n",
    "        print (line)\n",
    "        #cotinue\n",
    "    print(line)\n",
    "    \n",
    "f.close()"
   ]
  },
  {
   "cell_type": "code",
   "execution_count": null,
   "metadata": {
    "collapsed": true
   },
   "outputs": [],
   "source": [
    "file1 = open('OUTCAR')\n",
    "I = file1.readline()\n",
    "for i in I:\n",
    "    if '=' in i:\n",
    "        print('OK')\n",
    "file1.close()"
   ]
  }
 ],
 "metadata": {
  "kernelspec": {
   "display_name": "Python 3",
   "language": "python",
   "name": "python3"
  },
  "language_info": {
   "codemirror_mode": {
    "name": "ipython",
    "version": 3
   },
   "file_extension": ".py",
   "mimetype": "text/x-python",
   "name": "python",
   "nbconvert_exporter": "python",
   "pygments_lexer": "ipython3",
   "version": "3.6.1"
  }
 },
 "nbformat": 4,
 "nbformat_minor": 2
}
