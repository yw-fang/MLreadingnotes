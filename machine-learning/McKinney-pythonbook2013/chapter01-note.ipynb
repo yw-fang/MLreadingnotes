{
 "cells": [
  {
   "cell_type": "markdown",
   "metadata": {},
   "source": [
    "# 阅读笔记\n",
    "\n",
    "** 作者：方跃文 **\n",
    "\n",
    "** Email: fyuewen@gmail.com **\n",
    "\n",
    "** 时间：始于2017年9月12日， 结束写作于 **\n",
    "\n",
    "** NYUSH&KU **\n",
    "\n",
    "\n",
    "# 第一章 准备工作\n",
    "\n",
    "** 时间： 2017年9月12日凌晨**\n",
    "\n",
    "1) 介绍一些库：例如pendas, numpy, scipy。注意原书采用的是python2.7，但是我实际阅读时候用的python用的是python3.5和python3.6\n",
    "\n",
    "**2017年9月27日凌晨补充：** At night of 26th September, Ruihan told me that we can add channels to 'condat install new-pcakges'. He said that he usually use the Tsinghua mirror becaues the network at NYU Shanghai is slow in feching packages by the default channel. He recommend me two webpage: the first one is the Tsinghua mirror: https://mirror.tuna.tsinghua.edu.cn/help/anaconda/; The second one is a third-party (external) library source, Conda Forge: https://conda-forge.org/ Actually the latter channel is also included in the first channel.\n",
    "\n",
    "We can add the channels in this way:\n",
    "\n",
    "conda config --add channels https://mirrors.tuna.tsinghua.edu.cn/anaconda/pkgs/free/\n",
    "\n",
    "conda config --set show_channel_urls yes\n",
    "\n",
    "conda config --add channels https://mirrors.tuna.tsinghua.edu.cn/anaconda/cloud/conda-forge/\n",
    "\n",
    "\n",
    "2) 安装\n",
    "\n",
    "3) 如何使用本书：如果没有python经验，先看附录A，了解关于python的基础知识；如果已经有基本储备，可以按照正序或者自己感兴趣的内容开始阅读。本书的数据文件和相关材料都可以在GitHub上找到：<http://github.com/pydata/pydata-book>\n",
    "\n",
    "4) 一些行话：\n",
    "\n",
    "  * 数据规整：即Munge/Munging/Wrangling，指将非结构化数据整理成结构化数据的过程。\n",
    "  \n",
    "  * 伪代码：即pseudocode，并非实际有效的代码，但是易于理解和描述。\n",
    "  \n",
    "  * 语法糖：即syntactic sugar。它是一种编程语法，并不会带来新特性，但可以使得代码易读。\n",
    "\n",
    "按照我(yw-fang,没有特殊说明的话，I 和 我都是指代yw-fang)的阅读顺序，下一个环节是appendix-A的内容。"
   ]
  },
  {
   "cell_type": "code",
   "execution_count": null,
   "metadata": {
    "collapsed": true
   },
   "outputs": [],
   "source": []
  }
 ],
 "metadata": {
  "kernelspec": {
   "display_name": "Python 3",
   "language": "python",
   "name": "python3"
  },
  "language_info": {
   "codemirror_mode": {
    "name": "ipython",
    "version": 3
   },
   "file_extension": ".py",
   "mimetype": "text/x-python",
   "name": "python",
   "nbconvert_exporter": "python",
   "pygments_lexer": "ipython3",
   "version": "3.6.1"
  }
 },
 "nbformat": 4,
 "nbformat_minor": 2
}
