{
 "cells": [
  {
   "cell_type": "markdown",
   "metadata": {},
   "source": [
    "# 阅读笔记\n",
    "\n",
    "** 作者：方跃文 **\n",
    "\n",
    "** Email: fyuewen@gmail.com **\n",
    "\n",
    "** 时间：始于2017年9月12日， 结束写作于 **\n",
    "\n",
    "** 上海纽约大学 **\n",
    "\n",
    "** 京都大学**\n",
    "\n",
    "## 第一章 准备工作\n",
    "\n",
    "** 时间： 2017年9月12日凌晨\n",
    "\n",
    "1) 介绍一些库：例如pendas, numpy, scipy\n",
    "\n",
    "2) 安装\n",
    "\n",
    "3) 如何使用本书：如果没有python经验，先看附录，了解关于python的基础知识；如果已经有基本储备，可以按照正序或者自己感兴趣的内容开始阅读。本书的数据文件和相关材料都可以在GitHub上找到：<http://github.com/pydata/pydata-book>\n",
    "\n",
    "4) 一些行话：\n",
    "\n",
    "  * 数据规整：即Munge/Munging/Wrangling，指将非结构化数据整理成结构化数据的过程。\n",
    "  \n",
    "  * 伪代码：即pseudocode，并非实际有效的代码，但是易于理解和描述。\n",
    "  \n",
    "  * 语法糖：即syntactic sugar。它是一种编程语法，并不会带来新特性，但可以使得代码易读。\n",
    "\n",
    "\n",
    "## 第二章 引言\n",
    "\n",
    "** 时间： 2017年9月12日凌晨\n",
    "\n",
    "尽管数据处理的目的和领域都大不相同，但是利用python数据处理时候基本都需要完成如下几个大类的任务："
   ]
  }
 ],
 "metadata": {
  "kernelspec": {
   "display_name": "Python 3",
   "language": "python",
   "name": "python3"
  },
  "language_info": {
   "codemirror_mode": {
    "name": "ipython",
    "version": 3
   },
   "file_extension": ".py",
   "mimetype": "text/x-python",
   "name": "python",
   "nbconvert_exporter": "python",
   "pygments_lexer": "ipython3",
   "version": "3.6.1"
  }
 },
 "nbformat": 4,
 "nbformat_minor": 2
}
