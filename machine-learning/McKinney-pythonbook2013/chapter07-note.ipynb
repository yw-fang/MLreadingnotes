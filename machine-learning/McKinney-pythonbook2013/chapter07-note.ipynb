{
 "cells": [
  {
   "cell_type": "code",
   "execution_count": null,
   "metadata": {},
   "outputs": [],
   "source": [
    "# 阅读笔记\n",
    "\n",
    "** 作者：方跃文 **\n",
    "\n",
    "** Email: fyuewen@gmail.com **\n",
    "\n",
    "** 时间：始于2018年11月17日， 结束写作于 2018年\n",
    "\n",
    "\n",
    "\n",
    "\n",
    "\n",
    "\n",
    "# 第七章 数据规整化：清理、转换、合并、重塑\n",
    "\n",
    "PANDAS 的产生是以运用为导向的，因此它包含了许多实际工作中需要的数据清理方式。\n",
    "\n",
    "## 合并数据集\n",
    "\n",
    "pandas对象可以通过一些内置的方法进行合并：\n",
    "\n",
    "- pandas.merge, 可以根据一个或者多个key将数据进行连接\n",
    "\n",
    "- pandas.concat ， 可以沿着一条轴将多个数据堆叠在一起。\n",
    "\n",
    "- 实例方法中的 combine.fist 可以将重复的数据编排在一起，并且用一个对象中的值填缺另一个对象中的缺失值。"
   ]
  }
 ],
 "metadata": {
  "kernelspec": {
   "display_name": "Python 3",
   "language": "python",
   "name": "python3"
  },
  "language_info": {
   "codemirror_mode": {
    "name": "ipython",
    "version": 3
   },
   "file_extension": ".py",
   "mimetype": "text/x-python",
   "name": "python",
   "nbconvert_exporter": "python",
   "pygments_lexer": "ipython3",
   "version": "3.6.6"
  }
 },
 "nbformat": 4,
 "nbformat_minor": 2
}
