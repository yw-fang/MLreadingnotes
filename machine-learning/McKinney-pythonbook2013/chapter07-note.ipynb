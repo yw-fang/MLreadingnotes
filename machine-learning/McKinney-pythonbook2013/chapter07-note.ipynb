{
 "cells": [
  {
   "cell_type": "markdown",
   "metadata": {},
   "source": [
    "# 阅读笔记\n",
    "\n",
    "** 作者：方跃文 **\n",
    "\n",
    "** Email: fyuewen@gmail.com **\n",
    "\n",
    "** 时间：始于2018年11月17日， 结束写作于 2018年\n",
    "\n",
    "\n",
    "\n",
    "\n",
    "\n",
    "\n",
    "# 第七章 数据规整化：清理、转换、合并、重塑\n",
    "\n",
    "PANDAS 的产生是以运用为导向的，因此它包含了许多实际工作中需要的数据清理方式。\n",
    "\n",
    "## 合并数据集\n",
    "\n",
    "pandas对象可以通过一些内置的方法进行合并：\n",
    "\n",
    "- pandas.merge, 可以根据一个或者多个key将数据进行连接\n",
    "\n",
    "- pandas.concat ， 可以沿着一条轴将多个数据堆叠在一起。\n",
    "\n",
    "- 实例方法中的 combine.fist 可以将重复的数据编排在一起，并且用一个对象中的值填缺另一个对象中的缺失值。\n",
    "\n",
    "### 数据库风格的DataFrame合并 (database-style DataFrame joins)\n",
    "\n",
    "Pands 中的merge，允许我们根据一个或者多个keys来合并datasets，这种操作实现类似于基于SQL数据中的 join 方法。\n"
   ]
  },
  {
   "cell_type": "code",
   "execution_count": 10,
   "metadata": {},
   "outputs": [
    {
     "ename": "SyntaxError",
     "evalue": "invalid syntax (<ipython-input-10-1434d3f766bc>, line 8)",
     "output_type": "error",
     "traceback": [
      "\u001b[0;36m  File \u001b[0;32m\"<ipython-input-10-1434d3f766bc>\"\u001b[0;36m, line \u001b[0;32m8\u001b[0m\n\u001b[0;31m    print((*)*10)\u001b[0m\n\u001b[0m            ^\u001b[0m\n\u001b[0;31mSyntaxError\u001b[0m\u001b[0;31m:\u001b[0m invalid syntax\n"
     ]
    }
   ],
   "source": [
    "import pandas as pd\n",
    "\n",
    "df1 = pd.DataFrame({'key':list('bbacaab'),\n",
    "                   'data1': range(7)})\n",
    "df2 = pd.DataFrame({'key': list('abd'),\n",
    "                   'data2': range(3)})\n",
    "print(df1)\n",
    "print()\n",
    "print(df2)"
   ]
  },
  {
   "cell_type": "code",
   "execution_count": 1,
   "metadata": {},
   "outputs": [
    {
     "data": {
      "text/plain": [
       "['b', 'b', 'a', 'c', 'a', 'a', 'b']"
      ]
     },
     "execution_count": 1,
     "metadata": {},
     "output_type": "execute_result"
    }
   ],
   "source": [
    "list('bbacaab')"
   ]
  },
  {
   "cell_type": "markdown",
   "metadata": {},
   "source": [
    "# Appendix during writing this note"
   ]
  },
  {
   "cell_type": "markdown",
   "metadata": {},
   "source": [
    "## print a string with repeated letters"
   ]
  },
  {
   "cell_type": "code",
   "execution_count": 14,
   "metadata": {},
   "outputs": [
    {
     "name": "stdout",
     "output_type": "stream",
     "text": [
      "**********\n"
     ]
    }
   ],
   "source": [
    "def special_sign(sign, times):\n",
    "    # sign is string, times is integer\n",
    "    str_list = sign*times\n",
    "    string_ =print(''.join([i for i in str_list]))"
   ]
  },
  {
   "cell_type": "code",
   "execution_count": null,
   "metadata": {},
   "outputs": [],
   "source": []
  }
 ],
 "metadata": {
  "kernelspec": {
   "display_name": "Python 3",
   "language": "python",
   "name": "python3"
  },
  "language_info": {
   "codemirror_mode": {
    "name": "ipython",
    "version": 3
   },
   "file_extension": ".py",
   "mimetype": "text/x-python",
   "name": "python",
   "nbconvert_exporter": "python",
   "pygments_lexer": "ipython3",
   "version": "3.7.1"
  }
 },
 "nbformat": 4,
 "nbformat_minor": 2
}
