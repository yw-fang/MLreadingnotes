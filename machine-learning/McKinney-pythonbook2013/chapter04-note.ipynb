{
 "cells": [
  {
   "cell_type": "markdown",
   "metadata": {},
   "source": [
    "# 阅读笔记\n",
    "\n",
    "** 作者：方跃文 **\n",
    "\n",
    "** Email: fyuewen@gmail.com **\n",
    "\n",
    "** 时间：始于2017年9月12日， 结束写作于 **\n",
    "\n",
    "** 第四章笔记始于2017年10月17日，结束于_____**\n",
    "\n",
    "\n",
    "\n",
    "# 第四章 Numpy基础：数组和矢量计算\n",
    "\n",
    "** 时间： 2017年10月17日早晨**\n",
    "\n",
    "Numpy，即 numerical python的简称，是高性能科学计算和数据分析的基础包。它是本书所介绍的几乎所有高级工具的构建基础。其部分功能如下：\n",
    "\n",
    "1. ndarray，一个具有矢量算数运算和复杂广播能力的快速且节省空间的多维数组\n",
    "\n",
    "2. 在不需要循环的情况下，用于对数组快速运算的标准数学函数\n",
    "\n",
    "3. 用于读写磁盘数据的工具以及用于操作内存映射文件的工具\n",
    "\n",
    "4. 线性代数、随机数生成以及傅里叶变化\n",
    "\n",
    "5. 用于集成由 C、C++、Fortran 等语言编写的代码的工具\n",
    "\n",
    "Numpy 本身功能不复杂，但是理解 Numpy 有助于更高效地使用诸如 Pandas 之类的工具。\n",
    "\n",
    "原书作者主要从事数据分析，所以他关注的功能主要集中于：\n",
    "\n",
    "1. 用于数据整理和清理、子集构造和过滤、转换等快速的矢量化数组运算\n",
    "\n",
    "2. 常用的数组算法，如排序、唯一化、集合运算等。\n",
    "\n",
    "3. 高效地描述统计和数据聚合/摘要运算\n",
    "\n",
    "4. 用于异构数据集的合并/连接运算的数据和关系型数据运算\n",
    "\n",
    "5. 将条件逻辑表述为数组表达式（而不是带有if-elif-else分支的循环）\n",
    "\n",
    "6. 数据的分组运算（聚合、转换、函数应用等）第五章将对此进行详细解释。\n",
    "\n",
    "注：建议总是使用 import numpy as np； 而不是用 from numpy import *"
   ]
  },
  {
   "cell_type": "markdown",
   "metadata": {
    "collapsed": true
   },
   "source": [
    "## Numpy 的 ndarray：一种多维数组对象"
   ]
  },
  {
   "cell_type": "markdown",
   "metadata": {
    "collapsed": true
   },
   "source": [
    "** 时间： 2017年10月18日晚**"
   ]
  },
  {
   "cell_type": "markdown",
   "metadata": {},
   "source": [
    "Numpy 一个重要特点就是其 N 维数组对象，即 ndarray，该对象是一个快速而灵活的数据集容器。我们可以利用这种数组对整块数据进行一些运算，它的语法跟标量元素之间的运算相同："
   ]
  },
  {
   "cell_type": "code",
   "execution_count": 12,
   "metadata": {},
   "outputs": [],
   "source": [
    "import numpy.random as nrandom\n",
    "data = nrandom.randn(3,2)"
   ]
  },
  {
   "cell_type": "code",
   "execution_count": 13,
   "metadata": {},
   "outputs": [
    {
     "data": {
      "text/plain": [
       "array([[-0.99800656,  0.16535264],\n",
       "       [ 0.93812685, -0.58386599],\n",
       "       [ 0.04130164,  1.67020695]])"
      ]
     },
     "execution_count": 13,
     "metadata": {},
     "output_type": "execute_result"
    }
   ],
   "source": [
    "data"
   ]
  },
  {
   "cell_type": "code",
   "execution_count": null,
   "metadata": {
    "collapsed": true
   },
   "outputs": [],
   "source": []
  }
 ],
 "metadata": {
  "kernelspec": {
   "display_name": "Python 3",
   "language": "python",
   "name": "python3"
  },
  "language_info": {
   "codemirror_mode": {
    "name": "ipython",
    "version": 3
   },
   "file_extension": ".py",
   "mimetype": "text/x-python",
   "name": "python",
   "nbconvert_exporter": "python",
   "pygments_lexer": "ipython3",
   "version": "3.6.1"
  }
 },
 "nbformat": 4,
 "nbformat_minor": 2
}
