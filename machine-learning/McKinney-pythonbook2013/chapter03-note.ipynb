{
 "cells": [
  {
   "cell_type": "markdown",
   "metadata": {},
   "source": [
    "# 阅读笔记\n",
    "\n",
    "** 作者：方跃文 **\n",
    "\n",
    "** Email: fyuewen@gmail.com **\n",
    "\n",
    "** 时间：始于2017年9月12日 **\n",
    "\n",
    "** 第三章笔记始于2017年9月28日23:38 **\n"
   ]
  },
  {
   "cell_type": "markdown",
   "metadata": {},
   "source": [
    "# 第三章 IPtyhon: 一种交互式计算和开发环境\n",
    "\n",
    "IPython鼓励一种“执行探索——execute explore”精神，这就区别于传统的“编辑——编译——执行 edit——complie——run”\n",
    "\n",
    "## IPython 基础"
   ]
  },
  {
   "cell_type": "code",
   "execution_count": 19,
   "metadata": {
    "collapsed": true
   },
   "outputs": [],
   "source": [
    "a = 5"
   ]
  },
  {
   "cell_type": "code",
   "execution_count": 20,
   "metadata": {},
   "outputs": [
    {
     "data": {
      "text/plain": [
       "5"
      ]
     },
     "execution_count": 20,
     "metadata": {},
     "output_type": "execute_result"
    }
   ],
   "source": [
    "a"
   ]
  },
  {
   "cell_type": "code",
   "execution_count": 21,
   "metadata": {},
   "outputs": [
    {
     "name": "stdout",
     "output_type": "stream",
     "text": [
      "{0: 1.6677199594835443, 1: -0.5348338544580333, 2: -0.5804083436299905, 3: -2.156324071346383, 4: -0.49482409755600865, 5: -0.9700971146231592, 6: -0.12183027886180367}\n",
      "{0: 0, 1: 1, 2: 4, 3: 9, 4: 16}\n"
     ]
    }
   ],
   "source": [
    "import numpy as np\n",
    "from numpy.random import randn\n",
    "data = {i: randn() for i in range(7)}\n",
    "print(data)\n",
    "data1 = {j: j**2 for j in range(5)}\n",
    "print(data1)"
   ]
  },
  {
   "cell_type": "markdown",
   "metadata": {},
   "source": [
    "### Tab 键自动完成\n",
    "\n",
    "在python shell中，输入表达式时候，只要按下Tab键，当前命名空间中任何已输入的字符串相匹配的变量（对象、函数等）就会被找出来："
   ]
  },
  {
   "cell_type": "code",
   "execution_count": 22,
   "metadata": {
    "collapsed": true
   },
   "outputs": [],
   "source": [
    "an_apple = 27"
   ]
  },
  {
   "cell_type": "code",
   "execution_count": 23,
   "metadata": {
    "collapsed": true
   },
   "outputs": [],
   "source": [
    "an_example = 42"
   ]
  },
  {
   "cell_type": "code",
   "execution_count": 24,
   "metadata": {},
   "outputs": [
    {
     "ename": "NameError",
     "evalue": "name 'an_' is not defined",
     "output_type": "error",
     "traceback": [
      "\u001b[1;31m---------------------------------------------------------------------------\u001b[0m",
      "\u001b[1;31mNameError\u001b[0m                                 Traceback (most recent call last)",
      "\u001b[1;32m<ipython-input-24-8ba613501a95>\u001b[0m in \u001b[0;36m<module>\u001b[1;34m()\u001b[0m\n\u001b[1;32m----> 1\u001b[1;33m \u001b[0man_\u001b[0m \u001b[1;31m#按下tab键就会看到之前定义的变量会被显示出来，方便我们做出选择。\u001b[0m\u001b[1;33m\u001b[0m\u001b[0m\n\u001b[0m",
      "\u001b[1;31mNameError\u001b[0m: name 'an_' is not defined"
     ]
    }
   ],
   "source": [
    "an_ #按下tab键就会看到之前定义的变量会被显示出来，方便我们做出选择。\n"
   ]
  },
  {
   "cell_type": "markdown",
   "metadata": {},
   "source": [
    "此外，我们还可以在任何对象之后输入一个句点来方便地补全方法和属性的输入："
   ]
  },
  {
   "cell_type": "code",
   "execution_count": 1,
   "metadata": {},
   "outputs": [
    {
     "name": "stdout",
     "output_type": "stream",
     "text": [
      "{'commit_hash': 'd86648c5d',\n",
      " 'commit_source': 'installation',\n",
      " 'default_encoding': 'cp936',\n",
      " 'ipython_path': 'D:\\\\ProgramData\\\\Miniconda3\\\\envs\\\\ywfang-python36\\\\lib\\\\site-packages\\\\IPython',\n",
      " 'ipython_version': '6.1.0',\n",
      " 'os_name': 'nt',\n",
      " 'platform': 'Windows-10-10.0.14393-SP0',\n",
      " 'sys_executable': 'D:\\\\ProgramData\\\\Miniconda3\\\\envs\\\\ywfang-python36\\\\python.exe',\n",
      " 'sys_platform': 'win32',\n",
      " 'sys_version': '3.6.3 |Anaconda, Inc.| (default, Oct  6 2017, 10:25:46) [MSC '\n",
      "                'v.1900 64 bit (AMD64)]'}\n"
     ]
    }
   ],
   "source": [
    "import IPython\n",
    "print(IPython.sys_info())"
   ]
  },
  {
   "cell_type": "code",
   "execution_count": 3,
   "metadata": {
    "collapsed": true
   },
   "outputs": [],
   "source": [
    "a = [1,2,3]\n"
   ]
  },
  {
   "cell_type": "code",
   "execution_count": 4,
   "metadata": {},
   "outputs": [
    {
     "data": {
      "text/plain": [
       "[1, 2, 3, 0]"
      ]
     },
     "execution_count": 4,
     "metadata": {},
     "output_type": "execute_result"
    }
   ],
   "source": [
    "a.append(0)\n",
    "a"
   ]
  },
  {
   "cell_type": "code",
   "execution_count": 5,
   "metadata": {
    "collapsed": true
   },
   "outputs": [],
   "source": [
    "import datetime"
   ]
  },
  {
   "cell_type": "code",
   "execution_count": 6,
   "metadata": {
    "collapsed": true
   },
   "outputs": [],
   "source": [
    "dt = datetime.time(22,2,2)"
   ]
  },
  {
   "cell_type": "code",
   "execution_count": 7,
   "metadata": {
    "collapsed": true
   },
   "outputs": [],
   "source": [
    "dd = datetime.date(2017,2,2)"
   ]
  },
  {
   "cell_type": "code",
   "execution_count": 8,
   "metadata": {},
   "outputs": [
    {
     "name": "stdout",
     "output_type": "stream",
     "text": [
      "22:02:02 2017-02-02\n"
     ]
    }
   ],
   "source": [
    "print(\"%s %s\" % (dt,dd))"
   ]
  },
  {
   "cell_type": "markdown",
   "metadata": {},
   "source": [
    "Tab键自动完成成功不只可以搜索命名空间和自动完成对象或模块属性。当我们输入任何看上去像文件路径的东西时（即便是在一个Python字符串中），按下Tab键即可找出电脑文件系统中与之匹配的东西。"
   ]
  },
  {
   "cell_type": "code",
   "execution_count": null,
   "metadata": {
    "collapsed": true
   },
   "outputs": [],
   "source": [
    "./  #按下Tab键， 如果你当前目录下有文件或者目录，会给出提示。"
   ]
  },
  {
   "cell_type": "markdown",
   "metadata": {},
   "source": [
    "### 内省\n",
    "\n",
    "在变量的前面或者后面加上一个问号就可以将有关该对象的一些通用信息显示出来，这个就是内省，即object introspection."
   ]
  },
  {
   "cell_type": "code",
   "execution_count": 9,
   "metadata": {
    "collapsed": true
   },
   "outputs": [],
   "source": [
    "b=[1,2,3]\n",
    "    "
   ]
  },
  {
   "cell_type": "code",
   "execution_count": 10,
   "metadata": {
    "collapsed": true
   },
   "outputs": [],
   "source": [
    "b?"
   ]
  },
  {
   "cell_type": "markdown",
   "metadata": {},
   "source": [
    "上面执行完，jupyter会跳出一个小窗口并且显示如下：\n",
    "\n",
    ">Type:        list\n",
    "\n",
    ">String form: [1, 2, 3]\n",
    "\n",
    ">Length:      3\n",
    "\n",
    ">Docstring:  \n",
    "\n",
    ">list() -> new empty list\n",
    "\n",
    ">list(iterable) -> new list initialized from iterable's items"
   ]
  },
  {
   "cell_type": "markdown",
   "metadata": {},
   "source": [
    "如果对象是一个函数或者实例方法，则它的docstring(如果有的话)也会显示出来。例如："
   ]
  },
  {
   "cell_type": "code",
   "execution_count": 11,
   "metadata": {},
   "outputs": [
    {
     "data": {
      "text/plain": [
       "3"
      ]
     },
     "execution_count": 11,
     "metadata": {},
     "output_type": "execute_result"
    }
   ],
   "source": [
    "def add_numbers(a,b):\n",
    "    #引号部分则为docstring\n",
    "    \"\"\"\n",
    "    Add two numbers together\n",
    "    \n",
    "    Returns\n",
    "    -------\n",
    "    the_sum: type of arguments\n",
    "    \"\"\"\n",
    "    \n",
    "    return a+b\n",
    "\n",
    "add_numbers(1,2)\n"
   ]
  },
  {
   "cell_type": "code",
   "execution_count": 12,
   "metadata": {
    "collapsed": true
   },
   "outputs": [],
   "source": [
    "add_numbers?\n",
    "#加一个问号执行会显示上述我已经编写好的docstring，这样在忘记函数作用的时候还是很不错的功能。"
   ]
  },
  {
   "cell_type": "code",
   "execution_count": 13,
   "metadata": {
    "collapsed": true
   },
   "outputs": [],
   "source": [
    "add_numbers??\n",
    "#加两个问号则会显示该函数的源代码"
   ]
  },
  {
   "cell_type": "markdown",
   "metadata": {},
   "source": [
    "?还有一个用法，**即搜索IPython的命名空间**，类似于标准UNIX或者Windows命令行中的那种用法。一些字符再配以通配符即可显示出所有与该通配符表达式相匹配的名称。例如我们可以列出NumPy顶级命名空间中含有“load\"的所有函数。"
   ]
  },
  {
   "cell_type": "code",
   "execution_count": 14,
   "metadata": {
    "collapsed": true
   },
   "outputs": [],
   "source": [
    "import numpy as np\n",
    "np.*load*?"
   ]
  },
  {
   "cell_type": "markdown",
   "metadata": {},
   "source": [
    "#上述执行后，jupyter notebooK会给出：\n",
    "\n",
    ">np.__loader__\n",
    "\n",
    ">np.load\n",
    "\n",
    ">np.loads\n",
    "\n",
    ">np.loadtxt\n",
    "\n",
    ">np.pkgload"
   ]
  },
  {
   "cell_type": "markdown",
   "metadata": {},
   "source": [
    "### %run命令\n",
    "\n",
    "在IPython会话中，所有文件都可以通过%run命令当作Python程序来运行。假设当前目录下的chapter03文件夹中有个simple01.py的脚本，其中内容为"
   ]
  },
  {
   "cell_type": "code",
   "execution_count": 46,
   "metadata": {
    "collapsed": true
   },
   "outputs": [],
   "source": [
    "def f(x,y,z):\n",
    "    return (x+y)/z\n",
    "a=5\n",
    "b=6\n",
    "c=8\n",
    "\n",
    "result = f(a,b,c)\n",
    "print(result)"
   ]
  },
  {
   "cell_type": "code",
   "execution_count": 48,
   "metadata": {},
   "outputs": [
    {
     "name": "stdout",
     "output_type": "stream",
     "text": [
      "1.375\n"
     ]
    }
   ],
   "source": [
    "#执行\n",
    "%run ./chapter03/simple01.py"
   ]
  },
  {
   "cell_type": "markdown",
   "metadata": {},
   "source": [
    "上述脚本simple01.py是在一个空的命名空间中运行的，没有任何import，也没有定义任何其他的变量，所以其行为跟在命令行运行是一样的。此后，该脚本中所定义的变量(包括脚本中的import、函数、全局变量)就可以在当前jupyter notebook中进行访问（除非有其他错误或则异常）"
   ]
  },
  {
   "cell_type": "code",
   "execution_count": 49,
   "metadata": {},
   "outputs": [
    {
     "data": {
      "text/plain": [
       "1.375"
      ]
     },
     "execution_count": 49,
     "metadata": {},
     "output_type": "execute_result"
    }
   ],
   "source": [
    "result"
   ]
  },
  {
   "cell_type": "markdown",
   "metadata": {},
   "source": [
    "** 如果Python脚本中需要用到命令行参数（通过 sys.argv访问），可以将参数放到文件路径的后面，就像在命令行执行那样。**\n",
    "\n",
    "**  如果希望脚本执行的时候会访问当前jupyter notebook中的变量，应该用…%run -i script.py**，例如\n",
    "\n",
    "我在chapter03文件夹中写下\n",
    "\n",
    "x = 32\n",
    "\n",
    "add = x + result\n",
    "\n",
    "print('add is %d' % (add))\n"
   ]
  },
  {
   "cell_type": "code",
   "execution_count": 52,
   "metadata": {},
   "outputs": [
    {
     "name": "stdout",
     "output_type": "stream",
     "text": [
      "add is 33\n"
     ]
    }
   ],
   "source": [
    "%run -i ./chapter03/simple02.py  #-i即interactive"
   ]
  },
  {
   "cell_type": "markdown",
   "metadata": {},
   "source": [
    "### 中断执行的代码\n",
    "\n",
    "任何代码在执行时候（无论是通过%run执行的脚本还是长时间运行的命令），只要按下按下“Ctrl+C”,就会引发一个keyboardInterrupt。出一些特殊的情况之外，绝代分python程序都将因此立即停止执行。\n",
    "\n",
    "例如：\n",
    "\n",
    "当python代码已经调用了某个已编译的扩展模块时，按下Ctrl+C将无法立即停止执行。\n",
    "在这种情况下，要么需要等待python解释器重新获得控制权，要么只能通过\n",
    "操作系统的任务管理器强制执行终止python进程。"
   ]
  },
  {
   "cell_type": "markdown",
   "metadata": {},
   "source": [
    "### 执行剪贴板中的代码\n",
    "\n",
    "在IPython shell（注意，我这里强调一下，并不是在jupyter notebook中，而是ipython shell,虽然我有时候\n",
    "把他们两个说的好像等效一样，但是两者还是不同的）中执行代码的最简单方式就是粘贴剪贴板中的代码。虽然这种做法很粗糙，\n",
    "但是在实际工作中就很有用。比如，在开发一个复杂或耗时的程序时候，我们可能需要一段\n",
    "一段地执行脚本，以便查看各个阶段所加载的数据以及产生的结果。又比如说，在网上找到了\n",
    "一个何用的代码，但是又不想专门为其新建一个.py文件。\n",
    "\n",
    "多数情况下，我们可以通过“Ctrl-Shift-V”将粘贴版中的代码片段粘贴出来(windows中)。\n",
    "\n",
    "%paste 和 %cpaste 这两个魔术函数可以粘贴剪贴板中的一切文本。在ipython shell中这两个函数\n",
    "可以帮助粘贴。后者%cpaste相比于%paste只是多了粘贴代码的特殊提示符，可以一行一行粘贴。"
   ]
  },
  {
   "cell_type": "code",
   "execution_count": null,
   "metadata": {
    "collapsed": true
   },
   "outputs": [],
   "source": [
    "#下面我把我在ipython中执行的代码\n",
    "$ ipython\n",
    "Python 3.6.1 |Anaconda custom (64-bit)| (default, May 11 2017, 13:25:24) [MSC v.1900 64 bit (AMD64)]\n",
    "Type 'copyright', 'credits' or 'license' for more information\n",
    "IPython 6.2.0 -- An enhanced Interactive Python. Type '?' for help.\n",
    "\n",
    "In [1]: %cpaste\n",
    "Pasting code; enter '--' alone on the line to stop or use Ctrl-D.\n",
    ":x = 1\n",
    ":if x == 1:\n",
    ":    print(\"x is 1.\")\n",
    ":\n",
    ":--\n",
    "x is 1.\n"
   ]
  },
  {
   "cell_type": "markdown",
   "metadata": {},
   "source": [
    "### IPython 跟编辑器和IDE之间的交互\n",
    "\n",
    "某些文本编辑器（EMACS, VIM）带有一些能将代码块直接发送到ipython shell的第三方扩展。某些IDE中也\n",
    "预装有ipython。"
   ]
  },
  {
   "cell_type": "markdown",
   "metadata": {},
   "source": [
    " 对于我自己而言，我喜欢用git bash，然后在里面折腾vim. 当然我有时候也用IDE"
   ]
  },
  {
   "cell_type": "markdown",
   "metadata": {},
   "source": [
    "### 键盘快捷键\n",
    "\n",
    "IPython提供了许多用于提示符导航（Emacs文本编辑器或者UNIX bash shell的用户对此会很熟悉）和查阅历史shell命令的快捷键。因为我不喜欢在ipython shell中写code，所以我就跳过了。如果有人读到我的笔记发现这里没有什么记录的话请自行查找原书。"
   ]
  },
  {
   "cell_type": "markdown",
   "metadata": {
    "collapsed": true
   },
   "source": [
    "### 异常和跟踪\n",
    "\n",
    "如果%run某段脚本或执行某条语句发生了一场，IPython默认会输出整个调用栈跟踪traceback，其中还会附上调用栈各点附近的几行代码作为上下文参考。"
   ]
  },
  {
   "cell_type": "code",
   "execution_count": 1,
   "metadata": {},
   "outputs": [
    {
     "ename": "AssertionError",
     "evalue": "",
     "output_type": "error",
     "traceback": [
      "\u001b[1;31m---------------------------------------------------------------------------\u001b[0m",
      "\u001b[1;31mAssertionError\u001b[0m                            Traceback (most recent call last)",
      "\u001b[1;32mD:\\PhDinECNU\\readingnotes\\readingnotes\\machine-learning\\McKinney-pythonbook2013\\pydata-book\\ch03\\ipython_bug.py\u001b[0m in \u001b[0;36m<module>\u001b[1;34m()\u001b[0m\n\u001b[0;32m     13\u001b[0m     \u001b[0mthrows_an_exception\u001b[0m\u001b[1;33m(\u001b[0m\u001b[1;33m)\u001b[0m\u001b[1;33m\u001b[0m\u001b[0m\n\u001b[0;32m     14\u001b[0m \u001b[1;33m\u001b[0m\u001b[0m\n\u001b[1;32m---> 15\u001b[1;33m \u001b[0mcalling_things\u001b[0m\u001b[1;33m(\u001b[0m\u001b[1;33m)\u001b[0m\u001b[1;33m\u001b[0m\u001b[0m\n\u001b[0m",
      "\u001b[1;32mD:\\PhDinECNU\\readingnotes\\readingnotes\\machine-learning\\McKinney-pythonbook2013\\pydata-book\\ch03\\ipython_bug.py\u001b[0m in \u001b[0;36mcalling_things\u001b[1;34m()\u001b[0m\n\u001b[0;32m     11\u001b[0m \u001b[1;32mdef\u001b[0m \u001b[0mcalling_things\u001b[0m\u001b[1;33m(\u001b[0m\u001b[1;33m)\u001b[0m\u001b[1;33m:\u001b[0m\u001b[1;33m\u001b[0m\u001b[0m\n\u001b[0;32m     12\u001b[0m     \u001b[0mworks_fine\u001b[0m\u001b[1;33m(\u001b[0m\u001b[1;33m)\u001b[0m\u001b[1;33m\u001b[0m\u001b[0m\n\u001b[1;32m---> 13\u001b[1;33m     \u001b[0mthrows_an_exception\u001b[0m\u001b[1;33m(\u001b[0m\u001b[1;33m)\u001b[0m\u001b[1;33m\u001b[0m\u001b[0m\n\u001b[0m\u001b[0;32m     14\u001b[0m \u001b[1;33m\u001b[0m\u001b[0m\n\u001b[0;32m     15\u001b[0m \u001b[0mcalling_things\u001b[0m\u001b[1;33m(\u001b[0m\u001b[1;33m)\u001b[0m\u001b[1;33m\u001b[0m\u001b[0m\n",
      "\u001b[1;32mD:\\PhDinECNU\\readingnotes\\readingnotes\\machine-learning\\McKinney-pythonbook2013\\pydata-book\\ch03\\ipython_bug.py\u001b[0m in \u001b[0;36mthrows_an_exception\u001b[1;34m()\u001b[0m\n\u001b[0;32m      7\u001b[0m     \u001b[0ma\u001b[0m \u001b[1;33m=\u001b[0m \u001b[1;36m5\u001b[0m\u001b[1;33m\u001b[0m\u001b[0m\n\u001b[0;32m      8\u001b[0m     \u001b[0mb\u001b[0m \u001b[1;33m=\u001b[0m \u001b[1;36m6\u001b[0m\u001b[1;33m\u001b[0m\u001b[0m\n\u001b[1;32m----> 9\u001b[1;33m     \u001b[1;32massert\u001b[0m\u001b[1;33m(\u001b[0m\u001b[0ma\u001b[0m \u001b[1;33m+\u001b[0m \u001b[0mb\u001b[0m \u001b[1;33m==\u001b[0m \u001b[1;36m10\u001b[0m\u001b[1;33m)\u001b[0m\u001b[1;33m\u001b[0m\u001b[0m\n\u001b[0m\u001b[0;32m     10\u001b[0m \u001b[1;33m\u001b[0m\u001b[0m\n\u001b[0;32m     11\u001b[0m \u001b[1;32mdef\u001b[0m \u001b[0mcalling_things\u001b[0m\u001b[1;33m(\u001b[0m\u001b[1;33m)\u001b[0m\u001b[1;33m:\u001b[0m\u001b[1;33m\u001b[0m\u001b[0m\n",
      "\u001b[1;31mAssertionError\u001b[0m: "
     ]
    }
   ],
   "source": [
    "%run ./pydata-book/ch03/ipython_bug.py"
   ]
  },
  {
   "cell_type": "markdown",
   "metadata": {},
   "source": [
    "** 拥有额外的上下文代码参考是它相对于标准python解释器的一大优势。上下文代码参考的数量可以通过%mode魔术命令进行控制，既可以少（与标准python解释器相同）也可以多（带有函数参数值以及其他信息）。本章后面还会讲到如果在出现异常之后进入跟踪栈进行交互式的事后调试post-mortem debugging.**"
   ]
  },
  {
   "cell_type": "markdown",
   "metadata": {},
   "source": [
    "### 魔术命令\n",
    "\n",
    "IPython有一些特殊命令（魔术命令Magic Command)，它们有的为常见任务提供便利，有的则使你能够轻松控制IPtython系统的行为。魔术命令是以百分号%为前缀的命令。例如，我们可以通过 %timeit 这个魔术命令检测任意Python语句（如矩阵乘法）的执行时间（稍后对此进行详细讲解）："
   ]
  },
  {
   "cell_type": "code",
   "execution_count": 17,
   "metadata": {},
   "outputs": [
    {
     "data": {
      "text/plain": [
       "array([[[  1.13419890e+00,   8.83885144e-02,   8.04454222e-02],\n",
       "        [  1.71449713e+00,   1.61348742e+00,   1.84340959e-01],\n",
       "        [ -1.13356830e+00,   8.79293791e-02,   2.27063217e+00]],\n",
       "\n",
       "       [[  9.01350036e-02,   1.61557003e-01,  -2.39828001e-01],\n",
       "        [  9.68252924e-01,  -7.87529339e-01,   2.25804159e-01],\n",
       "        [  8.60058744e-01,  -3.96583152e-01,   4.93699079e-01]],\n",
       "\n",
       "       [[ -1.66217045e-01,   8.28603220e-01,  -3.39603416e-01],\n",
       "        [ -1.16814504e+00,   1.20435531e-03,   9.55416258e-01],\n",
       "        [  3.13633832e-01,  -2.75001590e-01,   1.56238842e+00]]])"
      ]
     },
     "execution_count": 17,
     "metadata": {},
     "output_type": "execute_result"
    }
   ],
   "source": [
    "import numpy as np\n",
    "from numpy.random import randn\n",
    "\n",
    "a = randn(3,3,3)\n",
    "a"
   ]
  },
  {
   "cell_type": "code",
   "execution_count": 18,
   "metadata": {},
   "outputs": [
    {
     "name": "stdout",
     "output_type": "stream",
     "text": [
      "10.4 µs ± 5.93 µs per loop (mean ± std. dev. of 7 runs, 1 loop each)\n"
     ]
    }
   ],
   "source": [
    "%timeit np.dot(a,a)"
   ]
  },
  {
   "cell_type": "markdown",
   "metadata": {},
   "source": [
    "魔术命令可以看作运行于IPython系统中的命令行程序。它们大都还有一些“命令行”，使用“？”即可查看其选项"
   ]
  },
  {
   "cell_type": "code",
   "execution_count": 20,
   "metadata": {
    "collapsed": true
   },
   "outputs": [],
   "source": [
    "%reset?"
   ]
  },
  {
   "cell_type": "markdown",
   "metadata": {},
   "source": [
    "上面执行后，会跳出它的docstring"
   ]
  },
  {
   "cell_type": "code",
   "execution_count": 21,
   "metadata": {
    "collapsed": true
   },
   "outputs": [],
   "source": [
    "a = 1"
   ]
  },
  {
   "cell_type": "code",
   "execution_count": 22,
   "metadata": {},
   "outputs": [
    {
     "data": {
      "text/plain": [
       "1"
      ]
     },
     "execution_count": 22,
     "metadata": {},
     "output_type": "execute_result"
    }
   ],
   "source": [
    "a"
   ]
  },
  {
   "cell_type": "code",
   "execution_count": 23,
   "metadata": {},
   "outputs": [
    {
     "ename": "NameError",
     "evalue": "name '_ip' is not defined",
     "output_type": "error",
     "traceback": [
      "\u001b[1;31m---------------------------------------------------------------------------\u001b[0m",
      "\u001b[1;31mNameError\u001b[0m                                 Traceback (most recent call last)",
      "\u001b[1;32m<ipython-input-23-e243bfdd3e21>\u001b[0m in \u001b[0;36m<module>\u001b[1;34m()\u001b[0m\n\u001b[1;32m----> 1\u001b[1;33m \u001b[1;34m'a'\u001b[0m \u001b[1;32min\u001b[0m \u001b[0m_ip\u001b[0m\u001b[1;33m.\u001b[0m\u001b[0muser_ns\u001b[0m  \u001b[1;31m# 不知道为什么这里没有执行通过？\u001b[0m\u001b[1;33m\u001b[0m\u001b[0m\n\u001b[0m",
      "\u001b[1;31mNameError\u001b[0m: name '_ip' is not defined"
     ]
    }
   ],
   "source": [
    "'a' in _ip.user_ns  # 不知道为什么这里没有执行通过？"
   ]
  },
  {
   "cell_type": "code",
   "execution_count": 10,
   "metadata": {
    "collapsed": true
   },
   "outputs": [],
   "source": [
    "%reset -f"
   ]
  },
  {
   "cell_type": "code",
   "execution_count": 9,
   "metadata": {},
   "outputs": [
    {
     "ename": "NameError",
     "evalue": "name '__ip' is not defined",
     "output_type": "error",
     "traceback": [
      "\u001b[1;31m---------------------------------------------------------------------------\u001b[0m",
      "\u001b[1;31mNameError\u001b[0m                                 Traceback (most recent call last)",
      "\u001b[1;32m<ipython-input-9-3fd8e5105dcc>\u001b[0m in \u001b[0;36m<module>\u001b[1;34m()\u001b[0m\n\u001b[1;32m----> 1\u001b[1;33m \u001b[1;34m'a'\u001b[0m \u001b[1;32min\u001b[0m \u001b[0m__ip\u001b[0m\u001b[1;33m.\u001b[0m\u001b[0muser__ns\u001b[0m\u001b[1;33m\u001b[0m\u001b[0m\n\u001b[0m",
      "\u001b[1;31mNameError\u001b[0m: name '__ip' is not defined"
     ]
    }
   ],
   "source": [
    "'a' in __ip.user__ns"
   ]
  },
  {
   "cell_type": "markdown",
   "metadata": {},
   "source": [
    "** 常用的python魔术命令**"
   ]
  },
  {
   "cell_type": "markdown",
   "metadata": {},
   "source": [
    "| 命令  | 功能|\n",
    "| ------------- | ------------- |\n",
    "| %quickref  | 显示IPython的快速参考  |\n",
    "| %magic  | 显示所有魔术命令的详细文档  |\n",
    "| %debug  |  从最新的异常跟踪的底部进入交互式调试器|\n",
    "| %hist   | #打印命令的输入（可选输出）历史 |\n",
    "| %pdb    | 在异常发生后自动进入调试器 |\n",
    "| %paste  | 执行粘贴版中的python代码 |\n",
    "| %reset | 删除interactive命名空间中的全部变量、名称 |\n",
    "| %page *OBJECT*  | 通过分页器打印输出 *OBJECT* |\n",
    "| %run *script.py* | 在IPython中执行脚本 |\n",
    "| %run *statement* | 通过cProfile执行statement，并打印分析器的输出结果|\n",
    "| %time *statement* | 报告statement的执行时间|\n",
    "| %timeit *statement* |  多次执行statement以计算系统平均执行时间。对那些执行时间非常小的代码很有用|\n",
    "| %who、%who_ls、%whos | 显示interactive命名空间中定义的变量，信息级别、冗余度可变 |\n",
    "| %xdel variable | 删除variable，并尝试清楚其在IPython中的对象上的一切引用 |\n",
    "\n"
   ]
  },
  {
   "cell_type": "markdown",
   "metadata": {},
   "source": [
    "\n",
    "### 基于Qt的富GUI控制台\n",
    "\n",
    "IPython团队开发了一个基于Qt框架（其摩的是为终端应用程序提供诸如内嵌图片、多行编辑、语法高亮之类的富文本编辑功能）的GUI控制平台。如果你已经安装了PyQt或者Pyside，使用下面命令来启动的话即可为其添加绘图功能。\n",
    "\n",
    "ipython qtconsole --pylab=inline\n",
    "\n",
    "Qt控制台可以通过标签页的形式启动多个IPython进程，这就使得我们可以在多个任务之间轻松地切换。它也开业跟IPython HTML Notebote （即我现在用的jupyter noteboo)共享同一个进程，稍后我们对此进行演示说明。"
   ]
  },
  {
   "cell_type": "markdown",
   "metadata": {},
   "source": [
    "#### matplotlib 集成与pylab模式"
   ]
  },
  {
   "cell_type": "markdown",
   "metadata": {},
   "source": [
    "导致Ipython广泛应用于科学计算领域的部分原因是它跟matplotlib这样的库以及GUI工具集默契配合。\n",
    "\n",
    "通常我们通过在启动Ipython时候添加--pylab标记来集成matplotlib"
   ]
  },
  {
   "cell_type": "code",
   "execution_count": null,
   "metadata": {
    "collapsed": true
   },
   "outputs": [],
   "source": [
    "#在terminal 输入\n",
    "ipython --pylab\n",
    "\n",
    "#回显中会出现部分关于matplotlib的字段\n",
    "#IPython 6.2.0 -- An enhanced Interactive Python. Type '?' for help.\n",
    "#Using matplotlib backend: Qt5Agg"
   ]
  },
  {
   "cell_type": "markdown",
   "metadata": {
    "collapsed": true
   },
   "source": [
    "上述的操作会导致几个结果：\n",
    "\n",
    "1. IPython 会启动默认GUI后台集成，这样matplotib绘图窗口创建就不会出现问题；\n",
    "\n",
    "2. Numpy和matplotlib的大部分功能会被引入到最顶层的interactive命名空间以产生一个交互式的计算环境（类似matlab等）。也可以通过%gui对此进行手工设置（详情请执行%gui?）"
   ]
  },
  {
   "cell_type": "code",
   "execution_count": 10,
   "metadata": {
    "collapsed": true
   },
   "outputs": [],
   "source": [
    "#原书给了一个在ipython命令行的例子\n",
    "#但是，我这里用jupyter notebook来进行演示\n",
    "%matplotlib inline\n",
    "import matplotlib.pylab as plab\n",
    "\n",
    "img=plab.imread('pydata-book/ch03/stinkbug.png')"
   ]
  },
  {
   "cell_type": "code",
   "execution_count": 11,
   "metadata": {},
   "outputs": [
    {
     "data": {
      "text/plain": [
       "<matplotlib.image.AxesImage at 0x2639b8cbb38>"
      ]
     },
     "execution_count": 11,
     "metadata": {},
     "output_type": "execute_result"
    },
    {
     "data": {
      "image/png": "[encoded data removed]",
      "text/plain": [
       "<matplotlib.figure.Figure at 0x2639bf40c88>"
      ]
     },
     "metadata": {},
     "output_type": "display_data"
    }
   ],
   "source": [
    "plab.imshow(img)"
   ]
  },
  {
   "cell_type": "code",
   "execution_count": 4,
   "metadata": {},
   "outputs": [
    {
     "data": {
      "text/plain": [
       "[<matplotlib.lines.Line2D at 0x233d8e25278>]"
      ]
     },
     "execution_count": 4,
     "metadata": {},
     "output_type": "execute_result"
    },
    {
     "data": {
      "image/png": "[encoded data removed]",
      "text/plain": [
       "<matplotlib.figure.Figure at 0x233d8d0b978>"
      ]
     },
     "metadata": {},
     "output_type": "display_data"
    }
   ],
   "source": [
    "%matplotlib inline\n",
    "import matplotlib.pylab as plab\n",
    "from numpy.random import randn\n",
    "plab.plot(randn(1000).cumsum())"
   ]
  },
  {
   "cell_type": "markdown",
   "metadata": {},
   "source": [
    "### 使用命令历史\n",
    "\n",
    "IPython 维护着一个位于硬盘上的小型数据库。其中含有你执行过的每条命令的文本。这样做有几个目的：\n",
    "\n",
    "* 只需很少的按键次数即可搜索、自动完成并执行之前已经执行过的命令\n",
    "\n",
    "* 在会话间持久化历史命令\n",
    "\n",
    "* 将输入/输出历史纪录到日志中去"
   ]
  },
  {
   "cell_type": "markdown",
   "metadata": {},
   "source": [
    "#### 搜索并重用命令历史\n",
    "\n",
    "IPython倡导迭代、交互的开发模式：我们常常发现自己总是重复一些命令，假设我们已经执行了"
   ]
  },
  {
   "cell_type": "code",
   "execution_count": 5,
   "metadata": {},
   "outputs": [
    {
     "name": "stdout",
     "output_type": "stream",
     "text": [
      "1.375\n"
     ]
    },
    {
     "data": {
      "text/plain": [
       "<matplotlib.figure.Figure at 0x233d87c9588>"
      ]
     },
     "metadata": {},
     "output_type": "display_data"
    }
   ],
   "source": [
    "#在ipython terminal执行\n",
    "%run chapter03/simple01.py"
   ]
  },
  {
   "cell_type": "markdown",
   "metadata": {},
   "source": [
    "如果我们想在修改了simple01.py（当然也可以不改）后再次执行上面的操作，只需要输入 %run 命令的前几个字符并按下“ctrl+P”键或者向上箭头就会在命令历史的第一个发现它. (可能是因为我用的是git bash on windows,我自己并未测试成功书中的这个操作;但是在Linux中，我测试是有效的)。此外，ctrl-R可以实现部分增量搜索，跟Unix shell中的readline所提供的功能一样,并且ctrl-R将会循环搜索命令历史中每一条与输入相符的行。\n",
    "\n",
    "例如，第一次ctrl-R后，我输入了c，ipython返回给我的是：\n",
    "\n",
    "> In [6]: c=a+b\n",
    "\n",
    "> I-search backward: c\n",
    "\n",
    "再按依次ctrl-R,则变成了历史中含c这个关键字的另一个命令\n",
    "\n",
    "> In [6]: c = c + 1\n",
    "\n",
    "> I-search backward: c"
   ]
  },
  {
   "cell_type": "markdown",
   "metadata": {
    "collapsed": true
   },
   "source": [
    "#### 输入和输出变量"
   ]
  },
  {
   "cell_type": "markdown",
   "metadata": {},
   "source": [
    "IPython shell和jupyter notebook中，最近的两个输出分别保存在 \\_ 和 \\__ 两个变量中"
   ]
  },
  {
   "cell_type": "code",
   "execution_count": 1,
   "metadata": {
    "collapsed": true
   },
   "outputs": [],
   "source": [
    "a=3"
   ]
  },
  {
   "cell_type": "code",
   "execution_count": 2,
   "metadata": {},
   "outputs": [
    {
     "data": {
      "text/plain": [
       "3"
      ]
     },
     "execution_count": 2,
     "metadata": {},
     "output_type": "execute_result"
    }
   ],
   "source": [
    "a"
   ]
  },
  {
   "cell_type": "code",
   "execution_count": 3,
   "metadata": {
    "collapsed": true
   },
   "outputs": [],
   "source": [
    "b=4"
   ]
  },
  {
   "cell_type": "code",
   "execution_count": 4,
   "metadata": {},
   "outputs": [
    {
     "data": {
      "text/plain": [
       "4"
      ]
     },
     "execution_count": 4,
     "metadata": {},
     "output_type": "execute_result"
    }
   ],
   "source": [
    "b"
   ]
  },
  {
   "cell_type": "code",
   "execution_count": 5,
   "metadata": {},
   "outputs": [
    {
     "data": {
      "text/plain": [
       "3"
      ]
     },
     "execution_count": 5,
     "metadata": {},
     "output_type": "execute_result"
    }
   ],
   "source": [
    "__"
   ]
  },
  {
   "cell_type": "code",
   "execution_count": 6,
   "metadata": {},
   "outputs": [
    {
     "data": {
      "text/plain": [
       "5"
      ]
     },
     "execution_count": 6,
     "metadata": {},
     "output_type": "execute_result"
    }
   ],
   "source": [
    "c=5\n",
    "c"
   ]
  },
  {
   "cell_type": "code",
   "execution_count": 7,
   "metadata": {
    "scrolled": true
   },
   "outputs": [
    {
     "data": {
      "text/plain": [
       "5"
      ]
     },
     "execution_count": 7,
     "metadata": {},
     "output_type": "execute_result"
    }
   ],
   "source": [
    "_"
   ]
  },
  {
   "cell_type": "markdown",
   "metadata": {},
   "source": [
    "输入的文本被保存在名为 \\_iX 的变量中，其中X是输入行的行号。每个输入变量都有一个对应的输出变量 \\_X。例如："
   ]
  },
  {
   "cell_type": "code",
   "execution_count": 8,
   "metadata": {
    "collapsed": true
   },
   "outputs": [],
   "source": [
    "foo = 'bar'"
   ]
  },
  {
   "cell_type": "code",
   "execution_count": 9,
   "metadata": {},
   "outputs": [
    {
     "data": {
      "text/plain": [
       "'bar'"
      ]
     },
     "execution_count": 9,
     "metadata": {},
     "output_type": "execute_result"
    }
   ],
   "source": [
    "foo"
   ]
  },
  {
   "cell_type": "code",
   "execution_count": 10,
   "metadata": {},
   "outputs": [
    {
     "data": {
      "text/plain": [
       "'foo'"
      ]
     },
     "execution_count": 10,
     "metadata": {},
     "output_type": "execute_result"
    }
   ],
   "source": [
    "_i9"
   ]
  },
  {
   "cell_type": "code",
   "execution_count": 11,
   "metadata": {},
   "outputs": [
    {
     "data": {
      "text/plain": [
       "'bar'"
      ]
     },
     "execution_count": 11,
     "metadata": {},
     "output_type": "execute_result"
    }
   ],
   "source": [
    "_9"
   ]
  },
  {
   "cell_type": "markdown",
   "metadata": {},
   "source": [
    "由于输入变量是字符串，因此可用python的exec关键字重新执行: exec \\_i9"
   ]
  },
  {
   "cell_type": "markdown",
   "metadata": {},
   "source": [
    "有几个魔术命令可用于输入、输出历史。%hist用于打印全部或部分历史，可以选择是否带行号"
   ]
  },
  {
   "cell_type": "code",
   "execution_count": 13,
   "metadata": {},
   "outputs": [
    {
     "name": "stdout",
     "output_type": "stream",
     "text": [
      "a=3\n",
      "a\n",
      "b=4\n",
      "b\n",
      "__\n",
      "c=5\n",
      "c\n",
      "_\n",
      "foo = 'bar'\n",
      "foo\n",
      "_i9\n",
      "_9\n",
      "exec _i9\n",
      "%hist\n"
     ]
    }
   ],
   "source": [
    "%hist"
   ]
  },
  {
   "cell_type": "markdown",
   "metadata": {},
   "source": [
    "%reset 用于清空 interactive 命名空间，并可选择是否清空输入和输出缓存。%xdel 用于从IPython系统中移除特定对象的一切引用。"
   ]
  },
  {
   "cell_type": "code",
   "execution_count": 14,
   "metadata": {},
   "outputs": [
    {
     "name": "stdout",
     "output_type": "stream",
     "text": [
      "Once deleted, variables cannot be recovered. Proceed (y/[n])? y\n"
     ]
    }
   ],
   "source": [
    "%reset"
   ]
  },
  {
   "cell_type": "code",
   "execution_count": 16,
   "metadata": {},
   "outputs": [
    {
     "ename": "NameError",
     "evalue": "name 'a' is not defined",
     "output_type": "error",
     "traceback": [
      "\u001b[1;31m---------------------------------------------------------------------------\u001b[0m",
      "\u001b[1;31mNameError\u001b[0m                                 Traceback (most recent call last)",
      "\u001b[1;32m<ipython-input-16-3f786850e387>\u001b[0m in \u001b[0;36m<module>\u001b[1;34m()\u001b[0m\n\u001b[1;32m----> 1\u001b[1;33m \u001b[0ma\u001b[0m\u001b[1;33m\u001b[0m\u001b[0m\n\u001b[0m",
      "\u001b[1;31mNameError\u001b[0m: name 'a' is not defined"
     ]
    }
   ],
   "source": [
    "a #由于上面已经清理了命名空间，所以python并不知道a是多少。"
   ]
  },
  {
   "cell_type": "markdown",
   "metadata": {},
   "source": [
    "**注意：**在处理大数据集时，需注意IPython的输入和输出历史，它会导致所有对象引用都无法被垃圾收集器处理（即释放内存），即使用del关键字将变量从interactive命名空间中删除也不行。对于这种情况，谨慎地使用%xdel和%reset将有助于避免出现内存方面的问题。"
   ]
  },
  {
   "cell_type": "markdown",
   "metadata": {},
   "source": [
    "#### 记录输入和输出\n",
    "\n",
    "IPython能够记录整个控制台会话，包括输入和输出。执行 %logstart 即可开始记录日志"
   ]
  },
  {
   "cell_type": "code",
   "execution_count": 17,
   "metadata": {},
   "outputs": [
    {
     "name": "stdout",
     "output_type": "stream",
     "text": [
      "Activating auto-logging. Current session state plus future input saved.\n",
      "Filename       : ipython_log.py\n",
      "Mode           : rotate\n",
      "Output logging : False\n",
      "Raw input log  : False\n",
      "Timestamping   : False\n",
      "State          : active\n"
     ]
    }
   ],
   "source": [
    "%logstart"
   ]
  },
  {
   "cell_type": "markdown",
   "metadata": {},
   "source": [
    "IPython的日志功能开在任何时刻开气，以便记录整个会话。%logstart的具体选项可以参考帮助文档。此外还可以看看几个与之配套的命令：%logoff, %logon, %logstate, 以及 %logstop"
   ]
  },
  {
   "cell_type": "code",
   "execution_count": 18,
   "metadata": {
    "collapsed": true
   },
   "outputs": [],
   "source": [
    "%logstart?"
   ]
  },
  {
   "cell_type": "markdown",
   "metadata": {},
   "source": [
    "### 与操作系统交互\n",
    "\n",
    "IPython 的另一重要特点就是它跟操作系统的shell结合地非常紧密。即我们可以直接在IPython中实现标准的Windows或unix命令行活动。例如，执行shell命令、更改目录、将命令的执行结果保存在Python对象中等。此外，它还提供了shell命令别名以及目录书签等功能。\n",
    "\n",
    "下表总结了用于调用shell命令的魔术命令及其语法。本笔记后面还会介绍这些功能。\n",
    "\n",
    "| 命令 | 说明|\n",
    "| ------------- | ------------- |\n",
    "| !cmd | 在系统shell中执行cmd |\n",
    "| output = !cmd args | 执行cmd，将stdout存放在output中|\n",
    "| %alias alias_name cmd | 为系统shell命令定义别名|\n",
    "| %bookmark | 使用IPtyhon的目录书签功能|\n",
    "| %cd directory | 将系统工作目录更改为directory|\n",
    "| %pwd | 返回当前工作目录 |\n",
    "| %pushed directory | 将当前目录入栈，并转向目标目录 (这个不懂？？)|\n",
    "| %popd | 弹出栈顶目录，并转向该目录 |\n",
    "| %dirs | 返回一个含有当前目录栈的列表 |\n",
    "| %dhist | 打印目录访问历史 |\n",
    "| %env | 以dict形式返回系统环境变量 |\n"
   ]
  },
  {
   "cell_type": "markdown",
   "metadata": {},
   "source": [
    "#### shell 命令和别名\n",
    "\n",
    "在 IPython 中，以感叹号开头的命令行表示其后的所有内容需要在系统shell中执行。In other words, 我们可以删除文件（如rm或者del）、修改目录或执行任意其他处理过程。甚至我们还可启动一些将控制权从IPython手中夺走的进程（比如另外再启动一个Python解释器）："
   ]
  },
  {
   "cell_type": "markdown",
   "metadata": {},
   "source": [
    "yang@comet-1.edu  ~ 19:17:51 >ipython\n",
    "Python 3.6.1 |Continuum Analytics, Inc.| (default, May 11 2017, 13:09:58)\n",
    "Type 'copyright', 'credits' or 'license' for more information\n",
    "IPython 6.1.0 -- An enhanced Interactive Python. Type '?' for help.\n",
    "\n",
    "In [1]:\n",
    "\n",
    "In [1]: !python\n",
    "Python 3.6.1 |Continuum Analytics, Inc.| (default, May 11 2017, 13:09:58)\n",
    "[GCC 4.4.7 20120313 (Red Hat 4.4.7-1)] on linux\n",
    "Type \"help\", \"copyright\", \"credits\" or \"license\" for more information.\n"
   ]
  },
  {
   "cell_type": "markdown",
   "metadata": {},
   "source": [
    "此外，还可将shell命令的控制台输出存放到变量中，只需要将 ！开头的表达式赋值给变量即可。例如在Linux中"
   ]
  },
  {
   "cell_type": "code",
   "execution_count": null,
   "metadata": {
    "collapsed": true
   },
   "outputs": [],
   "source": [
    "In [4]: my_current_dir = !pwd\n",
    "\n",
    "In [5]: my_current_dir\n",
    "Out[5]: ['/home/ywfang']"
   ]
  },
  {
   "cell_type": "code",
   "execution_count": null,
   "metadata": {
    "collapsed": true
   },
   "outputs": [],
   "source": [
    "返回的python对象my_current_dir实际上是一个含有控制台输出结果的自定义列表类型。"
   ]
  },
  {
   "cell_type": "markdown",
   "metadata": {},
   "source": [
    "在使用！时，IPython 还允许使用当前环境中定义的python值。只需在变量名前面加上美元符号（$）即可："
   ]
  },
  {
   "cell_type": "code",
   "execution_count": null,
   "metadata": {
    "collapsed": true
   },
   "outputs": [],
   "source": [
    "#在ipython shell中\n",
    "In [1]: foo = 'note*'\n",
    "\n",
    "In [2]: !ls $foo\n",
    "notebook.log"
   ]
  },
  {
   "cell_type": "markdown",
   "metadata": {},
   "source": [
    "魔术命令 %alias 可以为shell命令自定义简称。例：\n",
    "\n",
    "In [3]: %alias ll ls -l\n",
    "\n",
    "In [4]: ll\n",
    "total 426\n",
    "drwxr-xr-x 1 YWFANG 197609      0 9月  21 22:47 appendix-A\n",
    "-rw-r--r-- 1 YWFANG 197609  47204 10月  8 10:48 appendix-A-note.ipynb\n",
    "\n",
    "可以一次执行多条命令，只需要将她们写在一行并以分号隔开(在Windows中，这个可能不可行，但是Linux可以通过)\n",
    "\n",
    "In [3]: %alias test_fang (ls -l; cd ml; ls -l; cd ..)\n",
    "\n",
    "In [4]: test_fang\n",
    "total 211\n",
    "drwxr-xr-x  2 ywfang yun112     2 Aug 22 18:45 Desktop\n",
    "-rw-r--r--  1 ywfang yun112 11148 Jul  2 22:02 bashrc-fang-20170703\n",
    "drwxr-xr-x  9 ywfang yun112     9 Jul  7 01:45 glibc-2.14\n",
    "drwxr-xr-x  3 ywfang yun112     3 Jul  2 23:10 intel\n",
    "-rwxr-xr-x  1 ywfang yun112   645 Sep 19 04:51 jupter_notebook\n",
    "drwxr-xr-x  3 ywfang yun112     5 Jul  7 18:51 materials\n",
    "drwxr-xr-x 20 ywfang yun112    21 Aug 22 18:02 miniconda3\n",
    "drwxr-xr-x  3 ywfang yun112     3 Sep  4 18:39 ml\n",
    "-rw-r--r--  1 ywfang yun112   826 Sep 30 08:35 notebook.log\n",
    "drwxr-xr-x  3 ywfang yun112     4 Aug 22 18:21 pwwork\n",
    "drwxr-xr-x  6 ywfang yun112    14 Aug 22 19:04 software\n",
    "drwxr-xr-x  5 ywfang yun112     6 Sep  4 18:56 tensorflow\n",
    "drwxr-xr-x  5 ywfang yun112     6 Sep  4 18:53 tf1.2-py3.6\n",
    "drwxr-xr-x  5 ywfang yun112     6 Sep  4 18:54 tf12-py36\n",
    "drwxr-xr-x  6 ywfang yun112   518 Jun 20 01:33 tool\n",
    "total 1\n",
    "drwxr-xr-x 3 ywfang yun112 3 Sep  4 18:39 tensorflow\n",
    "\n",
    "注意，IPython会在会话结束时立即\"忘记\"我们前面所定义的一切别名。如果要进行永久性的别名设置，需要使用配置系统。之后会进行介绍。"
   ]
  },
  {
   "cell_type": "markdown",
   "metadata": {},
   "source": [
    "### 目录书签系统\n",
    "\n",
    "IPython 有一个简单的目录书签系统，它使我们能保存常用目录的别名以便方便地快速跳转。比如，作为一个狂热的dropbox用户，为了能够快速地转到dropbox目录，可以定义一个书签："
   ]
  },
  {
   "cell_type": "code",
   "execution_count": 11,
   "metadata": {
    "collapsed": true
   },
   "outputs": [],
   "source": [
    "%bookmark db D:\\PhDinECNU #windows中的写法；如果是Linux，应该为/d/PhDinECNU/\n",
    "%bookmark dt D:\\temp"
   ]
  },
  {
   "cell_type": "code",
   "execution_count": 9,
   "metadata": {},
   "outputs": [
    {
     "name": "stdout",
     "output_type": "stream",
     "text": [
      "(bookmark:db) -> D:\\PhDinECNU\n",
      "D:\\PhDinECNU\n"
     ]
    }
   ],
   "source": [
    "%cd db"
   ]
  },
  {
   "cell_type": "markdown",
   "metadata": {
    "collapsed": true
   },
   "source": [
    "定义好之后就可以在ipython shell(或jupyter notebook)中使用魔术命令%cd db来使用这些标签"
   ]
  },
  {
   "cell_type": "markdown",
   "metadata": {
    "collapsed": true
   },
   "source": [
    "如果书签的名字与当前工作目录中某个名字冲突时，可通过 -b 标记（起作用是覆写）使用书签目录。%bookmark的 -l 选项的作用是列出所有书签。"
   ]
  },
  {
   "cell_type": "code",
   "execution_count": 12,
   "metadata": {},
   "outputs": [
    {
     "name": "stdout",
     "output_type": "stream",
     "text": [
      "Current bookmarks:\n",
      "db -> D:\\PhDinECNU\n",
      "dt -> D:\\temp\n"
     ]
    }
   ],
   "source": [
    "%bookmark -l"
   ]
  },
  {
   "cell_type": "markdown",
   "metadata": {},
   "source": [
    "### 软件开发工具\n",
    "\n",
    "IPython 不仅是交互式环境和数据分析环境，同时也非常适合做开发环境。在数据分析应用程序中，最重要的是要拥有正确的代码。IPython继承了Python内置的 ** pdb ** 调试器。 此外，IPython 提供了一些简单易用的代码运行时间以及性能分析的工具。"
   ]
  },
  {
   "cell_type": "markdown",
   "metadata": {},
   "source": [
    "#### 交互式调试器\n",
    "\n",
    "IPython的调试器增加了 ** pdb **，如 Tab 键自动完成、语法高亮、为异常跟踪的每条信息添加上下文参考等。**调试代码的最佳时机之一就是错误刚发生的时候。** %debug 命令（在发生异常之后立即输入）将会条用那个“时候”调试器，并直接跳转到发生异常的那个** 栈帧 ** （stack frame）"
   ]
  },
  {
   "cell_type": "code",
   "execution_count": 13,
   "metadata": {},
   "outputs": [
    {
     "name": "stdout",
     "output_type": "stream",
     "text": [
      "Once deleted, variables cannot be recovered. Proceed (y/[n])? y\n"
     ]
    }
   ],
   "source": [
    "%reset"
   ]
  },
  {
   "cell_type": "code",
   "execution_count": 14,
   "metadata": {},
   "outputs": [
    {
     "name": "stdout",
     "output_type": "stream",
     "text": [
      "D:\\PhDinECNU\\readingnotes\\readingnotes\\machine-learning\\McKinney-pythonbook2013\n"
     ]
    }
   ],
   "source": [
    "%cd D:\\PhDinECNU\\readingnotes\\readingnotes\\machine-learning\\McKinney-pythonbook2013"
   ]
  },
  {
   "cell_type": "code",
   "execution_count": 15,
   "metadata": {},
   "outputs": [
    {
     "ename": "AssertionError",
     "evalue": "",
     "output_type": "error",
     "traceback": [
      "\u001b[1;31m---------------------------------------------------------------------------\u001b[0m",
      "\u001b[1;31mAssertionError\u001b[0m                            Traceback (most recent call last)",
      "\u001b[1;32mD:\\PhDinECNU\\readingnotes\\readingnotes\\machine-learning\\McKinney-pythonbook2013\\pydata-book\\ch03\\ipython_bug.py\u001b[0m in \u001b[0;36m<module>\u001b[1;34m()\u001b[0m\n\u001b[0;32m     13\u001b[0m     \u001b[0mthrows_an_exception\u001b[0m\u001b[1;33m(\u001b[0m\u001b[1;33m)\u001b[0m\u001b[1;33m\u001b[0m\u001b[0m\n\u001b[0;32m     14\u001b[0m \u001b[1;33m\u001b[0m\u001b[0m\n\u001b[1;32m---> 15\u001b[1;33m \u001b[0mcalling_things\u001b[0m\u001b[1;33m(\u001b[0m\u001b[1;33m)\u001b[0m\u001b[1;33m\u001b[0m\u001b[0m\n\u001b[0m",
      "\u001b[1;32mD:\\PhDinECNU\\readingnotes\\readingnotes\\machine-learning\\McKinney-pythonbook2013\\pydata-book\\ch03\\ipython_bug.py\u001b[0m in \u001b[0;36mcalling_things\u001b[1;34m()\u001b[0m\n\u001b[0;32m     11\u001b[0m \u001b[1;32mdef\u001b[0m \u001b[0mcalling_things\u001b[0m\u001b[1;33m(\u001b[0m\u001b[1;33m)\u001b[0m\u001b[1;33m:\u001b[0m\u001b[1;33m\u001b[0m\u001b[0m\n\u001b[0;32m     12\u001b[0m     \u001b[0mworks_fine\u001b[0m\u001b[1;33m(\u001b[0m\u001b[1;33m)\u001b[0m\u001b[1;33m\u001b[0m\u001b[0m\n\u001b[1;32m---> 13\u001b[1;33m     \u001b[0mthrows_an_exception\u001b[0m\u001b[1;33m(\u001b[0m\u001b[1;33m)\u001b[0m\u001b[1;33m\u001b[0m\u001b[0m\n\u001b[0m\u001b[0;32m     14\u001b[0m \u001b[1;33m\u001b[0m\u001b[0m\n\u001b[0;32m     15\u001b[0m \u001b[0mcalling_things\u001b[0m\u001b[1;33m(\u001b[0m\u001b[1;33m)\u001b[0m\u001b[1;33m\u001b[0m\u001b[0m\n",
      "\u001b[1;32mD:\\PhDinECNU\\readingnotes\\readingnotes\\machine-learning\\McKinney-pythonbook2013\\pydata-book\\ch03\\ipython_bug.py\u001b[0m in \u001b[0;36mthrows_an_exception\u001b[1;34m()\u001b[0m\n\u001b[0;32m      7\u001b[0m     \u001b[0ma\u001b[0m \u001b[1;33m=\u001b[0m \u001b[1;36m5\u001b[0m\u001b[1;33m\u001b[0m\u001b[0m\n\u001b[0;32m      8\u001b[0m     \u001b[0mb\u001b[0m \u001b[1;33m=\u001b[0m \u001b[1;36m6\u001b[0m\u001b[1;33m\u001b[0m\u001b[0m\n\u001b[1;32m----> 9\u001b[1;33m     \u001b[1;32massert\u001b[0m\u001b[1;33m(\u001b[0m\u001b[0ma\u001b[0m \u001b[1;33m+\u001b[0m \u001b[0mb\u001b[0m \u001b[1;33m==\u001b[0m \u001b[1;36m10\u001b[0m\u001b[1;33m)\u001b[0m\u001b[1;33m\u001b[0m\u001b[0m\n\u001b[0m\u001b[0;32m     10\u001b[0m \u001b[1;33m\u001b[0m\u001b[0m\n\u001b[0;32m     11\u001b[0m \u001b[1;32mdef\u001b[0m \u001b[0mcalling_things\u001b[0m\u001b[1;33m(\u001b[0m\u001b[1;33m)\u001b[0m\u001b[1;33m:\u001b[0m\u001b[1;33m\u001b[0m\u001b[0m\n",
      "\u001b[1;31mAssertionError\u001b[0m: "
     ]
    }
   ],
   "source": [
    "%run pydata-book/ch03/ipython_bug.py"
   ]
  },
  {
   "cell_type": "code",
   "execution_count": null,
   "metadata": {},
   "outputs": [
    {
     "name": "stdout",
     "output_type": "stream",
     "text": [
      "> \u001b[1;32md:\\phdinecnu\\readingnotes\\readingnotes\\machine-learning\\mckinney-pythonbook2013\\pydata-book\\ch03\\ipython_bug.py\u001b[0m(9)\u001b[0;36mthrows_an_exception\u001b[1;34m()\u001b[0m\n",
      "\u001b[1;32m      7 \u001b[1;33m    \u001b[0ma\u001b[0m \u001b[1;33m=\u001b[0m \u001b[1;36m5\u001b[0m\u001b[1;33m\u001b[0m\u001b[0m\n",
      "\u001b[0m\u001b[1;32m      8 \u001b[1;33m    \u001b[0mb\u001b[0m \u001b[1;33m=\u001b[0m \u001b[1;36m6\u001b[0m\u001b[1;33m\u001b[0m\u001b[0m\n",
      "\u001b[0m\u001b[1;32m----> 9 \u001b[1;33m    \u001b[1;32massert\u001b[0m\u001b[1;33m(\u001b[0m\u001b[0ma\u001b[0m \u001b[1;33m+\u001b[0m \u001b[0mb\u001b[0m \u001b[1;33m==\u001b[0m \u001b[1;36m10\u001b[0m\u001b[1;33m)\u001b[0m\u001b[1;33m\u001b[0m\u001b[0m\n",
      "\u001b[0m\u001b[1;32m     10 \u001b[1;33m\u001b[1;33m\u001b[0m\u001b[0m\n",
      "\u001b[0m\u001b[1;32m     11 \u001b[1;33m\u001b[1;32mdef\u001b[0m \u001b[0mcalling_things\u001b[0m\u001b[1;33m(\u001b[0m\u001b[1;33m)\u001b[0m\u001b[1;33m:\u001b[0m\u001b[1;33m\u001b[0m\u001b[0m\n",
      "\u001b[0m\n",
      "ipdb> u\n",
      "> \u001b[1;32md:\\phdinecnu\\readingnotes\\readingnotes\\machine-learning\\mckinney-pythonbook2013\\pydata-book\\ch03\\ipython_bug.py\u001b[0m(13)\u001b[0;36mcalling_things\u001b[1;34m()\u001b[0m\n",
      "\u001b[1;32m     11 \u001b[1;33m\u001b[1;32mdef\u001b[0m \u001b[0mcalling_things\u001b[0m\u001b[1;33m(\u001b[0m\u001b[1;33m)\u001b[0m\u001b[1;33m:\u001b[0m\u001b[1;33m\u001b[0m\u001b[0m\n",
      "\u001b[0m\u001b[1;32m     12 \u001b[1;33m    \u001b[0mworks_fine\u001b[0m\u001b[1;33m(\u001b[0m\u001b[1;33m)\u001b[0m\u001b[1;33m\u001b[0m\u001b[0m\n",
      "\u001b[0m\u001b[1;32m---> 13 \u001b[1;33m    \u001b[0mthrows_an_exception\u001b[0m\u001b[1;33m(\u001b[0m\u001b[1;33m)\u001b[0m\u001b[1;33m\u001b[0m\u001b[0m\n",
      "\u001b[0m\u001b[1;32m     14 \u001b[1;33m\u001b[1;33m\u001b[0m\u001b[0m\n",
      "\u001b[0m\u001b[1;32m     15 \u001b[1;33m\u001b[0mcalling_things\u001b[0m\u001b[1;33m(\u001b[0m\u001b[1;33m)\u001b[0m\u001b[1;33m\u001b[0m\u001b[0m\n",
      "\u001b[0m\n",
      "ipdb> d\n",
      "> \u001b[1;32md:\\phdinecnu\\readingnotes\\readingnotes\\machine-learning\\mckinney-pythonbook2013\\pydata-book\\ch03\\ipython_bug.py\u001b[0m(9)\u001b[0;36mthrows_an_exception\u001b[1;34m()\u001b[0m\n",
      "\u001b[1;32m      7 \u001b[1;33m    \u001b[0ma\u001b[0m \u001b[1;33m=\u001b[0m \u001b[1;36m5\u001b[0m\u001b[1;33m\u001b[0m\u001b[0m\n",
      "\u001b[0m\u001b[1;32m      8 \u001b[1;33m    \u001b[0mb\u001b[0m \u001b[1;33m=\u001b[0m \u001b[1;36m6\u001b[0m\u001b[1;33m\u001b[0m\u001b[0m\n",
      "\u001b[0m\u001b[1;32m----> 9 \u001b[1;33m    \u001b[1;32massert\u001b[0m\u001b[1;33m(\u001b[0m\u001b[0ma\u001b[0m \u001b[1;33m+\u001b[0m \u001b[0mb\u001b[0m \u001b[1;33m==\u001b[0m \u001b[1;36m10\u001b[0m\u001b[1;33m)\u001b[0m\u001b[1;33m\u001b[0m\u001b[0m\n",
      "\u001b[0m\u001b[1;32m     10 \u001b[1;33m\u001b[1;33m\u001b[0m\u001b[0m\n",
      "\u001b[0m\u001b[1;32m     11 \u001b[1;33m\u001b[1;32mdef\u001b[0m \u001b[0mcalling_things\u001b[0m\u001b[1;33m(\u001b[0m\u001b[1;33m)\u001b[0m\u001b[1;33m:\u001b[0m\u001b[1;33m\u001b[0m\u001b[0m\n",
      "\u001b[0m\n"
     ]
    }
   ],
   "source": [
    "%debug"
   ]
  },
  {
   "cell_type": "markdown",
   "metadata": {},
   "source": [
    "在这个 pdb 调试器中，我们可以执行任意Python 代码并查看各个栈帧中的一切对象和数据，这就相当于解释器还留了条后路给我们。默认是从最低级开始的，即错误发生的地方，在上面ipdb>后面输入u (up) 或者 d (down) 即可在栈跟踪的各级别之间进行切换。"
   ]
  },
  {
   "cell_type": "code",
   "execution_count": null,
   "metadata": {
    "collapsed": true
   },
   "outputs": [],
   "source": [
    "执行%pdb命令可以让IPython在出现异常之后直接调用调试器，很多人都认为这一功能很实用。"
   ]
  },
  {
   "cell_type": "markdown",
   "metadata": {},
   "source": [
    "此外调试器还能为代码开发提供帮助，尤其当我们想设置断点或者对函数/脚本进行单步调试时。实现这个目的的方式如下所述。\n",
    "\n",
    "用带有 -d 选项的 %run 命令，这将会在执行脚本文件中的代码之前先打开调试器。必须立即输入 s（或step）才能进入脚本："
   ]
  },
  {
   "cell_type": "code",
   "execution_count": null,
   "metadata": {},
   "outputs": [
    {
     "name": "stdout",
     "output_type": "stream",
     "text": [
      "Breakpoint 1 at d:\\phdinecnu\\readingnotes\\readingnotes\\machine-learning\\mckinney-pythonbook2013\\pydata-book\\ch03\\ipython_bug.py:1\n",
      "NOTE: Enter 'c' at the ipdb>  prompt to continue execution.\n",
      "> \u001b[1;32md:\\phdinecnu\\readingnotes\\readingnotes\\machine-learning\\mckinney-pythonbook2013\\pydata-book\\ch03\\ipython_bug.py\u001b[0m(1)\u001b[0;36m<module>\u001b[1;34m()\u001b[0m\n",
      "\u001b[1;31m1\u001b[1;32m---> 1 \u001b[1;33m\u001b[1;32mdef\u001b[0m \u001b[0mworks_fine\u001b[0m\u001b[1;33m(\u001b[0m\u001b[1;33m)\u001b[0m\u001b[1;33m:\u001b[0m\u001b[1;33m\u001b[0m\u001b[0m\n",
      "\u001b[0m\u001b[1;32m      2 \u001b[1;33m    \u001b[0ma\u001b[0m \u001b[1;33m=\u001b[0m \u001b[1;36m5\u001b[0m\u001b[1;33m\u001b[0m\u001b[0m\n",
      "\u001b[0m\u001b[1;32m      3 \u001b[1;33m    \u001b[0mb\u001b[0m \u001b[1;33m=\u001b[0m \u001b[1;36m6\u001b[0m\u001b[1;33m\u001b[0m\u001b[0m\n",
      "\u001b[0m\u001b[1;32m      4 \u001b[1;33m    \u001b[1;32massert\u001b[0m\u001b[1;33m(\u001b[0m\u001b[0ma\u001b[0m \u001b[1;33m+\u001b[0m \u001b[0mb\u001b[0m \u001b[1;33m==\u001b[0m \u001b[1;36m11\u001b[0m\u001b[1;33m)\u001b[0m\u001b[1;33m\u001b[0m\u001b[0m\n",
      "\u001b[0m\u001b[1;32m      5 \u001b[1;33m\u001b[1;33m\u001b[0m\u001b[0m\n",
      "\u001b[0m\n",
      "ipdb> s\n",
      "> \u001b[1;32md:\\phdinecnu\\readingnotes\\readingnotes\\machine-learning\\mckinney-pythonbook2013\\pydata-book\\ch03\\ipython_bug.py\u001b[0m(6)\u001b[0;36m<module>\u001b[1;34m()\u001b[0m\n",
      "\u001b[1;32m      4 \u001b[1;33m    \u001b[1;32massert\u001b[0m\u001b[1;33m(\u001b[0m\u001b[0ma\u001b[0m \u001b[1;33m+\u001b[0m \u001b[0mb\u001b[0m \u001b[1;33m==\u001b[0m \u001b[1;36m11\u001b[0m\u001b[1;33m)\u001b[0m\u001b[1;33m\u001b[0m\u001b[0m\n",
      "\u001b[0m\u001b[1;32m      5 \u001b[1;33m\u001b[1;33m\u001b[0m\u001b[0m\n",
      "\u001b[0m\u001b[1;32m----> 6 \u001b[1;33m\u001b[1;32mdef\u001b[0m \u001b[0mthrows_an_exception\u001b[0m\u001b[1;33m(\u001b[0m\u001b[1;33m)\u001b[0m\u001b[1;33m:\u001b[0m\u001b[1;33m\u001b[0m\u001b[0m\n",
      "\u001b[0m\u001b[1;32m      7 \u001b[1;33m    \u001b[0ma\u001b[0m \u001b[1;33m=\u001b[0m \u001b[1;36m5\u001b[0m\u001b[1;33m\u001b[0m\u001b[0m\n",
      "\u001b[0m\u001b[1;32m      8 \u001b[1;33m    \u001b[0mb\u001b[0m \u001b[1;33m=\u001b[0m \u001b[1;36m6\u001b[0m\u001b[1;33m\u001b[0m\u001b[0m\n",
      "\u001b[0m\n"
     ]
    }
   ],
   "source": [
    "%run -d ./pydata-book/ch03/ipython_bug.py"
   ]
  },
  {
   "cell_type": "markdown",
   "metadata": {},
   "source": [
    "在此之后，上述文件执行的方式就全凭我们自己说了算了。比如说，在上面那个异常中，我们可以在调用 works_fine 方法的地方设置一个断点，然后输入 c (或者 continue) 使脚本一直运行下去直到该断点时为止。"
   ]
  },
  {
   "cell_type": "code",
   "execution_count": null,
   "metadata": {},
   "outputs": [
    {
     "name": "stdout",
     "output_type": "stream",
     "text": [
      "Breakpoint 1 at d:\\phdinecnu\\readingnotes\\readingnotes\\machine-learning\\mckinney-pythonbook2013\\pydata-book\\ch03\\ipython_bug.py:1\n",
      "NOTE: Enter 'c' at the ipdb>  prompt to continue execution.\n",
      "> \u001b[1;32md:\\phdinecnu\\readingnotes\\readingnotes\\machine-learning\\mckinney-pythonbook2013\\pydata-book\\ch03\\ipython_bug.py\u001b[0m(1)\u001b[0;36m<module>\u001b[1;34m()\u001b[0m\n",
      "\u001b[1;31m1\u001b[1;32m---> 1 \u001b[1;33m\u001b[1;32mdef\u001b[0m \u001b[0mworks_fine\u001b[0m\u001b[1;33m(\u001b[0m\u001b[1;33m)\u001b[0m\u001b[1;33m:\u001b[0m\u001b[1;33m\u001b[0m\u001b[0m\n",
      "\u001b[0m\u001b[1;32m      2 \u001b[1;33m    \u001b[0ma\u001b[0m \u001b[1;33m=\u001b[0m \u001b[1;36m5\u001b[0m\u001b[1;33m\u001b[0m\u001b[0m\n",
      "\u001b[0m\u001b[1;32m      3 \u001b[1;33m    \u001b[0mb\u001b[0m \u001b[1;33m=\u001b[0m \u001b[1;36m6\u001b[0m\u001b[1;33m\u001b[0m\u001b[0m\n",
      "\u001b[0m\u001b[1;32m      4 \u001b[1;33m    \u001b[1;32massert\u001b[0m\u001b[1;33m(\u001b[0m\u001b[0ma\u001b[0m \u001b[1;33m+\u001b[0m \u001b[0mb\u001b[0m \u001b[1;33m==\u001b[0m \u001b[1;36m11\u001b[0m\u001b[1;33m)\u001b[0m\u001b[1;33m\u001b[0m\u001b[0m\n",
      "\u001b[0m\u001b[1;32m      5 \u001b[1;33m\u001b[1;33m\u001b[0m\u001b[0m\n",
      "\u001b[0m\n",
      "ipdb> s\n",
      "> \u001b[1;32md:\\phdinecnu\\readingnotes\\readingnotes\\machine-learning\\mckinney-pythonbook2013\\pydata-book\\ch03\\ipython_bug.py\u001b[0m(6)\u001b[0;36m<module>\u001b[1;34m()\u001b[0m\n",
      "\u001b[1;32m      4 \u001b[1;33m    \u001b[1;32massert\u001b[0m\u001b[1;33m(\u001b[0m\u001b[0ma\u001b[0m \u001b[1;33m+\u001b[0m \u001b[0mb\u001b[0m \u001b[1;33m==\u001b[0m \u001b[1;36m11\u001b[0m\u001b[1;33m)\u001b[0m\u001b[1;33m\u001b[0m\u001b[0m\n",
      "\u001b[0m\u001b[1;32m      5 \u001b[1;33m\u001b[1;33m\u001b[0m\u001b[0m\n",
      "\u001b[0m\u001b[1;32m----> 6 \u001b[1;33m\u001b[1;32mdef\u001b[0m \u001b[0mthrows_an_exception\u001b[0m\u001b[1;33m(\u001b[0m\u001b[1;33m)\u001b[0m\u001b[1;33m:\u001b[0m\u001b[1;33m\u001b[0m\u001b[0m\n",
      "\u001b[0m\u001b[1;32m      7 \u001b[1;33m    \u001b[0ma\u001b[0m \u001b[1;33m=\u001b[0m \u001b[1;36m5\u001b[0m\u001b[1;33m\u001b[0m\u001b[0m\n",
      "\u001b[0m\u001b[1;32m      8 \u001b[1;33m    \u001b[0mb\u001b[0m \u001b[1;33m=\u001b[0m \u001b[1;36m6\u001b[0m\u001b[1;33m\u001b[0m\u001b[0m\n",
      "\u001b[0m\n",
      "ipdb> b 12\n",
      "Breakpoint 2 at d:\\phdinecnu\\readingnotes\\readingnotes\\machine-learning\\mckinney-pythonbook2013\\pydata-book\\ch03\\ipython_bug.py:12\n",
      "ipdb> c\n",
      "> \u001b[1;32md:\\phdinecnu\\readingnotes\\readingnotes\\machine-learning\\mckinney-pythonbook2013\\pydata-book\\ch03\\ipython_bug.py\u001b[0m(12)\u001b[0;36mcalling_things\u001b[1;34m()\u001b[0m\n",
      "\u001b[1;32m     10 \u001b[1;33m\u001b[1;33m\u001b[0m\u001b[0m\n",
      "\u001b[0m\u001b[1;32m     11 \u001b[1;33m\u001b[1;32mdef\u001b[0m \u001b[0mcalling_things\u001b[0m\u001b[1;33m(\u001b[0m\u001b[1;33m)\u001b[0m\u001b[1;33m:\u001b[0m\u001b[1;33m\u001b[0m\u001b[0m\n",
      "\u001b[0m\u001b[1;31m2\u001b[1;32m--> 12 \u001b[1;33m    \u001b[0mworks_fine\u001b[0m\u001b[1;33m(\u001b[0m\u001b[1;33m)\u001b[0m\u001b[1;33m\u001b[0m\u001b[0m\n",
      "\u001b[0m\u001b[1;32m     13 \u001b[1;33m    \u001b[0mthrows_an_exception\u001b[0m\u001b[1;33m(\u001b[0m\u001b[1;33m)\u001b[0m\u001b[1;33m\u001b[0m\u001b[0m\n",
      "\u001b[0m\u001b[1;32m     14 \u001b[1;33m\u001b[1;33m\u001b[0m\u001b[0m\n",
      "\u001b[0m\n",
      "ipdb> n\n",
      "> \u001b[1;32md:\\phdinecnu\\readingnotes\\readingnotes\\machine-learning\\mckinney-pythonbook2013\\pydata-book\\ch03\\ipython_bug.py\u001b[0m(13)\u001b[0;36mcalling_things\u001b[1;34m()\u001b[0m\n",
      "\u001b[1;32m     11 \u001b[1;33m\u001b[1;32mdef\u001b[0m \u001b[0mcalling_things\u001b[0m\u001b[1;33m(\u001b[0m\u001b[1;33m)\u001b[0m\u001b[1;33m:\u001b[0m\u001b[1;33m\u001b[0m\u001b[0m\n",
      "\u001b[0m\u001b[1;31m2\u001b[1;32m    12 \u001b[1;33m    \u001b[0mworks_fine\u001b[0m\u001b[1;33m(\u001b[0m\u001b[1;33m)\u001b[0m\u001b[1;33m\u001b[0m\u001b[0m\n",
      "\u001b[0m\u001b[1;32m---> 13 \u001b[1;33m    \u001b[0mthrows_an_exception\u001b[0m\u001b[1;33m(\u001b[0m\u001b[1;33m)\u001b[0m\u001b[1;33m\u001b[0m\u001b[0m\n",
      "\u001b[0m\u001b[1;32m     14 \u001b[1;33m\u001b[1;33m\u001b[0m\u001b[0m\n",
      "\u001b[0m\u001b[1;32m     15 \u001b[1;33m\u001b[0mcalling_things\u001b[0m\u001b[1;33m(\u001b[0m\u001b[1;33m)\u001b[0m\u001b[1;33m\u001b[0m\u001b[0m\n",
      "\u001b[0m\n",
      "ipdb> s\n",
      "--Call--\n",
      "> \u001b[1;32md:\\phdinecnu\\readingnotes\\readingnotes\\machine-learning\\mckinney-pythonbook2013\\pydata-book\\ch03\\ipython_bug.py\u001b[0m(6)\u001b[0;36mthrows_an_exception\u001b[1;34m()\u001b[0m\n",
      "\u001b[1;32m      4 \u001b[1;33m    \u001b[1;32massert\u001b[0m\u001b[1;33m(\u001b[0m\u001b[0ma\u001b[0m \u001b[1;33m+\u001b[0m \u001b[0mb\u001b[0m \u001b[1;33m==\u001b[0m \u001b[1;36m11\u001b[0m\u001b[1;33m)\u001b[0m\u001b[1;33m\u001b[0m\u001b[0m\n",
      "\u001b[0m\u001b[1;32m      5 \u001b[1;33m\u001b[1;33m\u001b[0m\u001b[0m\n",
      "\u001b[0m\u001b[1;32m----> 6 \u001b[1;33m\u001b[1;32mdef\u001b[0m \u001b[0mthrows_an_exception\u001b[0m\u001b[1;33m(\u001b[0m\u001b[1;33m)\u001b[0m\u001b[1;33m:\u001b[0m\u001b[1;33m\u001b[0m\u001b[0m\n",
      "\u001b[0m\u001b[1;32m      7 \u001b[1;33m    \u001b[0ma\u001b[0m \u001b[1;33m=\u001b[0m \u001b[1;36m5\u001b[0m\u001b[1;33m\u001b[0m\u001b[0m\n",
      "\u001b[0m\u001b[1;32m      8 \u001b[1;33m    \u001b[0mb\u001b[0m \u001b[1;33m=\u001b[0m \u001b[1;36m6\u001b[0m\u001b[1;33m\u001b[0m\u001b[0m\n",
      "\u001b[0m\n",
      "ipdb> n\n",
      "> \u001b[1;32md:\\phdinecnu\\readingnotes\\readingnotes\\machine-learning\\mckinney-pythonbook2013\\pydata-book\\ch03\\ipython_bug.py\u001b[0m(7)\u001b[0;36mthrows_an_exception\u001b[1;34m()\u001b[0m\n",
      "\u001b[1;32m      5 \u001b[1;33m\u001b[1;33m\u001b[0m\u001b[0m\n",
      "\u001b[0m\u001b[1;32m      6 \u001b[1;33m\u001b[1;32mdef\u001b[0m \u001b[0mthrows_an_exception\u001b[0m\u001b[1;33m(\u001b[0m\u001b[1;33m)\u001b[0m\u001b[1;33m:\u001b[0m\u001b[1;33m\u001b[0m\u001b[0m\n",
      "\u001b[0m\u001b[1;32m----> 7 \u001b[1;33m    \u001b[0ma\u001b[0m \u001b[1;33m=\u001b[0m \u001b[1;36m5\u001b[0m\u001b[1;33m\u001b[0m\u001b[0m\n",
      "\u001b[0m\u001b[1;32m      8 \u001b[1;33m    \u001b[0mb\u001b[0m \u001b[1;33m=\u001b[0m \u001b[1;36m6\u001b[0m\u001b[1;33m\u001b[0m\u001b[0m\n",
      "\u001b[0m\u001b[1;32m      9 \u001b[1;33m    \u001b[1;32massert\u001b[0m\u001b[1;33m(\u001b[0m\u001b[0ma\u001b[0m \u001b[1;33m+\u001b[0m \u001b[0mb\u001b[0m \u001b[1;33m==\u001b[0m \u001b[1;36m10\u001b[0m\u001b[1;33m)\u001b[0m\u001b[1;33m\u001b[0m\u001b[0m\n",
      "\u001b[0m\n",
      "ipdb> n\n",
      "> \u001b[1;32md:\\phdinecnu\\readingnotes\\readingnotes\\machine-learning\\mckinney-pythonbook2013\\pydata-book\\ch03\\ipython_bug.py\u001b[0m(8)\u001b[0;36mthrows_an_exception\u001b[1;34m()\u001b[0m\n",
      "\u001b[1;32m      6 \u001b[1;33m\u001b[1;32mdef\u001b[0m \u001b[0mthrows_an_exception\u001b[0m\u001b[1;33m(\u001b[0m\u001b[1;33m)\u001b[0m\u001b[1;33m:\u001b[0m\u001b[1;33m\u001b[0m\u001b[0m\n",
      "\u001b[0m\u001b[1;32m      7 \u001b[1;33m    \u001b[0ma\u001b[0m \u001b[1;33m=\u001b[0m \u001b[1;36m5\u001b[0m\u001b[1;33m\u001b[0m\u001b[0m\n",
      "\u001b[0m\u001b[1;32m----> 8 \u001b[1;33m    \u001b[0mb\u001b[0m \u001b[1;33m=\u001b[0m \u001b[1;36m6\u001b[0m\u001b[1;33m\u001b[0m\u001b[0m\n",
      "\u001b[0m\u001b[1;32m      9 \u001b[1;33m    \u001b[1;32massert\u001b[0m\u001b[1;33m(\u001b[0m\u001b[0ma\u001b[0m \u001b[1;33m+\u001b[0m \u001b[0mb\u001b[0m \u001b[1;33m==\u001b[0m \u001b[1;36m10\u001b[0m\u001b[1;33m)\u001b[0m\u001b[1;33m\u001b[0m\u001b[0m\n",
      "\u001b[0m\u001b[1;32m     10 \u001b[1;33m\u001b[1;33m\u001b[0m\u001b[0m\n",
      "\u001b[0m\n",
      "ipdb> n\n",
      "> \u001b[1;32md:\\phdinecnu\\readingnotes\\readingnotes\\machine-learning\\mckinney-pythonbook2013\\pydata-book\\ch03\\ipython_bug.py\u001b[0m(9)\u001b[0;36mthrows_an_exception\u001b[1;34m()\u001b[0m\n",
      "\u001b[1;32m      7 \u001b[1;33m    \u001b[0ma\u001b[0m \u001b[1;33m=\u001b[0m \u001b[1;36m5\u001b[0m\u001b[1;33m\u001b[0m\u001b[0m\n",
      "\u001b[0m\u001b[1;32m      8 \u001b[1;33m    \u001b[0mb\u001b[0m \u001b[1;33m=\u001b[0m \u001b[1;36m6\u001b[0m\u001b[1;33m\u001b[0m\u001b[0m\n",
      "\u001b[0m\u001b[1;32m----> 9 \u001b[1;33m    \u001b[1;32massert\u001b[0m\u001b[1;33m(\u001b[0m\u001b[0ma\u001b[0m \u001b[1;33m+\u001b[0m \u001b[0mb\u001b[0m \u001b[1;33m==\u001b[0m \u001b[1;36m10\u001b[0m\u001b[1;33m)\u001b[0m\u001b[1;33m\u001b[0m\u001b[0m\n",
      "\u001b[0m\u001b[1;32m     10 \u001b[1;33m\u001b[1;33m\u001b[0m\u001b[0m\n",
      "\u001b[0m\u001b[1;32m     11 \u001b[1;33m\u001b[1;32mdef\u001b[0m \u001b[0mcalling_things\u001b[0m\u001b[1;33m(\u001b[0m\u001b[1;33m)\u001b[0m\u001b[1;33m:\u001b[0m\u001b[1;33m\u001b[0m\u001b[0m\n",
      "\u001b[0m\n",
      "ipdb> !a\n",
      "5\n",
      "ipdb> !b\n",
      "6\n"
     ]
    }
   ],
   "source": [
    "%run -d ./pydata-book/ch03/ipython_bug.py"
   ]
  },
  {
   "cell_type": "markdown",
   "metadata": {
    "collapsed": true
   },
   "source": [
    "** 如果想精通这个调试器，必须经过大量的实践。**\n",
    "\n",
    "虽然大部分 IDE 都会自带调试器，但是 IPython 中调试程序的方法往往会带来更高的生产率。\n",
    "\n",
    "下面是常用的 IPython 调试器命令\n",
    "\n",
    "|命令 | 功能 |\n",
    "|------| ------|\n",
    "| h(elp) | 显示命令列表 |\n",
    "| help *command* | 显示 *command* 的文档 |\n",
    "| c(ontinue) | 恢复程序的执行 |\n",
    "| q(uit) | 推出调试器，不再执行任何代码 |\n",
    "| b(reak) *number* | 在当前文件的第 *number* 行设置一个断点 |\n",
    "| b path/to/file.py:*number* | 在制定文件的第 *numbe* 行设置一个断点 |\n",
    "| s(tep) | 单步进入函数调用 |\n",
    "| n(ext) | 执行当前行，并前进到当前级别的下一行 |\n",
    "| u(p)/d(own) | 在函数调用栈中向上或者向下移动 |\n",
    "| a(rgs) | 显示当前函数的参数 |\n",
    "| debug *statement* | 在新的（递归）调试其中调用语句 *statement* |\n",
    "| l(ist) *statement* | 显示当前行，以及当前栈级别上的上下文参考代码 |\n",
    "| w(here) | 打印当前位置的完整栈跟踪 （包括上下文参考代码） |"
   ]
  },
  {
   "cell_type": "markdown",
   "metadata": {},
   "source": [
    "#### 调试器的其他使用场景\n",
    "\n",
    "第一，使用 set_trace 这个特别的函数（以 pdb.set_trace 命名），这差不多可算作一种 “穷人的断点”（意思是这种断点方式很随便，是硬编码的）。下面这两个方法可能会在我们的日常工作中排上用场（我们也可像作者一样直接将其加入IPython配置中）："
   ]
  },
  {
   "cell_type": "raw",
   "metadata": {
    "collapsed": true
   },
   "source": [
    "def set_trace():\n",
    "    from IPython.core.debugger import Pdb\n",
    "    Pdb(color_scheme='Linux').set_trace(sys._getframe().f_back)\n",
    "    \n",
    "def debug(f, *args, **kwargs):\n",
    "    from IPython.core.debugger import Pdb\n",
    "    pdb = Pdb(color_scheme = 'Linux')\n",
    "    return pdb.runcall(f. *args, **kwargs)"
   ]
  },
  {
   "cell_type": "markdown",
   "metadata": {},
   "source": [
    "第一个函数 set_trace 很简单。我们可以将其放在代码中任何希望停下来查看一番的地方，尤其是那些发生异常的地方："
   ]
  },
  {
   "cell_type": "code",
   "execution_count": null,
   "metadata": {
    "collapsed": true
   },
   "outputs": [],
   "source": [
    "%run ./pydata-book/ch03/ipython_bug.py"
   ]
  },
  {
   "cell_type": "code",
   "execution_count": null,
   "metadata": {},
   "outputs": [
    {
     "name": "stdout",
     "output_type": "stream",
     "text": [
      "> \u001b[1;32md:\\phdinecnu\\readingnotes\\readingnotes\\machine-learning\\mckinney-pythonbook2013\\pydata-book\\ch03\\ipython_bug.py\u001b[0m(9)\u001b[0;36mthrows_an_exception\u001b[1;34m()\u001b[0m\n",
      "\u001b[1;32m      7 \u001b[1;33m    \u001b[0ma\u001b[0m \u001b[1;33m=\u001b[0m \u001b[1;36m5\u001b[0m\u001b[1;33m\u001b[0m\u001b[0m\n",
      "\u001b[0m\u001b[1;32m      8 \u001b[1;33m    \u001b[0mb\u001b[0m \u001b[1;33m=\u001b[0m \u001b[1;36m6\u001b[0m\u001b[1;33m\u001b[0m\u001b[0m\n",
      "\u001b[0m\u001b[1;32m----> 9 \u001b[1;33m    \u001b[1;32massert\u001b[0m\u001b[1;33m(\u001b[0m\u001b[0ma\u001b[0m \u001b[1;33m+\u001b[0m \u001b[0mb\u001b[0m \u001b[1;33m==\u001b[0m \u001b[1;36m10\u001b[0m\u001b[1;33m)\u001b[0m\u001b[1;33m\u001b[0m\u001b[0m\n",
      "\u001b[0m\u001b[1;32m     10 \u001b[1;33m\u001b[1;33m\u001b[0m\u001b[0m\n",
      "\u001b[0m\u001b[1;32m     11 \u001b[1;33m\u001b[1;32mdef\u001b[0m \u001b[0mcalling_things\u001b[0m\u001b[1;33m(\u001b[0m\u001b[1;33m)\u001b[0m\u001b[1;33m:\u001b[0m\u001b[1;33m\u001b[0m\u001b[0m\n",
      "\u001b[0m\n"
     ]
    }
   ],
   "source": [
    "%debug"
   ]
  },
  {
   "cell_type": "markdown",
   "metadata": {},
   "source": [
    "#### 测试代码执行的时间： %time 和 %timeit\n",
    "\n",
    "对于大规模数据分析，我们有时候需要对时间有个规划和预测。特别是对于其中最耗时的函数。IPython中可以轻松应对这种情况。\n",
    "\n",
    "使用内置的 time 模块，以及 time.clock 和 time.time 函数 手工测试代码执行时间是令人烦闷的事情，因为我们必须编写许多一样的公式化代码："
   ]
  },
  {
   "cell_type": "code",
   "execution_count": null,
   "metadata": {
    "collapsed": true
   },
   "outputs": [],
   "source": [
    "import time\n",
    "start = time.time()\n",
    "for i in range(iterations):\n",
    "    #to do something\n",
    "    elapsed_per = (time.time() - start ) / iterations"
   ]
  },
  {
   "cell_type": "code",
   "execution_count": 8,
   "metadata": {
    "collapsed": true
   },
   "outputs": [],
   "source": []
  },
  {
   "cell_type": "markdown",
   "metadata": {},
   "source": [
    "由于这是一个非常常用的功能，所以IPython提供了两个魔术工具 %time 和 %timeit 来自动完成该过程。%time 一次执行一条语句，然后报告总的执行时间。假设我们有一大堆字符串，希望对几个“能选出具有特殊前缀的字符串”的函数进行比较。下面是一个拥有60万字字符串的数组，以及两个不同的“能够选出其中以foo开头的字符串”的方法："
   ]
  },
  {
   "cell_type": "code",
   "execution_count": 9,
   "metadata": {
    "collapsed": true
   },
   "outputs": [],
   "source": [
    "# a huge string array \n",
    "\n",
    "strings = ['foo', 'foobar', 'baz', 'qux', 'python', 'God']*100000\n",
    "\n",
    "method1 = [x for x in strings if x.startswith('foo')]\n",
    "\n",
    "method2 = [x for x in strings if x[:3]=='foo']\n",
    "\n",
    "#These two methos look almost same, but their performances are different.\n",
    "\n",
    "# See below, I use %time to calculate the excutable time."
   ]
  },
  {
   "cell_type": "code",
   "execution_count": 10,
   "metadata": {},
   "outputs": [
    {
     "name": "stdout",
     "output_type": "stream",
     "text": [
      "Wall time: 134 ms\n"
     ]
    }
   ],
   "source": [
    "%time method1 = [x for x in strings if x.startswith('foo')]"
   ]
  },
  {
   "cell_type": "code",
   "execution_count": 11,
   "metadata": {},
   "outputs": [
    {
     "name": "stdout",
     "output_type": "stream",
     "text": [
      "Wall time: 71.5 ms\n"
     ]
    }
   ],
   "source": [
    "%time method2 = [x for x in strings if x[:3]=='foo']"
   ]
  },
  {
   "cell_type": "markdown",
   "metadata": {},
   "source": [
    " Wall time是我们感兴趣的数字。所以，看上去第一个方法耗费了接近2倍的时间，但是这并非一个非常精确的结果。如果我们队相同语句多次执行%time的话，就会发现其结果是变化的。为了得到更加精确的结果，我们需要使用魔术函数 %timeit。对于任意语句，它会自动多次执行以产生一个非常精确的平均执行时间"
   ]
  },
  {
   "cell_type": "code",
   "execution_count": 12,
   "metadata": {},
   "outputs": [
    {
     "name": "stdout",
     "output_type": "stream",
     "text": [
      "107 ms ± 1.36 ms per loop (mean ± std. dev. of 7 runs, 10 loops each)\n"
     ]
    }
   ],
   "source": [
    "%timeit method = [ x for x in strings if x.startswith('foo')]\n"
   ]
  },
  {
   "cell_type": "code",
   "execution_count": 13,
   "metadata": {},
   "outputs": [
    {
     "name": "stdout",
     "output_type": "stream",
     "text": [
      "41.3 ms ± 555 µs per loop (mean ± std. dev. of 7 runs, 10 loops each)\n"
     ]
    }
   ],
   "source": [
    "%timeit method = [x for x in strings if x[:0]=='foo']"
   ]
  },
  {
   "cell_type": "markdown",
   "metadata": {},
   "source": [
    "这个很平淡无奇的离子告诉我们这样一个道理：我们有必要了解Python标准库、Numpy、Pandas 以及 本书所用其他库的性能特点。在大型数据分析中，这些不起眼的毫秒数会不断累积产生蝴蝶效应。\n",
    "\n",
    "对于那些执行时间非常短（甚至是微妙 1e-6 s；或者 纳秒 1e-9 s）的分析语句和函数而言，%timeit 是非常有用的。虽然对于单次执行而言，这些时间小到几乎可以忽略不计。但是我们只要举一个例子，就会发现我们很有必要“分秒必争”：\n",
    "\n",
    "同样执行100万次一个20微妙的函数，所化时间要比一个5微妙的多出15秒。\n",
    "\n",
    "在上面我运行的那个例子中，我们可以直接对两个字符串运算进行比较，以了解其性能特点："
   ]
  },
  {
   "cell_type": "code",
   "execution_count": 1,
   "metadata": {
    "collapsed": true
   },
   "outputs": [],
   "source": [
    "x = 'foobar'\n",
    "\n",
    "y = 'foo'\n"
   ]
  },
  {
   "cell_type": "code",
   "execution_count": 2,
   "metadata": {},
   "outputs": [
    {
     "name": "stdout",
     "output_type": "stream",
     "text": [
      "273 ns ± 13.8 ns per loop (mean ± std. dev. of 7 runs, 1000000 loops each)\n"
     ]
    }
   ],
   "source": [
    "\n",
    "%timeit x.startswith(y)"
   ]
  },
  {
   "cell_type": "code",
   "execution_count": 3,
   "metadata": {},
   "outputs": [
    {
     "name": "stdout",
     "output_type": "stream",
     "text": [
      "220 ns ± 23.7 ns per loop (mean ± std. dev. of 7 runs, 1000000 loops each)\n"
     ]
    }
   ],
   "source": [
    "%timeit x[:3]==y"
   ]
  },
  {
   "cell_type": "markdown",
   "metadata": {},
   "source": [
    "#### 基本性能分析: %run 和 %run -p"
   ]
  },
  {
   "cell_type": "markdown",
   "metadata": {
    "collapsed": true
   },
   "source": [
    "代码的性能分析跟代码执行时间密切关联，只是它关注的是耗费时间的位置。Python中，cProfile模块主要用来分析代码性能，它并非转为python设计。cProfile在执行一个程序代码或代码块时，会记录各函数所耗费的时间。\n",
    "\n",
    "cProfile一般是在命令行上使用的，它将执行整个程序然后输出各个函数的执行时间。\n",
    "\n",
    "下面，我们就给出了一个简单的例子：在一个循环中执行一些线性代数运算（即计算一个100 * 100 的矩阵的最大本征值绝对值）"
   ]
  },
  {
   "cell_type": "code",
   "execution_count": 4,
   "metadata": {
    "scrolled": true
   },
   "outputs": [
    {
     "name": "stdout",
     "output_type": "stream",
     "text": [
      "Largest one we saw: 12.3044734631\n"
     ]
    }
   ],
   "source": [
    "import numpy as np\n",
    "from numpy.linalg import eigvals\n",
    "\n",
    "def run_experiment(niter = 100):\n",
    "    K = 100\n",
    "    results = []\n",
    "    for _ in range(niter):\n",
    "        mat = np.random.randn(K,K)\n",
    "        max_eigenvalue = np.abs(eigvals(mat)).max()\n",
    "        results.append(max_eigenvalue)\n",
    "    return results\n",
    "some_results = run_experiment()\n",
    "print('Largest one we saw: %s' %(np.max(some_results)))"
   ]
  },
  {
   "cell_type": "markdown",
   "metadata": {},
   "source": [
    "我们将上述脚本内容写入 simple03.py (目录为当前目录下的chapter03目录中），并且执行"
   ]
  },
  {
   "cell_type": "code",
   "execution_count": 1,
   "metadata": {},
   "outputs": [
    {
     "name": "stdout",
     "output_type": "stream",
     "text": [
      "Largest one we saw: 11.5103409616\n",
      "         53468 function calls (51355 primitive calls) in 1.069 seconds\n",
      "\n",
      "   Ordered by: standard name\n",
      "\n",
      "   ncalls  tottime  percall  cumtime  percall filename:lineno(function)\n",
      "      325    0.001    0.000    0.002    0.000 <frozen importlib._bootstrap>:103(release)\n",
      "      149    0.000    0.000    0.000    0.000 <frozen importlib._bootstrap>:143(__init__)\n",
      "      149    0.001    0.000    0.005    0.000 <frozen importlib._bootstrap>:147(__enter__)\n",
      "      149    0.000    0.000    0.001    0.000 <frozen importlib._bootstrap>:151(__exit__)\n",
      "      325    0.002    0.000    0.004    0.000 <frozen importlib._bootstrap>:157(_get_module_lock)\n",
      "      147    0.001    0.000    0.002    0.000 <frozen importlib._bootstrap>:176(cb)\n",
      "      176    0.001    0.000    0.004    0.000 <frozen importlib._bootstrap>:194(_lock_unlock_module)\n",
      "    200/1    0.001    0.000    0.308    0.308 <frozen importlib._bootstrap>:211(_call_with_frames_removed)\n",
      "     1373    0.002    0.000    0.002    0.000 <frozen importlib._bootstrap>:222(_verbose_message)\n",
      "       11    0.000    0.000    0.000    0.000 <frozen importlib._bootstrap>:232(_requires_builtin_wrapper)\n",
      "      139    0.000    0.000    0.000    0.000 <frozen importlib._bootstrap>:307(__init__)\n",
      "      139    0.000    0.000    0.000    0.000 <frozen importlib._bootstrap>:311(__enter__)\n",
      "      139    0.001    0.000    0.003    0.000 <frozen importlib._bootstrap>:318(__exit__)\n",
      "      556    0.001    0.000    0.001    0.000 <frozen importlib._bootstrap>:321(<genexpr>)\n",
      "      118    0.000    0.000    0.000    0.000 <frozen importlib._bootstrap>:35(_new_module)\n",
      "      148    0.000    0.000    0.000    0.000 <frozen importlib._bootstrap>:369(__init__)\n",
      "      246    0.001    0.000    0.006    0.000 <frozen importlib._bootstrap>:403(cached)\n",
      "      317    0.001    0.000    0.001    0.000 <frozen importlib._bootstrap>:416(parent)\n",
      "      139    0.000    0.000    0.000    0.000 <frozen importlib._bootstrap>:424(has_location)\n",
      "       11    0.000    0.000    0.000    0.000 <frozen importlib._bootstrap>:433(spec_from_loader)\n",
      "      139    0.002    0.000    0.011    0.000 <frozen importlib._bootstrap>:504(_init_module_attrs)\n",
      "  139/137    0.001    0.000    0.033    0.000 <frozen importlib._bootstrap>:564(module_from_spec)\n",
      "      147    0.001    0.000    0.002    0.000 <frozen importlib._bootstrap>:58(__init__)\n",
      "    139/1    0.002    0.000    0.308    0.308 <frozen importlib._bootstrap>:651(_load_unlocked)\n",
      "      144    0.000    0.000    0.001    0.000 <frozen importlib._bootstrap>:707(find_spec)\n",
      "       11    0.000    0.000    0.001    0.000 <frozen importlib._bootstrap>:728(create_module)\n",
      "       11    0.000    0.000    0.000    0.000 <frozen importlib._bootstrap>:736(exec_module)\n",
      "       11    0.000    0.000    0.000    0.000 <frozen importlib._bootstrap>:753(is_package)\n",
      "      325    0.002    0.000    0.002    0.000 <frozen importlib._bootstrap>:78(acquire)\n",
      "      133    0.000    0.000    0.001    0.000 <frozen importlib._bootstrap>:780(find_spec)\n",
      "      410    0.001    0.000    0.001    0.000 <frozen importlib._bootstrap>:843(__enter__)\n",
      "      410    0.001    0.000    0.001    0.000 <frozen importlib._bootstrap>:847(__exit__)\n",
      "      144    0.003    0.000    0.101    0.001 <frozen importlib._bootstrap>:870(_find_spec)\n",
      "    149/1    0.001    0.000    0.311    0.311 <frozen importlib._bootstrap>:936(_find_and_load_unlocked)\n",
      "    149/1    0.003    0.000    0.311    0.311 <frozen importlib._bootstrap>:966(_find_and_load)\n",
      "   770/29    0.003    0.000    0.298    0.010 <frozen importlib._bootstrap>:997(_handle_fromlist)\n",
      "       15    0.002    0.000    0.005    0.000 <frozen importlib._bootstrap_external>:1067(_path_hooks)\n",
      "      303    0.001    0.000    0.005    0.000 <frozen importlib._bootstrap_external>:1080(_path_importer_cache)\n",
      "        4    0.000    0.000    0.000    0.000 <frozen importlib._bootstrap_external>:1102(_legacy_get_spec)\n",
      "      133    0.002    0.000    0.094    0.001 <frozen importlib._bootstrap_external>:1117(_get_spec)\n",
      "      133    0.000    0.000    0.094    0.001 <frozen importlib._bootstrap_external>:1149(find_spec)\n",
      "       15    0.000    0.000    0.001    0.000 <frozen importlib._bootstrap_external>:1196(__init__)\n",
      "      120    0.000    0.000    0.000    0.000 <frozen importlib._bootstrap_external>:1202(<genexpr>)\n",
      "      128    0.001    0.000    0.002    0.000 <frozen importlib._bootstrap_external>:1228(_get_spec)\n",
      "      259    0.007    0.000    0.085    0.000 <frozen importlib._bootstrap_external>:1233(find_spec)\n",
      "       15    0.001    0.000    0.004    0.000 <frozen importlib._bootstrap_external>:1281(_fill_cache)\n",
      "       15    0.000    0.000    0.000    0.000 <frozen importlib._bootstrap_external>:1310(<setcomp>)\n",
      "       15    0.000    0.000    0.002    0.000 <frozen importlib._bootstrap_external>:1322(path_hook_for_FileFinder)\n",
      "      236    0.003    0.000    0.009    0.000 <frozen importlib._bootstrap_external>:263(cache_from_source)\n",
      "      128    0.001    0.000    0.006    0.000 <frozen importlib._bootstrap_external>:361(_get_cached)\n",
      "      259    0.000    0.000    0.000    0.000 <frozen importlib._bootstrap_external>:37(_relax_case)\n",
      "      118    0.000    0.000    0.001    0.000 <frozen importlib._bootstrap_external>:393(_check_name_wrapper)\n",
      "      118    0.002    0.000    0.004    0.000 <frozen importlib._bootstrap_external>:430(_validate_bytecode_header)\n",
      "      118    0.001    0.000    0.020    0.000 <frozen importlib._bootstrap_external>:485(_compile_bytecode)\n",
      "      236    0.001    0.000    0.001    0.000 <frozen importlib._bootstrap_external>:52(_r_long)\n",
      "      128    0.001    0.000    0.002    0.000 <frozen importlib._bootstrap_external>:524(spec_from_file_location)\n",
      "     1274    0.005    0.000    0.015    0.000 <frozen importlib._bootstrap_external>:57(_path_join)\n",
      "     1274    0.005    0.000    0.008    0.000 <frozen importlib._bootstrap_external>:59(<listcomp>)\n",
      "      236    0.001    0.000    0.002    0.000 <frozen importlib._bootstrap_external>:63(_path_split)\n",
      "      118    0.000    0.000    0.000    0.000 <frozen importlib._bootstrap_external>:669(create_module)\n",
      "    118/1    0.001    0.000    0.308    0.308 <frozen importlib._bootstrap_external>:672(exec_module)\n",
      "      118    0.002    0.000    0.072    0.001 <frozen importlib._bootstrap_external>:743(get_code)\n",
      "      550    0.002    0.000    0.074    0.000 <frozen importlib._bootstrap_external>:75(_path_stat)\n",
      "      118    0.000    0.000    0.000    0.000 <frozen importlib._bootstrap_external>:800(__init__)\n",
      "      118    0.000    0.000    0.000    0.000 <frozen importlib._bootstrap_external>:825(get_filename)\n",
      "      118    0.017    0.000    0.024    0.000 <frozen importlib._bootstrap_external>:830(get_data)\n",
      "      118    0.000    0.000    0.017    0.000 <frozen importlib._bootstrap_external>:840(path_stats)\n",
      "      173    0.001    0.000    0.024    0.000 <frozen importlib._bootstrap_external>:85(_path_is_mode_type)\n",
      "       10    0.000    0.000    0.000    0.000 <frozen importlib._bootstrap_external>:908(__init__)\n",
      "       10    0.000    0.000    0.020    0.002 <frozen importlib._bootstrap_external>:919(create_module)\n",
      "       10    0.000    0.000    0.000    0.000 <frozen importlib._bootstrap_external>:927(exec_module)\n",
      "      158    0.000    0.000    0.023    0.000 <frozen importlib._bootstrap_external>:94(_path_isfile)\n",
      "       15    0.000    0.000    0.002    0.000 <frozen importlib._bootstrap_external>:99(_path_isdir)\n",
      "        1    0.000    0.000    0.000    0.000 <string>:1(<module>)\n",
      "        1    0.000    0.000    0.000    0.000 <string>:5(DefragResult)\n",
      "        1    0.000    0.000    0.000    0.000 <string>:5(Match)\n",
      "        1    0.000    0.000    0.000    0.000 <string>:5(Mismatch)\n",
      "        1    0.000    0.000    0.000    0.000 <string>:5(ParseResult)\n",
      "        1    0.000    0.000    0.000    0.000 <string>:5(SplitResult)\n",
      "        1    0.000    0.000    0.000    0.000 <string>:5(TokenInfo)\n",
      "        1    0.000    0.000    0.000    0.000 <string>:5(_LoggingWatcher)\n",
      "        1    0.000    0.000    0.000    0.000 <string>:5(usage)\n",
      "        1    0.000    0.000    0.000    0.000 __config__.py:3(<module>)\n",
      "        1    0.000    0.000    0.000    0.000 __future__.py:48(<module>)\n",
      "        1    0.000    0.000    0.000    0.000 __future__.py:78(_Feature)\n",
      "        9    0.000    0.000    0.000    0.000 __future__.py:79(__init__)\n",
      "        5    0.001    0.000    0.429    0.086 __init__.py:1(<module>)\n",
      "        1    0.000    0.000    0.017    0.017 __init__.py:10(<module>)\n",
      "        1    0.000    0.000    0.000    0.000 __init__.py:1008(FileHandler)\n",
      "        1    0.000    0.000    0.308    0.308 __init__.py:106(<module>)\n",
      "        1    0.000    0.000    0.000    0.000 __init__.py:1077(_StderrHandler)\n",
      "        1    0.000    0.000    0.000    0.000 __init__.py:1083(__init__)\n",
      "        1    0.000    0.000    0.000    0.000 __init__.py:1101(PlaceHolder)\n",
      "        1    0.000    0.000    0.000    0.000 __init__.py:1143(Manager)\n",
      "        1    0.000    0.000    0.000    0.000 __init__.py:1148(__init__)\n",
      "        1    0.000    0.000    0.000    0.000 __init__.py:1251(Logger)\n",
      "        1    0.000    0.000    0.000    0.000 __init__.py:1266(__init__)\n",
      "       14    0.000    0.000    0.000    0.000 __init__.py:139(_check_size)\n",
      "        1    0.000    0.000    0.015    0.015 __init__.py:15(<module>)\n",
      "        1    0.000    0.000    0.000    0.000 __init__.py:151(py_object)\n",
      "        1    0.000    0.000    0.000    0.000 __init__.py:1574(RootLogger)\n",
      "        1    0.000    0.000    0.000    0.000 __init__.py:1580(__init__)\n",
      "        1    0.000    0.000    0.000    0.000 __init__.py:1588(LoggerAdapter)\n",
      "        1    0.000    0.000    0.000    0.000 __init__.py:160(c_short)\n",
      "        1    0.000    0.000    0.000    0.000 __init__.py:164(c_ushort)\n",
      "        1    0.000    0.000    0.000    0.000 __init__.py:168(c_long)\n",
      "        1    0.000    0.000    0.000    0.000 __init__.py:172(c_ulong)\n",
      "        1    0.000    0.000    0.000    0.000 __init__.py:189(c_float)\n",
      "        2    0.000    0.000    0.000    0.000 __init__.py:190(_checkLevel)\n",
      "        1    0.000    0.000    0.000    0.000 __init__.py:193(c_double)\n",
      "        1    0.000    0.000    0.000    0.000 __init__.py:1960(NullHandler)\n",
      "        1    0.000    0.000    0.000    0.000 __init__.py:197(c_longdouble)\n",
      "        1    0.000    0.000    0.000    0.000 __init__.py:207(c_longlong)\n",
      "        1    0.000    0.000    0.000    0.000 __init__.py:211(c_ulonglong)\n",
      "        1    0.000    0.000    0.000    0.000 __init__.py:218(c_ubyte)\n",
      "        1    0.000    0.000    0.000    0.000 __init__.py:219(_acquireLock)\n",
      "        1    0.000    0.000    0.000    0.000 __init__.py:225(c_byte)\n",
      "        1    0.000    0.000    0.000    0.000 __init__.py:228(_releaseLock)\n",
      "        1    0.000    0.000    0.000    0.000 __init__.py:230(c_char)\n",
      "        1    0.000    0.000    0.000    0.000 __init__.py:235(c_char_p)\n",
      "        1    0.000    0.000    0.000    0.000 __init__.py:239(LogRecord)\n",
      "        1    0.000    0.000    0.012    0.012 __init__.py:24(<module>)\n",
      "        1    0.000    0.000    0.000    0.000 __init__.py:241(c_void_p)\n",
      "        1    0.000    0.000    0.000    0.000 __init__.py:246(c_bool)\n",
      "        1    0.000    0.000    0.000    0.000 __init__.py:251(c_wchar_p)\n",
      "        1    0.000    0.000    0.000    0.000 __init__.py:256(c_wchar)\n",
      "        1    0.000    0.000    0.000    0.000 __init__.py:259(_reset_cache)\n",
      "        1    0.000    0.000    0.004    0.004 __init__.py:3(<module>)\n",
      "        1    0.000    0.000    0.000    0.000 __init__.py:311(CDLL)\n",
      "        2    0.000    0.000    0.000    0.000 __init__.py:332(__init__)\n",
      "        2    0.000    0.000    0.000    0.000 __init__.py:342(_FuncPtr)\n",
      "        8    0.000    0.000    0.006    0.001 __init__.py:357(namedtuple)\n",
      "        1    0.000    0.000    0.000    0.000 __init__.py:358(__getattr__)\n",
      "        1    0.000    0.000    0.000    0.000 __init__.py:365(__getitem__)\n",
      "        1    0.000    0.000    0.000    0.000 __init__.py:371(PyDLL)\n",
      "        1    0.000    0.000    0.000    0.000 __init__.py:378(PercentStyle)\n",
      "        1    0.000    0.000    0.000    0.000 __init__.py:380(WinDLL)\n",
      "        1    0.000    0.000    0.000    0.000 __init__.py:384(__init__)\n",
      "        1    0.000    0.000    0.000    0.000 __init__.py:389(HRESULT)\n",
      "        1    0.000    0.000    0.000    0.000 __init__.py:393(StrFormatStyle)\n",
      "        1    0.000    0.000    0.000    0.000 __init__.py:402(OleDLL)\n",
      "        1    0.000    0.000    0.000    0.000 __init__.py:402(StringTemplateStyle)\n",
      "        1    0.000    0.000    0.012    0.012 __init__.py:41(<module>)\n",
      "        1    0.000    0.000    0.000    0.000 __init__.py:411(LibraryLoader)\n",
      "        4    0.000    0.000    0.000    0.000 __init__.py:412(__init__)\n",
      "        1    0.000    0.000    0.000    0.000 __init__.py:415(__getattr__)\n",
      "       37    0.000    0.000    0.000    0.000 __init__.py:420(<genexpr>)\n",
      "       37    0.000    0.000    0.000    0.000 __init__.py:422(<genexpr>)\n",
      "        1    0.000    0.000    0.000    0.000 __init__.py:426(Formatter)\n",
      "        2    0.000    0.000    0.062    0.031 __init__.py:45(<module>)\n",
      "        1    0.000    0.000    0.000    0.000 __init__.py:470(__init__)\n",
      "        3    0.000    0.000    0.000    0.000 __init__.py:476(PYFUNCTYPE)\n",
      "        3    0.000    0.000    0.000    0.000 __init__.py:477(CFunctionType)\n",
      "        1    0.000    0.000    0.000    0.000 __init__.py:599(BufferingFormatter)\n",
      "        1    0.000    0.000    0.000    0.000 __init__.py:641(Filter)\n",
      "        1    0.000    0.000    0.000    0.000 __init__.py:678(Filterer)\n",
      "        2    0.000    0.000    0.000    0.000 __init__.py:683(__init__)\n",
      "        1    0.000    0.000    0.099    0.099 __init__.py:7(<module>)\n",
      "        3    0.000    0.000    0.000    0.000 __init__.py:73(CFUNCTYPE)\n",
      "        1    0.000    0.000    0.000    0.000 __init__.py:750(_addHandlerRef)\n",
      "        1    0.000    0.000    0.000    0.000 __init__.py:760(Handler)\n",
      "        1    0.000    0.000    0.000    0.000 __init__.py:769(__init__)\n",
      "        1    0.000    0.000    0.000    0.000 __init__.py:798(createLock)\n",
      "        1    0.000    0.000    0.006    0.006 __init__.py:88(<module>)\n",
      "        1    0.000    0.000    0.000    0.000 __init__.py:949(StreamHandler)\n",
      "        3    0.000    0.000    0.000    0.000 __init__.py:99(CFunctionType)\n",
      "        1    0.000    0.000    0.000    0.000 _collections_abc.py:657(get)\n",
      "        2    0.000    0.000    0.000    0.000 _collections_abc.py:664(__contains__)\n",
      "       43    0.000    0.000    0.000    0.000 _compat_pickle.py:165(<genexpr>)\n",
      "       86    0.000    0.000    0.000    0.000 _compat_pickle.py:167(<genexpr>)\n",
      "        1    0.000    0.000    0.001    0.001 _compat_pickle.py:9(<module>)\n",
      "        1    0.000    0.000    0.000    0.000 _compression.py:1(<module>)\n",
      "        1    0.000    0.000    0.000    0.000 _compression.py:33(DecompressReader)\n",
      "        1    0.000    0.000    0.000    0.000 _compression.py:9(BaseStream)\n",
      "        1    0.000    0.000    0.000    0.000 _datasource.py:154(DataSource)\n",
      "        1    0.000    0.000    0.000    0.000 _datasource.py:35(<module>)\n",
      "        1    0.000    0.000    0.000    0.000 _datasource.py:50(_FileOpeners)\n",
      "        1    0.000    0.000    0.000    0.000 _datasource.py:504(Repository)\n",
      "        1    0.000    0.000    0.000    0.000 _datasource.py:74(__init__)\n",
      "        1    0.000    0.000    0.000    0.000 _distributor_init.py:10(<module>)\n",
      "        1    0.000    0.000    0.000    0.000 _endian.py:1(<module>)\n",
      "        1    0.000    0.000    0.000    0.000 _endian.py:23(_swapped_meta)\n",
      "        1    0.000    0.000    0.000    0.000 _endian.py:46(BigEndianStructure)\n",
      "        1    0.000    0.000    0.000    0.000 _globals.py:17(<module>)\n",
      "        1    0.000    0.000    0.000    0.000 _globals.py:33(ModuleDeprecationWarning)\n",
      "        1    0.000    0.000    0.000    0.000 _globals.py:45(VisibleDeprecationWarning)\n",
      "        1    0.000    0.000    0.000    0.000 _globals.py:56(_NoValue)\n",
      "        1    0.000    0.000    0.000    0.000 _import_tools.py:1(<module>)\n",
      "        1    0.000    0.000    0.000    0.000 _import_tools.py:340(PackageLoaderDebug)\n",
      "        1    0.000    0.000    0.000    0.000 _import_tools.py:9(PackageLoader)\n",
      "       98    0.000    0.000    0.000    0.000 _inspect.py:133(strseq)\n",
      "       38    0.001    0.000    0.001    0.000 _inspect.py:142(formatargspec)\n",
      "        7    0.000    0.000    0.000    0.000 _inspect.py:144(<lambda>)\n",
      "        5    0.000    0.000    0.000    0.000 _inspect.py:145(<lambda>)\n",
      "       60    0.000    0.000    0.000    0.000 _inspect.py:146(<lambda>)\n",
      "       43    0.000    0.000    0.000    0.000 _inspect.py:15(ismethod)\n",
      "       43    0.000    0.000    0.000    0.000 _inspect.py:28(isfunction)\n",
      "       38    0.000    0.000    0.000    0.000 _inspect.py:43(iscode)\n",
      "       38    0.000    0.000    0.000    0.000 _inspect.py:67(getargs)\n",
      "        1    0.000    0.000    0.000    0.000 _inspect.py:7(<module>)\n",
      "       43    0.000    0.000    0.001    0.000 _inspect.py:98(getargspec)\n",
      "        1    0.000    0.000    0.000    0.000 _internal.py:200(dummy_ctype)\n",
      "        1    0.000    0.000    0.000    0.000 _internal.py:210(_getintp_ctype)\n",
      "        1    0.000    0.000    0.000    0.000 _internal.py:233(_missing_ctypes)\n",
      "        1    0.000    0.000    0.000    0.000 _internal.py:240(_ctypes)\n",
      "        1    0.000    0.000    0.037    0.037 _internal.py:6(<module>)\n",
      "        1    0.000    0.000    0.000    0.000 _internal.py:671(TooHardError)\n",
      "        1    0.000    0.000    0.000    0.000 _internal.py:674(AxisError)\n",
      "       51    0.000    0.000    0.001    0.000 _internal.py:703(_ufunc_doc_signature_formatter)\n",
      "       78    0.000    0.000    0.000    0.000 _internal.py:714(<genexpr>)\n",
      "        1    0.000    0.000    0.000    0.000 _iotools.py:155(LineSplitter)\n",
      "        1    0.000    0.000    0.000    0.000 _iotools.py:251(NameValidator)\n",
      "        1    0.000    0.000    0.000    0.000 _iotools.py:3(<module>)\n",
      "        1    0.000    0.000    0.000    0.000 _iotools.py:445(ConverterError)\n",
      "        1    0.000    0.000    0.000    0.000 _iotools.py:453(ConverterLockError)\n",
      "        1    0.000    0.000    0.000    0.000 _iotools.py:461(ConversionWarning)\n",
      "        1    0.000    0.000    0.000    0.000 _iotools.py:474(StringConverter)\n",
      "      101    0.000    0.000    0.001    0.000 _methods.py:25(_amax)\n",
      "      200    0.001    0.000    0.003    0.000 _methods.py:40(_all)\n",
      "        1    0.000    0.000    0.000    0.000 _methods.py:5(<module>)\n",
      "        1    0.000    0.000    0.000    0.000 _polybase.py:19(ABCPolyBase)\n",
      "        1    0.000    0.000    0.000    0.000 _polybase.py:8(<module>)\n",
      "        1    0.000    0.000    0.000    0.000 _version.py:18(NumpyVersion)\n",
      "        1    0.000    0.000    0.000    0.000 _version.py:7(<module>)\n",
      "       11    0.000    0.000    0.000    0.000 _weakrefset.py:16(__init__)\n",
      "       11    0.000    0.000    0.000    0.000 _weakrefset.py:20(__enter__)\n",
      "       11    0.000    0.000    0.000    0.000 _weakrefset.py:26(__exit__)\n",
      "       40    0.000    0.000    0.000    0.000 _weakrefset.py:36(__init__)\n",
      "       11    0.000    0.000    0.000    0.000 _weakrefset.py:52(_commit_removals)\n",
      "       19    0.000    0.000    0.000    0.000 _weakrefset.py:58(__iter__)\n",
      "       15    0.000    0.000    0.000    0.000 _weakrefset.py:70(__contains__)\n",
      "       19    0.000    0.000    0.000    0.000 _weakrefset.py:81(add)\n",
      "       10    0.000    0.000    0.001    0.000 abc.py:132(__new__)\n",
      "       10    0.000    0.000    0.000    0.000 abc.py:135(<setcomp>)\n",
      "        7    0.000    0.000    0.001    0.000 abc.py:151(register)\n",
      "     12/7    0.000    0.000    0.001    0.000 abc.py:194(__subclasscheck__)\n",
      "       54    0.000    0.000    0.000    0.000 abc.py:9(abstractmethod)\n",
      "        1    0.001    0.001    0.241    0.241 add_newdocs.py:10(<module>)\n",
      "        1    0.000    0.000    0.000    0.000 argparse.py:1005(_HelpAction)\n",
      "        1    0.000    0.000    0.000    0.000 argparse.py:1024(_VersionAction)\n",
      "        1    0.000    0.000    0.000    0.000 argparse.py:1050(_SubParsersAction)\n",
      "        1    0.000    0.000    0.000    0.000 argparse.py:1052(_ChoicesPseudoAction)\n",
      "        1    0.000    0.000    0.000    0.000 argparse.py:109(_AttributeHolder)\n",
      "        1    0.000    0.000    0.000    0.000 argparse.py:1146(FileType)\n",
      "        1    0.000    0.000    0.000    0.000 argparse.py:1200(Namespace)\n",
      "        1    0.000    0.000    0.000    0.000 argparse.py:1220(_ActionsContainer)\n",
      "        1    0.000    0.000    0.000    0.000 argparse.py:150(HelpFormatter)\n",
      "        1    0.000    0.000    0.000    0.000 argparse.py:1527(_ArgumentGroup)\n",
      "        1    0.000    0.000    0.000    0.000 argparse.py:1561(_MutuallyExclusiveGroup)\n",
      "        1    0.000    0.000    0.000    0.000 argparse.py:1581(ArgumentParser)\n",
      "        1    0.000    0.000    0.000    0.000 argparse.py:200(_Section)\n",
      "        1    0.000    0.000    0.001    0.001 argparse.py:62(<module>)\n",
      "        1    0.000    0.000    0.000    0.000 argparse.py:637(RawDescriptionHelpFormatter)\n",
      "        1    0.000    0.000    0.000    0.000 argparse.py:648(RawTextHelpFormatter)\n",
      "        1    0.000    0.000    0.000    0.000 argparse.py:659(ArgumentDefaultsHelpFormatter)\n",
      "        1    0.000    0.000    0.000    0.000 argparse.py:676(MetavarTypeHelpFormatter)\n",
      "        1    0.000    0.000    0.000    0.000 argparse.py:709(ArgumentError)\n",
      "        1    0.000    0.000    0.000    0.000 argparse.py:729(ArgumentTypeError)\n",
      "        1    0.000    0.000    0.000    0.000 argparse.py:738(Action)\n",
      "        1    0.000    0.000    0.000    0.000 argparse.py:829(_StoreAction)\n",
      "        1    0.000    0.000    0.000    0.000 argparse.py:864(_StoreConstAction)\n",
      "        1    0.000    0.000    0.000    0.000 argparse.py:887(_StoreTrueAction)\n",
      "        1    0.000    0.000    0.000    0.000 argparse.py:904(_StoreFalseAction)\n",
      "        1    0.000    0.000    0.000    0.000 argparse.py:921(_AppendAction)\n",
      "        1    0.000    0.000    0.000    0.000 argparse.py:958(_AppendConstAction)\n",
      "        1    0.000    0.000    0.000    0.000 argparse.py:984(_CountAction)\n",
      "        1    0.000    0.000    0.000    0.000 arraypad.py:5(<module>)\n",
      "        1    0.000    0.000    0.000    0.000 arrayprint.py:368(_recursive_guard)\n",
      "        1    0.000    0.000    0.000    0.000 arrayprint.py:378(decorating_function)\n",
      "        1    0.000    0.000    0.004    0.004 arrayprint.py:5(<module>)\n",
      "        1    0.000    0.000    0.000    0.000 arrayprint.py:602(FloatFormat)\n",
      "        1    0.000    0.000    0.000    0.000 arrayprint.py:711(IntegerFormat)\n",
      "        1    0.000    0.000    0.000    0.000 arrayprint.py:731(LongFloatFormat)\n",
      "        1    0.000    0.000    0.000    0.000 arrayprint.py:761(LongComplexFormat)\n",
      "        1    0.000    0.000    0.000    0.000 arrayprint.py:772(ComplexFormat)\n",
      "        1    0.000    0.000    0.000    0.000 arrayprint.py:789(DatetimeFormat)\n",
      "        1    0.000    0.000    0.000    0.000 arrayprint.py:810(TimedeltaFormat)\n",
      "        1    0.000    0.000    0.000    0.000 arrayprint.py:837(SubArrayFormat)\n",
      "        1    0.000    0.000    0.000    0.000 arrayprint.py:847(StructureFormat)\n",
      "        1    0.000    0.000    0.000    0.000 arraysetops.py:27(<module>)\n",
      "        1    0.000    0.000    0.000    0.000 arrayterator.py:20(Arrayterator)\n",
      "        1    0.000    0.000    0.000    0.000 arrayterator.py:9(<module>)\n",
      "        1    0.000    0.000    0.000    0.000 ast.py:229(NodeVisitor)\n",
      "        1    0.000    0.000    0.000    0.000 ast.py:26(<module>)\n",
      "        1    0.000    0.000    0.000    0.000 ast.py:266(NodeTransformer)\n",
      "        1    0.000    0.000    0.000    0.000 bisect.py:1(<module>)\n",
      "        1    0.000    0.000    0.000    0.000 bz2.py:32(BZ2File)\n",
      "        1    0.000    0.000    0.004    0.004 bz2.py:5(<module>)\n",
      "        1    0.000    0.000    0.021    0.021 case.py:1(<module>)\n",
      "        1    0.000    0.000    0.000    0.000 case.py:128(_BaseTestCaseContext)\n",
      "       10    0.000    0.000    0.000    0.000 case.py:1315(_deprecate)\n",
      "        1    0.000    0.000    0.000    0.000 case.py:1337(FunctionTestCase)\n",
      "        1    0.000    0.000    0.000    0.000 case.py:137(_AssertRaisesBaseContext)\n",
      "        1    0.000    0.000    0.000    0.000 case.py:1395(_SubTest)\n",
      "        1    0.000    0.000    0.000    0.000 case.py:184(_AssertRaisesContext)\n",
      "        1    0.000    0.000    0.000    0.000 case.py:221(_AssertWarnsContext)\n",
      "        1    0.000    0.000    0.000    0.000 case.py:25(SkipTest)\n",
      "        1    0.000    0.000    0.000    0.000 case.py:278(_CapturingHandler)\n",
      "        1    0.000    0.000    0.000    0.000 case.py:297(_AssertLogsContext)\n",
      "        1    0.000    0.000    0.000    0.000 case.py:33(_ShouldStop)\n",
      "        1    0.000    0.000    0.000    0.000 case.py:341(TestCase)\n",
      "        1    0.000    0.000    0.000    0.000 case.py:38(_UnexpectedSuccess)\n",
      "        1    0.000    0.000    0.000    0.000 case.py:44(_Outcome)\n",
      "        1    0.000    0.000    0.000    0.000 chebyshev.py:2036(Chebyshev)\n",
      "        1    0.000    0.000    0.000    0.000 chebyshev.py:87(<module>)\n",
      "        6    0.000    0.000    0.000    0.000 contextlib.py:129(contextmanager)\n",
      "        1    0.000    0.000    0.000    0.000 copyreg.py:12(pickle)\n",
      "        1    0.000    0.000    0.000    0.000 copyreg.py:22(constructor)\n",
      "        1    0.000    0.000    0.000    0.000 core.py:1001(_MaskedBinaryOperation)\n",
      "       18    0.000    0.000    0.001    0.000 core.py:1021(__init__)\n",
      "        1    0.000    0.000    0.000    0.000 core.py:1153(_DomainedBinaryOperation)\n",
      "        6    0.000    0.000    0.000    0.000 core.py:1174(__init__)\n",
      "        4    0.000    0.000    0.000    0.000 core.py:124(doc_note)\n",
      "       43    0.000    0.000    0.002    0.000 core.py:143(get_object_signature)\n",
      "        1    0.000    0.000    0.000    0.000 core.py:160(MAError)\n",
      "        1    0.000    0.000    0.000    0.000 core.py:168(MaskError)\n",
      "        1    0.000    0.000    0.000    0.000 core.py:200(<listcomp>)\n",
      "        1    0.000    0.000    0.000    0.000 core.py:202(<listcomp>)\n",
      "        1    0.000    0.000    0.006    0.006 core.py:21(<module>)\n",
      "        1    0.000    0.000    0.000    0.000 core.py:2400(_MaskedPrintOption)\n",
      "        1    0.000    0.000    0.000    0.000 core.py:2406(__init__)\n",
      "        9    0.000    0.000    0.000    0.000 core.py:2569(_arraymethod)\n",
      "        1    0.000    0.000    0.000    0.000 core.py:2617(MaskedIterator)\n",
      "        1    0.000    0.000    0.000    0.000 core.py:2731(MaskedArray)\n",
      "        1    0.000    0.000    0.000    0.000 core.py:6046(mvoid)\n",
      "        1    0.000    0.000    0.000    0.000 core.py:6248(MaskedConstant)\n",
      "        1    0.000    0.000    0.000    0.000 core.py:6255(__new__)\n",
      "        1    0.000    0.000    0.000    0.000 core.py:6258(__array_finalize__)\n",
      "        1    0.000    0.000    0.000    0.000 core.py:6361(_extrema_operation)\n",
      "        2    0.000    0.000    0.000    0.000 core.py:6370(__init__)\n",
      "        1    0.000    0.000    0.000    0.000 core.py:6482(_frommethod)\n",
      "       26    0.000    0.000    0.002    0.000 core.py:6493(__init__)\n",
      "       26    0.000    0.000    0.002    0.000 core.py:6498(getdoc)\n",
      "        1    0.000    0.000    0.000    0.000 core.py:7960(_convert2ma)\n",
      "        8    0.000    0.000    0.000    0.000 core.py:7973(__init__)\n",
      "        8    0.000    0.000    0.000    0.000 core.py:7978(getdoc)\n",
      "        1    0.000    0.000    0.000    0.000 core.py:826(_DomainCheckInterval)\n",
      "        3    0.000    0.000    0.000    0.000 core.py:835(__init__)\n",
      "        1    0.000    0.000    0.000    0.000 core.py:851(_DomainTan)\n",
      "        1    0.000    0.000    0.000    0.000 core.py:859(__init__)\n",
      "        1    0.000    0.000    0.000    0.000 core.py:869(_DomainSafeDivide)\n",
      "        6    0.000    0.000    0.000    0.000 core.py:875(__init__)\n",
      "        1    0.000    0.000    0.000    0.000 core.py:890(_DomainGreater)\n",
      "        3    0.000    0.000    0.000    0.000 core.py:896(__init__)\n",
      "        1    0.000    0.000    0.000    0.000 core.py:906(_DomainGreaterEqual)\n",
      "        2    0.000    0.000    0.000    0.000 core.py:912(__init__)\n",
      "        1    0.000    0.000    0.000    0.000 core.py:922(_MaskedUnaryOperation)\n",
      "        1    0.000    0.000    0.000    0.000 core.py:93(MaskedArrayFutureWarning)\n",
      "       27    0.000    0.000    0.001    0.000 core.py:940(__init__)\n",
      "        1    0.000    0.000    0.000    0.000 ctypeslib.py:177(_ndptr)\n",
      "       12    0.000    0.000    0.000    0.000 ctypeslib.py:330(prep_simple)\n",
      "        1    0.000    0.000    0.000    0.000 ctypeslib.py:51(<module>)\n",
      "        1    0.000    0.000    0.000    0.000 datetime.py:1023(time)\n",
      "        2    0.000    0.000    0.000    0.000 datetime.py:1048(__new__)\n",
      "        1    0.000    0.000    0.000    0.000 datetime.py:1360(datetime)\n",
      "        3    0.000    0.000    0.000    0.000 datetime.py:1368(__new__)\n",
      "        1    0.000    0.000    0.000    0.000 datetime.py:1949(timezone)\n",
      "        3    0.000    0.000    0.000    0.000 datetime.py:1972(_create)\n",
      "       35    0.000    0.000    0.000    0.000 datetime.py:261(_check_int_field)\n",
      "        5    0.000    0.000    0.000    0.000 datetime.py:278(_check_date_fields)\n",
      "        5    0.000    0.000    0.000    0.000 datetime.py:291(_check_time_fields)\n",
      "        5    0.000    0.000    0.000    0.000 datetime.py:308(_check_tzinfo_arg)\n",
      "        1    0.000    0.000    0.000    0.000 datetime.py:336(timedelta)\n",
      "        9    0.000    0.000    0.001    0.000 datetime.py:355(__new__)\n",
      "        3    0.000    0.000    0.000    0.000 datetime.py:40(_days_before_year)\n",
      "        5    0.000    0.000    0.000    0.000 datetime.py:45(_days_in_month)\n",
      "        1    0.000    0.000    0.002    0.002 datetime.py:5(<module>)\n",
      "        1    0.000    0.000    0.000    0.000 datetime.py:530(__neg__)\n",
      "        1    0.000    0.000    0.000    0.000 datetime.py:658(date)\n",
      "        2    0.000    0.000    0.000    0.000 datetime.py:688(__new__)\n",
      "        1    0.000    0.000    0.000    0.000 datetime.py:953(tzinfo)\n",
      "        1    0.000    0.000    0.038    0.038 decorators.py:15(<module>)\n",
      "        1    0.000    0.000    0.000    0.000 defchararray.py:1669(chararray)\n",
      "        1    0.000    0.000    0.000    0.000 defchararray.py:17(<module>)\n",
      "        1    0.000    0.000    0.002    0.002 defmatrix.py:1(<module>)\n",
      "        1    0.000    0.000    0.000    0.000 defmatrix.py:174(matrix)\n",
      "        1    0.000    0.000    0.000    0.000 difflib.py:1703(HtmlDiff)\n",
      "        1    0.000    0.000    0.002    0.002 difflib.py:27(<module>)\n",
      "        1    0.000    0.000    0.000    0.000 difflib.py:43(SequenceMatcher)\n",
      "        1    0.000    0.000    0.000    0.000 difflib.py:751(Differ)\n",
      "        1    0.000    0.000    0.000    0.000 einsumfunc.py:4(<module>)\n",
      "        2    0.000    0.000    0.000    0.000 enum.py:114(__prepare__)\n",
      "        2    0.000    0.000    0.001    0.000 enum.py:124(__new__)\n",
      "        2    0.000    0.000    0.000    0.000 enum.py:135(<dictcomp>)\n",
      "        2    0.000    0.000    0.000    0.000 enum.py:160(<setcomp>)\n",
      "        6    0.000    0.000    0.000    0.000 enum.py:179(<genexpr>)\n",
      "       11    0.000    0.000    0.000    0.000 enum.py:20(_is_descriptor)\n",
      "      682    0.002    0.000    0.005    0.000 enum.py:265(__call__)\n",
      "       15    0.000    0.000    0.000    0.000 enum.py:28(_is_dunder)\n",
      "        2    0.000    0.000    0.000    0.000 enum.py:310(__getattr__)\n",
      "        2    0.000    0.000    0.000    0.000 enum.py:335(__members__)\n",
      "       25    0.000    0.000    0.000    0.000 enum.py:351(__setattr__)\n",
      "       15    0.000    0.000    0.000    0.000 enum.py:36(_is_sunder)\n",
      "        2    0.000    0.000    0.002    0.001 enum.py:364(_create_)\n",
      "        6    0.000    0.000    0.000    0.000 enum.py:417(_get_mixins_)\n",
      "        2    0.000    0.000    0.000    0.000 enum.py:462(_find_new_)\n",
      "      680    0.001    0.000    0.002    0.000 enum.py:515(__new__)\n",
      "       51    0.000    0.000    0.000    0.000 enum.py:592(name)\n",
      "        3    0.000    0.000    0.000    0.000 enum.py:597(value)\n",
      "        2    0.000    0.000    0.002    0.001 enum.py:602(_convert)\n",
      "        2    0.000    0.000    0.000    0.000 enum.py:623(<listcomp>)\n",
      "       11    0.000    0.000    0.000    0.000 enum.py:628(<lambda>)\n",
      "        2    0.000    0.000    0.000    0.000 enum.py:65(__init__)\n",
      "       15    0.000    0.000    0.000    0.000 enum.py:70(__setitem__)\n",
      "        3    0.000    0.000    0.001    0.000 enum.py:758(_missing_)\n",
      "        3    0.000    0.000    0.001    0.000 enum.py:765(_create_pseudo_member_)\n",
      "       30    0.000    0.000    0.001    0.000 enum.py:795(__or__)\n",
      "      310    0.002    0.000    0.005    0.000 enum.py:801(__and__)\n",
      "       18    0.000    0.000    0.000    0.000 enum.py:820(_high_bit)\n",
      "        3    0.000    0.000    0.001    0.000 enum.py:837(_decompose)\n",
      "        3    0.000    0.000    0.000    0.000 enum.py:855(<listcomp>)\n",
      "        7    0.000    0.000    0.000    0.000 enum.py:866(<lambda>)\n",
      "       24    0.000    0.000    0.000    0.000 enum.py:872(_power_of_two)\n",
      "        1    0.001    0.001    0.002    0.002 extras.py:10(<module>)\n",
      "        1    0.000    0.000    0.000    0.000 extras.py:1453(MAxisConcatenator)\n",
      "        1    0.000    0.000    0.000    0.000 extras.py:1478(mr_class)\n",
      "        1    0.000    0.000    0.000    0.000 extras.py:1494(__init__)\n",
      "        1    0.000    0.000    0.000    0.000 extras.py:218(_fromnxfunction)\n",
      "        9    0.000    0.000    0.000    0.000 extras.py:238(__init__)\n",
      "        9    0.000    0.000    0.000    0.000 extras.py:242(getdoc)\n",
      "        1    0.000    0.000    0.000    0.000 extras.py:273(_fromnxfunction_single)\n",
      "        1    0.000    0.000    0.000    0.000 extras.py:291(_fromnxfunction_seq)\n",
      "        1    0.000    0.000    0.000    0.000 extras.py:304(_fromnxfunction_args)\n",
      "        1    0.000    0.000    0.000    0.000 extras.py:329(_fromnxfunction_allargs)\n",
      "        1    0.000    0.000    0.004    0.004 fftpack.py:32(<module>)\n",
      "        1    0.000    0.000    0.000    0.000 financial.py:10(<module>)\n",
      "        1    0.000    0.000    0.002    0.002 fnmatch.py:11(<module>)\n",
      "        1    0.000    0.000    0.000    0.000 format.py:149(<module>)\n",
      "      100    0.001    0.000    0.004    0.000 fromnumeric.py:1973(all)\n",
      "        1    0.000    0.000    0.000    0.000 fromnumeric.py:2174(amax)\n",
      "        1    0.000    0.000    0.002    0.002 fromnumeric.py:3(<module>)\n",
      "        2    0.000    0.000    0.002    0.001 function_base.py:1(<module>)\n",
      "        1    0.000    0.000    0.000    0.000 function_base.py:2527(vectorize)\n",
      "      275    0.003    0.000    0.009    0.000 function_base.py:4519(add_newdoc)\n",
      "       30    0.001    0.000    0.001    0.000 functools.py:44(update_wrapper)\n",
      "        2    0.000    0.000    0.000    0.000 functools.py:448(lru_cache)\n",
      "        2    0.000    0.000    0.000    0.000 functools.py:479(decorating_function)\n",
      "       28    0.000    0.000    0.000    0.000 functools.py:74(wraps)\n",
      "       30    0.000    0.000    0.000    0.000 getlimits.py:26(_fr1)\n",
      "        1    0.000    0.000    0.001    0.001 getlimits.py:3(<module>)\n",
      "        1    0.000    0.000    0.000    0.000 getlimits.py:305(finfo)\n",
      "        1    0.000    0.000    0.000    0.000 getlimits.py:455(iinfo)\n",
      "        5    0.000    0.000    0.000    0.000 getlimits.py:507(__init__)\n",
      "        2    0.000    0.000    0.000    0.000 getlimits.py:532(max)\n",
      "        1    0.000    0.000    0.000    0.000 getlimits.py:62(MachArLike)\n",
      "        6    0.000    0.000    0.001    0.000 getlimits.py:65(__init__)\n",
      "       36    0.000    0.000    0.000    0.000 getlimits.py:69(<lambda>)\n",
      "       30    0.000    0.000    0.000    0.000 getlimits.py:70(<lambda>)\n",
      "       14    0.000    0.000    0.001    0.000 hashlib.py:116(__get_openssl_constructor)\n",
      "        1    0.000    0.000    0.004    0.004 hashlib.py:54(<module>)\n",
      "        8    0.000    0.000    0.001    0.000 hashlib.py:73(__get_builtin_constructor)\n",
      "        1    0.000    0.000    0.000    0.000 helper.py:230(_FFTCache)\n",
      "        2    0.000    0.000    0.000    0.000 helper.py:251(__init__)\n",
      "        1    0.000    0.000    0.000    0.000 helper.py:4(<module>)\n",
      "        1    0.000    0.000    0.000    0.000 hermite.py:1810(Hermite)\n",
      "        1    0.000    0.000    0.000    0.000 hermite.py:59(<module>)\n",
      "        1    0.000    0.000    0.000    0.000 hermite_e.py:1807(HermiteE)\n",
      "        1    0.000    0.000    0.000    0.000 hermite_e.py:59(<module>)\n",
      "        1    0.000    0.000    0.011    0.011 index_tricks.py:1(<module>)\n",
      "        2    0.000    0.000    0.000    0.000 index_tricks.py:159(__init__)\n",
      "        1    0.000    0.000    0.000    0.000 index_tricks.py:231(AxisConcatenator)\n",
      "        3    0.000    0.000    0.000    0.000 index_tricks.py:241(__init__)\n",
      "        1    0.000    0.000    0.000    0.000 index_tricks.py:356(RClass)\n",
      "        1    0.000    0.000    0.000    0.000 index_tricks.py:451(__init__)\n",
      "        1    0.000    0.000    0.000    0.000 index_tricks.py:456(CClass)\n",
      "        1    0.000    0.000    0.000    0.000 index_tricks.py:481(__init__)\n",
      "        1    0.000    0.000    0.000    0.000 index_tricks.py:486(ndenumerate)\n",
      "        1    0.000    0.000    0.000    0.000 index_tricks.py:536(ndindex)\n",
      "        1    0.000    0.000    0.000    0.000 index_tricks.py:614(IndexExpression)\n",
      "        2    0.000    0.000    0.000    0.000 index_tricks.py:658(__init__)\n",
      "        1    0.000    0.000    0.000    0.000 index_tricks.py:98(nd_grid)\n",
      "        1    0.000    0.000    0.000    0.000 info.py:156(<module>)\n",
      "        1    0.000    0.000    0.000    0.000 info.py:184(<module>)\n",
      "        1    0.000    0.000    0.000    0.000 info.py:34(<module>)\n",
      "        1    0.000    0.000    0.000    0.000 info.py:83(<module>)\n",
      "        1    0.000    0.000    0.000    0.000 info.py:86(<module>)\n",
      "        1    0.000    0.000    0.000    0.000 laguerre.py:1760(Laguerre)\n",
      "        1    0.000    0.000    0.000    0.000 laguerre.py:59(<module>)\n",
      "        1    0.000    0.000    0.000    0.000 legendre.py:1790(Legendre)\n",
      "        1    0.000    0.000    0.000    0.000 legendre.py:83(<module>)\n",
      "        1    0.000    0.000    0.003    0.003 linalg.py:10(<module>)\n",
      "      100    0.000    0.000    0.000    0.000 linalg.py:101(get_linalg_error_extobj)\n",
      "      100    0.001    0.000    0.001    0.000 linalg.py:106(_makearray)\n",
      "      300    0.001    0.000    0.001    0.000 linalg.py:111(isComplexType)\n",
      "      100    0.000    0.000    0.000    0.000 linalg.py:124(_realType)\n",
      "      100    0.000    0.000    0.001    0.000 linalg.py:127(_complexType)\n",
      "      100    0.001    0.000    0.002    0.000 linalg.py:139(_commonType)\n",
      "      100    0.000    0.000    0.000    0.000 linalg.py:198(_assertRankAtLeast2)\n",
      "      100    0.001    0.000    0.001    0.000 linalg.py:209(_assertNdSquareness)\n",
      "      100    0.001    0.000    0.003    0.000 linalg.py:214(_assertFinite)\n",
      "        1    0.000    0.000    0.000    0.000 linalg.py:43(LinAlgError)\n",
      "        1    0.000    0.000    0.000    0.000 linalg.py:76(_determine_error_states)\n",
      "      100    0.692    0.007    0.705    0.007 linalg.py:819(eigvals)\n",
      "        1    0.000    0.000    0.009    0.009 linecache.py:6(<module>)\n",
      "        1    0.000    0.000    0.002    0.002 loader.py:1(<module>)\n",
      "        1    0.000    0.000    0.000    0.000 loader.py:23(_FailedTest)\n",
      "        1    0.000    0.000    0.000    0.000 loader.py:66(TestLoader)\n",
      "        1    0.000    0.000    0.000    0.000 loader.py:76(__init__)\n",
      "        1    0.000    0.000    0.000    0.000 lzma.py:38(LZMAFile)\n",
      "        1    0.000    0.000    0.002    0.002 lzma.py:9(<module>)\n",
      "        1    0.000    0.000    0.000    0.000 machar.py:17(MachAr)\n",
      "        1    0.000    0.000    0.000    0.000 machar.py:7(<module>)\n",
      "        1    0.000    0.000    0.012    0.012 main.py:1(<module>)\n",
      "        1    0.000    0.000    0.000    0.000 main.py:49(TestProgram)\n",
      "        1    0.000    0.000    0.000    0.000 memmap.py:1(<module>)\n",
      "        1    0.000    0.000    0.000    0.000 memmap.py:20(memmap)\n",
      "        1    0.000    0.000    0.000    0.000 mixins.py:1(<module>)\n",
      "       19    0.000    0.000    0.000    0.000 mixins.py:20(_binary_method)\n",
      "       13    0.000    0.000    0.000    0.000 mixins.py:30(_reflected_binary_method)\n",
      "       12    0.000    0.000    0.000    0.000 mixins.py:40(_inplace_binary_method)\n",
      "       12    0.000    0.000    0.000    0.000 mixins.py:48(_numeric_methods)\n",
      "        4    0.000    0.000    0.000    0.000 mixins.py:55(_unary_method)\n",
      "        1    0.000    0.000    0.000    0.000 mixins.py:63(NDArrayOperatorsMixin)\n",
      "        1    0.000    0.000    0.000    0.000 nanfunctions.py:21(<module>)\n",
      "        1    0.000    0.000    0.000    0.000 nosetester.py:110(NoseTester)\n",
      "       19    0.000    0.000    0.001    0.000 nosetester.py:152(__init__)\n",
      "       19    0.000    0.000    0.001    0.000 nosetester.py:518(_numpy_tester)\n",
      "        1    0.000    0.000    0.000    0.000 nosetester.py:6(<module>)\n",
      "        1    0.000    0.000    0.006    0.006 npyio.py:1(<module>)\n",
      "        1    0.000    0.000    0.000    0.000 npyio.py:104(NpzFile)\n",
      "        1    0.000    0.000    0.000    0.000 npyio.py:40(BagObj)\n",
      "       19    0.000    0.000    0.000    0.000 ntpath.py:121(splitdrive)\n",
      "       19    0.000    0.000    0.001    0.000 ntpath.py:199(split)\n",
      "       19    0.000    0.000    0.001    0.000 ntpath.py:240(dirname)\n",
      "       19    0.000    0.000    0.000    0.000 ntpath.py:33(_get_bothseps)\n",
      "        1    0.000    0.000    0.000    0.000 ntpath.py:43(normcase)\n",
      "        1    0.000    0.000    0.000    0.000 numbers.py:12(Number)\n",
      "        1    0.000    0.000    0.000    0.000 numbers.py:147(Real)\n",
      "        1    0.000    0.000    0.000    0.000 numbers.py:267(Rational)\n",
      "        1    0.000    0.000    0.000    0.000 numbers.py:294(Integral)\n",
      "        1    0.000    0.000    0.000    0.000 numbers.py:32(Complex)\n",
      "        1    0.000    0.000    0.001    0.001 numbers.py:6(<module>)\n",
      "        1    0.000    0.000    0.017    0.017 numeric.py:1(<module>)\n",
      "        2    0.000    0.000    0.000    0.000 numeric.py:1942(set_string_function)\n",
      "        6    0.000    0.000    0.000    0.000 numeric.py:2667(seterr)\n",
      "        6    0.000    0.000    0.000    0.000 numeric.py:2767(geterr)\n",
      "        1    0.000    0.000    0.000    0.000 numeric.py:2992(_unspecified)\n",
      "        1    0.000    0.000    0.000    0.000 numeric.py:2997(errstate)\n",
      "        3    0.000    0.000    0.000    0.000 numeric.py:3060(__init__)\n",
      "        3    0.000    0.000    0.000    0.000 numeric.py:3064(__enter__)\n",
      "        3    0.000    0.000    0.000    0.000 numeric.py:3069(__exit__)\n",
      "        1    0.000    0.000    0.000    0.000 numeric.py:3075(_setdef)\n",
      "        3    0.000    0.000    0.001    0.000 numeric.py:367(extend_all)\n",
      "        1    0.000    0.000    0.000    0.000 numeric.py:374(<listcomp>)\n",
      "      100    0.000    0.000    0.000    0.000 numeric.py:463(asarray)\n",
      "      100    0.000    0.000    0.001    0.000 numeric.py:534(asanyarray)\n",
      "        1    0.000    0.000    0.000    0.000 numeric.py:76(ComplexWarning)\n",
      "        1    0.000    0.000    0.001    0.001 numerictypes.py:120(<listcomp>)\n",
      "       72    0.000    0.000    0.000    0.000 numerictypes.py:127(english_lower)\n",
      "       38    0.000    0.000    0.000    0.000 numerictypes.py:154(english_upper)\n",
      "       12    0.000    0.000    0.000    0.000 numerictypes.py:181(english_capitalize)\n",
      "       23    0.000    0.000    0.000    0.000 numerictypes.py:216(_evalname)\n",
      "       26    0.000    0.000    0.000    0.000 numerictypes.py:229(bitname)\n",
      "        1    0.000    0.000    0.000    0.000 numerictypes.py:285(_add_types)\n",
      "        1    0.000    0.000    0.001    0.001 numerictypes.py:301(_add_aliases)\n",
      "        1    0.000    0.000    0.000    0.000 numerictypes.py:338(_add_integer_aliases)\n",
      "        1    0.000    0.000    0.000    0.000 numerictypes.py:379(_set_up_aliases)\n",
      "        1    0.000    0.000    0.000    0.000 numerictypes.py:428(_construct_char_code_lookup)\n",
      "       30    0.000    0.000    0.000    0.000 numerictypes.py:443(_add_array_type)\n",
      "        1    0.000    0.000    0.000    0.000 numerictypes.py:451(_set_array_types)\n",
      "        1    0.000    0.000    0.000    0.000 numerictypes.py:765(_typedict)\n",
      "        1    0.000    0.000    0.000    0.000 numerictypes.py:781(_construct_lookups)\n",
      "        1    0.000    0.000    0.007    0.007 numerictypes.py:82(<module>)\n",
      "        1    0.000    0.000    0.000    0.000 numerictypes.py:957(_register_types)\n",
      "        1    0.000    0.000    0.000    0.000 os.py:1067(__subclasshook__)\n",
      "        3    0.000    0.000    0.000    0.000 os.py:664(__getitem__)\n",
      "        2    0.000    0.000    0.000    0.000 os.py:672(__setitem__)\n",
      "        2    0.000    0.000    0.000    0.000 os.py:678(__delitem__)\n",
      "        2    0.000    0.000    0.000    0.000 os.py:720(<lambda>)\n",
      "        9    0.000    0.000    0.000    0.000 os.py:728(check_str)\n",
      "        7    0.000    0.000    0.000    0.000 os.py:734(encodekey)\n",
      "        1    0.000    0.000    0.000    0.000 parse.py:126(_ResultMixinStr)\n",
      "        1    0.000    0.000    0.000    0.000 parse.py:134(_ResultMixinBytes)\n",
      "        1    0.000    0.000    0.000    0.000 parse.py:142(_NetlocResultMixinBase)\n",
      "        1    0.000    0.000    0.000    0.000 parse.py:173(_NetlocResultMixinStr)\n",
      "        1    0.000    0.000    0.000    0.000 parse.py:203(_NetlocResultMixinBytes)\n",
      "        1    0.000    0.000    0.003    0.003 parse.py:28(<module>)\n",
      "        1    0.000    0.000    0.000    0.000 parse.py:308(DefragResult)\n",
      "        1    0.000    0.000    0.000    0.000 parse.py:316(SplitResult)\n",
      "        1    0.000    0.000    0.000    0.000 parse.py:321(ParseResult)\n",
      "        1    0.000    0.000    0.000    0.000 parse.py:327(DefragResultBytes)\n",
      "        1    0.000    0.000    0.000    0.000 parse.py:335(SplitResultBytes)\n",
      "        1    0.000    0.000    0.000    0.000 parse.py:340(ParseResultBytes)\n",
      "        1    0.000    0.000    0.000    0.000 parse.py:346(_fix_result_transcoding)\n",
      "        1    0.000    0.000    0.000    0.000 parse.py:723(Quoter)\n",
      "        1    0.000    0.000    0.012    0.012 pathlib.py:1(<module>)\n",
      "        1    0.000    0.000    0.000    0.000 pathlib.py:107(_WindowsFlavour)\n",
      "       27    0.000    0.000    0.000    0.000 pathlib.py:119(<genexpr>)\n",
      "       27    0.000    0.000    0.000    0.000 pathlib.py:120(<genexpr>)\n",
      "        1    0.000    0.000    0.000    0.000 pathlib.py:126(<setcomp>)\n",
      "        1    0.000    0.000    0.000    0.000 pathlib.py:127(<setcomp>)\n",
      "        1    0.000    0.000    0.000    0.000 pathlib.py:1424(PosixPath)\n",
      "        1    0.000    0.000    0.000    0.000 pathlib.py:1427(WindowsPath)\n",
      "        1    0.000    0.000    0.000    0.000 pathlib.py:274(_PosixFlavour)\n",
      "        1    0.000    0.000    0.000    0.000 pathlib.py:377(_Accessor)\n",
      "        1    0.000    0.000    0.001    0.001 pathlib.py:382(_NormalAccessor)\n",
      "       10    0.000    0.000    0.000    0.000 pathlib.py:384(_wrap_strfunc)\n",
      "        3    0.000    0.000    0.000    0.000 pathlib.py:390(_wrap_binary_strfunc)\n",
      "        1    0.000    0.000    0.000    0.000 pathlib.py:44(_Flavour)\n",
      "        1    0.000    0.000    0.000    0.000 pathlib.py:467(_Selector)\n",
      "        2    0.000    0.000    0.000    0.000 pathlib.py:48(__init__)\n",
      "        1    0.000    0.000    0.000    0.000 pathlib.py:492(_TerminatingSelector)\n",
      "        1    0.000    0.000    0.000    0.000 pathlib.py:498(_PreciseSelector)\n",
      "        1    0.000    0.000    0.000    0.000 pathlib.py:514(_WildcardSelector)\n",
      "        1    0.000    0.000    0.000    0.000 pathlib.py:537(_RecursiveWildcardSelector)\n",
      "        1    0.000    0.000    0.000    0.000 pathlib.py:574(_PathParents)\n",
      "        1    0.000    0.000    0.000    0.000 pathlib.py:602(PurePath)\n",
      "        1    0.000    0.000    0.000    0.000 pathlib.py:957(PurePosixPath)\n",
      "        1    0.000    0.000    0.000    0.000 pathlib.py:962(PureWindowsPath)\n",
      "        1    0.000    0.000    0.000    0.000 pathlib.py:970(Path)\n",
      "        1    0.000    0.000    0.002    0.002 pickle.py:181(<listcomp>)\n",
      "        1    0.000    0.000    0.000    0.000 pickle.py:184(_Framer)\n",
      "        1    0.000    0.000    0.000    0.000 pickle.py:220(_Unframer)\n",
      "        1    0.000    0.000    0.008    0.008 pickle.py:24(<module>)\n",
      "        1    0.000    0.000    0.000    0.000 pickle.py:345(_Pickler)\n",
      "        1    0.000    0.000    0.000    0.000 pickle.py:64(PickleError)\n",
      "        1    0.000    0.000    0.000    0.000 pickle.py:68(PicklingError)\n",
      "        1    0.000    0.000    0.000    0.000 pickle.py:75(UnpicklingError)\n",
      "        1    0.000    0.000    0.000    0.000 pickle.py:88(_Stop)\n",
      "        1    0.000    0.000    0.000    0.000 pickle.py:986(_Unpickler)\n",
      "        1    0.000    0.000    0.000    0.000 polynomial.py:1601(Polynomial)\n",
      "        1    0.000    0.000    0.000    0.000 polynomial.py:22(RankWarning)\n",
      "        1    0.000    0.000    0.008    0.008 polynomial.py:4(<module>)\n",
      "        1    0.000    0.000    0.005    0.005 polynomial.py:56(<module>)\n",
      "        1    0.000    0.000    0.000    0.000 polynomial.py:939(poly1d)\n",
      "        1    0.000    0.000    0.000    0.000 polyutils.py:45(<module>)\n",
      "        1    0.000    0.000    0.000    0.000 polyutils.py:58(RankWarning)\n",
      "        1    0.000    0.000    0.000    0.000 polyutils.py:62(PolyError)\n",
      "        1    0.000    0.000    0.000    0.000 polyutils.py:66(PolyDomainError)\n",
      "        1    0.000    0.000    0.000    0.000 polyutils.py:79(PolyBase)\n",
      "        1    0.000    0.000    0.000    0.000 posixpath.py:11(<module>)\n",
      "        1    0.000    0.000    0.000    0.000 pprint.py:35(<module>)\n",
      "        1    0.000    0.000    0.000    0.000 pprint.py:72(_safe_key)\n",
      "        1    0.000    0.000    0.000    0.000 pprint.py:98(PrettyPrinter)\n",
      "        1    0.000    0.000    0.014    0.014 py3k.py:4(<module>)\n",
      "        1    0.000    0.000    0.008    0.008 random.py:38(<module>)\n",
      "        1    0.000    0.000    0.000    0.000 random.py:663(SystemRandom)\n",
      "        1    0.000    0.000    0.000    0.000 random.py:71(Random)\n",
      "        1    0.000    0.000    0.000    0.000 random.py:87(__init__)\n",
      "        1    0.000    0.000    0.000    0.000 random.py:96(seed)\n",
      "      102    0.000    0.000    0.001    0.000 re.py:169(match)\n",
      "       19    0.000    0.000    0.024    0.001 re.py:231(compile)\n",
      "        1    0.000    0.000    0.000    0.000 re.py:249(escape)\n",
      "      121    0.000    0.000    0.025    0.000 re.py:286(_compile)\n",
      "        1    0.000    0.000    0.000    0.000 records.py:215(record)\n",
      "        1    0.000    0.000    0.000    0.000 records.py:298(recarray)\n",
      "        1    0.000    0.000    0.000    0.000 records.py:36(<module>)\n",
      "        1    0.000    0.000    0.000    0.000 records.py:83(format_parser)\n",
      "        1    0.000    0.000    0.014    0.014 result.py:1(<module>)\n",
      "        3    0.000    0.000    0.000    0.000 result.py:12(failfast)\n",
      "        1    0.000    0.000    0.000    0.000 result.py:24(TestResult)\n",
      "        1    0.000    0.000    0.008    0.008 runner.py:1(<module>)\n",
      "        1    0.000    0.000    0.000    0.000 runner.py:120(TextTestRunner)\n",
      "        1    0.000    0.000    0.000    0.000 runner.py:13(_WritelnDecorator)\n",
      "        1    0.000    0.000    0.000    0.000 runner.py:29(TextTestResult)\n",
      "        1    0.000    0.000    0.000    0.000 scimath.py:17(<module>)\n",
      "        2    0.000    0.000    0.000    0.000 shape_base.py:1(<module>)\n",
      "        1    0.000    0.000    0.000    0.000 shape_base.py:364(_Recurser)\n",
      "        1    0.000    0.000    0.017    0.017 shutil.py:5(<module>)\n",
      "        1    0.000    0.000    0.000    0.000 shutil.py:55(Error)\n",
      "        1    0.000    0.000    0.000    0.000 shutil.py:58(SameFileError)\n",
      "        1    0.000    0.000    0.000    0.000 shutil.py:61(SpecialFileError)\n",
      "        1    0.000    0.000    0.000    0.000 shutil.py:65(ExecError)\n",
      "        1    0.000    0.000    0.000    0.000 shutil.py:68(ReadError)\n",
      "        1    0.000    0.000    0.000    0.000 shutil.py:71(RegistryError)\n",
      "        1    0.000    0.000    0.002    0.002 signal.py:1(<module>)\n",
      "       28    0.000    0.000    0.000    0.000 signal.py:10(<lambda>)\n",
      "       29    0.000    0.000    0.000    0.000 signal.py:17(<lambda>)\n",
      "        1    0.000    0.000    0.006    0.006 signals.py:1(<module>)\n",
      "        1    0.000    0.000    0.000    0.000 signals.py:9(_InterruptHandler)\n",
      "        1    0.000    0.000    1.069    1.069 simple03.py:1(<module>)\n",
      "        1    0.002    0.002    0.758    0.758 simple03.py:4(run_experiment)\n",
      "      248    0.001    0.000    0.001    0.000 sre_compile.py:102(fixup)\n",
      "       29    0.000    0.000    0.004    0.000 sre_compile.py:223(_compile_charset)\n",
      "       29    0.002    0.000    0.004    0.000 sre_compile.py:250(_optimize_charset)\n",
      "       13    0.000    0.000    0.000    0.000 sre_compile.py:376(_mk_bitmap)\n",
      "       13    0.000    0.000    0.000    0.000 sre_compile.py:378(<listcomp>)\n",
      "        6    0.000    0.000    0.000    0.000 sre_compile.py:381(_bytes_to_codes)\n",
      "       30    0.000    0.000    0.001    0.000 sre_compile.py:388(_simple)\n",
      "        1    0.000    0.000    0.000    0.000 sre_compile.py:393(_generate_overlap_table)\n",
      "      8/6    0.000    0.000    0.000    0.000 sre_compile.py:414(_get_literal_prefix)\n",
      "        5    0.000    0.000    0.000    0.000 sre_compile.py:441(_get_charset_prefix)\n",
      "       16    0.000    0.000    0.001    0.000 sre_compile.py:482(_compile_info)\n",
      "       32    0.000    0.000    0.000    0.000 sre_compile.py:539(isstring)\n",
      "       16    0.000    0.000    0.013    0.001 sre_compile.py:542(_code)\n",
      "       16    0.000    0.000    0.024    0.001 sre_compile.py:557(compile)\n",
      "    66/16    0.002    0.000    0.012    0.001 sre_compile.py:64(_compile)\n",
      "       66    0.000    0.000    0.000    0.000 sre_parse.py:111(__init__)\n",
      "       97    0.000    0.000    0.000    0.000 sre_parse.py:159(__len__)\n",
      "      236    0.001    0.000    0.001    0.000 sre_parse.py:163(__getitem__)\n",
      "       30    0.000    0.000    0.000    0.000 sre_parse.py:167(__setitem__)\n",
      "      154    0.000    0.000    0.001    0.000 sre_parse.py:171(append)\n",
      "   107/57    0.001    0.000    0.001    0.000 sre_parse.py:173(getwidth)\n",
      "       16    0.000    0.000    0.000    0.000 sre_parse.py:223(__init__)\n",
      "      653    0.001    0.000    0.001    0.000 sre_parse.py:232(__next)\n",
      "      193    0.000    0.000    0.000    0.000 sre_parse.py:248(match)\n",
      "      520    0.001    0.000    0.002    0.000 sre_parse.py:253(get)\n",
      "        8    0.000    0.000    0.000    0.000 sre_parse.py:266(getuntil)\n",
      "      101    0.000    0.000    0.000    0.000 sre_parse.py:285(tell)\n",
      "        1    0.000    0.000    0.000    0.000 sre_parse.py:287(seek)\n",
      "        8    0.000    0.000    0.000    0.000 sre_parse.py:294(_class_escape)\n",
      "       13    0.000    0.000    0.000    0.000 sre_parse.py:342(_escape)\n",
      "    30/16    0.000    0.000    0.008    0.001 sre_parse.py:407(_parse_sub)\n",
      "    34/16    0.002    0.000    0.008    0.001 sre_parse.py:470(_parse)\n",
      "       16    0.000    0.000    0.000    0.000 sre_parse.py:76(__init__)\n",
      "       54    0.000    0.000    0.000    0.000 sre_parse.py:81(groups)\n",
      "       16    0.000    0.000    0.001    0.000 sre_parse.py:828(fix_flags)\n",
      "       11    0.000    0.000    0.000    0.000 sre_parse.py:84(opengroup)\n",
      "       16    0.000    0.000    0.010    0.001 sre_parse.py:844(parse)\n",
      "       11    0.000    0.000    0.000    0.000 sre_parse.py:96(closegroup)\n",
      "        1    0.000    0.000    0.000    0.000 stride_tricks.py:15(DummyArray)\n",
      "        1    0.000    0.000    0.000    0.000 stride_tricks.py:7(<module>)\n",
      "        1    0.000    0.000    0.007    0.007 string.py:15(<module>)\n",
      "        1    0.000    0.000    0.000    0.000 string.py:169(Formatter)\n",
      "        1    0.000    0.000    0.000    0.000 string.py:55(_TemplateMetaclass)\n",
      "        1    0.000    0.000    0.007    0.007 string.py:65(__init__)\n",
      "        1    0.000    0.000    0.000    0.000 string.py:77(Template)\n",
      "        1    0.000    0.000    0.000    0.000 suite.py:1(<module>)\n",
      "        1    0.000    0.000    0.000    0.000 suite.py:16(BaseTestSuite)\n",
      "        1    0.000    0.000    0.000    0.000 suite.py:270(_ErrorHolder)\n",
      "        1    0.000    0.000    0.000    0.000 suite.py:317(_DebugResult)\n",
      "        1    0.000    0.000    0.000    0.000 suite.py:92(TestSuite)\n",
      "        1    0.000    0.000    0.000    0.000 tempfile.py:136(_RandomNameSequence)\n",
      "        1    0.000    0.000    0.010    0.010 tempfile.py:24(<module>)\n",
      "        1    0.000    0.000    0.000    0.000 tempfile.py:416(_TemporaryFileCloser)\n",
      "        1    0.000    0.000    0.000    0.000 tempfile.py:459(_TemporaryFileWrapper)\n",
      "        1    0.000    0.000    0.000    0.000 tempfile.py:629(SpooledTemporaryFile)\n",
      "        1    0.000    0.000    0.000    0.000 tempfile.py:777(TemporaryDirectory)\n",
      "        1    0.000    0.000    0.000    0.000 threading.py:1(<module>)\n",
      "        1    0.000    0.000    0.000    0.000 threading.py:1158(Timer)\n",
      "        1    0.000    0.000    0.000    0.000 threading.py:1188(_MainThread)\n",
      "        1    0.000    0.000    0.000    0.000 threading.py:1190(__init__)\n",
      "        1    0.000    0.000    0.000    0.000 threading.py:1207(_DummyThread)\n",
      "        1    0.000    0.000    0.000    0.000 threading.py:203(Condition)\n",
      "        1    0.000    0.000    0.000    0.000 threading.py:215(__init__)\n",
      "        1    0.000    0.000    0.000    0.000 threading.py:239(__enter__)\n",
      "        1    0.000    0.000    0.000    0.000 threading.py:242(__exit__)\n",
      "        1    0.000    0.000    0.000    0.000 threading.py:254(_is_owned)\n",
      "        1    0.000    0.000    0.000    0.000 threading.py:334(notify)\n",
      "        1    0.000    0.000    0.000    0.000 threading.py:357(notify_all)\n",
      "        1    0.000    0.000    0.000    0.000 threading.py:369(Semaphore)\n",
      "        1    0.000    0.000    0.000    0.000 threading.py:449(BoundedSemaphore)\n",
      "        1    0.000    0.000    0.000    0.000 threading.py:487(Event)\n",
      "        1    0.000    0.000    0.000    0.000 threading.py:498(__init__)\n",
      "        1    0.000    0.000    0.000    0.000 threading.py:512(set)\n",
      "        1    0.000    0.000    0.000    0.000 threading.py:566(Barrier)\n"
     ]
    },
    {
     "name": "stdout",
     "output_type": "stream",
     "text": [
      "        1    0.000    0.000    0.000    0.000 threading.py:720(BrokenBarrierError)\n",
      "        1    0.000    0.000    0.000    0.000 threading.py:738(Thread)\n",
      "        2    0.000    0.000    0.000    0.000 threading.py:74(RLock)\n",
      "        1    0.000    0.000    0.000    0.000 threading.py:757(__init__)\n",
      "        1    0.000    0.000    0.000    0.000 threading.py:87(_RLock)\n",
      "        1    0.000    0.000    0.000    0.000 threading.py:890(_set_ident)\n",
      "        1    0.000    0.000    0.000    0.000 threading.py:893(_set_tstate_lock)\n",
      "        1    0.000    0.000    0.000    0.000 token.py:1(<module>)\n",
      "        1    0.000    0.000    0.000    0.000 token.py:74(<dictcomp>)\n",
      "       20    0.000    0.000    0.000    0.000 tokenize.py:112(group)\n",
      "        1    0.000    0.000    0.000    0.000 tokenize.py:113(any)\n",
      "        2    0.000    0.000    0.000    0.000 tokenize.py:114(maybe)\n",
      "        3    0.000    0.000    0.001    0.000 tokenize.py:137(_all_string_prefixes)\n",
      "       24    0.000    0.000    0.000    0.000 tokenize.py:148(<listcomp>)\n",
      "        1    0.000    0.000    0.007    0.007 tokenize.py:21(<module>)\n",
      "        1    0.000    0.000    0.000    0.000 tokenize.py:217(TokenError)\n",
      "        1    0.000    0.000    0.000    0.000 tokenize.py:219(StopTokenizing)\n",
      "        1    0.000    0.000    0.000    0.000 tokenize.py:222(Untokenizer)\n",
      "        1    0.000    0.000    0.000    0.000 tokenize.py:99(TokenInfo)\n",
      "        1    0.000    0.000    0.010    0.010 traceback.py:1(<module>)\n",
      "        1    0.000    0.000    0.000    0.000 traceback.py:223(FrameSummary)\n",
      "        1    0.000    0.000    0.000    0.000 traceback.py:310(StackSummary)\n",
      "        1    0.000    0.000    0.000    0.000 traceback.py:426(TracebackException)\n",
      "        1    0.000    0.000    0.000    0.000 twodim_base.py:3(<module>)\n",
      "        1    0.000    0.000    0.186    0.186 type_check.py:3(<module>)\n",
      "       54    0.000    0.000    0.000    0.000 types.py:135(__get__)\n",
      "        3    0.000    0.000    0.000    0.000 ufunclike.py:14(_deprecate_out_named_y)\n",
      "        1    0.000    0.000    0.000    0.000 ufunclike.py:5(<module>)\n",
      "        1    0.000    0.000    0.001    0.001 util.py:1(<module>)\n",
      "        1    0.000    0.000    0.003    0.003 utils.py:1(<module>)\n",
      "        3    0.000    0.000    0.000    0.000 utils.py:118(deprecate)\n",
      "        1    0.000    0.000    0.000    0.000 utils.py:1589(WarningMessage)\n",
      "        1    0.000    0.000    0.000    0.000 utils.py:1622(WarningManager)\n",
      "        1    0.000    0.000    0.000    0.000 utils.py:1849(IgnoreException)\n",
      "        1    0.000    0.000    0.000    0.000 utils.py:1890(clear_and_catch_warnings)\n",
      "        1    0.000    0.000    0.000    0.000 utils.py:1955(suppress_warnings)\n",
      "        1    0.000    0.000    0.036    0.036 utils.py:4(<module>)\n",
      "        1    0.000    0.000    0.000    0.000 utils.py:41(KnownFailureException)\n",
      "        3    0.000    0.000    0.000    0.000 utils.py:52(_set_function_name)\n",
      "        1    0.000    0.000    0.000    0.000 utils.py:57(_Deprecate)\n",
      "        3    0.000    0.000    0.000    0.000 utils.py:69(__init__)\n",
      "        3    0.000    0.000    0.000    0.000 utils.py:74(__call__)\n",
      "        1    0.000    0.000    0.000    0.000 utils.py:997(SafeEval)\n",
      "        1    0.000    0.000    0.000    0.000 version.py:5(<module>)\n",
      "        4    0.000    0.000    0.005    0.001 warnings.py:119(filterwarnings)\n",
      "        1    0.000    0.000    0.000    0.000 warnings.py:143(simplefilter)\n",
      "        5    0.000    0.000    0.000    0.000 warnings.py:159(_add_filter)\n",
      "        1    0.000    0.000    0.000    0.000 warnings.py:428(__init__)\n",
      "        1    0.000    0.000    0.000    0.000 warnings.py:449(__enter__)\n",
      "        1    0.000    0.000    0.000    0.000 warnings.py:468(__exit__)\n",
      "        1    0.000    0.000    0.000    0.000 weakref.py:102(__init__)\n",
      "        1    0.000    0.000    0.000    0.000 weakref.py:288(update)\n",
      "        1    0.000    0.000    0.000    0.000 weakref.py:354(__init__)\n",
      "       45    0.000    0.000    0.000    0.000 {built-in method __new__ of type object at 0x0000000064C7B3F0}\n",
      "        1    0.000    0.000    0.000    0.000 {built-in method _ctypes.LoadLibrary}\n",
      "        2    0.000    0.000    0.000    0.000 {built-in method _ctypes.POINTER}\n",
      "       50    0.000    0.000    0.000    0.000 {built-in method _ctypes.sizeof}\n",
      "        1    0.000    0.000    0.000    0.000 {built-in method _hashlib.openssl_md5}\n",
      "        1    0.000    0.000    0.000    0.000 {built-in method _hashlib.openssl_sha1}\n",
      "        1    0.000    0.000    0.000    0.000 {built-in method _hashlib.openssl_sha224}\n",
      "        1    0.000    0.000    0.000    0.000 {built-in method _hashlib.openssl_sha256}\n",
      "        1    0.000    0.000    0.000    0.000 {built-in method _hashlib.openssl_sha384}\n",
      "        1    0.000    0.000    0.000    0.000 {built-in method _hashlib.openssl_sha512}\n",
      "      118    0.000    0.000    0.000    0.000 {built-in method _imp._fix_co_filename}\n",
      "      882    0.001    0.000    0.001    0.000 {built-in method _imp.acquire_lock}\n",
      "       11    0.001    0.000    0.001    0.000 {built-in method _imp.create_builtin}\n",
      "       10    0.015    0.001    0.020    0.002 {built-in method _imp.create_dynamic}\n",
      "       11    0.000    0.000    0.000    0.000 {built-in method _imp.exec_builtin}\n",
      "       10    0.000    0.000    0.000    0.000 {built-in method _imp.exec_dynamic}\n",
      "       51    0.000    0.000    0.000    0.000 {built-in method _imp.is_builtin}\n",
      "      133    0.000    0.000    0.000    0.000 {built-in method _imp.is_frozen}\n",
      "      882    0.001    0.000    0.001    0.000 {built-in method _imp.release_lock}\n",
      "       16    0.000    0.000    0.000    0.000 {built-in method _sre.compile}\n",
      "      328    0.000    0.000    0.000    0.000 {built-in method _sre.getlower}\n",
      "       18    0.000    0.000    0.000    0.000 {built-in method _struct.calcsize}\n",
      "        1    0.000    0.000    0.000    0.000 {built-in method _thread._set_sentinel}\n",
      "      299    0.001    0.000    0.001    0.000 {built-in method _thread.allocate_lock}\n",
      "      651    0.001    0.000    0.001    0.000 {built-in method _thread.get_ident}\n",
      "        7    0.000    0.000    0.000    0.000 {built-in method _warnings._filters_mutated}\n",
      "        1    0.000    0.000    0.000    0.000 {built-in method atexit.register}\n",
      "  314/312    0.008    0.000    0.019    0.000 {built-in method builtins.__build_class__}\n",
      "    315/7    0.001    0.000    0.296    0.042 {built-in method builtins.__import__}\n",
      "       72    0.000    0.000    0.000    0.000 {built-in method builtins.abs}\n",
      "      141    0.001    0.000    0.002    0.000 {built-in method builtins.any}\n",
      "        2    0.000    0.000    0.000    0.000 {built-in method builtins.callable}\n",
      "      308    0.000    0.000    0.000    0.000 {built-in method builtins.chr}\n",
      "        1    0.000    0.000    0.000    0.000 {built-in method builtins.dir}\n",
      "       45    0.000    0.000    0.000    0.000 {built-in method builtins.divmod}\n",
      "    127/1    0.005    0.000    1.069    1.069 {built-in method builtins.exec}\n",
      "     2136    0.004    0.000    0.004    0.000 {built-in method builtins.getattr}\n",
      "      359    0.000    0.000    0.000    0.000 {built-in method builtins.globals}\n",
      "     2298    0.004    0.000    0.004    0.000 {built-in method builtins.hasattr}\n",
      "     2181    0.003    0.000    0.003    0.000 {built-in method builtins.isinstance}\n",
      "  498/485    0.001    0.000    0.001    0.000 {built-in method builtins.issubclass}\n",
      "1333/1301    0.001    0.000    0.002    0.000 {built-in method builtins.len}\n",
      "      106    0.000    0.000    0.000    0.000 {built-in method builtins.max}\n",
      "      250    0.000    0.000    0.000    0.000 {built-in method builtins.min}\n",
      "      175    0.000    0.000    0.000    0.000 {built-in method builtins.ord}\n",
      "        1    0.000    0.000    0.000    0.000 {built-in method builtins.print}\n",
      "       68    0.000    0.000    0.000    0.000 {built-in method builtins.repr}\n",
      "        9    0.000    0.000    0.000    0.000 {built-in method builtins.round}\n",
      "      242    0.000    0.000    0.000    0.000 {built-in method builtins.setattr}\n",
      "        2    0.000    0.000    0.000    0.000 {built-in method builtins.vars}\n",
      "      236    0.000    0.000    0.000    0.000 {built-in method from_bytes}\n",
      "      118    0.018    0.000    0.018    0.000 {built-in method marshal.loads}\n",
      "        1    0.000    0.000    0.000    0.000 {built-in method math.exp}\n",
      "        2    0.000    0.000    0.000    0.000 {built-in method math.log}\n",
      "        1    0.000    0.000    0.000    0.000 {built-in method math.sqrt}\n",
      "      403    0.000    0.000    0.000    0.000 {built-in method nt.fspath}\n",
      "       40    0.000    0.000    0.000    0.000 {built-in method nt.getcwd}\n",
      "       15    0.002    0.000    0.002    0.000 {built-in method nt.listdir}\n",
      "        4    0.000    0.000    0.000    0.000 {built-in method nt.putenv}\n",
      "      550    0.073    0.000    0.073    0.000 {built-in method nt.stat}\n",
      "      268    0.001    0.000    0.001    0.000 {built-in method numpy.core.multiarray.add_docstring}\n",
      "      274    0.001    0.000    0.001    0.000 {built-in method numpy.core.multiarray.array}\n",
      "       21    0.000    0.000    0.000    0.000 {built-in method numpy.core.multiarray.empty}\n",
      "        2    0.000    0.000    0.000    0.000 {built-in method numpy.core.multiarray.set_string_function}\n",
      "        1    0.000    0.000    0.000    0.000 {built-in method numpy.core.multiarray.set_typeDict}\n",
      "       14    0.000    0.000    0.000    0.000 {built-in method numpy.core.umath.geterrobj}\n",
      "        7    0.000    0.000    0.000    0.000 {built-in method numpy.core.umath.seterrobj}\n",
      "       27    0.000    0.000    0.000    0.000 {built-in method sys._getframe}\n",
      "        1    0.000    0.000    0.000    0.000 {built-in method sys.getwindowsversion}\n",
      "        1    0.000    0.000    0.000    0.000 {built-in method time.time}\n",
      "        1    0.000    0.000    0.000    0.000 {function Random.seed at 0x0000021A69F88950}\n",
      "       37    0.000    0.000    0.000    0.000 {method '__contains__' of 'frozenset' objects}\n",
      "        1    0.000    0.000    0.000    0.000 {method '__enter__' of '_thread.lock' objects}\n",
      "        1    0.000    0.000    0.000    0.000 {method '__exit__' of '_thread.lock' objects}\n",
      "       11    0.000    0.000    0.000    0.000 {method '__subclasses__' of 'type' objects}\n",
      "       11    0.000    0.000    0.000    0.000 {method '__subclasshook__' of 'object' objects}\n",
      "        1    0.000    0.000    0.000    0.000 {method 'acquire' of '_thread.RLock' objects}\n",
      "        2    0.000    0.000    0.000    0.000 {method 'acquire' of '_thread.lock' objects}\n",
      "      468    0.001    0.000    0.001    0.000 {method 'add' of 'set' objects}\n",
      "      200    0.001    0.000    0.004    0.000 {method 'all' of 'numpy.ndarray' objects}\n",
      "     1632    0.002    0.000    0.002    0.000 {method 'append' of 'list' objects}\n",
      "      100    0.001    0.000    0.001    0.000 {method 'astype' of 'numpy.ndarray' objects}\n",
      "       18    0.000    0.000    0.000    0.000 {method 'bit_length' of 'int' objects}\n",
      "        6    0.000    0.000    0.000    0.000 {method 'cast' of 'memoryview' objects}\n",
      "        3    0.000    0.000    0.000    0.000 {method 'clear' of 'dict' objects}\n",
      "       30    0.000    0.000    0.000    0.000 {method 'copy' of 'numpy.ndarray' objects}\n",
      "        1    0.000    0.000    0.000    0.000 {method 'disable' of '_lsprof.Profiler' objects}\n",
      "      138    0.000    0.000    0.000    0.000 {method 'endswith' of 'str' objects}\n",
      "       87    0.000    0.000    0.000    0.000 {method 'extend' of 'list' objects}\n",
      "      111    0.000    0.000    0.000    0.000 {method 'find' of 'bytearray' objects}\n",
      "        1    0.000    0.000    0.000    0.000 {method 'find' of 'str' objects}\n",
      "        4    0.000    0.000    0.000    0.000 {method 'find_loader' of 'zipimport.zipimporter' objects}\n",
      "      405    0.001    0.000    0.001    0.000 {method 'format' of 'str' objects}\n",
      "      597    0.001    0.000    0.001    0.000 {method 'get' of 'dict' objects}\n",
      "       25    0.000    0.000    0.000    0.000 {method 'get' of 'mappingproxy' objects}\n",
      "        5    0.000    0.000    0.000    0.000 {method 'insert' of 'list' objects}\n",
      "       45    0.000    0.000    0.000    0.000 {method 'isidentifier' of 'str' objects}\n",
      "       28    0.000    0.000    0.000    0.000 {method 'isupper' of 'str' objects}\n",
      "       11    0.000    0.000    0.000    0.000 {method 'items' of 'collections.OrderedDict' objects}\n",
      "       34    0.000    0.000    0.000    0.000 {method 'items' of 'dict' objects}\n",
      "     1699    0.002    0.000    0.003    0.000 {method 'join' of 'str' objects}\n",
      "       19    0.000    0.000    0.000    0.000 {method 'keys' of 'dict' objects}\n",
      "      321    0.000    0.000    0.000    0.000 {method 'lower' of 'str' objects}\n",
      "      102    0.000    0.000    0.000    0.000 {method 'match' of '_sre.SRE_Pattern' objects}\n",
      "      100    0.000    0.000    0.002    0.000 {method 'max' of 'numpy.ndarray' objects}\n",
      "        2    0.000    0.000    0.000    0.000 {method 'mro' of 'type' objects}\n",
      "      181    0.000    0.000    0.000    0.000 {method 'partition' of 'str' objects}\n",
      "       41    0.000    0.000    0.000    0.000 {method 'pop' of 'dict' objects}\n",
      "      100    0.050    0.000    0.050    0.000 {method 'randn' of 'mtrand.RandomState' objects}\n",
      "      118    0.008    0.000    0.008    0.000 {method 'read' of '_io.FileIO' objects}\n",
      "      301    0.003    0.000    0.003    0.000 {method 'reduce' of 'numpy.ufunc' objects}\n",
      "        1    0.000    0.000    0.000    0.000 {method 'release' of '_thread.RLock' objects}\n",
      "       11    0.000    0.000    0.000    0.000 {method 'remove' of 'list' objects}\n",
      "       11    0.000    0.000    0.000    0.000 {method 'remove' of 'set' objects}\n",
      "       35    0.000    0.000    0.000    0.000 {method 'replace' of 'str' objects}\n",
      "      938    0.001    0.000    0.001    0.000 {method 'rpartition' of 'str' objects}\n",
      "      236    0.001    0.000    0.001    0.000 {method 'rsplit' of 'str' objects}\n",
      "     2804    0.003    0.000    0.003    0.000 {method 'rstrip' of 'str' objects}\n",
      "        3    0.000    0.000    0.000    0.000 {method 'setdefault' of 'dict' objects}\n",
      "        5    0.000    0.000    0.000    0.000 {method 'setter' of 'property' objects}\n",
      "        5    0.000    0.000    0.000    0.000 {method 'sort' of 'list' objects}\n",
      "        7    0.000    0.000    0.000    0.000 {method 'split' of 'str' objects}\n",
      "      287    0.000    0.000    0.000    0.000 {method 'startswith' of 'str' objects}\n",
      "      268    0.001    0.000    0.001    0.000 {method 'strip' of 'str' objects}\n",
      "        6    0.000    0.000    0.000    0.000 {method 'tolist' of 'memoryview' objects}\n",
      "       13    0.000    0.000    0.000    0.000 {method 'translate' of 'bytearray' objects}\n",
      "      110    0.000    0.000    0.000    0.000 {method 'translate' of 'str' objects}\n",
      "        1    0.000    0.000    0.000    0.000 {method 'union' of 'set' objects}\n",
      "       47    0.000    0.000    0.000    0.000 {method 'update' of 'dict' objects}\n",
      "       43    0.000    0.000    0.000    0.000 {method 'upper' of 'str' objects}\n",
      "        1    0.000    0.000    0.000    0.000 {method 'values' of 'dict' objects}\n",
      "        1    0.000    0.000    0.000    0.000 {method 'view' of 'numpy.ndarray' objects}\n",
      "\n",
      "\n"
     ]
    }
   ],
   "source": [
    "!python -m cProfile chapter03/simple03.py"
   ]
  },
  {
   "cell_type": "markdown",
   "metadata": {
    "collapsed": true
   },
   "source": [
    "即使这里不明白脚本里面具体做的事情，那也没有关系，反正先这么照着书里先做着，感受下cProfile的作用。\n",
    "\n",
    "我们可以看到，输出结果是按照函数名排序的(ordered by standard name)。这样就比较**难**看出哪些地方是最花时间的，因此通常用 -s 标记，换一种排序的规则："
   ]
  },
  {
   "cell_type": "code",
   "execution_count": 2,
   "metadata": {},
   "outputs": [
    {
     "name": "stdout",
     "output_type": "stream",
     "text": [
      "Largest one we saw: 12.0184268139\n",
      "         53468 function calls (51355 primitive calls) in 1.055 seconds\n",
      "\n",
      "   Ordered by: cumulative time\n",
      "\n",
      "   ncalls  tottime  percall  cumtime  percall filename:lineno(function)\n",
      "    127/1    0.005    0.000    1.055    1.055 {built-in method builtins.exec}\n",
      "        1    0.000    0.000    1.055    1.055 simple03.py:1(<module>)\n",
      "        1    0.002    0.002    0.747    0.747 simple03.py:4(run_experiment)\n",
      "      100    0.683    0.007    0.695    0.007 linalg.py:819(eigvals)\n",
      "        5    0.001    0.000    0.430    0.086 __init__.py:1(<module>)\n",
      "    149/1    0.003    0.000    0.308    0.308 <frozen importlib._bootstrap>:966(_find_and_load)\n",
      "    149/1    0.001    0.000    0.308    0.308 <frozen importlib._bootstrap>:936(_find_and_load_unlocked)\n",
      "    139/1    0.002    0.000    0.306    0.306 <frozen importlib._bootstrap>:651(_load_unlocked)\n",
      "    118/1    0.001    0.000    0.305    0.305 <frozen importlib._bootstrap_external>:672(exec_module)\n",
      "    200/1    0.001    0.000    0.305    0.305 <frozen importlib._bootstrap>:211(_call_with_frames_removed)\n",
      "        1    0.000    0.000    0.305    0.305 __init__.py:106(<module>)\n",
      "   770/29    0.003    0.000    0.294    0.010 <frozen importlib._bootstrap>:997(_handle_fromlist)\n",
      "    315/7    0.001    0.000    0.292    0.042 {built-in method builtins.__import__}\n",
      "        1    0.000    0.000    0.245    0.245 add_newdocs.py:10(<module>)\n",
      "        1    0.000    0.000    0.187    0.187 type_check.py:3(<module>)\n",
      "      144    0.003    0.000    0.100    0.001 <frozen importlib._bootstrap>:870(_find_spec)\n",
      "      133    0.000    0.000    0.093    0.001 <frozen importlib._bootstrap_external>:1149(find_spec)\n",
      "      133    0.002    0.000    0.093    0.001 <frozen importlib._bootstrap_external>:1117(_get_spec)\n",
      "        1    0.000    0.000    0.092    0.092 __init__.py:7(<module>)\n",
      "      259    0.007    0.000    0.081    0.000 <frozen importlib._bootstrap_external>:1233(find_spec)\n",
      "      118    0.002    0.000    0.071    0.001 <frozen importlib._bootstrap_external>:743(get_code)\n",
      "      550    0.001    0.000    0.070    0.000 <frozen importlib._bootstrap_external>:75(_path_stat)\n",
      "      550    0.068    0.000    0.068    0.000 {built-in method nt.stat}\n",
      "        2    0.000    0.000    0.060    0.030 __init__.py:45(<module>)\n",
      "      100    0.049    0.000    0.049    0.000 {method 'randn' of 'mtrand.RandomState' objects}\n",
      "        1    0.000    0.000    0.044    0.044 _internal.py:6(<module>)\n",
      "  139/137    0.001    0.000    0.035    0.000 <frozen importlib._bootstrap>:564(module_from_spec)\n",
      "        1    0.000    0.000    0.032    0.032 decorators.py:15(<module>)\n",
      "        1    0.000    0.000    0.031    0.031 utils.py:4(<module>)\n",
      "      121    0.000    0.000    0.025    0.000 re.py:286(_compile)\n",
      "      118    0.016    0.000    0.025    0.000 <frozen importlib._bootstrap_external>:830(get_data)\n",
      "       19    0.000    0.000    0.024    0.001 re.py:231(compile)\n",
      "       16    0.000    0.000    0.024    0.002 sre_compile.py:557(compile)\n",
      "      173    0.001    0.000    0.022    0.000 <frozen importlib._bootstrap_external>:85(_path_is_mode_type)\n",
      "       10    0.000    0.000    0.022    0.002 <frozen importlib._bootstrap_external>:919(create_module)\n",
      "       10    0.015    0.002    0.022    0.002 {built-in method _imp.create_dynamic}\n",
      "        1    0.000    0.000    0.021    0.021 case.py:1(<module>)\n",
      "        1    0.000    0.000    0.021    0.021 __init__.py:10(<module>)\n",
      "      118    0.001    0.000    0.021    0.000 <frozen importlib._bootstrap_external>:485(_compile_bytecode)\n",
      "  314/312    0.009    0.000    0.020    0.000 {built-in method builtins.__build_class__}\n",
      "      118    0.019    0.000    0.019    0.000 {built-in method marshal.loads}\n",
      "      158    0.000    0.000    0.019    0.000 <frozen importlib._bootstrap_external>:94(_path_isfile)\n",
      "        1    0.000    0.000    0.017    0.017 py3k.py:4(<module>)\n",
      "        1    0.000    0.000    0.016    0.016 result.py:1(<module>)\n",
      "     1274    0.005    0.000    0.015    0.000 <frozen importlib._bootstrap_external>:57(_path_join)\n",
      "        1    0.000    0.000    0.014    0.014 numeric.py:1(<module>)\n",
      "        1    0.000    0.000    0.014    0.014 pathlib.py:1(<module>)\n",
      "      118    0.000    0.000    0.014    0.000 <frozen importlib._bootstrap_external>:840(path_stats)\n",
      "       16    0.000    0.000    0.013    0.001 sre_compile.py:542(_code)\n",
      "        1    0.000    0.000    0.013    0.013 shutil.py:5(<module>)\n",
      "        1    0.000    0.000    0.013    0.013 __init__.py:15(<module>)\n",
      "        1    0.000    0.000    0.012    0.012 __init__.py:24(<module>)\n",
      "        1    0.000    0.000    0.012    0.012 traceback.py:1(<module>)\n",
      "    66/16    0.002    0.000    0.012    0.001 sre_compile.py:64(_compile)\n",
      "        1    0.000    0.000    0.011    0.011 __init__.py:41(<module>)\n",
      "        1    0.000    0.000    0.011    0.011 index_tricks.py:1(<module>)\n",
      "      139    0.002    0.000    0.011    0.000 <frozen importlib._bootstrap>:504(_init_module_attrs)\n",
      "        1    0.000    0.000    0.010    0.010 linecache.py:6(<module>)\n",
      "       16    0.000    0.000    0.010    0.001 sre_parse.py:844(parse)\n",
      "        1    0.000    0.000    0.009    0.009 tempfile.py:24(<module>)\n",
      "      236    0.003    0.000    0.009    0.000 <frozen importlib._bootstrap_external>:263(cache_from_source)\n",
      "      118    0.009    0.000    0.009    0.000 {method 'read' of '_io.FileIO' objects}\n",
      "     1274    0.005    0.000    0.008    0.000 <frozen importlib._bootstrap_external>:59(<listcomp>)\n",
      "        1    0.000    0.000    0.008    0.008 tokenize.py:21(<module>)\n",
      "        1    0.000    0.000    0.008    0.008 main.py:1(<module>)\n",
      "      303    0.001    0.000    0.008    0.000 <frozen importlib._bootstrap_external>:1080(_path_importer_cache)\n",
      "    30/16    0.000    0.000    0.008    0.001 sre_parse.py:407(_parse_sub)\n",
      "        1    0.000    0.000    0.008    0.008 polynomial.py:4(<module>)\n",
      "      275    0.003    0.000    0.008    0.000 function_base.py:4519(add_newdoc)\n",
      "    34/16    0.002    0.000    0.008    0.000 sre_parse.py:470(_parse)\n",
      "        1    0.000    0.000    0.008    0.008 random.py:38(<module>)\n",
      "       15    0.002    0.000    0.008    0.001 <frozen importlib._bootstrap_external>:1067(_path_hooks)\n",
      "        1    0.000    0.000    0.007    0.007 string.py:15(<module>)\n",
      "        1    0.000    0.000    0.007    0.007 numerictypes.py:82(<module>)\n",
      "        1    0.000    0.000    0.007    0.007 __init__.py:88(<module>)\n",
      "        1    0.000    0.000    0.007    0.007 string.py:65(__init__)\n",
      "      246    0.001    0.000    0.006    0.000 <frozen importlib._bootstrap>:403(cached)\n",
      "        1    0.000    0.000    0.006    0.006 pickle.py:24(<module>)\n",
      "        8    0.000    0.000    0.006    0.001 __init__.py:357(namedtuple)\n",
      "      128    0.001    0.000    0.006    0.000 <frozen importlib._bootstrap_external>:361(_get_cached)\n",
      "      149    0.001    0.000    0.005    0.000 <frozen importlib._bootstrap>:147(__enter__)\n",
      "      310    0.002    0.000    0.005    0.000 enum.py:801(__and__)\n",
      "       15    0.000    0.000    0.005    0.000 <frozen importlib._bootstrap_external>:1322(path_hook_for_FileFinder)\n",
      "        1    0.000    0.000    0.005    0.005 core.py:21(<module>)\n",
      "      682    0.002    0.000    0.005    0.000 enum.py:265(__call__)\n",
      "      325    0.002    0.000    0.005    0.000 <frozen importlib._bootstrap>:157(_get_module_lock)\n",
      "       15    0.001    0.000    0.005    0.000 <frozen importlib._bootstrap_external>:1281(_fill_cache)\n",
      "        1    0.000    0.000    0.004    0.004 runner.py:1(<module>)\n",
      "       29    0.000    0.000    0.004    0.000 sre_compile.py:223(_compile_charset)\n",
      "       15    0.000    0.000    0.004    0.000 <frozen importlib._bootstrap_external>:99(_path_isdir)\n",
      "     2136    0.004    0.000    0.004    0.000 {built-in method builtins.getattr}\n",
      "        4    0.000    0.000    0.004    0.001 warnings.py:119(filterwarnings)\n",
      "      176    0.001    0.000    0.004    0.000 <frozen importlib._bootstrap>:194(_lock_unlock_module)\n",
      "      118    0.003    0.000    0.004    0.000 <frozen importlib._bootstrap_external>:430(_validate_bytecode_header)\n",
      "        1    0.000    0.000    0.004    0.004 npyio.py:1(<module>)\n",
      "        1    0.000    0.000    0.004    0.004 __init__.py:3(<module>)\n",
      "       29    0.002    0.000    0.004    0.000 sre_compile.py:250(_optimize_charset)\n",
      "     2298    0.004    0.000    0.004    0.000 {built-in method builtins.hasattr}\n",
      "        1    0.000    0.000    0.004    0.004 bz2.py:5(<module>)\n",
      "        1    0.000    0.000    0.004    0.004 hashlib.py:54(<module>)\n",
      "        1    0.000    0.000    0.004    0.004 arrayprint.py:5(<module>)\n",
      "        1    0.000    0.000    0.003    0.003 signals.py:1(<module>)\n",
      "     2804    0.003    0.000    0.003    0.000 {method 'rstrip' of 'str' objects}\n",
      "      200    0.001    0.000    0.003    0.000 {method 'all' of 'numpy.ndarray' objects}\n",
      "        1    0.000    0.000    0.003    0.003 linalg.py:10(<module>)\n",
      "        1    0.000    0.000    0.003    0.003 parse.py:28(<module>)\n",
      "        1    0.000    0.000    0.003    0.003 polynomial.py:56(<module>)\n",
      "      100    0.001    0.000    0.003    0.000 fromnumeric.py:1973(all)\n",
      "     1699    0.002    0.000    0.003    0.000 {method 'join' of 'str' objects}\n",
      "      301    0.003    0.000    0.003    0.000 {method 'reduce' of 'numpy.ufunc' objects}\n",
      "      100    0.001    0.000    0.003    0.000 linalg.py:214(_assertFinite)\n",
      "        1    0.000    0.000    0.003    0.003 fftpack.py:32(<module>)\n",
      "      200    0.001    0.000    0.003    0.000 _methods.py:40(_all)\n",
      "      139    0.001    0.000    0.003    0.000 <frozen importlib._bootstrap>:318(__exit__)\n",
      "     2181    0.003    0.000    0.003    0.000 {built-in method builtins.isinstance}\n",
      "       15    0.002    0.000    0.002    0.000 {built-in method nt.listdir}\n",
      "      236    0.002    0.000    0.002    0.000 <frozen importlib._bootstrap_external>:63(_path_split)\n",
      "      128    0.001    0.000    0.002    0.000 <frozen importlib._bootstrap_external>:1228(_get_spec)\n",
      "       43    0.000    0.000    0.002    0.000 core.py:143(get_object_signature)\n",
      "        1    0.000    0.000    0.002    0.002 fnmatch.py:11(<module>)\n",
      "        1    0.000    0.000    0.002    0.002 utils.py:1(<module>)\n",
      "        1    0.000    0.000    0.002    0.002 defmatrix.py:1(<module>)\n",
      "     1373    0.002    0.000    0.002    0.000 <frozen importlib._bootstrap>:222(_verbose_message)\n",
      "      520    0.001    0.000    0.002    0.000 sre_parse.py:253(get)\n",
      "       26    0.000    0.000    0.002    0.000 core.py:6493(__init__)\n",
      "      325    0.002    0.000    0.002    0.000 <frozen importlib._bootstrap>:78(acquire)\n",
      "      680    0.001    0.000    0.002    0.000 enum.py:515(__new__)\n",
      "        1    0.000    0.000    0.002    0.002 lzma.py:9(<module>)\n",
      "       26    0.000    0.000    0.002    0.000 core.py:6498(getdoc)\n",
      "        1    0.000    0.000    0.002    0.002 loader.py:1(<module>)\n",
      "        1    0.000    0.000    0.002    0.002 getlimits.py:3(<module>)\n",
      "     1632    0.002    0.000    0.002    0.000 {method 'append' of 'list' objects}\n",
      "        1    0.000    0.000    0.002    0.002 difflib.py:27(<module>)\n",
      "      325    0.001    0.000    0.002    0.000 <frozen importlib._bootstrap>:103(release)\n",
      "        1    0.000    0.000    0.002    0.002 datetime.py:5(<module>)\n",
      "        1    0.000    0.000    0.002    0.002 signal.py:1(<module>)\n",
      "      147    0.001    0.000    0.002    0.000 <frozen importlib._bootstrap>:58(__init__)\n",
      "        1    0.000    0.000    0.002    0.002 extras.py:10(<module>)\n",
      "1333/1301    0.002    0.000    0.002    0.000 {built-in method builtins.len}\n",
      "      100    0.001    0.000    0.002    0.000 linalg.py:139(_commonType)\n",
      "        2    0.000    0.000    0.002    0.001 enum.py:602(_convert)\n",
      "        2    0.000    0.000    0.002    0.001 function_base.py:1(<module>)\n",
      "        1    0.000    0.000    0.002    0.002 pickle.py:181(<listcomp>)\n",
      "      141    0.001    0.000    0.002    0.000 {built-in method builtins.any}\n",
      "       10    0.000    0.000    0.002    0.000 abc.py:132(__new__)\n",
      "        1    0.000    0.000    0.001    0.001 fromnumeric.py:3(<module>)\n",
      "      410    0.001    0.000    0.001    0.000 <frozen importlib._bootstrap>:847(__exit__)\n",
      "      149    0.001    0.000    0.001    0.000 <frozen importlib._bootstrap>:151(__exit__)\n",
      "      100    0.000    0.000    0.001    0.000 {method 'max' of 'numpy.ndarray' objects}\n",
      "      410    0.001    0.000    0.001    0.000 <frozen importlib._bootstrap>:843(__enter__)\n",
      "      102    0.000    0.000    0.001    0.000 re.py:169(match)\n",
      "      128    0.001    0.000    0.001    0.000 <frozen importlib._bootstrap_external>:524(spec_from_file_location)\n",
      "       16    0.000    0.000    0.001    0.000 sre_compile.py:482(_compile_info)\n",
      "  498/485    0.001    0.000    0.001    0.000 {built-in method builtins.issubclass}\n",
      "      147    0.001    0.000    0.001    0.000 <frozen importlib._bootstrap>:176(cb)\n",
      "        1    0.000    0.000    0.001    0.001 numbers.py:6(<module>)\n",
      "       38    0.001    0.000    0.001    0.000 _inspect.py:142(formatargspec)\n",
      "       30    0.000    0.000    0.001    0.000 enum.py:795(__or__)\n",
      "      300    0.001    0.000    0.001    0.000 linalg.py:111(isComplexType)\n",
      "        2    0.000    0.000    0.001    0.001 enum.py:364(_create_)\n",
      "      938    0.001    0.000    0.001    0.000 {method 'rpartition' of 'str' objects}\n",
      "      101    0.000    0.000    0.001    0.000 _methods.py:25(_amax)\n",
      "      882    0.001    0.000    0.001    0.000 {built-in method _imp.acquire_lock}\n",
      "       19    0.000    0.000    0.001    0.000 nosetester.py:518(_numpy_tester)\n",
      "       16    0.000    0.000    0.001    0.000 sre_parse.py:828(fix_flags)\n",
      "      100    0.000    0.000    0.001    0.000 linalg.py:106(_makearray)\n",
      "       30    0.001    0.000    0.001    0.000 functools.py:44(update_wrapper)\n",
      "        6    0.000    0.000    0.001    0.000 getlimits.py:65(__init__)\n",
      "      882    0.001    0.000    0.001    0.000 {built-in method _imp.release_lock}\n",
      "      653    0.001    0.000    0.001    0.000 sre_parse.py:232(__next)\n",
      "      236    0.001    0.000    0.001    0.000 sre_parse.py:163(__getitem__)\n",
      "      236    0.001    0.000    0.001    0.000 <frozen importlib._bootstrap_external>:52(_r_long)\n",
      "      317    0.001    0.000    0.001    0.000 <frozen importlib._bootstrap>:416(parent)\n",
      "      299    0.001    0.000    0.001    0.000 {built-in method _thread.allocate_lock}\n",
      "      100    0.001    0.000    0.001    0.000 linalg.py:209(_assertNdSquareness)\n",
      "       19    0.000    0.000    0.001    0.000 nosetester.py:152(__init__)\n",
      "      405    0.001    0.000    0.001    0.000 {method 'format' of 'str' objects}\n",
      "        3    0.000    0.000    0.001    0.000 numeric.py:367(extend_all)\n",
      "        1    0.000    0.000    0.001    0.001 numerictypes.py:301(_add_aliases)\n",
      "   107/57    0.001    0.000    0.001    0.000 sre_parse.py:173(getwidth)\n",
      "       43    0.000    0.000    0.001    0.000 _inspect.py:98(getargspec)\n",
      "      248    0.001    0.000    0.001    0.000 sre_compile.py:102(fixup)\n",
      "      274    0.001    0.000    0.001    0.000 {built-in method numpy.core.multiarray.array}\n",
      "        7    0.000    0.000    0.001    0.000 abc.py:151(register)\n",
      "      597    0.001    0.000    0.001    0.000 {method 'get' of 'dict' objects}\n",
      "      651    0.001    0.000    0.001    0.000 {built-in method _thread.get_ident}\n",
      "       51    0.000    0.000    0.001    0.000 _internal.py:703(_ufunc_doc_signature_formatter)\n",
      "       11    0.000    0.000    0.001    0.000 <frozen importlib._bootstrap>:728(create_module)\n",
      "        2    0.000    0.000    0.001    0.000 enum.py:124(__new__)\n",
      "        3    0.000    0.000    0.001    0.000 enum.py:758(_missing_)\n",
      "        1    0.000    0.000    0.001    0.001 util.py:1(<module>)\n",
      "       19    0.000    0.000    0.001    0.000 ntpath.py:240(dirname)\n",
      "        3    0.000    0.000    0.001    0.000 enum.py:765(_create_pseudo_member_)\n",
      "        9    0.000    0.000    0.001    0.000 datetime.py:355(__new__)\n",
      "      144    0.000    0.000    0.001    0.000 <frozen importlib._bootstrap>:707(find_spec)\n",
      "     12/7    0.000    0.000    0.001    0.000 abc.py:194(__subclasscheck__)\n",
      "      556    0.001    0.000    0.001    0.000 <frozen importlib._bootstrap>:321(<genexpr>)\n",
      "       15    0.000    0.000    0.001    0.000 <frozen importlib._bootstrap_external>:1196(__init__)\n",
      "       11    0.001    0.000    0.001    0.000 {built-in method _imp.create_builtin}\n",
      "       18    0.000    0.000    0.001    0.000 core.py:1021(__init__)\n",
      "        1    0.000    0.000    0.001    0.001 argparse.py:62(<module>)\n",
      "        3    0.000    0.000    0.001    0.000 enum.py:837(_decompose)\n",
      "      236    0.001    0.000    0.001    0.000 {method 'rsplit' of 'str' objects}\n",
      "       30    0.000    0.000    0.001    0.000 getlimits.py:70(<lambda>)\n",
      "       19    0.000    0.000    0.001    0.000 ntpath.py:199(split)\n",
      "       14    0.000    0.000    0.001    0.000 hashlib.py:116(__get_openssl_constructor)\n",
      "      133    0.000    0.000    0.001    0.000 <frozen importlib._bootstrap>:780(find_spec)\n",
      "      268    0.001    0.000    0.001    0.000 {built-in method numpy.core.multiarray.add_docstring}\n",
      "        1    0.000    0.000    0.001    0.001 numerictypes.py:120(<listcomp>)\n",
      "       27    0.000    0.000    0.001    0.000 core.py:940(__init__)\n",
      "        3    0.000    0.000    0.001    0.000 tokenize.py:137(_all_string_prefixes)\n",
      "        1    0.000    0.000    0.001    0.001 pathlib.py:382(_NormalAccessor)\n",
      "        1    0.000    0.000    0.001    0.001 numerictypes.py:957(_register_types)\n",
      "      468    0.001    0.000    0.001    0.000 {method 'add' of 'set' objects}\n",
      "      118    0.000    0.000    0.001    0.000 <frozen importlib._bootstrap_external>:393(_check_name_wrapper)\n",
      "      154    0.000    0.000    0.001    0.000 sre_parse.py:171(append)\n",
      "        1    0.001    0.001    0.001    0.001 {built-in method sys.getwindowsversion}\n",
      "      100    0.000    0.000    0.001    0.000 numeric.py:534(asanyarray)\n",
      "        9    0.000    0.000    0.001    0.000 extras.py:238(__init__)\n",
      "      268    0.001    0.000    0.001    0.000 {method 'strip' of 'str' objects}\n",
      "        8    0.000    0.000    0.001    0.000 hashlib.py:73(__get_builtin_constructor)\n",
      "      403    0.000    0.000    0.000    0.000 {built-in method nt.fspath}\n",
      "        9    0.000    0.000    0.000    0.000 extras.py:242(getdoc)\n",
      "       87    0.000    0.000    0.000    0.000 {method 'extend' of 'list' objects}\n",
      "        1    0.000    0.000    0.000    0.000 threading.py:1(<module>)\n",
      "      259    0.000    0.000    0.000    0.000 <frozen importlib._bootstrap_external>:37(_relax_case)\n",
      "       45    0.000    0.000    0.000    0.000 {built-in method __new__ of type object at 0x0000000064C7B3F0}\n",
      "      100    0.000    0.000    0.000    0.000 linalg.py:127(_complexType)\n",
      "       15    0.000    0.000    0.000    0.000 <frozen importlib._bootstrap_external>:1310(<setcomp>)\n",
      "      242    0.000    0.000    0.000    0.000 {built-in method builtins.setattr}\n",
      "      100    0.000    0.000    0.000    0.000 numeric.py:463(asarray)\n",
      "      100    0.000    0.000    0.000    0.000 {method 'astype' of 'numpy.ndarray' objects}\n",
      "        3    0.000    0.000    0.000    0.000 enum.py:855(<listcomp>)\n",
      "      193    0.000    0.000    0.000    0.000 sre_parse.py:248(match)\n",
      "       10    0.000    0.000    0.000    0.000 pathlib.py:384(_wrap_strfunc)\n",
      "        1    0.000    0.000    0.000    0.000 _compat_pickle.py:9(<module>)\n",
      "      328    0.000    0.000    0.000    0.000 {built-in method _sre.getlower}\n",
      "       10    0.000    0.000    0.000    0.000 abc.py:135(<setcomp>)\n",
      "      250    0.000    0.000    0.000    0.000 {built-in method builtins.min}\n",
      "      359    0.000    0.000    0.000    0.000 {built-in method builtins.globals}\n",
      "      100    0.000    0.000    0.000    0.000 linalg.py:124(_realType)\n",
      "       26    0.000    0.000    0.000    0.000 numerictypes.py:229(bitname)\n",
      "      236    0.000    0.000    0.000    0.000 {built-in method from_bytes}\n",
      "      118    0.000    0.000    0.000    0.000 {built-in method _imp._fix_co_filename}\n",
      "      321    0.000    0.000    0.000    0.000 {method 'lower' of 'str' objects}\n",
      "      101    0.000    0.000    0.000    0.000 sre_parse.py:285(tell)\n",
      "        1    0.000    0.000    0.000    0.000 ctypeslib.py:51(<module>)\n",
      "        1    0.000    0.000    0.000    0.000 mixins.py:1(<module>)\n",
      "      308    0.000    0.000    0.000    0.000 {built-in method builtins.chr}\n",
      "        1    0.000    0.000    0.000    0.000 numerictypes.py:285(_add_types)\n",
      "        1    0.000    0.000    0.000    0.000 ast.py:26(<module>)\n",
      "      287    0.000    0.000    0.000    0.000 {method 'startswith' of 'str' objects}\n",
      "      148    0.000    0.000    0.000    0.000 <frozen importlib._bootstrap>:369(__init__)\n",
      "        8    0.000    0.000    0.000    0.000 core.py:7973(__init__)\n",
      "      118    0.000    0.000    0.000    0.000 <frozen importlib._bootstrap>:35(_new_module)\n",
      "        1    0.000    0.000    0.000    0.000 token.py:1(<module>)\n",
      "       38    0.000    0.000    0.000    0.000 _inspect.py:67(getargs)\n",
      "       97    0.000    0.000    0.000    0.000 sre_parse.py:159(__len__)\n",
      "       15    0.000    0.000    0.000    0.000 enum.py:70(__setitem__)\n",
      "        1    0.000    0.000    0.000    0.000 _iotools.py:3(<module>)\n",
      "        1    0.000    0.000    0.000    0.000 mixins.py:63(NDArrayOperatorsMixin)\n",
      "       11    0.000    0.000    0.000    0.000 sre_parse.py:96(closegroup)\n",
      "       30    0.000    0.000    0.000    0.000 sre_compile.py:388(_simple)\n",
      "        1    0.000    0.000    0.000    0.000 pathlib.py:107(_WindowsFlavour)\n",
      "        1    0.000    0.000    0.000    0.000 bisect.py:1(<module>)\n",
      "       36    0.000    0.000    0.000    0.000 getlimits.py:69(<lambda>)\n",
      "       72    0.000    0.000    0.000    0.000 numerictypes.py:127(english_lower)\n",
      "        1    0.000    0.000    0.000    0.000 token.py:74(<dictcomp>)\n",
      "        1    0.000    0.000    0.000    0.000 numeric.py:374(<listcomp>)\n",
      "        2    0.000    0.000    0.000    0.000 enum.py:623(<listcomp>)\n",
      "      100    0.000    0.000    0.000    0.000 linalg.py:101(get_linalg_error_extobj)\n",
      "       13    0.000    0.000    0.000    0.000 sre_compile.py:376(_mk_bitmap)\n",
      "        8    0.000    0.000    0.000    0.000 core.py:7978(getdoc)\n",
      "      139    0.000    0.000    0.000    0.000 <frozen importlib._bootstrap>:311(__enter__)\n",
      "       19    0.000    0.000    0.000    0.000 ntpath.py:121(splitdrive)\n",
      "       19    0.000    0.000    0.000    0.000 _weakrefset.py:58(__iter__)\n",
      "      138    0.000    0.000    0.000    0.000 {method 'endswith' of 'str' objects}\n",
      "      149    0.000    0.000    0.000    0.000 <frozen importlib._bootstrap>:143(__init__)\n",
      "        6    0.000    0.000    0.000    0.000 contextlib.py:129(contextmanager)\n",
      "      100    0.000    0.000    0.000    0.000 linalg.py:198(_assertRankAtLeast2)\n",
      "       30    0.000    0.000    0.000    0.000 getlimits.py:26(_fr1)\n",
      "      102    0.000    0.000    0.000    0.000 {method 'match' of '_sre.SRE_Pattern' objects}\n",
      "      139    0.000    0.000    0.000    0.000 <frozen importlib._bootstrap>:307(__init__)\n",
      "        1    0.000    0.000    0.000    0.000 chebyshev.py:87(<module>)\n",
      "      133    0.000    0.000    0.000    0.000 {built-in method _imp.is_frozen}\n",
      "       11    0.000    0.000    0.000    0.000 <frozen importlib._bootstrap>:433(spec_from_loader)\n",
      "      181    0.000    0.000    0.000    0.000 {method 'partition' of 'str' objects}\n",
      "       60    0.000    0.000    0.000    0.000 _inspect.py:146(<lambda>)\n",
      "       78    0.000    0.000    0.000    0.000 _internal.py:714(<genexpr>)\n",
      "      106    0.000    0.000    0.000    0.000 {built-in method builtins.max}\n",
      "        1    0.000    0.000    0.000    0.000 _polybase.py:8(<module>)\n",
      "        6    0.000    0.000    0.000    0.000 core.py:1174(__init__)\n",
      "      118    0.000    0.000    0.000    0.000 <frozen importlib._bootstrap_external>:800(__init__)\n",
      "        2    0.000    0.000    0.000    0.000 os.py:672(__setitem__)\n",
      "       14    0.000    0.000    0.000    0.000 __init__.py:139(_check_size)\n",
      "        4    0.000    0.000    0.000    0.000 {built-in method nt.putenv}\n",
      "        1    0.000    0.000    0.000    0.000 suite.py:1(<module>)\n",
      "        1    0.000    0.000    0.000    0.000 _compression.py:1(<module>)\n",
      "        2    0.000    0.000    0.000    0.000 shape_base.py:1(<module>)\n",
      "        1    0.000    0.000    0.000    0.000 records.py:36(<module>)\n",
      "        1    0.000    0.000    0.000    0.000 hermite.py:59(<module>)\n",
      "       12    0.000    0.000    0.000    0.000 mixins.py:48(_numeric_methods)\n",
      "       54    0.000    0.000    0.000    0.000 types.py:135(__get__)\n",
      "        1    0.000    0.000    0.000    0.000 laguerre.py:59(<module>)\n",
      "        1    0.000    0.000    0.000    0.000 legendre.py:83(<module>)\n",
      "      175    0.000    0.000    0.000    0.000 {built-in method builtins.ord}\n",
      "        1    0.000    0.000    0.000    0.000 hermite_e.py:59(<module>)\n",
      "       28    0.000    0.000    0.000    0.000 signal.py:10(<lambda>)\n",
      "        1    0.000    0.000    0.000    0.000 numerictypes.py:781(_construct_lookups)\n",
      "        1    0.000    0.000    0.000    0.000 __init__.py:259(_reset_cache)\n",
      "      110    0.000    0.000    0.000    0.000 {method 'translate' of 'str' objects}\n",
      "       54    0.000    0.000    0.000    0.000 sre_parse.py:81(groups)\n",
      "        8    0.000    0.000    0.000    0.000 sre_parse.py:266(getuntil)\n",
      "       51    0.000    0.000    0.000    0.000 {built-in method _imp.is_builtin}\n",
      "        1    0.000    0.000    0.000    0.000 defchararray.py:17(<module>)\n",
      "        1    0.000    0.000    0.000    0.000 result.py:24(TestResult)\n",
      "        1    0.000    0.000    0.000    0.000 _endian.py:1(<module>)\n",
      "      139    0.000    0.000    0.000    0.000 <frozen importlib._bootstrap>:424(has_location)\n",
      "        1    0.000    0.000    0.000    0.000 datetime.py:1949(timezone)\n",
      "       37    0.000    0.000    0.000    0.000 __init__.py:422(<genexpr>)\n",
      "       11    0.000    0.000    0.000    0.000 sre_parse.py:84(opengroup)\n",
      "        1    0.000    0.000    0.000    0.000 ufunclike.py:5(<module>)\n",
      "        1    0.000    0.000    0.000    0.000 numerictypes.py:451(_set_array_types)\n",
      "      111    0.000    0.000    0.000    0.000 {method 'find' of 'bytearray' objects}\n",
      "       37    0.000    0.000    0.000    0.000 __init__.py:420(<genexpr>)\n",
      "        3    0.000    0.000    0.000    0.000 result.py:12(failfast)\n",
      "       98    0.000    0.000    0.000    0.000 _inspect.py:133(strseq)\n",
      "        1    0.000    0.000    0.000    0.000 polyutils.py:45(<module>)\n",
      "       43    0.000    0.000    0.000    0.000 _inspect.py:15(ismethod)\n",
      "       16    0.000    0.000    0.000    0.000 sre_parse.py:223(__init__)\n",
      "        1    0.000    0.000    0.000    0.000 core.py:2731(MaskedArray)\n",
      "        1    0.000    0.000    0.000    0.000 _globals.py:17(<module>)\n",
      "      120    0.000    0.000    0.000    0.000 <frozen importlib._bootstrap_external>:1202(<genexpr>)\n",
      "        3    0.000    0.000    0.000    0.000 datetime.py:1368(__new__)\n",
      "       38    0.000    0.000    0.000    0.000 numerictypes.py:154(english_upper)\n",
      "      118    0.000    0.000    0.000    0.000 <frozen importlib._bootstrap_external>:825(get_filename)\n",
      "      118    0.000    0.000    0.000    0.000 <frozen importlib._bootstrap_external>:669(create_module)\n",
      "       13    0.000    0.000    0.000    0.000 sre_compile.py:378(<listcomp>)\n",
      "        1    0.000    0.000    0.000    0.000 _import_tools.py:1(<module>)\n",
      "       43    0.000    0.000    0.000    0.000 _inspect.py:28(isfunction)\n",
      "       25    0.000    0.000    0.000    0.000 enum.py:351(__setattr__)\n",
      "        1    0.000    0.000    0.000    0.000 nosetester.py:6(<module>)\n",
      "        1    0.000    0.000    0.000    0.000 _methods.py:5(<module>)\n",
      "       47    0.000    0.000    0.000    0.000 {method 'update' of 'dict' objects}\n",
      "       24    0.000    0.000    0.000    0.000 tokenize.py:148(<listcomp>)\n",
      "        3    0.000    0.000    0.000    0.000 __init__.py:73(CFUNCTYPE)\n",
      "        3    0.000    0.000    0.000    0.000 ufunclike.py:14(_deprecate_out_named_y)\n",
      "       24    0.000    0.000    0.000    0.000 enum.py:872(_power_of_two)\n",
      "       38    0.000    0.000    0.000    0.000 _inspect.py:43(iscode)\n",
      "       32    0.000    0.000    0.000    0.000 sre_compile.py:539(isstring)\n",
      "        6    0.000    0.000    0.000    0.000 enum.py:417(_get_mixins_)\n",
      "       40    0.000    0.000    0.000    0.000 _weakrefset.py:36(__init__)\n",
      "       13    0.000    0.000    0.000    0.000 sre_parse.py:342(_escape)\n",
      "        6    0.000    0.000    0.000    0.000 numeric.py:2667(seterr)\n",
      "        3    0.000    0.000    0.000    0.000 pathlib.py:390(_wrap_binary_strfunc)\n",
      "       40    0.000    0.000    0.000    0.000 {built-in method nt.getcwd}\n",
      "       68    0.000    0.000    0.000    0.000 {built-in method builtins.repr}\n",
      "       66    0.000    0.000    0.000    0.000 sre_parse.py:111(__init__)\n",
      "        1    0.000    0.000    0.000    0.000 memmap.py:1(<module>)\n",
      "       35    0.000    0.000    0.000    0.000 datetime.py:261(_check_int_field)\n",
      "       10    0.000    0.000    0.000    0.000 <frozen importlib._bootstrap_external>:927(exec_module)\n",
      "        1    0.000    0.000    0.000    0.000 _datasource.py:35(<module>)\n",
      "       30    0.000    0.000    0.000    0.000 {method 'copy' of 'numpy.ndarray' objects}\n",
      "        1    0.000    0.000    0.000    0.000 numerictypes.py:428(_construct_char_code_lookup)\n",
      "        1    0.000    0.000    0.000    0.000 threading.py:1190(__init__)\n",
      "        1    0.000    0.000    0.000    0.000 case.py:341(TestCase)\n",
      "       30    0.000    0.000    0.000    0.000 numerictypes.py:443(_add_array_type)\n",
      "        2    0.000    0.000    0.000    0.000 functools.py:479(decorating_function)\n",
      "       27    0.000    0.000    0.000    0.000 pathlib.py:119(<genexpr>)\n",
      "        1    0.000    0.000    0.000    0.000 pprint.py:35(<module>)\n",
      "       11    0.000    0.000    0.000    0.000 enum.py:20(_is_descriptor)\n",
      "        6    0.000    0.000    0.000    0.000 sre_compile.py:381(_bytes_to_codes)\n",
      "        5    0.000    0.000    0.000    0.000 datetime.py:291(_check_time_fields)\n",
      "        2    0.000    0.000    0.000    0.000 enum.py:114(__prepare__)\n",
      "        1    0.000    0.000    0.000    0.000 scimath.py:17(<module>)\n",
      "       11    0.000    0.000    0.000    0.000 _weakrefset.py:26(__exit__)\n",
      "       86    0.000    0.000    0.000    0.000 _compat_pickle.py:167(<genexpr>)\n",
      "       23    0.000    0.000    0.000    0.000 numerictypes.py:216(_evalname)\n",
      "        5    0.000    0.000    0.000    0.000 datetime.py:278(_check_date_fields)\n",
      "        1    0.000    0.000    0.000    0.000 stride_tricks.py:7(<module>)\n",
      "       72    0.000    0.000    0.000    0.000 {built-in method builtins.abs}\n",
      "        3    0.000    0.000    0.000    0.000 __init__.py:476(PYFUNCTYPE)\n",
      "       27    0.000    0.000    0.000    0.000 pathlib.py:120(<genexpr>)\n",
      "       20    0.000    0.000    0.000    0.000 tokenize.py:112(group)\n",
      "        3    0.000    0.000    0.000    0.000 numeric.py:3064(__enter__)\n",
      "        2    0.000    0.000    0.000    0.000 {built-in method _ctypes.POINTER}\n",
      "        2    0.000    0.000    0.000    0.000 os.py:678(__delitem__)\n",
      "        1    0.000    0.000    0.000    0.000 __future__.py:48(<module>)\n",
      "       12    0.000    0.000    0.000    0.000 numerictypes.py:181(english_capitalize)\n",
      "       19    0.000    0.000    0.000    0.000 ntpath.py:33(_get_bothseps)\n",
      "       21    0.000    0.000    0.000    0.000 {built-in method numpy.core.multiarray.empty}\n",
      "       19    0.000    0.000    0.000    0.000 _weakrefset.py:81(add)\n",
      "        1    0.000    0.000    0.000    0.000 helper.py:4(<module>)\n",
      "       11    0.000    0.000    0.000    0.000 <frozen importlib._bootstrap>:736(exec_module)\n",
      "        1    0.000    0.000    0.000    0.000 datetime.py:530(__neg__)\n",
      "        2    0.000    0.000    0.000    0.000 __init__.py:332(__init__)\n",
      "       19    0.000    0.000    0.000    0.000 mixins.py:20(_binary_method)\n",
      "        1    0.000    0.000    0.000    0.000 linalg.py:76(_determine_error_states)\n",
      "       54    0.000    0.000    0.000    0.000 abc.py:9(abstractmethod)\n",
      "        1    0.000    0.000    0.000    0.000 format.py:149(<module>)\n",
      "        1    0.000    0.000    0.000    0.000 machar.py:7(<module>)\n",
      "        4    0.000    0.000    0.000    0.000 <frozen importlib._bootstrap_external>:1102(_legacy_get_spec)\n",
      "        7    0.000    0.000    0.000    0.000 os.py:734(encodekey)\n",
      "       18    0.000    0.000    0.000    0.000 enum.py:820(_high_bit)\n",
      "       11    0.000    0.000    0.000    0.000 <frozen importlib._bootstrap>:232(_requires_builtin_wrapper)\n",
      "        1    0.000    0.000    0.000    0.000 twodim_base.py:3(<module>)\n",
      "        2    0.000    0.000    0.000    0.000 core.py:6370(__init__)\n",
      "        3    0.000    0.000    0.000    0.000 numeric.py:3069(__exit__)\n",
      "        1    0.000    0.000    0.000    0.000 arrayterator.py:9(<module>)\n",
      "       41    0.000    0.000    0.000    0.000 {method 'pop' of 'dict' objects}\n",
      "       12    0.000    0.000    0.000    0.000 ctypeslib.py:330(prep_simple)\n",
      "       43    0.000    0.000    0.000    0.000 {method 'upper' of 'str' objects}\n",
      "        5    0.000    0.000    0.000    0.000 {method 'sort' of 'list' objects}\n",
      "        1    0.000    0.000    0.000    0.000 <string>:1(<module>)\n",
      "        5    0.000    0.000    0.000    0.000 warnings.py:159(_add_filter)\n",
      "        2    0.000    0.000    0.000    0.000 datetime.py:1048(__new__)\n",
      "       28    0.000    0.000    0.000    0.000 functools.py:74(wraps)\n",
      "        3    0.000    0.000    0.000    0.000 utils.py:118(deprecate)\n",
      "        1    0.000    0.000    0.000    0.000 arraysetops.py:27(<module>)\n",
      "       50    0.000    0.000    0.000    0.000 {built-in method _ctypes.sizeof}\n",
      "       51    0.000    0.000    0.000    0.000 enum.py:592(name)\n",
      "       35    0.000    0.000    0.000    0.000 {method 'replace' of 'str' objects}\n",
      "        1    0.000    0.000    0.000    0.000 _polybase.py:19(ABCPolyBase)\n",
      "       45    0.000    0.000    0.000    0.000 {built-in method builtins.divmod}\n",
      "        1    0.000    0.000    0.000    0.000 _version.py:7(<module>)\n",
      "       45    0.000    0.000    0.000    0.000 {method 'isidentifier' of 'str' objects}\n",
      "        2    0.000    0.000    0.000    0.000 enum.py:462(_find_new_)\n",
      "       16    0.000    0.000    0.000    0.000 {built-in method _sre.compile}\n",
      "        3    0.000    0.000    0.000    0.000 os.py:664(__getitem__)\n",
      "        1    0.000    0.000    0.000    0.000 arrayprint.py:378(decorating_function)\n",
      "        1    0.000    0.000    0.000    0.000 case.py:44(_Outcome)\n",
      "        2    0.000    0.000    0.000    0.000 os.py:720(<lambda>)\n",
      "       13    0.000    0.000    0.000    0.000 mixins.py:30(_reflected_binary_method)\n",
      "        1    0.000    0.000    0.000    0.000 nanfunctions.py:21(<module>)\n",
      "        2    0.000    0.000    0.000    0.000 datetime.py:688(__new__)\n",
      "        1    0.000    0.000    0.000    0.000 numbers.py:32(Complex)\n",
      "        3    0.000    0.000    0.000    0.000 utils.py:74(__call__)\n",
      "       43    0.000    0.000    0.000    0.000 _compat_pickle.py:165(<genexpr>)\n",
      "       12    0.000    0.000    0.000    0.000 mixins.py:40(_inplace_binary_method)\n",
      "        9    0.000    0.000    0.000    0.000 core.py:2569(_arraymethod)\n",
      "       11    0.000    0.000    0.000    0.000 _weakrefset.py:20(__enter__)\n",
      "        1    0.000    0.000    0.000    0.000 __init__.py:415(__getattr__)\n",
      "        1    0.000    0.000    0.000    0.000 __init__.py:1083(__init__)\n",
      "       30    0.000    0.000    0.000    0.000 sre_parse.py:167(__setitem__)\n",
      "        1    0.000    0.000    0.000    0.000 numerictypes.py:338(_add_integer_aliases)\n",
      "        1    0.000    0.000    0.000    0.000 numbers.py:294(Integral)\n",
      "       37    0.000    0.000    0.000    0.000 {method '__contains__' of 'frozenset' objects}\n",
      "        1    0.000    0.000    0.000    0.000 pathlib.py:602(PurePath)\n",
      "        6    0.000    0.000    0.000    0.000 numeric.py:2767(geterr)\n",
      "        5    0.000    0.000    0.000    0.000 sre_compile.py:441(_get_charset_prefix)\n",
      "       27    0.000    0.000    0.000    0.000 {built-in method sys._getframe}\n",
      "        1    0.000    0.000    0.000    0.000 threading.py:757(__init__)\n",
      "        2    0.000    0.000    0.000    0.000 _collections_abc.py:664(__contains__)\n",
      "       34    0.000    0.000    0.000    0.000 {method 'items' of 'dict' objects}\n",
      "       16    0.000    0.000    0.000    0.000 sre_parse.py:76(__init__)\n",
      "        1    0.000    0.000    0.000    0.000 __init__.py:769(__init__)\n",
      "        1    0.000    0.000    0.000    0.000 arraypad.py:5(<module>)\n",
      "      8/6    0.000    0.000    0.000    0.000 sre_compile.py:414(_get_literal_prefix)\n",
      "        1    0.000    0.000    0.000    0.000 _iotools.py:251(NameValidator)\n",
      "        1    0.000    0.000    0.000    0.000 financial.py:10(<module>)\n",
      "        1    0.000    0.000    0.000    0.000 fromnumeric.py:2174(amax)\n",
      "        1    0.000    0.000    0.000    0.000 numerictypes.py:379(_set_up_aliases)\n",
      "        8    0.000    0.000    0.000    0.000 sre_parse.py:294(_class_escape)\n",
      "        1    0.000    0.000    0.000    0.000 threading.py:512(set)\n",
      "        5    0.000    0.000    0.000    0.000 getlimits.py:507(__init__)\n",
      "        9    0.000    0.000    0.000    0.000 {built-in method builtins.round}\n",
      "        9    0.000    0.000    0.000    0.000 os.py:728(check_str)\n",
      "        1    0.000    0.000    0.000    0.000 numbers.py:147(Real)\n",
      "       25    0.000    0.000    0.000    0.000 {method 'get' of 'mappingproxy' objects}\n",
      "       18    0.000    0.000    0.000    0.000 {built-in method _struct.calcsize}\n",
      "       15    0.000    0.000    0.000    0.000 enum.py:28(_is_dunder)\n",
      "        1    0.000    0.000    0.000    0.000 einsumfunc.py:4(<module>)\n",
      "        1    0.000    0.000    0.000    0.000 _iotools.py:474(StringConverter)\n",
      "        1    0.000    0.000    0.000    0.000 posixpath.py:11(<module>)\n",
      "       28    0.000    0.000    0.000    0.000 {method 'isupper' of 'str' objects}\n",
      "       29    0.000    0.000    0.000    0.000 signal.py:17(<lambda>)\n",
      "        1    0.000    0.000    0.000    0.000 pickle.py:986(_Unpickler)\n",
      "       15    0.000    0.000    0.000    0.000 _weakrefset.py:70(__contains__)\n",
      "       13    0.000    0.000    0.000    0.000 {method 'translate' of 'bytearray' objects}\n",
      "       15    0.000    0.000    0.000    0.000 enum.py:36(_is_sunder)\n",
      "        1    0.000    0.000    0.000    0.000 polynomial.py:1601(Polynomial)\n",
      "        1    0.000    0.000    0.000    0.000 _collections_abc.py:657(get)\n",
      "        4    0.000    0.000    0.000    0.000 {method 'find_loader' of 'zipimport.zipimporter' objects}\n",
      "        1    0.000    0.000    0.000    0.000 threading.py:498(__init__)\n",
      "        1    0.000    0.000    0.000    0.000 random.py:87(__init__)\n",
      "        1    0.000    0.000    0.000    0.000 argparse.py:150(HelpFormatter)\n",
      "        7    0.000    0.000    0.000    0.000 {built-in method numpy.core.umath.seterrobj}\n",
      "        1    0.000    0.000    0.000    0.000 {built-in method builtins.dir}\n",
      "        1    0.000    0.000    0.000    0.000 warnings.py:143(simplefilter)\n",
      "        1    0.000    0.000    0.000    0.000 weakref.py:102(__init__)\n",
      "        1    0.000    0.000    0.000    0.000 __init__.py:358(__getattr__)\n",
      "        1    0.000    0.000    0.000    0.000 defmatrix.py:174(matrix)\n",
      "        1    0.000    0.000    0.000    0.000 _inspect.py:7(<module>)\n",
      "        1    0.000    0.000    0.000    0.000 pprint.py:98(PrettyPrinter)\n",
      "        1    0.000    0.000    0.000    0.000 argparse.py:1050(_SubParsersAction)\n",
      "        1    0.000    0.000    0.000    0.000 random.py:96(seed)\n",
      "        1    0.000    0.000    0.000    0.000 pathlib.py:970(Path)\n",
      "        4    0.000    0.000    0.000    0.000 core.py:124(doc_note)\n",
      "       14    0.000    0.000    0.000    0.000 {built-in method numpy.core.umath.geterrobj}\n",
      "       19    0.000    0.000    0.000    0.000 {method 'keys' of 'dict' objects}\n",
      "       11    0.000    0.000    0.000    0.000 {method 'remove' of 'list' objects}\n",
      "        1    0.000    0.000    0.000    0.000 {built-in method builtins.print}\n",
      "       10    0.000    0.000    0.000    0.000 <frozen importlib._bootstrap_external>:908(__init__)\n",
      "        2    0.000    0.000    0.000    0.000 enum.py:160(<setcomp>)\n",
      "        3    0.000    0.000    0.000    0.000 numeric.py:3060(__init__)\n",
      "       11    0.000    0.000    0.000    0.000 _weakrefset.py:16(__init__)\n",
      "        1    0.000    0.000    0.000    0.000 polynomial.py:939(poly1d)\n",
      "       18    0.000    0.000    0.000    0.000 {method 'bit_length' of 'int' objects}\n",
      "        1    0.000    0.000    0.000    0.000 threading.py:215(__init__)\n",
      "        1    0.000    0.000    0.000    0.000 threading.py:357(notify_all)\n",
      "        1    0.000    0.000    0.000    0.000 datetime.py:1360(datetime)\n",
      "        1    0.000    0.000    0.000    0.000 __init__.py:750(_addHandlerRef)\n",
      "        1    0.000    0.000    0.000    0.000 threading.py:738(Thread)\n",
      "        6    0.000    0.000    0.000    0.000 {method 'tolist' of 'memoryview' objects}\n",
      "        1    0.000    0.000    0.000    0.000 chebyshev.py:2036(Chebyshev)\n",
      "        1    0.000    0.000    0.000    0.000 __config__.py:3(<module>)\n",
      "        1    0.000    0.000    0.000    0.000 __init__.py:1580(__init__)\n",
      "       11    0.000    0.000    0.000    0.000 {built-in method _imp.exec_builtin}\n",
      "       11    0.000    0.000    0.000    0.000 _weakrefset.py:52(_commit_removals)\n",
      "        2    0.000    0.000    0.000    0.000 numeric.py:1942(set_string_function)\n",
      "        1    0.000    0.000    0.000    0.000 numeric.py:3075(_setdef)\n",
      "        9    0.000    0.000    0.000    0.000 __future__.py:79(__init__)\n",
      "        1    0.000    0.000    0.000    0.000 datetime.py:336(timedelta)\n",
      "        1    0.000    0.000    0.000    0.000 __init__.py:365(__getitem__)\n",
      "        4    0.000    0.000    0.000    0.000 mixins.py:55(_unary_method)\n",
      "       10    0.000    0.000    0.000    0.000 {built-in method _imp.exec_dynamic}\n",
      "        2    0.000    0.000    0.000    0.000 enum.py:310(__getattr__)\n",
      "        2    0.000    0.000    0.000    0.000 helper.py:251(__init__)\n",
      "        1    0.000    0.000    0.000    0.000 info.py:156(<module>)\n",
      "        1    0.000    0.000    0.000    0.000 info.py:83(<module>)\n",
      "       10    0.000    0.000    0.000    0.000 case.py:1315(_deprecate)\n",
      "        1    0.000    0.000    0.000    0.000 legendre.py:1790(Legendre)\n",
      "        1    0.000    0.000    0.000    0.000 info.py:86(<module>)\n",
      "       11    0.000    0.000    0.000    0.000 {method 'remove' of 'set' objects}\n",
      "       11    0.000    0.000    0.000    0.000 enum.py:628(<lambda>)\n",
      "        1    0.000    0.000    0.000    0.000 _import_tools.py:9(PackageLoader)\n",
      "        1    0.000    0.000    0.000    0.000 <string>:5(TokenInfo)\n",
      "        1    0.000    0.000    0.000    0.000 hermite.py:1810(Hermite)\n",
      "        1    0.000    0.000    0.000    0.000 hermite_e.py:1807(HermiteE)\n",
      "        1    0.000    0.000    0.000    0.000 laguerre.py:1760(Laguerre)\n",
      "        6    0.000    0.000    0.000    0.000 {method 'cast' of 'memoryview' objects}\n",
      "       11    0.000    0.000    0.000    0.000 {method '__subclasses__' of 'type' objects}\n",
      "        7    0.000    0.000    0.000    0.000 {method 'split' of 'str' objects}\n",
      "        1    0.000    0.000    0.000    0.000 defchararray.py:1669(chararray)\n",
      "        1    0.000    0.000    0.000    0.000 core.py:6255(__new__)\n",
      "        1    0.000    0.000    0.000    0.000 ntpath.py:43(normcase)\n",
      "        1    0.000    0.000    0.000    0.000 copyreg.py:12(pickle)\n",
      "        1    0.000    0.000    0.000    0.000 pickle.py:345(_Pickler)\n",
      "        2    0.000    0.000    0.000    0.000 tokenize.py:114(maybe)\n",
      "       11    0.000    0.000    0.000    0.000 <frozen importlib._bootstrap>:753(is_package)\n",
      "       11    0.000    0.000    0.000    0.000 {method 'items' of 'collections.OrderedDict' objects}\n",
      "        1    0.000    0.000    0.000    0.000 {built-in method math.exp}\n",
      "        3    0.000    0.000    0.000    0.000 datetime.py:1972(_create)\n",
      "        1    0.000    0.000    0.000    0.000 pickle.py:184(_Framer)\n",
      "        1    0.000    0.000    0.000    0.000 threading.py:334(notify)\n",
      "        1    0.000    0.000    0.000    0.000 core.py:6248(MaskedConstant)\n",
      "       11    0.000    0.000    0.000    0.000 {method '__subclasshook__' of 'object' objects}\n",
      "        1    0.000    0.000    0.000    0.000 {function Random.seed at 0x000001D8AA6F9950}\n",
      "        1    0.000    0.000    0.000    0.000 __init__.py:1266(__init__)\n",
      "        1    0.000    0.000    0.000    0.000 threading.py:893(_set_tstate_lock)\n",
      "        1    0.000    0.000    0.000    0.000 datetime.py:658(date)\n",
      "        1    0.000    0.000    0.000    0.000 warnings.py:449(__enter__)\n",
      "        1    0.000    0.000    0.000    0.000 <string>:5(ParseResult)\n",
      "        1    0.000    0.000    0.000    0.000 difflib.py:1703(HtmlDiff)\n",
      "        1    0.000    0.000    0.000    0.000 __init__.py:1251(Logger)\n",
      "        1    0.000    0.000    0.000    0.000 info.py:184(<module>)\n",
      "        2    0.000    0.000    0.000    0.000 functools.py:448(lru_cache)\n",
      "        1    0.000    0.000    0.000    0.000 re.py:249(escape)\n",
      "        1    0.000    0.000    0.000    0.000 _internal.py:240(_ctypes)\n",
      "        1    0.000    0.000    0.000    0.000 <string>:5(SplitResult)\n",
      "        1    0.000    0.000    0.000    0.000 __init__.py:1588(LoggerAdapter)\n",
      "        5    0.000    0.000    0.000    0.000 {method 'setter' of 'property' objects}\n",
      "        1    0.000    0.000    0.000    0.000 sre_compile.py:393(_generate_overlap_table)\n",
      "        1    0.000    0.000    0.000    0.000 <string>:5(Match)\n",
      "        1    0.000    0.000    0.000    0.000 random.py:71(Random)\n",
      "        1    0.000    0.000    0.000    0.000 info.py:34(<module>)\n",
      "        1    0.000    0.000    0.000    0.000 datetime.py:1023(time)\n",
      "        7    0.000    0.000    0.000    0.000 _inspect.py:144(<lambda>)\n",
      "        2    0.000    0.000    0.000    0.000 getlimits.py:532(max)\n",
      "        1    0.000    0.000    0.000    0.000 <string>:5(Mismatch)\n",
      "        1    0.000    0.000    0.000    0.000 bz2.py:32(BZ2File)\n",
      "        3    0.000    0.000    0.000    0.000 index_tricks.py:241(__init__)\n",
      "        5    0.000    0.000    0.000    0.000 datetime.py:308(_check_tzinfo_arg)\n",
      "        1    0.000    0.000    0.000    0.000 <string>:5(DefragResult)\n",
      "        1    0.000    0.000    0.000    0.000 numbers.py:267(Rational)\n",
      "        2    0.000    0.000    0.000    0.000 threading.py:74(RLock)\n",
      "        1    0.000    0.000    0.000    0.000 <string>:5(usage)\n",
      "        1    0.000    0.000    0.000    0.000 tempfile.py:629(SpooledTemporaryFile)\n",
      "        1    0.000    0.000    0.000    0.000 {built-in method _ctypes.LoadLibrary}\n",
      "        7    0.000    0.000    0.000    0.000 {built-in method _warnings._filters_mutated}\n",
      "        6    0.000    0.000    0.000    0.000 enum.py:179(<genexpr>)\n",
      "        7    0.000    0.000    0.000    0.000 enum.py:866(<lambda>)\n",
      "        1    0.000    0.000    0.000    0.000 _internal.py:210(_getintp_ctype)\n",
      "        1    0.000    0.000    0.000    0.000 tokenize.py:113(any)\n",
      "        1    0.000    0.000    0.000    0.000 lzma.py:38(LZMAFile)\n",
      "        1    0.000    0.000    0.000    0.000 index_tricks.py:451(__init__)\n",
      "        1    0.000    0.000    0.000    0.000 {method 'view' of 'numpy.ndarray' objects}\n",
      "        2    0.000    0.000    0.000    0.000 {built-in method numpy.core.multiarray.set_string_function}\n",
      "        1    0.000    0.000    0.000    0.000 {built-in method _hashlib.openssl_md5}\n",
      "        5    0.000    0.000    0.000    0.000 {method 'insert' of 'list' objects}\n",
      "        1    0.000    0.000    0.000    0.000 warnings.py:468(__exit__)\n",
      "        2    0.000    0.000    0.000    0.000 __init__.py:342(_FuncPtr)\n",
      "        2    0.000    0.000    0.000    0.000 __init__.py:190(_checkLevel)\n",
      "        1    0.000    0.000    0.000    0.000 <string>:5(_LoggingWatcher)\n",
      "        1    0.000    0.000    0.000    0.000 weakref.py:288(update)\n",
      "        3    0.000    0.000    0.000    0.000 datetime.py:40(_days_before_year)\n",
      "        1    0.000    0.000    0.000    0.000 datetime.py:953(tzinfo)\n",
      "        5    0.000    0.000    0.000    0.000 _inspect.py:145(<lambda>)\n",
      "        1    0.000    0.000    0.000    0.000 __init__.py:798(createLock)\n",
      "        1    0.000    0.000    0.000    0.000 __init__.py:760(Handler)\n",
      "        6    0.000    0.000    0.000    0.000 core.py:875(__init__)\n",
      "        1    0.000    0.000    0.000    0.000 extras.py:1494(__init__)\n",
      "        1    0.000    0.000    0.000    0.000 weakref.py:354(__init__)\n",
      "        2    0.000    0.000    0.000    0.000 enum.py:135(<dictcomp>)\n",
      "        4    0.000    0.000    0.000    0.000 __init__.py:412(__init__)\n",
      "        1    0.000    0.000    0.000    0.000 __init__.py:470(__init__)\n",
      "        1    0.000    0.000    0.000    0.000 main.py:49(TestProgram)\n",
      "        1    0.000    0.000    0.000    0.000 argparse.py:1581(ArgumentParser)\n",
      "        3    0.000    0.000    0.000    0.000 utils.py:69(__init__)\n",
      "        5    0.000    0.000    0.000    0.000 datetime.py:45(_days_in_month)\n",
      "        1    0.000    0.000    0.000    0.000 pathlib.py:126(<setcomp>)\n",
      "        3    0.000    0.000    0.000    0.000 __init__.py:99(CFunctionType)\n",
      "        1    0.000    0.000    0.000    0.000 loader.py:66(TestLoader)\n",
      "        1    0.000    0.000    0.000    0.000 index_tricks.py:481(__init__)\n",
      "        1    0.000    0.000    0.000    0.000 os.py:1067(__subclasshook__)\n",
      "        2    0.000    0.000    0.000    0.000 enum.py:65(__init__)\n",
      "        1    0.000    0.000    0.000    0.000 pathlib.py:574(_PathParents)\n",
      "        1    0.000    0.000    0.000    0.000 traceback.py:223(FrameSummary)\n",
      "        1    0.000    0.000    0.000    0.000 traceback.py:426(TracebackException)\n",
      "        1    0.000    0.000    0.000    0.000 __init__.py:219(_acquireLock)\n",
      "        1    0.000    0.000    0.000    0.000 threading.py:566(Barrier)\n",
      "        1    0.000    0.000    0.000    0.000 utils.py:1955(suppress_warnings)\n",
      "        1    0.000    0.000    0.000    0.000 {method 'union' of 'set' objects}\n",
      "        1    0.000    0.000    0.000    0.000 parse.py:142(_NetlocResultMixinBase)\n",
      "        3    0.000    0.000    0.000    0.000 __init__.py:477(CFunctionType)\n",
      "        1    0.000    0.000    0.000    0.000 _endian.py:23(_swapped_meta)\n",
      "        1    0.000    0.000    0.000    0.000 getlimits.py:62(MachArLike)\n",
      "        1    0.000    0.000    0.000    0.000 getlimits.py:455(iinfo)\n",
      "        1    0.000    0.000    0.000    0.000 case.py:1337(FunctionTestCase)\n",
      "        1    0.000    0.000    0.000    0.000 __init__.py:228(_releaseLock)\n",
      "        1    0.000    0.000    0.000    0.000 __init__.py:1960(NullHandler)\n",
      "        1    0.000    0.000    0.000    0.000 threading.py:239(__enter__)\n",
      "        1    0.000    0.000    0.000    0.000 threading.py:242(__exit__)\n",
      "        1    0.000    0.000    0.000    0.000 runner.py:29(TextTestResult)\n",
      "        1    0.000    0.000    0.000    0.000 index_tricks.py:231(AxisConcatenator)\n",
      "        1    0.000    0.000    0.000    0.000 arrayterator.py:20(Arrayterator)\n",
      "        1    0.000    0.000    0.000    0.000 _version.py:18(NumpyVersion)\n",
      "        3    0.000    0.000    0.000    0.000 {method 'setdefault' of 'dict' objects}\n",
      "        3    0.000    0.000    0.000    0.000 {method 'clear' of 'dict' objects}\n",
      "        1    0.000    0.000    0.000    0.000 {method 'find' of 'str' objects}\n",
      "        1    0.000    0.000    0.000    0.000 {built-in method math.sqrt}\n",
      "        3    0.000    0.000    0.000    0.000 enum.py:597(value)\n",
      "        1    0.000    0.000    0.000    0.000 pathlib.py:274(_PosixFlavour)\n",
      "        1    0.000    0.000    0.000    0.000 __init__.py:426(Formatter)\n",
      "        1    0.000    0.000    0.000    0.000 __init__.py:678(Filterer)\n",
      "        1    0.000    0.000    0.000    0.000 __init__.py:1008(FileHandler)\n",
      "        1    0.000    0.000    0.000    0.000 threading.py:254(_is_owned)\n",
      "        1    0.000    0.000    0.000    0.000 _compression.py:33(DecompressReader)\n",
      "        3    0.000    0.000    0.000    0.000 utils.py:52(_set_function_name)\n",
      "        1    0.000    0.000    0.000    0.000 index_tricks.py:356(RClass)\n",
      "        2    0.000    0.000    0.000    0.000 index_tricks.py:658(__init__)\n",
      "        3    0.000    0.000    0.000    0.000 core.py:835(__init__)\n",
      "        1    0.000    0.000    0.000    0.000 core.py:6046(mvoid)\n",
      "        2    0.000    0.000    0.000    0.000 {method 'mro' of 'type' objects}\n",
      "        1    0.000    0.000    0.000    0.000 {built-in method time.time}\n",
      "        2    0.000    0.000    0.000    0.000 enum.py:335(__members__)\n",
      "        1    0.000    0.000    0.000    0.000 copyreg.py:22(constructor)\n",
      "        1    0.000    0.000    0.000    0.000 sre_parse.py:287(seek)\n",
      "        2    0.000    0.000    0.000    0.000 pathlib.py:48(__init__)\n",
      "        1    0.000    0.000    0.000    0.000 pathlib.py:127(<setcomp>)\n",
      "        1    0.000    0.000    0.000    0.000 parse.py:346(_fix_result_transcoding)\n",
      "        1    0.000    0.000    0.000    0.000 getlimits.py:305(finfo)\n",
      "        1    0.000    0.000    0.000    0.000 traceback.py:310(StackSummary)\n",
      "        2    0.000    0.000    0.000    0.000 __init__.py:683(__init__)\n",
      "        1    0.000    0.000    0.000    0.000 threading.py:87(_RLock)\n",
      "        1    0.000    0.000    0.000    0.000 threading.py:203(Condition)\n",
      "        1    0.000    0.000    0.000    0.000 threading.py:890(_set_ident)\n",
      "        1    0.000    0.000    0.000    0.000 suite.py:16(BaseTestSuite)\n",
      "        1    0.000    0.000    0.000    0.000 loader.py:76(__init__)\n",
      "        1    0.000    0.000    0.000    0.000 argparse.py:1220(_ActionsContainer)\n",
      "        1    0.000    0.000    0.000    0.000 index_tricks.py:486(ndenumerate)\n",
      "        1    0.000    0.000    0.000    0.000 npyio.py:104(NpzFile)\n",
      "        1    0.000    0.000    0.000    0.000 _datasource.py:154(DataSource)\n",
      "        3    0.000    0.000    0.000    0.000 core.py:896(__init__)\n",
      "        1    0.000    0.000    0.000    0.000 {built-in method _thread._set_sentinel}\n",
      "        2    0.000    0.000    0.000    0.000 {built-in method math.log}\n",
      "        1    0.000    0.000    0.000    0.000 warnings.py:428(__init__)\n",
      "        1    0.000    0.000    0.000    0.000 version.py:5(<module>)\n",
      "        1    0.000    0.000    0.000    0.000 pathlib.py:537(_RecursiveWildcardSelector)\n",
      "        1    0.000    0.000    0.000    0.000 __init__.py:311(CDLL)\n",
      "        1    0.000    0.000    0.000    0.000 tokenize.py:99(TokenInfo)\n",
      "        1    0.000    0.000    0.000    0.000 case.py:1395(_SubTest)\n",
      "        1    0.000    0.000    0.000    0.000 difflib.py:43(SequenceMatcher)\n",
      "        1    0.000    0.000    0.000    0.000 __init__.py:1143(Manager)\n",
      "        1    0.000    0.000    0.000    0.000 string.py:169(Formatter)\n",
      "        1    0.000    0.000    0.000    0.000 tempfile.py:136(_RandomNameSequence)\n",
      "        1    0.000    0.000    0.000    0.000 utils.py:997(SafeEval)\n",
      "        1    0.000    0.000    0.000    0.000 nosetester.py:110(NoseTester)\n",
      "        2    0.000    0.000    0.000    0.000 index_tricks.py:159(__init__)\n",
      "        1    0.000    0.000    0.000    0.000 index_tricks.py:536(ndindex)\n",
      "        1    0.000    0.000    0.000    0.000 _datasource.py:504(Repository)\n",
      "        1    0.000    0.000    0.000    0.000 extras.py:1453(MAxisConcatenator)\n",
      "        2    0.000    0.000    0.000    0.000 {built-in method builtins.vars}\n",
      "        1    0.000    0.000    0.000    0.000 _internal.py:200(dummy_ctype)\n",
      "        1    0.000    0.000    0.000    0.000 pathlib.py:44(_Flavour)\n",
      "        1    0.000    0.000    0.000    0.000 pathlib.py:498(_PreciseSelector)\n",
      "        1    0.000    0.000    0.000    0.000 pathlib.py:1424(PosixPath)\n",
      "        1    0.000    0.000    0.000    0.000 pickle.py:220(_Unframer)\n",
      "        1    0.000    0.000    0.000    0.000 records.py:298(recarray)\n",
      "        1    0.000    0.000    0.000    0.000 memmap.py:20(memmap)\n",
      "        1    0.000    0.000    0.000    0.000 machar.py:17(MachAr)\n",
      "        1    0.000    0.000    0.000    0.000 tokenize.py:222(Untokenizer)\n",
      "        1    0.000    0.000    0.000    0.000 __init__.py:239(LogRecord)\n",
      "        1    0.000    0.000    0.000    0.000 __init__.py:599(BufferingFormatter)\n",
      "        1    0.000    0.000    0.000    0.000 __init__.py:949(StreamHandler)\n",
      "        1    0.000    0.000    0.000    0.000 __init__.py:1077(_StderrHandler)\n",
      "        1    0.000    0.000    0.000    0.000 string.py:77(Template)\n",
      "        1    0.000    0.000    0.000    0.000 threading.py:487(Event)\n",
      "        1    0.000    0.000    0.000    0.000 suite.py:92(TestSuite)\n",
      "        1    0.000    0.000    0.000    0.000 suite.py:270(_ErrorHolder)\n",
      "        1    0.000    0.000    0.000    0.000 utils.py:1890(clear_and_catch_warnings)\n",
      "        1    0.000    0.000    0.000    0.000 tempfile.py:777(TemporaryDirectory)\n",
      "        1    0.000    0.000    0.000    0.000 index_tricks.py:98(nd_grid)\n",
      "        1    0.000    0.000    0.000    0.000 index_tricks.py:456(CClass)\n",
      "        1    0.000    0.000    0.000    0.000 function_base.py:2527(vectorize)\n",
      "        1    0.000    0.000    0.000    0.000 ctypeslib.py:177(_ndptr)\n",
      "        1    0.000    0.000    0.000    0.000 core.py:200(<listcomp>)\n",
      "        1    0.000    0.000    0.000    0.000 {built-in method _hashlib.openssl_sha224}\n",
      "        1    0.000    0.000    0.000    0.000 {built-in method _hashlib.openssl_sha256}\n",
      "        2    0.000    0.000    0.000    0.000 {method 'acquire' of '_thread.lock' objects}\n",
      "        1    0.000    0.000    0.000    0.000 __future__.py:78(_Feature)\n",
      "        1    0.000    0.000    0.000    0.000 pathlib.py:467(_Selector)\n",
      "        1    0.000    0.000    0.000    0.000 pathlib.py:957(PurePosixPath)\n",
      "        1    0.000    0.000    0.000    0.000 pathlib.py:1427(WindowsPath)\n",
      "        1    0.000    0.000    0.000    0.000 parse.py:203(_NetlocResultMixinBytes)\n",
      "        1    0.000    0.000    0.000    0.000 __init__.py:411(LibraryLoader)\n",
      "        1    0.000    0.000    0.000    0.000 numerictypes.py:765(_typedict)\n",
      "        1    0.000    0.000    0.000    0.000 numeric.py:2997(errstate)\n",
      "        1    0.000    0.000    0.000    0.000 arrayprint.py:602(FloatFormat)\n",
      "        1    0.000    0.000    0.000    0.000 records.py:83(format_parser)\n",
      "        1    0.000    0.000    0.000    0.000 records.py:215(record)\n",
      "        1    0.000    0.000    0.000    0.000 shape_base.py:364(_Recurser)\n",
      "        1    0.000    0.000    0.000    0.000 case.py:128(_BaseTestCaseContext)\n",
      "        1    0.000    0.000    0.000    0.000 case.py:137(_AssertRaisesBaseContext)\n",
      "        1    0.000    0.000    0.000    0.000 case.py:184(_AssertRaisesContext)\n",
      "        1    0.000    0.000    0.000    0.000 case.py:221(_AssertWarnsContext)\n",
      "        1    0.000    0.000    0.000    0.000 case.py:278(_CapturingHandler)\n",
      "        1    0.000    0.000    0.000    0.000 case.py:297(_AssertLogsContext)\n",
      "        1    0.000    0.000    0.000    0.000 difflib.py:751(Differ)\n",
      "        1    0.000    0.000    0.000    0.000 __init__.py:378(PercentStyle)\n",
      "        1    0.000    0.000    0.000    0.000 __init__.py:1148(__init__)\n",
      "        1    0.000    0.000    0.000    0.000 threading.py:369(Semaphore)\n",
      "        1    0.000    0.000    0.000    0.000 loader.py:23(_FailedTest)\n",
      "        1    0.000    0.000    0.000    0.000 argparse.py:109(_AttributeHolder)\n",
      "        1    0.000    0.000    0.000    0.000 argparse.py:1146(FileType)\n",
      "        1    0.000    0.000    0.000    0.000 argparse.py:1527(_ArgumentGroup)\n",
      "        1    0.000    0.000    0.000    0.000 runner.py:13(_WritelnDecorator)\n",
      "        1    0.000    0.000    0.000    0.000 runner.py:120(TextTestRunner)\n",
      "        1    0.000    0.000    0.000    0.000 utils.py:1589(WarningMessage)\n",
      "        1    0.000    0.000    0.000    0.000 utils.py:1622(WarningManager)\n",
      "        1    0.000    0.000    0.000    0.000 _compression.py:9(BaseStream)\n",
      "        1    0.000    0.000    0.000    0.000 tempfile.py:416(_TemporaryFileCloser)\n",
      "        1    0.000    0.000    0.000    0.000 tempfile.py:459(_TemporaryFileWrapper)\n",
      "        1    0.000    0.000    0.000    0.000 random.py:663(SystemRandom)\n",
      "        1    0.000    0.000    0.000    0.000 index_tricks.py:614(IndexExpression)\n",
      "        1    0.000    0.000    0.000    0.000 ast.py:229(NodeVisitor)\n",
      "        1    0.000    0.000    0.000    0.000 _datasource.py:74(__init__)\n",
      "        1    0.000    0.000    0.000    0.000 _datasource.py:50(_FileOpeners)\n",
      "        1    0.000    0.000    0.000    0.000 helper.py:230(_FFTCache)\n",
      "        2    0.000    0.000    0.000    0.000 core.py:912(__init__)\n",
      "        1    0.000    0.000    0.000    0.000 core.py:1001(_MaskedBinaryOperation)\n",
      "        1    0.000    0.000    0.000    0.000 core.py:2400(_MaskedPrintOption)\n",
      "        1    0.000    0.000    0.000    0.000 core.py:6361(_extrema_operation)\n",
      "        1    0.000    0.000    0.000    0.000 {built-in method _hashlib.openssl_sha384}\n",
      "        2    0.000    0.000    0.000    0.000 {built-in method builtins.callable}\n",
      "        1    0.000    0.000    0.000    0.000 _internal.py:674(AxisError)\n",
      "        1    0.000    0.000    0.000    0.000 pathlib.py:492(_TerminatingSelector)\n",
      "        1    0.000    0.000    0.000    0.000 pathlib.py:514(_WildcardSelector)\n",
      "        1    0.000    0.000    0.000    0.000 pathlib.py:962(PureWindowsPath)\n",
      "        1    0.000    0.000    0.000    0.000 parse.py:126(_ResultMixinStr)\n",
      "        1    0.000    0.000    0.000    0.000 parse.py:173(_NetlocResultMixinStr)\n",
      "        1    0.000    0.000    0.000    0.000 parse.py:308(DefragResult)\n",
      "        1    0.000    0.000    0.000    0.000 parse.py:316(SplitResult)\n",
      "        1    0.000    0.000    0.000    0.000 parse.py:723(Quoter)\n",
      "        1    0.000    0.000    0.000    0.000 __init__.py:151(py_object)\n",
      "        1    0.000    0.000    0.000    0.000 __init__.py:168(c_long)\n",
      "        1    0.000    0.000    0.000    0.000 __init__.py:235(c_char_p)\n",
      "        1    0.000    0.000    0.000    0.000 __init__.py:371(PyDLL)\n",
      "        1    0.000    0.000    0.000    0.000 arrayprint.py:711(IntegerFormat)\n",
      "        1    0.000    0.000    0.000    0.000 arrayprint.py:731(LongFloatFormat)\n",
      "        1    0.000    0.000    0.000    0.000 arrayprint.py:761(LongComplexFormat)\n",
      "        1    0.000    0.000    0.000    0.000 arrayprint.py:772(ComplexFormat)\n",
      "        1    0.000    0.000    0.000    0.000 arrayprint.py:789(DatetimeFormat)\n",
      "        1    0.000    0.000    0.000    0.000 arrayprint.py:810(TimedeltaFormat)\n",
      "        1    0.000    0.000    0.000    0.000 arrayprint.py:837(SubArrayFormat)\n",
      "        1    0.000    0.000    0.000    0.000 arrayprint.py:847(StructureFormat)\n",
      "        1    0.000    0.000    0.000    0.000 __init__.py:393(StrFormatStyle)\n",
      "        1    0.000    0.000    0.000    0.000 __init__.py:402(StringTemplateStyle)\n",
      "        1    0.000    0.000    0.000    0.000 __init__.py:641(Filter)\n",
      "        1    0.000    0.000    0.000    0.000 __init__.py:1101(PlaceHolder)\n",
      "        1    0.000    0.000    0.000    0.000 string.py:55(_TemplateMetaclass)\n",
      "        1    0.000    0.000    0.000    0.000 threading.py:1158(Timer)\n",
      "        1    0.000    0.000    0.000    0.000 threading.py:1207(_DummyThread)\n",
      "        1    0.000    0.000    0.000    0.000 pprint.py:72(_safe_key)\n",
      "        1    0.000    0.000    0.000    0.000 argparse.py:637(RawDescriptionHelpFormatter)\n",
      "        1    0.000    0.000    0.000    0.000 argparse.py:648(RawTextHelpFormatter)\n",
      "        1    0.000    0.000    0.000    0.000 argparse.py:738(Action)\n",
      "        1    0.000    0.000    0.000    0.000 argparse.py:829(_StoreAction)\n",
      "        1    0.000    0.000    0.000    0.000 argparse.py:864(_StoreConstAction)\n",
      "        1    0.000    0.000    0.000    0.000 argparse.py:958(_AppendConstAction)\n",
      "        1    0.000    0.000    0.000    0.000 argparse.py:1005(_HelpAction)\n",
      "        1    0.000    0.000    0.000    0.000 argparse.py:1024(_VersionAction)\n",
      "        1    0.000    0.000    0.000    0.000 argparse.py:1200(Namespace)\n",
      "        1    0.000    0.000    0.000    0.000 argparse.py:1561(_MutuallyExclusiveGroup)\n",
      "        1    0.000    0.000    0.000    0.000 utils.py:57(_Deprecate)\n",
      "        1    0.000    0.000    0.000    0.000 stride_tricks.py:15(DummyArray)\n",
      "        1    0.000    0.000    0.000    0.000 npyio.py:40(BagObj)\n",
      "        1    0.000    0.000    0.000    0.000 _iotools.py:155(LineSplitter)\n",
      "        1    0.000    0.000    0.000    0.000 core.py:202(<listcomp>)\n",
      "        1    0.000    0.000    0.000    0.000 core.py:869(_DomainSafeDivide)\n",
      "        1    0.000    0.000    0.000    0.000 core.py:922(_MaskedUnaryOperation)\n",
      "        1    0.000    0.000    0.000    0.000 core.py:1153(_DomainedBinaryOperation)\n",
      "        1    0.000    0.000    0.000    0.000 core.py:2617(MaskedIterator)\n",
      "        1    0.000    0.000    0.000    0.000 core.py:6482(_frommethod)\n",
      "        1    0.000    0.000    0.000    0.000 core.py:7960(_convert2ma)\n",
      "        1    0.000    0.000    0.000    0.000 extras.py:218(_fromnxfunction)\n",
      "        1    0.000    0.000    0.000    0.000 extras.py:273(_fromnxfunction_single)\n",
      "        1    0.000    0.000    0.000    0.000 {built-in method _hashlib.openssl_sha1}\n",
      "        1    0.000    0.000    0.000    0.000 {built-in method _hashlib.openssl_sha512}\n",
      "        1    0.000    0.000    0.000    0.000 {method 'acquire' of '_thread.RLock' objects}\n",
      "        1    0.000    0.000    0.000    0.000 {method 'disable' of '_lsprof.Profiler' objects}\n",
      "        1    0.000    0.000    0.000    0.000 {built-in method atexit.register}\n",
      "        1    0.000    0.000    0.000    0.000 _globals.py:33(ModuleDeprecationWarning)\n",
      "        1    0.000    0.000    0.000    0.000 _globals.py:45(VisibleDeprecationWarning)\n",
      "        1    0.000    0.000    0.000    0.000 _globals.py:56(_NoValue)\n",
      "        1    0.000    0.000    0.000    0.000 _import_tools.py:340(PackageLoaderDebug)\n",
      "        1    0.000    0.000    0.000    0.000 _internal.py:233(_missing_ctypes)\n",
      "        1    0.000    0.000    0.000    0.000 _internal.py:671(TooHardError)\n",
      "        1    0.000    0.000    0.000    0.000 pathlib.py:377(_Accessor)\n",
      "        1    0.000    0.000    0.000    0.000 parse.py:134(_ResultMixinBytes)\n",
      "        1    0.000    0.000    0.000    0.000 parse.py:321(ParseResult)\n",
      "        1    0.000    0.000    0.000    0.000 parse.py:327(DefragResultBytes)\n",
      "        1    0.000    0.000    0.000    0.000 parse.py:335(SplitResultBytes)\n",
      "        1    0.000    0.000    0.000    0.000 parse.py:340(ParseResultBytes)\n",
      "        1    0.000    0.000    0.000    0.000 __init__.py:160(c_short)\n",
      "        1    0.000    0.000    0.000    0.000 __init__.py:164(c_ushort)\n",
      "        1    0.000    0.000    0.000    0.000 __init__.py:172(c_ulong)\n",
      "        1    0.000    0.000    0.000    0.000 __init__.py:197(c_longdouble)\n",
      "        1    0.000    0.000    0.000    0.000 __init__.py:207(c_longlong)\n",
      "        1    0.000    0.000    0.000    0.000 __init__.py:211(c_ulonglong)\n",
      "        1    0.000    0.000    0.000    0.000 __init__.py:218(c_ubyte)\n",
      "        1    0.000    0.000    0.000    0.000 __init__.py:225(c_byte)\n",
      "        1    0.000    0.000    0.000    0.000 __init__.py:241(c_void_p)\n",
      "        1    0.000    0.000    0.000    0.000 __init__.py:246(c_bool)\n",
      "        1    0.000    0.000    0.000    0.000 __init__.py:251(c_wchar_p)\n",
      "        1    0.000    0.000    0.000    0.000 __init__.py:380(WinDLL)\n",
      "        1    0.000    0.000    0.000    0.000 __init__.py:389(HRESULT)\n",
      "        1    0.000    0.000    0.000    0.000 __init__.py:402(OleDLL)\n",
      "        1    0.000    0.000    0.000    0.000 _endian.py:46(BigEndianStructure)\n",
      "        1    0.000    0.000    0.000    0.000 numbers.py:12(Number)\n",
      "        1    0.000    0.000    0.000    0.000 numeric.py:76(ComplexWarning)\n",
      "        1    0.000    0.000    0.000    0.000 numeric.py:2992(_unspecified)\n",
      "        1    0.000    0.000    0.000    0.000 pickle.py:64(PickleError)\n",
      "        1    0.000    0.000    0.000    0.000 pickle.py:75(UnpicklingError)\n",
      "        1    0.000    0.000    0.000    0.000 pickle.py:88(_Stop)\n",
      "        1    0.000    0.000    0.000    0.000 arrayprint.py:368(_recursive_guard)\n",
      "        1    0.000    0.000    0.000    0.000 tokenize.py:217(TokenError)\n",
      "        1    0.000    0.000    0.000    0.000 case.py:25(SkipTest)\n",
      "        1    0.000    0.000    0.000    0.000 case.py:33(_ShouldStop)\n",
      "        1    0.000    0.000    0.000    0.000 case.py:38(_UnexpectedSuccess)\n",
      "        1    0.000    0.000    0.000    0.000 __init__.py:384(__init__)\n",
      "        1    0.000    0.000    0.000    0.000 __init__.py:1574(RootLogger)\n",
      "        1    0.000    0.000    0.000    0.000 threading.py:449(BoundedSemaphore)\n",
      "        1    0.000    0.000    0.000    0.000 threading.py:1188(_MainThread)\n",
      "        1    0.000    0.000    0.000    0.000 suite.py:317(_DebugResult)\n",
      "        1    0.000    0.000    0.000    0.000 argparse.py:200(_Section)\n",
      "        1    0.000    0.000    0.000    0.000 argparse.py:659(ArgumentDefaultsHelpFormatter)\n",
      "        1    0.000    0.000    0.000    0.000 argparse.py:676(MetavarTypeHelpFormatter)\n",
      "        1    0.000    0.000    0.000    0.000 argparse.py:709(ArgumentError)\n",
      "        1    0.000    0.000    0.000    0.000 argparse.py:887(_StoreTrueAction)\n",
      "        1    0.000    0.000    0.000    0.000 argparse.py:904(_StoreFalseAction)\n",
      "        1    0.000    0.000    0.000    0.000 argparse.py:921(_AppendAction)\n",
      "        1    0.000    0.000    0.000    0.000 argparse.py:984(_CountAction)\n",
      "        1    0.000    0.000    0.000    0.000 argparse.py:1052(_ChoicesPseudoAction)\n",
      "        1    0.000    0.000    0.000    0.000 signals.py:9(_InterruptHandler)\n",
      "        1    0.000    0.000    0.000    0.000 utils.py:41(KnownFailureException)\n",
      "        1    0.000    0.000    0.000    0.000 utils.py:1849(IgnoreException)\n",
      "        1    0.000    0.000    0.000    0.000 shutil.py:55(Error)\n",
      "        1    0.000    0.000    0.000    0.000 shutil.py:58(SameFileError)\n",
      "        1    0.000    0.000    0.000    0.000 shutil.py:61(SpecialFileError)\n",
      "        1    0.000    0.000    0.000    0.000 shutil.py:65(ExecError)\n",
      "        1    0.000    0.000    0.000    0.000 shutil.py:68(ReadError)\n",
      "        1    0.000    0.000    0.000    0.000 ast.py:266(NodeTransformer)\n",
      "        1    0.000    0.000    0.000    0.000 polynomial.py:22(RankWarning)\n",
      "        1    0.000    0.000    0.000    0.000 linalg.py:43(LinAlgError)\n",
      "        1    0.000    0.000    0.000    0.000 _iotools.py:461(ConversionWarning)\n",
      "        1    0.000    0.000    0.000    0.000 polyutils.py:58(RankWarning)\n",
      "        1    0.000    0.000    0.000    0.000 polyutils.py:66(PolyDomainError)\n",
      "        1    0.000    0.000    0.000    0.000 polyutils.py:79(PolyBase)\n",
      "        1    0.000    0.000    0.000    0.000 core.py:93(MaskedArrayFutureWarning)\n",
      "        1    0.000    0.000    0.000    0.000 core.py:160(MAError)\n",
      "        1    0.000    0.000    0.000    0.000 core.py:168(MaskError)\n",
      "        1    0.000    0.000    0.000    0.000 core.py:826(_DomainCheckInterval)\n",
      "        1    0.000    0.000    0.000    0.000 core.py:859(__init__)\n",
      "        1    0.000    0.000    0.000    0.000 core.py:851(_DomainTan)\n",
      "        1    0.000    0.000    0.000    0.000 core.py:890(_DomainGreater)\n",
      "        1    0.000    0.000    0.000    0.000 core.py:906(_DomainGreaterEqual)\n",
      "        1    0.000    0.000    0.000    0.000 core.py:2406(__init__)\n",
      "        1    0.000    0.000    0.000    0.000 extras.py:291(_fromnxfunction_seq)\n",
      "        1    0.000    0.000    0.000    0.000 extras.py:304(_fromnxfunction_args)\n",
      "        1    0.000    0.000    0.000    0.000 extras.py:329(_fromnxfunction_allargs)\n",
      "        1    0.000    0.000    0.000    0.000 extras.py:1478(mr_class)\n",
      "        1    0.000    0.000    0.000    0.000 {built-in method numpy.core.multiarray.set_typeDict}\n",
      "        1    0.000    0.000    0.000    0.000 {method '__enter__' of '_thread.lock' objects}\n",
      "        1    0.000    0.000    0.000    0.000 {method '__exit__' of '_thread.lock' objects}\n",
      "        1    0.000    0.000    0.000    0.000 {method 'release' of '_thread.RLock' objects}\n",
      "        1    0.000    0.000    0.000    0.000 {method 'values' of 'dict' objects}\n",
      "        1    0.000    0.000    0.000    0.000 __init__.py:189(c_float)\n",
      "        1    0.000    0.000    0.000    0.000 __init__.py:193(c_double)\n",
      "        1    0.000    0.000    0.000    0.000 __init__.py:230(c_char)\n",
      "        1    0.000    0.000    0.000    0.000 __init__.py:256(c_wchar)\n",
      "        1    0.000    0.000    0.000    0.000 pickle.py:68(PicklingError)\n",
      "        1    0.000    0.000    0.000    0.000 tokenize.py:219(StopTokenizing)\n",
      "        1    0.000    0.000    0.000    0.000 threading.py:720(BrokenBarrierError)\n",
      "        1    0.000    0.000    0.000    0.000 argparse.py:729(ArgumentTypeError)\n",
      "        1    0.000    0.000    0.000    0.000 shutil.py:71(RegistryError)\n",
      "        1    0.000    0.000    0.000    0.000 _iotools.py:445(ConverterError)\n",
      "        1    0.000    0.000    0.000    0.000 _iotools.py:453(ConverterLockError)\n",
      "        1    0.000    0.000    0.000    0.000 _distributor_init.py:10(<module>)\n",
      "        1    0.000    0.000    0.000    0.000 polyutils.py:62(PolyError)\n",
      "        1    0.000    0.000    0.000    0.000 core.py:6258(__array_finalize__)\n",
      "\n",
      "\n"
     ]
    }
   ],
   "source": [
    "!python -m cProfile -s cumulative chapter03/simple03.py"
   ]
  },
  {
   "cell_type": "markdown",
   "metadata": {},
   "source": [
    "我们看到此时的排序规则为 Ordered by: cumulative time，这样我们只需要看 cumtime 列即可发现各函数所耗费的总计时间。** 注意如果一个函数A调用了函数B，计时器并不会停止而重新计时。cProfile记录的是各函数调用的起始和结束时间，并依次计算总时间。**"
   ]
  },
  {
   "cell_type": "markdown",
   "metadata": {},
   "source": [
    "除了命令行用法外，cProfile 还可以通过编程的方式分析任意代码块的性能。IPython为此提供了一个方便的借口，即 %prun 命令和带 -p 选项的 %run。 %prun的格式跟 cProfile 的差不多，但它分析的是 Python 语句 而不是整个 .py 文件："
   ]
  },
  {
   "cell_type": "code",
   "execution_count": 6,
   "metadata": {},
   "outputs": [
    {
     "name": "stdout",
     "output_type": "stream",
     "text": [
      " "
     ]
    }
   ],
   "source": [
    "%prun -l 7 -s cumulative run_experiment()"
   ]
  },
  {
   "cell_type": "raw",
   "metadata": {},
   "source": [
    "执行结果为：\n",
    "\n",
    "3804 function calls in 0.752 seconds\n",
    "\n",
    "   Ordered by: cumulative time\n",
    "   List reduced from 31 to 7 due to restriction <7>\n",
    "\n",
    "   ncalls  tottime  percall  cumtime  percall filename:lineno(function)\n",
    "        1    0.000    0.000    0.752    0.752 {built-in method builtins.exec}\n",
    "        1    0.000    0.000    0.752    0.752 <string>:1(<module>)\n",
    "        1    0.002    0.002    0.752    0.752 <ipython-input-4-e3da644978a8>:4(run_experiment)\n",
    "      100    0.686    0.007    0.699    0.007 linalg.py:819(eigvals)\n",
    "      100    0.050    0.000    0.050    0.000 {method 'randn' of 'mtrand.RandomState' objects}\n",
    "      100    0.001    0.000    0.004    0.000 fromnumeric.py:1973(all)\n",
    "      200    0.001    0.000    0.003    0.000 {method 'all' of 'numpy.ndarray' objects}"
   ]
  },
  {
   "cell_type": "markdown",
   "metadata": {},
   "source": [
    "在ipython terminal中，执行 %run -p -s cumulative chapter03/simple03.py也能达到上述效果，但是却无法退出IPython。"
   ]
  },
  {
   "cell_type": "markdown",
   "metadata": {},
   "source": [
    "#### 逐行分析函数性能\n",
    "\n",
    "有时候，%prun （或者其他基于cProfile的性能分析手段）所得到的信息要么不足以说明函数的执行时间，要么难以理解（按函数名聚合?）。对于这种情形，我们可以使用一个叫做line_profiler的小型库。气质有一个心的魔术函数 %lprun， 它可以对一个或者多个函数进行逐行性能分析。我们有修改 IPython 配置 以启用这个扩展.\n",
    "\n",
    "[For IPython 0.11+, you can install it by editing the IPython configuration file ~/.ipython/profile_default/ipython_config.py to add the 'line_profiler' item to the extensions list](https://github.com/rkern/line_profiler):\n",
    "\n"
   ]
  },
  {
   "cell_type": "code",
   "execution_count": null,
   "metadata": {
    "collapsed": true
   },
   "outputs": [],
   "source": [
    "# A list of dotted module names of IPython extensions to load.\n",
    "\n",
    "c.TerminalIPythonApp.extensions = [\n",
    "    'line_profiler',\n",
    "]"
   ]
  },
  {
   "cell_type": "code",
   "execution_count": 7,
   "metadata": {},
   "outputs": [
    {
     "data": {
      "text/plain": [
       "<module 'line_profiler' from 'D:\\\\ProgramData\\\\Miniconda3\\\\envs\\\\ywfang-python36\\\\lib\\\\site-packages\\\\line_profiler.py'>"
      ]
     },
     "execution_count": 7,
     "metadata": {},
     "output_type": "execute_result"
    }
   ],
   "source": [
    "#这个代码可以确认 line_profiler 是否被正常的安装和load\n",
    "import line_profiler\n",
    "line_profiler"
   ]
  },
  {
   "cell_type": "markdown",
   "metadata": {},
   "source": [
    "line_profiler 可以通过编程方式使用，但是其更强大的一面在于与 Ipython 的交互使用。\n",
    "\n",
    "\n",
    "假设我们有一个名为 prof_mod 的模块，其代码内容为（我们把prof_mode.py 保存在 chapter03目录下）"
   ]
  },
  {
   "cell_type": "code",
   "execution_count": 8,
   "metadata": {
    "collapsed": true
   },
   "outputs": [],
   "source": [
    "from numpy.random import randn\n",
    "\n",
    "def add_and_sum(x,y):\n",
    "    added = x + y\n",
    "    summed = added.sum(axis=1)\n",
    "    return summed\n",
    "\n",
    "def call_function():\n",
    "    x = randn(1000,1000)\n",
    "    y = randn(1000,1000)\n",
    "    return add_and_sum(x,y)\n"
   ]
  },
  {
   "cell_type": "markdown",
   "metadata": {},
   "source": [
    "如果我们想了解 add_and_sum 函数的性能，%prun 会给出如下所示的结果"
   ]
  },
  {
   "cell_type": "code",
   "execution_count": 1,
   "metadata": {
    "collapsed": true
   },
   "outputs": [],
   "source": [
    "%run chapter03/prof_mode.py"
   ]
  },
  {
   "cell_type": "code",
   "execution_count": 3,
   "metadata": {
    "collapsed": true
   },
   "outputs": [],
   "source": [
    "x = randn(3000, 3000) \n",
    "y = randn(3000,3000)"
   ]
  },
  {
   "cell_type": "code",
   "execution_count": 4,
   "metadata": {},
   "outputs": [
    {
     "name": "stdout",
     "output_type": "stream",
     "text": [
      " "
     ]
    }
   ],
   "source": [
    "%prun add_and_sum(x,y) #因为我们这里只是测试 add_and_sum 这个函数，所以必须给它实参，所以上面我们给出了 x和y"
   ]
  },
  {
   "cell_type": "markdown",
   "metadata": {},
   "source": [
    "执行的结果为："
   ]
  },
  {
   "cell_type": "raw",
   "metadata": {},
   "source": [
    "7 function calls in 0.100 seconds\n",
    "\n",
    "   Ordered by: internal time\n",
    "\n",
    "   ncalls  tottime  percall  cumtime  percall filename:lineno(function)\n",
    "        1    0.073    0.073    0.091    0.091 prof_mode.py:3(add_and_sum)\n",
    "        1    0.018    0.018    0.018    0.018 {method 'reduce' of 'numpy.ufunc' objects}\n",
    "        1    0.009    0.009    0.100    0.100 <string>:1(<module>)\n",
    "        1    0.000    0.000    0.100    0.100 {built-in method builtins.exec}\n",
    "        1    0.000    0.000    0.018    0.018 {method 'sum' of 'numpy.ndarray' objects}\n",
    "        1    0.000    0.000    0.018    0.018 _methods.py:31(_sum)\n",
    "        1    0.000    0.000    0.000    0.000 {method 'disable' of '_lsprof.Profiler' objects}"
   ]
  },
  {
   "cell_type": "markdown",
   "metadata": {},
   "source": [
    "当我们启用 line_profiler 这个扩展后，就会出现新的魔术命令 %lprun。 用法上唯一的区别就是： 必须为 %lprun 指明想要测试哪个或哪些函数。%lprun 的通用语法为："
   ]
  },
  {
   "cell_type": "code",
   "execution_count": null,
   "metadata": {
    "collapsed": true
   },
   "outputs": [],
   "source": [
    "%lprun -f func1 -f func2 statement_to_profile"
   ]
  },
  {
   "cell_type": "markdown",
   "metadata": {},
   "source": [
    "在本例子中，我们想要测试 add_and_sum，于是执行"
   ]
  },
  {
   "cell_type": "code",
   "execution_count": 12,
   "metadata": {},
   "outputs": [
    {
     "name": "stderr",
     "output_type": "stream",
     "text": [
      "ERROR:root:Line magic function `%lprun` not found.\n"
     ]
    }
   ],
   "source": [
    "%lprun -f add_and_sum add_and_sum(x,y)"
   ]
  },
  {
   "cell_type": "markdown",
   "metadata": {
    "collapsed": true
   },
   "source": [
    "网上找了下别人也遇到了和我一样的错误，stackoverflow上面有[解决方案](https://stackoverflow.com/questions/19942653/interactive-python-cannot-get-lprun-to-work-although-line-profiler-is-impor)："
   ]
  },
  {
   "cell_type": "code",
   "execution_count": 6,
   "metadata": {
    "collapsed": true
   },
   "outputs": [],
   "source": [
    "%load_ext line_profiler"
   ]
  },
  {
   "cell_type": "markdown",
   "metadata": {},
   "source": [
    "然后我们再执行一次"
   ]
  },
  {
   "cell_type": "code",
   "execution_count": 7,
   "metadata": {
    "collapsed": true
   },
   "outputs": [],
   "source": [
    "%lprun -f add_and_sum add_and_sum(x,y)"
   ]
  },
  {
   "cell_type": "raw",
   "metadata": {},
   "source": [
    "# 结果显示为\n",
    "\n",
    "Timer unit: 6.98413e-08 s\n",
    "\n",
    "Total time: 0.0875449 s\n",
    "File: E:\\PhD-ECNU\\github\\readingnotes\\machine-learning\\McKinney-pythonbook2013\\chapter03\\prof_mode.py\n",
    "Function: add_and_sum at line 3\n",
    "\n",
    "Line #      Hits         Time  Per Hit   % Time  Line Contents\n",
    "==============================================================\n",
    "     3                                           def add_and_sum(x,y):\n",
    "     4         1       998739 998739.0     79.7      added = x + y\n",
    "     5         1       254695 254695.0     20.3      summed = added.sum(axis=1)\n",
    "     6         1           49     49.0      0.0      return summed"
   ]
  },
  {
   "cell_type": "markdown",
   "metadata": {},
   "source": [
    "这个结果就容易理解了许多。这里我们测试的只是 add_and_sum 这个函数。上面那个模块中还有一个call_function 函数，我们可以结合 add_and_sum 一起测试，于是最终我们的命令成为了这个样子："
   ]
  },
  {
   "cell_type": "code",
   "execution_count": 8,
   "metadata": {
    "collapsed": true
   },
   "outputs": [],
   "source": [
    "%lprun -f add_and_sum -f call_function call_function()"
   ]
  },
  {
   "cell_type": "raw",
   "metadata": {},
   "source": [
    "#结果为\n",
    "\n",
    "Timer unit: 6.98413e-08 s\n",
    "\n",
    "Total time: 0.00845827 s\n",
    "File: E:\\PhD-ECNU\\github\\readingnotes\\machine-learning\\McKinney-pythonbook2013\\chapter03\\prof_mode.py\n",
    "Function: add_and_sum at line 3\n",
    "\n",
    "Line #      Hits         Time  Per Hit   % Time  Line Contents\n",
    "==============================================================\n",
    "     3                                           def add_and_sum(x,y):\n",
    "     4         1        95977  95977.0     79.2      added = x + y\n",
    "     5         1        25074  25074.0     20.7      summed = added.sum(axis=1)\n",
    "     6         1           56     56.0      0.0      return summed\n",
    "\n",
    "Total time: 0.115998 s\n",
    "File: E:\\PhD-ECNU\\github\\readingnotes\\machine-learning\\McKinney-pythonbook2013\\chapter03\\prof_mode.py\n",
    "Function: call_function at line 8\n",
    "\n",
    "Line #      Hits         Time  Per Hit   % Time  Line Contents\n",
    "==============================================================\n",
    "     8                                           def call_function():\n",
    "     9         1       743764 743764.0     44.8      x = randn(1000,1000)\n",
    "    10         1       783307 783307.0     47.2      y = randn(1000,1000)\n",
    "    11         1       133812 133812.0      8.1      return add_and_sum(x,y)"
   ]
  },
  {
   "cell_type": "code",
   "execution_count": null,
   "metadata": {
    "collapsed": true
   },
   "outputs": [],
   "source": [
    "综上，当我们需要测试一个程序中的某些函数时，我们需要使用这两行代码：\n",
    "\n",
    "%load_ext line_profiler\n",
    "%lprun -f func1 -f func2 statement_to_profile"
   ]
  },
  {
   "cell_type": "markdown",
   "metadata": {},
   "source": [
    "通常我们会用 %prun （cProfile） 做宏观性能分析，而用 %lprun 来做 微观的性能分析。\n",
    "\n",
    "** 注意，在使用 %lprun 时，之所以必须显示指明待测试函数的函数名，是因为“跟踪”每一行代码的时间代价是巨大的。对不感兴趣的函数进行跟踪会对分析结果产生很显著的影响。**"
   ]
  },
  {
   "cell_type": "markdown",
   "metadata": {},
   "source": [
    "## IPython HTML Notebook"
   ]
  },
  {
   "cell_type": "markdown",
   "metadata": {},
   "source": [
    "IPthon HTML Notebook，即现在的 jupyter notebook。这个其实在我整个笔记中都已经在使用了。notebook项目最初由 Brian Graner 领导的 Ipython 团队从 2011 年开始开发。目前已被广泛使用于开发和数据分析。\n",
    "\n",
    "首先来看个导入图标的例子，其实这个笔记的开头，我也已经展示过部分这样的功能"
   ]
  },
  {
   "cell_type": "code",
   "execution_count": 9,
   "metadata": {},
   "outputs": [
    {
     "name": "stdout",
     "output_type": "stream",
     "text": [
      "hello world!\n"
     ]
    }
   ],
   "source": [
    "import numpy as np\n",
    "import pandas as pd\n",
    "\n",
    "print('hello world!')"
   ]
  },
  {
   "cell_type": "markdown",
   "metadata": {},
   "source": [
    "## 此处补充一个书上 导入图片的一个例子："
   ]
  },
  {
   "cell_type": "markdown",
   "metadata": {},
   "source": [
    "\n",
    "\n",
    "\n",
    "\n"
   ]
  },
  {
   "cell_type": "code",
   "execution_count": 2,
   "metadata": {},
   "outputs": [
    {
     "data": {
      "text/html": [
       "<div>\n",
       "<style>\n",
       "    .dataframe thead tr:only-child th {\n",
       "        text-align: right;\n",
       "    }\n",
       "\n",
       "    .dataframe thead th {\n",
       "        text-align: left;\n",
       "    }\n",
       "\n",
       "    .dataframe tbody tr th {\n",
       "        vertical-align: top;\n",
       "    }\n",
       "</style>\n",
       "<table border=\"1\" class=\"dataframe\">\n",
       "  <thead>\n",
       "    <tr style=\"text-align: right;\">\n",
       "      <th></th>\n",
       "      <th>total_bill</th>\n",
       "      <th>tip</th>\n",
       "      <th>sex</th>\n",
       "      <th>smoker</th>\n",
       "      <th>day</th>\n",
       "      <th>time</th>\n",
       "      <th>size</th>\n",
       "    </tr>\n",
       "  </thead>\n",
       "  <tbody>\n",
       "    <tr>\n",
       "      <th>0</th>\n",
       "      <td>16.99</td>\n",
       "      <td>1.01</td>\n",
       "      <td>Female</td>\n",
       "      <td>No</td>\n",
       "      <td>Sun</td>\n",
       "      <td>Dinner</td>\n",
       "      <td>2</td>\n",
       "    </tr>\n",
       "    <tr>\n",
       "      <th>1</th>\n",
       "      <td>10.34</td>\n",
       "      <td>1.66</td>\n",
       "      <td>Male</td>\n",
       "      <td>No</td>\n",
       "      <td>Sun</td>\n",
       "      <td>Dinner</td>\n",
       "      <td>3</td>\n",
       "    </tr>\n",
       "    <tr>\n",
       "      <th>2</th>\n",
       "      <td>21.01</td>\n",
       "      <td>3.50</td>\n",
       "      <td>Male</td>\n",
       "      <td>No</td>\n",
       "      <td>Sun</td>\n",
       "      <td>Dinner</td>\n",
       "      <td>3</td>\n",
       "    </tr>\n",
       "    <tr>\n",
       "      <th>3</th>\n",
       "      <td>23.68</td>\n",
       "      <td>3.31</td>\n",
       "      <td>Male</td>\n",
       "      <td>No</td>\n",
       "      <td>Sun</td>\n",
       "      <td>Dinner</td>\n",
       "      <td>2</td>\n",
       "    </tr>\n",
       "    <tr>\n",
       "      <th>4</th>\n",
       "      <td>24.59</td>\n",
       "      <td>3.61</td>\n",
       "      <td>Female</td>\n",
       "      <td>No</td>\n",
       "      <td>Sun</td>\n",
       "      <td>Dinner</td>\n",
       "      <td>4</td>\n",
       "    </tr>\n",
       "  </tbody>\n",
       "</table>\n",
       "</div>"
      ],
      "text/plain": [
       "   total_bill   tip     sex smoker  day    time  size\n",
       "0       16.99  1.01  Female     No  Sun  Dinner     2\n",
       "1       10.34  1.66    Male     No  Sun  Dinner     3\n",
       "2       21.01  3.50    Male     No  Sun  Dinner     3\n",
       "3       23.68  3.31    Male     No  Sun  Dinner     2\n",
       "4       24.59  3.61  Female     No  Sun  Dinner     4"
      ]
     },
     "execution_count": 2,
     "metadata": {},
     "output_type": "execute_result"
    }
   ],
   "source": [
    "import numpy as np\n",
    "import pandas as pd\n",
    "\n",
    "tips = pd.read_csv('./pydata-book/ch08/tips.csv')\n",
    "tips.head()"
   ]
  },
  {
   "cell_type": "code",
   "execution_count": 11,
   "metadata": {},
   "outputs": [
    {
     "ename": "TypeError",
     "evalue": "'numpy.ndarray' object is not callable",
     "output_type": "error",
     "traceback": [
      "\u001b[1;31m---------------------------------------------------------------------------\u001b[0m",
      "\u001b[1;31mTypeError\u001b[0m                                 Traceback (most recent call last)",
      "\u001b[1;32m<ipython-input-11-07b9734f6b5b>\u001b[0m in \u001b[0;36m<module>\u001b[1;34m()\u001b[0m\n\u001b[0;32m      5\u001b[0m \u001b[1;33m\u001b[0m\u001b[0m\n\u001b[0;32m      6\u001b[0m \u001b[0mimg\u001b[0m \u001b[1;33m=\u001b[0m \u001b[0mplt\u001b[0m\u001b[1;33m.\u001b[0m\u001b[0mimread\u001b[0m\u001b[1;33m(\u001b[0m\u001b[1;34m'pydata-book/ch03/stinkbug.png'\u001b[0m\u001b[1;33m)\u001b[0m\u001b[1;33m\u001b[0m\u001b[0m\n\u001b[1;32m----> 7\u001b[1;33m \u001b[0mimg\u001b[0m\u001b[1;33m(\u001b[0m\u001b[0mfigsize\u001b[0m \u001b[1;33m=\u001b[0m \u001b[1;33m(\u001b[0m\u001b[1;36m4\u001b[0m\u001b[1;33m,\u001b[0m\u001b[1;36m4\u001b[0m\u001b[1;33m)\u001b[0m\u001b[1;33m)\u001b[0m\u001b[1;33m\u001b[0m\u001b[0m\n\u001b[0m\u001b[0;32m      8\u001b[0m \u001b[0mplt\u001b[0m\u001b[1;33m.\u001b[0m\u001b[0mimshow\u001b[0m\u001b[1;33m(\u001b[0m\u001b[0mimg\u001b[0m\u001b[1;33m)\u001b[0m\u001b[1;33m\u001b[0m\u001b[0m\n",
      "\u001b[1;31mTypeError\u001b[0m: 'numpy.ndarray' object is not callable"
     ]
    }
   ],
   "source": [
    "%matplotlib inline\n",
    "import numpy as np\n",
    "import matplotlib.pyplot as plt\n",
    "import pandas as pd\n",
    "\n",
    "img = plt.imread('pydata-book/ch03/stinkbug.png')\n",
    "img(figsize = (4,4))\n",
    "plt.imshow(img)"
   ]
  },
  {
   "cell_type": "markdown",
   "metadata": {},
   "source": [
    "jupyter notebook是一种基于 JSON 的文档格式 .ipynb， 这种格式是的我们可以轻松分享代码，分析结果，特别是展示图标。目前在各种 Python 研讨会上，一种流行的演示手段就是使用 IPython Notebook，然后再讲 .ipynb 文件发布到网上供所有人参考。"
   ]
  },
  {
   "cell_type": "markdown",
   "metadata": {},
   "source": [
    "Jupyter Notebook 是一个运行于命令行上的轻量级服务器进程。执行下面代码即可启动"
   ]
  },
  {
   "cell_type": "code",
   "execution_count": null,
   "metadata": {
    "collapsed": true
   },
   "outputs": [],
   "source": [
    "jupyter notebook "
   ]
  },
  {
   "cell_type": "markdown",
   "metadata": {},
   "source": [
    "如果想要图标以inline方式展示，可以在打开notebook后加入 %matplotlib --inline 或者 %pylab --inline"
   ]
  },
  {
   "cell_type": "markdown",
   "metadata": {},
   "source": [
    "## 利用IPython 提高代码开发效率的几点提示\n",
    "\n",
    "使用 IPython，可以让代码的结果更容易交互和亦欲查看。特别是当执行出现错误的时候，IPython 的交互性可以带来极大的便利"
   ]
  },
  {
   "cell_type": "markdown",
   "metadata": {},
   "source": [
    "### 重新加载模块依赖项\n",
    "\n",
    "在 Python 中，当我们输入 import some_lib 时候，some_lib 中的代码就会被执行，且其中所有的变量、函数和引入项都会保存在一个新建立的 some_lib 模块命名空间中。下次再输入 import some_lib 时，就会得到这个模块命名空间的一个引用。而这对于 IPython 的交互式代码开发模式就会有一个问题。\n",
    "\n",
    "比如，用 %run 执行的某段脚本中包含了某个刚刚做了修改的模块。假设我们有一个 sample_script.py 文件，其中有如下代码："
   ]
  },
  {
   "cell_type": "code",
   "execution_count": null,
   "metadata": {
    "collapsed": true
   },
   "outputs": [],
   "source": [
    "import some_lib\n",
    "\n",
    "x = 4\n",
    "y = [1,34,5,6]\n",
    "result = some_lib.get_answer(x,y)"
   ]
  },
  {
   "cell_type": "markdown",
   "metadata": {},
   "source": [
    "如果在执行了 %run sample_script.py 后又对 some_lib.py 进行了修改，下次再执行 %run sample_script.py 时候，将仍然会使用老版本的some_lib。其原因在于python是一种“一次加载”系统。不像 matplab等，它会自动应用代码修改。\n",
    "\n",
    "那么怎么解决这个问题呢？\n",
    "\n",
    "第一个办法是使用内置的reload函数，即将 sample_script.py 修改成\n"
   ]
  },
  {
   "cell_type": "code",
   "execution_count": null,
   "metadata": {
    "collapsed": true
   },
   "outputs": [],
   "source": [
    "import some_lib\n",
    "reload(some_lib)\n",
    "\n",
    "x = 4\n",
    "y = [1,34,5,6]\n",
    "result = some_lib.get_answer(x,y)"
   ]
  },
  {
   "cell_type": "markdown",
   "metadata": {},
   "source": [
    "这样，就可以保证每次执行 sample_script.py 时候都能使用最新的 some_lib 了。不过这个办法有个问题，当依赖变得更强时，就需要在很多地插入 reload.\n",
    "\n",
    "第二个办法可以弥补上述第一个办法的弊端。IPython 提供了一个特殊的 dreload 函数 （非魔术函数） 来解决模块的“深度”重加载。如果执行 import some_lib 之后在输入 derealod(some_lib),则它会尝试重新加载 some_lib 及其所有的依赖项。遗憾的是，这个办法也不是“屡试不爽”的，但倘若失效的，重新启动 IPython 就可以解决所有加载问题。"
   ]
  },
  {
   "cell_type": "markdown",
   "metadata": {},
   "source": [
    "### 代码设计提示\n",
    "\n",
    "\n",
    "作者说这个问题不好讲，但是他在日常生活中的确发现了一些高层次的原则。\n",
    "\n",
    "1. 保留有意义的对象和数据\n",
    "\n",
    "2. 扁平结构要比嵌套结构好：嵌套结构犹如洋葱，想要调试需要剥掉好多层。(这种思想源自于Zen of Python by Tim Peters. 在jupyter notebook中输入 import this可以看到这首诗)\n",
    "\n",
    "3. 无惧大文件。这样可以减少模块的反复加载，编辑脚本时候也可以减少跳转。维护也更加方便。维护更大的模块会更实用且更加符合python的特点。"
   ]
  },
  {
   "cell_type": "code",
   "execution_count": 1,
   "metadata": {},
   "outputs": [
    {
     "name": "stdout",
     "output_type": "stream",
     "text": [
      "The Zen of Python, by Tim Peters\n",
      "\n",
      "Beautiful is better than ugly.\n",
      "Explicit is better than implicit.\n",
      "Simple is better than complex.\n",
      "Complex is better than complicated.\n",
      "Flat is better than nested.\n",
      "Sparse is better than dense.\n",
      "Readability counts.\n",
      "Special cases aren't special enough to break the rules.\n",
      "Although practicality beats purity.\n",
      "Errors should never pass silently.\n",
      "Unless explicitly silenced.\n",
      "In the face of ambiguity, refuse the temptation to guess.\n",
      "There should be one-- and preferably only one --obvious way to do it.\n",
      "Although that way may not be obvious at first unless you're Dutch.\n",
      "Now is better than never.\n",
      "Although never is often better than *right* now.\n",
      "If the implementation is hard to explain, it's a bad idea.\n",
      "If the implementation is easy to explain, it may be a good idea.\n",
      "Namespaces are one honking great idea -- let's do more of those!\n"
     ]
    }
   ],
   "source": [
    "import this"
   ]
  },
  {
   "cell_type": "markdown",
   "metadata": {
    "collapsed": true
   },
   "source": [
    "## 高级python功能\n",
    "\n",
    "### 让你的类对IPython更加友好\n",
    "\n",
    "IPython 力求为各种对象呈现一个友好的字符串表示。对于许多对象（如字典、列表、组等），内置的pprint 模块就能给出漂亮的格式。但是对于我们自己所定义的那些类，必须自己格式化进行输出。假设我们以后下面这个简单的类："
   ]
  },
  {
   "cell_type": "code",
   "execution_count": 4,
   "metadata": {
    "collapsed": true
   },
   "outputs": [],
   "source": [
    "class Message:\n",
    "    def __init__(self, msg):\n",
    "        self.msg = msg"
   ]
  },
  {
   "cell_type": "markdown",
   "metadata": {},
   "source": [
    "如果像下面这样写，我们会发现这个类的默认输出很不好看："
   ]
  },
  {
   "cell_type": "code",
   "execution_count": 5,
   "metadata": {
    "collapsed": true
   },
   "outputs": [],
   "source": [
    "x = Message('I have secret')"
   ]
  },
  {
   "cell_type": "code",
   "execution_count": 6,
   "metadata": {},
   "outputs": [
    {
     "data": {
      "text/plain": [
       "<__main__.Message at 0x163154a2080>"
      ]
     },
     "execution_count": 6,
     "metadata": {},
     "output_type": "execute_result"
    }
   ],
   "source": [
    "x"
   ]
  },
  {
   "cell_type": "markdown",
   "metadata": {},
   "source": [
    "由于IPython会获取__repr__方法返回的字符串（具体方法是 output = repr(obj)），并将其显示到控制台上。因此，我们可以为上面那个类添加一个简单的 __repr__ 方法以得到一个更有意义的输出形式："
   ]
  },
  {
   "cell_type": "code",
   "execution_count": 11,
   "metadata": {
    "collapsed": true
   },
   "outputs": [],
   "source": [
    "class Message:\n",
    "    def __init__(self,msg):\n",
    "        self.msg = msg\n",
    "    \n",
    "    def __repr__(self):\n",
    "        return('Message: %s' % self.msg)"
   ]
  },
  {
   "cell_type": "code",
   "execution_count": 12,
   "metadata": {
    "collapsed": true
   },
   "outputs": [],
   "source": [
    "x = Message('I have a secret')"
   ]
  },
  {
   "cell_type": "code",
   "execution_count": 13,
   "metadata": {},
   "outputs": [
    {
     "data": {
      "text/plain": [
       "Message: I have a secret"
      ]
     },
     "execution_count": 13,
     "metadata": {},
     "output_type": "execute_result"
    }
   ],
   "source": [
    "x"
   ]
  },
  {
   "cell_type": "markdown",
   "metadata": {},
   "source": [
    "### 个性化和配置\n",
    "\n",
    "IPython shell 在外观和行为方面的大部分内容都是可以进行配置的。下面是能够通过配置做的部分事情：\n",
    "\n",
    "* 修改颜色方案\n",
    "\n",
    "* 修改输入输出提示符\n",
    "\n",
    "* 去掉 out 提示符跟下一个 In 提示符之间的空行\n",
    "\n",
    "* 执行任意 Python 语句。这些语句可以用于引入所有常用的东西，还可以做一些你希望每次启动 IPython 都发生的事情。\n",
    "\n",
    "* 启用 IPython 扩展，如 line_profiler 中的魔术命令 %lprun\n",
    "\n",
    "* 定义我们自己的魔术命令或者系统别名\n",
    "\n",
    "所有这些设置都在一个叫做 ipython_config.py 的文件中，可以在 ~/.config/ipython 目录中找到。Linux和windows系统目录略有点小区别。"
   ]
  },
  {
   "cell_type": "code",
   "execution_count": null,
   "metadata": {
    "collapsed": true
   },
   "outputs": [],
   "source": []
  }
 ],
 "metadata": {
  "kernelspec": {
   "display_name": "Python 3",
   "language": "python",
   "name": "python3"
  },
  "language_info": {
   "codemirror_mode": {
    "name": "ipython",
    "version": 3
   },
   "file_extension": ".py",
   "mimetype": "text/x-python",
   "name": "python",
   "nbconvert_exporter": "python",
   "pygments_lexer": "ipython3",
   "version": "3.6.1"
  }
 },
 "nbformat": 4,
 "nbformat_minor": 2
}
