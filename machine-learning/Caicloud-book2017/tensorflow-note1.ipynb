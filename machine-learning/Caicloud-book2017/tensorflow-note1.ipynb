{
 "cells": [
  {
   "cell_type": "markdown",
   "metadata": {},
   "source": [
    "# Head First TensorFlow\n"
   ]
  },
  {
   "cell_type": "code",
   "execution_count": null,
   "metadata": {
    "collapsed": true
   },
   "outputs": [],
   "source": []
  },
  {
   "cell_type": "markdown",
   "metadata": {},
   "source": [
    "####  Author: Yue-Wen FANG,\n",
    "#### Contact: fyuewen@gmail.com\n",
    "####  Revision history: created in late August 2017, at New York Uniersity, Shanghai\n",
    "#### New York University, Shanghai\n",
    "#### Kyto University\n",
    "#### In the begining, I read the book by Jiaxuan Li, but soon I realized it is not good for beginers, and hence I switch to read this book by Caicloud."
   ]
  },
  {
   "cell_type": "markdown",
   "metadata": {},
   "source": [
    "## 1. 深度学习简介"
   ]
  },
  {
   "cell_type": "code",
   "execution_count": null,
   "metadata": {
    "collapsed": true
   },
   "outputs": [],
   "source": []
  },
  {
   "cell_type": "markdown",
   "metadata": {},
   "source": [
    "## 2. TensorFlow 环境搭建"
   ]
  },
  {
   "cell_type": "markdown",
   "metadata": {
    "collapsed": true
   },
   "source": [
    "Please refere to my notes in the directory of JiaxuanLi-book2017\n",
    "\n",
    "A test code for your environment:"
   ]
  },
  {
   "cell_type": "code",
   "execution_count": 1,
   "metadata": {},
   "outputs": [
    {
     "name": "stdout",
     "output_type": "stream",
     "text": [
      "Tensor(\"add:0\", shape=(2,), dtype=float32)\n"
     ]
    }
   ],
   "source": [
    "import tensorflow as tf\n",
    "a = tf.constant([1.0,2.0], name = \"a\")\n",
    "b = tf.constant([1.0,2.0], name = \"b\")\n",
    "c = a + b\n",
    "with tf.Session() as sess:\n",
    "    sess.run(c)\n",
    "print(c)#"
   ]
  },
  {
   "cell_type": "markdown",
   "metadata": {},
   "source": [
    "## 3. TensorFlow 入门"
   ]
  },
  {
   "cell_type": "markdown",
   "metadata": {},
   "source": [
    "### 3.1 TensorFlow 计算模型——计算图\n",
    "\n",
    "计算图是TensorFlow 中最基本的一个概念。TensorFlow 中所有的计算都会被转化成计算图中的节点。（在之后的段落中，我为了省略时常将 TensorFlow 简化为 TF）"
   ]
  },
  {
   "cell_type": "markdown",
   "metadata": {},
   "source": [
    "#### 3.1.1 计算图的概念\n",
    "\n",
    "TensorFlow~中，张量可以简单地理解为多维数组，在 3.2 节中将对张量做更加详细的介绍。作者认为，如果 TensorFlow 中的 Tensor 表明了它的数据结构，那么 Flow 则体现了它的计算模型。 Flow 直观地体现了张量之间是通过计算实现相互转化的。TensorFlow 是一个通过计算图的形式来表述计算的编程系统。TensorFlow 中每个计算都是计算图上的一个节点，而节点之间的“边”则描述了计算之间的依赖关系。"
   ]
  },
  {
   "cell_type": "markdown",
   "metadata": {},
   "source": [
    "#### 3.1.2 计算图的使用\n",
    "\n",
    "TensorFlow~程序一般可分2阶段：\n",
    "\n",
    "1. 定义计算图中的所有计算； 例"
   ]
  },
  {
   "cell_type": "code",
   "execution_count": null,
   "metadata": {
    "collapsed": true
   },
   "outputs": [],
   "source": [
    "import tensorflow as tf\n",
    "a = tf.constant([1.0,2.0], name = \"a\")\n",
    "b = tf.constant([1.0,2.0], name = \"b\")\n",
    "c = a + b"
   ]
  },
  {
   "cell_type": "markdown",
   "metadata": {},
   "source": [
    "上述这个案例，定义了两个输入 a 和 b, 以及定义了一个“和”计算。"
   ]
  },
  {
   "cell_type": "code",
   "execution_count": null,
   "metadata": {
    "collapsed": true
   },
   "outputs": [],
   "source": [
    "2. 执行计算。这个部分将在 3.3 节中介绍。"
   ]
  },
  {
   "cell_type": "markdown",
   "metadata": {},
   "source": [
    "在 TensorFlow 中，系统会自动维护一个默认的计算图，通过 tf.get_default_graph 函数可以获取默认计算图。"
   ]
  },
  {
   "cell_type": "code",
   "execution_count": 4,
   "metadata": {},
   "outputs": [
    {
     "name": "stdout",
     "output_type": "stream",
     "text": [
      "True\n"
     ]
    }
   ],
   "source": [
    "import tensorflow as tf\n",
    "a = tf.constant([1.0,2.0], name = \"a\")\n",
    "b = tf.constant([1.0,2.0], name = \"b\")\n",
    "c = a + b\n",
    "print(a.graph is tf.get_default_graph())"
   ]
  },
  {
   "cell_type": "markdown",
   "metadata": {
    "collapsed": true
   },
   "source": [
    "上述代码段最后一句，作者说它实现了如何获取默认计算图以及如何查看一个运算所属计算图。当然，这点我有点**不明白？？**\n",
    "\n",
    "除了使用默认的计算图，TF 支持通过 tf.Graph 函数来生成新的计算图。 不同计算图上的张量和运算都不会共享。以下代码示意了如何在不同计算图上定义和使用变量："
   ]
  },
  {
   "cell_type": "code",
   "execution_count": 13,
   "metadata": {},
   "outputs": [
    {
     "ename": "TypeError",
     "evalue": "__init__() got an unexpected keyword argument 'shape'",
     "output_type": "error",
     "traceback": [
      "\u001b[1;31m---------------------------------------------------------------------------\u001b[0m",
      "\u001b[1;31mTypeError\u001b[0m                                 Traceback (most recent call last)",
      "\u001b[1;32m<ipython-input-13-69578e57c537>\u001b[0m in \u001b[0;36m<module>\u001b[1;34m()\u001b[0m\n\u001b[0;32m      5\u001b[0m     \u001b[1;31m#在计算图g1中定义变量 \"v\", 并初始化为0\u001b[0m\u001b[1;33m\u001b[0m\u001b[1;33m\u001b[0m\u001b[0m\n\u001b[0;32m      6\u001b[0m     v = tf.get_variable(\n\u001b[1;32m----> 7\u001b[1;33m     \"v\", initializer=tf.zeros_initializer(shape=[1]))\n\u001b[0m\u001b[0;32m      8\u001b[0m \u001b[1;33m\u001b[0m\u001b[0m\n\u001b[0;32m      9\u001b[0m \u001b[0mg2\u001b[0m \u001b[1;33m=\u001b[0m \u001b[0mtf\u001b[0m\u001b[1;33m.\u001b[0m\u001b[0mGraph\u001b[0m\u001b[1;33m(\u001b[0m\u001b[1;33m)\u001b[0m\u001b[1;33m\u001b[0m\u001b[0m\n",
      "\u001b[1;31mTypeError\u001b[0m: __init__() got an unexpected keyword argument 'shape'"
     ]
    }
   ],
   "source": [
    "import tensorflow as tf\n",
    "\n",
    "g1 = tf.Graph()\n",
    "with g1.as_default():\n",
    "    #在计算图g1中定义变量 \"v\", 并初始化为0\n",
    "    v = tf.get_variable(\n",
    "    \"v\", initializer=tf.zeros_initializer(shape=[1]))\n",
    "    \n",
    "g2 = tf.Graph()\n",
    "with g2.as_default():\n",
    "    #在计算图g1中定义变量 \"v\", 并初始化为1\n",
    "    v = tf.get_variable(\n",
    "    \"v\", initializer=tf.ones_initializer(shape=[1]))\n",
    "    \n",
    "# 在计算图 g1 中读取变量 v 的取值\n",
    "\n",
    "with tf.Session(graph = g1) as sess:\n",
    "    tf.initizlize_all_variables().run()\n",
    "    with tf.variable_scope(\"\", reuse=True):\n",
    "        #在计算图 g1 中，变量 v 的取值应该为0， 所以下面这行会输出 [0.]\n",
    "        print(sess.run(tf.get_variable(\"v\")))\n",
    "        \n",
    "\n",
    "# 在计算图 g2 中读取变量 v 的取值\n",
    "with tf.Session(graph = g1) as sess:\n",
    "    tf.initialize_all_variables().run()\n",
    "    with tf.variable_scope(\"\", reuse=True):\n",
    "        #在计算图 g2 中，变量“v\"的值应该为1，所以下面会输出[1.]\n",
    "        print(sess.run(tf.get_variable(\"v\")))"
   ]
  },
  {
   "cell_type": "markdown",
   "metadata": {},
   "source": [
    "可能因为我用的是TF 1.3，上述代码并不能运行通过？？！\n",
    "\n",
    "不过原书对上述代码有这样的讨论：TF的计算图不仅仅可以用来隔离张量和计算，还提供了管理张量和计算的控制。"
   ]
  },
  {
   "cell_type": "markdown",
   "metadata": {},
   "source": [
    "### 3.2 TensofrFlow 数据模型——张量"
   ]
  },
  {
   "cell_type": "markdown",
   "metadata": {},
   "source": [
    "#### 3.2.1 张量的概念 \n",
    "\n",
    "虽然这个小节叫做“张量的概念”，但其实这本书并未介绍什么是张量。张量的概念是数学中的，请参考数学书籍。不过本书告诉了我们，TF中的的数据和张量的关系：所有的TF数据都是以张量的方式表示的。从功能上看，张量可以被简单地理解为多维数组。例如零阶张量表示scalar，也就是一个数；第一阶张量为vector，也就是一个一维数组；第 *n* 阶张量理解为一个 *n* 为数组。\n",
    "\n",
    "** 然而在TF中，张量的实现并不是直接采用数组的形式，它只是对TF中运算结果的引用。在张量中并没有真正保存数组，它保存的是如何得到这些数字的计算过程。**\n",
    "\n",
    "例如下面这个例子进行加法运算，最后运行出来的结果并不是加法的结果，而是对结果的一个引用："
   ]
  },
  {
   "cell_type": "code",
   "execution_count": 16,
   "metadata": {},
   "outputs": [
    {
     "name": "stdout",
     "output_type": "stream",
     "text": [
      "Tensor(\"add_6:0\", shape=(2,), dtype=float32)\n"
     ]
    }
   ],
   "source": [
    "import tensorflow as tf\n",
    "a = tf.constant([1.0, 2.0], name = 'a')\n",
    "b = tf.constant([2.0, 3.0], name = 'b')\n",
    "sum = tf.add(a, b, name='add')\n",
    "print(sum)"
   ]
  },
  {
   "cell_type": "markdown",
   "metadata": {},
   "source": [
    "从上可以看出 TF 中的张量和 Numpy 中的数组是不同的，TF中计算的结果，并非数字结果，而是一个张量的结构：即 name、shape、和 type"
   ]
  },
  {
   "cell_type": "markdown",
   "metadata": {},
   "source": [
    "#### 3.2.2 张量的使用\n",
    "\n"
   ]
  }
 ],
 "metadata": {
  "kernelspec": {
   "display_name": "Python 3",
   "language": "python",
   "name": "python3"
  },
  "language_info": {
   "codemirror_mode": {
    "name": "ipython",
    "version": 3
   },
   "file_extension": ".py",
   "mimetype": "text/x-python",
   "name": "python",
   "nbconvert_exporter": "python",
   "pygments_lexer": "ipython3",
   "version": "3.6.1"
  }
 },
 "nbformat": 4,
 "nbformat_minor": 2
}
