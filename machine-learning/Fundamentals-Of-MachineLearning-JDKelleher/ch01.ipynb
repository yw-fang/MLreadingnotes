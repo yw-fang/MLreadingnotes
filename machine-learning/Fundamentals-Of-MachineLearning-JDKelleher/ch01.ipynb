{
 "cells": [
  {
   "cell_type": "markdown",
   "metadata": {},
   "source": [
    "# Ch01 Machine learning for predictive data analytics.\n",
    "\n",
    "起于 2018年4月17日 于京都大学\n",
    "\n",
    "Study the past if you would defeind the future\n",
    "--Confucius\n",
    "\n",
    "本书的开篇第一页竟然就是我们孔夫子的名言——温故而知新。在一本英文学术专著中，看到老夫子的名言，那种亲切感油然而生，毕竟中国人的名言在西方主流文化中还是很少见的。希望这样也能够顺带鼓励我们中国人学习西方的先进文化和技术。\n",
    "\n",
    "现代的组织或者机构常常会拥有很多自己产生的data，从这些data中进行分析（data analytics），我们可以产生新的洞见（insight），并由此指导未来我们所要做的决策。从数据到得到洞见的这一过程就称作数据分析，本书着重于预测性的数据分析（predictive data analytics）"
   ]
  },
  {
   "cell_type": "markdown",
   "metadata": {},
   "source": [
    "## What is predictive data analytics"
   ]
  },
  {
   "cell_type": "code",
   "execution_count": null,
   "metadata": {},
   "outputs": [],
   "source": []
  }
 ],
 "metadata": {
  "kernelspec": {
   "display_name": "Python 3",
   "language": "python",
   "name": "python3"
  },
  "language_info": {
   "codemirror_mode": {
    "name": "ipython",
    "version": 3
   },
   "file_extension": ".py",
   "mimetype": "text/x-python",
   "name": "python",
   "nbconvert_exporter": "python",
   "pygments_lexer": "ipython3",
   "version": "3.6.3"
  }
 },
 "nbformat": 4,
 "nbformat_minor": 2
}
