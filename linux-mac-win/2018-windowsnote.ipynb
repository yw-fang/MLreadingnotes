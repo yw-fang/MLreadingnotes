{
 "cells": [
  {
   "cell_type": "markdown",
   "metadata": {},
   "source": [
    "# Notes on Windows in the year of 2018\n",
    "\n",
    "The Windows version I am using is Windows 10.\n",
    "\n",
    "** Author: Yue-Wen FANG ** \n",
    "\n",
    "** Contact: fyuewen@gmail.com  ** \n",
    "\n",
    "** Revision history: created in 11th, May, at Kyoto ** "
   ]
  },
  {
   "cell_type": "markdown",
   "metadata": {
    "collapsed": true
   },
   "source": [
    "## 1. Sumatra PDF reader in Windows with the feature of \"highlight\"\n",
    "\n",
    "To be honest, I have tried a lot of PDF readers with additional tools in the past years. However, no free one in Windows is as excellent as preiview in MAC OS.\n",
    "\n",
    "Among them, SumatraPDF is my favouriate PDF reader because it's lightweight and easy to use.\n",
    "\n",
    "In general, Sumatra PDF doesn't have the feature of \"highlight\". Lucikly, I found the developers also release a 'pre' version in 2017 which added the functionality of 'highlight'.\n",
    "\n",
    "For the information, please see [Request fron the hightlighter feature in sumatraPdf](https://forum.sumatrapdfreader.org/t/feature-request-created-bookmarks-highlight-text/777) or their [github iusse](https://github.com/sumatrapdfreader/sumatrapdf/issues/747), and [Highlighting removal after saving](https://forum.sumatrapdfreader.org/t/highlighting-removal-after-saving/433).\n",
    "\n",
    "Donwload the 'preview' version of SumatraPDF: https://www.sumatrapdfreader.org/prerelease.html\n",
    "\n",
    "You may do some settings, for example, the SETUP section in the README.md of this [repo.](https://github.com/nod5/sumatra_highlight_helper.git) by author nod5.\n",
    "\n",
    "For me, I have:\n",
    "\n",
    "Settings > Advanced Options > SaveIntoDocument = false\n",
    "Settings > Advanced Options > FullPathInTitle = true\n",
    "\n",
    "## 2. PDF editor in Windows?\n",
    "\n",
    "PDFelement developed by Chinese is a very good alternative of Adobe Acrobat because the former is much cheaper. I tried the trial version, it looks good. However, I seldom use the PDF editor, therefore I don't plan to buy it at this moment."
   ]
  },
  {
   "cell_type": "code",
   "execution_count": null,
   "metadata": {},
   "outputs": [],
   "source": []
  }
 ],
 "metadata": {
  "kernelspec": {
   "display_name": "Python 3",
   "language": "python",
   "name": "python3"
  },
  "language_info": {
   "codemirror_mode": {
    "name": "ipython",
    "version": 3
   },
   "file_extension": ".py",
   "mimetype": "text/x-python",
   "name": "python",
   "nbconvert_exporter": "python",
   "pygments_lexer": "ipython3",
   "version": "3.6.3"
  }
 },
 "nbformat": 4,
 "nbformat_minor": 1
}
