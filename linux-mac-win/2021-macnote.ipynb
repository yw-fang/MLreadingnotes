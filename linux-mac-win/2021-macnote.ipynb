{
 "cells": [
  {
   "cell_type": "markdown",
   "metadata": {},
   "source": [
    "# 1. Rendering equations in \"Arial\" font in latexiT"
   ]
  },
  {
   "cell_type": "markdown",
   "metadata": {},
   "source": [
    "Go to \"Preferences\"-> \"Templates\",\n",
    "add a new Preambles configuration (e.g. we can name it \"arial-font\" configuration) with the following latex code"
   ]
  },
  {
   "cell_type": "code",
   "execution_count": null,
   "metadata": {},
   "outputs": [],
   "source": [
    "\\documentclass[10pt]{article}\n",
    "\\usepackage[usenames]{color} %used for font color\n",
    "\\usepackage{amssymb} %maths\n",
    "\\usepackage{amsmath} %maths\n",
    "\\usepackage[utf8]{inputenc} %useful to type directly diacritic characters\n",
    "\\usepackage{helvet}\n",
    "\\usepackage{sfmath}\n",
    "\\renewcommand*{\\familydefault}{\\sfdefault}\\usepackage[usenames,dvipsnames]{xcolor}\n",
    "\\let\\originalleft\\left\n",
    "\\let\\originalright\\right\n",
    "\\renewcommand{\\left}{\\mathopen{}\\mathclose\\bgroup\\originalleft}\n",
    "\\renewcommand{\\right}{\\aftergroup\\egroup\\originalright}\n",
    "\\renewcommand*{\\familydefault}{\\sfdefault}\\usepackage[usenames,dvipsnames]{xcolor}\n",
    "\\let\\originalleft\\left\n",
    "\\let\\originalright\\right\n",
    "\\renewcommand{\\left}{\\mathopen{}\\mathclose\\bgroup\\originalleft}\n",
    "\\renewcommand{\\right}{\\aftergroup\\egroup\\originalright}"
   ]
  },
  {
   "cell_type": "markdown",
   "metadata": {},
   "source": [
    "In addition, choose \"arial-font\" in the menu of \"Documents preamble\", then apply to the open documents or all the library"
   ]
  },
  {
   "cell_type": "code",
   "execution_count": null,
   "metadata": {},
   "outputs": [],
   "source": []
  }
 ],
 "metadata": {
  "kernelspec": {
   "display_name": "Python 3",
   "language": "python",
   "name": "python3"
  },
  "language_info": {
   "codemirror_mode": {
    "name": "ipython",
    "version": 3
   },
   "file_extension": ".py",
   "mimetype": "text/x-python",
   "name": "python",
   "nbconvert_exporter": "python",
   "pygments_lexer": "ipython3",
   "version": "3.7.1"
  }
 },
 "nbformat": 4,
 "nbformat_minor": 2
}
