{
 "cells": [
  {
   "cell_type": "markdown",
   "metadata": {},
   "source": [
    "# Notes on mac in the year of 2018"
   ]
  },
  {
   "cell_type": "markdown",
   "metadata": {},
   "source": [
    "** Author: Yue-Wen FANG ** \n",
    "\n",
    "** Contact: fyuewen@gmail.com  ** \n",
    "\n",
    "** Revision history: created in 11th, January, at Kyoto ** \n"
   ]
  },
  {
   "cell_type": "markdown",
   "metadata": {},
   "source": [
    "## 1. Install mactex\n",
    "\n",
    "\n",
    "brew tap caskroom/cask\n",
    "\n",
    " 这里会要求你输入一个密码，假设ABCD\n",
    "\n",
    "brew cask install mactex\n",
    "\n",
    "第二个命令会下载安装文件，此刻你可以去喝杯咖啡或者喝杯茶。当然你也可以选择继续埋头工作。下载后自动安装，然后会要求你一个密码，你可以输入ABCD\n",
    "\n",
    "然后重新打开一个terminal，happy playing with it...\n",
    "\n",
    "笔记中的部分内容在我的豆瓣日记中也会有提及，不过豆瓣大多是我随手一记的东西，很难去回头在看它们。\n"
   ]
  },
  {
   "cell_type": "markdown",
   "metadata": {},
   "source": [
    "# 2. Install xcrysden in mac\n",
    "\n",
    "In Ubuntun, it's quite easy to install xcrysden. First, sudo apt-get install xorg openbox; second, sudo apt-get install xcrysden\n",
    "\n",
    "However, in mac, it's a bit more comlicated.\n",
    "\n",
    "In mac os, we need install xQuartz (to set xQuartz as the default x11 system, we have to logout and login mac again) to get a x11 system, in addition, you need install xcode. \n",
    "\n",
    "Then download and install MacPorts: https://www.macports.org/install.php\n",
    "\n",
    "Then use command 'xcode-select --install' and 'xcodebuild -license'\n",
    "\n",
    "Finally, \"port install xcrysden +x11\"\n",
    "\n",
    "Now, it's ready to go..."
   ]
  },
  {
   "cell_type": "markdown",
   "metadata": {},
   "source": [
    "# 3. Open svg file and export it as pdf\n",
    "\n",
    "Date: 20180614\n",
    "\n",
    "Recently, I ploted a 3D energy profile using Wolfram Mathematica 11 for one of my research papers. For 3D figures, Mathematica cannot export vector PDF. To further retouch my figure, I exported the rastered PDF from Mathematica, and imported it into Inkscape (I used Inkscape in a Windows system). After adding some text and labels to the figure, I found the 3D colored part in the figure will be vanished if I exported it into PDF from Inkscape. \n",
    "\n",
    "To solve this problem, I installed **Gapplin**, and opend the svg file which is the native format for Inkscape, this software can export it into tif, pdf and png with high quality. When output format is png, the solution can be tunned. When output is pdf, the figure will be vector-like"
   ]
  },
  {
   "cell_type": "markdown",
   "metadata": {},
   "source": [
    "# 4. Install Inkscape in Mac OS\n",
    "\n",
    "Date: 20180615\n",
    "\n",
    "- Press Command+Space and type Terminal and press enter/return key.\n",
    "\n",
    "- Run in Terminal app:\n",
    "\n",
    "ruby -e \"$(curl -fsSL https://raw.githubusercontent.com/Homebrew/install/master/install)\" < /dev/null 2> /dev/null ; brew install caskroom/cask/brew-cask 2> /dev/null\n",
    "\n",
    "and press enter/return key. \n",
    "If the screen prompts you to enter a password, please enter your Mac's user password to continue. When you type the password, it won't be displayed on screen, but the system would accept it. So just type your password and press ENTER/RETURN key. Then wait for the command to finish.\n",
    "\n",
    "- Run:\n",
    "\n",
    "brew cask install inkscape"
   ]
  },
  {
   "cell_type": "markdown",
   "metadata": {},
   "source": [
    "Note that XQuarts should be installed before installing inkscape.\n",
    "\n",
    "It may take seceral minitues for lauching Inkscape on Mac for the first time because of the caching fonts from the computer."
   ]
  },
  {
   "cell_type": "markdown",
   "metadata": {},
   "source": [
    "## 4.1 Make figure background 'transparent'\n",
    "\n",
    "There are some filters available in Inkscape which can speed up complicated tasks.\n",
    "\n",
    "For instance, i wanted to remove white background of an image to make it transparent. I used the following method / filter in Inkscape.\n",
    "\n",
    "Select the image object.\n",
    "\n",
    "For versions < 0.91\n",
    "Go to Filters -> Transparency Utlities -> Light Eraser\n",
    "For version 0.91\n",
    "Go to Filters > Fill & Transparency > Light Eraser\n",
    "\n",
    "Ref: https://graphicdesign.stackexchange.com/questions/15450/remove-background-based-on-color-in-inkscape/28285#28285?newreg=97f1e5a90c444d09bdb117d51e5b7636"
   ]
  },
  {
   "cell_type": "markdown",
   "metadata": {},
   "source": [
    "# 5. Mindmap software in Mac\n",
    "\n",
    "Freeplane, although not perfect, but it's free and not difficult to use."
   ]
  },
  {
   "cell_type": "markdown",
   "metadata": {},
   "source": [
    "# 6. Wrting tools like Ulysses \n",
    "\n",
    "I found MAC app has some productivity writing tools like commercial software Ulysses. It can help focusing on writing."
   ]
  },
  {
   "cell_type": "markdown",
   "metadata": {},
   "source": [
    "# 7. Open a file using a specified application/software\n",
    "\n",
    "open -a Typora README.md\n",
    "\n",
    "Here, Typora is a writing application supporting markdown, and README.md is a markdown text.\n"
   ]
  },
  {
   "cell_type": "markdown",
   "metadata": {},
   "source": [
    "# 8. Install mactex \n",
    "\n",
    "\n",
    "\n",
    "brew tap caskroom/cask\n",
    "\n",
    " 这里会要求你输入一个密码，假设ABCD\n",
    "\n",
    "brew cask install mactex\n",
    "\n",
    "第二个命令会下载安装文件，此刻你可以去喝杯咖啡或者喝杯茶。当然你也可以选择继续埋头工作。下载后自动安装，然后会要求你一个密码，你可以输入ABCD\n",
    "\n",
    "然后重新打开一个terminal，happy playing with it..."
   ]
  },
  {
   "cell_type": "markdown",
   "metadata": {},
   "source": [
    "# 9. Vim open file at the position of last open\n",
    "\n",
    "对于没有特意设置过的mac os系统，每次vim打开文件都是从第一行开始。为了让vim记住上一次打开的地方。可以修改～/.vimrc\n",
    "加入以下两行：\n",
    "\n",
    "  au BufWinLeave * mkview\n",
    "  \n",
    "  au BufWinEnter * silent loadview\n",
    "  \n",
    "  参考文献：https://stackoverflow.com/questions/774560/in-vim-how-do-i-get-a-file-to-open-at-the-same-line-number-i-closed-it-at-last"
   ]
  },
  {
   "cell_type": "markdown",
   "metadata": {},
   "source": [
    "# 10. Install julia \n",
    "\n",
    "I know two methods to install julia\n",
    "\n",
    "- Command line method\n",
    "\n",
    "brew update\n",
    "\n",
    "brew tap staticfloat/julia\n",
    "\n",
    "brew install julia\n",
    "\n",
    "- dmg installation method\n",
    "\n",
    "Just download the official dmg (see https://julialang.org/downloads/), and install it as other applications in mac os.\n"
   ]
  },
  {
   "cell_type": "markdown",
   "metadata": {},
   "source": [
    "## 11. Download YouTube videos through youtube-dl command\n",
    "\n",
    "Install [youtube-dl](https://github.com/rg3/youtube-dl) from its github page. \n",
    "Use the command \"youtube-dl URL\" to download the requested video."
   ]
  },
  {
   "cell_type": "markdown",
   "metadata": {},
   "source": [
    "# 12. Install gfortran\n",
    "\n",
    "Please read [Gfortran for MacOSX 10.10 (Yosemite) to 10.13 (High Sierra) systems](http://www.lapk.org/gfortran/gfortran.php?OS=7)\n",
    "\n",
    "Xcode is needed, then download gfortra dmg file, install it.\n",
    "\n",
    "I installed it by following it, but got errors: **I don't understand 'm' flag**\n",
    "\n",
    "The solution is [here](https://github.com/dmlc/xgboost/issues/1945):\n",
    "\n",
    "$ cd /opt/local/bin\n",
    "\n",
    "$ sudo mv ./as ./as-broken\n",
    "\n",
    "$ sudo ln -s /usr/bin/as ./as"
   ]
  },
  {
   "cell_type": "markdown",
   "metadata": {},
   "source": [
    "# 13 /must>not&exist/foo:1: DeprecationWarning: the imp module is deprecated in favour of importlib; see the module's documentation for alternative use"
   ]
  },
  {
   "cell_type": "markdown",
   "metadata": {},
   "source": [
    "For me, when using python 3.6, or python 3.7 or python 2.7, I alwalys got this warning when open python scripts using vim. I have used the latest vim version: Patch 8.1.0201 of vim, and I also have following settings in my .vimrc file:\n",
    "\n",
    "if has('python3') && !has('patch-8.1.201')\n",
    "  silent! python3 1\n",
    "endif\n",
    "\n",
    "I couldn't remove this warning as others: see https://github.com/vim/vim/issues/3117\n",
    "\n",
    "I got a workaround by:\n",
    "let g:pymode = 0\n",
    "setlocal complete+=t\n",
    "setlocal formatoptions-=t\n",
    "\"if v:version > 702 && !&relativenumber\n",
    "\"    setlocal number\n",
    "\"endif\n",
    "setlocal nowrap\n",
    "setlocal textwidth=79\n",
    "setlocal commentstring=#%s\n",
    "setlocal define=^\\s*\\\\(def\\\\\\\\|class\\\\)\n",
    "\n",
    "About the usage of let g:pymode, plese see https://github.com/python-mode/python-mode/issues/356"
   ]
  },
  {
   "cell_type": "markdown",
   "metadata": {},
   "source": [
    "# 14 Install Mayavi in mac Mojave\n",
    "\n",
    "Ref: https://apple.stackexchange.com/questions/287200/how-do-i-install-mayavi-for-my-python3-on-macos-sierra\n",
    "\n",
    "Firstly, let's build a virtual environment:\n",
    "\n",
    "conda create --name myenv python=3\n",
    "Secondly, activate the environment named 'myenv', and update the conda via:\n",
    "\n",
    "conda update -n base conda\n",
    "Thirdly,\n",
    "\n",
    "brew install vtk --with-python3 --without-python\n",
    "Finally,\n",
    "\n",
    "conda install -c anaconda mayavi "
   ]
  },
  {
   "cell_type": "markdown",
   "metadata": {},
   "source": [
    "An example code to generate the animation:\n",
    "\n",
    "(the orginal source code of this example comes from the [official website](http://docs.enthought.com/mayavi/mayavi/auto/example_mlab_visual.html#example-mlab-visual))"
   ]
  },
  {
   "cell_type": "code",
   "execution_count": null,
   "metadata": {},
   "outputs": [],
   "source": [
    "#!/usr/bin/env python3                                                                               \n",
    "\n",
    "from mayavi import mlab\n",
    "from tvtk.tools import visual\n",
    "from vtk.util import colors as color\n",
    "\n",
    "# Create a figure                                                                                    \n",
    "f = mlab.figure(size=(500,500))\n",
    "# Tell visual to use this as the viewer.                                         \n",
    "visual.set_viewer(f)\n",
    "\n",
    "# A silly visualization.                                                                             \n",
    "mlab.test_plot3d()\n",
    "\n",
    "# Even sillier animation.                                                                            \n",
    "b1 = visual.box()\n",
    "b2 = visual.box(x=4., color=color.red)\n",
    "b3 = visual.box(x=-4, color=color.red)\n",
    "b1.v = 5.0\n",
    "\n",
    "@mlab.show\n",
    "@mlab.animate(delay=250)\n",
    "def anim():\n",
    "    \"\"\"Animate the b1 box.\"\"\"\n",
    "    while 1:\n",
    "        b1.x = b1.x + b1.v*0.1\n",
    "        if b1.x > 2.5 or b1.x < -2.5:\n",
    "            b1.v = -b1.v\n",
    "        yield\n",
    "\n",
    "# Run the animation.                                                                                 \n",
    "anim()"
   ]
  },
  {
   "cell_type": "markdown",
   "metadata": {},
   "source": [
    "# 15 Text messages to your cellphone and gmail via python \n",
    "\n",
    "I didn't test this library named *smtplib* very carefully, howevery, I believe it can work. I will come back to visit it\n",
    "at a proper time.\n",
    "\n",
    "Ref: \n",
    "https://patrickfuller.github.io/texting-from-your-server-in-python/"
   ]
  },
  {
   "cell_type": "markdown",
   "metadata": {},
   "source": [
    "# 16 Install pov\n",
    "\n",
    "1. Run in Terminal app:\n",
    "ruby -e \"$(curl -fsSL https://raw.githubusercontent.com/Homebrew/install/master/install)\" < /dev/null 2> /dev/null\n",
    "\n",
    "2. brew install povray\n",
    "\n",
    "Ref: http://macappstore.org/povray/\n",
    "\n",
    "You can use the command \"$which povray\" to check where the povray is.\n",
    "\n",
    "In my mac, the povray is in:\n",
    "\n",
    "/usr/local/bin/povray\n",
    "\n",
    "and the corresponding include files are in:\n",
    "\n",
    "/usr/local/Cellar/povray/3.7.0.8_1/share/povray-3.7/include\n"
   ]
  },
  {
   "cell_type": "markdown",
   "metadata": {},
   "source": [
    "# 17 Allow Apps from Anywhere in macOS GateKeeper, and install 'Art Of Illusion'\n",
    "\n",
    "Since macOS Sierra, the menu Security & Privacy only display two options, i.e. 1) App Store 2) App Store and identified developers.\n",
    "\n",
    "However, install some softwares may require higher authority, we hence need allow the apps from anywhere.\n",
    "\n",
    "For example, the installation of 'Art Of Illusion 3.0.3' requires this enabled.\n",
    "If you don't allow the Apps to be from anywhere, the mac will remind you that this source package is damaged (however, it's wrong, see: http://www.artofillusion.org/downloads)\n",
    "\n",
    "Here is the method of enable it:\n",
    "\n",
    "1. Quit out of System Preferences\n",
    "\n",
    "2. Open the Terminal app from the /Applications/Utilities/ folder and then enter the following command syntax:\n",
    "sudo spctl --master-disable\n",
    "\n",
    "3. Hit return and authenticate with an admin password\n",
    "\n",
    "4. Relaunch System Preferences and go to “Security & Privacy” and the “General” tab\n",
    "\n",
    "5. You will now see the “Anywhere” option under ‘Allow apps downloaded from:’ Gatekeeper options\n",
    "\n",
    "Then you can install the applications.\n",
    "\n",
    "Howver, I recommend disabling it after installation to make macOS safe:\n",
    "sudo spctl --master-enable\n",
    "\n",
    "Ref: http://osxdaily.com/2016/09/27/allow-apps-from-anywhere-macos-gatekeeper/"
   ]
  }
 ],
 "metadata": {
  "kernelspec": {
   "display_name": "Python 3",
   "language": "python",
   "name": "python3"
  },
  "language_info": {
   "codemirror_mode": {
    "name": "ipython",
    "version": 3
   },
   "file_extension": ".py",
   "mimetype": "text/x-python",
   "name": "python",
   "nbconvert_exporter": "python",
   "pygments_lexer": "ipython3",
   "version": "3.6.3"
  }
 },
 "nbformat": 4,
 "nbformat_minor": 2
}
