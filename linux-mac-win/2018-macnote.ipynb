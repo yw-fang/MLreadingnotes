{
 "cells": [
  {
   "cell_type": "markdown",
   "metadata": {},
   "source": [
    "# Notes on mac in the year of 2018"
   ]
  },
  {
   "cell_type": "markdown",
   "metadata": {},
   "source": [
    "** Author: Yue-Wen FANG ** \n",
    "\n",
    "** Contact: fyuewen@gmail.com  ** \n",
    "\n",
    "** Revision history: created in 11th, January, at Kyoto ** \n"
   ]
  },
  {
   "cell_type": "markdown",
   "metadata": {},
   "source": [
    "## 1. Install mactex\n",
    "\n",
    "\n",
    "brew tap caskroom/cask\n",
    "\n",
    " 这里会要求你输入一个密码，假设ABCD\n",
    "\n",
    "brew cask install mactex\n",
    "\n",
    "第二个命令会下载安装文件，此刻你可以去喝杯咖啡或者喝杯茶。当然你也可以选择继续埋头工作。下载后自动安装，然后会要求你一个密码，你可以输入ABCD\n",
    "\n",
    "然后重新打开一个terminal，happy playing with it...\n",
    "\n",
    "笔记中的部分内容在我的豆瓣日记中也会有提及，不过豆瓣大多是我随手一记的东西，很难去回头在看它们。\n"
   ]
  },
  {
   "cell_type": "markdown",
   "metadata": {},
   "source": [
    "# 2. Install xcrysden in mac\n",
    "\n",
    "In Ubuntun, it's quite easy to install xcrysden. First, sudo apt-get install xorg openbox; second, sudo apt-get install xcrysden\n",
    "\n",
    "However, in mac, it's a bit more comlicated.\n",
    "\n",
    "In mac os, we need install xQuartz (to set xQuartz as the default x11 system, we have to logout and login mac again) to get a x11 system, in addition, you need install xcode. \n",
    "\n",
    "Then download and install MacPorts: https://www.macports.org/install.php\n",
    "\n",
    "Then use command 'xcode-select --install' and 'xcodebuild -license'\n",
    "\n",
    "Finally, \"port install xcrysden +x11\"\n",
    "\n",
    "Now, it's ready to go..."
   ]
  },
  {
   "cell_type": "markdown",
   "metadata": {},
   "source": [
    "# 3. Open svg file and export it as pdf\n",
    "\n",
    "Date: 20180614\n",
    "\n",
    "Recently, I ploted a 3D energy profile using Wolfram Mathematica 11 for one of my research papers. For 3D figures, Mathematica cannot export vector PDF. To further retouch my figure, I exported the rastered PDF from Mathematica, and imported it into Inkscape (I used Inkscape in a Windows system). After adding some text and labels to the figure, I found the 3D colored part in the figure will be vanished if I exported it into PDF from Inkscape. \n",
    "\n",
    "To solve this problem, I installed **Gapplin**, and opend the svg file which is the native format for Inkscape, this software can export it into tif, pdf and png without solution loss. "
   ]
  },
  {
   "cell_type": "code",
   "execution_count": null,
   "metadata": {},
   "outputs": [],
   "source": []
  }
 ],
 "metadata": {
  "kernelspec": {
   "display_name": "Python 3",
   "language": "python",
   "name": "python3"
  },
  "language_info": {
   "codemirror_mode": {
    "name": "ipython",
    "version": 3
   },
   "file_extension": ".py",
   "mimetype": "text/x-python",
   "name": "python",
   "nbconvert_exporter": "python",
   "pygments_lexer": "ipython3",
   "version": "3.6.3"
  }
 },
 "nbformat": 4,
 "nbformat_minor": 2
}
