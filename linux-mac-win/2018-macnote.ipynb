{
 "cells": [
  {
   "cell_type": "markdown",
   "metadata": {},
   "source": [
    "# Notes on mac in the year of 2018"
   ]
  },
  {
   "cell_type": "markdown",
   "metadata": {},
   "source": [
    "** Author: Yue-Wen FANG ** \n",
    "\n",
    "** Contact: fyuewen@gmail.com  ** \n",
    "\n",
    "** Revision history: created in 11th, January, at Kyoto ** \n"
   ]
  },
  {
   "cell_type": "markdown",
   "metadata": {},
   "source": [
    "## 1. Install mactex\n",
    "\n",
    "\n",
    "brew tap caskroom/cask\n",
    "\n",
    " 这里会要求你输入一个密码，假设ABCD\n",
    "\n",
    "brew cask install mactex\n",
    "\n",
    "第二个命令会下载安装文件，此刻你可以去喝杯咖啡或者喝杯茶。当然你也可以选择继续埋头工作。下载后自动安装，然后会要求你一个密码，你可以输入ABCD\n",
    "\n",
    "然后重新打开一个terminal，happy playing with it...\n",
    "\n",
    "笔记中的部分内容在我的豆瓣日记中也会有提及，不过豆瓣大多是我随手一记的东西，很难去回头在看它们。\n"
   ]
  },
  {
   "cell_type": "markdown",
   "metadata": {},
   "source": [
    "# 2. Install xcrysden in mac\n",
    "\n",
    "In Ubuntun, it's quite easy to install xcrysden. First, sudo apt-get install xorg openbox; second, sudo apt-get install xcrysden\n",
    "\n",
    "However, in mac, it's a bit more comlicated.\n",
    "\n",
    "In mac os, we need install xQuartz (to set xQuartz as the default x11 system, we have to logout and login mac again) to get a x11 system, in addition, you need install xcode. \n",
    "\n",
    "Then download and install MacPorts: https://www.macports.org/install.php\n",
    "\n",
    "Then use command 'xcode-select --install' and 'xcodebuild -license'\n",
    "\n",
    "Finally, \"port install xcrysden +x11\"\n",
    "\n",
    "Now, it's ready to go..."
   ]
  },
  {
   "cell_type": "markdown",
   "metadata": {},
   "source": [
    "# 3. Open svg file and export it as pdf\n",
    "\n",
    "Date: 20180614\n",
    "\n",
    "Recently, I ploted a 3D energy profile using Wolfram Mathematica 11 for one of my research papers. For 3D figures, Mathematica cannot export vector PDF. To further retouch my figure, I exported the rastered PDF from Mathematica, and imported it into Inkscape (I used Inkscape in a Windows system). After adding some text and labels to the figure, I found the 3D colored part in the figure will be vanished if I exported it into PDF from Inkscape. \n",
    "\n",
    "To solve this problem, I installed **Gapplin**, and opend the svg file which is the native format for Inkscape, this software can export it into tif, pdf and png with high quality. When output format is png, the solution can be tunned. When output is pdf, the figure will be vector-like"
   ]
  },
  {
   "cell_type": "markdown",
   "metadata": {},
   "source": [
    "# 4. Install Inkscape in Mac OS\n",
    "\n",
    "Date: 20180615\n",
    "\n",
    "- Press Command+Space and type Terminal and press enter/return key.\n",
    "\n",
    "- Run in Terminal app:\n",
    "\n",
    "ruby -e \"$(curl -fsSL https://raw.githubusercontent.com/Homebrew/install/master/install)\" < /dev/null 2> /dev/null ; brew install caskroom/cask/brew-cask 2> /dev/null\n",
    "\n",
    "and press enter/return key. \n",
    "If the screen prompts you to enter a password, please enter your Mac's user password to continue. When you type the password, it won't be displayed on screen, but the system would accept it. So just type your password and press ENTER/RETURN key. Then wait for the command to finish.\n",
    "\n",
    "- Run:\n",
    "\n",
    "brew cask install inkscape"
   ]
  },
  {
   "cell_type": "markdown",
   "metadata": {},
   "source": [
    "Note that XQuarts should be installed before installing inkscape.\n",
    "\n",
    "It may take seceral minitues for lauching Inkscape on Mac for the first time because of the caching fonts from the computer."
   ]
  },
  {
   "cell_type": "markdown",
   "metadata": {},
   "source": [
    "# 5. Mindmap software in Mac\n",
    "\n",
    "Freeplane, although not perfect, but it's free and not difficult to use."
   ]
  },
  {
   "cell_type": "markdown",
   "metadata": {},
   "source": [
    "# 6. Wrting tools like Ulysses \n",
    "\n",
    "I found MAC app has some productivity writing tools like commercial software Ulysses. It can help focusing on writing."
   ]
  },
  {
   "cell_type": "markdown",
   "metadata": {},
   "source": [
    "# 7. Open a file using a specified application/software\n",
    "\n",
    "open -a Typora README.md\n",
    "\n",
    "Here, Typora is a writing application supporting markdown, and README.md is a markdown text.\n"
   ]
  },
  {
   "cell_type": "markdown",
   "metadata": {},
   "source": [
    "# 8. Install mactex \n",
    "\n",
    "\n",
    "\n",
    "brew tap caskroom/cask\n",
    "\n",
    " 这里会要求你输入一个密码，假设ABCD\n",
    "\n",
    "brew cask install mactex\n",
    "\n",
    "第二个命令会下载安装文件，此刻你可以去喝杯咖啡或者喝杯茶。当然你也可以选择继续埋头工作。下载后自动安装，然后会要求你一个密码，你可以输入ABCD\n",
    "\n",
    "然后重新打开一个terminal，happy playing with it..."
   ]
  },
  {
   "cell_type": "markdown",
   "metadata": {},
   "source": [
    "# 9. Vim open file at the position of last open\n",
    "\n",
    "对于没有特意设置过的mac os系统，每次vim打开文件都是从第一行开始。为了让vim记住上一次打开的地方。可以修改～/.vimrc\n",
    "加入以下两行：\n",
    "\n",
    "  au BufWinLeave * mkview\n",
    "  \n",
    "  au BufWinEnter * silent loadview\n",
    "  \n",
    "  参考文献：https://stackoverflow.com/questions/774560/in-vim-how-do-i-get-a-file-to-open-at-the-same-line-number-i-closed-it-at-last"
   ]
  },
  {
   "cell_type": "markdown",
   "metadata": {},
   "source": [
    "# 10. Install julia \n",
    "\n",
    "I know two methods to install julia\n",
    "\n",
    "- Command line method\n",
    "\n",
    "brew update\n",
    "\n",
    "brew tap staticfloat/julia\n",
    "\n",
    "brew install julia\n",
    "\n",
    "- dmg installation method\n",
    "\n",
    "Just download the official dmg (see https://julialang.org/downloads/), and install it as other applications in mac os.\n"
   ]
  },
  {
   "cell_type": "code",
   "execution_count": null,
   "metadata": {},
   "outputs": [],
   "source": []
  }
 ],
 "metadata": {
  "kernelspec": {
   "display_name": "Python 3",
   "language": "python",
   "name": "python3"
  },
  "language_info": {
   "codemirror_mode": {
    "name": "ipython",
    "version": 3
   },
   "file_extension": ".py",
   "mimetype": "text/x-python",
   "name": "python",
   "nbconvert_exporter": "python",
   "pygments_lexer": "ipython3",
   "version": "3.6.3"
  }
 },
 "nbformat": 4,
 "nbformat_minor": 2
}
