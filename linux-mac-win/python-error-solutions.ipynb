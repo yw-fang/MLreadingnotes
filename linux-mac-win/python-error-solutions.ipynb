{
 "cells": [
  {
   "cell_type": "markdown",
   "metadata": {},
   "source": [
    "# Errors and solutions related to python\n",
    "\n",
    "1. * Q: No module named Cython.Distutils or No module named Cython.Distutils\n",
    "\n",
    "   - A: pip install cpython, see [ref1](https://stackoverflow.com/questions/11108461/python-importerror-cython-distutils) or [ref2](https://github.com/trezor/python-trezor/issues/40)\n",
    "\n",
    "2. - Q: Python 3 ImportError: No module named 'ConfigParser'"
   ]
  },
  {
   "cell_type": "markdown",
   "metadata": {},
   "source": [
    "- A-1: see [ref](https://stackoverflow.com/questions/14087598/python-3-importerror-no-module-named-configparser)"
   ]
  },
  {
   "cell_type": "code",
   "execution_count": null,
   "metadata": {},
   "outputs": [],
   "source": [
    "pip install configparser\n",
    "sudo cp /usr/lib/python3.6/configparser.py /usr/lib/python3.6/ConfigParser.py"
   ]
  },
  {
   "cell_type": "markdown",
   "metadata": {},
   "source": [
    "- A-2: see [ref](https://stackoverflow.com/questions/14087598/python-3-importerror-no-module-named-configparser)"
   ]
  },
  {
   "cell_type": "code",
   "execution_count": null,
   "metadata": {},
   "outputs": [],
   "source": [
    "try:\n",
    "    import configparser\n",
    "except:\n",
    "    from six.moves import configparser"
   ]
  }
 ],
 "metadata": {
  "kernelspec": {
   "display_name": "Python 3",
   "language": "python",
   "name": "python3"
  },
  "language_info": {
   "codemirror_mode": {
    "name": "ipython",
    "version": 3
   },
   "file_extension": ".py",
   "mimetype": "text/x-python",
   "name": "python",
   "nbconvert_exporter": "python",
   "pygments_lexer": "ipython3",
   "version": "3.6.3"
  }
 },
 "nbformat": 4,
 "nbformat_minor": 2
}
