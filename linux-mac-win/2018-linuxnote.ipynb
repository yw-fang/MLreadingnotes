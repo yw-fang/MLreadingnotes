{
 "cells": [
  {
   "cell_type": "markdown",
   "metadata": {},
   "source": [
    "# Notes on linux in the year of 2018\n",
    "\n",
    "\n",
    "** Author: Yue-Wen FANG ** \n",
    "\n",
    "** Contact: fyuewen@gmail.com  ** \n",
    "\n",
    "** Revision history: created in 11th, January, at Kyoto ** "
   ]
  },
  {
   "cell_type": "markdown",
   "metadata": {
    "collapsed": true
   },
   "source": [
    "## 1. About texlive in linux\n",
    "\n",
    "After installing texlive into your linux system, you may still have problem when compling tex files (for example, when compling the manuscript for American Physica Society, I got this error: `revtex4-1.cls' not found. In avoid of this error, just install the texlive-publishers. Although it's a little bit large, but it's quite useful.\n",
    "\n",
    "In Ubuntu, jsut type:\n",
    "\n",
    "sudo apt-get install texlive-publishers\n",
    "\n"
   ]
  },
  {
   "cell_type": "markdown",
   "metadata": {},
   "source": [
    "## 2. the solution of 'cannot change locale (UTF-8): No such file or directory'\n",
    "\n",
    "Linux (what I mean here is Ubuntu) warning: setlocale: LC_CTYPE: cannot change locale (UTF-8): No such file or directory\n",
    "\n",
    "\n",
    "sudo vi /etc/environment\n",
    "\n",
    "add these lines...\n",
    "\n",
    "LANG=en_US.utf-8\n",
    "LC_ALL=en_US.utf-8"
   ]
  },
  {
   "cell_type": "code",
   "execution_count": null,
   "metadata": {
    "collapsed": true
   },
   "outputs": [],
   "source": [
    "## 2. All about ssh problems"
   ]
  },
  {
   "cell_type": "markdown",
   "metadata": {},
   "source": [
    "### 2.1 Login the Ubuntun Linux built in the virtualbox with a windows 10 host\n",
    "\n",
    "In my windows 10 computer, I have a ubuntun linux (version is 17.10, let's call this linux 'toutou') that was virtualized in the virtualbox. These systems are frequently used in my daily research. Hence, ssh is quite necessary for me.\n",
    "\n",
    "This problem can be diveded into two problems: 1) login the ubuntu 'toutou' through the host windows system; 2) login the ubuntu 'toutou' from anywhere that is out of the windows system.\n",
    "\n",
    "I show the methods that work for my instituation.\n",
    "\n",
    "#### 2.1.1 for the first problem\n",
    "\n",
    "Firstly, set up 'VirtualBox Port Forwarding'. It is easy trough the VirtualBox->Settings-->Network --> Nat --> Advanced --> Port Forwarding --> set the Host Port as 3022, set the Guest Port as 22. When doing this, it's better to keep ubuntu system power off. After finishing the abve operations, login the ubuntu system.\n",
    "\n",
    "Secondly, in the ubuntu 'toutou' terminal, use command 'ifconfig' (alternatively, we can use 'ip a' for analogous information), and you will get some interformation about the IP and mac address of the ubuntu system.\n",
    "Here, I show the my information,(considering safety, the details are removed/changed):"
   ]
  },
  {
   "cell_type": "code",
   "execution_count": null,
   "metadata": {
    "collapsed": true
   },
   "outputs": [],
   "source": [
    "enp0s3: flags=2743<UP,BROADCAST,RUNNING,MULTICAST>  mtu 1500\n",
    "        inet 10.1.20.15  netmask 255.255.255.0  broadcast 10.1.20.255\n",
    "        inet6     prefixlen 64  scopeid 0x20<link>\n",
    "        ether    txqueuelen 1000  (Ethernet)\n",
    "        RX packets 132253  bytes 190923436349 (1.9 GB)\n",
    "        RX errors 0  dropped 0  overruns 0  frame 0\n",
    "        TX packets 752342  bytes 1142345736 (114.8 MB)\n",
    "        TX errors 0  dropped 0 overruns 0  carrier 0  collisions 0\n",
    "\n",
    "lo: flags=93<UP,LOOPBACK,RUNNING>  mtu 65536\n",
    "        inet 127.0.0.1  netmask 255.0.0.0 #127.0.0.1 is what we need\n",
    "        inet6 ::1  prefixlen 128  scopeid 0x10<host>\n",
    "        loop  txqueuelen 1000  (Local Loopback)\n",
    "        RX packets 352118  bytes 184670313 (184.6 MB)\n",
    "        RX errors 0  dropped 0  overruns 0  frame 0\n",
    "        TX packets 352118  bytes 184670313 (184.6 MB)\n",
    "        TX errors 0  dropped 0 overruns 0  carrier 0  collisions 0"
   ]
  },
  {
   "cell_type": "markdown",
   "metadata": {},
   "source": [
    "Thirdly, go to the windows host, open a Git Bash or anything else like Cygwin,\n",
    "ssh user@127.0.0.1 (If there is no reponse, please check you have ssh server in the ubuntu; install it and restart the ssh server, try again)"
   ]
  },
  {
   "cell_type": "markdown",
   "metadata": {},
   "source": [
    "#### 2.1.2 for the second problem\n",
    "\n",
    "I tried many solutions in the stackflow, but all failed. Accidently I solved it by myself just at the moment. Actually it's very simple.\n",
    "\n",
    "Open the GitBash in my host windows, use commad 'ifconfig.exe' (or any other useful command that can return the network information). In my case, the information is"
   ]
  },
  {
   "cell_type": "code",
   "execution_count": null,
   "metadata": {
    "collapsed": true
   },
   "outputs": [],
   "source": [
    "$ ipconfig.exe\n",
    "\n",
    "Windows IP Configuration\n",
    "\n",
    "\n",
    "Ethernet adapter Ethernet:\n",
    "\n",
    "   Connection-specific DNS Suffix  . : net\n",
    "   IPv4 Address. . . . . . . . . . . : 10.202.71.201\n",
    "   Subnet Mask . . . . . . . . . . . : 255.255.255.0\n",
    "   Default Gateway . . . . . . . . . :  \n",
    "\n",
    "Ethernet adapter VirtualBox Host-Only Network #2:\n",
    "\n",
    "   Connection-specific DNS Suffix  . :\n",
    "   Link-local IPv6 Address . . . . . :  \n",
    "   IPv4 Address. . . . . . . . . . . : 192.168.0.1\n",
    "   Subnet Mask . . . . . . . . . . . : 255.255.255.0\n",
    "   Default Gateway . . . . . . . . . :\n"
   ]
  },
  {
   "cell_type": "markdown",
   "metadata": {},
   "source": [
    "The IP address '10.202.71.201' is what we need. Now, go to any other computers, for example, a Mac. Open the termianl in the Mac, and use command\n",
    "\n",
    "ssh 3022 user@10.202.71.201"
   ]
  },
  {
   "cell_type": "markdown",
   "metadata": {},
   "source": [
    "# 3. GLIBC errors: GLIBC_2.4 not found"
   ]
  },
  {
   "cell_type": "markdown",
   "metadata": {},
   "source": [
    "I have encountered this problem for several times (particularlly when using import pymatgen). If the uer is also a admin of the computer or supercomputer, it is easy to solove by updating the GLIBC version. Otherwise, we need find a work-around. (In comet for pymatgen, I solved this GLIBC_2.4 problem by using 'pip install --user pymatgen')\n",
    "\n",
    "I found a guy has provided a solution: see [ref](https://snorfalorpagus.net/blog/2016/07/17/compiling-python-extensions-for-old-glibc-versions/)\n",
    "\n",
    "Brifely, \n",
    "\n",
    "$ export CFLAGS=\"-I. -include glibc_version_fix.h\"\n",
    "\n",
    "$ python setup.py build_ext"
   ]
  },
  {
   "cell_type": "code",
   "execution_count": null,
   "metadata": {
    "collapsed": true
   },
   "outputs": [],
   "source": [
    "(py27) ywfang@mac  ~/vaspwork/PCOO/conventional-40atom/7GPa/allin 08:19:06 >readelf -s /home/ywfang/miniconda3/lib/python3.6/site-packages/pymatgen/util/coord_cython.cpython-36m-x86_64-linux-gnu.so  | grep GLIBC_2.14\n",
    "    88: 0000000000000000     0 FUNC    GLOBAL DEFAULT  UND memcpy@GLIBC_2.14 (4)\n",
    "   801: 0000000000000000     0 FUNC    GLOBAL DEFAULT  UND memcpy@@GLIBC_2.14\n",
    "(py27) ywfang@mac  ~/vaspwork/PCOO/conventional-40atom/7GPa/allin 08:19:26"
   ]
  },
  {
   "cell_type": "code",
   "execution_count": null,
   "metadata": {
    "collapsed": true
   },
   "outputs": [],
   "source": [
    "(py27) ywfang@mac  ~/vaspwork/PCOO/conventional-40atom/7GPa/allin 08:19:26 >readelf -V /home/ywfang/miniconda3/lib/python3.6/site-packages/pymatgen/util/coord_cython.cpython-36m-x86_64-linux-gnu.so\n",
    "\n",
    "Version symbols section '.gnu.version' contains 170 entries:\n",
    " Addr: 0000000000001eb4  Offset: 0x001eb4  Link: 3 (.dynsym)\n",
    "  000:   0 (*local*)       0 (*local*)       0 (*local*)       0 (*local*)\n",
    "  004:   0 (*local*)       0 (*local*)       0 (*local*)       0 (*local*)\n",
    "  008:   2 (GLIBC_2.2.5)   0 (*local*)       0 (*local*)       0 (*local*)\n",
    "  00c:   0 (*local*)       0 (*local*)       0 (*local*)       0 (*local*)\n",
    "  010:   0 (*local*)       0 (*local*)       0 (*local*)       0 (*local*)\n",
    "  014:   0 (*local*)       0 (*local*)       0 (*local*)       0 (*local*)\n",
    "  018:   0 (*local*)       0 (*local*)       0 (*local*)       0 (*local*)\n",
    "  01c:   0 (*local*)       0 (*local*)       0 (*local*)       0 (*local*)\n",
    "  020:   0 (*local*)       0 (*local*)       0 (*local*)       0 (*local*)\n",
    "  024:   0 (*local*)       0 (*local*)       0 (*local*)       0 (*local*)\n",
    "  028:   2 (GLIBC_2.2.5)   0 (*local*)       0 (*local*)       3 (GLIBC_2.4)\n",
    "  02c:   0 (*local*)       0 (*local*)       0 (*local*)       0 (*local*)\n",
    "  030:   0 (*local*)       0 (*local*)       0 (*local*)       0 (*local*)\n",
    "  034:   0 (*local*)       0 (*local*)       0 (*local*)       0 (*local*)\n",
    "  038:   0 (*local*)       2 (GLIBC_2.2.5)   0 (*local*)       0 (*local*)\n",
    "  03c:   0 (*local*)       0 (*local*)       0 (*local*)       0 (*local*)\n",
    "  040:   0 (*local*)       0 (*local*)       0 (*local*)       0 (*local*)\n",
    "  044:   0 (*local*)       0 (*local*)       2 (GLIBC_2.2.5)   0 (*local*)\n",
    "  048:   0 (*local*)       0 (*local*)       0 (*local*)       0 (*local*)\n",
    "  04c:   0 (*local*)       0 (*local*)       0 (*local*)       0 (*local*)\n",
    "  050:   0 (*local*)       0 (*local*)       0 (*local*)       0 (*local*)\n",
    "  054:   0 (*local*)       0 (*local*)       0 (*local*)       0 (*local*)\n",
    "  058:   4 (GLIBC_2.14)    0 (*local*)       0 (*local*)       0 (*local*)\n",
    "  05c:   0 (*local*)       0 (*local*)       0 (*local*)       0 (*local*)\n",
    "  060:   0 (*local*)       0 (*local*)       0 (*local*)       2 (GLIBC_2.2.5)\n",
    "  064:   0 (*local*)       0 (*local*)       0 (*local*)       0 (*local*)\n",
    "  068:   0 (*local*)       0 (*local*)       0 (*local*)       0 (*local*)\n",
    "  06c:   0 (*local*)       0 (*local*)       5 (GLIBC_2.3.4)   0 (*local*)\n",
    "  070:   0 (*local*)       0 (*local*)       0 (*local*)       0 (*local*)\n",
    "  074:   0 (*local*)       0 (*local*)       0 (*local*)       0 (*local*)\n",
    "  078:   0 (*local*)       0 (*local*)       0 (*local*)       0 (*local*)\n",
    "  07c:   0 (*local*)       0 (*local*)       0 (*local*)       0 (*local*)\n",
    "  080:   0 (*local*)       0 (*local*)       0 (*local*)       0 (*local*)\n",
    "  084:   0 (*local*)       0 (*local*)       0 (*local*)       0 (*local*)\n",
    "  088:   0 (*local*)       0 (*local*)       0 (*local*)       0 (*local*)\n",
    "  08c:   0 (*local*)       0 (*local*)       0 (*local*)       0 (*local*)\n",
    "  090:   0 (*local*)       0 (*local*)       0 (*local*)       0 (*local*)\n",
    "  094:   0 (*local*)       0 (*local*)       0 (*local*)       0 (*local*)\n",
    "  098:   2 (GLIBC_2.2.5)   0 (*local*)       0 (*local*)       0 (*local*)\n",
    "  09c:   0 (*local*)       0 (*local*)       0 (*local*)       0 (*local*)\n",
    "  0a0:   0 (*local*)       0 (*local*)       0 (*local*)       1 (*global*)\n",
    "  0a4:   1 (*global*)      1 (*global*)      1 (*global*)      1 (*global*)\n",
    "  0a8:   1 (*global*)      1 (*global*)\n",
    "\n",
    "Version needs section '.gnu.version_r' contains 1 entries:\n",
    " Addr: 0x0000000000002008  Offset: 0x002008  Link: 4 (.dynstr)\n",
    "  000000: Version: 1  File: libc.so.6  Cnt: 4\n",
    "  0x0010:   Name: GLIBC_2.3.4  Flags: none  Version: 5\n",
    "  0x0020:   Name: GLIBC_2.14  Flags: none  Version: 4\n",
    "  0x0030:   Name: GLIBC_2.4  Flags: none  Version: 3\n",
    "  0x0040:   Name: GLIBC_2.2.5  Flags: none  Version: 2"
   ]
  },
  {
   "cell_type": "markdown",
   "metadata": {},
   "source": [
    "# 4. OpenBLAS blas_thread_init: pthread_create: Resource temporarily unavailable\n",
    "\n",
    "Very recently, I got an error when 'import numpy' in Comet----OpenBLAS blas_thread_init: pthread_create: Resource temporarily unavailable\n",
    "\n",
    "This error I got was a machine dependent problem becuase Comet prevent users running production work.\n",
    "\n",
    "In Comet, there are two solutions:\n",
    "\n",
    "- vim .bashrc and set \"export OMP_NUM_THREADS = 2\" (2 can be changed to larger number dependending your computer)\n",
    "\n",
    "- Created an interaction session by using command \"srun --partition=debug --pty --nodes=1 --ntasks-per-node=24 -t 00:30:00 --wait=0 --export=ALL /bin/bash\", we can also start this session on Shared node by using \"srun --partition=shared --pty --nodes=1 --ntasks-per-node=20 -t 00:30:00 --wait=0 --export=ALL /bin/bash\"\n",
    "\n",
    "It's better to use the former method because in the latter method, if we exit the terminal then the session also ends."
   ]
  },
  {
   "cell_type": "code",
   "execution_count": null,
   "metadata": {},
   "outputs": [],
   "source": []
  }
 ],
 "metadata": {
  "kernelspec": {
   "display_name": "Python 3",
   "language": "python",
   "name": "python3"
  },
  "language_info": {
   "codemirror_mode": {
    "name": "ipython",
    "version": 3
   },
   "file_extension": ".py",
   "mimetype": "text/x-python",
   "name": "python",
   "nbconvert_exporter": "python",
   "pygments_lexer": "ipython3",
   "version": "3.6.3"
  }
 },
 "nbformat": 4,
 "nbformat_minor": 1
}
