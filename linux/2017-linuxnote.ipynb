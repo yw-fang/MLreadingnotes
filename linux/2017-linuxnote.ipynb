{
 "cells": [
  {
   "cell_type": "markdown",
   "metadata": {},
   "source": [
    "# Notes on linux\n",
    "\n",
    "This is a simple note, I don't have clear index to arrage the content in this note. I just take the notes which I may be easy forget."
   ]
  },
  {
   "cell_type": "markdown",
   "metadata": {},
   "source": [
    "** Author: Yue-Wen FANG ** \n",
    "\n",
    "** Contact: fyuewen@gmail.com  ** \n",
    "\n",
    "** Revision history: created in 16th, December 2017, at Kyoto ** \n"
   ]
  },
  {
   "cell_type": "markdown",
   "metadata": {},
   "source": [
    "## 1. 配置ssh连接\n",
    "\n",
    "Professionally speaking, it's better to use a English title: Configure Custom Connection Options for your SSH Client\n",
    "\n"
   ]
  },
  {
   "cell_type": "code",
   "execution_count": null,
   "metadata": {},
   "outputs": [],
   "source": []
  }
 ],
 "metadata": {
  "kernelspec": {
   "display_name": "Python 3",
   "language": "python",
   "name": "python3"
  },
  "language_info": {
   "codemirror_mode": {
    "name": "ipython",
    "version": 3
   },
   "file_extension": ".py",
   "mimetype": "text/x-python",
   "name": "python",
   "nbconvert_exporter": "python",
   "pygments_lexer": "ipython3",
   "version": "3.6.3"
  }
 },
 "nbformat": 4,
 "nbformat_minor": 2
}
