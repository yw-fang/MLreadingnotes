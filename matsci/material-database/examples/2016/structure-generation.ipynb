{
 "cells": [
  {
   "cell_type": "code",
   "execution_count": 2,
   "metadata": {},
   "outputs": [
    {
     "name": "stdout",
     "output_type": "stream",
     "text": [
      "Full Formula (Ba4 Ti12 O26)\n",
      "Reduced Formula: Ba4Ti12O26\n",
      "abc   :  15.004000   3.953000   9.085000\n",
      "angles:  90.000000  98.010000  90.000000\n",
      "Sites (42)\n",
      "  #  SP                          a    b      c\n",
      "---  ----------------------  -----  ---  -----\n",
      "  0  Ba2+                    0.552  0    0.778\n",
      "  1  Ba2+                    0.448  0    0.222\n",
      "  2  Ba2+                    0.052  0.5  0.778\n",
      "  3  Ba2+                    0.948  0.5  0.222\n",
      "  4  Ti3+:0.333, Ti4+:0.667  0.878  0    0.9\n",
      "  5  Ti3+:0.333, Ti4+:0.667  0.122  0    0.1\n",
      "  6  Ti3+:0.333, Ti4+:0.667  0.378  0.5  0.9\n",
      "  7  Ti3+:0.333, Ti4+:0.667  0.622  0.5  0.1\n",
      "  8  Ti3+:0.333, Ti4+:0.667  0.831  0    0.556\n",
      "  9  Ti3+:0.333, Ti4+:0.667  0.169  0    0.444\n",
      " 10  Ti3+:0.333, Ti4+:0.667  0.331  0.5  0.556\n",
      " 11  Ti3+:0.333, Ti4+:0.667  0.669  0.5  0.444\n",
      " 12  Ti3+:0.333, Ti4+:0.667  0.752  0    0.223\n",
      " 13  Ti3+:0.333, Ti4+:0.667  0.248  0    0.777\n",
      " 14  Ti3+:0.333, Ti4+:0.667  0.252  0.5  0.223\n",
      " 15  Ti3+:0.333, Ti4+:0.667  0.748  0.5  0.777\n",
      " 16  O2-                     0      0    0\n",
      " 17  O2-                     0.5    0.5  0\n",
      " 18  O2-                     0.759  0    0.753\n",
      " 19  O2-                     0.241  0    0.247\n",
      " 20  O2-                     0.259  0.5  0.753\n",
      " 21  O2-                     0.741  0.5  0.247\n",
      " 22  O2-                     0.928  0    0.699\n",
      " 23  O2-                     0.072  0    0.301\n",
      " 24  O2-                     0.428  0.5  0.699\n",
      " 25  O2-                     0.572  0.5  0.301\n",
      " 26  O2-                     0.701  0    0.429\n",
      " 27  O2-                     0.299  0    0.571\n",
      " 28  O2-                     0.201  0.5  0.429\n",
      " 29  O2-                     0.799  0.5  0.571\n",
      " 30  O2-                     0.871  0    0.381\n",
      " 31  O2-                     0.129  0    0.619\n",
      " 32  O2-                     0.371  0.5  0.381\n",
      " 33  O2-                     0.629  0.5  0.619\n",
      " 34  O2-                     0.627  0    0.112\n",
      " 35  O2-                     0.373  0    0.888\n",
      " 36  O2-                     0.127  0.5  0.112\n",
      " 37  O2-                     0.873  0.5  0.888\n",
      " 38  O2-                     0.829  0    0.083\n",
      " 39  O2-                     0.171  0    0.917\n",
      " 40  O2-                     0.329  0.5  0.083\n",
      " 41  O2-                     0.671  0.5  0.917\n",
      "The composition after adjustments is Ba2Li3O13.\n",
      "Full Formula (Ba4 Li6 O26)\n",
      "Reduced Formula: Ba2Li3O13\n",
      "abc   :  15.004000   3.953000   9.085000\n",
      "angles:  90.000000  98.010000  90.000000\n",
      "Sites (42)\n",
      "  #  SP             a    b      c\n",
      "---  ---------  -----  ---  -----\n",
      "  0  Ba2+       0.552  0    0.778\n",
      "  1  Ba2+       0.448  0    0.222\n",
      "  2  Ba2+       0.052  0.5  0.778\n",
      "  3  Ba2+       0.948  0.5  0.222\n",
      "  4  Li+:0.500  0.878  0    0.9\n",
      "  5  Li+:0.500  0.122  0    0.1\n",
      "  6  Li+:0.500  0.378  0.5  0.9\n",
      "  7  Li+:0.500  0.622  0.5  0.1\n",
      "  8  Li+:0.500  0.831  0    0.556\n",
      "  9  Li+:0.500  0.169  0    0.444\n",
      " 10  Li+:0.500  0.331  0.5  0.556\n",
      " 11  Li+:0.500  0.669  0.5  0.444\n",
      " 12  Li+:0.500  0.752  0    0.223\n",
      " 13  Li+:0.500  0.248  0    0.777\n",
      " 14  Li+:0.500  0.252  0.5  0.223\n",
      " 15  Li+:0.500  0.748  0.5  0.777\n",
      " 16  O2-        0      0    0\n",
      " 17  O2-        0.5    0.5  0\n",
      " 18  O2-        0.759  0    0.753\n",
      " 19  O2-        0.241  0    0.247\n",
      " 20  O2-        0.259  0.5  0.753\n",
      " 21  O2-        0.741  0.5  0.247\n",
      " 22  O2-        0.928  0    0.699\n",
      " 23  O2-        0.072  0    0.301\n",
      " 24  O2-        0.428  0.5  0.699\n",
      " 25  O2-        0.572  0.5  0.301\n",
      " 26  O2-        0.701  0    0.429\n",
      " 27  O2-        0.299  0    0.571\n",
      " 28  O2-        0.201  0.5  0.429\n",
      " 29  O2-        0.799  0.5  0.571\n",
      " 30  O2-        0.871  0    0.381\n",
      " 31  O2-        0.129  0    0.619\n",
      " 32  O2-        0.371  0.5  0.381\n",
      " 33  O2-        0.629  0.5  0.619\n",
      " 34  O2-        0.627  0    0.112\n",
      " 35  O2-        0.373  0    0.888\n",
      " 36  O2-        0.127  0.5  0.112\n",
      " 37  O2-        0.873  0.5  0.888\n",
      " 38  O2-        0.829  0    0.083\n",
      " 39  O2-        0.171  0    0.917\n",
      " 40  O2-        0.329  0.5  0.083\n",
      " 41  O2-        0.671  0.5  0.917\n",
      "Full Formula (Ba2 Li3 O13)\n",
      "Reduced Formula: Ba2Li3O13\n",
      "abc   :   3.953000   7.758000   9.085000\n",
      "angles:  97.744035  90.000000 104.759915\n",
      "Sites (21)\n",
      "  #  SP             a      b      c\n",
      "---  ---------  -----  -----  -----\n",
      "  0  Ba2+       0.448  0.896  0.222\n",
      "  1  Ba2+       0.552  0.104  0.778\n",
      "  2  Li+:0.500  0.122  0.244  0.1\n",
      "  3  Li+:0.500  0.878  0.756  0.9\n",
      "  4  Li+:0.500  0.169  0.338  0.444\n",
      "  5  Li+:0.500  0.831  0.662  0.556\n",
      "  6  Li+:0.500  0.248  0.496  0.777\n",
      "  7  Li+:0.500  0.752  0.504  0.223\n",
      "  8  O2-        0      0      0\n",
      "  9  O2-        0.241  0.482  0.247\n",
      " 10  O2-        0.759  0.518  0.753\n",
      " 11  O2-        0.072  0.144  0.301\n",
      " 12  O2-        0.928  0.856  0.699\n",
      " 13  O2-        0.299  0.598  0.571\n",
      " 14  O2-        0.701  0.402  0.429\n",
      " 15  O2-        0.129  0.258  0.619\n",
      " 16  O2-        0.871  0.742  0.381\n",
      " 17  O2-        0.373  0.746  0.888\n",
      " 18  O2-        0.627  0.254  0.112\n",
      " 19  O2-        0.171  0.342  0.917\n",
      " 20  O2-        0.829  0.658  0.083\n"
     ]
    },
    {
     "ename": "RuntimeError",
     "evalue": "EnumlibAdaptor requires the executables 'enum.x' or 'multienum.x' and 'makestr.x' to be in the path. Please download the library athttp://enum.sourceforge.net/ and follow the instructions in the README to compile these two executables accordingly.",
     "output_type": "error",
     "traceback": [
      "\u001b[1;31m---------------------------------------------------------------------------\u001b[0m",
      "\u001b[1;31mRuntimeError\u001b[0m                              Traceback (most recent call last)",
      "\u001b[1;32m<ipython-input-2-35f658b26176>\u001b[0m in \u001b[0;36m<module>\u001b[1;34m()\u001b[0m\n\u001b[0;32m     18\u001b[0m \u001b[1;33m\u001b[0m\u001b[0m\n\u001b[0;32m     19\u001b[0m \u001b[0menum\u001b[0m \u001b[1;33m=\u001b[0m \u001b[0mEnumerateStructureTransformation\u001b[0m\u001b[1;33m(\u001b[0m\u001b[1;33m)\u001b[0m\u001b[1;33m\u001b[0m\u001b[0m\n\u001b[1;32m---> 20\u001b[1;33m \u001b[0menumerated\u001b[0m \u001b[1;33m=\u001b[0m \u001b[0menum\u001b[0m\u001b[1;33m.\u001b[0m\u001b[0mapply_transformation\u001b[0m\u001b[1;33m(\u001b[0m\u001b[0mprim_cell\u001b[0m\u001b[1;33m,\u001b[0m \u001b[1;36m100\u001b[0m\u001b[1;33m)\u001b[0m  \u001b[1;31m# return no more than 100 structures\u001b[0m\u001b[1;33m\u001b[0m\u001b[0m\n\u001b[0m\u001b[0;32m     21\u001b[0m \u001b[0mstructures\u001b[0m \u001b[1;33m=\u001b[0m \u001b[1;33m[\u001b[0m\u001b[0md\u001b[0m\u001b[1;33m[\u001b[0m\u001b[1;34m\"structure\"\u001b[0m\u001b[1;33m]\u001b[0m \u001b[1;32mfor\u001b[0m \u001b[0md\u001b[0m \u001b[1;32min\u001b[0m \u001b[0menumerated\u001b[0m\u001b[1;33m]\u001b[0m\u001b[1;33m\u001b[0m\u001b[0m\n\u001b[0;32m     22\u001b[0m \u001b[0mprint\u001b[0m\u001b[1;33m(\u001b[0m\u001b[1;34m\"%d structures returned.\"\u001b[0m \u001b[1;33m%\u001b[0m \u001b[0mlen\u001b[0m\u001b[1;33m(\u001b[0m\u001b[0mstructures\u001b[0m\u001b[1;33m)\u001b[0m\u001b[1;33m)\u001b[0m\u001b[1;33m\u001b[0m\u001b[0m\n",
      "\u001b[1;32mD:\\ProgramData\\Anaconda3\\lib\\site-packages\\pymatgen\\transformations\\advanced_transformations.py\u001b[0m in \u001b[0;36mapply_transformation\u001b[1;34m(self, structure, return_ranked_list)\u001b[0m\n\u001b[0;32m    332\u001b[0m                 \u001b[0msymm_prec\u001b[0m\u001b[1;33m=\u001b[0m\u001b[0mself\u001b[0m\u001b[1;33m.\u001b[0m\u001b[0msymm_prec\u001b[0m\u001b[1;33m,\u001b[0m \u001b[0mrefine_structure\u001b[0m\u001b[1;33m=\u001b[0m\u001b[1;32mFalse\u001b[0m\u001b[1;33m,\u001b[0m\u001b[1;33m\u001b[0m\u001b[0m\n\u001b[0;32m    333\u001b[0m                 \u001b[0menum_precision_parameter\u001b[0m\u001b[1;33m=\u001b[0m\u001b[0mself\u001b[0m\u001b[1;33m.\u001b[0m\u001b[0menum_precision_parameter\u001b[0m\u001b[1;33m,\u001b[0m\u001b[1;33m\u001b[0m\u001b[0m\n\u001b[1;32m--> 334\u001b[1;33m                 check_ordered_symmetry=self.check_ordered_symmetry)\n\u001b[0m\u001b[0;32m    335\u001b[0m             \u001b[0madaptor\u001b[0m\u001b[1;33m.\u001b[0m\u001b[0mrun\u001b[0m\u001b[1;33m(\u001b[0m\u001b[1;33m)\u001b[0m\u001b[1;33m\u001b[0m\u001b[0m\n\u001b[0;32m    336\u001b[0m             \u001b[0mstructures\u001b[0m \u001b[1;33m=\u001b[0m \u001b[0madaptor\u001b[0m\u001b[1;33m.\u001b[0m\u001b[0mstructures\u001b[0m\u001b[1;33m\u001b[0m\u001b[0m\n",
      "\u001b[1;32mD:\\ProgramData\\Anaconda3\\lib\\site-packages\\monty-1.0.0-py3.6.egg\\monty\\dev.py\u001b[0m in \u001b[0;36mdecorated\u001b[1;34m(*args, **kwargs)\u001b[0m\n\u001b[0;32m     86\u001b[0m         \u001b[1;32mdef\u001b[0m \u001b[0mdecorated\u001b[0m\u001b[1;33m(\u001b[0m\u001b[1;33m*\u001b[0m\u001b[0margs\u001b[0m\u001b[1;33m,\u001b[0m \u001b[1;33m**\u001b[0m\u001b[0mkwargs\u001b[0m\u001b[1;33m)\u001b[0m\u001b[1;33m:\u001b[0m\u001b[1;33m\u001b[0m\u001b[0m\n\u001b[0;32m     87\u001b[0m             \u001b[1;32mif\u001b[0m \u001b[1;32mnot\u001b[0m \u001b[0mself\u001b[0m\u001b[1;33m.\u001b[0m\u001b[0mcondition\u001b[0m\u001b[1;33m:\u001b[0m\u001b[1;33m\u001b[0m\u001b[0m\n\u001b[1;32m---> 88\u001b[1;33m                 \u001b[1;32mraise\u001b[0m \u001b[0mRuntimeError\u001b[0m\u001b[1;33m(\u001b[0m\u001b[0mself\u001b[0m\u001b[1;33m.\u001b[0m\u001b[0mmessage\u001b[0m\u001b[1;33m)\u001b[0m\u001b[1;33m\u001b[0m\u001b[0m\n\u001b[0m\u001b[0;32m     89\u001b[0m             \u001b[1;32mreturn\u001b[0m \u001b[0m_callable\u001b[0m\u001b[1;33m(\u001b[0m\u001b[1;33m*\u001b[0m\u001b[0margs\u001b[0m\u001b[1;33m,\u001b[0m \u001b[1;33m**\u001b[0m\u001b[0mkwargs\u001b[0m\u001b[1;33m)\u001b[0m\u001b[1;33m\u001b[0m\u001b[0m\n\u001b[0;32m     90\u001b[0m         \u001b[1;32mreturn\u001b[0m \u001b[0mdecorated\u001b[0m\u001b[1;33m\u001b[0m\u001b[0m\n",
      "\u001b[1;31mRuntimeError\u001b[0m: EnumlibAdaptor requires the executables 'enum.x' or 'multienum.x' and 'makestr.x' to be in the path. Please download the library athttp://enum.sourceforge.net/ and follow the instructions in the README to compile these two executables accordingly."
     ]
    }
   ],
   "source": [
    "#part codes cannot run in windows because enum should be compiled by fortran\n",
    "from pymatgen import Structure\n",
    "from pymatgen.symmetry.analyzer import SpacegroupAnalyzer\n",
    "from pymatgen.transformations.advanced_transformations import EnumerateStructureTransformation\n",
    "from pymatgen.io.vasp.sets import batch_write_input, MPRelaxSet\n",
    "structure = Structure.from_file(\"./1365ICSD.cif\")\n",
    "print(structure)\n",
    "\n",
    "for i, site in enumerate(structure):\n",
    "    if not site.is_ordered:\n",
    "        structure[i] = {\"Li+\": 0.5}\n",
    "print (\"The composition after adjustments is %s.\" % structure.composition.reduced_formula)\n",
    "\n",
    "print(structure)\n",
    "\n",
    "analyzer = SpacegroupAnalyzer(structure)\n",
    "prim_cell = analyzer.find_primitive()\n",
    "print(prim_cell)\n",
    "\n",
    "enum = EnumerateStructureTransformation()\n",
    "enumerated = enum.apply_transformation(prim_cell, 100)  # return no more than 100 structures\n",
    "structures = [d[\"structure\"] for d in enumerated]  \n",
    "print(\"%d structures returned.\" % len(structures))"
   ]
  },
  {
   "cell_type": "code",
   "execution_count": 8,
   "metadata": {},
   "outputs": [
    {
     "name": "stdout",
     "output_type": "stream",
     "text": [
      "The composition after adjustments is Ba2Li3O13.\n"
     ]
    }
   ],
   "source": [
    "for i, site in enumerate(structure):\n",
    "    if not site.is_ordered:\n",
    "        structure[i] = {\"Li+\": 0.5}\n",
    "print (\"The composition after adjustments is %s.\" % structure.composition.reduced_formula)"
   ]
  },
  {
   "cell_type": "code",
   "execution_count": 9,
   "metadata": {},
   "outputs": [
    {
     "name": "stdout",
     "output_type": "stream",
     "text": [
      "Full Formula (Ba4 Li6 O26)\n",
      "Reduced Formula: Ba2Li3O13\n",
      "abc   :  15.004000   3.953000   9.085000\n",
      "angles:  90.000000  98.010000  90.000000\n",
      "Sites (42)\n",
      "  #  SP             a    b      c\n",
      "---  ---------  -----  ---  -----\n",
      "  0  Ba2+       0.552  0    0.778\n",
      "  1  Ba2+       0.448  0    0.222\n",
      "  2  Ba2+       0.052  0.5  0.778\n",
      "  3  Ba2+       0.948  0.5  0.222\n",
      "  4  Li+:0.500  0.878  0    0.9\n",
      "  5  Li+:0.500  0.122  0    0.1\n",
      "  6  Li+:0.500  0.378  0.5  0.9\n",
      "  7  Li+:0.500  0.622  0.5  0.1\n",
      "  8  Li+:0.500  0.831  0    0.556\n",
      "  9  Li+:0.500  0.169  0    0.444\n",
      " 10  Li+:0.500  0.331  0.5  0.556\n",
      " 11  Li+:0.500  0.669  0.5  0.444\n",
      " 12  Li+:0.500  0.752  0    0.223\n",
      " 13  Li+:0.500  0.248  0    0.777\n",
      " 14  Li+:0.500  0.252  0.5  0.223\n",
      " 15  Li+:0.500  0.748  0.5  0.777\n",
      " 16  O2-        0      0    0\n",
      " 17  O2-        0.5    0.5  0\n",
      " 18  O2-        0.759  0    0.753\n",
      " 19  O2-        0.241  0    0.247\n",
      " 20  O2-        0.259  0.5  0.753\n",
      " 21  O2-        0.741  0.5  0.247\n",
      " 22  O2-        0.928  0    0.699\n",
      " 23  O2-        0.072  0    0.301\n",
      " 24  O2-        0.428  0.5  0.699\n",
      " 25  O2-        0.572  0.5  0.301\n",
      " 26  O2-        0.701  0    0.429\n",
      " 27  O2-        0.299  0    0.571\n",
      " 28  O2-        0.201  0.5  0.429\n",
      " 29  O2-        0.799  0.5  0.571\n",
      " 30  O2-        0.871  0    0.381\n",
      " 31  O2-        0.129  0    0.619\n",
      " 32  O2-        0.371  0.5  0.381\n",
      " 33  O2-        0.629  0.5  0.619\n",
      " 34  O2-        0.627  0    0.112\n",
      " 35  O2-        0.373  0    0.888\n",
      " 36  O2-        0.127  0.5  0.112\n",
      " 37  O2-        0.873  0.5  0.888\n",
      " 38  O2-        0.829  0    0.083\n",
      " 39  O2-        0.171  0    0.917\n",
      " 40  O2-        0.329  0.5  0.083\n",
      " 41  O2-        0.671  0.5  0.917\n"
     ]
    }
   ],
   "source": []
  },
  {
   "cell_type": "code",
   "execution_count": 14,
   "metadata": {},
   "outputs": [
    {
     "name": "stdout",
     "output_type": "stream",
     "text": [
      "Full Formula (Ba2 Li3 O13)\n",
      "Reduced Formula: Ba2Li3O13\n",
      "abc   :   3.953000   7.758000   9.085000\n",
      "angles:  97.744035  90.000000 104.759915\n",
      "Sites (21)\n",
      "  #  SP             a      b      c\n",
      "---  ---------  -----  -----  -----\n",
      "  0  Ba2+       0.448  0.896  0.222\n",
      "  1  Ba2+       0.552  0.104  0.778\n",
      "  2  Li+:0.500  0.122  0.244  0.1\n",
      "  3  Li+:0.500  0.878  0.756  0.9\n",
      "  4  Li+:0.500  0.169  0.338  0.444\n",
      "  5  Li+:0.500  0.831  0.662  0.556\n",
      "  6  Li+:0.500  0.248  0.496  0.777\n",
      "  7  Li+:0.500  0.752  0.504  0.223\n",
      "  8  O2-        0      0      0\n",
      "  9  O2-        0.241  0.482  0.247\n",
      " 10  O2-        0.759  0.518  0.753\n",
      " 11  O2-        0.072  0.144  0.301\n",
      " 12  O2-        0.928  0.856  0.699\n",
      " 13  O2-        0.299  0.598  0.571\n",
      " 14  O2-        0.701  0.402  0.429\n",
      " 15  O2-        0.129  0.258  0.619\n",
      " 16  O2-        0.871  0.742  0.381\n",
      " 17  O2-        0.373  0.746  0.888\n",
      " 18  O2-        0.627  0.254  0.112\n",
      " 19  O2-        0.171  0.342  0.917\n",
      " 20  O2-        0.829  0.658  0.083\n"
     ]
    }
   ],
   "source": []
  },
  {
   "cell_type": "code",
   "execution_count": 19,
   "metadata": {},
   "outputs": [
    {
     "ename": "RuntimeError",
     "evalue": "EnumlibAdaptor requires the executables 'enum.x' or 'multienum.x' and 'makestr.x' to be in the path. Please download the library athttp://enum.sourceforge.net/ and follow the instructions in the README to compile these two executables accordingly.",
     "output_type": "error",
     "traceback": [
      "\u001b[1;31m---------------------------------------------------------------------------\u001b[0m",
      "\u001b[1;31mRuntimeError\u001b[0m                              Traceback (most recent call last)",
      "\u001b[1;32m<ipython-input-19-6d0d6fc9a8b6>\u001b[0m in \u001b[0;36m<module>\u001b[1;34m()\u001b[0m\n\u001b[0;32m      1\u001b[0m \u001b[0menum\u001b[0m \u001b[1;33m=\u001b[0m \u001b[0mEnumerateStructureTransformation\u001b[0m\u001b[1;33m(\u001b[0m\u001b[1;33m)\u001b[0m\u001b[1;33m\u001b[0m\u001b[0m\n\u001b[1;32m----> 2\u001b[1;33m \u001b[0menumerated\u001b[0m \u001b[1;33m=\u001b[0m \u001b[0menum\u001b[0m\u001b[1;33m.\u001b[0m\u001b[0mapply_transformation\u001b[0m\u001b[1;33m(\u001b[0m\u001b[0mprim_cell\u001b[0m\u001b[1;33m,\u001b[0m \u001b[1;36m100\u001b[0m\u001b[1;33m)\u001b[0m\u001b[1;33m\u001b[0m\u001b[0m\n\u001b[0m\u001b[0;32m      3\u001b[0m \u001b[0mstructures\u001b[0m \u001b[1;33m=\u001b[0m \u001b[1;33m[\u001b[0m\u001b[0md\u001b[0m\u001b[1;33m[\u001b[0m\u001b[1;34m\"structure\"\u001b[0m\u001b[1;33m]\u001b[0m \u001b[1;32mfor\u001b[0m \u001b[0md\u001b[0m \u001b[1;32min\u001b[0m \u001b[0menumerated\u001b[0m\u001b[1;33m]\u001b[0m\u001b[1;33m\u001b[0m\u001b[0m\n\u001b[0;32m      4\u001b[0m \u001b[0mprint\u001b[0m\u001b[1;33m(\u001b[0m\u001b[1;34m\"%d structures returned.\"\u001b[0m \u001b[1;33m%\u001b[0m \u001b[0mlen\u001b[0m\u001b[1;33m(\u001b[0m\u001b[0mstructures\u001b[0m\u001b[1;33m)\u001b[0m\u001b[1;33m)\u001b[0m\u001b[1;33m\u001b[0m\u001b[0m\n",
      "\u001b[1;32mD:\\ProgramData\\Anaconda3\\lib\\site-packages\\pymatgen\\transformations\\advanced_transformations.py\u001b[0m in \u001b[0;36mapply_transformation\u001b[1;34m(self, structure, return_ranked_list)\u001b[0m\n\u001b[0;32m    332\u001b[0m                 \u001b[0msymm_prec\u001b[0m\u001b[1;33m=\u001b[0m\u001b[0mself\u001b[0m\u001b[1;33m.\u001b[0m\u001b[0msymm_prec\u001b[0m\u001b[1;33m,\u001b[0m \u001b[0mrefine_structure\u001b[0m\u001b[1;33m=\u001b[0m\u001b[1;32mFalse\u001b[0m\u001b[1;33m,\u001b[0m\u001b[1;33m\u001b[0m\u001b[0m\n\u001b[0;32m    333\u001b[0m                 \u001b[0menum_precision_parameter\u001b[0m\u001b[1;33m=\u001b[0m\u001b[0mself\u001b[0m\u001b[1;33m.\u001b[0m\u001b[0menum_precision_parameter\u001b[0m\u001b[1;33m,\u001b[0m\u001b[1;33m\u001b[0m\u001b[0m\n\u001b[1;32m--> 334\u001b[1;33m                 check_ordered_symmetry=self.check_ordered_symmetry)\n\u001b[0m\u001b[0;32m    335\u001b[0m             \u001b[0madaptor\u001b[0m\u001b[1;33m.\u001b[0m\u001b[0mrun\u001b[0m\u001b[1;33m(\u001b[0m\u001b[1;33m)\u001b[0m\u001b[1;33m\u001b[0m\u001b[0m\n\u001b[0;32m    336\u001b[0m             \u001b[0mstructures\u001b[0m \u001b[1;33m=\u001b[0m \u001b[0madaptor\u001b[0m\u001b[1;33m.\u001b[0m\u001b[0mstructures\u001b[0m\u001b[1;33m\u001b[0m\u001b[0m\n",
      "\u001b[1;32mD:\\ProgramData\\Anaconda3\\lib\\site-packages\\monty-1.0.0-py3.6.egg\\monty\\dev.py\u001b[0m in \u001b[0;36mdecorated\u001b[1;34m(*args, **kwargs)\u001b[0m\n\u001b[0;32m     86\u001b[0m         \u001b[1;32mdef\u001b[0m \u001b[0mdecorated\u001b[0m\u001b[1;33m(\u001b[0m\u001b[1;33m*\u001b[0m\u001b[0margs\u001b[0m\u001b[1;33m,\u001b[0m \u001b[1;33m**\u001b[0m\u001b[0mkwargs\u001b[0m\u001b[1;33m)\u001b[0m\u001b[1;33m:\u001b[0m\u001b[1;33m\u001b[0m\u001b[0m\n\u001b[0;32m     87\u001b[0m             \u001b[1;32mif\u001b[0m \u001b[1;32mnot\u001b[0m \u001b[0mself\u001b[0m\u001b[1;33m.\u001b[0m\u001b[0mcondition\u001b[0m\u001b[1;33m:\u001b[0m\u001b[1;33m\u001b[0m\u001b[0m\n\u001b[1;32m---> 88\u001b[1;33m                 \u001b[1;32mraise\u001b[0m \u001b[0mRuntimeError\u001b[0m\u001b[1;33m(\u001b[0m\u001b[0mself\u001b[0m\u001b[1;33m.\u001b[0m\u001b[0mmessage\u001b[0m\u001b[1;33m)\u001b[0m\u001b[1;33m\u001b[0m\u001b[0m\n\u001b[0m\u001b[0;32m     89\u001b[0m             \u001b[1;32mreturn\u001b[0m \u001b[0m_callable\u001b[0m\u001b[1;33m(\u001b[0m\u001b[1;33m*\u001b[0m\u001b[0margs\u001b[0m\u001b[1;33m,\u001b[0m \u001b[1;33m**\u001b[0m\u001b[0mkwargs\u001b[0m\u001b[1;33m)\u001b[0m\u001b[1;33m\u001b[0m\u001b[0m\n\u001b[0;32m     90\u001b[0m         \u001b[1;32mreturn\u001b[0m \u001b[0mdecorated\u001b[0m\u001b[1;33m\u001b[0m\u001b[0m\n",
      "\u001b[1;31mRuntimeError\u001b[0m: EnumlibAdaptor requires the executables 'enum.x' or 'multienum.x' and 'makestr.x' to be in the path. Please download the library athttp://enum.sourceforge.net/ and follow the instructions in the README to compile these two executables accordingly."
     ]
    }
   ],
   "source": []
  },
  {
   "cell_type": "code",
   "execution_count": 20,
   "metadata": {},
   "outputs": [
    {
     "ename": "NameError",
     "evalue": "name 'structures' is not defined",
     "output_type": "error",
     "traceback": [
      "\u001b[1;31m---------------------------------------------------------------------------\u001b[0m",
      "\u001b[1;31mNameError\u001b[0m                                 Traceback (most recent call last)",
      "\u001b[1;32m<ipython-input-20-6b594297daf4>\u001b[0m in \u001b[0;36m<module>\u001b[1;34m()\u001b[0m\n\u001b[1;32m----> 1\u001b[1;33m \u001b[0mbatch_write_input\u001b[0m\u001b[1;33m(\u001b[0m\u001b[0mstructures\u001b[0m\u001b[1;33m,\u001b[0m \u001b[0mvasp_input_set\u001b[0m\u001b[1;33m=\u001b[0m\u001b[0mMPRelaxSet\u001b[0m\u001b[1;33m,\u001b[0m \u001b[0moutput_dir\u001b[0m\u001b[1;33m=\u001b[0m\u001b[1;34m\"Li6PS5Cl_orderings\"\u001b[0m\u001b[1;33m)\u001b[0m\u001b[1;33m\u001b[0m\u001b[0m\n\u001b[0m",
      "\u001b[1;31mNameError\u001b[0m: name 'structures' is not defined"
     ]
    }
   ],
   "source": [
    "batch_write_input(structures, vasp_input_set=MPRelaxSet, output_dir=\"Li6PS5Cl_orderings\")"
   ]
  },
  {
   "cell_type": "code",
   "execution_count": null,
   "metadata": {
    "collapsed": true
   },
   "outputs": [],
   "source": []
  }
 ],
 "metadata": {
  "kernelspec": {
   "display_name": "Python 3",
   "language": "python",
   "name": "python3"
  },
  "language_info": {
   "codemirror_mode": {
    "name": "ipython",
    "version": 3
   },
   "file_extension": ".py",
   "mimetype": "text/x-python",
   "name": "python",
   "nbconvert_exporter": "python",
   "pygments_lexer": "ipython3",
   "version": "3.6.1"
  }
 },
 "nbformat": 4,
 "nbformat_minor": 2
}
