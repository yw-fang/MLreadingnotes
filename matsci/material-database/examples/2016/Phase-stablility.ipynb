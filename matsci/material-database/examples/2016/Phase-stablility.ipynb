{
 "cells": [
  {
   "cell_type": "code",
   "execution_count": 11,
   "metadata": {},
   "outputs": [
    {
     "ename": "MPRestError",
     "evalue": "REST query returned with error status code 403. Content: b'{\"valid_response\": false, \"version\": {\"pymatgen\": \"2017.8.21\", \"db\": \"2.0.0\", \"rest\": \"2.0\"}, \"created_at\": \"2017-09-06T20:03:00.302819\", \"error\": \"API_KEY is not supplied.\"}'",
     "output_type": "error",
     "traceback": [
      "\u001b[1;31m---------------------------------------------------------------------------\u001b[0m",
      "\u001b[1;31mMPRestError\u001b[0m                               Traceback (most recent call last)",
      "\u001b[1;32mD:\\ProgramData\\Anaconda3\\lib\\site-packages\\pymatgen\\ext\\matproj.py\u001b[0m in \u001b[0;36m_make_request\u001b[1;34m(self, sub_url, payload, method, mp_decode)\u001b[0m\n\u001b[0;32m    149\u001b[0m             raise MPRestError(\"REST query returned with error status code {}\"\n\u001b[1;32m--> 150\u001b[1;33m                               .format(response.status_code))\n\u001b[0m\u001b[0;32m    151\u001b[0m \u001b[1;33m\u001b[0m\u001b[0m\n",
      "\u001b[1;31mMPRestError\u001b[0m: REST query returned with error status code 403",
      "\nDuring handling of the above exception, another exception occurred:\n",
      "\u001b[1;31mMPRestError\u001b[0m                               Traceback (most recent call last)",
      "\u001b[1;32m<ipython-input-11-53f190da5c8c>\u001b[0m in \u001b[0;36m<module>\u001b[1;34m()\u001b[0m\n\u001b[0;32m     22\u001b[0m \u001b[1;33m\u001b[0m\u001b[0m\n\u001b[0;32m     23\u001b[0m \u001b[0mrester\u001b[0m \u001b[1;33m=\u001b[0m \u001b[0mMPRester\u001b[0m\u001b[1;33m(\u001b[0m\u001b[1;33m)\u001b[0m\u001b[1;33m\u001b[0m\u001b[0m\n\u001b[1;32m---> 24\u001b[1;33m \u001b[0mmp_entries\u001b[0m \u001b[1;33m=\u001b[0m \u001b[0mrester\u001b[0m\u001b[1;33m.\u001b[0m\u001b[0mget_entries_in_chemsys\u001b[0m\u001b[1;33m(\u001b[0m\u001b[1;33m[\u001b[0m\u001b[1;34m\"Ba\"\u001b[0m\u001b[1;33m,\u001b[0m \u001b[1;34m\"Y\"\u001b[0m\u001b[1;33m,\u001b[0m \u001b[1;34m\"Ru\"\u001b[0m\u001b[1;33m,\u001b[0m \u001b[1;34m\"O\"\u001b[0m\u001b[1;33m]\u001b[0m\u001b[1;33m)\u001b[0m\u001b[1;33m\u001b[0m\u001b[0m\n\u001b[0m",
      "\u001b[1;32mD:\\ProgramData\\Anaconda3\\lib\\site-packages\\pymatgen\\ext\\matproj.py\u001b[0m in \u001b[0;36mget_entries_in_chemsys\u001b[1;34m(self, elements, compatible_only, inc_structure, property_data)\u001b[0m\n\u001b[0;32m    485\u001b[0m                         \u001b[1;34m\"-\"\u001b[0m\u001b[1;33m.\u001b[0m\u001b[0mjoin\u001b[0m\u001b[1;33m(\u001b[0m\u001b[0mels\u001b[0m\u001b[1;33m)\u001b[0m\u001b[1;33m,\u001b[0m \u001b[0mcompatible_only\u001b[0m\u001b[1;33m=\u001b[0m\u001b[0mcompatible_only\u001b[0m\u001b[1;33m,\u001b[0m\u001b[1;33m\u001b[0m\u001b[0m\n\u001b[0;32m    486\u001b[0m                         \u001b[0minc_structure\u001b[0m\u001b[1;33m=\u001b[0m\u001b[0minc_structure\u001b[0m\u001b[1;33m,\u001b[0m\u001b[1;33m\u001b[0m\u001b[0m\n\u001b[1;32m--> 487\u001b[1;33m                         property_data=property_data))\n\u001b[0m\u001b[0;32m    488\u001b[0m         \u001b[1;32mreturn\u001b[0m \u001b[0mentries\u001b[0m\u001b[1;33m\u001b[0m\u001b[0m\n\u001b[0;32m    489\u001b[0m \u001b[1;33m\u001b[0m\u001b[0m\n",
      "\u001b[1;32mD:\\ProgramData\\Anaconda3\\lib\\site-packages\\pymatgen\\ext\\matproj.py\u001b[0m in \u001b[0;36mget_entries\u001b[1;34m(self, chemsys_formula_id_criteria, compatible_only, inc_structure, property_data)\u001b[0m\n\u001b[0;32m    328\u001b[0m                 \u001b[0mcriteria\u001b[0m \u001b[1;33m=\u001b[0m \u001b[0mchemsys_formula_id_criteria\u001b[0m\u001b[1;33m\u001b[0m\u001b[0m\n\u001b[0;32m    329\u001b[0m \u001b[1;33m\u001b[0m\u001b[0m\n\u001b[1;32m--> 330\u001b[1;33m             \u001b[0mdata\u001b[0m \u001b[1;33m=\u001b[0m \u001b[0mself\u001b[0m\u001b[1;33m.\u001b[0m\u001b[0mquery\u001b[0m\u001b[1;33m(\u001b[0m\u001b[0mcriteria\u001b[0m\u001b[1;33m,\u001b[0m \u001b[0mprops\u001b[0m\u001b[1;33m)\u001b[0m\u001b[1;33m\u001b[0m\u001b[0m\n\u001b[0m\u001b[0;32m    331\u001b[0m \u001b[1;33m\u001b[0m\u001b[0m\n\u001b[0;32m    332\u001b[0m             \u001b[0mentries\u001b[0m \u001b[1;33m=\u001b[0m \u001b[1;33m[\u001b[0m\u001b[1;33m]\u001b[0m\u001b[1;33m\u001b[0m\u001b[0m\n",
      "\u001b[1;32mD:\\ProgramData\\Anaconda3\\lib\\site-packages\\pymatgen\\ext\\matproj.py\u001b[0m in \u001b[0;36mquery\u001b[1;34m(self, criteria, properties, mp_decode)\u001b[0m\n\u001b[0;32m    579\u001b[0m                    \"properties\": json.dumps(properties)}\n\u001b[0;32m    580\u001b[0m         return self._make_request(\"/query\", payload=payload, method=\"POST\",\n\u001b[1;32m--> 581\u001b[1;33m                                   mp_decode=mp_decode)\n\u001b[0m\u001b[0;32m    582\u001b[0m \u001b[1;33m\u001b[0m\u001b[0m\n\u001b[0;32m    583\u001b[0m     def submit_structures(self, structures, authors, projects=None,\n",
      "\u001b[1;32mD:\\ProgramData\\Anaconda3\\lib\\site-packages\\pymatgen\\ext\\matproj.py\u001b[0m in \u001b[0;36m_make_request\u001b[1;34m(self, sub_url, payload, method, mp_decode)\u001b[0m\n\u001b[0;32m    153\u001b[0m             \u001b[0mmsg\u001b[0m \u001b[1;33m=\u001b[0m \u001b[1;34m\"{}. Content: {}\"\u001b[0m\u001b[1;33m.\u001b[0m\u001b[0mformat\u001b[0m\u001b[1;33m(\u001b[0m\u001b[0mstr\u001b[0m\u001b[1;33m(\u001b[0m\u001b[0mex\u001b[0m\u001b[1;33m)\u001b[0m\u001b[1;33m,\u001b[0m \u001b[0mresponse\u001b[0m\u001b[1;33m.\u001b[0m\u001b[0mcontent\u001b[0m\u001b[1;33m)\u001b[0m\u001b[0;31m\\\u001b[0m\u001b[1;33m\u001b[0m\u001b[0m\n\u001b[0;32m    154\u001b[0m                 \u001b[1;32mif\u001b[0m \u001b[0mhasattr\u001b[0m\u001b[1;33m(\u001b[0m\u001b[0mresponse\u001b[0m\u001b[1;33m,\u001b[0m \u001b[1;34m\"content\"\u001b[0m\u001b[1;33m)\u001b[0m \u001b[1;32melse\u001b[0m \u001b[0mstr\u001b[0m\u001b[1;33m(\u001b[0m\u001b[0mex\u001b[0m\u001b[1;33m)\u001b[0m\u001b[1;33m\u001b[0m\u001b[0m\n\u001b[1;32m--> 155\u001b[1;33m             \u001b[1;32mraise\u001b[0m \u001b[0mMPRestError\u001b[0m\u001b[1;33m(\u001b[0m\u001b[0mmsg\u001b[0m\u001b[1;33m)\u001b[0m\u001b[1;33m\u001b[0m\u001b[0m\n\u001b[0m\u001b[0;32m    156\u001b[0m \u001b[1;33m\u001b[0m\u001b[0m\n\u001b[0;32m    157\u001b[0m     \u001b[1;32mdef\u001b[0m \u001b[0mget_materials_id_from_task_id\u001b[0m\u001b[1;33m(\u001b[0m\u001b[0mself\u001b[0m\u001b[1;33m,\u001b[0m \u001b[0mtask_id\u001b[0m\u001b[1;33m)\u001b[0m\u001b[1;33m:\u001b[0m\u001b[1;33m\u001b[0m\u001b[0m\n",
      "\u001b[1;31mMPRestError\u001b[0m: REST query returned with error status code 403. Content: b'{\"valid_response\": false, \"version\": {\"pymatgen\": \"2017.8.21\", \"db\": \"2.0.0\", \"rest\": \"2.0\"}, \"created_at\": \"2017-09-06T20:03:00.302819\", \"error\": \"API_KEY is not supplied.\"}'"
     ]
    }
   ],
   "source": [
    "%matplotlib inline\n",
    "\n",
    "from pymatgen import MPRester, Composition, Element\n",
    "from pymatgen.io.vasp import Vasprun\n",
    "#from pymatgen.phasediagram.maker import PhaseDiagram, CompoundPhaseDiagram\n",
    "#from pymatgen.phasediagram.analyzer import PDAnalyzer\n",
    "#from pymatgen.phasediagram.plotter import PDPlotter\n",
    "from pymatgen.analysis.phase_diagram import PhaseDiagram, CompoundPhaseDiagram\n",
    "from pymatgen.analysis.phase_diagram import  PDAnalyzer\n",
    "from pymatgen.analysis.phase_diagram import  PDPlotter\n",
    "from pymatgen.entries.computed_entries import ComputedEntry\n",
    "from pymatgen.entries.compatibility import MaterialsProjectCompatibility\n",
    "from pymatgen.util.plotting_utils import get_publication_quality_plot\n",
    "import json\n",
    "import re\n",
    "import palettable\n",
    "import matplotlib as mpl\n",
    "\n",
    "#vasprun = Vasprun(\"vasprun.xml.tar.gz\")\n",
    "# include structure so proper correction can be applied for oxides and sulfides\n",
    "#entry = vasprun.get_computed_entry(inc_structure=True)  \n",
    "\n",
    "rester = MPRester()\n",
    "mp_entries = rester.get_entries_in_chemsys([\"Ba\", \"Y\", \"Ru\", \"O\"])"
   ]
  },
  {
   "cell_type": "code",
   "execution_count": 6,
   "metadata": {},
   "outputs": [
    {
     "ename": "ParseError",
     "evalue": "not well-formed (invalid token): line 1, column 11 (<string>)",
     "output_type": "error",
     "traceback": [
      "\u001b[1;36m  File \u001b[1;32m\"<string>\"\u001b[1;36m, line \u001b[1;32munknown\u001b[0m\n\u001b[1;31mParseError\u001b[0m\u001b[1;31m:\u001b[0m not well-formed (invalid token): line 1, column 11\n"
     ]
    }
   ],
   "source": []
  },
  {
   "cell_type": "code",
   "execution_count": null,
   "metadata": {
    "collapsed": true
   },
   "outputs": [],
   "source": []
  }
 ],
 "metadata": {
  "kernelspec": {
   "display_name": "Python 3",
   "language": "python",
   "name": "python3"
  },
  "language_info": {
   "codemirror_mode": {
    "name": "ipython",
    "version": 3
   },
   "file_extension": ".py",
   "mimetype": "text/x-python",
   "name": "python",
   "nbconvert_exporter": "python",
   "pygments_lexer": "ipython3",
   "version": "3.6.1"
  }
 },
 "nbformat": 4,
 "nbformat_minor": 2
}
