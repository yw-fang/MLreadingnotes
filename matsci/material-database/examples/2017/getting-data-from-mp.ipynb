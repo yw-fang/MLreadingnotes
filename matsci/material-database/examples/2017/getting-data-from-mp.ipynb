{
 "cells": [
  {
   "cell_type": "code",
   "execution_count": 2,
   "metadata": {},
   "outputs": [],
   "source": [
    "from pymatgen import MPRester, Composition\n",
    "import re\n",
    "import pprint\n",
    "# Make sure that you have the Materials API key. Put the key in the call to\n",
    "# MPRester if needed, e.g, MPRester(\"MY_API_KEY\")\n",
    "mpr = MPRester()"
   ]
  },
  {
   "cell_type": "code",
   "execution_count": 3,
   "metadata": {},
   "outputs": [
    {
     "ename": "MPRestError",
     "evalue": "REST query returned with error status code 403. Content: b'{\"valid_response\": false, \"version\": {\"pymatgen\": \"2017.8.21\", \"db\": \"2.0.0\", \"rest\": \"2.0\"}, \"created_at\": \"2017-09-06T20:06:06.710486\", \"error\": \"API_KEY is not supplied.\"}'",
     "output_type": "error",
     "traceback": [
      "\u001b[1;31m---------------------------------------------------------------------------\u001b[0m",
      "\u001b[1;31mMPRestError\u001b[0m                               Traceback (most recent call last)",
      "\u001b[1;32mD:\\ProgramData\\Anaconda3\\lib\\site-packages\\pymatgen\\ext\\matproj.py\u001b[0m in \u001b[0;36m_make_request\u001b[1;34m(self, sub_url, payload, method, mp_decode)\u001b[0m\n\u001b[0;32m    149\u001b[0m             raise MPRestError(\"REST query returned with error status code {}\"\n\u001b[1;32m--> 150\u001b[1;33m                               .format(response.status_code))\n\u001b[0m\u001b[0;32m    151\u001b[0m \u001b[1;33m\u001b[0m\u001b[0m\n",
      "\u001b[1;31mMPRestError\u001b[0m: REST query returned with error status code 403",
      "\nDuring handling of the above exception, another exception occurred:\n",
      "\u001b[1;31mMPRestError\u001b[0m                               Traceback (most recent call last)",
      "\u001b[1;32m<ipython-input-3-3fca9ba9e055>\u001b[0m in \u001b[0;36m<module>\u001b[1;34m()\u001b[0m\n\u001b[0;32m      6\u001b[0m \u001b[1;33m\u001b[0m\u001b[0m\n\u001b[0;32m      7\u001b[0m data = mpr.query({\"anonymous_formula\": anon_formula}, \n\u001b[1;32m----> 8\u001b[1;33m                  properties=[\"task_id\", \"pretty_formula\", \"structure\"])\n\u001b[0m\u001b[0;32m      9\u001b[0m \u001b[0mprint\u001b[0m\u001b[1;33m(\u001b[0m\u001b[0mlen\u001b[0m\u001b[1;33m(\u001b[0m\u001b[0mdata\u001b[0m\u001b[1;33m)\u001b[0m\u001b[1;33m)\u001b[0m  \u001b[1;31m#Should show ~600 data.\u001b[0m\u001b[1;33m\u001b[0m\u001b[0m\n",
      "\u001b[1;32mD:\\ProgramData\\Anaconda3\\lib\\site-packages\\pymatgen\\ext\\matproj.py\u001b[0m in \u001b[0;36mquery\u001b[1;34m(self, criteria, properties, mp_decode)\u001b[0m\n\u001b[0;32m    579\u001b[0m                    \"properties\": json.dumps(properties)}\n\u001b[0;32m    580\u001b[0m         return self._make_request(\"/query\", payload=payload, method=\"POST\",\n\u001b[1;32m--> 581\u001b[1;33m                                   mp_decode=mp_decode)\n\u001b[0m\u001b[0;32m    582\u001b[0m \u001b[1;33m\u001b[0m\u001b[0m\n\u001b[0;32m    583\u001b[0m     def submit_structures(self, structures, authors, projects=None,\n",
      "\u001b[1;32mD:\\ProgramData\\Anaconda3\\lib\\site-packages\\pymatgen\\ext\\matproj.py\u001b[0m in \u001b[0;36m_make_request\u001b[1;34m(self, sub_url, payload, method, mp_decode)\u001b[0m\n\u001b[0;32m    153\u001b[0m             \u001b[0mmsg\u001b[0m \u001b[1;33m=\u001b[0m \u001b[1;34m\"{}. Content: {}\"\u001b[0m\u001b[1;33m.\u001b[0m\u001b[0mformat\u001b[0m\u001b[1;33m(\u001b[0m\u001b[0mstr\u001b[0m\u001b[1;33m(\u001b[0m\u001b[0mex\u001b[0m\u001b[1;33m)\u001b[0m\u001b[1;33m,\u001b[0m \u001b[0mresponse\u001b[0m\u001b[1;33m.\u001b[0m\u001b[0mcontent\u001b[0m\u001b[1;33m)\u001b[0m\u001b[0;31m\\\u001b[0m\u001b[1;33m\u001b[0m\u001b[0m\n\u001b[0;32m    154\u001b[0m                 \u001b[1;32mif\u001b[0m \u001b[0mhasattr\u001b[0m\u001b[1;33m(\u001b[0m\u001b[0mresponse\u001b[0m\u001b[1;33m,\u001b[0m \u001b[1;34m\"content\"\u001b[0m\u001b[1;33m)\u001b[0m \u001b[1;32melse\u001b[0m \u001b[0mstr\u001b[0m\u001b[1;33m(\u001b[0m\u001b[0mex\u001b[0m\u001b[1;33m)\u001b[0m\u001b[1;33m\u001b[0m\u001b[0m\n\u001b[1;32m--> 155\u001b[1;33m             \u001b[1;32mraise\u001b[0m \u001b[0mMPRestError\u001b[0m\u001b[1;33m(\u001b[0m\u001b[0mmsg\u001b[0m\u001b[1;33m)\u001b[0m\u001b[1;33m\u001b[0m\u001b[0m\n\u001b[0m\u001b[0;32m    156\u001b[0m \u001b[1;33m\u001b[0m\u001b[0m\n\u001b[0;32m    157\u001b[0m     \u001b[1;32mdef\u001b[0m \u001b[0mget_materials_id_from_task_id\u001b[0m\u001b[1;33m(\u001b[0m\u001b[0mself\u001b[0m\u001b[1;33m,\u001b[0m \u001b[0mtask_id\u001b[0m\u001b[1;33m)\u001b[0m\u001b[1;33m:\u001b[0m\u001b[1;33m\u001b[0m\u001b[0m\n",
      "\u001b[1;31mMPRestError\u001b[0m: REST query returned with error status code 403. Content: b'{\"valid_response\": false, \"version\": {\"pymatgen\": \"2017.8.21\", \"db\": \"2.0.0\", \"rest\": \"2.0\"}, \"created_at\": \"2017-09-06T20:06:06.710486\", \"error\": \"API_KEY is not supplied.\"}'"
     ]
    }
   ],
   "source": [
    "comp = Composition(\"Fe2O3\")\n",
    "anon_formula = comp.anonymized_formula\n",
    "# We need to convert the formula to the dict form used in the database.\n",
    "anon_formula = {m.group(1): int(m.group(2)) \n",
    "                for m in re.finditer(r\"([A-Z]+)(\\d+)\", anon_formula)}\n",
    "\n",
    "data = mpr.query({\"anonymous_formula\": anon_formula}, \n",
    "                 properties=[\"task_id\", \"pretty_formula\", \"structure\"])\n",
    "print(len(data))  #Should show ~600 data."
   ]
  },
  {
   "cell_type": "code",
   "execution_count": null,
   "metadata": {
    "collapsed": true
   },
   "outputs": [],
   "source": []
  }
 ],
 "metadata": {
  "kernelspec": {
   "display_name": "Python 3",
   "language": "python",
   "name": "python3"
  },
  "language_info": {
   "codemirror_mode": {
    "name": "ipython",
    "version": 3
   },
   "file_extension": ".py",
   "mimetype": "text/x-python",
   "name": "python",
   "nbconvert_exporter": "python",
   "pygments_lexer": "ipython3",
   "version": "3.6.1"
  }
 },
 "nbformat": 4,
 "nbformat_minor": 2
}
