{
 "cells": [
  {
   "cell_type": "markdown",
   "metadata": {},
   "source": [
    "# The notes on computational materials prediction"
   ]
  },
  {
   "cell_type": "markdown",
   "metadata": {},
   "source": [
    "** Author: Yue-Wen FANG **\n",
    "\n",
    "** Contact: fyuewen@gmail.com ** \n",
    "\n",
    "** Revision history: created in 7th, September 2017, at New York Uniersity, Shanghai **\n",
    "\n",
    "** New York University, Shanghai **\n",
    "\n",
    "** Kyto University **"
   ]
  },
  {
   "cell_type": "markdown",
   "metadata": {},
   "source": [
    "## The prerequisites"
   ]
  },
  {
   "cell_type": "markdown",
   "metadata": {},
   "source": [
    "### On SDSC COMET"
   ]
  },
  {
   "cell_type": "markdown",
   "metadata": {},
   "source": [
    "#### Jupyter notebook"
   ]
  },
  {
   "cell_type": "markdown",
   "metadata": {},
   "source": [
    "Jupyter notebook is usefull in many aspects, however, on Coment, the staff at help desk told me yesterday that users cound't use brower. The staff gave me this solution as follows:\n",
    "\n",
    "```\n",
    "You can't run the browser on Comet. However, you should be able to run the notebook on Comet and connect to it from a browser on your client machine. Please see the following for details:\n",
    "\n",
    "https://zonca.github.io/2017/02/sample-deployment-jupyterhub-hpc.html\n",
    "\n",
    "Sample deployment info:\n",
    "\n",
    "https://github.com/jupyterhub/jupyterhub-deploy-hpc/tree/master/batchspawner-xsedeoauth-sshtunnel-sdsccomet\n",
    "```\n",
    "\n",
    "Although I was grateful to their solution, personally I thought it was a bit complicated. I hit upon a more accessible [solution](http://matgenb.materialsvirtuallab.org/2017/20170511%20-%20Running%20Jupyter%20Notebook%20on%20clusters.html).\n",
    "\n",
    "For the first login, we need make these following settings:\n",
    "\n",
    "1) create a script, say 'jupyter_notebook' with the following contents ** on Comet **:\n",
    "\n",
    "```\n",
    "!/bin/bash\n",
    "#SBATCH --nodes 1\n",
    "\n",
    "#### just 1 core (5.3GB RAM)\n",
    "#SBATCH --ntasks-per-node 1\n",
    "#SBATCH --partition shared  \n",
    "\n",
    "#### If you need a large memory(with maximum of 1.5T) uncomment below two lines\n",
    "####SBATCH -p large-shared\n",
    "####SBATCH --mem=10G\n",
    "\n",
    "#SBATCH --time  8:00:00\n",
    "#SBATCH --job-name notebook\n",
    "#SBATCH --output notebook.log\n",
    "\n",
    "# choose your own unique port between 8000 and 9999\n",
    "NOTEBOOKPORT=8282\n",
    "\n",
    "# setup tunnel between computing and login node\n",
    "ssh -N -f -R $NOTEBOOKPORT:localhost:$NOTEBOOKPORT $SLURM_SUBMIT_HOST\n",
    "\n",
    "# launch the notebook\n",
    "ipython notebook --port=$NOTEBOOKPORT --no-browser\n",
    "```\n",
    "\n",
    "2) use command 'qsub jupyter_notebook'\n",
    "\n",
    "3) Open your local terminal (such as Git) on laptop, and create tunnel_notebook  with the following contents:\n",
    "\n",
    "```\n",
    "ssh -f -N -L 8282:localhost:8282 yang@comet-ln$1.sdsc.edu\n",
    "```\n",
    "\n",
    "4) 'chmod +x tunnel_notebook', and run 'bash tunnel_notebook login_node'. For me, my login_node is 2, hence the command is 'bash tunnel_notebook 2’\n",
    "\n",
    "5) Open chrome, type 'localhost:8282'\n",
    "\n",
    "6) You will now get access to the jupyter notebook locally. For the first login, it may ask you to input token. But how to get the token?  Just go back to your Comet terminal, and run 'jupyter noteook list', it will givee you an address of server, such as 'http://localhost:8282/?token=abcdefddddddddd :: .....', just fill in the token using 'abcdefddddddddd'. If 'jupyter notebook list' command does not work for you, please open notebook.log for the information of token.\n",
    "\n",
    "\n",
    "For the N_th (N > 1) login, it is very different from the first login, please see a [reference](http://blog.differentpla.net/blog/2013/11/01/channel-setup-fwd-listener-cannot-listen-to-port):\n",
    "\n",
    "1) Just go to comet and run 'qsub jupyter_notebook'\n",
    "\n",
    "2) Go to the local terminal, and run 'ssh comet-ln2.sdsc.edu'\n",
    "\n",
    "3) Open the terminal and type 'localhost: 8282'"
   ]
  }
 ],
 "metadata": {
  "kernelspec": {
   "display_name": "Python 3",
   "language": "python",
   "name": "python3"
  },
  "language_info": {
   "codemirror_mode": {
    "name": "ipython",
    "version": 3
   },
   "file_extension": ".py",
   "mimetype": "text/x-python",
   "name": "python",
   "nbconvert_exporter": "python",
   "pygments_lexer": "ipython3",
   "version": "3.6.1"
  }
 },
 "nbformat": 4,
 "nbformat_minor": 2
}
