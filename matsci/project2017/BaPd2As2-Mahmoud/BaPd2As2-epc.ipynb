{
 "cells": [
  {
   "cell_type": "code",
   "execution_count": 1,
   "metadata": {},
   "outputs": [
    {
     "data": {
      "text/plain": [
       "8.24806676"
      ]
     },
     "execution_count": 1,
     "metadata": {},
     "output_type": "execute_result"
    }
   ],
   "source": [
    "4.124033380*2"
   ]
  },
  {
   "cell_type": "code",
   "execution_count": 2,
   "metadata": {},
   "outputs": [
    {
     "data": {
      "text/plain": [
       "1.1720533284092864"
      ]
     },
     "execution_count": 2,
     "metadata": {},
     "output_type": "execute_result"
    }
   ],
   "source": [
    "9.667174099/8.24806676"
   ]
  },
  {
   "cell_type": "code",
   "execution_count": 22,
   "metadata": {},
   "outputs": [
    {
     "data": {
      "text/plain": [
       "2.344106656818573"
      ]
     },
     "execution_count": 22,
     "metadata": {},
     "output_type": "execute_result"
    }
   ],
   "source": [
    "1.1720533284092864*2"
   ]
  },
  {
   "cell_type": "code",
   "execution_count": 3,
   "metadata": {},
   "outputs": [
    {
     "ename": "NameError",
     "evalue": "name 'numpy' is not defined",
     "output_type": "error",
     "traceback": [
      "\u001b[0;31m---------------------------------------------------------------------------\u001b[0m",
      "\u001b[0;31mNameError\u001b[0m                                 Traceback (most recent call last)",
      "\u001b[0;32m<ipython-input-3-a305e635f028>\u001b[0m in \u001b[0;36m<module>\u001b[0;34m()\u001b[0m\n\u001b[0;32m----> 1\u001b[0;31m \u001b[0mnumpy\u001b[0m\u001b[0;34m.\u001b[0m\u001b[0mcos\u001b[0m\u001b[0;34m(\u001b[0m\u001b[0;36m42.849\u001b[0m\u001b[0;34m)\u001b[0m\u001b[0;34m\u001b[0m\u001b[0m\n\u001b[0m",
      "\u001b[0;31mNameError\u001b[0m: name 'numpy' is not defined"
     ]
    }
   ],
   "source": [
    "numpy.cos(42.849)"
   ]
  },
  {
   "cell_type": "code",
   "execution_count": 4,
   "metadata": {},
   "outputs": [],
   "source": [
    "import numpy as np"
   ]
  },
  {
   "cell_type": "code",
   "execution_count": 21,
   "metadata": {},
   "outputs": [
    {
     "data": {
      "text/plain": [
       "0.46629400467970167"
      ]
     },
     "execution_count": 21,
     "metadata": {},
     "output_type": "execute_result"
    }
   ],
   "source": [
    "np.cos(62.206*np.pi/180)"
   ]
  },
  {
   "cell_type": "code",
   "execution_count": 13,
   "metadata": {},
   "outputs": [
    {
     "data": {
      "text/plain": [
       "3.141592653589793"
      ]
     },
     "execution_count": 13,
     "metadata": {},
     "output_type": "execute_result"
    }
   ],
   "source": [
    "np.pi"
   ]
  },
  {
   "cell_type": "code",
   "execution_count": 15,
   "metadata": {},
   "outputs": [
    {
     "data": {
      "text/plain": [
       "0.70710678118654757"
      ]
     },
     "execution_count": 15,
     "metadata": {},
     "output_type": "execute_result"
    }
   ],
   "source": [
    "np.cos(45*np.pi/180)"
   ]
  },
  {
   "cell_type": "code",
   "execution_count": 23,
   "metadata": {},
   "outputs": [
    {
     "data": {
      "text/plain": [
       "0.5"
      ]
     },
     "execution_count": 23,
     "metadata": {},
     "output_type": "execute_result"
    }
   ],
   "source": [
    "1.8423814999999997/(1.8423814999999997*2)"
   ]
  },
  {
   "cell_type": "code",
   "execution_count": 26,
   "metadata": {},
   "outputs": [
    {
     "data": {
      "text/plain": [
       "3.6847629999999993"
      ]
     },
     "execution_count": 26,
     "metadata": {},
     "output_type": "execute_result"
    }
   ],
   "source": [
    "#YC2\n",
    "celldm1=1.8423814999999997*2\n",
    "celldm1"
   ]
  },
  {
   "cell_type": "code",
   "execution_count": 27,
   "metadata": {},
   "outputs": [
    {
     "data": {
      "text/plain": [
       "0.8428428097003797"
      ]
     },
     "execution_count": 27,
     "metadata": {},
     "output_type": "execute_result"
    }
   ],
   "source": [
    "3.1056759999999999/(1.8423814999999997*2)"
   ]
  },
  {
   "cell_type": "code",
   "execution_count": 28,
   "metadata": {},
   "outputs": [],
   "source": [
    "import numpy as np"
   ]
  },
  {
   "cell_type": "code",
   "execution_count": 29,
   "metadata": {},
   "outputs": [],
   "source": [
    "lattice_POSCAR=np.array([[-1.8423814999999997,    1.8423814999999997,    3.1056759999999999,],\n",
    "                        [1.8423814999999997,   -1.8423814999999997,    3.1056759999999999],\n",
    "                        [1.8423814999999997,    1.8423814999999997,   -3.1056759999999999]])"
   ]
  },
  {
   "cell_type": "code",
   "execution_count": 31,
   "metadata": {},
   "outputs": [
    {
     "name": "stdout",
     "output_type": "stream",
     "text": [
      "lattice_POSCAR unit is angstrom\n"
     ]
    }
   ],
   "source": [
    "print('lattice_POSCAR unit is angstrom')"
   ]
  },
  {
   "cell_type": "code",
   "execution_count": 38,
   "metadata": {},
   "outputs": [
    {
     "name": "stdout",
     "output_type": "stream",
     "text": [
      "convert angstrom to bohr: 1 angstrom = 1.88973 Bohr\n"
     ]
    }
   ],
   "source": [
    "print('convert angstrom to bohr: 1 angstrom = 1.88973 Bohr')\n",
    "ang2bohr=1.88973"
   ]
  },
  {
   "cell_type": "code",
   "execution_count": 40,
   "metadata": {},
   "outputs": [
    {
     "name": "stdout",
     "output_type": "stream",
     "text": [
      "[[-3.48160359  3.48160359  5.86888911]\n",
      " [ 3.48160359 -3.48160359  5.86888911]\n",
      " [ 3.48160359  3.48160359 -5.86888911]]\n"
     ]
    }
   ],
   "source": [
    "lattice_POSCAR_bohr = lattice_POSCAR*ang2bohr\n",
    "print(lattice_POSCAR_bohr)\n",
    "#YC2 3.6813 6.1886"
   ]
  },
  {
   "cell_type": "code",
   "execution_count": 49,
   "metadata": {
    "scrolled": true
   },
   "outputs": [
    {
     "name": "stdout",
     "output_type": "stream",
     "text": [
      "celldm1 is  6.96320718399 bohr\n"
     ]
    }
   ],
   "source": [
    "celldm1=np.abs(lattice_POSCAR_bohr[0][0]*2)\n",
    "print('celldm1 is ', celldm1, 'bohr')"
   ]
  },
  {
   "cell_type": "code",
   "execution_count": 47,
   "metadata": {},
   "outputs": [
    {
     "data": {
      "text/plain": [
       "array([[-0.5       ,  0.5       ,  0.84284281],\n",
       "       [ 0.5       , -0.5       ,  0.84284281],\n",
       "       [ 0.5       ,  0.5       , -0.84284281]])"
      ]
     },
     "execution_count": 47,
     "metadata": {},
     "output_type": "execute_result"
    }
   ],
   "source": [
    "CELL_PARAMETERS=lattice_POSCAR_bohr/celldm1\n",
    "CELL_PARAMETERS"
   ]
  },
  {
   "cell_type": "code",
   "execution_count": 50,
   "metadata": {},
   "outputs": [
    {
     "data": {
      "text/plain": [
       "1.6856856194007597"
      ]
     },
     "execution_count": 50,
     "metadata": {},
     "output_type": "execute_result"
    }
   ],
   "source": [
    "#the c/a used for kpoints.x\n",
    "ca_ratio_kpoints = np.abs(CELL_PARAMETERS[0][2])*2\n",
    "ca_ratio_kpoints"
   ]
  },
  {
   "cell_type": "code",
   "execution_count": 1,
   "metadata": {},
   "outputs": [
    {
     "data": {
      "text/plain": [
       "1.542706934"
      ]
     },
     "execution_count": 1,
     "metadata": {},
     "output_type": "execute_result"
    }
   ],
   "source": [
    "0.771353467*2"
   ]
  },
  {
   "cell_type": "code",
   "execution_count": 1,
   "metadata": {},
   "outputs": [
    {
     "data": {
      "text/plain": [
       "0.3881179763379545"
      ]
     },
     "execution_count": 1,
     "metadata": {},
     "output_type": "execute_result"
    }
   ],
   "source": [
    "#1 Ry = 13.605698065894 eV\n",
    "5.280616/13.605698065894"
   ]
  },
  {
   "cell_type": "code",
   "execution_count": null,
   "metadata": {},
   "outputs": [],
   "source": [
    "\n",
    "\n",
    "\n",
    "\n",
    "\n"
   ]
  },
  {
   "cell_type": "code",
   "execution_count": null,
   "metadata": {},
   "outputs": [],
   "source": [
    "# YC2 paper "
   ]
  },
  {
   "cell_type": "markdown",
   "metadata": {},
   "source": [
    "The electroic specific head coefficient gamma is calculated from "
   ]
  },
  {
   "cell_type": "markdown",
   "metadata": {},
   "source": [
    "$\\gamma$ = $\\frac{1}{3} \\pi^2 k_B^2 N(E_F)(1+\\lambda)$"
   ]
  },
  {
   "cell_type": "markdown",
   "metadata": {},
   "source": [
    "Using the data of Table III of paper \"A comparative ab initio study of superconductivity in the body centered\n",
    "tetragonal YC2 and LaC2\""
   ]
  },
  {
   "cell_type": "code",
   "execution_count": 1,
   "metadata": {},
   "outputs": [],
   "source": [
    "import numpy as np\n",
    "\n",
    "kb= 1.38064852E-23 #m2 kg s-2 K-1\n",
    "# kb also equas to 1.38064852E-23 J/K\n",
    "kb_mj = 1.38064852E-20 #mj/K\n",
    "\n",
    "#R=8.3145 # J/(mol*k)"
   ]
  },
  {
   "cell_type": "code",
   "execution_count": 2,
   "metadata": {},
   "outputs": [
    {
     "data": {
      "text/plain": [
       "3.141592653589793"
      ]
     },
     "execution_count": 2,
     "metadata": {},
     "output_type": "execute_result"
    }
   ],
   "source": [
    "pi=np.pi\n",
    "pi"
   ]
  },
  {
   "cell_type": "code",
   "execution_count": 11,
   "metadata": {},
   "outputs": [],
   "source": [
    "N_EF=0.78 # states/eV\n",
    "ep_lambda=0.56"
   ]
  },
  {
   "cell_type": "code",
   "execution_count": 18,
   "metadata": {},
   "outputs": [
    {
     "data": {
      "text/plain": [
       "7.63069254027711e-46"
      ]
     },
     "execution_count": 18,
     "metadata": {},
     "output_type": "execute_result"
    }
   ],
   "source": [
    "gamma = pi*pi*kb*kb*N_EF*(1+ep_lambda)/3\n",
    "gamma\n"
   ]
  },
  {
   "cell_type": "markdown",
   "metadata": {},
   "source": [
    " 因为分子中有 mj的二次方，正好N_EF的单位是 states/eV，因此可以将分子中的一个mj跟eV进行化简。\n",
    " \n"
   ]
  },
  {
   "cell_type": "code",
   "execution_count": 23,
   "metadata": {},
   "outputs": [
    {
     "data": {
      "text/plain": [
       "7.630692540277111e-40"
      ]
     },
     "execution_count": 23,
     "metadata": {},
     "output_type": "execute_result"
    }
   ],
   "source": [
    "gamma = pi*pi*kb_mj*kb_mj*N_EF*(1+ep_lambda)/3 \n",
    "# the unit of gamma is(mj/k)^2 * states/eV\n",
    "gamma"
   ]
  },
  {
   "cell_type": "code",
   "execution_count": 26,
   "metadata": {
    "scrolled": true
   },
   "outputs": [
    {
     "data": {
      "text/plain": [
       "2.8673731267518656"
      ]
     },
     "execution_count": 26,
     "metadata": {},
     "output_type": "execute_result"
    }
   ],
   "source": [
    "gamma_brief=gamma*6.02E23*6.242E15\n",
    "gamma_brief # unit of gamma_brief is mj/(k^2 mol) \n",
    "# 2.86"
   ]
  },
  {
   "cell_type": "code",
   "execution_count": null,
   "metadata": {},
   "outputs": [],
   "source": [
    "# 1 mj = 6.242E15\n",
    "# 1 mol = 6.02E23"
   ]
  },
  {
   "cell_type": "markdown",
   "metadata": {},
   "source": [
    "# New lambda calculations-potential 1\n",
    "\n",
    "potential1 use these potentials:\n",
    "\n",
    " Ba 137.327000 Ba.pbe-spn-rrkjus_psl.1.0.0.UPF\n",
    " \n",
    " As 74.921600 As.pbe-n-rrkjus_psl.1.0.0.UPF\n",
    " \n",
    " Pd 106.420000 Pd.pbe-spn-rrkjus_psl.1.0.0.UPF (thse files are generated by psl.library)\n",
    "\n",
    "## 1. Rexlations\n",
    "\n",
    "### 1.1 P = 0 GPa"
   ]
  },
  {
   "cell_type": "markdown",
   "metadata": {},
   "source": [
    "#### 1.1.1 Before relaxing with high accuracy"
   ]
  },
  {
   "cell_type": "code",
   "execution_count": 4,
   "metadata": {},
   "outputs": [
    {
     "name": "stdout",
     "output_type": "stream",
     "text": [
      "[[-4.16761935  4.16761935  9.76725419]\n",
      " [ 4.16761935 -4.16761935  9.76725419]\n",
      " [ 4.16761935  4.16761935 -9.76725419]]\n"
     ]
    }
   ],
   "source": [
    "#For P = 0 GPa\n",
    "#the initial crystal structure is relaxed by 40 Ry\n",
    "import numpy as np\n",
    "lattice_POSCAR_bohr=np.array([\n",
    "    [-4.167619347,   4.167619347,   9.767254194],\n",
    "    [4.167619347,  -4.167619347,   9.767254194],\n",
    "    [4.167619347,   4.167619347,  -9.767254194]   \n",
    "])\n",
    "print(lattice_POSCAR_bohr)\n"
   ]
  },
  {
   "cell_type": "code",
   "execution_count": 5,
   "metadata": {
    "scrolled": true
   },
   "outputs": [
    {
     "name": "stdout",
     "output_type": "stream",
     "text": [
      "celldm1 is  8.335238694 bohr\n"
     ]
    }
   ],
   "source": [
    "celldm1=np.abs(lattice_POSCAR_bohr[0][0]*2)\n",
    "print('celldm1 is ', celldm1, 'bohr')"
   ]
  },
  {
   "cell_type": "code",
   "execution_count": 6,
   "metadata": {},
   "outputs": [
    {
     "data": {
      "text/plain": [
       "array([[-0.5       ,  0.5       ,  1.17180258],\n",
       "       [ 0.5       , -0.5       ,  1.17180258],\n",
       "       [ 0.5       ,  0.5       , -1.17180258]])"
      ]
     },
     "execution_count": 6,
     "metadata": {},
     "output_type": "execute_result"
    }
   ],
   "source": [
    "CELL_PARAMETERS=lattice_POSCAR_bohr/celldm1\n",
    "CELL_PARAMETERS"
   ]
  },
  {
   "cell_type": "markdown",
   "metadata": {},
   "source": [
    "#### 1.1.2 After relaxing with high accuracy"
   ]
  },
  {
   "cell_type": "code",
   "execution_count": 17,
   "metadata": {},
   "outputs": [
    {
     "name": "stdout",
     "output_type": "stream",
     "text": [
      "[[-4.25919452  4.25919452  9.95105994]\n",
      " [ 4.25919452 -4.25919452  9.95105994]\n",
      " [ 4.25919452  4.25919452 -9.95105994]]\n"
     ]
    }
   ],
   "source": [
    "#For P = 0 GPa\n",
    "#the final crystal structure is relaxed by 50 Ry\n",
    "#  etot_conv_thr=1.0D-8,\n",
    "#  forc_conv_thr=1.0D-5,\n",
    "#         CELL_PARAMETERS (alat=  8.33523869)\n",
    "#           -0.510986509   0.510986509   1.193854227\n",
    "#            0.510986509  -0.510986509   1.193854227\n",
    "#            0.510986509   0.510986509  -1.193854227\n",
    "\n",
    "#         ATOMIC_POSITIONS (crystal)\n",
    "#         Ba       0.000000000   0.000000000   0.000000000\n",
    "#         As       0.370841407   0.370841407  -0.000000000\n",
    "#         As       0.629158593   0.629158593  -0.000000000\n",
    "#         Pd       0.750000000   0.250000000   0.500000000\n",
    "#         Pd       0.250000000   0.750000000   0.500000000\n",
    "#         End final coordinates\n",
    "\n",
    "\n",
    "import numpy as np\n",
    "lattice_POSCAR_bohr=8.33523869*np.array([\n",
    "    [-0.510986509,   0.510986509,   1.193854227],\n",
    "    [0.510986509,  -0.510986509,   1.193854227],\n",
    "    [0.510986509,   0.510986509,  -1.193854227]\n",
    "])\n",
    "print(lattice_POSCAR_bohr)"
   ]
  },
  {
   "cell_type": "code",
   "execution_count": 18,
   "metadata": {},
   "outputs": [
    {
     "name": "stdout",
     "output_type": "stream",
     "text": [
      "celldm1 is  8.51838903977 bohr\n"
     ]
    }
   ],
   "source": [
    "celldm1=np.abs(lattice_POSCAR_bohr[0][0]*2)\n",
    "print('celldm1 is ', celldm1, 'bohr')"
   ]
  },
  {
   "cell_type": "code",
   "execution_count": 19,
   "metadata": {},
   "outputs": [
    {
     "data": {
      "text/plain": [
       "array([[-0.5       ,  0.5       ,  1.16818566],\n",
       "       [ 0.5       , -0.5       ,  1.16818566],\n",
       "       [ 0.5       ,  0.5       , -1.16818566]])"
      ]
     },
     "execution_count": 19,
     "metadata": {},
     "output_type": "execute_result"
    }
   ],
   "source": [
    "CELL_PARAMETERS=lattice_POSCAR_bohr/celldm1\n",
    "CELL_PARAMETERS"
   ]
  },
  {
   "cell_type": "markdown",
   "metadata": {},
   "source": [
    "#### 1.1.2 After relaxing with high accuracy"
   ]
  },
  {
   "cell_type": "markdown",
   "metadata": {},
   "source": [
    "### 1.2 P = 5 GPa\n",
    "#### 1.2.1 Before relaxing with high accuracy"
   ]
  },
  {
   "cell_type": "code",
   "execution_count": 13,
   "metadata": {},
   "outputs": [
    {
     "name": "stdout",
     "output_type": "stream",
     "text": [
      "[[-4.12403338  4.12403338  9.6671741 ]\n",
      " [ 4.12403338 -4.12403338  9.6671741 ]\n",
      " [ 4.12403338  4.12403338 -9.6671741 ]]\n"
     ]
    }
   ],
   "source": [
    "#For P = 5 GPa\n",
    "#the initial crystal structure is relaxed by 40 Ry\n",
    "import numpy as np\n",
    "lattice_POSCAR_bohr=np.array([\n",
    "    [-4.124033380,   4.124033380,   9.667174099],\n",
    "    [4.124033380,  -4.124033380,   9.667174099],\n",
    "    [4.124033380,   4.124033380,  -9.667174099]\n",
    " \n",
    "])\n",
    "print(lattice_POSCAR_bohr)\n"
   ]
  },
  {
   "cell_type": "code",
   "execution_count": 10,
   "metadata": {
    "scrolled": true
   },
   "outputs": [
    {
     "name": "stdout",
     "output_type": "stream",
     "text": [
      "celldm1 is  8.24806676 bohr\n"
     ]
    }
   ],
   "source": [
    "celldm1=np.abs(lattice_POSCAR_bohr[0][0]*2)\n",
    "print('celldm1 is ', celldm1, 'bohr')"
   ]
  },
  {
   "cell_type": "code",
   "execution_count": 11,
   "metadata": {},
   "outputs": [
    {
     "data": {
      "text/plain": [
       "array([[-0.5       ,  0.5       ,  1.17205333],\n",
       "       [ 0.5       , -0.5       ,  1.17205333],\n",
       "       [ 0.5       ,  0.5       , -1.17205333]])"
      ]
     },
     "execution_count": 11,
     "metadata": {},
     "output_type": "execute_result"
    }
   ],
   "source": [
    "CELL_PARAMETERS=lattice_POSCAR_bohr/celldm1\n",
    "CELL_PARAMETERS"
   ]
  },
  {
   "cell_type": "markdown",
   "metadata": {},
   "source": [
    "#### 1.2.2 After relaxing with high accuracy"
   ]
  },
  {
   "cell_type": "code",
   "execution_count": 20,
   "metadata": {},
   "outputs": [
    {
     "name": "stdout",
     "output_type": "stream",
     "text": [
      "[[-4.18903338  4.18903338  9.74713095]\n",
      " [ 4.18903338 -4.18903338  9.74713095]\n",
      " [ 4.18903338  4.18903338 -9.74713095]]\n"
     ]
    }
   ],
   "source": [
    "#For P = 5 GPa\n",
    "#the final crystal structure is relaxed by 50 Ry\n",
    "#  etot_conv_thr=1.0D-8,\n",
    "#  forc_conv_thr=1.0D-5,\n",
    "# CELL_PARAMETERS (alat=  8.24806676)\n",
    "#   -0.507880635   0.507880635   1.181747340\n",
    "#    0.507880635  -0.507880635   1.181747340\n",
    "#    0.507880635   0.507880635  -1.181747340\n",
    "\n",
    "# ATOMIC_POSITIONS (crystal)\n",
    "# Ba      -0.000000000  -0.000000000  -0.000000000\n",
    "# As       0.374161901   0.374161901  -0.000000000\n",
    "# As       0.625838099   0.625838099   0.000000000\n",
    "# Pd       0.750000000   0.250000000   0.500000000\n",
    "# Pd       0.250000000   0.750000000   0.500000000\n",
    "# End final coordinates\n",
    "\n",
    "\n",
    "import numpy as np\n",
    "lattice_POSCAR_bohr=8.24806676*np.array([\n",
    "  [-0.507880635,   0.507880635,   1.181747340],\n",
    "   [0.507880635,  -0.507880635,   1.181747340],\n",
    "   [0.507880635,   0.507880635,  -1.181747340],\n",
    "])\n",
    "print(lattice_POSCAR_bohr)"
   ]
  },
  {
   "cell_type": "code",
   "execution_count": 21,
   "metadata": {},
   "outputs": [
    {
     "name": "stdout",
     "output_type": "stream",
     "text": [
      "celldm1 is  8.37806676718 bohr\n"
     ]
    }
   ],
   "source": [
    "celldm1=np.abs(lattice_POSCAR_bohr[0][0]*2)\n",
    "print('celldm1 is ', celldm1, 'bohr')"
   ]
  },
  {
   "cell_type": "code",
   "execution_count": 22,
   "metadata": {},
   "outputs": [
    {
     "data": {
      "text/plain": [
       "array([[-0.5       ,  0.5       ,  1.16341051],\n",
       "       [ 0.5       , -0.5       ,  1.16341051],\n",
       "       [ 0.5       ,  0.5       , -1.16341051]])"
      ]
     },
     "execution_count": 22,
     "metadata": {},
     "output_type": "execute_result"
    }
   ],
   "source": [
    "CELL_PARAMETERS=lattice_POSCAR_bohr/celldm1\n",
    "CELL_PARAMETERS"
   ]
  },
  {
   "cell_type": "markdown",
   "metadata": {},
   "source": [
    "### 1.3 P = 10 GPa\n",
    "\n",
    "#### 1.3.1 Before  relaxing with high accuracy\n"
   ]
  },
  {
   "cell_type": "code",
   "execution_count": 14,
   "metadata": {},
   "outputs": [
    {
     "name": "stdout",
     "output_type": "stream",
     "text": [
      "[[-4.08316743  4.08316743  9.57853971]\n",
      " [ 4.08316743 -4.08316743  9.57853971]\n",
      " [ 4.08316743  4.08316743 -9.57853971]]\n"
     ]
    }
   ],
   "source": [
    "#For P = 10 GPa\n",
    "#the initial crystal structure is relaxed by 40 Ry\n",
    "import numpy as np\n",
    "lattice_POSCAR_bohr=np.array([\n",
    "    [-4.083167434,   4.083167434,   9.578539714],\n",
    "    [4.083167434,  -4.083167434,   9.578539714],\n",
    "    [4.083167434,   4.083167434,  -9.578539714]\n",
    "])\n",
    "print(lattice_POSCAR_bohr)\n"
   ]
  },
  {
   "cell_type": "code",
   "execution_count": 15,
   "metadata": {
    "scrolled": true
   },
   "outputs": [
    {
     "name": "stdout",
     "output_type": "stream",
     "text": [
      "celldm1 is  8.166334868 bohr\n"
     ]
    }
   ],
   "source": [
    "celldm1=np.abs(lattice_POSCAR_bohr[0][0]*2)\n",
    "print('celldm1 is ', celldm1, 'bohr')"
   ]
  },
  {
   "cell_type": "code",
   "execution_count": 16,
   "metadata": {
    "scrolled": true
   },
   "outputs": [
    {
     "data": {
      "text/plain": [
       "array([[-0.5       ,  0.5       ,  1.17293007],\n",
       "       [ 0.5       , -0.5       ,  1.17293007],\n",
       "       [ 0.5       ,  0.5       , -1.17293007]])"
      ]
     },
     "execution_count": 16,
     "metadata": {},
     "output_type": "execute_result"
    }
   ],
   "source": [
    "CELL_PARAMETERS=lattice_POSCAR_bohr/celldm1\n",
    "CELL_PARAMETERS"
   ]
  },
  {
   "cell_type": "markdown",
   "metadata": {},
   "source": [
    "#### 1.3.2 After relaxing with high accuracy"
   ]
  },
  {
   "cell_type": "code",
   "execution_count": 29,
   "metadata": {},
   "outputs": [
    {
     "name": "stdout",
     "output_type": "stream",
     "text": [
      "[[-4.12924815  4.12924815  9.61160774]\n",
      " [ 4.12924815 -4.12924815  9.61160774]\n",
      " [ 4.12924815  4.12924815 -9.61160774]]\n"
     ]
    }
   ],
   "source": [
    "#For P = 5 GPa\n",
    "#the final crystal structure is relaxed by 50 Ry\n",
    "#  etot_conv_thr=1.0D-8,\n",
    "#  forc_conv_thr=1.0D-5,\n",
    "# CELL_PARAMETERS (alat=  8.16633487)\n",
    "#   -0.505642766   0.505642766   1.176979378\n",
    "#    0.505642766  -0.505642766   1.176979378\n",
    "#    0.505642766   0.505642766  -1.176979378\n",
    "\n",
    "# ATOMIC_POSITIONS (crystal)\n",
    "# Ba       0.000000000   0.000000000   0.000000000\n",
    "# As       0.376080464   0.376080464  -0.000000000\n",
    "# As       0.623919536   0.623919536  -0.000000000\n",
    "# Pd       0.750000000   0.250000000   0.500000000\n",
    "# Pd       0.250000000   0.750000000   0.500000000\n",
    "# End final coordinates\n",
    "\n",
    "\n",
    "import numpy as np\n",
    "lattice_POSCAR_bohr=8.16633487*np.array([\n",
    "    [-0.505642766, 0.505642766, 1.176979378],\n",
    "    [0.505642766, -0.505642766,   1.176979378],\n",
    "    [0.505642766, 0.505642766,  -1.176979378]\n",
    "])\n",
    "print(lattice_POSCAR_bohr)"
   ]
  },
  {
   "cell_type": "code",
   "execution_count": 30,
   "metadata": {
    "scrolled": true
   },
   "outputs": [
    {
     "name": "stdout",
     "output_type": "stream",
     "text": [
      "celldm1 is  8.2584963035 bohr\n"
     ]
    }
   ],
   "source": [
    "celldm1=np.abs(lattice_POSCAR_bohr[0][0]*2)\n",
    "print('celldm1 is ', celldm1, 'bohr')"
   ]
  },
  {
   "cell_type": "code",
   "execution_count": 31,
   "metadata": {
    "scrolled": true
   },
   "outputs": [
    {
     "data": {
      "text/plain": [
       "array([[-0.5       ,  0.5       ,  1.16384477],\n",
       "       [ 0.5       , -0.5       ,  1.16384477],\n",
       "       [ 0.5       ,  0.5       , -1.16384477]])"
      ]
     },
     "execution_count": 31,
     "metadata": {},
     "output_type": "execute_result"
    }
   ],
   "source": [
    "CELL_PARAMETERS=lattice_POSCAR_bohr/celldm1\n",
    "CELL_PARAMETERS"
   ]
  },
  {
   "cell_type": "code",
   "execution_count": null,
   "metadata": {},
   "outputs": [],
   "source": [
    "\n",
    "\n",
    "\n",
    "\n",
    "\n"
   ]
  },
  {
   "cell_type": "markdown",
   "metadata": {},
   "source": [
    "# New lambda calculations-potential 2\n",
    "\n",
    "potential1 use these potentials:\n",
    "\n",
    " Ba 137.327000 Ba.pbe-nsp-van.upf\n",
    " \n",
    " As 74.921600 As.pbe-n-van.upf\n",
    " \n",
    " Pd 106.420000 Pd.pbe-n-rrkjus_psl.0.2.2.UPF (thse potentials are taken from the official website of quantum espresso)\n",
    " \n",
    "\n",
    "## 1. Rexlations\n",
    "\n",
    "### 1.1 P = 0 GPa "
   ]
  },
  {
   "cell_type": "markdown",
   "metadata": {},
   "source": [
    "#### 1.1.1 After relaxing with medium-high accuracy (the starting structure is the relaxed strucute in New lambda calculations-potential 1)"
   ]
  },
  {
   "cell_type": "code",
   "execution_count": 5,
   "metadata": {},
   "outputs": [
    {
     "name": "stdout",
     "output_type": "stream",
     "text": [
      "[[-4.26043453  4.26043453  9.8459323 ]\n",
      " [ 4.26043453 -4.26043453  9.8459323 ]\n",
      " [ 4.26043453  4.26043453 -9.8459323 ]]\n"
     ]
    }
   ],
   "source": [
    "#For P = 0 GPa\n",
    "#the final crystal structure is relaxed by 40 Ry\n",
    "#  etot_conv_thr=1.0D-7,\n",
    "#  forc_conv_thr=1.0D-4,\n",
    "# CELL_PARAMETERS (alat=  8.51838904)\n",
    "#   -0.500145569   0.500145569   1.155844404\n",
    "#    0.500145569  -0.500145569   1.155844404\n",
    "#    0.500145569   0.500145569  -1.155844404\n",
    "\n",
    "# ATOMIC_POSITIONS (crystal)\n",
    "# Ba      -0.000000000  -0.000000000   0.000000000\n",
    "# As       0.372518300   0.372518300   0.000000000\n",
    "# As       0.627481700   0.627481700   0.000000000\n",
    "# Pd       0.750000000   0.250000000   0.500000000\n",
    "# Pd       0.250000000   0.750000000   0.500000000\n",
    "# End final coordinates\n",
    "\n",
    "celldm1_initial=8.51838904\n",
    "import numpy as np\n",
    "lattice_POSCAR_bohr=celldm1_initial*np.array([\n",
    "    [-0.500145569,   0.500145569,   1.155844404],\n",
    "    [0.500145569,  -0.500145569,   1.155844404],\n",
    "    [0.500145569,   0.500145569,  -1.155844404]\n",
    "])\n",
    "print(lattice_POSCAR_bohr)"
   ]
  },
  {
   "cell_type": "code",
   "execution_count": 6,
   "metadata": {
    "scrolled": true
   },
   "outputs": [
    {
     "name": "stdout",
     "output_type": "stream",
     "text": [
      "celldm1 is  8.52086906675 bohr\n"
     ]
    }
   ],
   "source": [
    "celldm1=np.abs(lattice_POSCAR_bohr[0][0]*2)\n",
    "print('celldm1 is ', celldm1, 'bohr')"
   ]
  },
  {
   "cell_type": "code",
   "execution_count": 7,
   "metadata": {
    "scrolled": true
   },
   "outputs": [
    {
     "data": {
      "text/plain": [
       "array([[-0.5       ,  0.5       ,  1.15550799],\n",
       "       [ 0.5       , -0.5       ,  1.15550799],\n",
       "       [ 0.5       ,  0.5       , -1.15550799]])"
      ]
     },
     "execution_count": 7,
     "metadata": {},
     "output_type": "execute_result"
    }
   ],
   "source": [
    "CELL_PARAMETERS=lattice_POSCAR_bohr/celldm1\n",
    "CELL_PARAMETERS"
   ]
  },
  {
   "cell_type": "markdown",
   "metadata": {},
   "source": [
    "These pseudopotentials work well, but there is still negative frequecies despite it's very small. Hence, I further optinized it with higher accuracy ."
   ]
  },
  {
   "cell_type": "markdown",
   "metadata": {},
   "source": [
    "#### 1.1.2 Relaxing with very-high accuracy (the starting structure is the relaxed strucute in New lambda calculations-potential 1)"
   ]
  },
  {
   "cell_type": "markdown",
   "metadata": {},
   "source": [
    "**0 GPa** "
   ]
  },
  {
   "cell_type": "code",
   "execution_count": 1,
   "metadata": {},
   "outputs": [
    {
     "name": "stdout",
     "output_type": "stream",
     "text": [
      "[[-4.26040977  4.26040977  9.84578581]\n",
      " [ 4.26040977 -4.26040977  9.84578581]\n",
      " [ 4.26040977  4.26040977 -9.8457858 ]]\n"
     ]
    }
   ],
   "source": [
    "#For P = 0 GPa\n",
    "#the final crystal structure is relaxed by 40 Ry\n",
    "#  etot_conv_thr=1.0D-8,\n",
    "#  forc_conv_thr=1.0D-5,\n",
    "#conv_thr =  1.0d-12,\n",
    "\n",
    "#the above convergence criteria is quite important for removeing the negative frequency\n",
    "\n",
    "\n",
    "# CELL_PARAMETERS (alat=  8.51838904)\n",
    "#   -0.500142662   0.500142662   1.155827206\n",
    "#    0.500142662  -0.500142662   1.155827206\n",
    "#    0.500142662   0.500142662  -1.155827206\n",
    "\n",
    "# ATOMIC_POSITIONS (crystal)\n",
    "# Ba       0.000000000   0.000000000   0.000000000\n",
    "# As       0.372520559   0.372520559   0.000000000\n",
    "# As       0.627479441   0.627479441  -0.000000000\n",
    "# Pd       0.750000000   0.250000000   0.500000000\n",
    "# Pd       0.250000000   0.750000000   0.500000000\n",
    "# End final coordinates\n",
    "\n",
    "celldm1_initial=8.51838904\n",
    "import numpy as np\n",
    "lattice_POSCAR_bohr=celldm1_initial*np.array([\n",
    "    [-0.500142662,   0.500142662,   1.1558272064],\n",
    "    [0.500142662,  -0.500142662,   1.1558272064],\n",
    "    [0.500142662,   0.500142662,  -1.155827206]\n",
    "])\n",
    "print(lattice_POSCAR_bohr)"
   ]
  },
  {
   "cell_type": "code",
   "execution_count": 2,
   "metadata": {
    "scrolled": true
   },
   "outputs": [
    {
     "name": "stdout",
     "output_type": "stream",
     "text": [
      "celldm1 is  8.52081954083 bohr\n"
     ]
    }
   ],
   "source": [
    "celldm1=np.abs(lattice_POSCAR_bohr[0][0]*2)\n",
    "print('celldm1 is ', celldm1, 'bohr')"
   ]
  },
  {
   "cell_type": "code",
   "execution_count": 3,
   "metadata": {
    "scrolled": true
   },
   "outputs": [
    {
     "data": {
      "text/plain": [
       "array([[-0.5       ,  0.5       ,  1.15549752],\n",
       "       [ 0.5       , -0.5       ,  1.15549752],\n",
       "       [ 0.5       ,  0.5       , -1.15549751]])"
      ]
     },
     "execution_count": 3,
     "metadata": {},
     "output_type": "execute_result"
    }
   ],
   "source": [
    "CELL_PARAMETERS=lattice_POSCAR_bohr/celldm1\n",
    "CELL_PARAMETERS"
   ]
  },
  {
   "cell_type": "markdown",
   "metadata": {},
   "source": [
    "**5 GPa**"
   ]
  },
  {
   "cell_type": "code",
   "execution_count": 5,
   "metadata": {},
   "outputs": [
    {
     "name": "stdout",
     "output_type": "stream",
     "text": [
      "[[-4.18368049  4.18368049  9.64859484]\n",
      " [ 4.18368049 -4.18368049  9.64859484]\n",
      " [ 4.18368049  4.18368049 -9.64859484]]\n"
     ]
    }
   ],
   "source": [
    "#For P = 0 GPa\n",
    "#the final crystal structure is relaxed by 40 Ry\n",
    "#  etot_conv_thr=1.0D-8,\n",
    "#  forc_conv_thr=1.0D-5,\n",
    "#conv_thr =  1.0d-12,\n",
    "\n",
    "\n",
    "# CELL_PARAMETERS (alat=  8.37806677)\n",
    "#   -0.499361082   0.499361082   1.151649313\n",
    "#    0.499361082  -0.499361082   1.151649313\n",
    "#    0.499361082   0.499361082  -1.151649313\n",
    "\n",
    "# ATOMIC_POSITIONS (crystal)\n",
    "# Ba      -0.000000000  -0.000000000  -0.000000000\n",
    "# As       0.375489000   0.375489000   0.000000000\n",
    "# As       0.624511000   0.624511000  -0.000000000\n",
    "# Pd       0.750000000   0.250000000   0.500000000\n",
    "# Pd       0.250000000   0.750000000   0.500000000\n",
    "# End final coordinates\n",
    "\n",
    "celldm1_initial=8.37806677\n",
    "import numpy as np\n",
    "lattice_POSCAR_bohr=celldm1_initial*np.array([\n",
    "    [-0.499361082,   0.499361082,   1.151649313],\n",
    "    [0.499361082,  -0.499361082,   1.151649313],\n",
    "    [0.499361082,   0.499361082,  -1.151649313]\n",
    "])\n",
    "print(lattice_POSCAR_bohr)"
   ]
  },
  {
   "cell_type": "code",
   "execution_count": 6,
   "metadata": {
    "scrolled": true
   },
   "outputs": [
    {
     "name": "stdout",
     "output_type": "stream",
     "text": [
      "celldm1 is  8.36736097467 bohr\n"
     ]
    }
   ],
   "source": [
    "celldm1=np.abs(lattice_POSCAR_bohr[0][0]*2)\n",
    "print('celldm1 is ', celldm1, 'bohr')"
   ]
  },
  {
   "cell_type": "code",
   "execution_count": 7,
   "metadata": {
    "scrolled": true
   },
   "outputs": [
    {
     "data": {
      "text/plain": [
       "array([[-0.5       ,  0.5       ,  1.15312281],\n",
       "       [ 0.5       , -0.5       ,  1.15312281],\n",
       "       [ 0.5       ,  0.5       , -1.15312281]])"
      ]
     },
     "execution_count": 7,
     "metadata": {},
     "output_type": "execute_result"
    }
   ],
   "source": [
    "CELL_PARAMETERS=lattice_POSCAR_bohr/celldm1\n",
    "CELL_PARAMETERS"
   ]
  },
  {
   "cell_type": "markdown",
   "metadata": {},
   "source": [
    "**10 GPa**"
   ]
  },
  {
   "cell_type": "code",
   "execution_count": 8,
   "metadata": {},
   "outputs": [
    {
     "name": "stdout",
     "output_type": "stream",
     "text": [
      "[[-4.12001831  4.12001831  9.52149666]\n",
      " [ 4.12001831 -4.12001831  9.52149667]\n",
      " [ 4.12001831  4.12001831 -9.52149666]]\n"
     ]
    }
   ],
   "source": [
    "#For P = 0 GPa\n",
    "#the final crystal structure is relaxed by 40 Ry\n",
    "#  etot_conv_thr=1.0D-8,\n",
    "#  forc_conv_thr=1.0D-5,\n",
    "#conv_thr =  1.0d-12,\n",
    "\n",
    "\n",
    "# CELL_PARAMETERS (alat=  8.25849630)\n",
    "#   -0.498882382   0.498882382   1.152933454\n",
    "#    0.498882382  -0.498882382   1.152933454\n",
    "#    0.498882382   0.498882382  -1.152933454\n",
    "\n",
    "# ATOMIC_POSITIONS (crystal)\n",
    "# Ba      -0.000000000  -0.000000000  -0.000000000\n",
    "# As       0.377247153   0.377247153   0.000000000\n",
    "# As       0.622752847   0.622752847  -0.000000000\n",
    "# Pd       0.750000000   0.250000000   0.500000000\n",
    "# Pd       0.250000000   0.750000000   0.500000000\n",
    "# End final coordinates\n",
    "\n",
    "celldm1_initial=8.25849630\n",
    "import numpy as np\n",
    "lattice_POSCAR_bohr=celldm1_initial*np.array([\n",
    "    [-0.498882382,   0.498882382,   1.152933454],\n",
    "    [0.498882382,  -0.498882382,   1.1529334543],\n",
    "    [0.498882382,   0.498882382,  -1.152933454]\n",
    "])\n",
    "print(lattice_POSCAR_bohr)"
   ]
  },
  {
   "cell_type": "code",
   "execution_count": 9,
   "metadata": {
    "scrolled": true
   },
   "outputs": [
    {
     "name": "stdout",
     "output_type": "stream",
     "text": [
      "celldm1 is  8.24003661176 bohr\n"
     ]
    }
   ],
   "source": [
    "celldm1=np.abs(lattice_POSCAR_bohr[0][0]*2)\n",
    "print('celldm1 is ', celldm1, 'bohr')"
   ]
  },
  {
   "cell_type": "code",
   "execution_count": 10,
   "metadata": {
    "scrolled": true
   },
   "outputs": [
    {
     "data": {
      "text/plain": [
       "array([[-0.5       ,  0.5       ,  1.15551631],\n",
       "       [ 0.5       , -0.5       ,  1.15551631],\n",
       "       [ 0.5       ,  0.5       , -1.15551631]])"
      ]
     },
     "execution_count": 10,
     "metadata": {},
     "output_type": "execute_result"
    }
   ],
   "source": [
    "CELL_PARAMETERS=lattice_POSCAR_bohr/celldm1\n",
    "CELL_PARAMETERS"
   ]
  },
  {
   "cell_type": "code",
   "execution_count": null,
   "metadata": {},
   "outputs": [],
   "source": []
  },
  {
   "cell_type": "code",
   "execution_count": null,
   "metadata": {},
   "outputs": [],
   "source": []
  },
  {
   "cell_type": "code",
   "execution_count": null,
   "metadata": {},
   "outputs": [],
   "source": []
  },
  {
   "cell_type": "code",
   "execution_count": null,
   "metadata": {},
   "outputs": [],
   "source": []
  },
  {
   "cell_type": "code",
   "execution_count": null,
   "metadata": {},
   "outputs": [],
   "source": []
  },
  {
   "cell_type": "code",
   "execution_count": null,
   "metadata": {},
   "outputs": [],
   "source": []
  },
  {
   "cell_type": "code",
   "execution_count": null,
   "metadata": {},
   "outputs": [],
   "source": []
  },
  {
   "cell_type": "code",
   "execution_count": null,
   "metadata": {},
   "outputs": [],
   "source": []
  },
  {
   "cell_type": "code",
   "execution_count": null,
   "metadata": {},
   "outputs": [],
   "source": []
  },
  {
   "cell_type": "code",
   "execution_count": null,
   "metadata": {},
   "outputs": [],
   "source": []
  },
  {
   "cell_type": "code",
   "execution_count": null,
   "metadata": {},
   "outputs": [],
   "source": []
  },
  {
   "cell_type": "markdown",
   "metadata": {},
   "source": [
    "# New lambda calculations-potential 3\n",
    "\n",
    "potential1 use these potentials:\n",
    "\n",
    " Ba 137.327000 ba_pbe_v1.uspp.F.UPF\n",
    " \n",
    " As 74.921600 as_pbe_v1.uspp.F.UPF\n",
    " \n",
    " Pd 106.420000 pd_pbe_v1.4.uspp.F.UPF (thse potentials are taken from the GBRV library)\n",
    " \n",
    "\n",
    "## 1. Rexlations\n",
    "\n",
    "### 1.1 P = 0 GPa "
   ]
  },
  {
   "cell_type": "code",
   "execution_count": 9,
   "metadata": {},
   "outputs": [
    {
     "name": "stdout",
     "output_type": "stream",
     "text": [
      "[[-4.19289968  4.19289968  9.81446851]\n",
      " [ 4.19289968 -4.19289968  9.81446851]\n",
      " [ 4.19289968  4.19289968 -9.81446851]]\n"
     ]
    }
   ],
   "source": [
    "#For P = 0 GPa\n",
    "#the final crystal structure is relaxed by 40 Ry\n",
    "#  etot_conv_thr=1.0D-7,\n",
    "#  forc_conv_thr=1.0D-4,\n",
    "\n",
    "# CELL_PARAMETERS (alat=  8.51838904)\n",
    "#   -0.503032947   0.503032947   1.177467002\n",
    "#    0.503032947  -0.503032947   1.177467002\n",
    "#    0.503032947   0.503032947  -1.177467002\n",
    "\n",
    "# ATOMIC_POSITIONS (crystal)\n",
    "Ba      -0.000000000  -0.000000000  -0.000000000\n",
    "As       0.369423254   0.369423254  -0.000000000\n",
    "As       0.630576746   0.630576746  -0.000000000\n",
    "Pd       0.750000000   0.250000000   0.500000000\n",
    "Pd       0.250000000   0.750000000   0.500000000\n",
    "# End final coordinates\n",
    "\n",
    "celldm1_initial=8.51838904\n",
    "import numpy as np\n",
    "lattice_POSCAR_bohr=8.33523869*np.array([\n",
    "    [-0.503032947,   0.503032947,   1.177467002],\n",
    "    [0.503032947,  -0.503032947,   1.177467002],\n",
    "    [0.503032947,   0.503032947,  -1.177467002]\n",
    "])\n",
    "print(lattice_POSCAR_bohr)"
   ]
  },
  {
   "cell_type": "code",
   "execution_count": 10,
   "metadata": {
    "scrolled": true
   },
   "outputs": [
    {
     "name": "stdout",
     "output_type": "stream",
     "text": [
      "celldm1 is  8.38579936436 bohr\n"
     ]
    }
   ],
   "source": [
    "celldm1=np.abs(lattice_POSCAR_bohr[0][0]*2)\n",
    "print('celldm1 is ', celldm1, 'bohr')"
   ]
  },
  {
   "cell_type": "code",
   "execution_count": 11,
   "metadata": {
    "scrolled": true
   },
   "outputs": [
    {
     "data": {
      "text/plain": [
       "array([[-0.5       ,  0.5       ,  1.17036768],\n",
       "       [ 0.5       , -0.5       ,  1.17036768],\n",
       "       [ 0.5       ,  0.5       , -1.17036768]])"
      ]
     },
     "execution_count": 11,
     "metadata": {},
     "output_type": "execute_result"
    }
   ],
   "source": [
    "CELL_PARAMETERS=lattice_POSCAR_bohr/celldm1\n",
    "CELL_PARAMETERS"
   ]
  },
  {
   "cell_type": "code",
   "execution_count": null,
   "metadata": {},
   "outputs": [],
   "source": [
    "The GBRV shows more negative frequencies, hence I will nit it in the subsequent calculations."
   ]
  },
  {
   "cell_type": "code",
   "execution_count": null,
   "metadata": {},
   "outputs": [],
   "source": []
  },
  {
   "cell_type": "code",
   "execution_count": null,
   "metadata": {},
   "outputs": [],
   "source": []
  },
  {
   "cell_type": "code",
   "execution_count": null,
   "metadata": {},
   "outputs": [],
   "source": []
  },
  {
   "cell_type": "markdown",
   "metadata": {},
   "source": [
    "## evaluate the specfic heat constant of BaPd2As2 at 0 pressures"
   ]
  },
  {
   "cell_type": "code",
   "execution_count": 3,
   "metadata": {},
   "outputs": [],
   "source": [
    "import numpy as np\n",
    "\n",
    "kb= 1.38064852E-23 #m2 kg s-2 K-1\n",
    "# kb also equas to 1.38064852E-23 J/K\n",
    "kb_mj = 1.38064852E-20 #mj/K\n",
    "\n",
    "#R=8.3145 # J/(mol*k)"
   ]
  },
  {
   "cell_type": "code",
   "execution_count": 4,
   "metadata": {},
   "outputs": [
    {
     "data": {
      "text/plain": [
       "3.141592653589793"
      ]
     },
     "execution_count": 4,
     "metadata": {},
     "output_type": "execute_result"
    }
   ],
   "source": [
    "pi=np.pi\n",
    "pi"
   ]
  },
  {
   "cell_type": "code",
   "execution_count": 17,
   "metadata": {},
   "outputs": [],
   "source": [
    "N_EF=1.95 # states/eV\n",
    "ep_lambda=0.7"
   ]
  },
  {
   "cell_type": "code",
   "execution_count": 18,
   "metadata": {},
   "outputs": [
    {
     "data": {
      "text/plain": [
       "2.078874570267802e-45"
      ]
     },
     "execution_count": 18,
     "metadata": {},
     "output_type": "execute_result"
    }
   ],
   "source": [
    "gamma = pi*pi*kb*kb*N_EF*(1+ep_lambda)/3\n",
    "gamma\n"
   ]
  },
  {
   "cell_type": "markdown",
   "metadata": {},
   "source": [
    " 因为分子中有 mj的二次方，正好N_EF的单位是 states/eV，因此可以将分子中的一个mj跟eV进行化简。\n",
    " \n"
   ]
  },
  {
   "cell_type": "code",
   "execution_count": 19,
   "metadata": {},
   "outputs": [
    {
     "data": {
      "text/plain": [
       "2.0788745702678023e-39"
      ]
     },
     "execution_count": 19,
     "metadata": {},
     "output_type": "execute_result"
    }
   ],
   "source": [
    "gamma = pi*pi*kb_mj*kb_mj*N_EF*(1+ep_lambda)/3 \n",
    "# the unit of gamma is(mj/k)^2 * states/eV\n",
    "gamma"
   ]
  },
  {
   "cell_type": "code",
   "execution_count": 20,
   "metadata": {
    "scrolled": true
   },
   "outputs": [
    {
     "data": {
      "text/plain": [
       "7.811753710702196"
      ]
     },
     "execution_count": 20,
     "metadata": {},
     "output_type": "execute_result"
    }
   ],
   "source": [
    "gamma_brief=gamma*6.02E23*6.242E15\n",
    "gamma_brief # unit of gamma_brief is mj/(k^2 mol) \n",
    "# 2.86"
   ]
  },
  {
   "cell_type": "code",
   "execution_count": null,
   "metadata": {},
   "outputs": [],
   "source": [
    "7.6114523335047055"
   ]
  },
  {
   "cell_type": "code",
   "execution_count": 36,
   "metadata": {},
   "outputs": [
    {
     "data": {
      "image/png": "[encoded data removed]",
      "text/plain": [
       "<matplotlib.figure.Figure at 0x11eb42198>"
      ]
     },
     "metadata": {},
     "output_type": "display_data"
    }
   ],
   "source": [
    "%matplotlib inline\n",
    "\n",
    "# For the reference of the default color map of matplotlib, see\n",
    "# https://matplotlib.org/users/dflt_style_changes.html\n",
    "\n",
    "# This example is from CHAPTER 3 of the book \"\n",
    "# matplotlib for developpers\",\n",
    "# but I made many revisions\n",
    "\n",
    "import matplotlib.style\n",
    "import matplotlib as mpl\n",
    "mpl.style.use('classic')\n",
    "mpl.rcParams['figure.facecolor'] = '1'\n",
    "#if choose the grey backgroud, use 0.75\n",
    "mpl.rcParams['figure.figsize'] = [8,6]\n",
    "mpl.rcParams['lines.linewidth'] = 1.5\n",
    "mpl.rcParams['legend.fancybox'] = True\n",
    "mpl.rcParams['legend.scatterpoints'] = 1 #scatterpoints,\n",
    "#it's the numer of maker points in the legend when\n",
    "#creating a legend entry for a scatter plot\n",
    "mpl.rcParams[\"axes.formatter.useoffset\"]=False #turn off the axis offset-values. \n",
    "# If on. the axis label will use a offset value by the side of axis\n",
    "mpl.rcParams[\"axes.linewidth\"]  = 1.5 #change the boarder width\n",
    "#plt.rcParams[\"axes.edgecolor\"] = \"0.15\" #change the boarder color\n",
    "\n",
    "import matplotlib.pyplot as plt\n",
    "import numpy as np\n",
    "import pandas as pd\n",
    "from pandas import DataFrame\n",
    "\n",
    "#import pdf module\n",
    "from matplotlib.backends.backend_pdf import PdfPages\n",
    "\n",
    "\n",
    "data = {'pressure':[0, 5, 10],\n",
    "        '$T_c$':[3.7, 1.7, 1.1],\n",
    "       '$\\lambda$':[0.70, 0.56, 0.47]}\n",
    "\n",
    "frame = DataFrame(data)\n",
    "\n",
    "#fig1 = plt.figure()\n",
    "\n",
    "\n",
    "ax1_1=frame.plot(['pressure'],secondary_y=['$T_c$'],color={'r','b'},\n",
    "                  kind='line', marker='o',markersize=10,mark_right=False)\n",
    "ax1_1.set_ylabel('$\\lambda$',fontsize=16)\n",
    "ax1_1.set_xlabel('P (GPa)', fontsize = 16)\n",
    "ax1_1.right_ax.set_ylabel('$T_c$ (K)',fontsize=16)\n",
    "plt.xticks(np.arange(0, 11, 5))\n",
    "ax1_1.locator_params(nbins=10, axis='x')\n",
    "ax1_1.grid()\n",
    "\n",
    "\n",
    "#ax1_1.legend([\"AAA\", \"BBB\"])\n",
    "\n",
    "\n",
    "#a way to add legend\n",
    "# L=ax1_1.legend()\n",
    "# print(L.get_texts())\n",
    "# L.get_texts()[0].set_text('$T_c$')\n",
    "\n",
    "# mylabels = ([\"A\"])\n",
    "# ax1_1.legend(labels=mylabels)\n",
    "\n",
    "\n",
    "# pp1 = PdfPages('./Tc-fig-for-referee.pdf')\n",
    "# pp1.savefig(fig1)\n",
    "\n",
    "# pp1.close()"
   ]
  },
  {
   "cell_type": "code",
   "execution_count": 1,
   "metadata": {},
   "outputs": [
    {
     "data": {
      "text/html": [
       "<div>\n",
       "<style scoped>\n",
       "    .dataframe tbody tr th:only-of-type {\n",
       "        vertical-align: middle;\n",
       "    }\n",
       "\n",
       "    .dataframe tbody tr th {\n",
       "        vertical-align: top;\n",
       "    }\n",
       "\n",
       "    .dataframe thead th {\n",
       "        text-align: right;\n",
       "    }\n",
       "</style>\n",
       "<table border=\"1\" class=\"dataframe\">\n",
       "  <thead>\n",
       "    <tr style=\"text-align: right;\">\n",
       "      <th></th>\n",
       "      <th>lambda</th>\n",
       "      <th>pressure</th>\n",
       "      <th>tc</th>\n",
       "    </tr>\n",
       "  </thead>\n",
       "  <tbody>\n",
       "    <tr>\n",
       "      <th>0</th>\n",
       "      <td>0.70</td>\n",
       "      <td>0</td>\n",
       "      <td>3.7</td>\n",
       "    </tr>\n",
       "    <tr>\n",
       "      <th>1</th>\n",
       "      <td>0.56</td>\n",
       "      <td>5</td>\n",
       "      <td>1.7</td>\n",
       "    </tr>\n",
       "    <tr>\n",
       "      <th>2</th>\n",
       "      <td>0.47</td>\n",
       "      <td>10</td>\n",
       "      <td>1.1</td>\n",
       "    </tr>\n",
       "  </tbody>\n",
       "</table>\n",
       "</div>"
      ],
      "text/plain": [
       "   lambda  pressure   tc\n",
       "0    0.70         0  3.7\n",
       "1    0.56         5  1.7\n",
       "2    0.47        10  1.1"
      ]
     },
     "execution_count": 1,
     "metadata": {},
     "output_type": "execute_result"
    }
   ],
   "source": [
    "from pandas import DataFrame\n",
    "data = {'pressure':[0, 5, 10],\n",
    "        'tc':[3.7, 1.7, 1.1],\n",
    "       'lambda':[0.70, 0.56, 0.47]}\n",
    "\n",
    "DataFrame(data)"
   ]
  },
  {
   "cell_type": "markdown",
   "metadata": {},
   "source": [
    "## The cell shown below is the last code for generaing the figure for publication"
   ]
  },
  {
   "cell_type": "code",
   "execution_count": 64,
   "metadata": {},
   "outputs": [],
   "source": [
    "%matplotlib inline\n",
    "\n",
    "# For the reference of the default color map of matplotlib, see\n",
    "# https://matplotlib.org/users/dflt_style_changes.html\n",
    "\n",
    "# This example is from CHAPTER 3 of the book \"\n",
    "# matplotlib for developpers\",\n",
    "# but I made many revisions\n",
    "\n",
    "import matplotlib.style\n",
    "import matplotlib as mpl\n",
    "mpl.style.use('classic')\n",
    "mpl.rcParams['figure.facecolor'] = '1'\n",
    "#if choose the grey backgroud, use 0.75\n",
    "mpl.rcParams['figure.figsize'] = [8,6]\n",
    "mpl.rcParams['lines.linewidth'] = 1.5\n",
    "mpl.rcParams['legend.fancybox'] = True\n",
    "mpl.rcParams['legend.scatterpoints'] = 1 #scatterpoints,\n",
    "#it's the numer of maker points in the legend when\n",
    "#creating a legend entry for a scatter plot\n",
    "mpl.rcParams[\"axes.formatter.useoffset\"]=False #turn off the axis offset-values. \n",
    "# If on. the axis label will use a offset value by the side of axis\n",
    "mpl.rcParams[\"axes.linewidth\"]  = 1.5 #change the boarder width\n",
    "#plt.rcParams[\"axes.edgecolor\"] = \"0.15\" #change the boarder color\n",
    "\n",
    "import matplotlib.pyplot as plt\n",
    "import numpy as np\n",
    "import pandas as pd\n",
    "from pandas import DataFrame\n",
    "\n",
    "#import pdf module\n",
    "from matplotlib.backends.backend_pdf import PdfPages\n",
    "\n",
    "\n",
    "data = {'pressure':[0, 5, 10],\n",
    "        '$T_c$':[3.7, 1.7, 1.1],\n",
    "       '$\\lambda$':[0.70, 0.56, 0.47]}\n",
    "\n",
    "frame = DataFrame(data)\n",
    "\n",
    "with PdfPages('./Tc-fig-for-referee.pdf') as pdf:\n",
    "    ax1=frame.plot(['pressure'],secondary_y=['$T_c$'],color={'r','b'},\n",
    "                  kind='line', marker='o',markersize=10,mark_right=False)\n",
    "    \n",
    "    ax1.set_ylabel('$\\lambda$',fontsize=16)\n",
    "    ax1.set_xlabel('P (GPa)', fontsize = 16)\n",
    "    ax1.right_ax.set_ylabel('$T_c$ (K)',fontsize=16)\n",
    "    plt.xticks(np.arange(0, 11, 5))\n",
    "    plt.axvline(x=5, color='k', linestyle='--') #add a vertical line\n",
    "    pdf.savefig()\n",
    "    plt.close()\n"
   ]
  },
  {
   "cell_type": "code",
   "execution_count": null,
   "metadata": {},
   "outputs": [],
   "source": []
  }
 ],
 "metadata": {
  "kernelspec": {
   "display_name": "Python 3",
   "language": "python",
   "name": "python3"
  },
  "language_info": {
   "codemirror_mode": {
    "name": "ipython",
    "version": 3
   },
   "file_extension": ".py",
   "mimetype": "text/x-python",
   "name": "python",
   "nbconvert_exporter": "python",
   "pygments_lexer": "ipython3",
   "version": "3.6.3"
  }
 },
 "nbformat": 4,
 "nbformat_minor": 2
}
