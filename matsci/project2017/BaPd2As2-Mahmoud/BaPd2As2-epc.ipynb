{
 "cells": [
  {
   "cell_type": "code",
   "execution_count": 1,
   "metadata": {},
   "outputs": [
    {
     "data": {
      "text/plain": [
       "8.24806676"
      ]
     },
     "execution_count": 1,
     "metadata": {},
     "output_type": "execute_result"
    }
   ],
   "source": [
    "4.124033380*2"
   ]
  },
  {
   "cell_type": "code",
   "execution_count": 2,
   "metadata": {},
   "outputs": [
    {
     "data": {
      "text/plain": [
       "1.1720533284092864"
      ]
     },
     "execution_count": 2,
     "metadata": {},
     "output_type": "execute_result"
    }
   ],
   "source": [
    "9.667174099/8.24806676"
   ]
  },
  {
   "cell_type": "code",
   "execution_count": 22,
   "metadata": {},
   "outputs": [
    {
     "data": {
      "text/plain": [
       "2.344106656818573"
      ]
     },
     "execution_count": 22,
     "metadata": {},
     "output_type": "execute_result"
    }
   ],
   "source": [
    "1.1720533284092864*2"
   ]
  },
  {
   "cell_type": "code",
   "execution_count": 3,
   "metadata": {},
   "outputs": [
    {
     "ename": "NameError",
     "evalue": "name 'numpy' is not defined",
     "output_type": "error",
     "traceback": [
      "\u001b[0;31m---------------------------------------------------------------------------\u001b[0m",
      "\u001b[0;31mNameError\u001b[0m                                 Traceback (most recent call last)",
      "\u001b[0;32m<ipython-input-3-a305e635f028>\u001b[0m in \u001b[0;36m<module>\u001b[0;34m()\u001b[0m\n\u001b[0;32m----> 1\u001b[0;31m \u001b[0mnumpy\u001b[0m\u001b[0;34m.\u001b[0m\u001b[0mcos\u001b[0m\u001b[0;34m(\u001b[0m\u001b[0;36m42.849\u001b[0m\u001b[0;34m)\u001b[0m\u001b[0;34m\u001b[0m\u001b[0m\n\u001b[0m",
      "\u001b[0;31mNameError\u001b[0m: name 'numpy' is not defined"
     ]
    }
   ],
   "source": [
    "numpy.cos(42.849)"
   ]
  },
  {
   "cell_type": "code",
   "execution_count": 4,
   "metadata": {},
   "outputs": [],
   "source": [
    "import numpy as np"
   ]
  },
  {
   "cell_type": "code",
   "execution_count": 21,
   "metadata": {},
   "outputs": [
    {
     "data": {
      "text/plain": [
       "0.46629400467970167"
      ]
     },
     "execution_count": 21,
     "metadata": {},
     "output_type": "execute_result"
    }
   ],
   "source": [
    "np.cos(62.206*np.pi/180)"
   ]
  },
  {
   "cell_type": "code",
   "execution_count": 13,
   "metadata": {},
   "outputs": [
    {
     "data": {
      "text/plain": [
       "3.141592653589793"
      ]
     },
     "execution_count": 13,
     "metadata": {},
     "output_type": "execute_result"
    }
   ],
   "source": [
    "np.pi"
   ]
  },
  {
   "cell_type": "code",
   "execution_count": 15,
   "metadata": {},
   "outputs": [
    {
     "data": {
      "text/plain": [
       "0.70710678118654757"
      ]
     },
     "execution_count": 15,
     "metadata": {},
     "output_type": "execute_result"
    }
   ],
   "source": [
    "np.cos(45*np.pi/180)"
   ]
  },
  {
   "cell_type": "code",
   "execution_count": 23,
   "metadata": {},
   "outputs": [
    {
     "data": {
      "text/plain": [
       "0.5"
      ]
     },
     "execution_count": 23,
     "metadata": {},
     "output_type": "execute_result"
    }
   ],
   "source": [
    "1.8423814999999997/(1.8423814999999997*2)"
   ]
  },
  {
   "cell_type": "code",
   "execution_count": 26,
   "metadata": {},
   "outputs": [
    {
     "data": {
      "text/plain": [
       "3.6847629999999993"
      ]
     },
     "execution_count": 26,
     "metadata": {},
     "output_type": "execute_result"
    }
   ],
   "source": [
    "#YC2\n",
    "celldm1=1.8423814999999997*2\n",
    "celldm1"
   ]
  },
  {
   "cell_type": "code",
   "execution_count": 27,
   "metadata": {},
   "outputs": [
    {
     "data": {
      "text/plain": [
       "0.8428428097003797"
      ]
     },
     "execution_count": 27,
     "metadata": {},
     "output_type": "execute_result"
    }
   ],
   "source": [
    "3.1056759999999999/(1.8423814999999997*2)"
   ]
  },
  {
   "cell_type": "code",
   "execution_count": 28,
   "metadata": {},
   "outputs": [],
   "source": [
    "import numpy as np"
   ]
  },
  {
   "cell_type": "code",
   "execution_count": 29,
   "metadata": {},
   "outputs": [],
   "source": [
    "lattice_POSCAR=np.array([[-1.8423814999999997,    1.8423814999999997,    3.1056759999999999,],\n",
    "                        [1.8423814999999997,   -1.8423814999999997,    3.1056759999999999],\n",
    "                        [1.8423814999999997,    1.8423814999999997,   -3.1056759999999999]])"
   ]
  },
  {
   "cell_type": "code",
   "execution_count": 31,
   "metadata": {},
   "outputs": [
    {
     "name": "stdout",
     "output_type": "stream",
     "text": [
      "lattice_POSCAR unit is angstrom\n"
     ]
    }
   ],
   "source": [
    "print('lattice_POSCAR unit is angstrom')"
   ]
  },
  {
   "cell_type": "code",
   "execution_count": 38,
   "metadata": {},
   "outputs": [
    {
     "name": "stdout",
     "output_type": "stream",
     "text": [
      "convert angstrom to bohr: 1 angstrom = 1.88973 Bohr\n"
     ]
    }
   ],
   "source": [
    "print('convert angstrom to bohr: 1 angstrom = 1.88973 Bohr')\n",
    "ang2bohr=1.88973"
   ]
  },
  {
   "cell_type": "code",
   "execution_count": 40,
   "metadata": {},
   "outputs": [
    {
     "name": "stdout",
     "output_type": "stream",
     "text": [
      "[[-3.48160359  3.48160359  5.86888911]\n",
      " [ 3.48160359 -3.48160359  5.86888911]\n",
      " [ 3.48160359  3.48160359 -5.86888911]]\n"
     ]
    }
   ],
   "source": [
    "lattice_POSCAR_bohr = lattice_POSCAR*ang2bohr\n",
    "print(lattice_POSCAR_bohr)\n",
    "#YC2 3.6813 6.1886"
   ]
  },
  {
   "cell_type": "code",
   "execution_count": 49,
   "metadata": {
    "scrolled": true
   },
   "outputs": [
    {
     "name": "stdout",
     "output_type": "stream",
     "text": [
      "celldm1 is  6.96320718399 bohr\n"
     ]
    }
   ],
   "source": [
    "celldm1=np.abs(lattice_POSCAR_bohr[0][0]*2)\n",
    "print('celldm1 is ', celldm1, 'bohr')"
   ]
  },
  {
   "cell_type": "code",
   "execution_count": 47,
   "metadata": {},
   "outputs": [
    {
     "data": {
      "text/plain": [
       "array([[-0.5       ,  0.5       ,  0.84284281],\n",
       "       [ 0.5       , -0.5       ,  0.84284281],\n",
       "       [ 0.5       ,  0.5       , -0.84284281]])"
      ]
     },
     "execution_count": 47,
     "metadata": {},
     "output_type": "execute_result"
    }
   ],
   "source": [
    "CELL_PARAMETERS=lattice_POSCAR_bohr/celldm1\n",
    "CELL_PARAMETERS"
   ]
  },
  {
   "cell_type": "code",
   "execution_count": 50,
   "metadata": {},
   "outputs": [
    {
     "data": {
      "text/plain": [
       "1.6856856194007597"
      ]
     },
     "execution_count": 50,
     "metadata": {},
     "output_type": "execute_result"
    }
   ],
   "source": [
    "#the c/a used for kpoints.x\n",
    "ca_ratio_kpoints = np.abs(CELL_PARAMETERS[0][2])*2\n",
    "ca_ratio_kpoints"
   ]
  },
  {
   "cell_type": "code",
   "execution_count": 1,
   "metadata": {},
   "outputs": [
    {
     "data": {
      "text/plain": [
       "1.542706934"
      ]
     },
     "execution_count": 1,
     "metadata": {},
     "output_type": "execute_result"
    }
   ],
   "source": [
    "0.771353467*2"
   ]
  },
  {
   "cell_type": "code",
   "execution_count": 1,
   "metadata": {},
   "outputs": [
    {
     "data": {
      "text/plain": [
       "0.3881179763379545"
      ]
     },
     "execution_count": 1,
     "metadata": {},
     "output_type": "execute_result"
    }
   ],
   "source": [
    "#1 Ry = 13.605698065894 eV\n",
    "5.280616/13.605698065894"
   ]
  },
  {
   "cell_type": "code",
   "execution_count": null,
   "metadata": {},
   "outputs": [],
   "source": [
    "\n",
    "\n",
    "\n",
    "\n",
    "\n"
   ]
  },
  {
   "cell_type": "code",
   "execution_count": null,
   "metadata": {},
   "outputs": [],
   "source": [
    "# YC2 paper "
   ]
  },
  {
   "cell_type": "markdown",
   "metadata": {},
   "source": [
    "The electroic specific head coefficient gamma is calculated from "
   ]
  },
  {
   "cell_type": "markdown",
   "metadata": {},
   "source": [
    "$\\gamma$ = $\\frac{1}{3} \\pi^2 k_B^2 N(E_F)(1+\\lambda)$"
   ]
  },
  {
   "cell_type": "markdown",
   "metadata": {},
   "source": [
    "Using the data of Table III of paper \"A comparative ab initio study of superconductivity in the body centered\n",
    "tetragonal YC2 and LaC2\""
   ]
  },
  {
   "cell_type": "code",
   "execution_count": 14,
   "metadata": {},
   "outputs": [],
   "source": [
    "import numpy as np\n",
    "\n",
    "kb= 1.38064852E-23 #m2 kg s-2 K-1\n",
    "# kb also equas to 1.38064852E-23 J/K\n",
    "kb_mj = 1.38064852E-20 #mj/K\n",
    "\n",
    "#R=8.3145 # J/(mol*k)"
   ]
  },
  {
   "cell_type": "code",
   "execution_count": 9,
   "metadata": {},
   "outputs": [
    {
     "data": {
      "text/plain": [
       "3.141592653589793"
      ]
     },
     "execution_count": 9,
     "metadata": {},
     "output_type": "execute_result"
    }
   ],
   "source": [
    "pi=np.pi\n",
    "pi"
   ]
  },
  {
   "cell_type": "code",
   "execution_count": 11,
   "metadata": {},
   "outputs": [],
   "source": [
    "N_EF=0.78 # states/eV\n",
    "ep_lambda=0.56"
   ]
  },
  {
   "cell_type": "code",
   "execution_count": 18,
   "metadata": {},
   "outputs": [
    {
     "data": {
      "text/plain": [
       "7.63069254027711e-46"
      ]
     },
     "execution_count": 18,
     "metadata": {},
     "output_type": "execute_result"
    }
   ],
   "source": [
    "gamma = pi*pi*kb*kb*N_EF*(1+ep_lambda)/3\n",
    "gamma\n"
   ]
  },
  {
   "cell_type": "markdown",
   "metadata": {},
   "source": [
    " 因为分子中有 mj的二次方，正好N_EF的单位是 states/eV，因此可以将分子中的一个mj跟eV进行化简。\n",
    " \n"
   ]
  },
  {
   "cell_type": "code",
   "execution_count": 23,
   "metadata": {},
   "outputs": [
    {
     "data": {
      "text/plain": [
       "7.630692540277111e-40"
      ]
     },
     "execution_count": 23,
     "metadata": {},
     "output_type": "execute_result"
    }
   ],
   "source": [
    "gamma = pi*pi*kb_mj*kb_mj*N_EF*(1+ep_lambda)/3 \n",
    "# the unit of gamma is(mj/k)^2 * states/eV\n",
    "gamma"
   ]
  },
  {
   "cell_type": "code",
   "execution_count": 26,
   "metadata": {},
   "outputs": [
    {
     "data": {
      "text/plain": [
       "2.8673731267518656"
      ]
     },
     "execution_count": 26,
     "metadata": {},
     "output_type": "execute_result"
    }
   ],
   "source": [
    "gamma_brief=gamma*6.02E23*6.242E15\n",
    "gamma_brief # unit of gamma_brief is mj/(k^2 mol) \n",
    "# 2.86"
   ]
  },
  {
   "cell_type": "code",
   "execution_count": null,
   "metadata": {},
   "outputs": [],
   "source": [
    "# 1 mj = 6.242E15\n",
    "# 1 mol = 6.02E23"
   ]
  },
  {
   "cell_type": "markdown",
   "metadata": {},
   "source": [
    "# New lambda calculations\n",
    "\n",
    "## 1. Rexlations\n",
    "\n",
    "### 1.1 P = 0 GPa"
   ]
  },
  {
   "cell_type": "markdown",
   "metadata": {},
   "source": [
    "#### 1.1.1 Before relaxing with high accuracy"
   ]
  },
  {
   "cell_type": "code",
   "execution_count": 4,
   "metadata": {},
   "outputs": [
    {
     "name": "stdout",
     "output_type": "stream",
     "text": [
      "[[-4.16761935  4.16761935  9.76725419]\n",
      " [ 4.16761935 -4.16761935  9.76725419]\n",
      " [ 4.16761935  4.16761935 -9.76725419]]\n"
     ]
    }
   ],
   "source": [
    "#For P = 0 GPa\n",
    "#the initial crystal structure is relaxed by 40 Ry\n",
    "import numpy as np\n",
    "lattice_POSCAR_bohr=np.array([\n",
    "    [-4.167619347,   4.167619347,   9.767254194],\n",
    "    [4.167619347,  -4.167619347,   9.767254194],\n",
    "    [4.167619347,   4.167619347,  -9.767254194]   \n",
    "])\n",
    "print(lattice_POSCAR_bohr)\n"
   ]
  },
  {
   "cell_type": "code",
   "execution_count": 5,
   "metadata": {
    "scrolled": true
   },
   "outputs": [
    {
     "name": "stdout",
     "output_type": "stream",
     "text": [
      "celldm1 is  8.335238694 bohr\n"
     ]
    }
   ],
   "source": [
    "celldm1=np.abs(lattice_POSCAR_bohr[0][0]*2)\n",
    "print('celldm1 is ', celldm1, 'bohr')"
   ]
  },
  {
   "cell_type": "code",
   "execution_count": 6,
   "metadata": {},
   "outputs": [
    {
     "data": {
      "text/plain": [
       "array([[-0.5       ,  0.5       ,  1.17180258],\n",
       "       [ 0.5       , -0.5       ,  1.17180258],\n",
       "       [ 0.5       ,  0.5       , -1.17180258]])"
      ]
     },
     "execution_count": 6,
     "metadata": {},
     "output_type": "execute_result"
    }
   ],
   "source": [
    "CELL_PARAMETERS=lattice_POSCAR_bohr/celldm1\n",
    "CELL_PARAMETERS"
   ]
  },
  {
   "cell_type": "markdown",
   "metadata": {},
   "source": [
    "#### 1.1.2 After relaxing with high accuracy"
   ]
  },
  {
   "cell_type": "code",
   "execution_count": 17,
   "metadata": {},
   "outputs": [
    {
     "name": "stdout",
     "output_type": "stream",
     "text": [
      "[[-4.25919452  4.25919452  9.95105994]\n",
      " [ 4.25919452 -4.25919452  9.95105994]\n",
      " [ 4.25919452  4.25919452 -9.95105994]]\n"
     ]
    }
   ],
   "source": [
    "#For P = 0 GPa\n",
    "#the final crystal structure is relaxed by 50 Ry\n",
    "#  etot_conv_thr=1.0D-8,\n",
    "#  forc_conv_thr=1.0D-5,\n",
    "#         CELL_PARAMETERS (alat=  8.33523869)\n",
    "#           -0.510986509   0.510986509   1.193854227\n",
    "#            0.510986509  -0.510986509   1.193854227\n",
    "#            0.510986509   0.510986509  -1.193854227\n",
    "\n",
    "#         ATOMIC_POSITIONS (crystal)\n",
    "#         Ba       0.000000000   0.000000000   0.000000000\n",
    "#         As       0.370841407   0.370841407  -0.000000000\n",
    "#         As       0.629158593   0.629158593  -0.000000000\n",
    "#         Pd       0.750000000   0.250000000   0.500000000\n",
    "#         Pd       0.250000000   0.750000000   0.500000000\n",
    "#         End final coordinates\n",
    "\n",
    "\n",
    "import numpy as np\n",
    "lattice_POSCAR_bohr=8.33523869*np.array([\n",
    "    [-0.510986509,   0.510986509,   1.193854227],\n",
    "    [0.510986509,  -0.510986509,   1.193854227],\n",
    "    [0.510986509,   0.510986509,  -1.193854227]\n",
    "])\n",
    "print(lattice_POSCAR_bohr)"
   ]
  },
  {
   "cell_type": "code",
   "execution_count": 18,
   "metadata": {},
   "outputs": [
    {
     "name": "stdout",
     "output_type": "stream",
     "text": [
      "celldm1 is  8.51838903977 bohr\n"
     ]
    }
   ],
   "source": [
    "celldm1=np.abs(lattice_POSCAR_bohr[0][0]*2)\n",
    "print('celldm1 is ', celldm1, 'bohr')"
   ]
  },
  {
   "cell_type": "code",
   "execution_count": 19,
   "metadata": {},
   "outputs": [
    {
     "data": {
      "text/plain": [
       "array([[-0.5       ,  0.5       ,  1.16818566],\n",
       "       [ 0.5       , -0.5       ,  1.16818566],\n",
       "       [ 0.5       ,  0.5       , -1.16818566]])"
      ]
     },
     "execution_count": 19,
     "metadata": {},
     "output_type": "execute_result"
    }
   ],
   "source": [
    "CELL_PARAMETERS=lattice_POSCAR_bohr/celldm1\n",
    "CELL_PARAMETERS"
   ]
  },
  {
   "cell_type": "markdown",
   "metadata": {},
   "source": [
    "#### 1.1.2 After relaxing with high accuracy"
   ]
  },
  {
   "cell_type": "markdown",
   "metadata": {},
   "source": [
    "### 1.2 P = 5 GPa\n",
    "#### 1.2.1 Before relaxing with high accuracy"
   ]
  },
  {
   "cell_type": "code",
   "execution_count": 13,
   "metadata": {},
   "outputs": [
    {
     "name": "stdout",
     "output_type": "stream",
     "text": [
      "[[-4.12403338  4.12403338  9.6671741 ]\n",
      " [ 4.12403338 -4.12403338  9.6671741 ]\n",
      " [ 4.12403338  4.12403338 -9.6671741 ]]\n"
     ]
    }
   ],
   "source": [
    "#For P = 5 GPa\n",
    "#the initial crystal structure is relaxed by 40 Ry\n",
    "import numpy as np\n",
    "lattice_POSCAR_bohr=np.array([\n",
    "    [-4.124033380,   4.124033380,   9.667174099],\n",
    "    [4.124033380,  -4.124033380,   9.667174099],\n",
    "    [4.124033380,   4.124033380,  -9.667174099]\n",
    " \n",
    "])\n",
    "print(lattice_POSCAR_bohr)\n"
   ]
  },
  {
   "cell_type": "code",
   "execution_count": 10,
   "metadata": {
    "scrolled": true
   },
   "outputs": [
    {
     "name": "stdout",
     "output_type": "stream",
     "text": [
      "celldm1 is  8.24806676 bohr\n"
     ]
    }
   ],
   "source": [
    "celldm1=np.abs(lattice_POSCAR_bohr[0][0]*2)\n",
    "print('celldm1 is ', celldm1, 'bohr')"
   ]
  },
  {
   "cell_type": "code",
   "execution_count": 11,
   "metadata": {},
   "outputs": [
    {
     "data": {
      "text/plain": [
       "array([[-0.5       ,  0.5       ,  1.17205333],\n",
       "       [ 0.5       , -0.5       ,  1.17205333],\n",
       "       [ 0.5       ,  0.5       , -1.17205333]])"
      ]
     },
     "execution_count": 11,
     "metadata": {},
     "output_type": "execute_result"
    }
   ],
   "source": [
    "CELL_PARAMETERS=lattice_POSCAR_bohr/celldm1\n",
    "CELL_PARAMETERS"
   ]
  },
  {
   "cell_type": "markdown",
   "metadata": {},
   "source": [
    "#### 1.2.2 After relaxing with high accuracy"
   ]
  },
  {
   "cell_type": "code",
   "execution_count": 20,
   "metadata": {},
   "outputs": [
    {
     "name": "stdout",
     "output_type": "stream",
     "text": [
      "[[-4.18903338  4.18903338  9.74713095]\n",
      " [ 4.18903338 -4.18903338  9.74713095]\n",
      " [ 4.18903338  4.18903338 -9.74713095]]\n"
     ]
    }
   ],
   "source": [
    "#For P = 5 GPa\n",
    "#the final crystal structure is relaxed by 50 Ry\n",
    "#  etot_conv_thr=1.0D-8,\n",
    "#  forc_conv_thr=1.0D-5,\n",
    "# CELL_PARAMETERS (alat=  8.24806676)\n",
    "#   -0.507880635   0.507880635   1.181747340\n",
    "#    0.507880635  -0.507880635   1.181747340\n",
    "#    0.507880635   0.507880635  -1.181747340\n",
    "\n",
    "# ATOMIC_POSITIONS (crystal)\n",
    "# Ba      -0.000000000  -0.000000000  -0.000000000\n",
    "# As       0.374161901   0.374161901  -0.000000000\n",
    "# As       0.625838099   0.625838099   0.000000000\n",
    "# Pd       0.750000000   0.250000000   0.500000000\n",
    "# Pd       0.250000000   0.750000000   0.500000000\n",
    "# End final coordinates\n",
    "\n",
    "\n",
    "import numpy as np\n",
    "lattice_POSCAR_bohr=8.24806676*np.array([\n",
    "  [-0.507880635,   0.507880635,   1.181747340],\n",
    "   [0.507880635,  -0.507880635,   1.181747340],\n",
    "   [0.507880635,   0.507880635,  -1.181747340],\n",
    "])\n",
    "print(lattice_POSCAR_bohr)"
   ]
  },
  {
   "cell_type": "code",
   "execution_count": 21,
   "metadata": {},
   "outputs": [
    {
     "name": "stdout",
     "output_type": "stream",
     "text": [
      "celldm1 is  8.37806676718 bohr\n"
     ]
    }
   ],
   "source": [
    "celldm1=np.abs(lattice_POSCAR_bohr[0][0]*2)\n",
    "print('celldm1 is ', celldm1, 'bohr')"
   ]
  },
  {
   "cell_type": "code",
   "execution_count": 22,
   "metadata": {},
   "outputs": [
    {
     "data": {
      "text/plain": [
       "array([[-0.5       ,  0.5       ,  1.16341051],\n",
       "       [ 0.5       , -0.5       ,  1.16341051],\n",
       "       [ 0.5       ,  0.5       , -1.16341051]])"
      ]
     },
     "execution_count": 22,
     "metadata": {},
     "output_type": "execute_result"
    }
   ],
   "source": [
    "CELL_PARAMETERS=lattice_POSCAR_bohr/celldm1\n",
    "CELL_PARAMETERS"
   ]
  },
  {
   "cell_type": "markdown",
   "metadata": {},
   "source": [
    "### 1.3 P = 10 GPa\n",
    "\n",
    "#### 1.3.1 Before  relaxing with high accuracy\n"
   ]
  },
  {
   "cell_type": "code",
   "execution_count": 14,
   "metadata": {},
   "outputs": [
    {
     "name": "stdout",
     "output_type": "stream",
     "text": [
      "[[-4.08316743  4.08316743  9.57853971]\n",
      " [ 4.08316743 -4.08316743  9.57853971]\n",
      " [ 4.08316743  4.08316743 -9.57853971]]\n"
     ]
    }
   ],
   "source": [
    "#For P = 10 GPa\n",
    "#the initial crystal structure is relaxed by 40 Ry\n",
    "import numpy as np\n",
    "lattice_POSCAR_bohr=np.array([\n",
    "    [-4.083167434,   4.083167434,   9.578539714],\n",
    "    [4.083167434,  -4.083167434,   9.578539714],\n",
    "    [4.083167434,   4.083167434,  -9.578539714]\n",
    "])\n",
    "print(lattice_POSCAR_bohr)\n"
   ]
  },
  {
   "cell_type": "code",
   "execution_count": 15,
   "metadata": {
    "scrolled": true
   },
   "outputs": [
    {
     "name": "stdout",
     "output_type": "stream",
     "text": [
      "celldm1 is  8.166334868 bohr\n"
     ]
    }
   ],
   "source": [
    "celldm1=np.abs(lattice_POSCAR_bohr[0][0]*2)\n",
    "print('celldm1 is ', celldm1, 'bohr')"
   ]
  },
  {
   "cell_type": "code",
   "execution_count": 16,
   "metadata": {},
   "outputs": [
    {
     "data": {
      "text/plain": [
       "array([[-0.5       ,  0.5       ,  1.17293007],\n",
       "       [ 0.5       , -0.5       ,  1.17293007],\n",
       "       [ 0.5       ,  0.5       , -1.17293007]])"
      ]
     },
     "execution_count": 16,
     "metadata": {},
     "output_type": "execute_result"
    }
   ],
   "source": [
    "CELL_PARAMETERS=lattice_POSCAR_bohr/celldm1\n",
    "CELL_PARAMETERS"
   ]
  },
  {
   "cell_type": "code",
   "execution_count": null,
   "metadata": {},
   "outputs": [],
   "source": []
  }
 ],
 "metadata": {
  "kernelspec": {
   "display_name": "Python 3",
   "language": "python",
   "name": "python3"
  },
  "language_info": {
   "codemirror_mode": {
    "name": "ipython",
    "version": 3
   },
   "file_extension": ".py",
   "mimetype": "text/x-python",
   "name": "python",
   "nbconvert_exporter": "python",
   "pygments_lexer": "ipython3",
   "version": "3.6.3"
  }
 },
 "nbformat": 4,
 "nbformat_minor": 2
}
