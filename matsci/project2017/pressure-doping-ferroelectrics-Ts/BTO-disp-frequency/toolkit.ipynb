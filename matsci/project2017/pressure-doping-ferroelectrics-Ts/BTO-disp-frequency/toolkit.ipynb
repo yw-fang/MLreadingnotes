{
 "cells": [
  {
   "cell_type": "markdown",
   "metadata": {},
   "source": [
    "# Generate supercell from reading POSCAR"
   ]
  },
  {
   "cell_type": "code",
   "execution_count": null,
   "metadata": {},
   "outputs": [],
   "source": [
    "#Purpose: generate supercell from POSCAR\n",
    "#Author: Yue-Wen FANG\n",
    "#Date: 2018 March 18th\n",
    "from pymatgen.io.vasp import Poscar\n",
    "from pymatgen import *\n",
    "import ase\n",
    "\n",
    "p = Poscar.from_file('POSCAR')\n",
    "sd = p.selective_dynamics\n",
    "for x in sd:\n",
    "    for y in sd:\n",
    "        if y[0]=='False' or 'F':\n",
    "            y[0]='True'\n",
    "            #print(y[0])\n",
    "        if y[1]=='False' or 'F':\n",
    "            y[1]='True'\n",
    "        if y[2]=='Flase' or 'F':\n",
    "            y[2]='True'\n",
    "c = p\n",
    "c.structure.make_supercell([2,2,3])\n",
    "c.natoms.append(1)\n",
    "\n",
    "c.structure.to(filename='S223POSCAR')\n",
    "#print(c.structure.to(fmt=\"poscar\"))"
   ]
  },
  {
   "cell_type": "code",
   "execution_count": 1,
   "metadata": {},
   "outputs": [],
   "source": [
    "#Purpose: generate supercell from POSCAR\n",
    "#Author: Yue-Wen FANG\n",
    "#Date: 2018 March 18th\n",
    "from pymatgen.io.vasp import Poscar\n",
    "from pymatgen import *\n",
    "import ase\n",
    "\n",
    "p = Poscar.from_file('./bond-angle-BTO223/POSCAR-0.vasp')\n",
    "sd = p.selective_dynamics\n",
    "for x in sd:\n",
    "    for y in sd:\n",
    "        if y[0]=='False' or 'F':\n",
    "            y[0]='True'\n",
    "            #print(y[0])\n",
    "        if y[1]=='False' or 'F':\n",
    "            y[1]='True'\n",
    "        if y[2]=='Flase' or 'F':\n",
    "            y[2]='True'\n",
    "c = p\n",
    "# c.structure.make_supercell([2,2,3])\n",
    "# c.natoms.append(1)\n",
    "\n",
    "#c.structure.to(filename='S223POSCAR')\n",
    "#print(c.structure.to(fmt=\"poscar\"))"
   ]
  },
  {
   "cell_type": "code",
   "execution_count": 11,
   "metadata": {},
   "outputs": [
    {
     "data": {
      "text/plain": [
       "0.014772333333333333"
      ]
     },
     "execution_count": 11,
     "metadata": {},
     "output_type": "execute_result"
    }
   ],
   "source": [
    "(0.023386+0.003522+0.017409)/3"
   ]
  },
  {
   "cell_type": "code",
   "execution_count": 19,
   "metadata": {},
   "outputs": [
    {
     "data": {
      "text/plain": [
       "0.013482000000000001"
      ]
     },
     "execution_count": 19,
     "metadata": {},
     "output_type": "execute_result"
    }
   ],
   "source": [
    "(0.020223+0.020223+0)/3"
   ]
  },
  {
   "cell_type": "code",
   "execution_count": 20,
   "metadata": {
    "scrolled": true
   },
   "outputs": [
    {
     "data": {
      "text/plain": [
       "0.013513333333333334"
      ]
     },
     "execution_count": 20,
     "metadata": {},
     "output_type": "execute_result"
    }
   ],
   "source": [
    "0.020270*2/3"
   ]
  },
  {
   "cell_type": "code",
   "execution_count": 21,
   "metadata": {},
   "outputs": [
    {
     "data": {
      "text/plain": [
       "0.013530666666666668"
      ]
     },
     "execution_count": 21,
     "metadata": {},
     "output_type": "execute_result"
    }
   ],
   "source": [
    "0.020296*2/3"
   ]
  },
  {
   "cell_type": "code",
   "execution_count": 22,
   "metadata": {},
   "outputs": [
    {
     "data": {
      "text/plain": [
       "0.013513333333333334"
      ]
     },
     "execution_count": 22,
     "metadata": {},
     "output_type": "execute_result"
    }
   ],
   "source": [
    "0.020270*2/3"
   ]
  },
  {
   "cell_type": "code",
   "execution_count": 23,
   "metadata": {},
   "outputs": [
    {
     "data": {
      "text/plain": [
       "0.013498000000000001"
      ]
     },
     "execution_count": 23,
     "metadata": {},
     "output_type": "execute_result"
    }
   ],
   "source": [
    "0.020247*2/3"
   ]
  },
  {
   "cell_type": "code",
   "execution_count": 24,
   "metadata": {},
   "outputs": [
    {
     "data": {
      "text/plain": [
       "0.013430666666666667"
      ]
     },
     "execution_count": 24,
     "metadata": {},
     "output_type": "execute_result"
    }
   ],
   "source": [
    "0.020146*2/3"
   ]
  },
  {
   "cell_type": "code",
   "execution_count": 26,
   "metadata": {},
   "outputs": [
    {
     "data": {
      "text/plain": [
       "-0.007375833334322124"
      ]
     },
     "execution_count": 26,
     "metadata": {},
     "output_type": "execute_result"
    }
   ],
   "source": [
    "(-395.65499446-(-395.65490595))*1000/12"
   ]
  },
  {
   "cell_type": "code",
   "execution_count": 28,
   "metadata": {},
   "outputs": [
    {
     "data": {
      "text/plain": [
       "0.008872499999294329"
      ]
     },
     "execution_count": 28,
     "metadata": {},
     "output_type": "execute_result"
    }
   ],
   "source": [
    "(-394.870974820-(-394.87108129))*1000/12"
   ]
  },
  {
   "cell_type": "code",
   "execution_count": null,
   "metadata": {},
   "outputs": [],
   "source": [
    "0.008 meV/12"
   ]
  }
 ],
 "metadata": {
  "kernelspec": {
   "display_name": "Python 3",
   "language": "python",
   "name": "python3"
  },
  "language_info": {
   "codemirror_mode": {
    "name": "ipython",
    "version": 3
   },
   "file_extension": ".py",
   "mimetype": "text/x-python",
   "name": "python",
   "nbconvert_exporter": "python",
   "pygments_lexer": "ipython3",
   "version": "3.6.3"
  }
 },
 "nbformat": 4,
 "nbformat_minor": 2
}
