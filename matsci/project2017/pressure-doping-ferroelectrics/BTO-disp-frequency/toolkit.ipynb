{
 "cells": [
  {
   "cell_type": "markdown",
   "metadata": {},
   "source": [
    "# Generate supercell from reading POSCAR"
   ]
  },
  {
   "cell_type": "code",
   "execution_count": null,
   "metadata": {},
   "outputs": [],
   "source": [
    "#Purpose: generate supercell from POSCAR\n",
    "#Author: Yue-Wen FANG\n",
    "#Date: 2018 March 18th\n",
    "from pymatgen.io.vasp import Poscar\n",
    "from pymatgen import *\n",
    "import ase\n",
    "\n",
    "p = Poscar.from_file('POSCAR')\n",
    "sd = p.selective_dynamics\n",
    "for x in sd:\n",
    "    for y in sd:\n",
    "        if y[0]=='False' or 'F':\n",
    "            y[0]='True'\n",
    "            #print(y[0])\n",
    "        if y[1]=='False' or 'F':\n",
    "            y[1]='True'\n",
    "        if y[2]=='Flase' or 'F':\n",
    "            y[2]='True'\n",
    "c = p\n",
    "c.structure.make_supercell([2,2,3])\n",
    "c.natoms.append(1)\n",
    "\n",
    "c.structure.to(filename='S223POSCAR')\n",
    "#print(c.structure.to(fmt=\"poscar\"))"
   ]
  },
  {
   "cell_type": "code",
   "execution_count": 1,
   "metadata": {},
   "outputs": [],
   "source": [
    "#Purpose: generate supercell from POSCAR\n",
    "#Author: Yue-Wen FANG\n",
    "#Date: 2018 March 18th\n",
    "from pymatgen.io.vasp import Poscar\n",
    "from pymatgen import *\n",
    "import ase\n",
    "\n",
    "p = Poscar.from_file('./bond-angle-BTO223/POSCAR-0.vasp')\n",
    "sd = p.selective_dynamics\n",
    "for x in sd:\n",
    "    for y in sd:\n",
    "        if y[0]=='False' or 'F':\n",
    "            y[0]='True'\n",
    "            #print(y[0])\n",
    "        if y[1]=='False' or 'F':\n",
    "            y[1]='True'\n",
    "        if y[2]=='Flase' or 'F':\n",
    "            y[2]='True'\n",
    "c = p\n",
    "# c.structure.make_supercell([2,2,3])\n",
    "# c.natoms.append(1)\n",
    "\n",
    "#c.structure.to(filename='S223POSCAR')\n",
    "#print(c.structure.to(fmt=\"poscar\"))"
   ]
  },
  {
   "cell_type": "code",
   "execution_count": 3,
   "metadata": {
    "scrolled": true
   },
   "outputs": [
    {
     "data": {
      "text/plain": [
       "0.014273"
      ]
     },
     "execution_count": 3,
     "metadata": {},
     "output_type": "execute_result"
    }
   ],
   "source": [
    "(0.022238+0.002293+0.018288)/3"
   ]
  },
  {
   "cell_type": "code",
   "execution_count": 4,
   "metadata": {},
   "outputs": [
    {
     "data": {
      "text/plain": [
       "0.01377"
      ]
     },
     "execution_count": 4,
     "metadata": {},
     "output_type": "execute_result"
    }
   ],
   "source": [
    "(0.021093+0.000794+0.019423)/3"
   ]
  },
  {
   "cell_type": "code",
   "execution_count": 5,
   "metadata": {},
   "outputs": [
    {
     "data": {
      "text/plain": [
       "0.013676666666666665"
      ]
     },
     "execution_count": 5,
     "metadata": {},
     "output_type": "execute_result"
    }
   ],
   "source": [
    "(0.020618+0.000336+0.020076)/3"
   ]
  },
  {
   "cell_type": "code",
   "execution_count": 6,
   "metadata": {},
   "outputs": [
    {
     "data": {
      "text/plain": [
       "0.013527000000000003"
      ]
     },
     "execution_count": 6,
     "metadata": {},
     "output_type": "execute_result"
    }
   ],
   "source": [
    "(0.020011+0.000137+0.020433)/3"
   ]
  },
  {
   "cell_type": "code",
   "execution_count": 7,
   "metadata": {},
   "outputs": [
    {
     "data": {
      "text/plain": [
       "0.013473333333333332"
      ]
     },
     "execution_count": 7,
     "metadata": {},
     "output_type": "execute_result"
    }
   ],
   "source": [
    "(0.020110+0.000251+0.020059)/3"
   ]
  },
  {
   "cell_type": "code",
   "execution_count": 8,
   "metadata": {},
   "outputs": [
    {
     "data": {
      "text/plain": [
       "0.013390666666666667"
      ]
     },
     "execution_count": 8,
     "metadata": {},
     "output_type": "execute_result"
    }
   ],
   "source": [
    "(0.020096+0.000030+0.020046)/3"
   ]
  },
  {
   "cell_type": "code",
   "execution_count": 9,
   "metadata": {},
   "outputs": [
    {
     "data": {
      "text/plain": [
       "0.013452"
      ]
     },
     "execution_count": 9,
     "metadata": {},
     "output_type": "execute_result"
    }
   ],
   "source": [
    "(0.020150+0.000029+0.020177)/3"
   ]
  },
  {
   "cell_type": "code",
   "execution_count": null,
   "metadata": {},
   "outputs": [],
   "source": []
  }
 ],
 "metadata": {
  "kernelspec": {
   "display_name": "Python 3",
   "language": "python",
   "name": "python3"
  },
  "language_info": {
   "codemirror_mode": {
    "name": "ipython",
    "version": 3
   },
   "file_extension": ".py",
   "mimetype": "text/x-python",
   "name": "python",
   "nbconvert_exporter": "python",
   "pygments_lexer": "ipython3",
   "version": "3.6.3"
  }
 },
 "nbformat": 4,
 "nbformat_minor": 2
}
