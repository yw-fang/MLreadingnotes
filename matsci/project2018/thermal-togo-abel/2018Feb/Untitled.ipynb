{
 "cells": [
  {
   "cell_type": "code",
   "execution_count": null,
   "metadata": {},
   "outputs": [],
   "source": [
    "(aiida) h44:git-tutorial ywfang$ gpg --full-generate-key\n",
    "gpg (GnuPG) 2.2.5; Copyright (C) 2018 Free Software Foundation, Inc.\n",
    "This is free software: you are free to change and redistribute it.\n",
    "There is NO WARRANTY, to the extent permitted by law.\n",
    "\n",
    "gpg: directory '/Users/ywfang/.gnupg' created\n",
    "gpg: keybox '/Users/ywfang/.gnupg/pubring.kbx' created\n",
    "Please select what kind of key you want:\n",
    "   (1) RSA and RSA (default)\n",
    "   (2) DSA and Elgamal\n",
    "   (3) DSA (sign only)\n",
    "   (4) RSA (sign only)\n",
    "Your selection? 1\n",
    "RSA keys may be between 1024 and 4096 bits long.\n",
    "What keysize do you want? (2048) 4096\n",
    "Requested keysize is 4096 bits\n",
    "Please specify how long the key should be valid.\n",
    "         0 = key does not expire\n",
    "      <n>  = key expires in n days\n",
    "      <n>w = key expires in n weeks\n",
    "      <n>m = key expires in n months\n",
    "      <n>y = key expires in n years\n",
    "Key is valid for? (0) 0\n",
    "Key does not expire at all\n",
    "Is this correct? (y/N) y\n",
    "\n",
    "GnuPG needs to construct a user ID to identify your key.\n",
    "\n",
    "Real name: yw-fang\n",
    "Email address: fyuewen@gmail.com\n",
    "Comment: gpg key for github\n",
    "You selected this USER-ID:\n",
    "    \"yw-fang (gpg key for github) <fyuewen@gmail.com>\"\n",
    "\n",
    "Change (N)ame, (C)omment, (E)mail or (O)kay/(Q)uit? Q\n",
    "gpg: Key generation canceled."
   ]
  },
  {
   "cell_type": "markdown",
   "metadata": {},
   "source": [
    "1. Item 1\n",
    "1. Item 2\n",
    "1. Item 3\n",
    "   1. Item 3a\n",
    "   1. Item 3b"
   ]
  },
  {
   "cell_type": "code",
   "execution_count": null,
   "metadata": {},
   "outputs": [],
   "source": []
  }
 ],
 "metadata": {
  "kernelspec": {
   "display_name": "Python 3",
   "language": "python",
   "name": "python3"
  },
  "language_info": {
   "codemirror_mode": {
    "name": "ipython",
    "version": 3
   },
   "file_extension": ".py",
   "mimetype": "text/x-python",
   "name": "python",
   "nbconvert_exporter": "python",
   "pygments_lexer": "ipython3",
   "version": "3.6.3"
  }
 },
 "nbformat": 4,
 "nbformat_minor": 2
}
