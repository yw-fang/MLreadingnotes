{
 "cells": [
  {
   "cell_type": "markdown",
   "metadata": {},
   "source": [
    "# Preparing the launch file"
   ]
  },
  {
   "cell_type": "code",
   "execution_count": 1,
   "metadata": {},
   "outputs": [],
   "source": [
    "import numpy as np\n",
    "import pandas as pd\n"
   ]
  },
  {
   "cell_type": "code",
   "execution_count": 108,
   "metadata": {},
   "outputs": [
    {
     "name": "stdout",
     "output_type": "stream",
     "text": [
      "[      4.8786175399999996    0.0000000000000000    0.0000000000000000\n",
      " ],\n",
      "[     -2.4393087699999998    4.2250067299999996    0.0000000000000000\n",
      " ],\n",
      "[      0.0000000000000000    0.0000000000000000   12.5104310900000009\n",
      " ],\n"
     ]
    }
   ],
   "source": [
    "#pd.read_csv(\"./source-db/mp-160/POSCAR-unitcell\")\n",
    "\n",
    "pos_path = './source-db/mp-160/POSCAR-unitcell'\n",
    "sample_path = './launch_thermal_si.py'\n",
    "pos_file = open(pos_path,\"r\")\n",
    "\n",
    "scaled_coordinates=open('./source-db/mp-160/scaled_coordinates.dat', \"w\")\n",
    "linenumber=0\n",
    "for line in pos_file.readlines():\n",
    "    linenumber=linenumber+1\n",
    "    if 3<=linenumber<=5:\n",
    "        print(\"[\",line,\"],\")\n",
    "\n",
    "\n",
    "    if linenumber>=9:\n",
    "        scaled_coordinates.write(\"(\"+line+\"),\\n\")\n",
    "    \n",
    "\n",
    "scaled_coordinates.close()"
   ]
  },
  {
   "cell_type": "code",
   "execution_count": 6,
   "metadata": {},
   "outputs": [],
   "source": [
    "\n"
   ]
  },
  {
   "cell_type": "markdown",
   "metadata": {},
   "source": [
    "# Parallel phono3py calculations using openMP"
   ]
  },
  {
   "cell_type": "markdown",
   "metadata": {},
   "source": [
    "Togo-sensei found my phono3py in boston-lab did not use the parallel thread. I tried restalled phonopy and phono3py for several times, but didn' figure it out.\n",
    "\n",
    "Today, after checking my .bashrc file line by line, I found the problem is caused my setting for the number of thread.\n",
    "\n",
    "export OMP_NUM_THREADS = 1\n",
    "\n",
    "After removing this line, and source .bashrc. The threads can be parallel."
   ]
  },
  {
   "cell_type": "markdown",
   "metadata": {},
   "source": [
    "## An example to get lattice thermal conductivity\n",
    "\n",
    "be sure you have setup a virtual environment for aiida, and have a work job with its pk number (e.g. 186270 in my example)"
   ]
  },
  {
   "cell_type": "code",
   "execution_count": null,
   "metadata": {},
   "outputs": [],
   "source": [
    "open verdi shell"
   ]
  },
  {
   "cell_type": "code",
   "execution_count": null,
   "metadata": {},
   "outputs": [],
   "source": [
    "n3 = load_node(186270)"
   ]
  },
  {
   "cell_type": "code",
   "execution_count": null,
   "metadata": {},
   "outputs": [],
   "source": [
    "n3.out.kappa"
   ]
  },
  {
   "cell_type": "code",
   "execution_count": null,
   "metadata": {},
   "outputs": [],
   "source": [
    "<ArrayData: uuid: af240b4c-29ad-4c80-8691-a52a65d1587d (pk: 187185)>"
   ]
  },
  {
   "cell_type": "code",
   "execution_count": null,
   "metadata": {},
   "outputs": [],
   "source": [
    "n3.out.kappa.get_arraynames()"
   ]
  },
  {
   "cell_type": "code",
   "execution_count": null,
   "metadata": {},
   "outputs": [],
   "source": [
    "Out[4]:\n",
    "[u'group_velocity',\n",
    " u'temperature',\n",
    " u'mesh',\n",
    " u'heat_capacity',\n",
    " u'frequency',\n",
    " u'gv_by_gv',\n",
    " u'gamma',\n",
    " u'weight',\n",
    " u'kappa',\n",
    " u'kappa_unit_conversion',\n",
    " u'qpoint',\n",
    " \n",
    " u'mode_kappa']"
   ]
  },
  {
   "cell_type": "code",
   "execution_count": null,
   "metadata": {},
   "outputs": [],
   "source": [
    "f = n3.out.kappa"
   ]
  },
  {
   "cell_type": "code",
   "execution_count": null,
   "metadata": {},
   "outputs": [],
   "source": [
    "f.get_array('kappa')[30] #this will print the ltc tensors"
   ]
  },
  {
   "cell_type": "code",
   "execution_count": null,
   "metadata": {},
   "outputs": [],
   "source": []
  },
  {
   "cell_type": "code",
   "execution_count": null,
   "metadata": {},
   "outputs": [],
   "source": []
  },
  {
   "cell_type": "markdown",
   "metadata": {},
   "source": [
    "# output to json file example"
   ]
  },
  {
   "cell_type": "code",
   "execution_count": 3,
   "metadata": {},
   "outputs": [],
   "source": [
    "import json\n",
    "data = {\n",
    "    'name': 'TiO2',\n",
    "    'ID': 'mp-100',\n",
    "    'ltc': [100,200]\n",
    "}\n",
    "json_str = json.dumps(data)"
   ]
  },
  {
   "cell_type": "code",
   "execution_count": 4,
   "metadata": {},
   "outputs": [
    {
     "data": {
      "text/plain": [
       "'{\"name\": \"TiO2\", \"ID\": \"mp-100\", \"ltc\": [100, 200]}'"
      ]
     },
     "execution_count": 4,
     "metadata": {},
     "output_type": "execute_result"
    }
   ],
   "source": [
    "json_str"
   ]
  },
  {
   "cell_type": "code",
   "execution_count": null,
   "metadata": {},
   "outputs": [],
   "source": [
    "70325"
   ]
  },
  {
   "cell_type": "code",
   "execution_count": null,
   "metadata": {},
   "outputs": [],
   "source": []
  },
  {
   "cell_type": "code",
   "execution_count": 41,
   "metadata": {},
   "outputs": [
    {
     "data": {
      "text/plain": [
       "<module 'json' from '/home/ywfang/miniconda3/envs/aiida/lib/python2.7/json/__init__.pyc'>"
      ]
     },
     "execution_count": 41,
     "metadata": {},
     "output_type": "execute_result"
    }
   ],
   "source": []
  },
  {
   "cell_type": "markdown",
   "metadata": {},
   "source": [
    "# A practical example"
   ]
  },
  {
   "cell_type": "code",
   "execution_count": 62,
   "metadata": {},
   "outputs": [],
   "source": [
    "import json\n",
    "try:\n",
    "    from pymatgen.matproj.rest import MPRester #matproj.rest is moved to ext.matproj in new pymatgen versions\n",
    "except ImportError: \n",
    "    from pymatgen.ext.matproj import MPRester\n",
    "import os\n",
    "data = {}\n",
    "#structure_id is the ID of the structure in Materials Project\n",
    "\n",
    "\n",
    "raster = MPRester(os.environ['PMG_MAPI_KEY'])\n",
    "def basic_info_from_mp(structure_id):\n",
    "    material_name = raster.query(structure_id,['pretty_formula'])\n",
    "#    mg_structure = raster.get_structure_by_material_id(structure_id)\n",
    "#    material_name = mg_structure.formula.replace('1', '').replace(' ', '')\n",
    "    return(structure_id, material_name[0]['pretty_formula'])\n",
    "\n",
    "data['compound'] = []\n",
    "data['compound'].append({\n",
    "    'structure_id': 'mp-149',\n",
    "    'material_name': basic_info_from_mp('mp-149')[1]\n",
    "})\n",
    "\n",
    "with open('data.json', 'w') as outfile:\n",
    "    json.dump(data, outfile)"
   ]
  },
  {
   "cell_type": "code",
   "execution_count": 63,
   "metadata": {},
   "outputs": [
    {
     "name": "stdout",
     "output_type": "stream",
     "text": [
      "{\"compound\": [{\"structure_id\": \"mp-149\", \"material_name\": \"Si\"}]}"
     ]
    }
   ],
   "source": [
    "%cat data.json"
   ]
  },
  {
   "cell_type": "markdown",
   "metadata": {},
   "source": [
    "# load the requested data to thermaldata.json"
   ]
  },
  {
   "cell_type": "code",
   "execution_count": 60,
   "metadata": {},
   "outputs": [],
   "source": [
    "import json\n",
    "   \n",
    "try:\n",
    "    from pymatgen.matproj.rest import MPRester #matproj.rest is moved to ext.matproj in new pymatgen versions\n",
    "except ImportError: \n",
    "    from pymatgen.ext.matproj import MPRester\n",
    "\n",
    "import os\n",
    "import pandas as pd\n",
    "\n",
    "data = {}\n",
    "#####################dict#####################################\n",
    "#structure_id is the ID of the structure in Materials Project#\n",
    "#ltc_cutoff (cutoff= 4, 5, 6... angstrom)                    #\n",
    "#ltc (lattice thermal conductivity) unit: W/(m.k) at 300 K.  #\n",
    "####################I/O file##################################\n",
    "#finished-jobs.txt: it is a file contains the pk_number in my aiida calculations\n",
    "#thermaldata.json: json files contaisn the lattice thermal conductivity data at 300 K\n",
    "\n",
    "raster = MPRester(os.environ['PMG_MAPI_KEY'])\n",
    "#PMG_MAPI_KEY should be set in .bashrc file or using command \"export PMG_MAPI_KE = 'your key'\"\n",
    "def basic_info_from_mp(structure_id):\n",
    "    material_name = raster.query(structure_id,['pretty_formula'])\n",
    "    return(structure_id, material_name[0]['pretty_formula'])\n",
    "\n",
    "job_df = pd.read_csv('./finished-jobs.txt')\n",
    "structure_id_series = job_df['structure_id']\n",
    "data['compound'] = []\n",
    "index_in_job = 0\n",
    "for i in job_df['structure_id'].tolist():\n",
    "    data['compound'].append({\n",
    "        'structure_id': i,\n",
    "        'material_name': basic_info_from_mp(i)[1],\n",
    "        'ltc4': job_df.iloc[index_in_job, 2],\n",
    "        'ltc5': job_df.iloc[index_in_job, 3],\n",
    "        'ltc6': job_df.iloc[index_in_job, 4],\n",
    "        'ltc7': job_df.iloc[index_in_job, 5],\n",
    "        'ltc8': job_df.iloc[index_in_job, 6],\n",
    "        'ltc9': job_df.iloc[index_in_job, 7]\n",
    "    })\n",
    "    index_in_job = int(index_in_job) + 1\n",
    "\n",
    "with open('thermaldata.json', 'w') as outfile:\n",
    "    json.dump(data, outfile)"
   ]
  },
  {
   "cell_type": "code",
   "execution_count": 17,
   "metadata": {},
   "outputs": [
    {
     "ename": "NameError",
     "evalue": "name 'job_df' is not defined",
     "output_type": "error",
     "traceback": [
      "\u001b[0;31m---------------------------------------------------\u001b[0m",
      "\u001b[0;31mNameError\u001b[0m         Traceback (most recent call last)",
      "\u001b[0;32m<ipython-input-17-ac97789a59bb>\u001b[0m in \u001b[0;36m<module>\u001b[0;34m()\u001b[0m\n\u001b[0;32m----> 1\u001b[0;31m \u001b[0mjob_df\u001b[0m\u001b[0;34m\u001b[0m\u001b[0m\n\u001b[0m",
      "\u001b[0;31mNameError\u001b[0m: name 'job_df' is not defined"
     ]
    }
   ],
   "source": [
    "job_df"
   ]
  },
  {
   "cell_type": "code",
   "execution_count": 18,
   "metadata": {},
   "outputs": [
    {
     "name": "stdout",
     "output_type": "stream",
     "text": [
      "structure_id,thermal_pk_no,ltc4, ltc5,ltc6,ltc7,ltc8, ltc9\r\n",
      "mp-149, 197320, 8.18605044e+01, 7.90587211e+01\r\n",
      "mp-463, 67170,7.31313422e+00, 7.25491292e+00, 7.28114961e+00\r\n",
      "mp-286, 70325, 7.38043945e+00, 8.74758940e+00, 9.02450407e+00\r\n",
      "mp-830, 72039, 3.35264611e+02, 3.58937448e+02, 3.68909175e+02, 3.72591003e+02, 3.72691752e+02\r\n",
      "mp-22862, 91699, 6.44824175e+00, 6.40518782e+00, 6.43492759e+00\r\n",
      "mp-1000, 85993, 7.14183088e+00, 7.28871012e+00, 7.28871012e+00\r\n",
      "mp-422,  187245, 1.28146460e+02, 1.27259954e+02\r\n",
      "mp-252, 187311, 1.75862373e+02, 1.75094956e+02\r\n",
      "mp-971, 85957, 3.23210704e+00, 3.32267566e+00\r\n",
      "mp-682, 86249, 2.10305474e+01, 2.11620852e+01, 2.12968932e+01, 2.12189553e+01, 2.12189553e+01\r\n",
      "mp-1087, 87250, 8.20301065e+00, 8.70422798e+00, 8.90749802e+00, 9.14736050e+00, 9.09512637e+00, 9.10121918e+00\r\n",
      "mp-2472, 87854, 7.79457197e+00, 8.33185233e+00, 8.66893035e+00, 8.65021488e+00, 8.66698540e+00 \r\n",
      "mp-2605, 87992, 2.26551650e+01, 2.30388040e+01, 2.33735802e+01, 2.33195865e+01, 2.33583262e+01\r\n",
      "mp-7140, 88463, 9.21834954e+03, 9.28057522e+03\r\n",
      "mp-981, 88586, 6.95302539e+00, 7.46909137e+00, 7.56131255e+00 \r\n",
      "mp-1394, 88747, 3.22822144e+00, 3.61044089e+00, 3.66833402e+00, 3.68415545e+00  \r\n",
      "mp-1138, 89733, 1.56629609e+01, 1.59622511e+01, 1.59918707e+01, 1.59916084e+01 \r\n",
      "mp-23193, 90390, 5.90278735e+00, 5.59679965e+00, 5.19617121e+00 \r\n",
      "mp-1315,  190715, 1.85985808e+01, 1.84598669e+01 \r\n",
      "mp-1265, 190837, 5.72610451e+01, 5.79085292e+01, 5.71176260e+01, 5.71883857e+01 \r\n"
     ]
    }
   ],
   "source": [
    "%cat finished-jobs.txt"
   ]
  },
  {
   "cell_type": "code",
   "execution_count": 66,
   "metadata": {},
   "outputs": [],
   "source": [
    "%more thermaldata.json"
   ]
  },
  {
   "cell_type": "markdown",
   "metadata": {},
   "source": [
    "# print the LTC for each computed materials"
   ]
  },
  {
   "cell_type": "code",
   "execution_count": 100,
   "metadata": {
    "scrolled": false
   },
   "outputs": [
    {
     "data": {
      "text/html": [
       "<div>\n",
       "<style scoped>\n",
       "    .dataframe tbody tr th:only-of-type {\n",
       "        vertical-align: middle;\n",
       "    }\n",
       "\n",
       "    .dataframe tbody tr th {\n",
       "        vertical-align: top;\n",
       "    }\n",
       "\n",
       "    .dataframe thead th {\n",
       "        text-align: right;\n",
       "    }\n",
       "</style>\n",
       "<table border=\"1\" class=\"dataframe\">\n",
       "  <thead>\n",
       "    <tr style=\"text-align: right;\">\n",
       "      <th></th>\n",
       "      <th>ltc4</th>\n",
       "      <th>ltc5</th>\n",
       "      <th>ltc6</th>\n",
       "      <th>ltc7</th>\n",
       "      <th>ltc8</th>\n",
       "      <th>ltc9</th>\n",
       "      <th>material_name</th>\n",
       "      <th>structure_id</th>\n",
       "    </tr>\n",
       "  </thead>\n",
       "  <tbody>\n",
       "    <tr>\n",
       "      <th>0</th>\n",
       "      <td>81.860504</td>\n",
       "      <td>79.058721</td>\n",
       "      <td>NaN</td>\n",
       "      <td>NaN</td>\n",
       "      <td>NaN</td>\n",
       "      <td>NaN</td>\n",
       "      <td>Si</td>\n",
       "      <td>mp-149</td>\n",
       "    </tr>\n",
       "    <tr>\n",
       "      <th>1</th>\n",
       "      <td>7.313134</td>\n",
       "      <td>7.254913</td>\n",
       "      <td>7.281150</td>\n",
       "      <td>NaN</td>\n",
       "      <td>NaN</td>\n",
       "      <td>NaN</td>\n",
       "      <td>KF</td>\n",
       "      <td>mp-463</td>\n",
       "    </tr>\n",
       "    <tr>\n",
       "      <th>2</th>\n",
       "      <td>7.380439</td>\n",
       "      <td>8.747589</td>\n",
       "      <td>9.024504</td>\n",
       "      <td>NaN</td>\n",
       "      <td>NaN</td>\n",
       "      <td>NaN</td>\n",
       "      <td>YbSe</td>\n",
       "      <td>mp-286</td>\n",
       "    </tr>\n",
       "    <tr>\n",
       "      <th>3</th>\n",
       "      <td>335.264611</td>\n",
       "      <td>358.937448</td>\n",
       "      <td>368.909175</td>\n",
       "      <td>372.591003</td>\n",
       "      <td>372.691752</td>\n",
       "      <td>NaN</td>\n",
       "      <td>GaN</td>\n",
       "      <td>mp-830</td>\n",
       "    </tr>\n",
       "    <tr>\n",
       "      <th>4</th>\n",
       "      <td>6.448242</td>\n",
       "      <td>6.405188</td>\n",
       "      <td>6.434928</td>\n",
       "      <td>NaN</td>\n",
       "      <td>NaN</td>\n",
       "      <td>NaN</td>\n",
       "      <td>NaCl</td>\n",
       "      <td>mp-22862</td>\n",
       "    </tr>\n",
       "    <tr>\n",
       "      <th>5</th>\n",
       "      <td>7.141831</td>\n",
       "      <td>7.288710</td>\n",
       "      <td>7.288710</td>\n",
       "      <td>NaN</td>\n",
       "      <td>NaN</td>\n",
       "      <td>NaN</td>\n",
       "      <td>BaTe</td>\n",
       "      <td>mp-1000</td>\n",
       "    </tr>\n",
       "    <tr>\n",
       "      <th>6</th>\n",
       "      <td>128.146460</td>\n",
       "      <td>127.259954</td>\n",
       "      <td>NaN</td>\n",
       "      <td>NaN</td>\n",
       "      <td>NaN</td>\n",
       "      <td>NaN</td>\n",
       "      <td>BeS</td>\n",
       "      <td>mp-422</td>\n",
       "    </tr>\n",
       "    <tr>\n",
       "      <th>7</th>\n",
       "      <td>175.862373</td>\n",
       "      <td>175.094956</td>\n",
       "      <td>NaN</td>\n",
       "      <td>NaN</td>\n",
       "      <td>NaN</td>\n",
       "      <td>NaN</td>\n",
       "      <td>BeTe</td>\n",
       "      <td>mp-252</td>\n",
       "    </tr>\n",
       "    <tr>\n",
       "      <th>8</th>\n",
       "      <td>3.232107</td>\n",
       "      <td>3.322676</td>\n",
       "      <td>NaN</td>\n",
       "      <td>NaN</td>\n",
       "      <td>NaN</td>\n",
       "      <td>NaN</td>\n",
       "      <td>K2O</td>\n",
       "      <td>mp-971</td>\n",
       "    </tr>\n",
       "    <tr>\n",
       "      <th>9</th>\n",
       "      <td>21.030547</td>\n",
       "      <td>21.162085</td>\n",
       "      <td>21.296893</td>\n",
       "      <td>21.218955</td>\n",
       "      <td>21.218955</td>\n",
       "      <td>NaN</td>\n",
       "      <td>NaF</td>\n",
       "      <td>mp-682</td>\n",
       "    </tr>\n",
       "    <tr>\n",
       "      <th>10</th>\n",
       "      <td>8.203011</td>\n",
       "      <td>8.704228</td>\n",
       "      <td>8.907498</td>\n",
       "      <td>9.147360</td>\n",
       "      <td>9.095126</td>\n",
       "      <td>9.101219</td>\n",
       "      <td>SrS</td>\n",
       "      <td>mp-1087</td>\n",
       "    </tr>\n",
       "    <tr>\n",
       "      <th>11</th>\n",
       "      <td>7.794572</td>\n",
       "      <td>8.331852</td>\n",
       "      <td>8.668930</td>\n",
       "      <td>8.650215</td>\n",
       "      <td>8.666985</td>\n",
       "      <td>NaN</td>\n",
       "      <td>SrO</td>\n",
       "      <td>mp-2472</td>\n",
       "    </tr>\n",
       "    <tr>\n",
       "      <th>12</th>\n",
       "      <td>22.655165</td>\n",
       "      <td>23.038804</td>\n",
       "      <td>23.373580</td>\n",
       "      <td>23.319586</td>\n",
       "      <td>23.358326</td>\n",
       "      <td>NaN</td>\n",
       "      <td>CaO</td>\n",
       "      <td>mp-2605</td>\n",
       "    </tr>\n",
       "    <tr>\n",
       "      <th>13</th>\n",
       "      <td>9218.349540</td>\n",
       "      <td>9280.575220</td>\n",
       "      <td>NaN</td>\n",
       "      <td>NaN</td>\n",
       "      <td>NaN</td>\n",
       "      <td>NaN</td>\n",
       "      <td>SiC</td>\n",
       "      <td>mp-7140</td>\n",
       "    </tr>\n",
       "    <tr>\n",
       "      <th>14</th>\n",
       "      <td>6.953025</td>\n",
       "      <td>7.469091</td>\n",
       "      <td>7.561313</td>\n",
       "      <td>NaN</td>\n",
       "      <td>NaN</td>\n",
       "      <td>NaN</td>\n",
       "      <td>SrF2</td>\n",
       "      <td>mp-981</td>\n",
       "    </tr>\n",
       "    <tr>\n",
       "      <th>15</th>\n",
       "      <td>3.228221</td>\n",
       "      <td>3.610441</td>\n",
       "      <td>3.668334</td>\n",
       "      <td>3.684155</td>\n",
       "      <td>NaN</td>\n",
       "      <td>NaN</td>\n",
       "      <td>Rb2O</td>\n",
       "      <td>mp-1394</td>\n",
       "    </tr>\n",
       "    <tr>\n",
       "      <th>16</th>\n",
       "      <td>15.662961</td>\n",
       "      <td>15.962251</td>\n",
       "      <td>15.991871</td>\n",
       "      <td>15.991608</td>\n",
       "      <td>NaN</td>\n",
       "      <td>NaN</td>\n",
       "      <td>LiF</td>\n",
       "      <td>mp-1138</td>\n",
       "    </tr>\n",
       "    <tr>\n",
       "      <th>17</th>\n",
       "      <td>5.902787</td>\n",
       "      <td>5.596800</td>\n",
       "      <td>5.196171</td>\n",
       "      <td>NaN</td>\n",
       "      <td>NaN</td>\n",
       "      <td>NaN</td>\n",
       "      <td>KCl</td>\n",
       "      <td>mp-23193</td>\n",
       "    </tr>\n",
       "    <tr>\n",
       "      <th>18</th>\n",
       "      <td>18.598581</td>\n",
       "      <td>18.459867</td>\n",
       "      <td>NaN</td>\n",
       "      <td>NaN</td>\n",
       "      <td>NaN</td>\n",
       "      <td>NaN</td>\n",
       "      <td>MgS</td>\n",
       "      <td>mp-1315</td>\n",
       "    </tr>\n",
       "    <tr>\n",
       "      <th>19</th>\n",
       "      <td>57.261045</td>\n",
       "      <td>57.908529</td>\n",
       "      <td>57.117626</td>\n",
       "      <td>57.188386</td>\n",
       "      <td>NaN</td>\n",
       "      <td>NaN</td>\n",
       "      <td>MgO</td>\n",
       "      <td>mp-1265</td>\n",
       "    </tr>\n",
       "  </tbody>\n",
       "</table>\n",
       "</div>"
      ],
      "text/plain": [
       "           ltc4         ltc5        ltc6        ltc7        ltc8      ltc9  \\\n",
       "0     81.860504    79.058721         NaN         NaN         NaN       NaN   \n",
       "1      7.313134     7.254913    7.281150         NaN         NaN       NaN   \n",
       "2      7.380439     8.747589    9.024504         NaN         NaN       NaN   \n",
       "3    335.264611   358.937448  368.909175  372.591003  372.691752       NaN   \n",
       "4      6.448242     6.405188    6.434928         NaN         NaN       NaN   \n",
       "5      7.141831     7.288710    7.288710         NaN         NaN       NaN   \n",
       "6    128.146460   127.259954         NaN         NaN         NaN       NaN   \n",
       "7    175.862373   175.094956         NaN         NaN         NaN       NaN   \n",
       "8      3.232107     3.322676         NaN         NaN         NaN       NaN   \n",
       "9     21.030547    21.162085   21.296893   21.218955   21.218955       NaN   \n",
       "10     8.203011     8.704228    8.907498    9.147360    9.095126  9.101219   \n",
       "11     7.794572     8.331852    8.668930    8.650215    8.666985       NaN   \n",
       "12    22.655165    23.038804   23.373580   23.319586   23.358326       NaN   \n",
       "13  9218.349540  9280.575220         NaN         NaN         NaN       NaN   \n",
       "14     6.953025     7.469091    7.561313         NaN         NaN       NaN   \n",
       "15     3.228221     3.610441    3.668334    3.684155         NaN       NaN   \n",
       "16    15.662961    15.962251   15.991871   15.991608         NaN       NaN   \n",
       "17     5.902787     5.596800    5.196171         NaN         NaN       NaN   \n",
       "18    18.598581    18.459867         NaN         NaN         NaN       NaN   \n",
       "19    57.261045    57.908529   57.117626   57.188386         NaN       NaN   \n",
       "\n",
       "   material_name structure_id  \n",
       "0             Si       mp-149  \n",
       "1             KF       mp-463  \n",
       "2           YbSe       mp-286  \n",
       "3            GaN       mp-830  \n",
       "4           NaCl     mp-22862  \n",
       "5           BaTe      mp-1000  \n",
       "6            BeS       mp-422  \n",
       "7           BeTe       mp-252  \n",
       "8            K2O       mp-971  \n",
       "9            NaF       mp-682  \n",
       "10           SrS      mp-1087  \n",
       "11           SrO      mp-2472  \n",
       "12           CaO      mp-2605  \n",
       "13           SiC      mp-7140  \n",
       "14          SrF2       mp-981  \n",
       "15          Rb2O      mp-1394  \n",
       "16           LiF      mp-1138  \n",
       "17           KCl     mp-23193  \n",
       "18           MgS      mp-1315  \n",
       "19           MgO      mp-1265  "
      ]
     },
     "execution_count": 100,
     "metadata": {},
     "output_type": "execute_result"
    }
   ],
   "source": [
    "#read thermaldata.json and convert it to a DataFrame\n",
    "import pandas as pd\n",
    "from pandas import DataFrame\n",
    "import json\n",
    "with open('thermaldata.json', 'r') as outfile:\n",
    "    newdata=json.load(outfile)['compound']\n",
    "#df=DataFrame(newdata, index='material_name',columns=['ltc4','ltc5','ltc6','ltc7','ltc8'])\n",
    "df=DataFrame(newdata)\n",
    "df"
   ]
  },
  {
   "cell_type": "code",
   "execution_count": 101,
   "metadata": {
    "scrolled": false
   },
   "outputs": [
    {
     "data": {
      "text/html": [
       "<div>\n",
       "<style scoped>\n",
       "    .dataframe tbody tr th:only-of-type {\n",
       "        vertical-align: middle;\n",
       "    }\n",
       "\n",
       "    .dataframe tbody tr th {\n",
       "        vertical-align: top;\n",
       "    }\n",
       "\n",
       "    .dataframe thead th {\n",
       "        text-align: right;\n",
       "    }\n",
       "</style>\n",
       "<table border=\"1\" class=\"dataframe\">\n",
       "  <thead>\n",
       "    <tr style=\"text-align: right;\">\n",
       "      <th></th>\n",
       "      <th>ltc4</th>\n",
       "      <th>ltc5</th>\n",
       "      <th>ltc6</th>\n",
       "      <th>ltc7</th>\n",
       "      <th>ltc8</th>\n",
       "      <th>ltc9</th>\n",
       "      <th>structure_id</th>\n",
       "    </tr>\n",
       "    <tr>\n",
       "      <th>material_name</th>\n",
       "      <th></th>\n",
       "      <th></th>\n",
       "      <th></th>\n",
       "      <th></th>\n",
       "      <th></th>\n",
       "      <th></th>\n",
       "      <th></th>\n",
       "    </tr>\n",
       "  </thead>\n",
       "  <tbody>\n",
       "    <tr>\n",
       "      <th>Si</th>\n",
       "      <td>81.860504</td>\n",
       "      <td>79.058721</td>\n",
       "      <td>NaN</td>\n",
       "      <td>NaN</td>\n",
       "      <td>NaN</td>\n",
       "      <td>NaN</td>\n",
       "      <td>mp-149</td>\n",
       "    </tr>\n",
       "    <tr>\n",
       "      <th>KF</th>\n",
       "      <td>7.313134</td>\n",
       "      <td>7.254913</td>\n",
       "      <td>7.281150</td>\n",
       "      <td>NaN</td>\n",
       "      <td>NaN</td>\n",
       "      <td>NaN</td>\n",
       "      <td>mp-463</td>\n",
       "    </tr>\n",
       "    <tr>\n",
       "      <th>YbSe</th>\n",
       "      <td>7.380439</td>\n",
       "      <td>8.747589</td>\n",
       "      <td>9.024504</td>\n",
       "      <td>NaN</td>\n",
       "      <td>NaN</td>\n",
       "      <td>NaN</td>\n",
       "      <td>mp-286</td>\n",
       "    </tr>\n",
       "    <tr>\n",
       "      <th>GaN</th>\n",
       "      <td>335.264611</td>\n",
       "      <td>358.937448</td>\n",
       "      <td>368.909175</td>\n",
       "      <td>372.591003</td>\n",
       "      <td>372.691752</td>\n",
       "      <td>NaN</td>\n",
       "      <td>mp-830</td>\n",
       "    </tr>\n",
       "    <tr>\n",
       "      <th>NaCl</th>\n",
       "      <td>6.448242</td>\n",
       "      <td>6.405188</td>\n",
       "      <td>6.434928</td>\n",
       "      <td>NaN</td>\n",
       "      <td>NaN</td>\n",
       "      <td>NaN</td>\n",
       "      <td>mp-22862</td>\n",
       "    </tr>\n",
       "    <tr>\n",
       "      <th>BaTe</th>\n",
       "      <td>7.141831</td>\n",
       "      <td>7.288710</td>\n",
       "      <td>7.288710</td>\n",
       "      <td>NaN</td>\n",
       "      <td>NaN</td>\n",
       "      <td>NaN</td>\n",
       "      <td>mp-1000</td>\n",
       "    </tr>\n",
       "    <tr>\n",
       "      <th>BeS</th>\n",
       "      <td>128.146460</td>\n",
       "      <td>127.259954</td>\n",
       "      <td>NaN</td>\n",
       "      <td>NaN</td>\n",
       "      <td>NaN</td>\n",
       "      <td>NaN</td>\n",
       "      <td>mp-422</td>\n",
       "    </tr>\n",
       "    <tr>\n",
       "      <th>BeTe</th>\n",
       "      <td>175.862373</td>\n",
       "      <td>175.094956</td>\n",
       "      <td>NaN</td>\n",
       "      <td>NaN</td>\n",
       "      <td>NaN</td>\n",
       "      <td>NaN</td>\n",
       "      <td>mp-252</td>\n",
       "    </tr>\n",
       "    <tr>\n",
       "      <th>K2O</th>\n",
       "      <td>3.232107</td>\n",
       "      <td>3.322676</td>\n",
       "      <td>NaN</td>\n",
       "      <td>NaN</td>\n",
       "      <td>NaN</td>\n",
       "      <td>NaN</td>\n",
       "      <td>mp-971</td>\n",
       "    </tr>\n",
       "    <tr>\n",
       "      <th>NaF</th>\n",
       "      <td>21.030547</td>\n",
       "      <td>21.162085</td>\n",
       "      <td>21.296893</td>\n",
       "      <td>21.218955</td>\n",
       "      <td>21.218955</td>\n",
       "      <td>NaN</td>\n",
       "      <td>mp-682</td>\n",
       "    </tr>\n",
       "    <tr>\n",
       "      <th>SrS</th>\n",
       "      <td>8.203011</td>\n",
       "      <td>8.704228</td>\n",
       "      <td>8.907498</td>\n",
       "      <td>9.147360</td>\n",
       "      <td>9.095126</td>\n",
       "      <td>9.101219</td>\n",
       "      <td>mp-1087</td>\n",
       "    </tr>\n",
       "    <tr>\n",
       "      <th>SrO</th>\n",
       "      <td>7.794572</td>\n",
       "      <td>8.331852</td>\n",
       "      <td>8.668930</td>\n",
       "      <td>8.650215</td>\n",
       "      <td>8.666985</td>\n",
       "      <td>NaN</td>\n",
       "      <td>mp-2472</td>\n",
       "    </tr>\n",
       "    <tr>\n",
       "      <th>CaO</th>\n",
       "      <td>22.655165</td>\n",
       "      <td>23.038804</td>\n",
       "      <td>23.373580</td>\n",
       "      <td>23.319586</td>\n",
       "      <td>23.358326</td>\n",
       "      <td>NaN</td>\n",
       "      <td>mp-2605</td>\n",
       "    </tr>\n",
       "    <tr>\n",
       "      <th>SiC</th>\n",
       "      <td>9218.349540</td>\n",
       "      <td>9280.575220</td>\n",
       "      <td>NaN</td>\n",
       "      <td>NaN</td>\n",
       "      <td>NaN</td>\n",
       "      <td>NaN</td>\n",
       "      <td>mp-7140</td>\n",
       "    </tr>\n",
       "    <tr>\n",
       "      <th>SrF2</th>\n",
       "      <td>6.953025</td>\n",
       "      <td>7.469091</td>\n",
       "      <td>7.561313</td>\n",
       "      <td>NaN</td>\n",
       "      <td>NaN</td>\n",
       "      <td>NaN</td>\n",
       "      <td>mp-981</td>\n",
       "    </tr>\n",
       "    <tr>\n",
       "      <th>Rb2O</th>\n",
       "      <td>3.228221</td>\n",
       "      <td>3.610441</td>\n",
       "      <td>3.668334</td>\n",
       "      <td>3.684155</td>\n",
       "      <td>NaN</td>\n",
       "      <td>NaN</td>\n",
       "      <td>mp-1394</td>\n",
       "    </tr>\n",
       "    <tr>\n",
       "      <th>LiF</th>\n",
       "      <td>15.662961</td>\n",
       "      <td>15.962251</td>\n",
       "      <td>15.991871</td>\n",
       "      <td>15.991608</td>\n",
       "      <td>NaN</td>\n",
       "      <td>NaN</td>\n",
       "      <td>mp-1138</td>\n",
       "    </tr>\n",
       "    <tr>\n",
       "      <th>KCl</th>\n",
       "      <td>5.902787</td>\n",
       "      <td>5.596800</td>\n",
       "      <td>5.196171</td>\n",
       "      <td>NaN</td>\n",
       "      <td>NaN</td>\n",
       "      <td>NaN</td>\n",
       "      <td>mp-23193</td>\n",
       "    </tr>\n",
       "    <tr>\n",
       "      <th>MgS</th>\n",
       "      <td>18.598581</td>\n",
       "      <td>18.459867</td>\n",
       "      <td>NaN</td>\n",
       "      <td>NaN</td>\n",
       "      <td>NaN</td>\n",
       "      <td>NaN</td>\n",
       "      <td>mp-1315</td>\n",
       "    </tr>\n",
       "    <tr>\n",
       "      <th>MgO</th>\n",
       "      <td>57.261045</td>\n",
       "      <td>57.908529</td>\n",
       "      <td>57.117626</td>\n",
       "      <td>57.188386</td>\n",
       "      <td>NaN</td>\n",
       "      <td>NaN</td>\n",
       "      <td>mp-1265</td>\n",
       "    </tr>\n",
       "  </tbody>\n",
       "</table>\n",
       "</div>"
      ],
      "text/plain": [
       "                      ltc4         ltc5        ltc6        ltc7        ltc8  \\\n",
       "material_name                                                                 \n",
       "Si               81.860504    79.058721         NaN         NaN         NaN   \n",
       "KF                7.313134     7.254913    7.281150         NaN         NaN   \n",
       "YbSe              7.380439     8.747589    9.024504         NaN         NaN   \n",
       "GaN             335.264611   358.937448  368.909175  372.591003  372.691752   \n",
       "NaCl              6.448242     6.405188    6.434928         NaN         NaN   \n",
       "BaTe              7.141831     7.288710    7.288710         NaN         NaN   \n",
       "BeS             128.146460   127.259954         NaN         NaN         NaN   \n",
       "BeTe            175.862373   175.094956         NaN         NaN         NaN   \n",
       "K2O               3.232107     3.322676         NaN         NaN         NaN   \n",
       "NaF              21.030547    21.162085   21.296893   21.218955   21.218955   \n",
       "SrS               8.203011     8.704228    8.907498    9.147360    9.095126   \n",
       "SrO               7.794572     8.331852    8.668930    8.650215    8.666985   \n",
       "CaO              22.655165    23.038804   23.373580   23.319586   23.358326   \n",
       "SiC            9218.349540  9280.575220         NaN         NaN         NaN   \n",
       "SrF2              6.953025     7.469091    7.561313         NaN         NaN   \n",
       "Rb2O              3.228221     3.610441    3.668334    3.684155         NaN   \n",
       "LiF              15.662961    15.962251   15.991871   15.991608         NaN   \n",
       "KCl               5.902787     5.596800    5.196171         NaN         NaN   \n",
       "MgS              18.598581    18.459867         NaN         NaN         NaN   \n",
       "MgO              57.261045    57.908529   57.117626   57.188386         NaN   \n",
       "\n",
       "                   ltc9 structure_id  \n",
       "material_name                         \n",
       "Si                  NaN       mp-149  \n",
       "KF                  NaN       mp-463  \n",
       "YbSe                NaN       mp-286  \n",
       "GaN                 NaN       mp-830  \n",
       "NaCl                NaN     mp-22862  \n",
       "BaTe                NaN      mp-1000  \n",
       "BeS                 NaN       mp-422  \n",
       "BeTe                NaN       mp-252  \n",
       "K2O                 NaN       mp-971  \n",
       "NaF                 NaN       mp-682  \n",
       "SrS            9.101219      mp-1087  \n",
       "SrO                 NaN      mp-2472  \n",
       "CaO                 NaN      mp-2605  \n",
       "SiC                 NaN      mp-7140  \n",
       "SrF2                NaN       mp-981  \n",
       "Rb2O                NaN      mp-1394  \n",
       "LiF                 NaN      mp-1138  \n",
       "KCl                 NaN     mp-23193  \n",
       "MgS                 NaN      mp-1315  \n",
       "MgO                 NaN      mp-1265  "
      ]
     },
     "execution_count": 101,
     "metadata": {},
     "output_type": "execute_result"
    }
   ],
   "source": [
    "df.set_index('material_name', inplace=True)\n",
    "df"
   ]
  },
  {
   "cell_type": "code",
   "execution_count": 98,
   "metadata": {},
   "outputs": [
    {
     "name": "stdout",
     "output_type": "stream",
     "text": [
      "4    335.265\n",
      "5    358.937\n",
      "6    368.909\n",
      "7    372.591\n",
      "8    372.692\n",
      "dtype: object\n",
      "<class 'pandas.core.series.Series'>\n"
     ]
    }
   ],
   "source": [
    "#del df['structure_id']\n",
    "GaN_data = pandas.Series(data = df.loc['GaN'][:5].values, index=np.arange(4,9,1))\n",
    "print(GaN_data)\n",
    "print(type(GaN_data))"
   ]
  },
  {
   "cell_type": "code",
   "execution_count": 92,
   "metadata": {},
   "outputs": [
    {
     "data": {
      "text/plain": [
       "B    2\n",
       "A    1\n",
       "C    3\n",
       "dtype: int64"
      ]
     },
     "execution_count": 92,
     "metadata": {},
     "output_type": "execute_result"
    }
   ],
   "source": [
    "import pandas\n",
    "s = pandas.Series(data = [1,2,3], index = ['A', 'B', 'C'])\n",
    "s = s.reindex(index = ['B','A','C'])\n",
    "s"
   ]
  },
  {
   "cell_type": "markdown",
   "metadata": {},
   "source": [
    "# LTC as a function of cutoff for GaN"
   ]
  },
  {
   "cell_type": "code",
   "execution_count": 16,
   "metadata": {
    "scrolled": false
   },
   "outputs": [
    {
     "data": {
      "image/png": "[encoded data removed]",
      "text/plain": [
       "<matplotlib.figure.Figure at 0x114dedc88>"
      ]
     },
     "metadata": {},
     "output_type": "display_data"
    }
   ],
   "source": [
    "%matplotlib inline\n",
    "# For the reference of the default color map of matplotlib, see\n",
    "# https://matplotlib.org/users/dflt_style_changes.html\n",
    "import matplotlib.style\n",
    "import matplotlib as mpl\n",
    "mpl.style.use('classic')\n",
    "mpl.rcParams['figure.facecolor'] = '1'\n",
    "#if choose the grey backgroud, use 0.75\n",
    "mpl.rcParams['figure.figsize'] = [16,13]\n",
    "mpl.rcParams['lines.linewidth'] = 2.0\n",
    "mpl.rcParams['legend.fancybox'] = True\n",
    "mpl.rcParams['legend.framealpha'] = 0.8\n",
    "mpl.rcParams['legend.fontsize'] = 17\n",
    "mpl.rcParams['legend.scatterpoints'] = 1 #scatterpoints,\n",
    "#it's the numer of maker points in the legend when\n",
    "#creating a legend entry for a scatter plot\n",
    "#mpl.rcParams['legend.markerscale']=0 #if we donnot want display the makrer, set to be 0\n",
    "mpl.rcParams[\"axes.formatter.useoffset\"]=False #turn off the axis offset-values.\n",
    "# If on. the axis label will use a offset value by the side of axis\n",
    "mpl.rcParams[\"axes.linewidth\"]  = 2.4 #change the boarder width\n",
    "#plt.rcParams[\"axes.edgecolor\"] = \"0.15\" #change the boarder color\n",
    "\n",
    "ticklabel_size = 19\n",
    "mpl.rcParams['xtick.labelsize'] = ticklabel_size\n",
    "mpl.rcParams['ytick.labelsize'] = ticklabel_size\n",
    "\n",
    "\n",
    "import matplotlib.pyplot as plt\n",
    "import numpy as np\n",
    "import pandas\n",
    "from pandas import DataFrame\n",
    "import json\n",
    "\n",
    "#import pdf module\n",
    "from matplotlib.backends.backend_pdf import PdfPages\n",
    "\n",
    "\n",
    "with open('thermaldata.json', 'r') as outfile:\n",
    "    newdata=json.load(outfile)['compound']\n",
    "df=DataFrame(newdata)\n",
    "df.set_index('material_name', inplace=True) #use the column 'material_name' to replace the old index\n",
    "\n",
    "GaN_data = pandas.Series(data = df.loc['GaN'][:5].values, index=np.arange(4,9,1))\n",
    "SrO_data = pandas.Series(data = df.loc['SrO'][:5].values, index=np.arange(4,9,1))\n",
    "NaF_data = pandas.Series(data = df.loc['NaF'][:5].values, index=np.arange(4,9,1))\n",
    "\n",
    "fig1 = plt.figure()\n",
    "ax1=fig1.add_subplot(3,2,1)\n",
    "ax1.plot(GaN_data.index, GaN_data.values, 'ro-', markersize=10, label = 'GaN')\n",
    "ax1.legend(loc=\"upper left\")\n",
    "plt.xticks(np.arange(4, 9, 1))\n",
    "ax1.text(3.2, 375, '(a$_1$)', fontsize=24)\n",
    "#ax1.set_xlabel(r'${d_\\mathrm{cut}}$ (${\\mathrm{\\AA}}$)',fontsize=24)\n",
    "ax1.set_ylabel(r'$\\kappa$ (Wm$^{-1}$K$^{-1}$)', fontsize=24)\n",
    "ax1.grid()\n",
    "plt.tight_layout()\n",
    "\n",
    "ax2=fig1.add_subplot(3,2,2)\n",
    "ax2.plot(GaN_data.index, np.abs(GaN_data.values-GaN_data.values[-1])*100.0/GaN_data.values, 'ro-',\n",
    "           markersize=12, label = 'GaN')\n",
    "ax2.legend(loc=\"upper right\")\n",
    "plt.xticks(np.arange(4, 9, 1))\n",
    "ax2.text(3.4, 12, '(a$_2$)', fontsize=24)\n",
    "#ax2.set_xlabel(r'${d_\\mathrm{cut}}$ (${\\mathrm{\\AA}}$)',fontsize=24)\n",
    "ax2.set_ylabel('${|\\Delta \\kappa|}$/${\\kappa_0}$ ($\\%$)',fontsize=24)\n",
    "ax2.grid()\n",
    "plt.tight_layout()\n",
    "\n",
    "ax3=fig1.add_subplot(3,2,3)\n",
    "ax3.plot(SrO_data.index, SrO_data.values, 'bo-', markersize=10, label = 'SrO')\n",
    "ax3.legend(loc=\"upper left\")\n",
    "plt.xticks(np.arange(4, 9, 1))\n",
    "ax3.text(3.2, 8.8, '(b$_1$)', fontsize=24)\n",
    "#ax3.set_xlabel(r'${d_\\mathrm{cut}}$ (${\\mathrm{\\AA}}$)',fontsize=24)\n",
    "ax3.set_ylabel(r'$\\kappa$ (Wm$^{-1}$K$^{-1}$)', fontsize=24)\n",
    "ax3.grid()\n",
    "plt.tight_layout()\n",
    "\n",
    "ax4=fig1.add_subplot(3,2,4)\n",
    "ax4.plot(SrO_data.index, np.abs(SrO_data.values-SrO_data.values[-1])*100.0/SrO_data.values, 'bo-',\n",
    "           markersize=12, label = 'SrO')\n",
    "ax4.legend(loc=\"upper right\")\n",
    "plt.xticks(np.arange(4, 9, 1))\n",
    "ax4.text(3.4, 12, '(b$_2$)', fontsize=24)\n",
    "#ax4.set_xlabel(r'${d_\\mathrm{cut}}$ (${\\mathrm{\\AA}}$)',fontsize=24)\n",
    "ax4.set_ylabel('${|\\Delta \\kappa|}$/${\\kappa_0}$ ($\\%$)',fontsize=24)\n",
    "ax4.grid()\n",
    "plt.tight_layout()\n",
    "\n",
    "ax5=fig1.add_subplot(3,2,5)\n",
    "ax5.plot(NaF_data.index, NaF_data.values, 'go-', markersize=10, label = 'NaF')\n",
    "ax5.legend(loc=\"upper left\")\n",
    "plt.xticks(np.arange(4, 9, 1))\n",
    "ax5.text(3.15, 21.3, '(c$_1$)', fontsize=24)\n",
    "ax5.set_xlabel(r'${d_\\mathrm{cut}}$ (${\\mathrm{\\AA}}$)',fontsize=24)\n",
    "ax5.set_ylabel(r'$\\kappa$ (Wm$^{-1}$K$^{-1}$)', fontsize=24)\n",
    "ax5.grid()\n",
    "plt.tight_layout()\n",
    "\n",
    "ax6=fig1.add_subplot(3,2,6)\n",
    "ax6.plot(NaF_data.index, np.abs(NaF_data.values-NaF_data.values[-1])*100.0/NaF_data.values, 'go-',\n",
    "           markersize=12, label = 'NaF')\n",
    "ax6.legend(loc=\"upper right\")\n",
    "plt.xticks(np.arange(4, 9, 1))\n",
    "ax6.text(3.35, 0.9, '(c$_2$)', fontsize=24)\n",
    "ax6.set_xlabel(r'${d_\\mathrm{cut}}$ (${\\mathrm{\\AA}}$)',fontsize=24)\n",
    "ax6.set_ylabel('${|\\Delta \\kappa|}$/${\\kappa_0}$ ($\\%$)',fontsize=24)\n",
    "ax6.grid()\n",
    "#plt.gca().get_legend().remove() This will remove the legend all\n",
    "plt.tight_layout()\n",
    "\n",
    "pp1 = PdfPages('./LTC-GaN-SrO-NaF.pdf')\n",
    "pp1.savefig(fig1)\n",
    "pp1.close()"
   ]
  },
  {
   "cell_type": "code",
   "execution_count": 148,
   "metadata": {},
   "outputs": [
    {
     "data": {
      "text/plain": [
       "1"
      ]
     },
     "execution_count": 148,
     "metadata": {},
     "output_type": "execute_result"
    }
   ],
   "source": [
    "np.abs(1-2)"
   ]
  },
  {
   "cell_type": "markdown",
   "metadata": {},
   "source": [
    "## Simple tutorial of Pandas plot "
   ]
  },
  {
   "cell_type": "code",
   "execution_count": 7,
   "metadata": {},
   "outputs": [
    {
     "data": {
      "text/plain": [
       "<matplotlib.axes._subplots.AxesSubplot at 0x10c68fc50>"
      ]
     },
     "execution_count": 7,
     "metadata": {},
     "output_type": "execute_result"
    },
    {
     "data": {
      "image/png": "[encoded data removed]",
      "text/plain": [
       "<matplotlib.figure.Figure at 0x105860f60>"
      ]
     },
     "metadata": {},
     "output_type": "display_data"
    }
   ],
   "source": [
    "%matplotlib inline\n",
    "import pandas as pd\n",
    "from pandas import DataFrame\n",
    "from pandas import Series\n",
    "import numpy as np\n",
    "\n",
    "s = Series(np.random.randn(10).cumsum(), index= np.arange(0,100,10))\n",
    "s.plot()"
   ]
  },
  {
   "cell_type": "code",
   "execution_count": 8,
   "metadata": {},
   "outputs": [
    {
     "data": {
      "text/plain": [
       "0    -0.514082\n",
       "10    0.758156\n",
       "20   -1.242451\n",
       "30   -2.072440\n",
       "40   -1.998019\n",
       "50   -2.474126\n",
       "60   -1.929989\n",
       "70   -3.092763\n",
       "80   -2.586300\n",
       "90   -1.393270\n",
       "dtype: float64"
      ]
     },
     "execution_count": 8,
     "metadata": {},
     "output_type": "execute_result"
    }
   ],
   "source": [
    "s"
   ]
  },
  {
   "cell_type": "code",
   "execution_count": null,
   "metadata": {},
   "outputs": [],
   "source": []
  },
  {
   "cell_type": "code",
   "execution_count": null,
   "metadata": {},
   "outputs": [],
   "source": []
  },
  {
   "cell_type": "code",
   "execution_count": null,
   "metadata": {},
   "outputs": [],
   "source": []
  },
  {
   "cell_type": "code",
   "execution_count": null,
   "metadata": {},
   "outputs": [],
   "source": []
  },
  {
   "cell_type": "code",
   "execution_count": null,
   "metadata": {},
   "outputs": [],
   "source": []
  },
  {
   "cell_type": "code",
   "execution_count": null,
   "metadata": {},
   "outputs": [],
   "source": []
  },
  {
   "cell_type": "code",
   "execution_count": null,
   "metadata": {},
   "outputs": [],
   "source": []
  },
  {
   "cell_type": "code",
   "execution_count": 35,
   "metadata": {},
   "outputs": [
    {
     "data": {
      "text/plain": [
       "81.860504400000011"
      ]
     },
     "execution_count": 35,
     "metadata": {},
     "output_type": "execute_result"
    }
   ],
   "source": [
    "job_df.iloc[0,2]"
   ]
  },
  {
   "cell_type": "raw",
   "metadata": {},
   "source": [
    "In [1]: n = load_node(197320)\n",
    "\n",
    "In [2]: n.get_inputs_dict\n",
    "Out[2]: <bound method WorkCalculation.get_inputs_dict of <WorkCalculation: uuid: ff2f3eb9-e893-45af-b891-c8f07b164b05 (pk: 197320)>>\n",
    "\n",
    "In [3]: n.get_inputs_dict()\n",
    "Out[3]:\n",
    "{u'atol': 0.1,\n",
    " u'chunks': 60,\n",
    " u'es_settings': <ParameterData: uuid: d80cdc7e-78d2-4746-8eb5-8d0ab8680c7f (pk: 197313)>,\n",
    " u'gp_chunks': 1,\n",
    " u'initial_cutoff': 4.0,\n",
    " u'optimize': False,\n",
    " u'ph_settings': <ParameterData: uuid: 2fbb4f11-dc9f-43f9-9359-3821538e7a49 (pk: 197318)>,\n",
    " u'pressure': 0.0,\n",
    " u'rtol': 0.3,\n",
    " u'step': 1.0,\n",
    " u'structure': <StructureData: uuid: 951cbd09-355c-4969-8d37-8639e3b46ffa (pk: 80917)>,\n",
    " u'use_nac': True}\n",
    "In [4]: n.get_outputs_dict()\n",
    "Out[4]:\n",
    "{u'CALL': <WorkCalculation: uuid: 05bff0b6-1f37-4835-aa89-c9d0571b5c00 (pk: 197322)>,\n",
    " u'CALL_197322': <WorkCalculation: uuid: 05bff0b6-1f37-4835-aa89-c9d0571b5c00 (pk: 197322)>,\n",
    " u'CALL_197371': <WorkCalculation: uuid: b8b0e21e-626b-473c-8623-2caba9f9b6f6 (pk: 197371)>,\n",
    " u'CALL_197770': <Phono3pyCalculation: uuid: 66044205-8a23-4242-8a19-39186781d7f9 (pk: 197770)>,\n",
    " u'CALL_197776': <WorkCalculation: uuid: 1436dc9b-e2ad-4287-b429-db2a11071cf1 (pk: 197776)>,\n",
    " u'CALL_198105': <Phono3pyCalculation: uuid: 46438da5-be36-4bc4-bfba-cbb650d1465f (pk: 198105)>,"
   ]
  },
  {
   "cell_type": "markdown",
   "metadata": {},
   "source": [
    "# Convergence criteria in lattice thermal conductivity calculations\n",
    "\n",
    "In our code, criteria is achived by using \"numpy.allclose\" function. \n",
    "The usage of \"numpy.allclose\": numpy.allclose(a, b, rtol=1e-05, atol=1e-08, equal_nan=False). Here, a and b are numpy arrarys. The relative difference (rtol * abs(b)) and the absolute difference atol are added together to compare against the absolute difference between a and b.\n",
    "\n",
    "Specifically in our thermal conductivity calculations, a and b are replaced with current kappa numpy.ndarray and previous kappa numpy.ndarray, respectively. rtol and atol are chosen to be 0.3 and 0.1 respectively. \n",
    "\n",
    "code segment:\n",
    "\n",
    "is_converged = np.allclose(self.ctx.conductivity, self.ctx.prev_conductivity,\n",
    "                                           rtol=float(self.inputs.rtol),\n",
    "                                           atol=float(self.inputs.atol))"
   ]
  },
  {
   "cell_type": "markdown",
   "metadata": {},
   "source": [
    "## References:\n",
    "\n",
    "[1. Using iloc, loc, & ix to select rows and columns in Pandas DataFrames](https://www.shanelynn.ie/select-pandas-dataframe-rows-and-columns-using-iloc-loc-and-ix/)\n",
    "\n",
    "[2. Phonon database at 2017-06-21](http://phonondb.mtl.kyoto-u.ac.jp/ph20170621/index.html)\n",
    "\n",
    "[3. numpy.allclose at SciPy.org](https://docs.scipy.org/doc/numpy-1.13.0/reference/generated/numpy.allclose.html)\n",
    "\n",
    "[4. Reading and Writing JSON to a File in Python](http://stackabuse.com/reading-and-writing-json-to-a-file-in-python/)"
   ]
  },
  {
   "cell_type": "code",
   "execution_count": null,
   "metadata": {},
   "outputs": [],
   "source": []
  }
 ],
 "metadata": {
  "kernelspec": {
   "display_name": "Python 3",
   "language": "python",
   "name": "python3"
  },
  "language_info": {
   "codemirror_mode": {
    "name": "ipython",
    "version": 3
   },
   "file_extension": ".py",
   "mimetype": "text/x-python",
   "name": "python",
   "nbconvert_exporter": "python",
   "pygments_lexer": "ipython3",
   "version": "3.6.3"
  }
 },
 "nbformat": 4,
 "nbformat_minor": 2
}
