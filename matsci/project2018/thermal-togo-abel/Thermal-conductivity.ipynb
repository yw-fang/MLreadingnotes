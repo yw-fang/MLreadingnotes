{
 "cells": [
  {
   "cell_type": "markdown",
   "metadata": {},
   "source": [
    "# Preparing the launch file"
   ]
  },
  {
   "cell_type": "code",
   "execution_count": 1,
   "metadata": {},
   "outputs": [],
   "source": [
    "import numpy as np\n",
    "import pandas as pd\n"
   ]
  },
  {
   "cell_type": "code",
   "execution_count": 108,
   "metadata": {},
   "outputs": [
    {
     "name": "stdout",
     "output_type": "stream",
     "text": [
      "[      4.8786175399999996    0.0000000000000000    0.0000000000000000\n",
      " ],\n",
      "[     -2.4393087699999998    4.2250067299999996    0.0000000000000000\n",
      " ],\n",
      "[      0.0000000000000000    0.0000000000000000   12.5104310900000009\n",
      " ],\n"
     ]
    }
   ],
   "source": [
    "#pd.read_csv(\"./source-db/mp-160/POSCAR-unitcell\")\n",
    "\n",
    "pos_path = './source-db/mp-160/POSCAR-unitcell'\n",
    "sample_path = './launch_thermal_si.py'\n",
    "pos_file = open(pos_path,\"r\")\n",
    "\n",
    "scaled_coordinates=open('./source-db/mp-160/scaled_coordinates.dat', \"w\")\n",
    "linenumber=0\n",
    "for line in pos_file.readlines():\n",
    "    linenumber=linenumber+1\n",
    "    if 3<=linenumber<=5:\n",
    "        print(\"[\",line,\"],\")\n",
    "\n",
    "\n",
    "    if linenumber>=9:\n",
    "        scaled_coordinates.write(\"(\"+line+\"),\\n\")\n",
    "    \n",
    "\n",
    "scaled_coordinates.close()"
   ]
  },
  {
   "cell_type": "code",
   "execution_count": 6,
   "metadata": {},
   "outputs": [],
   "source": [
    "\n"
   ]
  },
  {
   "cell_type": "markdown",
   "metadata": {},
   "source": [
    "# Parallel phono3py calculations using openMP"
   ]
  },
  {
   "cell_type": "markdown",
   "metadata": {},
   "source": [
    "Togo-sensei found my phono3py in boston-lab did not use the parallel thread. I tried restalled phonopy and phono3py for several times, but didn' figure it out.\n",
    "\n",
    "Today, after checking my .bashrc file line by line, I found the problem is caused my setting for the number of thread.\n",
    "\n",
    "export OMP_NUM_THREADS = 1\n",
    "\n",
    "After removing this line, and source .bashrc. The threads can be parallel."
   ]
  },
  {
   "cell_type": "markdown",
   "metadata": {},
   "source": [
    "## An example to get lattice thermal conductivity\n",
    "\n",
    "be sure you have setup a virtual environment for aiida, and have a work job with its pk number (e.g. 186270 in my example)"
   ]
  },
  {
   "cell_type": "code",
   "execution_count": null,
   "metadata": {},
   "outputs": [],
   "source": [
    "open verdi shell"
   ]
  },
  {
   "cell_type": "code",
   "execution_count": null,
   "metadata": {},
   "outputs": [],
   "source": [
    "n3 = load_node(186270)"
   ]
  },
  {
   "cell_type": "code",
   "execution_count": null,
   "metadata": {},
   "outputs": [],
   "source": [
    "n3.out.kappa"
   ]
  },
  {
   "cell_type": "code",
   "execution_count": null,
   "metadata": {},
   "outputs": [],
   "source": [
    "<ArrayData: uuid: af240b4c-29ad-4c80-8691-a52a65d1587d (pk: 187185)>"
   ]
  },
  {
   "cell_type": "code",
   "execution_count": null,
   "metadata": {},
   "outputs": [],
   "source": [
    "n3.out.kappa.get_arraynames()"
   ]
  },
  {
   "cell_type": "code",
   "execution_count": null,
   "metadata": {},
   "outputs": [],
   "source": [
    "Out[4]:\n",
    "[u'group_velocity',\n",
    " u'temperature',\n",
    " u'mesh',\n",
    " u'heat_capacity',\n",
    " u'frequency',\n",
    " u'gv_by_gv',\n",
    " u'gamma',\n",
    " u'weight',\n",
    " u'kappa',\n",
    " u'kappa_unit_conversion',\n",
    " u'qpoint',\n",
    " \n",
    " u'mode_kappa']"
   ]
  },
  {
   "cell_type": "code",
   "execution_count": null,
   "metadata": {},
   "outputs": [],
   "source": [
    "f = n3.out.kappa"
   ]
  },
  {
   "cell_type": "code",
   "execution_count": null,
   "metadata": {},
   "outputs": [],
   "source": [
    "f.get_array('kappa')[30] #this will print the ltc tensors"
   ]
  },
  {
   "cell_type": "code",
   "execution_count": null,
   "metadata": {},
   "outputs": [],
   "source": []
  },
  {
   "cell_type": "code",
   "execution_count": null,
   "metadata": {},
   "outputs": [],
   "source": []
  },
  {
   "cell_type": "markdown",
   "metadata": {},
   "source": [
    "# output to json file example"
   ]
  },
  {
   "cell_type": "code",
   "execution_count": 3,
   "metadata": {},
   "outputs": [],
   "source": [
    "import json\n",
    "data = {\n",
    "    'name': 'TiO2',\n",
    "    'ID': 'mp-100',\n",
    "    'ltc': [100,200]\n",
    "}\n",
    "json_str = json.dumps(data)"
   ]
  },
  {
   "cell_type": "code",
   "execution_count": 4,
   "metadata": {},
   "outputs": [
    {
     "data": {
      "text/plain": [
       "'{\"name\": \"TiO2\", \"ID\": \"mp-100\", \"ltc\": [100, 200]}'"
      ]
     },
     "execution_count": 4,
     "metadata": {},
     "output_type": "execute_result"
    }
   ],
   "source": [
    "json_str"
   ]
  },
  {
   "cell_type": "code",
   "execution_count": null,
   "metadata": {},
   "outputs": [],
   "source": [
    "70325"
   ]
  },
  {
   "cell_type": "code",
   "execution_count": null,
   "metadata": {},
   "outputs": [],
   "source": []
  },
  {
   "cell_type": "code",
   "execution_count": 41,
   "metadata": {},
   "outputs": [
    {
     "data": {
      "text/plain": [
       "<module 'json' from '/home/ywfang/miniconda3/envs/aiida/lib/python2.7/json/__init__.pyc'>"
      ]
     },
     "execution_count": 41,
     "metadata": {},
     "output_type": "execute_result"
    }
   ],
   "source": []
  },
  {
   "cell_type": "markdown",
   "metadata": {},
   "source": [
    "# A practical example"
   ]
  },
  {
   "cell_type": "code",
   "execution_count": 2,
   "metadata": {},
   "outputs": [],
   "source": [
    "import json\n",
    "from pymatgen.matproj.rest import MPRester\n",
    "import os\n",
    "data = {}\n",
    "#structure_id is the ID of the structure in Materials Project\n",
    "\n",
    "\n",
    "raster = MPRester(os.environ['PMG_MAPI_KEY'])\n",
    "def basic_info_from_mp(structure_id):\n",
    "    material_name = raster.query(structure_id,['pretty_formula'])\n",
    "#    mg_structure = raster.get_structure_by_material_id(structure_id)\n",
    "#    material_name = mg_structure.formula.replace('1', '').replace(' ', '')\n",
    "    return(structure_id, material_name[0]['pretty_formula'])\n",
    "\n",
    "data['compound'] = []\n",
    "data['compound'].append({\n",
    "    'structure_id': 'mp-149',\n",
    "    'material_name': basic_info_from_mp('mp-149')[1]\n",
    "})\n",
    "\n",
    "with open('data.json', 'w') as outfile:\n",
    "    json.dump(data, outfile)"
   ]
  },
  {
   "cell_type": "code",
   "execution_count": 3,
   "metadata": {},
   "outputs": [
    {
     "name": "stdout",
     "output_type": "stream",
     "text": [
      "{\"compound\": [{\"structure_id\": \"mp-149\", \"material_name\": \"Si\"}]}"
     ]
    }
   ],
   "source": [
    "%cat data.json"
   ]
  },
  {
   "cell_type": "code",
   "execution_count": 86,
   "metadata": {},
   "outputs": [],
   "source": [
    "import json\n",
    "from pymatgen.matproj.rest import MPRester\n",
    "import os\n",
    "import pandas as pd\n",
    "\n",
    "data = {}\n",
    "#structure_id is the ID of the structure in Materials Project\n",
    "\n",
    "\n",
    "raster = MPRester(os.environ['PMG_MAPI_KEY'])\n",
    "def basic_info_from_mp(structure_id):\n",
    "    material_name = raster.query(structure_id,['pretty_formula'])\n",
    "    return(structure_id, material_name[0]['pretty_formula'])\n",
    "\n",
    "job_df = pd.read_csv('./finished_jobs.txt')\n",
    "structure_id_series = job_df['structure_id']\n",
    "data['compound'] = []\n",
    "for i in job_df['structure_id'].tolist():\n",
    "    data['compound'].append({\n",
    "        'structure_id': i,\n",
    "        'material_name': basic_info_from_mp(i)[1]\n",
    "    })\n",
    "\n",
    "    \n",
    "# structure_id_list = ['mp-149','mp-1000']\n",
    "# data['compound'] = []\n",
    "# for i in structure_id_list:\n",
    "#     data['compound'].append({\n",
    "#         'structure_id': i,\n",
    "#         'material_name': basic_info_from_mp(i)[1]\n",
    "#     })\n",
    "\n",
    "\n",
    "with open('data.json', 'w') as outfile:\n",
    "    json.dump(data, outfile)"
   ]
  },
  {
   "cell_type": "code",
   "execution_count": 57,
   "metadata": {},
   "outputs": [],
   "source": [
    "%cat data.json"
   ]
  },
  {
   "cell_type": "code",
   "execution_count": null,
   "metadata": {},
   "outputs": [],
   "source": [
    "#read data.json and convert it to a DataFrame\n",
    "import pandas as pd\n",
    "from pandas import DataFrame\n",
    "import json\n",
    "with open('data.json', 'r') as outfile:\n",
    "    newdata=json.load(outfile)['compound']\n",
    "df=DataFrame(newdata)\n",
    "df"
   ]
  },
  {
   "cell_type": "code",
   "execution_count": null,
   "metadata": {},
   "outputs": [],
   "source": []
  },
  {
   "cell_type": "code",
   "execution_count": null,
   "metadata": {},
   "outputs": [],
   "source": []
  },
  {
   "cell_type": "code",
   "execution_count": null,
   "metadata": {},
   "outputs": [],
   "source": []
  },
  {
   "cell_type": "raw",
   "metadata": {},
   "source": [
    "In [1]: n = load_node(197320)\n",
    "\n",
    "In [2]: n.get_inputs_dict\n",
    "Out[2]: <bound method WorkCalculation.get_inputs_dict of <WorkCalculation: uuid: ff2f3eb9-e893-45af-b891-c8f07b164b05 (pk: 197320)>>\n",
    "\n",
    "In [3]: n.get_inputs_dict()\n",
    "Out[3]:\n",
    "{u'atol': 0.1,\n",
    " u'chunks': 60,\n",
    " u'es_settings': <ParameterData: uuid: d80cdc7e-78d2-4746-8eb5-8d0ab8680c7f (pk: 197313)>,\n",
    " u'gp_chunks': 1,\n",
    " u'initial_cutoff': 4.0,\n",
    " u'optimize': False,\n",
    " u'ph_settings': <ParameterData: uuid: 2fbb4f11-dc9f-43f9-9359-3821538e7a49 (pk: 197318)>,\n",
    " u'pressure': 0.0,\n",
    " u'rtol': 0.3,\n",
    " u'step': 1.0,\n",
    " u'structure': <StructureData: uuid: 951cbd09-355c-4969-8d37-8639e3b46ffa (pk: 80917)>,\n",
    " u'use_nac': True}\n",
    "In [4]: n.get_outputs_dict()\n",
    "Out[4]:\n",
    "{u'CALL': <WorkCalculation: uuid: 05bff0b6-1f37-4835-aa89-c9d0571b5c00 (pk: 197322)>,\n",
    " u'CALL_197322': <WorkCalculation: uuid: 05bff0b6-1f37-4835-aa89-c9d0571b5c00 (pk: 197322)>,\n",
    " u'CALL_197371': <WorkCalculation: uuid: b8b0e21e-626b-473c-8623-2caba9f9b6f6 (pk: 197371)>,\n",
    " u'CALL_197770': <Phono3pyCalculation: uuid: 66044205-8a23-4242-8a19-39186781d7f9 (pk: 197770)>,\n",
    " u'CALL_197776': <WorkCalculation: uuid: 1436dc9b-e2ad-4287-b429-db2a11071cf1 (pk: 197776)>,\n",
    " u'CALL_198105': <Phono3pyCalculation: uuid: 46438da5-be36-4bc4-bfba-cbb650d1465f (pk: 198105)>,"
   ]
  }
 ],
 "metadata": {
  "kernelspec": {
   "display_name": "Python 2",
   "language": "python",
   "name": "python2"
  },
  "language_info": {
   "codemirror_mode": {
    "name": "ipython",
    "version": 2
   },
   "file_extension": ".py",
   "mimetype": "text/x-python",
   "name": "python",
   "nbconvert_exporter": "python",
   "pygments_lexer": "ipython2",
   "version": "2.7.14"
  }
 },
 "nbformat": 4,
 "nbformat_minor": 2
}
