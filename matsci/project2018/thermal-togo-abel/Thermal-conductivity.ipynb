{
 "cells": [
  {
   "cell_type": "markdown",
   "metadata": {},
   "source": [
    "# Preparing the launch file"
   ]
  },
  {
   "cell_type": "code",
   "execution_count": 1,
   "metadata": {},
   "outputs": [],
   "source": [
    "import numpy as np\n",
    "import pandas as pd\n"
   ]
  },
  {
   "cell_type": "code",
   "execution_count": 108,
   "metadata": {},
   "outputs": [
    {
     "name": "stdout",
     "output_type": "stream",
     "text": [
      "[      4.8786175399999996    0.0000000000000000    0.0000000000000000\n",
      " ],\n",
      "[     -2.4393087699999998    4.2250067299999996    0.0000000000000000\n",
      " ],\n",
      "[      0.0000000000000000    0.0000000000000000   12.5104310900000009\n",
      " ],\n"
     ]
    }
   ],
   "source": [
    "#pd.read_csv(\"./source-db/mp-160/POSCAR-unitcell\")\n",
    "\n",
    "pos_path = './source-db/mp-160/POSCAR-unitcell'\n",
    "sample_path = './launch_thermal_si.py'\n",
    "pos_file = open(pos_path,\"r\")\n",
    "\n",
    "scaled_coordinates=open('./source-db/mp-160/scaled_coordinates.dat', \"w\")\n",
    "linenumber=0\n",
    "for line in pos_file.readlines():\n",
    "    linenumber=linenumber+1\n",
    "    if 3<=linenumber<=5:\n",
    "        print(\"[\",line,\"],\")\n",
    "\n",
    "\n",
    "    if linenumber>=9:\n",
    "        scaled_coordinates.write(\"(\"+line+\"),\\n\")\n",
    "    \n",
    "\n",
    "scaled_coordinates.close()"
   ]
  },
  {
   "cell_type": "code",
   "execution_count": null,
   "metadata": {},
   "outputs": [],
   "source": []
  }
 ],
 "metadata": {
  "kernelspec": {
   "display_name": "Python 3",
   "language": "python",
   "name": "python3"
  },
  "language_info": {
   "codemirror_mode": {
    "name": "ipython",
    "version": 3
   },
   "file_extension": ".py",
   "mimetype": "text/x-python",
   "name": "python",
   "nbconvert_exporter": "python",
   "pygments_lexer": "ipython3",
   "version": "3.6.3"
  }
 },
 "nbformat": 4,
 "nbformat_minor": 2
}
