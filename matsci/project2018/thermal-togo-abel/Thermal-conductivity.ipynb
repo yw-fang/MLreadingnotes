{
 "cells": [
  {
   "cell_type": "markdown",
   "metadata": {},
   "source": [
    "# Preparing the launch file"
   ]
  },
  {
   "cell_type": "code",
   "execution_count": 1,
   "metadata": {},
   "outputs": [],
   "source": [
    "import numpy as np\n",
    "import pandas as pd\n"
   ]
  },
  {
   "cell_type": "code",
   "execution_count": 108,
   "metadata": {},
   "outputs": [
    {
     "name": "stdout",
     "output_type": "stream",
     "text": [
      "[      4.8786175399999996    0.0000000000000000    0.0000000000000000\n",
      " ],\n",
      "[     -2.4393087699999998    4.2250067299999996    0.0000000000000000\n",
      " ],\n",
      "[      0.0000000000000000    0.0000000000000000   12.5104310900000009\n",
      " ],\n"
     ]
    }
   ],
   "source": [
    "#pd.read_csv(\"./source-db/mp-160/POSCAR-unitcell\")\n",
    "\n",
    "pos_path = './source-db/mp-160/POSCAR-unitcell'\n",
    "sample_path = './launch_thermal_si.py'\n",
    "pos_file = open(pos_path,\"r\")\n",
    "\n",
    "scaled_coordinates=open('./source-db/mp-160/scaled_coordinates.dat', \"w\")\n",
    "linenumber=0\n",
    "for line in pos_file.readlines():\n",
    "    linenumber=linenumber+1\n",
    "    if 3<=linenumber<=5:\n",
    "        print(\"[\",line,\"],\")\n",
    "\n",
    "\n",
    "    if linenumber>=9:\n",
    "        scaled_coordinates.write(\"(\"+line+\"),\\n\")\n",
    "    \n",
    "\n",
    "scaled_coordinates.close()"
   ]
  },
  {
   "cell_type": "code",
   "execution_count": 6,
   "metadata": {},
   "outputs": [],
   "source": [
    "\n"
   ]
  },
  {
   "cell_type": "markdown",
   "metadata": {},
   "source": [
    "# Parallel phono3py calculations using openMP"
   ]
  },
  {
   "cell_type": "markdown",
   "metadata": {},
   "source": [
    "Togo-sensei found my phono3py in boston-lab did not use the parallel thread. I tried restalled phonopy and phono3py for several times, but didn' figure it out.\n",
    "\n",
    "Today, after checking my .bashrc file line by line, I found the problem is caused my setting for the number of thread.\n",
    "\n",
    "export OMP_NUM_THREADS = 1\n",
    "\n",
    "After removing this line, and source .bashrc. The threads can be parallel."
   ]
  },
  {
   "cell_type": "markdown",
   "metadata": {},
   "source": [
    "## An example to get lattice thermal conductivity\n",
    "\n",
    "be sure you have setup a virtual environment for aiida, and have a work job with its pk number (e.g. 186270 in my example)"
   ]
  },
  {
   "cell_type": "code",
   "execution_count": null,
   "metadata": {},
   "outputs": [],
   "source": [
    "open verdi shell"
   ]
  },
  {
   "cell_type": "code",
   "execution_count": null,
   "metadata": {},
   "outputs": [],
   "source": [
    "n3 = load_node(186270)"
   ]
  },
  {
   "cell_type": "code",
   "execution_count": null,
   "metadata": {},
   "outputs": [],
   "source": [
    "n3.out.kappa"
   ]
  },
  {
   "cell_type": "code",
   "execution_count": null,
   "metadata": {},
   "outputs": [],
   "source": [
    "<ArrayData: uuid: af240b4c-29ad-4c80-8691-a52a65d1587d (pk: 187185)>"
   ]
  },
  {
   "cell_type": "code",
   "execution_count": null,
   "metadata": {},
   "outputs": [],
   "source": [
    "n3.out.kappa.get_arraynames()"
   ]
  },
  {
   "cell_type": "code",
   "execution_count": null,
   "metadata": {},
   "outputs": [],
   "source": [
    "Out[4]:\n",
    "[u'group_velocity',\n",
    " u'temperature',\n",
    " u'mesh',\n",
    " u'heat_capacity',\n",
    " u'frequency',\n",
    " u'gv_by_gv',\n",
    " u'gamma',\n",
    " u'weight',\n",
    " u'kappa',\n",
    " u'kappa_unit_conversion',\n",
    " u'qpoint',\n",
    " \n",
    " u'mode_kappa']"
   ]
  },
  {
   "cell_type": "code",
   "execution_count": null,
   "metadata": {},
   "outputs": [],
   "source": [
    "f = n3.out.kappa"
   ]
  },
  {
   "cell_type": "code",
   "execution_count": null,
   "metadata": {},
   "outputs": [],
   "source": [
    "f.get_array('kappa')[30] #this will print the ltc tensors"
   ]
  },
  {
   "cell_type": "code",
   "execution_count": null,
   "metadata": {},
   "outputs": [],
   "source": []
  },
  {
   "cell_type": "code",
   "execution_count": null,
   "metadata": {},
   "outputs": [],
   "source": []
  },
  {
   "cell_type": "markdown",
   "metadata": {},
   "source": [
    "# output to json file example"
   ]
  },
  {
   "cell_type": "code",
   "execution_count": 3,
   "metadata": {},
   "outputs": [],
   "source": [
    "import json\n",
    "data = {\n",
    "    'name': 'TiO2',\n",
    "    'ID': 'mp-100',\n",
    "    'ltc': [100,200]\n",
    "}\n",
    "json_str = json.dumps(data)"
   ]
  },
  {
   "cell_type": "code",
   "execution_count": 4,
   "metadata": {},
   "outputs": [
    {
     "data": {
      "text/plain": [
       "'{\"name\": \"TiO2\", \"ID\": \"mp-100\", \"ltc\": [100, 200]}'"
      ]
     },
     "execution_count": 4,
     "metadata": {},
     "output_type": "execute_result"
    }
   ],
   "source": [
    "json_str"
   ]
  },
  {
   "cell_type": "code",
   "execution_count": null,
   "metadata": {},
   "outputs": [],
   "source": []
  }
 ],
 "metadata": {
  "kernelspec": {
   "display_name": "Python 3",
   "language": "python",
   "name": "python3"
  },
  "language_info": {
   "codemirror_mode": {
    "name": "ipython",
    "version": 3
   },
   "file_extension": ".py",
   "mimetype": "text/x-python",
   "name": "python",
   "nbconvert_exporter": "python",
   "pygments_lexer": "ipython3",
   "version": "3.6.3"
  }
 },
 "nbformat": 4,
 "nbformat_minor": 2
}
