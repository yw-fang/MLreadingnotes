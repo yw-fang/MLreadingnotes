{
 "cells": [
  {
   "cell_type": "markdown",
   "metadata": {},
   "source": [
    "# Preparing the launch file"
   ]
  },
  {
   "cell_type": "code",
   "execution_count": 1,
   "metadata": {},
   "outputs": [],
   "source": [
    "import numpy as np\n",
    "import pandas as pd\n"
   ]
  },
  {
   "cell_type": "code",
   "execution_count": 108,
   "metadata": {},
   "outputs": [
    {
     "name": "stdout",
     "output_type": "stream",
     "text": [
      "[      4.8786175399999996    0.0000000000000000    0.0000000000000000\n",
      " ],\n",
      "[     -2.4393087699999998    4.2250067299999996    0.0000000000000000\n",
      " ],\n",
      "[      0.0000000000000000    0.0000000000000000   12.5104310900000009\n",
      " ],\n"
     ]
    }
   ],
   "source": [
    "#pd.read_csv(\"./source-db/mp-160/POSCAR-unitcell\")\n",
    "\n",
    "pos_path = './source-db/mp-160/POSCAR-unitcell'\n",
    "sample_path = './launch_thermal_si.py'\n",
    "pos_file = open(pos_path,\"r\")\n",
    "\n",
    "scaled_coordinates=open('./source-db/mp-160/scaled_coordinates.dat', \"w\")\n",
    "linenumber=0\n",
    "for line in pos_file.readlines():\n",
    "    linenumber=linenumber+1\n",
    "    if 3<=linenumber<=5:\n",
    "        print(\"[\",line,\"],\")\n",
    "\n",
    "\n",
    "    if linenumber>=9:\n",
    "        scaled_coordinates.write(\"(\"+line+\"),\\n\")\n",
    "    \n",
    "\n",
    "scaled_coordinates.close()"
   ]
  },
  {
   "cell_type": "code",
   "execution_count": 6,
   "metadata": {},
   "outputs": [],
   "source": [
    "\n"
   ]
  },
  {
   "cell_type": "markdown",
   "metadata": {},
   "source": [
    "# Parallel phono3py calculations using openMP"
   ]
  },
  {
   "cell_type": "markdown",
   "metadata": {},
   "source": [
    "Togo-sensei found my phono3py in boston-lab did not use the parallel thread. I tried restalled phonopy and phono3py for several times, but didn' figure it out.\n",
    "\n",
    "Today, after checking my .bashrc file line by line, I found the problem is caused my setting for the number of thread.\n",
    "\n",
    "export OMP_NUM_THREADS = 1\n",
    "\n",
    "After removing this line, and source .bashrc. The threads can be parallel."
   ]
  },
  {
   "cell_type": "markdown",
   "metadata": {},
   "source": [
    "## An example to get lattice thermal conductivity\n",
    "\n",
    "be sure you have setup a virtual environment for aiida, and have a work job with its pk number (e.g. 186270 in my example)"
   ]
  },
  {
   "cell_type": "code",
   "execution_count": null,
   "metadata": {},
   "outputs": [],
   "source": [
    "open verdi shell"
   ]
  },
  {
   "cell_type": "code",
   "execution_count": null,
   "metadata": {},
   "outputs": [],
   "source": [
    "n3 = load_node(186270)"
   ]
  },
  {
   "cell_type": "code",
   "execution_count": null,
   "metadata": {},
   "outputs": [],
   "source": [
    "n3.out.kappa"
   ]
  },
  {
   "cell_type": "code",
   "execution_count": null,
   "metadata": {},
   "outputs": [],
   "source": [
    "<ArrayData: uuid: af240b4c-29ad-4c80-8691-a52a65d1587d (pk: 187185)>"
   ]
  },
  {
   "cell_type": "code",
   "execution_count": null,
   "metadata": {},
   "outputs": [],
   "source": [
    "n3.out.kappa.get_arraynames()"
   ]
  },
  {
   "cell_type": "code",
   "execution_count": null,
   "metadata": {},
   "outputs": [],
   "source": [
    "Out[4]:\n",
    "[u'group_velocity',\n",
    " u'temperature',\n",
    " u'mesh',\n",
    " u'heat_capacity',\n",
    " u'frequency',\n",
    " u'gv_by_gv',\n",
    " u'gamma',\n",
    " u'weight',\n",
    " u'kappa',\n",
    " u'kappa_unit_conversion',\n",
    " u'qpoint',\n",
    " \n",
    " u'mode_kappa']"
   ]
  },
  {
   "cell_type": "code",
   "execution_count": null,
   "metadata": {},
   "outputs": [],
   "source": [
    "f = n3.out.kappa"
   ]
  },
  {
   "cell_type": "code",
   "execution_count": null,
   "metadata": {},
   "outputs": [],
   "source": [
    "f.get_array('kappa')[30] #this will print the ltc tensors"
   ]
  },
  {
   "cell_type": "code",
   "execution_count": null,
   "metadata": {},
   "outputs": [],
   "source": []
  },
  {
   "cell_type": "code",
   "execution_count": null,
   "metadata": {},
   "outputs": [],
   "source": []
  },
  {
   "cell_type": "markdown",
   "metadata": {},
   "source": [
    "# output to json file example"
   ]
  },
  {
   "cell_type": "code",
   "execution_count": 3,
   "metadata": {},
   "outputs": [],
   "source": [
    "import json\n",
    "data = {\n",
    "    'name': 'TiO2',\n",
    "    'ID': 'mp-100',\n",
    "    'ltc': [100,200]\n",
    "}\n",
    "json_str = json.dumps(data)"
   ]
  },
  {
   "cell_type": "code",
   "execution_count": 4,
   "metadata": {},
   "outputs": [
    {
     "data": {
      "text/plain": [
       "'{\"name\": \"TiO2\", \"ID\": \"mp-100\", \"ltc\": [100, 200]}'"
      ]
     },
     "execution_count": 4,
     "metadata": {},
     "output_type": "execute_result"
    }
   ],
   "source": [
    "json_str"
   ]
  },
  {
   "cell_type": "code",
   "execution_count": null,
   "metadata": {},
   "outputs": [],
   "source": [
    "70325"
   ]
  },
  {
   "cell_type": "code",
   "execution_count": null,
   "metadata": {},
   "outputs": [],
   "source": []
  },
  {
   "cell_type": "code",
   "execution_count": null,
   "metadata": {},
   "outputs": [],
   "source": []
  },
  {
   "cell_type": "markdown",
   "metadata": {},
   "source": [
    "# A practical example"
   ]
  },
  {
   "cell_type": "code",
   "execution_count": 2,
   "metadata": {},
   "outputs": [],
   "source": [
    "import json\n",
    "from pymatgen.matproj.rest import MPRester\n",
    "import os\n",
    "data = {}\n",
    "#structure_id is the ID of the structure in Materials Project\n",
    "\n",
    "\n",
    "raster = MPRester(os.environ['PMG_MAPI_KEY'])\n",
    "def basic_info_from_mp(structure_id):\n",
    "    material_name = raster.query(structure_id,['pretty_formula'])\n",
    "#    mg_structure = raster.get_structure_by_material_id(structure_id)\n",
    "#    material_name = mg_structure.formula.replace('1', '').replace(' ', '')\n",
    "    return(structure_id, material_name[0]['pretty_formula'])\n",
    "\n",
    "data['compound'] = []\n",
    "data['compound'].append({\n",
    "    'structure_id': 'mp-149',\n",
    "    'material_name': basic_info_from_mp('mp-149')[1]\n",
    "})\n",
    "\n",
    "with open('data.json', 'w') as outfile:\n",
    "    json.dump(data, outfile)"
   ]
  },
  {
   "cell_type": "code",
   "execution_count": 3,
   "metadata": {},
   "outputs": [
    {
     "name": "stdout",
     "output_type": "stream",
     "text": [
      "{\"compound\": [{\"structure_id\": \"mp-149\", \"material_name\": \"Si\"}]}"
     ]
    }
   ],
   "source": [
    "%cat data.json"
   ]
  },
  {
   "cell_type": "code",
   "execution_count": 37,
   "metadata": {},
   "outputs": [],
   "source": [
    "import json\n",
    "from pymatgen.matproj.rest import MPRester\n",
    "import os\n",
    "import pandas as pd\n",
    "\n",
    "data = {}\n",
    "#structure_id is the ID of the structure in Materials Project\n",
    "\n",
    "\n",
    "raster = MPRester(os.environ['PMG_MAPI_KEY'])\n",
    "def basic_info_from_mp(structure_id):\n",
    "    material_name = raster.query(structure_id,['pretty_formula'])\n",
    "    return(structure_id, material_name[0]['pretty_formula'])\n",
    "\n",
    "job_df = pd.read_csv('./finished_jobs.txt')\n",
    "structure_id_series = job_df['structure_id']\n",
    "data['compound'] = []\n",
    "for i in job_df['structure_id'].tolist():\n",
    "    data['compound'].append({\n",
    "        'structure_id': i,\n",
    "        'material_name': basic_info_from_mp(i)[1]\n",
    "    })\n",
    "\n",
    "    \n",
    "# structure_id_list = ['mp-149','mp-1000']\n",
    "# data['compound'] = []\n",
    "# for i in structure_id_list:\n",
    "#     data['compound'].append({\n",
    "#         'structure_id': i,\n",
    "#         'material_name': basic_info_from_mp(i)[1]\n",
    "#     })\n",
    "\n",
    "\n",
    "with open('data.json', 'w') as outfile:\n",
    "    json.dump(data, outfile)"
   ]
  },
  {
   "cell_type": "code",
   "execution_count": 38,
   "metadata": {},
   "outputs": [
    {
     "name": "stdout",
     "output_type": "stream",
     "text": [
      "{\"compound\": [{\"structure_id\": \"mp-149\", \"material_name\": \"Si\"}, {\"structure_id\": \"mp-463\", \"material_name\": \"KF\"}, {\"structure_id\": \"mp-286\", \"material_name\": \"YbSe\"}, {\"structure_id\": \"mp-830\", \"material_name\": \"GaN\"}, {\"structure_id\": \"mp-22862\", \"material_name\": \"NaCl\"}, {\"structure_id\": \"mp-1000\", \"material_name\": \"BaTe\"}, {\"structure_id\": \"mp-422\", \"material_name\": \"BeS\"}, {\"structure_id\": \"mp-252\", \"material_name\": \"BeTe\"}, {\"structure_id\": \"mp-971\", \"material_name\": \"K2O\"}, {\"structure_id\": \"mp-682\", \"material_name\": \"NaF\"}, {\"structure_id\": \"mp-1087\", \"material_name\": \"SrS\"}, {\"structure_id\": \"mp-2472\", \"material_name\": \"SrO\"}, {\"structure_id\": \"mp-2605\", \"material_name\": \"CaO\"}, {\"structure_id\": \"mp-7140\", \"material_name\": \"SiC\"}, {\"structure_id\": \"mp-981\", \"material_name\": \"SrF2\"}, {\"structure_id\": \"mp-1394\", \"material_name\": \"Rb2O\"}, {\"structure_id\": \"mp-1138\", \"material_name\": \"LiF\"}, {\"structure_id\": \"mp-23193\", \"material_name\": \"KCl\"}, {\"structure_id\": \"mp-1315\", \"material_name\": \"MgS\"}, {\"structure_id\": \"mp-1265\", \"material_name\": \"MgO\"}]}"
     ]
    }
   ],
   "source": []
  }
 ],
 "metadata": {
  "kernelspec": {
   "display_name": "Python 2",
   "language": "python",
   "name": "python2"
  },
  "language_info": {
   "codemirror_mode": {
    "name": "ipython",
    "version": 2
   },
   "file_extension": ".py",
   "mimetype": "text/x-python",
   "name": "python",
   "nbconvert_exporter": "python",
   "pygments_lexer": "ipython2",
   "version": "2.7.14"
  }
 },
 "nbformat": 4,
 "nbformat_minor": 2
}
